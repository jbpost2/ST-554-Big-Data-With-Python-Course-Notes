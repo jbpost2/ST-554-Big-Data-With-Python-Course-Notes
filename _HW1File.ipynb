{
  "cells": [
    {
      "cell_type": "markdown",
      "metadata": {
        "id": "view-in-github",
        "colab_type": "text"
      },
      "source": [
        "<a href=\"https://colab.research.google.com/github/jbpost2/ST-554-Big-Data-With-Python-Course-Notes/blob/main/HW1File.ipynb\" target=\"_parent\"><img src=\"https://colab.research.google.com/assets/colab-badge.svg\" alt=\"Open In Colab\"/></a>"
      ]
    },
    {
      "cell_type": "markdown",
      "id": "d1c1b9a8-1c38-4e07-b7de-809c0d7411e1",
      "metadata": {
        "id": "d1c1b9a8-1c38-4e07-b7de-809c0d7411e1"
      },
      "source": [
        "# About a Common `python` Module!\n",
        "\n",
        "## What is `NumPy`?\n",
        "`NumPy` is the fundamental package for scientific computing in Python. It is a Python library that provides a multidimensional array object, various derived objects (such as masked arrays and matrices), and an assortment of routines for fast operations on arrays, including mathematical, logical, shape manipulation, sorting, selecting, I/O, discrete Fourier transforms, basic linear algebra, basic statistical operations, random simulation and much more.\n",
        "\n",
        "At the core of the `NumPy` package, is the *ndarray* object. This encapsulates **n-dimensional arrays of homogeneous data types**, with many operations being performed in compiled code for performance. There are several important differences between `NumPy` arrays and the standard Python sequences:\n",
        "\n",
        "- `NumPy` arrays have a fixed size at creation, unlike Python lists (which can grow dynamically). Changing the size of an *ndarray* will create a new array and delete the original.\n",
        "- The elements in a `NumPy` array are all required to be of the same data type, and thus will be the same size in memory. The exception: one can have arrays of (Python, including `NumPy`) objects, thereby allowing for arrays of different sized elements.\n",
        "- `NumPy` arrays facilitate advanced mathematical and other types of operations on large numbers of data. Typically, such operations are executed more efficiently and with less code than is possible using Python’s built-in sequences.\n",
        "- A growing plethora of scientific and mathematical Python-based packages are using `NumPy` arrays; though these typically support Python-sequence input, they convert such input to `NumPy` arrays prior to processing, and they often output `NumPy` arrays. In other words, in order to efficiently use much (perhaps even most) of today’s scientific/mathematical Python-based software, just knowing how to use Python’s built-in sequence types is insufficient - one also needs to know how to use `NumPy` arrays.\n",
        "\n",
        "The points about sequence size and speed are particularly important in scientific computing. As a simple example, consider the case of multiplying each element in a 1-D sequence with the corresponding element in another sequence of the same length. If the data are stored in two Python lists, `a` and `b`, we could iterate over each element:"
      ]
    },
    {
      "cell_type": "code",
      "execution_count": null,
      "id": "307efdae-edf9-40c3-b0fc-b12aa46bb410",
      "metadata": {
        "colab": {
          "base_uri": "https://localhost:8080/"
        },
        "id": "307efdae-edf9-40c3-b0fc-b12aa46bb410",
        "outputId": "6779e14f-b353-430d-f305-04027e15ba7a"
      },
      "outputs": [
        {
          "output_type": "stream",
          "name": "stdout",
          "text": [
            "[0, 1, 4, 9, 16, 25, 36, 49, 64, 81]\n"
          ]
        }
      ],
      "source": [
        "a = b = [x for x in range(0,10)]\n",
        "c = []\n",
        "for i in range(len(a)):\n",
        "    c.append(a[i]*b[i])\n",
        "print(c)"
      ]
    },
    {
      "cell_type": "markdown",
      "id": "905d819a-e386-4cc0-b03f-343c056b1783",
      "metadata": {
        "id": "905d819a-e386-4cc0-b03f-343c056b1783"
      },
      "source": [
        "This produces the correct answer, but if `a` and `b` each contain millions of numbers, we will pay the price for the inefficiencies of looping in Python. We could accomplish the same task much more quickly in C by writing (for clarity we neglect variable declarations and initializations, memory allocation, etc.)"
      ]
    },
    {
      "cell_type": "markdown",
      "id": "4e526a94-32a1-451b-9e05-76dc2a7e3155",
      "metadata": {
        "id": "4e526a94-32a1-451b-9e05-76dc2a7e3155"
      },
      "source": [
        "This saves all the overhead involved in interpreting the Python code and manipulating Python objects, but at the expense of the benefits gained from coding in Python. Furthermore, the coding work required increases with the dimensionality of our data. In the case of a 2-D array, for example, the C code (abridged as before) expands to"
      ]
    },
    {
      "cell_type": "markdown",
      "id": "7ab2f1d6-75ef-4fd3-bdab-a44e461c64f5",
      "metadata": {
        "id": "7ab2f1d6-75ef-4fd3-bdab-a44e461c64f5"
      },
      "source": [
        "```\n",
        "for (i = 0; i < rows; i++): {\n",
        "  for (j = 0; j < columns; j++): {\n",
        "    c[i][j] = a[i][j]*b[i][j];\n",
        "  }\n",
        "}\n",
        "```"
      ]
    },
    {
      "cell_type": "markdown",
      "id": "f93c8603-68e1-4735-8679-3039ab373383",
      "metadata": {
        "id": "f93c8603-68e1-4735-8679-3039ab373383"
      },
      "source": [
        "`NumPy` gives us the best of both worlds: element-by-element operations are the “default mode” when an *ndarray* is involved, but the element-by-element operation is speedily executed by pre-compiled C code."
      ]
    },
    {
      "cell_type": "markdown",
      "id": "242e9012-bc79-4909-b9dd-25de879ee04e",
      "metadata": {
        "id": "242e9012-bc79-4909-b9dd-25de879ee04e"
      },
      "source": [
        "## Visualizing an Array\n",
        "\n",
        "We can visualize arrays as vectors, matrices, and their extension to higher dimensions.  The picture below from <https://predictivehacks.com/tips-about-numpy-arrays/> shows this visually.\n",
        "\n",
        "![](https://drive.google.com/uc?export=view&id=10NhJk2BlGhzcXdPCeWw2iKXO9NH5EMxj)\n"
      ]
    },
    {
      "cell_type": "markdown",
      "source": [
        "# Additional Section\n",
        "\n",
        "Let's create a list!"
      ],
      "metadata": {
        "id": "CI_nyHi3IFgJ"
      },
      "id": "CI_nyHi3IFgJ"
    },
    {
      "cell_type": "code",
      "source": [
        "listy = [x for x in range(1, 21)]"
      ],
      "metadata": {
        "id": "xbTxpcbIILmx"
      },
      "id": "xbTxpcbIILmx",
      "execution_count": 6,
      "outputs": []
    },
    {
      "cell_type": "markdown",
      "source": [
        "Now let's use a method to remove the number 10 from the list. Note: the `.remove()` method modifies in place!"
      ],
      "metadata": {
        "id": "e4BRaixlIONY"
      },
      "id": "e4BRaixlIONY"
    },
    {
      "cell_type": "code",
      "execution_count": 7,
      "id": "a65f482b-fc11-4102-8ee6-0fcd744cacef",
      "metadata": {
        "id": "a65f482b-fc11-4102-8ee6-0fcd744cacef",
        "colab": {
          "base_uri": "https://localhost:8080/"
        },
        "outputId": "61b2ad89-d673-4fef-ed54-0f03d9c4ca46"
      },
      "outputs": [
        {
          "output_type": "execute_result",
          "data": {
            "text/plain": [
              "[1, 2, 3, 4, 5, 6, 7, 8, 9, 11, 12, 13, 14, 15, 16, 17, 18, 19, 20]"
            ]
          },
          "metadata": {},
          "execution_count": 7
        }
      ],
      "source": [
        "listy.remove(10)\n",
        "listy"
      ]
    },
    {
      "cell_type": "markdown",
      "source": [
        "Now we can insert a value using the `.insert()` method. This also modifies in place."
      ],
      "metadata": {
        "id": "EvZzArVMIYwu"
      },
      "id": "EvZzArVMIYwu"
    },
    {
      "cell_type": "code",
      "source": [
        "listy.insert(0, \"threeve\")\n",
        "listy"
      ],
      "metadata": {
        "colab": {
          "base_uri": "https://localhost:8080/"
        },
        "id": "krVfngAmId2S",
        "outputId": "bae219dc-cea3-4d72-9543-1d6bde2b90dd"
      },
      "id": "krVfngAmId2S",
      "execution_count": 9,
      "outputs": [
        {
          "output_type": "execute_result",
          "data": {
            "text/plain": [
              "['threeve', 1, 2, 3, 4, 5, 6, 7, 8, 9, 11, 12, 13, 14, 15, 16, 17, 18, 19, 20]"
            ]
          },
          "metadata": {},
          "execution_count": 9
        }
      ]
    },
    {
      "cell_type": "markdown",
      "source": [
        "Lastly, let's repeat the `listy` object three times using augmented assignment."
      ],
      "metadata": {
        "id": "fsREgDiTImY6"
      },
      "id": "fsREgDiTImY6"
    },
    {
      "cell_type": "code",
      "source": [
        "listy *= 3\n",
        "listy"
      ],
      "metadata": {
        "colab": {
          "base_uri": "https://localhost:8080/"
        },
        "id": "OT3FprQu_e0S",
        "outputId": "137b954d-e369-4737-8596-2b313da3aaab"
      },
      "id": "OT3FprQu_e0S",
      "execution_count": 10,
      "outputs": [
        {
          "output_type": "execute_result",
          "data": {
            "text/plain": [
              "['threeve',\n",
              " 1,\n",
              " 2,\n",
              " 3,\n",
              " 4,\n",
              " 5,\n",
              " 6,\n",
              " 7,\n",
              " 8,\n",
              " 9,\n",
              " 11,\n",
              " 12,\n",
              " 13,\n",
              " 14,\n",
              " 15,\n",
              " 16,\n",
              " 17,\n",
              " 18,\n",
              " 19,\n",
              " 20,\n",
              " 'threeve',\n",
              " 1,\n",
              " 2,\n",
              " 3,\n",
              " 4,\n",
              " 5,\n",
              " 6,\n",
              " 7,\n",
              " 8,\n",
              " 9,\n",
              " 11,\n",
              " 12,\n",
              " 13,\n",
              " 14,\n",
              " 15,\n",
              " 16,\n",
              " 17,\n",
              " 18,\n",
              " 19,\n",
              " 20,\n",
              " 'threeve',\n",
              " 1,\n",
              " 2,\n",
              " 3,\n",
              " 4,\n",
              " 5,\n",
              " 6,\n",
              " 7,\n",
              " 8,\n",
              " 9,\n",
              " 11,\n",
              " 12,\n",
              " 13,\n",
              " 14,\n",
              " 15,\n",
              " 16,\n",
              " 17,\n",
              " 18,\n",
              " 19,\n",
              " 20]"
            ]
          },
          "metadata": {},
          "execution_count": 10
        }
      ]
    },
    {
      "cell_type": "code",
      "source": [],
      "metadata": {
        "id": "qeLeMtVPEvXU"
      },
      "id": "qeLeMtVPEvXU",
      "execution_count": null,
      "outputs": []
    }
  ],
  "metadata": {
    "kernelspec": {
      "display_name": "Python 3 (ipykernel)",
      "language": "python",
      "name": "python3"
    },
    "language_info": {
      "codemirror_mode": {
        "name": "ipython",
        "version": 3
      },
      "file_extension": ".py",
      "mimetype": "text/x-python",
      "name": "python",
      "nbconvert_exporter": "python",
      "pygments_lexer": "ipython3",
      "version": "3.10.8"
    },
    "colab": {
      "provenance": [],
      "include_colab_link": true
    }
  },
  "nbformat": 4,
  "nbformat_minor": 5
}