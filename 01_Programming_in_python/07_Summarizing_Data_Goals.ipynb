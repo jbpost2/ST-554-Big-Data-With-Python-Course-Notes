{
 "cells": [
  {
   "cell_type": "raw",
   "id": "61a8e68c",
   "metadata": {},
   "source": [
    "---\n",
    "title: \"Summarizing Data Goals\"\n",
    "author: \"Justin Post (Some notes modified from Dr. Eric Chi)\"\n",
    "output:\n",
    "  xaringan::moon_reader:\n",
    "    seal: false\n",
    "    lib_dir: libs\n",
    "    css: [default, \"css/ncsu.css\", \"css/ncsu-fonts.css\", \"css/mycss.css\"]\n",
    "    nature:\n",
    "      beforeInit: [\"js/ncsu-scale.js\"]\n",
    "      highlightStyle: github\n",
    "      highlightLines: true\n",
    "      countIncrementalSlides: false\n",
    "      ratio: \"16:9\"\n",
    "    includes:\n",
    "      in_header: \"partials/header.html\"\n",
    "editor_options: \n",
    "  chunk_output_type: console\n",
    "---"
   ]
  },
  {
   "cell_type": "code",
   "execution_count": null,
   "id": "7cf88940",
   "metadata": {
    "lines_to_next_cell": 2,
    "message": false,
    "tags": [
     "remove_cell"
    ],
    "warning": false
   },
   "outputs": [],
   "source": [
    "%%R\n",
    "options(htmltools.dir.version = FALSE)\n",
    "knitr::opts_chunk$set(\n",
    "  message = FALSE,\n",
    "  warning = FALSE,\n",
    "  dev = \"svg\",\n",
    "  fig.align = \"center\",\n",
    "  #fig.width = 11,\n",
    "  #fig.height = 5\n",
    "  cache = TRUE\n",
    ")\n",
    "\n",
    "# define vars\n",
    "om = par(\"mar\")\n",
    "lowtop = c(om[1],om[2],0.1,om[4])\n",
    "library(tidyverse)\n",
    "library(knitr)\n",
    "library(reticulate)\n",
    "use_python(\"C:\\\\Users\\\\jbpost2\\\\AppData\\\\Local\\\\Programs\\\\Python\\\\Python310\\\\python.exe\")\n",
    "#use_python(\"C:\\\\python\\\\python.exe\")\n",
    "options(dplyr.print_min = 5)\n",
    "options(reticulate.repl.quiet = TRUE)"
   ]
  },
  {
   "cell_type": "markdown",
   "id": "a299a5c5",
   "metadata": {},
   "source": [
    "layout: false\n",
    "class: title-slide-section-red, middle"
   ]
  },
  {
   "cell_type": "markdown",
   "id": "8c9fd95d",
   "metadata": {},
   "source": [
    "# Summarizing Data Goals\n",
    "Justin Post\n",
    "\n",
    "---\n",
    "layout: true\n",
    "\n",
    "<div class=\"my-footer\"><img src=\"img/logo.png\" style=\"height: 60px;\"/></div> "
   ]
  },
  {
   "cell_type": "markdown",
   "id": "8f0c325c",
   "metadata": {},
   "source": [
    "---\n",
    "\n",
    "# Course Plan\n",
    "\n",
    "- Course split into four topics\n",
    "\n",
    "    1. Programming in `python`\n",
    "\n",
    "    2. Big Data Management\n",
    "\n",
    "    3. Modeling Big Data (with `Spark` via `pyspark`)\n",
    "\n",
    "    4. Streaming Data\n",
    "\n",
    "\n",
    "---\n",
    "\n",
    "# Programming in Python (Prep for Dealing with Big Data)\n",
    "\n",
    "- `JupyterLab` as our IDE (interactive development environment)\n",
    "- Basic Use of Python\n",
    "- Markdown capabilities\n",
    "- Python Modules\n",
    "\n",
    "<br>\n",
    "\n",
    "- Summarizing Data Ideas\n",
    "- Basic data types & Writing Functions\n",
    "- Control flow (if/then/else, Looping)\n",
    "\n",
    "<br>\n",
    "\n",
    "- Compound data types (including `Numpy` arrays, `pandas` data frames)\n",
    "- Summarizing data\n",
    "- Common models and model evaluation"
   ]
  },
  {
   "cell_type": "markdown",
   "id": "38677d4b",
   "metadata": {},
   "source": [
    "---\n",
    "\n",
    "# Uses for Data\n",
    "\n",
    "Four major goals with data:\n",
    "1. Description\n",
    "2. Inference\n",
    "3. Prediction/Classification\n",
    "4. Pattern Finding\n",
    "\n",
    "- **Descriptive Statistics** try to summarize the distribution of the variable\n",
    "\n",
    "- Supervised Learning methods try to relate predictors to a response variable through a model\n",
    "    - Some models used for inference and prediction/classification\n",
    "    - Some used just for prediction/classification\n"
   ]
  },
  {
   "cell_type": "markdown",
   "id": "83101281",
   "metadata": {},
   "source": [
    "---\n",
    "\n",
    "# Making Sense of Data  \n",
    "\n",
    "Goal: Understand types of data and their distributions  \n",
    "\n",
    "- Numerical summaries  "
   ]
  },
  {
   "cell_type": "code",
   "execution_count": null,
   "id": "4946a5b0",
   "metadata": {
    "fig.align": "center",
    "lines_to_next_cell": 2,
    "out.width": "260px",
    "tags": [
     "remove_input"
    ]
   },
   "outputs": [],
   "source": [
    "%%R\n",
    "knitr::include_graphics(\"img/summarizeAllF.png\")"
   ]
  },
  {
   "cell_type": "markdown",
   "id": "37257ed7",
   "metadata": {},
   "source": [
    "---\n",
    "\n",
    "# Making Sense of Data  \n",
    "\n",
    "Goal: Understand types of data and their distributions  \n",
    "\n",
    "- Numerical summaries (across subgroups)  "
   ]
  },
  {
   "cell_type": "code",
   "execution_count": null,
   "id": "064758e5",
   "metadata": {
    "fig.align": "center",
    "out.width": "295px",
    "tags": [
     "remove_input"
    ]
   },
   "outputs": [],
   "source": [
    "%%R\n",
    "knitr::include_graphics(\"img/summarizeGroupsF.png\")"
   ]
  },
  {
   "cell_type": "markdown",
   "id": "0aad9388",
   "metadata": {
    "lines_to_next_cell": 0
   },
   "source": [
    "---\n",
    "\n",
    "# Types of Data\n",
    "\n",
    "- How to summarize data depends on the type of data  \n",
    "\n",
    "    + Categorical (Qualitative) variable - entries are a label or attribute   \n",
    "    + Numeric (Quantitative) variable - entries are a numerical value where math can be performed\n",
    "\n"
   ]
  },
  {
   "cell_type": "code",
   "execution_count": null,
   "id": "498201a3",
   "metadata": {
    "fig.align": "center",
    "lines_to_next_cell": 2,
    "out.width": "500px",
    "tags": [
     "remove_input"
    ]
   },
   "outputs": [],
   "source": [
    "%%R\n",
    "knitr::include_graphics(\"img/variableTypes.png\")"
   ]
  },
  {
   "cell_type": "markdown",
   "id": "8c6bb418",
   "metadata": {},
   "source": [
    "---\n",
    "\n",
    "# Making Sense of Data  \n",
    "\n",
    "Goal: Understand types of data and their distributions  \n",
    "\n",
    "- Numerical summaries (across subgroups)  \n",
    "\n",
    "    + Contingency Tables  \n",
    "    + Mean/Median  \n",
    "    + Standard Deviation/Variance/IQR\n",
    "    + Quantiles/Percentiles\n",
    "    \n",
    "\n",
    "---\n",
    "\n",
    "# Categorical Data\n",
    "\n",
    "Goal: Describe the **distribution** of the variable  \n",
    "\n",
    "- Distribution = pattern and frequency with which you observe a variable  \n",
    "\n",
    "- Categorical variable - entries are a label or attribute   \n",
    "\n",
    "--\n",
    "\n",
    "    + Describe the relative frequency (or count) for each category\n",
    "\n",
    "    + Called a **contingency table**\n",
    "\n",
    "---\n",
    "\n",
    "# Read in Data\n",
    "\n",
    "Read in some data"
   ]
  },
  {
   "cell_type": "code",
   "execution_count": null,
   "id": "9c0579f1",
   "metadata": {
    "lines_to_next_cell": 2
   },
   "outputs": [],
   "source": [
    "import pandas as pd\n",
    "wine_data = pd.read_csv(\"https://www4.stat.ncsu.edu/~online/datasets/winequality-full.csv\")\n",
    "wine_data.head()"
   ]
  },
  {
   "cell_type": "markdown",
   "id": "b2b37ce3",
   "metadata": {},
   "source": [
    "---\n",
    "\n",
    "# Categorical Variable Summary - One-way Table\n",
    "\n",
    "- Count the \\# of times each category of **one** variable appears!"
   ]
  },
  {
   "cell_type": "code",
   "execution_count": null,
   "id": "b2e68849",
   "metadata": {
    "lines_to_next_cell": 2
   },
   "outputs": [],
   "source": [
    "#hacky way to do this\n",
    "pd.crosstab(wine_data.quality,columns = [\"freq\" for _ in range(len(wine_data.quality))])"
   ]
  },
  {
   "cell_type": "markdown",
   "id": "00880a6a",
   "metadata": {},
   "source": [
    "--"
   ]
  },
  {
   "cell_type": "code",
   "execution_count": null,
   "id": "4129050d",
   "metadata": {
    "lines_to_next_cell": 0
   },
   "outputs": [],
   "source": [
    "#hacky way to do this\n",
    "pd.crosstab(wine_data.type,columns = [\"freq\" for _ in range(len(wine_data.quality))])"
   ]
  },
  {
   "cell_type": "markdown",
   "id": "bde2e0f0",
   "metadata": {},
   "source": []
  },
  {
   "cell_type": "markdown",
   "id": "ffc95c96",
   "metadata": {},
   "source": [
    "---\n",
    "\n",
    "# Categorical Variable Summary - One-way Table\n",
    "\n",
    "- Count the \\# of times each category of **one** variable appears!\n",
    "\n",
    "- Easy! Create counters and **loop** through observations"
   ]
  },
  {
   "cell_type": "code",
   "execution_count": null,
   "id": "e3912267",
   "metadata": {
    "lines_to_next_cell": 2
   },
   "outputs": [],
   "source": [
    "wine_data.head()"
   ]
  },
  {
   "cell_type": "markdown",
   "id": "14930e88",
   "metadata": {},
   "source": [
    "---\n",
    "\n",
    "# Categorical Variable Summary - Two-way Table\n",
    "\n",
    "- Count the \\# of times each **combination** of categories for *two* variables appear!"
   ]
  },
  {
   "cell_type": "code",
   "execution_count": null,
   "id": "7eab4266",
   "metadata": {},
   "outputs": [],
   "source": [
    "#hacky way to do this\n",
    "pd.crosstab(wine_data.quality, wine_data.type)"
   ]
  },
  {
   "cell_type": "markdown",
   "id": "eb9ecd4e",
   "metadata": {},
   "source": [
    "--\n",
    "\n",
    "- Same idea: Create counters and **loop** through observations\n",
    "    "
   ]
  },
  {
   "cell_type": "markdown",
   "id": "9d9148ea",
   "metadata": {},
   "source": [
    "---"
   ]
  },
  {
   "cell_type": "markdown",
   "id": "57548545",
   "metadata": {},
   "source": [
    "# Numeric Data\n",
    "\n",
    "Goal: Describe the **distribution** of the variable  \n",
    "\n",
    "- Distribution = pattern and frequency with which you observe a variable  \n",
    "\n",
    "- Numeric variable - entries are a numerical value where math can be performed\n",
    "\n",
    "--\n",
    "\n",
    "For a single numeric variable, describe the distribution via \n",
    "\n",
    "+ Shape: Histogram, Density plot, ...\n",
    "\n",
    "+ Measures of center: Mean, Median, ...\n",
    "\n",
    "+ Measures of spread: Variance, Standard Deviation, Quartiles, IQR, ...\n",
    "\n",
    "--\n",
    "\n",
    "For two numeric variables, describe the distribution via \n",
    "\n",
    "+ Shape: Scatter plot; Measures of linear relationship: Covariance, Correlation"
   ]
  },
  {
   "cell_type": "markdown",
   "id": "54a71c95",
   "metadata": {},
   "source": [
    "---\n",
    "\n",
    "# Numerical Variable Location Summary - Mean\n",
    "\n",
    "- Sample mean: for a variable in our data set (call it $y$)\n",
    "\n",
    "$$\\bar{y} = \\frac{1}{n}\\sum_{i=1}^{n}y_i$$\n",
    "\n",
    "--\n",
    "\n",
    "- Idea: Loop through and sum up values, then divide by \\# of values"
   ]
  },
  {
   "cell_type": "markdown",
   "id": "01d14ddc",
   "metadata": {},
   "source": [
    "---\n",
    "\n",
    "# Numerical Variable Location Summary - Mean"
   ]
  },
  {
   "cell_type": "code",
   "execution_count": null,
   "id": "bcdcc183",
   "metadata": {
    "lines_to_next_cell": 0
   },
   "outputs": [],
   "source": [
    "wine_data.head()\n",
    "wine_data.loc[0:4].alcohol.mean()"
   ]
  },
  {
   "cell_type": "markdown",
   "id": "faeb70c6",
   "metadata": {},
   "source": []
  },
  {
   "cell_type": "markdown",
   "id": "061840ba",
   "metadata": {
    "lines_to_next_cell": 0
   },
   "source": [
    "---\n",
    "\n",
    "# Numerical Variable Location Summary - Trimmed Mean\n",
    "\n",
    "- Sample mean\n",
    "\n",
    "    + Outlier values greatly affect the mean\n",
    "    \n",
    ".left50[ "
   ]
  },
  {
   "cell_type": "code",
   "execution_count": null,
   "id": "ecfb06ed",
   "metadata": {
    "lines_to_next_cell": 0
   },
   "outputs": [],
   "source": [
    "(1+2+3+4+5+6+7+8+9+100)/10"
   ]
  },
  {
   "cell_type": "markdown",
   "id": "120dcb16",
   "metadata": {
    "lines_to_next_cell": 0
   },
   "source": [
    "]\n",
    "\n",
    ".right50["
   ]
  },
  {
   "cell_type": "code",
   "execution_count": null,
   "id": "87a65351",
   "metadata": {
    "lines_to_next_cell": 0
   },
   "outputs": [],
   "source": [
    "(1+2+3+4+5+6+7+8+9+10)/10"
   ]
  },
  {
   "cell_type": "markdown",
   "id": "6d8b3f8d",
   "metadata": {},
   "source": [
    "]"
   ]
  },
  {
   "cell_type": "markdown",
   "id": "0f3b5dd2",
   "metadata": {},
   "source": [
    "<br>\n",
    "<br>\n",
    "\n",
    "--\n",
    "\n",
    "- x% **trimmed mean** \n",
    "    + Sort the data\n",
    "    + Remove bottom x% and top x% of data\n",
    "    + Find sample mean on remaining values\n",
    "\n",
    "--"
   ]
  },
  {
   "cell_type": "code",
   "execution_count": null,
   "id": "88701d0d",
   "metadata": {
    "lines_to_next_cell": 2
   },
   "outputs": [],
   "source": [
    "#10% trimmed mean of 1, 2, 3, 4, 5, 6, 7, 8, 9, 100 and 1, 2, 3, 4, 5, 6, 7, 8, 9, 10\n",
    "(2+3+4+5+6+7+8+9)/8"
   ]
  },
  {
   "cell_type": "markdown",
   "id": "252e4b41",
   "metadata": {},
   "source": [
    "---\n",
    "\n",
    "# Numerical Variable Location Summary - Median\n",
    "\n",
    "- Sample median \n",
    "    + Sort values\n",
    "    + Value with 50% of data below and above is the median\n",
    "\n",
    "--\n"
   ]
  },
  {
   "cell_type": "code",
   "execution_count": null,
   "id": "cd21af25",
   "metadata": {},
   "outputs": [],
   "source": [
    "wine_data.head()"
   ]
  },
  {
   "cell_type": "markdown",
   "id": "1a0e340c",
   "metadata": {
    "lines_to_next_cell": 0
   },
   "source": [
    ".left45["
   ]
  },
  {
   "cell_type": "code",
   "execution_count": null,
   "id": "b1fad3b6",
   "metadata": {
    "lines_to_next_cell": 0
   },
   "outputs": [],
   "source": [
    "wine_data.loc[0:4].alcohol.median()"
   ]
  },
  {
   "cell_type": "markdown",
   "id": "0e9bae1c",
   "metadata": {
    "lines_to_next_cell": 0
   },
   "source": [
    "]\n",
    "\n",
    ".right45["
   ]
  },
  {
   "cell_type": "code",
   "execution_count": null,
   "id": "0a008a31",
   "metadata": {
    "lines_to_next_cell": 0
   },
   "outputs": [],
   "source": [
    "wine_data.loc[0:4, [\"fixed acidity\"]].median()"
   ]
  },
  {
   "cell_type": "markdown",
   "id": "f772eb97",
   "metadata": {},
   "source": [
    "]"
   ]
  },
  {
   "cell_type": "markdown",
   "id": "859540e9",
   "metadata": {},
   "source": [
    "---\n",
    "\n",
    "# Numerical Variable Location Summary - Median\n",
    "\n",
    "- Sample median \n",
    "    + Sort values\n",
    "    + Value with 50% of data below and above is the median\n",
    "\n",
    "- If even number of observations, average middle two values"
   ]
  },
  {
   "cell_type": "code",
   "execution_count": null,
   "id": "adcd6807",
   "metadata": {},
   "outputs": [],
   "source": [
    "wine_data.head(n = 6)"
   ]
  },
  {
   "cell_type": "markdown",
   "id": "927116fe",
   "metadata": {
    "lines_to_next_cell": 0
   },
   "source": [
    ".left45["
   ]
  },
  {
   "cell_type": "code",
   "execution_count": null,
   "id": "5fccb0cf",
   "metadata": {
    "lines_to_next_cell": 0
   },
   "outputs": [],
   "source": [
    "wine_data.loc[0:5].alcohol.median()"
   ]
  },
  {
   "cell_type": "markdown",
   "id": "057e1326",
   "metadata": {
    "lines_to_next_cell": 0
   },
   "source": [
    "]\n",
    ".right45["
   ]
  },
  {
   "cell_type": "code",
   "execution_count": null,
   "id": "72519e5a",
   "metadata": {
    "lines_to_next_cell": 0
   },
   "outputs": [],
   "source": [
    "wine_data.loc[0:5, \"fixed acidity\"].median()"
   ]
  },
  {
   "cell_type": "markdown",
   "id": "ebef7f57",
   "metadata": {},
   "source": [
    "]\n",
    "\n",
    "---\n",
    "\n",
    "# Numerical Variable Spread Summary - Variance\n",
    "\n",
    "- Sample variance is *almost* the average squared deviation from the mean\n",
    "    \n",
    "$$S^2 = \\frac{1}{n-1}\\sum_{i=1}^{n}(y_i-\\bar{y})^2$$\n",
    "\n",
    "--"
   ]
  },
  {
   "cell_type": "code",
   "execution_count": null,
   "id": "cbd1d715",
   "metadata": {},
   "outputs": [],
   "source": [
    "wine_data.head()"
   ]
  },
  {
   "cell_type": "markdown",
   "id": "cdda8e54",
   "metadata": {
    "lines_to_next_cell": 0
   },
   "source": [
    ".left45["
   ]
  },
  {
   "cell_type": "code",
   "execution_count": null,
   "id": "d3180562",
   "metadata": {
    "lines_to_next_cell": 0
   },
   "outputs": [],
   "source": [
    "wine_data.loc[0:4].alcohol.mean()"
   ]
  },
  {
   "cell_type": "markdown",
   "id": "49beb3bd",
   "metadata": {
    "lines_to_next_cell": 0
   },
   "source": [
    "]\n",
    "\n",
    ".right45["
   ]
  },
  {
   "cell_type": "code",
   "execution_count": null,
   "id": "34ca4f03",
   "metadata": {
    "lines_to_next_cell": 0
   },
   "outputs": [],
   "source": [
    "wine_data.loc[0:4].alcohol.var()"
   ]
  },
  {
   "cell_type": "markdown",
   "id": "6f5b6a20",
   "metadata": {},
   "source": [
    "]"
   ]
  },
  {
   "cell_type": "markdown",
   "id": "8ed721cd",
   "metadata": {},
   "source": [
    "---\n",
    "\n",
    "# Numerical Variable Spread Summary - Standard Deviation\n",
    "\n",
    "- Sample Standard Deviation = square root of sample variance\n",
    "\n",
    "    + Puts metric on the scale of the variable \n",
    "    \n",
    "\n",
    "--"
   ]
  },
  {
   "cell_type": "code",
   "execution_count": null,
   "id": "55e8dc3d",
   "metadata": {
    "lines_to_next_cell": 0
   },
   "outputs": [],
   "source": [
    "wine_data.head()\n",
    "wine_data.loc[0:4].alcohol.var()\n",
    "wine_data.loc[0:4].alcohol.std()"
   ]
  },
  {
   "cell_type": "markdown",
   "id": "1b927d84",
   "metadata": {},
   "source": []
  },
  {
   "cell_type": "markdown",
   "id": "1ebca5e4",
   "metadata": {},
   "source": [
    "---\n",
    "\n",
    "# Numerical Variable Spread Summary - Quantiles/Percentiles\n",
    "\n",
    "- Sample quantile - a generalization of the median\n",
    "\n",
    "    + $p^{th}$ quantile - value with p% of the values below it\n",
    "    + Also called the 100*p%ile\n",
    "\n",
    "--"
   ]
  },
  {
   "cell_type": "code",
   "execution_count": null,
   "id": "cda60b29",
   "metadata": {
    "lines_to_next_cell": 2
   },
   "outputs": [],
   "source": [
    "wine_data.head()\n",
    "wine_data.loc[0:4].alcohol.quantile(q = [0.25, 0.5, 0.75])"
   ]
  },
  {
   "cell_type": "markdown",
   "id": "baa199a9",
   "metadata": {},
   "source": [
    "---\n",
    "\n",
    "# Numerical Variable Spread Summary - Quantiles/Percentiles"
   ]
  },
  {
   "cell_type": "code",
   "execution_count": null,
   "id": "f1ee1da5",
   "metadata": {
    "lines_to_next_cell": 2
   },
   "outputs": [],
   "source": [
    "wine_data.head()"
   ]
  },
  {
   "cell_type": "code",
   "execution_count": null,
   "id": "d4af06c2",
   "metadata": {
    "lines_to_next_cell": 0
   },
   "outputs": [],
   "source": [
    "wine_data.loc[0:4, \"volatile acidity\"].quantile(q = [0.75, 0.9])\n",
    "wine_data.loc[0:4, \"volatile acidity\"].quantile(q = [0.75, 0.9], interpolation = \"midpoint\")"
   ]
  },
  {
   "cell_type": "markdown",
   "id": "411fadf9",
   "metadata": {},
   "source": []
  },
  {
   "cell_type": "markdown",
   "id": "4f3c7536",
   "metadata": {},
   "source": [
    "---\n",
    "\n",
    "# Numerical Variable Relationship Summary - Correlation\n",
    "\n",
    "- Sample correlation - a measure of the **linear** relationship between two variables\n",
    "\n",
    "    + Call the variables $x$ and $y$\n",
    "    + $(x_i, y_i)$ are numeric variables observed on the same $n$ units, $i=1,...,n$\n",
    "    + Pearson's correlation coefficient: \n",
    "\n",
    "$$r = \\frac{\\sum_{i=1}^{n}(x_i-\\bar{x})(y_i-\\bar{y})}{\\sqrt{\\sum_{i=1}^n(x_i-\\bar{x})^2\\sum_{i=1}^{n}(y_i-\\bar{y})^2}}$$\n",
    "\n",
    "---\n",
    "\n",
    "# Numerical Variable Relationship Summary - Correlation\n",
    "\n",
    "- Sample correlation - a measure of the **linear** relationship between two variables"
   ]
  },
  {
   "cell_type": "code",
   "execution_count": null,
   "id": "cc741184",
   "metadata": {},
   "outputs": [],
   "source": [
    "wine_data.head()\n",
    "wine_data.loc[0:4, [\"fixed acidity\", \"alcohol\"]].corr()"
   ]
  },
  {
   "cell_type": "markdown",
   "id": "8298a0ee",
   "metadata": {
    "lines_to_next_cell": 0
   },
   "source": [
    "--\n",
    "\n",
    ".right75[\n",
    "- Idea more involved:\n",
    "    - Find sample means for $x$ and $y$\n",
    "    - Compute numerator sum\n",
    "    - Compute denominator sums\n",
    "    - Find quotient\n",
    "]\n",
    "\n",
    "---\n",
    "\n",
    "# Numerical Variable Relationship Summary - Correlation\n",
    "\n",
    "- Sample correlation - a measure of the **linear** relationship between two variables\n",
    "\n",
    "    + Sensitive to outliers\n",
    "    + Spearman's correlation coefficient simply uses Pearson's correlation on the ranks of the data!\n"
   ]
  },
  {
   "cell_type": "code",
   "execution_count": null,
   "id": "773a6bc1",
   "metadata": {
    "lines_to_next_cell": 2
   },
   "outputs": [],
   "source": [
    "wine_data.head()"
   ]
  },
  {
   "cell_type": "markdown",
   "id": "7c6224f6",
   "metadata": {},
   "source": [
    "---\n",
    "\n",
    "# Recap\n",
    "\n",
    "Goal: Understand types of data and their distributions  \n",
    "\n",
    "- Numerical summaries (across subgroups)  \n",
    "\n",
    "    + Contingency Tables  \n",
    "    + Mean/Median  \n",
    "    + Standard Deviation/Variance/IQR\n",
    "    + Quantiles/Percentiles\n",
    "    \n",
    "\n",
    "- Usually want summaries for different **subgroups of data**!!"
   ]
  }
 ],
 "metadata": {
  "jupytext": {
   "cell_metadata_filter": "out.width,fig.align,tags,warning,message,-all",
   "main_language": "python",
   "notebook_metadata_filter": "-all"
  }
 },
 "nbformat": 4,
 "nbformat_minor": 5
}
