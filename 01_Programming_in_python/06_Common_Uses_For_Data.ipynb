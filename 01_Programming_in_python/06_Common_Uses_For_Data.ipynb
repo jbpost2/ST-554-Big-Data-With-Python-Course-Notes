{
 "cells": [
  {
   "cell_type": "raw",
   "id": "113ed246",
   "metadata": {},
   "source": [
    "---\n",
    "title: \"Common Uses for Data\"\n",
    "author: \"Justin Post\"\n",
    "output:\n",
    "  xaringan::moon_reader:\n",
    "    seal: false\n",
    "    lib_dir: libs\n",
    "    css: [default, \"css/ncsu.css\", \"css/ncsu-fonts.css\", \"css/mycss.css\"]\n",
    "    nature:\n",
    "      beforeInit: [\"js/ncsu-scale.js\"]\n",
    "      highlightStyle: github\n",
    "      highlightLines: true\n",
    "      countIncrementalSlides: false\n",
    "      ratio: \"16:9\"\n",
    "    includes:\n",
    "      in_header: \"partials/header.html\"\n",
    "editor_options: \n",
    "  chunk_output_type: console\n",
    "---"
   ]
  },
  {
   "cell_type": "code",
   "execution_count": null,
   "id": "a9a2ae27",
   "metadata": {
    "lines_to_next_cell": 2,
    "message": false,
    "tags": [
     "remove_cell"
    ],
    "warning": false
   },
   "outputs": [],
   "source": [
    "%%R\n",
    "options(htmltools.dir.version = FALSE)\n",
    "knitr::opts_chunk$set(\n",
    "  message = FALSE,\n",
    "  warning = FALSE,\n",
    "  dev = \"svg\",\n",
    "  fig.align = \"center\",\n",
    "  #fig.width = 11,\n",
    "  #fig.height = 5\n",
    "  cache = TRUE\n",
    ")\n",
    "\n",
    "# define vars\n",
    "om = par(\"mar\")\n",
    "lowtop = c(om[1],om[2],0.1,om[4])\n",
    "library(tidyverse)\n",
    "library(knitr)\n",
    "library(reticulate)\n",
    "use_python(\"C:\\\\Users\\\\jbpost2\\\\AppData\\\\Local\\\\Programs\\\\Python\\\\Python310\\\\python.exe\")\n",
    "#use_python(\"C:\\\\python\\\\python.exe\")\n",
    "options(dplyr.print_min = 5)\n",
    "options(reticulate.repl.quiet = TRUE)"
   ]
  },
  {
   "cell_type": "markdown",
   "id": "c61bbf13",
   "metadata": {
    "lines_to_next_cell": 0
   },
   "source": [
    "layout: false\n",
    "class: title-slide-section-red, middle\n",
    "\n",
    "# Common Uses for Data\n",
    "\n",
    "Justin Post\n",
    "\n",
    "---\n",
    "layout: true\n",
    "\n",
    "<div class=\"my-footer\"><img src=\"img/logo.png\" style=\"height: 60px;\"/></div> \n",
    "\n",
    "---\n",
    "\n",
    "# Big Picture\n",
    "\n",
    ".left45[\n",
    "- 5 V's of Big Data\n",
    "    + Volume\n",
    "    + Variety\n",
    "    + Velocity\n",
    "    + Veracity (Variability)\n",
    "    + Value\n",
    "\n",
    "- Will look at the Big Data pipeline later\n",
    "    + Databases/Data Lakes/Data Warehouses/etc.\n",
    "    + SQL basics\n",
    "    + Hadoop & Spark\n",
    "]\n",
    "\n",
    ".right50["
   ]
  },
  {
   "cell_type": "code",
   "execution_count": null,
   "id": "6437a144",
   "metadata": {
    "lines_to_next_cell": 0,
    "out.width": "370px",
    "tags": [
     "remove_input"
    ]
   },
   "outputs": [],
   "source": [
    "%%R\n",
    "knitr::include_graphics(\"img/big-data-characteristics.png\")"
   ]
  },
  {
   "cell_type": "markdown",
   "id": "db778e69",
   "metadata": {},
   "source": [
    "]\n",
    "\n",
    "--\n",
    "\n",
    "- **What to do with the data?**"
   ]
  },
  {
   "cell_type": "markdown",
   "id": "8b2c5b4c",
   "metadata": {},
   "source": [
    "---\n",
    "\n",
    "# Standard Rectangular Data"
   ]
  },
  {
   "cell_type": "code",
   "execution_count": null,
   "id": "9abf54f2",
   "metadata": {
    "fig.align": "center",
    "out.width": "850px",
    "tags": [
     "remove_input"
    ]
   },
   "outputs": [],
   "source": [
    "%%R\n",
    "knitr::include_graphics('img/rectangular_data.png')"
   ]
  },
  {
   "cell_type": "markdown",
   "id": "8ac1ec5a",
   "metadata": {
    "lines_to_next_cell": 0
   },
   "source": [
    "---\n",
    "\n",
    "# Data Driven Goals\n",
    "\n",
    "Four major goals when using data:  \n",
    "\n",
    "1. Description \n",
    "\n",
    "<div style=\"float: left; width: 45%;\">"
   ]
  },
  {
   "cell_type": "code",
   "execution_count": null,
   "id": "4475b295",
   "metadata": {
    "fig.align": "center",
    "lines_to_next_cell": 0,
    "out.width": "270px",
    "tags": [
     "remove_input"
    ]
   },
   "outputs": [],
   "source": [
    "%%R\n",
    "knitr::include_graphics('img/summary_stats.png')"
   ]
  },
  {
   "cell_type": "markdown",
   "id": "b6f3fae0",
   "metadata": {
    "lines_to_next_cell": 0
   },
   "source": [
    "</div>\n",
    "<div style=\"float: right; width: 45%;\">"
   ]
  },
  {
   "cell_type": "code",
   "execution_count": null,
   "id": "4b937dca",
   "metadata": {
    "fig.align": "center",
    "lines_to_next_cell": 0,
    "out.width": "500px",
    "tags": [
     "remove_input"
    ]
   },
   "outputs": [],
   "source": [
    "%%R\n",
    "knitr::include_graphics('img/graph.png')"
   ]
  },
  {
   "cell_type": "markdown",
   "id": "db74ef89",
   "metadata": {},
   "source": [
    "</div>\n",
    "<!--comment-->"
   ]
  },
  {
   "cell_type": "markdown",
   "id": "48f96b98",
   "metadata": {},
   "source": [
    "---\n",
    "\n",
    "# Data Driven Goals\n",
    "\n",
    "Four major goals when using data:  \n",
    "\n",
    "<ol start = \"2\">\n",
    "<li> Inference</li>\n",
    "</ol>\n"
   ]
  },
  {
   "cell_type": "markdown",
   "id": "a402722c",
   "metadata": {
    "lines_to_next_cell": 0
   },
   "source": [
    "---\n",
    "\n",
    "# Data Driven Goals\n",
    "\n",
    "Four major goals when using data:  \n",
    "\n",
    "<ol start = \"3\">\n",
    "<li> Prediction/Classification</li>\n",
    "</ol>\n",
    "\n",
    "<div style=\"float: left; width: 45%;\">"
   ]
  },
  {
   "cell_type": "code",
   "execution_count": null,
   "id": "b6423676",
   "metadata": {
    "fig.align": "center",
    "lines_to_next_cell": 0,
    "out.width": "600px",
    "tags": [
     "remove_input"
    ]
   },
   "outputs": [],
   "source": [
    "%%R\n",
    "knitr::include_graphics('img/slr.png')"
   ]
  },
  {
   "cell_type": "markdown",
   "id": "c8b0cb13",
   "metadata": {
    "lines_to_next_cell": 0
   },
   "source": [
    "</div>\n",
    "<div style=\"float: left; width: 45%;\">"
   ]
  },
  {
   "cell_type": "code",
   "execution_count": null,
   "id": "d90b6163",
   "metadata": {
    "fig.align": "center",
    "lines_to_next_cell": 0,
    "out.width": "600px",
    "tags": [
     "remove_input"
    ]
   },
   "outputs": [],
   "source": [
    "%%R\n",
    "knitr::include_graphics('img/tree.png')"
   ]
  },
  {
   "cell_type": "markdown",
   "id": "047f1097",
   "metadata": {},
   "source": [
    "</div>"
   ]
  },
  {
   "cell_type": "markdown",
   "id": "7df447af",
   "metadata": {},
   "source": [
    "---\n",
    "\n",
    "# Data Driven Goals\n",
    "\n",
    "Four major goals when using data:  \n",
    "\n",
    "<ol start = \"4\">\n",
    "<li> Pattern Finding</li>\n",
    "</ol>"
   ]
  },
  {
   "cell_type": "code",
   "execution_count": null,
   "id": "de79afd5",
   "metadata": {
    "fig.align": "center",
    "lines_to_next_cell": 2,
    "out.width": "650px",
    "tags": [
     "remove_input"
    ]
   },
   "outputs": [],
   "source": [
    "%%R\n",
    "knitr::include_graphics('img/clustering.png')"
   ]
  },
  {
   "cell_type": "markdown",
   "id": "6ad682d1",
   "metadata": {},
   "source": [
    "---\n",
    "\n",
    "# Statistical Learning\n",
    "\n",
    "**Statistical learning** - Inference, prediction/classification, and pattern finding\n",
    "\n",
    "- Supervised learning - a variable (or variables) represents an **output** or **response** of interest\n",
    "\n",
    "--\n",
    "\n",
    "    + May model response and\n",
    "        - Make **inference** on the model parameters  \n",
    "        - **predict** a value or **classify** an observation\n",
    "\n",
    "--\n",
    "\n",
    "- Unsupervised learning - **No output or response variable** to shoot for  \n",
    "\n",
    "    + Goal - learn about patterns and relationships in the data\n",
    "\n",
    "\n",
    "---\n",
    "\n",
    "# 1. Describing Data\n",
    "\n",
    "Goal: Describe the **distribution** of the variable  \n",
    "\n",
    "- Distribution = pattern and frequency with which you observe a variable  \n",
    "\n",
    "- Numeric variable - entries are a numerical value where math can be performed\n",
    "\n",
    "--\n",
    "\n",
    "For a single numeric variable,\n",
    "+ Shape: Histogram, Density plot, ...\n",
    "+ Measures of center: Mean, Median, ...\n",
    "+ Measures of spread: Variance, Standard Deviation, Quartiles, IQR, ...\n",
    "\n",
    "--\n",
    "\n",
    "For two numeric variables,\n",
    "+ Shape: Scatter plot\n",
    "+ Measures of Dependence: Correlation"
   ]
  },
  {
   "cell_type": "markdown",
   "id": "22f7a771",
   "metadata": {},
   "source": [
    "---\n",
    "\n",
    "# Quick Example\n",
    "\n",
    "Read in some data"
   ]
  },
  {
   "cell_type": "code",
   "execution_count": null,
   "id": "63796586",
   "metadata": {
    "lines_to_next_cell": 2
   },
   "outputs": [],
   "source": [
    "import pandas as pd\n",
    "wine_data = pd.read_csv(\"https://www4.stat.ncsu.edu/~online/datasets/winequality-full.csv\")\n",
    "wine_data.head()"
   ]
  },
  {
   "cell_type": "markdown",
   "id": "2a661b08",
   "metadata": {},
   "source": [
    "---\n",
    "\n",
    "# Lots of Summaries! \n",
    "\n",
    "- Use the `describe()` method on a `pandas` data frame "
   ]
  },
  {
   "cell_type": "code",
   "execution_count": null,
   "id": "35d500b6",
   "metadata": {
    "lines_to_next_cell": 2
   },
   "outputs": [],
   "source": [
    "wine_data.describe()"
   ]
  },
  {
   "cell_type": "markdown",
   "id": "c5debcec",
   "metadata": {
    "lines_to_next_cell": 0
   },
   "source": [
    "---\n",
    "\n",
    "# Graphs\n",
    "\n",
    "- Many standard graphs to summarize with as well\n",
    "\n",
    ".left45["
   ]
  },
  {
   "cell_type": "code",
   "execution_count": null,
   "id": "b2cc599b",
   "metadata": {
    "fig.align": "center",
    "lines_to_next_cell": 0,
    "out.width": "350px"
   },
   "outputs": [],
   "source": [
    "wine_data.alcohol.plot.density()"
   ]
  },
  {
   "cell_type": "markdown",
   "id": "37696819",
   "metadata": {
    "lines_to_next_cell": 0
   },
   "source": [
    "]\n",
    ".right45["
   ]
  },
  {
   "cell_type": "code",
   "execution_count": null,
   "id": "3e8c3eb8",
   "metadata": {
    "fig.align": "center",
    "lines_to_next_cell": 0,
    "out.width": "350px"
   },
   "outputs": [],
   "source": [
    "wine_data.plot.scatter(x = \"alcohol\", y = \"residual sugar\")"
   ]
  },
  {
   "cell_type": "markdown",
   "id": "f98f9473",
   "metadata": {},
   "source": [
    "]\n",
    "\n",
    "---\n",
    "\n",
    "# 3. Statistical Model\n",
    "\n",
    "- A mathematical representation of some phenomenon on which you've observed data\n",
    "- Form of the model can vary greatly!\n",
    "\n",
    "--\n",
    "\n",
    "## Simple Linear Regression Model\n",
    "\n",
    "$$\\mbox{response = intercept + slope*predictor + Error}$$\n",
    "$$Y_i = \\beta_0+\\beta_1x_i+E_i$$\n",
    "\n",
    "--\n",
    "\n",
    "- Assumptions often made about the data generating process to make inference (not required)"
   ]
  },
  {
   "cell_type": "markdown",
   "id": "cfbd4a3d",
   "metadata": {},
   "source": [
    "---\n",
    "\n",
    "# Simple Linear Regression Model\n",
    "\n",
    "- This model can be used for inference or prediction  "
   ]
  },
  {
   "cell_type": "code",
   "execution_count": null,
   "id": "d32e775f",
   "metadata": {
    "lines_to_next_cell": 2
   },
   "outputs": [],
   "source": [
    "from sklearn import linear_model\n",
    "reg = linear_model.LinearRegression() #Create a reg object\n",
    "reg.fit(X = wine_data['alcohol'].values.reshape(-1,1), y = wine_data['residual sugar'].values) \n",
    "print(round(reg.intercept_, 3), round(reg.coef_[0], 3))"
   ]
  },
  {
   "cell_type": "markdown",
   "id": "504682aa",
   "metadata": {},
   "source": [
    "---\n",
    "\n",
    "# Simple Linear Regression Model\n",
    "\n",
    "- This model can be used for inference or prediction  "
   ]
  },
  {
   "cell_type": "code",
   "execution_count": null,
   "id": "8e0c8148",
   "metadata": {
    "fig.align": "center",
    "lines_to_next_cell": 2,
    "out.width": "400px"
   },
   "outputs": [],
   "source": [
    "import seaborn as sns\n",
    "sns.regplot(x = wine_data[\"alcohol\"], y = wine_data[\"residual sugar\"], scatter_kws={'s':2})"
   ]
  },
  {
   "cell_type": "markdown",
   "id": "4ed2eadd",
   "metadata": {},
   "source": [
    "---\n",
    "\n",
    "# Regression Tree\n",
    "\n",
    "- This model can be used for prediction"
   ]
  },
  {
   "cell_type": "code",
   "execution_count": null,
   "id": "baeabf91",
   "metadata": {
    "lines_to_next_cell": 2
   },
   "outputs": [],
   "source": [
    "from sklearn.tree import DecisionTreeRegressor\n",
    "reg_tree = DecisionTreeRegressor(max_depth=3)\n",
    "reg_tree.fit(X = wine_data['alcohol'].values.reshape(-1,1), y = wine_data['residual sugar'].values)"
   ]
  },
  {
   "cell_type": "markdown",
   "id": "c6d2d213",
   "metadata": {},
   "source": [
    "---\n",
    "\n",
    "# Regression Tree\n",
    "\n",
    "- This model can be used for prediction"
   ]
  },
  {
   "cell_type": "code",
   "execution_count": null,
   "id": "2584c30e",
   "metadata": {
    "fig.align": "center",
    "lines_to_next_cell": 2,
    "out.width": "450px"
   },
   "outputs": [],
   "source": [
    "from sklearn.tree import plot_tree\n",
    "plot_tree(reg_tree)"
   ]
  },
  {
   "cell_type": "markdown",
   "id": "4215339d",
   "metadata": {},
   "source": [
    "---\n",
    "\n",
    "# 3. Statistical Model\n",
    "\n",
    "- A mathematical representation of some phenomenon on which you've observed data\n",
    "\n",
    "- *Predict* a **numeric response** or *Classify* an observation into a **category**\n",
    "    + Depends on if your response is numeric or categorical!\n",
    "\n",
    "--\n",
    "\n",
    "- Form of the model can vary greatly (consider binary response)\n",
    "$$P(\\mbox{success}|\\mbox{predictor}) = \\frac{e^{\\mbox{intercept+slope*predictor}}}{1+e^{\\mbox{intercept+slope*predictor}}}$$\n",
    "$$P(\\mbox{success}|\\mbox{predictor}) = \\frac{e^{\\beta_0+\\beta_1x}}{1+e^{\\beta_0+\\beta_1x}}$$\n",
    "--\n",
    "\n",
    "We'll investigate a number of different models later in the course!\n",
    "\n",
    "<!--- Classify result as a 'success' for values of the predictor where this probability is larger than 0.5 (otherwise classify as a 'failure')-->\n",
    "\n",
    "---\n",
    "\n",
    "# Recap\n",
    "\n",
    "Four major goals with data:\n",
    "1. Description\n",
    "2. Inference\n",
    "3. Prediction/Classification\n",
    "4. Pattern Finding\n",
    "\n",
    "- Descriptive Statistics try to summarize the distribution of the variable\n",
    "\n",
    "- Supervised Learning methods try to relate predictors to a response variable through a model\n",
    "    - Some models used for inference and prediction/classification\n",
    "    - Some used just for prediction/classification\n"
   ]
  }
 ],
 "metadata": {
  "jupytext": {
   "cell_metadata_filter": "out.width,fig.align,tags,message,warning,-all",
   "main_language": "python",
   "notebook_metadata_filter": "-all"
  }
 },
 "nbformat": 4,
 "nbformat_minor": 5
}
