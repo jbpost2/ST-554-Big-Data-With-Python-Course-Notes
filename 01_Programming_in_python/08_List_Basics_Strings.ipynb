{
 "cells": [
  {
   "cell_type": "raw",
   "id": "4600651e",
   "metadata": {},
   "source": [
    "---\n",
    "title: \"List Basics & Strings\"\n",
    "author: \"Justin Post (Some notes modified from Dr. Eric Chi)\"\n",
    "output:\n",
    "  xaringan::moon_reader:\n",
    "    seal: false\n",
    "    lib_dir: libs\n",
    "    css: [default, \"css/ncsu.css\", \"css/ncsu-fonts.css\", \"css/mycss.css\"]\n",
    "    nature:\n",
    "      beforeInit: [\"js/ncsu-scale.js\"]\n",
    "      highlightStyle: github\n",
    "      highlightLines: true\n",
    "      countIncrementalSlides: false\n",
    "      ratio: \"16:9\"\n",
    "    includes:\n",
    "      in_header: \"partials/header.html\"\n",
    "editor_options: \n",
    "  chunk_output_type: console\n",
    "---"
   ]
  },
  {
   "cell_type": "code",
   "execution_count": null,
   "id": "90602643",
   "metadata": {
    "lines_to_next_cell": 2,
    "message": false,
    "tags": [
     "remove_cell"
    ],
    "warning": false
   },
   "outputs": [],
   "source": [
    "%%R\n",
    "options(htmltools.dir.version = FALSE)\n",
    "knitr::opts_chunk$set(\n",
    "  message = FALSE,\n",
    "  warning = FALSE,\n",
    "  dev = \"svg\",\n",
    "  fig.align = \"center\",\n",
    "  #fig.width = 11,\n",
    "  #fig.height = 5\n",
    "  cache = TRUE\n",
    ")\n",
    "\n",
    "# define vars\n",
    "om = par(\"mar\")\n",
    "lowtop = c(om[1],om[2],0.1,om[4])\n",
    "library(tidyverse)\n",
    "library(knitr)\n",
    "library(reticulate)\n",
    "use_python(\"C:\\\\Users\\\\jbpost2\\\\AppData\\\\Local\\\\Programs\\\\Python\\\\Python310\\\\python.exe\")\n",
    "#use_python(\"C:\\\\python\\\\python.exe\")\n",
    "options(dplyr.print_min = 5)\n",
    "options(reticulate.repl.quiet = TRUE)"
   ]
  },
  {
   "cell_type": "markdown",
   "id": "42f47697",
   "metadata": {},
   "source": [
    "layout: false\n",
    "class: title-slide-section-red, middle\n",
    "\n",
    "# List Basics & Strings\n",
    "Justin Post\n",
    "\n",
    "---\n",
    "layout: true\n",
    "\n",
    "<div class=\"my-footer\"><img src=\"img/logo.png\" style=\"height: 60px;\"/></div> \n",
    "\n",
    "---\n",
    "\n",
    "# Programming in Python (Prep for Dealing with Big Data)\n",
    "\n",
    "- `JupyterLab` as our IDE (interactive development environment)\n",
    "- Basic Use of Python\n",
    "- Markdown capabilities\n",
    "- Python Modules\n",
    "\n",
    "<br>\n",
    "\n",
    "- Basic data types & Writing Functions\n",
    "- Control flow (if/then/else, Looping)\n",
    "- Summarizing Data Ideas\n",
    "\n",
    "<br>\n",
    "\n",
    "- Compound data types (including `Numpy` arrays, `pandas` data frames)\n",
    "- Summarizing data\n",
    "- Common models and model evaluation"
   ]
  },
  {
   "cell_type": "markdown",
   "id": "0bff3360",
   "metadata": {},
   "source": [
    "---\n",
    "\n",
    "# Plan\n",
    "\n",
    "- Built-in data types  \n",
    "    + Strings, Numeric types, Booleans\n",
    "    + Compound data types (Lists, Tuples, Dictionaries)\n",
    "    \n",
    "- Python modules with common data types\n",
    "    + `NumPy` arrays\n",
    "    + `Pandas` data frames"
   ]
  },
  {
   "cell_type": "markdown",
   "id": "979b9ced",
   "metadata": {},
   "source": [
    "--\n",
    "\n",
    "1. Learn how to create\n",
    "2. Consider commonly used functions and methods\n",
    "3. See *control flow* and other tricks along the way\n",
    "\n",
    "--\n",
    "\n",
    "Lists, Tuples, Strings, and arrays are all **sequences** ([ish](https://stackoverflow.com/questions/62970581/what-exactly-is-a-sequence)) so they have similar functions and behavior!\n",
    "\n"
   ]
  },
  {
   "cell_type": "markdown",
   "id": "6ce43dba",
   "metadata": {},
   "source": [
    "---\n",
    "\n",
    "# Lists \n",
    "\n",
    "Properties of lists:\n",
    "\n",
    "- One-dimensional  \n",
    "- Heterogenous  \n",
    "- Elements have an ordering (starting at 0)\n",
    "- Can have duplicate values  \n",
    "\n",
    "\n"
   ]
  },
  {
   "cell_type": "markdown",
   "id": "4ff9722b",
   "metadata": {},
   "source": [
    "---\n",
    "\n",
    "# Constructing a List\n",
    "\n",
    "Use \n",
    "- `[element1, element2]`\n",
    "- `list((element1, element2, ...))` \n",
    "- an empty list and use the append method to add elements\n",
    "- list comprehensions\n"
   ]
  },
  {
   "cell_type": "markdown",
   "id": "ddaeb665",
   "metadata": {
    "lines_to_next_cell": 0
   },
   "source": [
    "---\n",
    "\n",
    "# Constructing a List\n",
    "\n",
    "- `[element1, element2]`\n",
    "- `list((element1, element2, ...))` \n",
    "\n",
    ".left45["
   ]
  },
  {
   "cell_type": "code",
   "execution_count": null,
   "id": "e662e4ed",
   "metadata": {
    "lines_to_next_cell": 0
   },
   "outputs": [],
   "source": [
    "x = [10, 15, 10, 100, \"Help!\"]\n",
    "type(x)\n",
    "x\n",
    "y = list((\"Python\", \"List\", 5))\n",
    "y"
   ]
  },
  {
   "cell_type": "markdown",
   "id": "bde549ac",
   "metadata": {
    "lines_to_next_cell": 0
   },
   "source": [
    "]\n",
    "\n",
    "--\n",
    "\n",
    ".right45["
   ]
  },
  {
   "cell_type": "code",
   "execution_count": null,
   "id": "6e63380a",
   "metadata": {
    "lines_to_next_cell": 0
   },
   "outputs": [],
   "source": [
    "z = list(range(1,10))\n",
    "z\n",
    "z * 2\n",
    "w = [list(range(1,3)), z, 3]\n",
    "w\n",
    "list(range(1,3)) + z + [3]"
   ]
  },
  {
   "cell_type": "markdown",
   "id": "2548538b",
   "metadata": {},
   "source": [
    "]"
   ]
  },
  {
   "cell_type": "markdown",
   "id": "e5f4174a",
   "metadata": {
    "lines_to_next_cell": 0
   },
   "source": [
    "---\n",
    "\n",
    "# List Operations (Indexing)\n",
    "\n",
    "- Index with a `[]`  \n",
    "- Counting starts at 0\n",
    "\n",
    ".left45["
   ]
  },
  {
   "cell_type": "code",
   "execution_count": null,
   "id": "6d71beb7",
   "metadata": {
    "lines_to_next_cell": 0
   },
   "outputs": [],
   "source": [
    "x = [10, 15, 10, 100, \"Help!\"]\n",
    "x[0]\n",
    "x[1]\n",
    "x[-1]"
   ]
  },
  {
   "cell_type": "markdown",
   "id": "8d9f38ae",
   "metadata": {
    "lines_to_next_cell": 0
   },
   "source": [
    "]\n",
    "\n",
    "--\n",
    "\n",
    ".right45["
   ]
  },
  {
   "cell_type": "code",
   "execution_count": null,
   "id": "7e48f4f7",
   "metadata": {
    "lines_to_next_cell": 0
   },
   "outputs": [],
   "source": [
    "w = [list(range(1,5)), x, 3]\n",
    "w[0]\n",
    "w[1]\n",
    "w[1][0]\n",
    "w[-1]"
   ]
  },
  {
   "cell_type": "markdown",
   "id": "c08f1e9b",
   "metadata": {},
   "source": [
    "]"
   ]
  },
  {
   "cell_type": "markdown",
   "id": "d6a77106",
   "metadata": {
    "lines_to_next_cell": 0
   },
   "source": [
    "---\n",
    "\n",
    "# List Operations (Slicing)\n",
    "\n",
    "- We can return multiple elements at once with `:` \n",
    "\n",
    ".left45["
   ]
  },
  {
   "cell_type": "code",
   "execution_count": null,
   "id": "af9be701",
   "metadata": {
    "lines_to_next_cell": 0
   },
   "outputs": [],
   "source": [
    "x = [10, 15, 10, 100, \"Help!\"]\n",
    "x[:2]\n",
    "x[:3]\n",
    "x[1:]\n",
    "x[1:3]"
   ]
  },
  {
   "cell_type": "markdown",
   "id": "bb427053",
   "metadata": {
    "lines_to_next_cell": 0
   },
   "source": [
    "]\n",
    "\n",
    "--\n",
    "\n",
    ".right45["
   ]
  },
  {
   "cell_type": "code",
   "execution_count": null,
   "id": "7474d10a",
   "metadata": {
    "lines_to_next_cell": 0
   },
   "outputs": [],
   "source": [
    "w = [list(range(1,5)), x, 3]\n",
    "w[:2]\n",
    "w[1]\n",
    "w[1][1:3]"
   ]
  },
  {
   "cell_type": "markdown",
   "id": "be043e70",
   "metadata": {},
   "source": [
    "]\n"
   ]
  },
  {
   "cell_type": "markdown",
   "id": "3b6c499c",
   "metadata": {},
   "source": [
    "---\n",
    "\n",
    "# Functions & Methods\n",
    "\n",
    "Recall: Two major ways to do an operation on a variable/object:\n",
    "\n",
    ".left45[\n",
    "- Functions:  \n",
    "\n",
    "`function_name(myvar, other_args)`"
   ]
  },
  {
   "cell_type": "code",
   "execution_count": null,
   "id": "db21aa0d",
   "metadata": {
    "lines_to_next_cell": 0
   },
   "outputs": [],
   "source": [
    "myList = [1, 10, 100, 1000]\n",
    "len(myList)\n",
    "max(myList)"
   ]
  },
  {
   "cell_type": "markdown",
   "id": "48e44604",
   "metadata": {},
   "source": [
    "]\n",
    "\n",
    ".left5[\n",
    "&nbsp;&nbsp;&nbsp;&nbsp;&nbsp;&nbsp;&nbsp;&nbsp;&nbsp;&nbsp;&nbsp;&nbsp;&nbsp;&nbsp;&nbsp;&nbsp;&nbsp;&nbsp;&nbsp;&nbsp;&nbsp;&nbsp;&nbsp;&nbsp;&nbsp;&nbsp;&nbsp;&nbsp;\n",
    "]\n",
    "\n",
    ".left45[\n",
    "- Methods:  \n",
    "\n",
    "`myvar.method(other_args)` "
   ]
  },
  {
   "cell_type": "code",
   "execution_count": null,
   "id": "f923023a",
   "metadata": {
    "lines_to_next_cell": 0
   },
   "outputs": [],
   "source": [
    "myList.pop(3)\n",
    "myList\n",
    "myList.append(100000)\n",
    "myList"
   ]
  },
  {
   "cell_type": "markdown",
   "id": "d3f7782e",
   "metadata": {},
   "source": [
    "]"
   ]
  },
  {
   "cell_type": "markdown",
   "id": "11d0e268",
   "metadata": {},
   "source": [
    "---\n",
    "\n",
    "# Plan\n",
    "\n",
    "Go through common data types\n",
    "\n",
    "- Learn how to create\n",
    "- Consider commonly used functions and methods\n",
    "- See control flow and other shorthand along the way\n",
    "\n",
    "Start with:  \n",
    "\n",
    "+ **Strings, Numeric types, Booleans**"
   ]
  },
  {
   "cell_type": "markdown",
   "id": "d7d370b5",
   "metadata": {
    "lines_to_next_cell": 0
   },
   "source": [
    "---\n",
    "\n",
    "# Constructing Strings\n",
    "\n",
    "- Text is represented as a sequence of `characters` (letters, digits, and symbols) called a **string** ([Nice reference](https://docs.python.org/3/library/string.html?highlight=str#module-string))\n",
    "    + Data type: `str`\n",
    "    + Created using single or double quotes\n",
    "    \n",
    ".left45["
   ]
  },
  {
   "cell_type": "code",
   "execution_count": null,
   "id": "a8744e8a",
   "metadata": {
    "lines_to_next_cell": 0
   },
   "outputs": [],
   "source": [
    "'wolf'\n",
    "\"pack\""
   ]
  },
  {
   "cell_type": "markdown",
   "id": "e9830675",
   "metadata": {
    "lines_to_next_cell": 0
   },
   "source": [
    "]\n",
    "\n",
    ".left15[\n",
    "&nbsp;&nbsp;&nbsp;&nbsp;&nbsp;&nbsp;&nbsp;&nbsp;&nbsp;&nbsp;&nbsp;&nbsp;&nbsp;&nbsp;&nbsp;&nbsp;&nbsp;&nbsp;&nbsp;&nbsp;&nbsp;&nbsp;&nbsp;&nbsp;&nbsp;&nbsp;&nbsp;&nbsp;&nbsp;&nbsp;&nbsp;&nbsp;&nbsp;&nbsp;&nbsp;&nbsp;&nbsp;&nbsp;&nbsp;&nbsp;&nbsp;&nbsp;\n",
    "]\n",
    "\n",
    ".left45["
   ]
  },
  {
   "cell_type": "code",
   "execution_count": null,
   "id": "b6866b0d",
   "metadata": {
    "lines_to_next_cell": 0
   },
   "outputs": [],
   "source": [
    "x = 'wolf'\n",
    "type(x)\n",
    "print(x)"
   ]
  },
  {
   "cell_type": "markdown",
   "id": "1585adb0",
   "metadata": {},
   "source": [
    "]\n",
    "\n",
    "<br>\n",
    "<br>\n",
    "<br>\n",
    "<br>\n",
    "<br>\n",
    "<br>\n",
    "\n",
    "- Can use `str()` to create via *casting* "
   ]
  },
  {
   "cell_type": "code",
   "execution_count": null,
   "id": "5a7430c9",
   "metadata": {
    "lines_to_next_cell": 2
   },
   "outputs": [],
   "source": [
    "x = str(10)\n",
    "x"
   ]
  },
  {
   "cell_type": "markdown",
   "id": "39e39a80",
   "metadata": {},
   "source": [
    "---\n",
    "\n",
    "# String Operations (Indexing)"
   ]
  },
  {
   "cell_type": "code",
   "execution_count": null,
   "id": "73263806",
   "metadata": {},
   "outputs": [],
   "source": [
    "my_string = \"wolf pack\""
   ]
  },
  {
   "cell_type": "markdown",
   "id": "6651aec4",
   "metadata": {},
   "source": [
    "- Each element of the `my_string` variable contains a different character from `\"wolf pack\"`\n",
    "- Access these elements using `[]`\n",
    "- The first element is indexed by `0`."
   ]
  },
  {
   "cell_type": "code",
   "execution_count": null,
   "id": "e9860b0d",
   "metadata": {
    "tags": [
     "remove_input"
    ]
   },
   "outputs": [],
   "source": [
    "my_string = \"wolf pack\""
   ]
  },
  {
   "cell_type": "code",
   "execution_count": null,
   "id": "adcd4c4e",
   "metadata": {},
   "outputs": [],
   "source": [
    "my_string[0]\n",
    "my_string[1]"
   ]
  },
  {
   "cell_type": "markdown",
   "id": "1aa936a1",
   "metadata": {},
   "source": [
    "<!-- Add a picture with numbers-->\n",
    "\n",
    "---\n",
    "\n",
    "# String Operations (Indexing)"
   ]
  },
  {
   "cell_type": "code",
   "execution_count": null,
   "id": "01ea58d4",
   "metadata": {},
   "outputs": [],
   "source": [
    "my_string = \"wolf pack\""
   ]
  },
  {
   "cell_type": "markdown",
   "id": "c6369edb",
   "metadata": {},
   "source": [
    "- Access the elements of the `my_string` variable in reverse order using a `-`"
   ]
  },
  {
   "cell_type": "code",
   "execution_count": null,
   "id": "4e00924f",
   "metadata": {
    "lines_to_next_cell": 2
   },
   "outputs": [],
   "source": [
    "my_string[-1]\n",
    "my_string[-2]"
   ]
  },
  {
   "cell_type": "markdown",
   "id": "5be24403",
   "metadata": {},
   "source": [
    "---\n",
    "\n",
    "# String Operations (Slicing)"
   ]
  },
  {
   "cell_type": "code",
   "execution_count": null,
   "id": "d8b04361",
   "metadata": {},
   "outputs": [],
   "source": [
    "my_string = \"wolf pack\""
   ]
  },
  {
   "cell_type": "markdown",
   "id": "96e416a3",
   "metadata": {},
   "source": [
    "- Slicing a string refers to returning more than one character of a string\n",
    "    + Slice using `:`\n",
    "    + `s[:i] + s[i:]` gives back `s`"
   ]
  },
  {
   "cell_type": "code",
   "execution_count": null,
   "id": "18dcbefb",
   "metadata": {},
   "outputs": [],
   "source": [
    "my_string[4:]\n",
    "my_string[:3]\n",
    "my_string[3:4]\n",
    "my_string[:3] + my_string[3:]"
   ]
  },
  {
   "cell_type": "markdown",
   "id": "cf814a85",
   "metadata": {
    "lines_to_next_cell": 0
   },
   "source": [
    "---\n",
    "\n",
    "# Immutability of Strings\n",
    "\n",
    "- Strings are **immutable**\n",
    "\n",
    "    + **Individual characters** can't be modified\n",
    "    "
   ]
  },
  {
   "cell_type": "code",
   "execution_count": null,
   "id": "f22c6d02",
   "metadata": {
    "error": true,
    "lines_to_next_cell": 2
   },
   "outputs": [],
   "source": [
    "my_string = \"wolf pack\"\n",
    "my_string[1] = \"a\""
   ]
  },
  {
   "cell_type": "markdown",
   "id": "d309d1bf",
   "metadata": {
    "lines_to_next_cell": 0
   },
   "source": [
    "---\n",
    "\n",
    "# String Operations (Concatenating)\n",
    "\n",
    "- Several built-in operations on strings\n",
    "\n",
    "    + `+` will concatenate two strings together\n",
    "    "
   ]
  },
  {
   "cell_type": "code",
   "execution_count": null,
   "id": "e1369643",
   "metadata": {
    "lines_to_next_cell": 2
   },
   "outputs": [],
   "source": [
    "'wolf' + ' pack'\n",
    "'wolf' + ' pack' + \" is\" + \" cool\""
   ]
  },
  {
   "cell_type": "markdown",
   "id": "c22bb693",
   "metadata": {
    "lines_to_next_cell": 0
   },
   "source": [
    "---\n",
    "\n",
    "# String Operations (Concatenating)\n",
    "\n",
    "- Several built-in operations on strings\n",
    "\n",
    "    + String literals next to each other are automatically concatenated\n"
   ]
  },
  {
   "cell_type": "code",
   "execution_count": null,
   "id": "53880480",
   "metadata": {
    "lines_to_next_cell": 2
   },
   "outputs": [],
   "source": [
    "'wolf' ' pack'\n",
    "'wolf' ' pack' ' is' ' cool'"
   ]
  },
  {
   "cell_type": "markdown",
   "id": "1ad000d6",
   "metadata": {
    "lines_to_next_cell": 0
   },
   "source": [
    "---\n",
    "\n",
    "# String Operations (Concatenating)\n",
    "\n",
    "- Several built-in operations on strings\n",
    "\n",
    "    + String literals next to each other are automatically concatenated\n",
    "    + Doesn't work with variables though (`+` does)!\n"
   ]
  },
  {
   "cell_type": "code",
   "execution_count": null,
   "id": "494a40d2",
   "metadata": {
    "lines_to_next_cell": 0
   },
   "outputs": [],
   "source": [
    "x = 'wolf' "
   ]
  },
  {
   "cell_type": "code",
   "execution_count": null,
   "id": "cf1cd69d",
   "metadata": {
    "eval": false,
    "lines_to_next_cell": 0
   },
   "outputs": [],
   "source": [
    "x ' pack'"
   ]
  },
  {
   "cell_type": "markdown",
   "id": "276a865b",
   "metadata": {
    "lines_to_next_cell": 0
   },
   "source": [
    "        `SyntaxError: invalid syntax (<string>, line 1)`"
   ]
  },
  {
   "cell_type": "code",
   "execution_count": null,
   "id": "626a2f1d",
   "metadata": {
    "lines_to_next_cell": 0
   },
   "outputs": [],
   "source": [
    "x + ' pack'"
   ]
  },
  {
   "cell_type": "markdown",
   "id": "9ab4db5f",
   "metadata": {},
   "source": []
  },
  {
   "cell_type": "markdown",
   "id": "647da2ab",
   "metadata": {},
   "source": [
    "---\n",
    "\n",
    "# No Implicit Coercion\n",
    "\n",
    "Can operator `+` be applied to a string and a numeric value?"
   ]
  },
  {
   "cell_type": "code",
   "execution_count": null,
   "id": "081ee172",
   "metadata": {
    "error": true
   },
   "outputs": [],
   "source": [
    "'wolfpack' + 2\n",
    "2 + 'wolfpack'"
   ]
  },
  {
   "cell_type": "markdown",
   "id": "91a5f75d",
   "metadata": {},
   "source": [
    "--\n",
    "\n",
    "- To join a string and number cast the number as a string!  "
   ]
  },
  {
   "cell_type": "code",
   "execution_count": null,
   "id": "60b5650d",
   "metadata": {
    "lines_to_next_cell": 2
   },
   "outputs": [],
   "source": [
    "'Four score and ' + str(7) + ' years ago'"
   ]
  },
  {
   "cell_type": "markdown",
   "id": "c8b7e0c7",
   "metadata": {},
   "source": [
    "---\n",
    "\n",
    "# String Operations (Concatenating Repeats)\n",
    "\n",
    "You can also repeat strings with the `*` operator and an integer."
   ]
  },
  {
   "cell_type": "code",
   "execution_count": null,
   "id": "a5e86b3b",
   "metadata": {
    "lines_to_next_cell": 2
   },
   "outputs": [],
   "source": [
    "'go pack ' * 3\n",
    "'go pack ' * 0\n",
    "'go pack ' * -5"
   ]
  },
  {
   "cell_type": "markdown",
   "id": "01b99ef7",
   "metadata": {},
   "source": [
    "---\n",
    "\n",
    "# String Functions\n",
    "\n",
    "- [Several built-in operations](https://docs.python.org/3/library/string.html?highlight=str#module-string) on strings\n",
    "    + `len()` returns the number of characters \n",
    "    + `sorted()` returns the sorted values as a list"
   ]
  },
  {
   "cell_type": "code",
   "execution_count": null,
   "id": "cd188af9",
   "metadata": {},
   "outputs": [],
   "source": [
    "len('wolf pack')\n",
    "len('241!')\n",
    "len(' ')\n",
    "len(\"\")\n",
    "sorted(\"wolf pack\")"
   ]
  },
  {
   "cell_type": "markdown",
   "id": "89345565",
   "metadata": {
    "lines_to_next_cell": 0
   },
   "source": [
    "---\n",
    "\n",
    "# String Methods\n",
    "\n",
    "- Many methods as well:\n",
    "\n",
    ".left45["
   ]
  },
  {
   "cell_type": "code",
   "execution_count": null,
   "id": "7b499d79",
   "metadata": {
    "lines_to_next_cell": 0
   },
   "outputs": [],
   "source": [
    "my_string = '  wolf pack  '\n",
    "my_string.upper()\n",
    "my_string\n",
    "my_string.strip()"
   ]
  },
  {
   "cell_type": "markdown",
   "id": "e2ce4c3e",
   "metadata": {
    "lines_to_next_cell": 0
   },
   "source": [
    "]\n",
    "\n",
    ".left15[\n",
    "&nbsp;&nbsp;&nbsp;&nbsp;&nbsp;&nbsp;&nbsp;&nbsp;&nbsp;&nbsp;&nbsp;&nbsp;&nbsp;&nbsp;&nbsp;&nbsp;&nbsp;&nbsp;&nbsp;&nbsp;&nbsp;&nbsp;&nbsp;&nbsp;&nbsp;&nbsp;&nbsp;&nbsp;&nbsp;&nbsp;&nbsp;&nbsp;&nbsp;&nbsp;&nbsp;&nbsp;&nbsp;&nbsp;&nbsp;&nbsp;&nbsp;&nbsp;\n",
    "]\n",
    "\n",
    "--\n",
    "\n",
    ".left45["
   ]
  },
  {
   "cell_type": "code",
   "execution_count": null,
   "id": "371c6574",
   "metadata": {
    "lines_to_next_cell": 0
   },
   "outputs": [],
   "source": [
    "my_string.replace(\"a\", \"e\")\n",
    "my_string.strip().split(\" \")"
   ]
  },
  {
   "cell_type": "markdown",
   "id": "de652aaa",
   "metadata": {},
   "source": [
    "]\n",
    "\n",
    "---\n",
    "\n",
    "# Inserting Values Into Strings\n",
    "\n",
    "- Can use the `format()` method to insert numbers into strings: "
   ]
  },
  {
   "cell_type": "code",
   "execution_count": null,
   "id": "93daac93",
   "metadata": {},
   "outputs": [],
   "source": [
    "years = 3\n",
    "salary = 100000\n",
    "myorder = \"I have {1} years of experience and would like a salary of {0}.\"\n",
    "print(myorder.format(salary, years))"
   ]
  },
  {
   "cell_type": "markdown",
   "id": "5f73e893",
   "metadata": {},
   "source": [
    "--\n",
    "\n",
    "- Don't need the numbers, but then you must position correctly  "
   ]
  },
  {
   "cell_type": "code",
   "execution_count": null,
   "id": "99a78c86",
   "metadata": {
    "lines_to_next_cell": 2
   },
   "outputs": [],
   "source": [
    "myorder = \"I have {} years of experience and would like a salary of {}.\"\n",
    "print(myorder.format(years, salary))"
   ]
  },
  {
   "cell_type": "markdown",
   "id": "77e10a41",
   "metadata": {},
   "source": [
    "---\n",
    "\n",
    "# To JupyterLab!  \n",
    "\n",
    "- Create some strings with normal distribution values formatted in\n",
    "\n",
    "- Use functions and methods to see what we can do!\n",
    "\n",
    "---\n",
    "\n",
    "# Recap\n",
    "\n",
    "- Lists are 1D ordered objects\n",
    "\n",
    "- Strings are sequences of characters\n",
    "\n",
    "    - Immutable\n",
    "\n",
    "    - Index with `[]` (starting at 0)\n",
    "\n",
    "    - Many functions and methods built in to help\n",
    "\n",
    "    - `+` for concatenation and `*` for repeating a string\n",
    "\n",
    "- Sequence type objects have similar behavior!\n"
   ]
  }
 ],
 "metadata": {
  "jupytext": {
   "cell_metadata_filter": "tags,error,eval,warning,message,-all",
   "main_language": "python",
   "notebook_metadata_filter": "-all"
  }
 },
 "nbformat": 4,
 "nbformat_minor": 5
}
