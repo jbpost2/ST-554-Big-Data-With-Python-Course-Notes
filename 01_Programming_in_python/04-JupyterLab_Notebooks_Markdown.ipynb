{
  "cells": [
    {
      "cell_type": "markdown",
      "id": "fc0f641d",
      "metadata": {
        "id": "fc0f641d"
      },
      "source": [
        "# Markdown Capabilities\n",
        "\n",
        "---\n",
        "    \n",
        "## What is Markdown?  \n",
        "\n",
        "- Most have heard of HTML (HyperText Mark-up Language)  \n",
        "    + Write plain text that the browser interprets and renders  \n",
        "    \n",
        "- Markdown is a specific 'mark-up' language  \n",
        "    + Easier syntax  \n",
        "    + Not as powerful  \n",
        "    \n",
        "- Can be used in 'Text' cells\n",
        "- **Double click a text cell to see the plain text formatting used!**\n",
        "- **Shift enter to make the cell 'render'**"
      ]
    },
    {
      "cell_type": "markdown",
      "id": "f34c93ba",
      "metadata": {
        "id": "f34c93ba"
      },
      "source": [
        "---\n",
        "\n",
        "## Markdown Syntax  \n",
        "\n",
        "- General link: \\[link\\](URL or relative link)\n",
        "    + [Markdown Reference from Jupyter](https://jupyter-notebook.readthedocs.io/en/stable/examples/Notebook/Working%20With%20Markdown%20Cells.html)\n",
        "- `*italics*` *and* `_italics_`\n",
        "- `**bold**` **and** `__bold__`\n",
        "- `~~strikethrough~~`  becomes ~~strikethrough~~\n",
        "\n",
        "---\n",
        "\n",
        "* `---` Three dashes for a thematic break\n",
        "* \\# Level 1 Header, \\#\\# Level 2 Header, to six levels\n",
        "* Use of headers can automatically creates a Table of Contents!\n",
        "    - See top left icon on Colab\n",
        "* Include an image: \\!\\[\\](path/to/file.png)\n",
        "    - ![](https://www4.stat.ncsu.edu/~online/datasets/slr.png)\n",
        "* Surround `text` with a backtick to make 'code font'"
      ]
    },
    {
      "cell_type": "markdown",
      "id": "cbc875ca",
      "metadata": {
        "id": "cbc875ca"
      },
      "source": [
        "---\n",
        "  \n",
        "## Widgets and Such\n",
        "  \n",
        "[Widget Info](https://github.com/jupyter-widgets)\n",
        "\n",
        "- Lots of fun widgets that you can add\n",
        "    + Maps\n",
        "    + Sliders\n",
        "    + Text input    \n",
        "    + Check boxes\n",
        "    + Etc.\n",
        "\n",
        "- Things won't always work quite right in `Colab` but will when we move to `JupyterLab`!\n"
      ]
    },
    {
      "cell_type": "markdown",
      "id": "5AN9OfZbwiMs",
      "metadata": {
        "id": "5AN9OfZbwiMs"
      },
      "source": [
        "---\n",
        "\n",
        "## Video Demo\n",
        "\n",
        "This quick video demo shows how we can include some interactive HTML content in our `Colab` notebook."
      ]
    },
    {
      "cell_type": "code",
      "execution_count": 1,
      "id": "wP2gP-2xy4jF",
      "metadata": {
        "colab": {
          "base_uri": "https://localhost:8080/",
          "height": 427
        },
        "id": "wP2gP-2xy4jF",
        "outputId": "b05b0cce-2085-47af-ce45-451fab41d225"
      },
      "outputs": [
        {
          "data": {
            "text/html": [
              "\n",
              "        <iframe\n",
              "            width=\"720\"\n",
              "            height=\"405\"\n",
              "            src=\"https://ncsu.hosted.panopto.com/Panopto/Pages/Embed.aspx?id=32a49a33-bc92-49ab-b767-b0ef0167e1b3&autoplay=false&offerviewer=true&showtitle=true&showbrand=true&captions=false&interactivity=all\"\n",
              "            frameborder=\"0\"\n",
              "            allowfullscreen\n",
              "            \n",
              "        ></iframe>\n",
              "        "
            ],
            "text/plain": [
              "<IPython.lib.display.IFrame at 0x7ef4b4260e20>"
            ]
          },
          "execution_count": 1,
          "metadata": {},
          "output_type": "execute_result"
        }
      ],
      "source": [
        "rom IPython.display import IFrame\n",
        "IFrame(src = 'https://ncsu.hosted.panopto.com/Panopto/Pages/Embed.aspx?id=32a49a33-bc92-49ab-b767-b0ef0167e1b3&autoplay=false&offerviewer=true&showtitle=true&showbrand=true&captions=false&interactivity=all', width = '720', height = '405')"
      ]
    },
    {
      "cell_type": "markdown",
      "id": "fb1439f4",
      "metadata": {
        "id": "fb1439f4"
      },
      "source": [
        "---\n",
        "  \n",
        "# Recap\n",
        "  \n",
        "- Markdown is a basic language for formatting text\n",
        "\n",
        "- `Colab` and `JupyterLab` give a lot of functionality for markdown and more!"
      ]
    }
  ],
  "metadata": {
    "colab": {
      "provenance": []
    },
    "jupytext": {
      "cell_metadata_filter": "warning,fig.align,message,tags,out.width,-all",
      "main_language": "R",
      "notebook_metadata_filter": "-all"
    },
    "kernelspec": {
      "display_name": "Python 3",
      "name": "python3"
    },
    "language_info": {
      "name": "python"
    }
  },
  "nbformat": 4,
  "nbformat_minor": 5
}
