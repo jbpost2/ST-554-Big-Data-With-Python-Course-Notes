{
 "cells": [
  {
   "cell_type": "raw",
   "id": "32687505",
   "metadata": {},
   "source": [
    "---\n",
    "title: \"Dictionaries\"\n",
    "author: \"Justin Post (Some notes modified from Dr. Eric Chi)\"\n",
    "output:\n",
    "  xaringan::moon_reader:\n",
    "    seal: false\n",
    "    lib_dir: libs\n",
    "    css: [default, \"css/ncsu.css\", \"css/ncsu-fonts.css\", \"css/mycss.css\"]\n",
    "    nature:\n",
    "      beforeInit: [\"js/ncsu-scale.js\"]\n",
    "      highlightStyle: github\n",
    "      highlightLines: true\n",
    "      countIncrementalSlides: false\n",
    "      ratio: \"16:9\"\n",
    "    includes:\n",
    "      in_header: \"partials/header.html\"\n",
    "editor_options: \n",
    "  chunk_output_type: console\n",
    "---"
   ]
  },
  {
   "cell_type": "code",
   "execution_count": null,
   "id": "6d05c6d6",
   "metadata": {
    "lines_to_next_cell": 2,
    "message": false,
    "tags": [
     "remove_cell"
    ],
    "warning": false
   },
   "outputs": [],
   "source": [
    "%%R\n",
    "options(htmltools.dir.version = FALSE)\n",
    "knitr::opts_chunk$set(\n",
    "  message = FALSE,\n",
    "  warning = FALSE,\n",
    "  dev = \"svg\",\n",
    "  fig.align = \"center\",\n",
    "  #fig.width = 11,\n",
    "  #fig.height = 5\n",
    "  cache = TRUE\n",
    ")\n",
    "\n",
    "# define vars\n",
    "om = par(\"mar\")\n",
    "lowtop = c(om[1],om[2],0.1,om[4])\n",
    "library(tidyverse)\n",
    "library(knitr)\n",
    "library(reticulate)\n",
    "use_python(\"C:\\\\Users\\\\jbpost2\\\\AppData\\\\Local\\\\Programs\\\\Python\\\\Python310\\\\python.exe\")\n",
    "#use_python(\"C:\\\\python\\\\python.exe\")\n",
    "options(dplyr.print_min = 5)\n",
    "options(reticulate.repl.quiet = TRUE)"
   ]
  },
  {
   "cell_type": "markdown",
   "id": "970022a5",
   "metadata": {},
   "source": [
    "layout: false\n",
    "class: title-slide-section-red, middle\n",
    "\n",
    "# Dictionaries \n",
    "Justin Post\n",
    "\n",
    "---\n",
    "layout: true\n",
    "\n",
    "<div class=\"my-footer\"><img src=\"img/logo.png\" style=\"height: 60px;\"/></div> "
   ]
  },
  {
   "cell_type": "markdown",
   "id": "e1e62054",
   "metadata": {},
   "source": [
    "---\n",
    "\n",
    "# Plan\n",
    "\n",
    "Go through common data types\n",
    "\n",
    "- Learn how to create\n",
    "- Consider commonly used functions and methods\n",
    "- See control flow and other tricks along the way\n",
    "\n",
    "This topic, compound objects:\n",
    "- **Dictionaries** "
   ]
  },
  {
   "cell_type": "markdown",
   "id": "3e6a0ccf",
   "metadata": {},
   "source": [
    "---\n",
    "\n",
    "# Dictionaries \n",
    "\n",
    "Data object that has `keys` and `values`\n",
    "\n",
    "- keys must be unique\n",
    "- keys can be any immutable object (containing no mutable elements)\n",
    "\n",
    "Flexible data type\n",
    "\n",
    "- unordered\n",
    "- mutable"
   ]
  },
  {
   "cell_type": "markdown",
   "id": "77370305",
   "metadata": {},
   "source": [
    "---\n",
    "\n",
    "# Creating a Dictionary\n",
    "\n",
    "Use `dict(supply_key_value_pairs)` or `{supply_key_value_pairs}`"
   ]
  },
  {
   "cell_type": "code",
   "execution_count": null,
   "id": "98d6315a",
   "metadata": {
    "lines_to_next_cell": 0
   },
   "outputs": [],
   "source": [
    "{} #empty dictionary\n",
    "mydict = {\n",
    "  \"key1\": [12, -10, \"value1\"], \n",
    "  \"key2\": [11, \"value2\"], \n",
    "  \"key3\": \"value3\"\n",
    "  }\n",
    "mydict\n",
    "mydict2 = dict([\n",
    "  (1, ['hee', 'haw']), \n",
    "  (2, 'fa')\n",
    "  ])\n",
    "mydict2"
   ]
  },
  {
   "cell_type": "markdown",
   "id": "fa4e5ab8",
   "metadata": {},
   "source": []
  },
  {
   "cell_type": "markdown",
   "id": "5c912870",
   "metadata": {},
   "source": [
    "---\n",
    "\n",
    "# Creating a Dictionary\n",
    "\n",
    "Can create a dictionary using two lists and the `zip()` function"
   ]
  },
  {
   "cell_type": "code",
   "execution_count": null,
   "id": "6fedaeb3",
   "metadata": {},
   "outputs": [],
   "source": [
    "keys = [x for x in \"abcdefgh\"]\n",
    "values = [y for y in range(0,8)]\n",
    "\n",
    "dict(zip(keys, values))"
   ]
  },
  {
   "cell_type": "markdown",
   "id": "86a15824",
   "metadata": {},
   "source": [
    "---\n",
    "\n",
    "# Creating a Dictionary\n",
    "\n",
    "Can create a dictionary using dictionary comprehensions"
   ]
  },
  {
   "cell_type": "code",
   "execution_count": null,
   "id": "ba450c54",
   "metadata": {
    "lines_to_next_cell": 0
   },
   "outputs": [],
   "source": [
    "mydict = {i: i for i in range(0, 6)}\n",
    "mydict\n",
    "\n",
    "\n",
    "mydict = {\"abcdef\"[i]: i**2 for i in range(0, 6)}\n",
    "mydict"
   ]
  },
  {
   "cell_type": "markdown",
   "id": "04c8b9d6",
   "metadata": {},
   "source": [
    "\n"
   ]
  },
  {
   "cell_type": "markdown",
   "id": "1760b192",
   "metadata": {},
   "source": [
    "---\n",
    "\n",
    "# Dictionary Operations (Indexing)\n",
    "\n",
    "- Index with a `[key]` (remember unordered!)"
   ]
  },
  {
   "cell_type": "code",
   "execution_count": null,
   "id": "1388c139",
   "metadata": {
    "lines_to_next_cell": 0
   },
   "outputs": [],
   "source": [
    "AFCDivisions = {\n",
    "  \"North\": [\"Steelers\", \"Browns\", \"Ravens\", \"Bengals\"], \n",
    "  \"East\" : [\"Patriots\", \"Jets\", \"Dolphins\", \"Bills\"], \n",
    "  \"West\" : [\"Raiders\", \"Chiefs\", \"Chargers\", \"Broncos\"]\n",
    "  }\n",
    "AFCDivisions[\"North\"]\n",
    "AFCDivisions[\"North\"][0]"
   ]
  },
  {
   "cell_type": "markdown",
   "id": "92450a55",
   "metadata": {},
   "source": [
    "\n"
   ]
  },
  {
   "cell_type": "markdown",
   "id": "3a7cb05b",
   "metadata": {},
   "source": [
    "---\n",
    "\n",
    "# Dictionary Operations (Indexing)\n",
    "\n",
    "- Index with a `[key]` (remember unordered!)"
   ]
  },
  {
   "cell_type": "code",
   "execution_count": null,
   "id": "8b97248a",
   "metadata": {
    "lines_to_next_cell": 2
   },
   "outputs": [],
   "source": [
    "AFCDivisions = {\n",
    "  \"North\": [\"Steelers\", \"Browns\", \"Ravens\", \"Bengals\"], \n",
    "  \"East\" : [\"Patriots\", \"Jets\", \"Dolphins\", \"Bills\"], \n",
    "  \"West\" : [\"Raiders\", \"Chiefs\", \"Chargers\", \"Broncos\"]\n",
    "  }\n",
    "AFCDivisions[\"South\"] = [1, 2]\n",
    "for key in AFCDivisions:\n",
    "    print(key, ' : ', AFCDivisions[key])"
   ]
  },
  {
   "cell_type": "markdown",
   "id": "8ecde0eb",
   "metadata": {},
   "source": [
    "---\n",
    "\n",
    "# Dictionary Operations (Indexing)\n",
    "\n",
    "- Index with a `[key]` (remember unordered!)"
   ]
  },
  {
   "cell_type": "code",
   "execution_count": null,
   "id": "f34fc0a1",
   "metadata": {
    "lines_to_next_cell": 2
   },
   "outputs": [],
   "source": [
    "AFCDivisions = {\n",
    "  \"North\": [\"Steelers\", \"Browns\", \"Ravens\", \"Bengals\"], \n",
    "  \"East\" : [\"Patriots\", \"Jets\", \"Dolphins\", \"Bills\"], \n",
    "  \"West\" : [\"Raiders\", \"Chiefs\", \"Chargers\", \"Broncos\"]\n",
    "  }\n",
    "AFCDivisions[\"South\"] = [1, 2]\n",
    "AFCDivisions[\"South\"] = [\"Texans\", \"Colts\", \"Jaguars\", \"Titans\"]\n",
    "for key in AFCDivisions:\n",
    "    print(key, ' : ', AFCDivisions[key])"
   ]
  },
  {
   "cell_type": "markdown",
   "id": "f93ad58f",
   "metadata": {},
   "source": [
    "---\n",
    "\n",
    "# Dictionary Packing & Unpacking\n",
    "\n",
    "We can **pack** dictionaries using `**`"
   ]
  },
  {
   "cell_type": "code",
   "execution_count": null,
   "id": "5d4762d1",
   "metadata": {
    "lines_to_next_cell": 0
   },
   "outputs": [],
   "source": [
    "AFCDivisions = {\n",
    "  \"AFCNorth\": [\"Steelers\", \"Browns\", \"Ravens\", \"Bengals\"], \n",
    "  \"AFCEast\" : [\"Patriots\", \"Jets\", \"Dolphins\", \"Bills\"], \n",
    "  \"AFCWest\" : [\"Raiders\", \"Chiefs\", \"Chargers\", \"Broncos\"],\n",
    "  \"AFCSouth\": [\"Texans\", \"Colts\", \"Jaguars\", \"Titans\"]\n",
    "  }\n",
    "  \n",
    "NFCDivisions = {\n",
    "  \"NFCNorth\" : [\"Lions\", \"Bears\", \"Packers\", \"Vikings\"],\n",
    "  \"NFCEast\"  : [\"Giants\", \"Cowboys\", \"Eagles\", \"Admirals\"]\n",
    "}\n",
    "\n",
    "Divisions = {**AFCDivisions, **NFCDivisions}\n",
    "for key in Divisions:\n",
    "    print(key, ' : ', Divisions[key])"
   ]
  },
  {
   "cell_type": "markdown",
   "id": "0c465711",
   "metadata": {},
   "source": [
    "\n"
   ]
  },
  {
   "cell_type": "markdown",
   "id": "ae93aef5",
   "metadata": {},
   "source": [
    "---\n",
    "\n",
    "# Dictionary Methods\n",
    "\n",
    "[Many useful methods](https://www.tutorialspoint.com/python/python_dictionary.htm)\n",
    "\n",
    "- Index with `.get()` (doesn't throw an error if key doesn't exist)"
   ]
  },
  {
   "cell_type": "code",
   "execution_count": null,
   "id": "ec6dd7e9",
   "metadata": {
    "lines_to_next_cell": 0
   },
   "outputs": [],
   "source": [
    "AFCDivisions = {\n",
    "  \"North\": [\"Steelers\", \"Browns\", \"Ravens\", \"Bengals\"], \n",
    "  \"East\" : [\"Patriots\", \"Jets\", \"Dolphins\", \"Bills\"], \n",
    "  \"West\" : [\"Raiders\", \"Chiefs\", \"Chargers\", \"Broncos\"],\n",
    "  \"South\": [\"Texans\", \"Colts\", \"Jaguars\", \"Titans\"]\n",
    "  }\n",
    "AFCDivisions.get(\"South\")\n",
    "AFCDivisions.get(\"Northeast\")"
   ]
  },
  {
   "cell_type": "code",
   "execution_count": null,
   "id": "9b5c370a",
   "metadata": {
    "error": true,
    "lines_to_next_cell": 2
   },
   "outputs": [],
   "source": [
    "AFCDivisions[\"Northeast\"]"
   ]
  },
  {
   "cell_type": "markdown",
   "id": "e302d582",
   "metadata": {},
   "source": [
    "---\n",
    "\n",
    "# Dictionary Methods\n",
    "\n",
    "[Many useful methods](https://www.tutorialspoint.com/python/python_dictionary.htm)\n",
    "\n",
    "- Return keys with `.keys()`; values with `.values()`"
   ]
  },
  {
   "cell_type": "code",
   "execution_count": null,
   "id": "1100432a",
   "metadata": {},
   "outputs": [],
   "source": [
    "AFCDivisions = {\n",
    "  \"North\": [\"Steelers\", \"Browns\", \"Ravens\", \"Bengals\"], \n",
    "  \"East\" : [\"Patriots\", \"Jets\", \"Dolphins\", \"Bills\"], \n",
    "  \"West\" : [\"Raiders\", \"Chiefs\", \"Chargers\", \"Broncos\"],\n",
    "  \"South\": [\"Texans\", \"Colts\", \"Jaguars\", \"Titans\"]\n",
    "  }\n",
    "AFCDivisions.keys()\n",
    "AFCDivisions.values()"
   ]
  },
  {
   "cell_type": "markdown",
   "id": "fd1cd3ea",
   "metadata": {},
   "source": [
    "---\n",
    "\n",
    "# Dictionary Methods\n",
    "\n",
    "[Many useful methods](https://www.tutorialspoint.com/python/python_dictionary.htm)\n",
    "\n",
    "- Return and remove a specified key with `.pop()`"
   ]
  },
  {
   "cell_type": "code",
   "execution_count": null,
   "id": "7b7f9165",
   "metadata": {
    "tags": [
     "remove_input"
    ]
   },
   "outputs": [],
   "source": [
    "AFCDivisions = {\n",
    "  \"North\": [\"Steelers\", \"Browns\", \"Ravens\", \"Bengals\"], \n",
    "  \"East\" : [\"Patriots\", \"Jets\", \"Dolphins\", \"Bills\"], \n",
    "  \"West\" : [\"Raiders\", \"Chiefs\", \"Chargers\", \"Broncos\"],\n",
    "  \"South\": [\"Texans\", \"Colts\", \"Jaguars\", \"Titans\"]\n",
    "  }"
   ]
  },
  {
   "cell_type": "code",
   "execution_count": null,
   "id": "a54b855a",
   "metadata": {
    "lines_to_next_cell": 0
   },
   "outputs": [],
   "source": [
    "AFCDivisions.pop(\"North\")\n",
    "for key in AFCDivisions:\n",
    "    print(key, ' : ', AFCDivisions[key])"
   ]
  },
  {
   "cell_type": "markdown",
   "id": "4fbc7151",
   "metadata": {},
   "source": [
    "\n"
   ]
  },
  {
   "cell_type": "markdown",
   "id": "ec449b1e",
   "metadata": {},
   "source": [
    "---\n",
    "\n",
    "# Dictionary Methods\n",
    "\n",
    "[Many useful methods](https://www.tutorialspoint.com/python/python_dictionary.htm)\n",
    "\n",
    "- Merge in another dictionary with `.update()`"
   ]
  },
  {
   "cell_type": "code",
   "execution_count": null,
   "id": "4680df02",
   "metadata": {
    "lines_to_next_cell": 0
   },
   "outputs": [],
   "source": [
    "Divisions = {\n",
    "  \"AFCNorth\": [\"Steelers\", \"Browns\", \"Ravens\", \"Bengals\"], \n",
    "  \"AFCEast\" : [\"Patriots\", \"Jets\", \"Dolphins\", \"Bills\"], \n",
    "  \"AFCWest\" : [\"Raiders\", \"Chiefs\", \"Chargers\", \"Broncos\"],\n",
    "  \"AFCSouth\": [\"Texans\", \"Colts\", \"Jaguars\", \"Titans\"]\n",
    "  }\n",
    "NFCNorth = {\n",
    "  \"NorthNFC\": [\"Lions\", \"Packers\", \"Bears\", \"Vikings\"] \n",
    "  }\n",
    "Divisions.update(NFCNorth)\n",
    "for key in Divisions.keys():\n",
    "    print(key, \" : \", Divisions[key])"
   ]
  },
  {
   "cell_type": "markdown",
   "id": "da126fe7",
   "metadata": {},
   "source": []
  },
  {
   "cell_type": "markdown",
   "id": "cf64582f",
   "metadata": {},
   "source": [
    "---\n",
    "\n",
    "# To JupyterLab!  \n",
    "\n",
    "- Create some dictionaries with lists as the values\n",
    "\n",
    "    + Pull out the values as a list\n",
    "\n",
    "- Create a dictionary with tuples as the keys\n",
    "\n",
    "- Check if some values occur in the list using `in` and/or `not in`"
   ]
  },
  {
   "cell_type": "markdown",
   "id": "9789f0ca",
   "metadata": {},
   "source": [
    "<!--\n",
    "values = [list((y, y**2)) for y in range(0,8)]\n",
    "dict(zip(keys, values))\n",
    "\n",
    "dictionary = {“a”: [1,2,3], “b”:[4,5,6]}\n",
    "numbers = sum(dictionary.values(), [])"
   ]
  },
  {
   "cell_type": "markdown",
   "id": "b7d75edc",
   "metadata": {},
   "source": [
    "list(dict.items()) returns everything as tuples in a list\n",
    "-->\n",
    "\n",
    "---\n",
    "\n",
    "# Recap\n",
    "\n",
    "- Dictionaries have key value pairs\n",
    "\n",
    "    - Keys can be any immutable object\n",
    "    \n",
    "    - Values can be pretty generic using something like a list\n",
    "    \n",
    "- Mutable \n",
    "\n",
    "- Unordered - access via `[key]` or using `.get()` method\n"
   ]
  }
 ],
 "metadata": {
  "jupytext": {
   "cell_metadata_filter": "message,error,warning,tags,-all",
   "main_language": "python",
   "notebook_metadata_filter": "-all"
  }
 },
 "nbformat": 4,
 "nbformat_minor": 5
}
