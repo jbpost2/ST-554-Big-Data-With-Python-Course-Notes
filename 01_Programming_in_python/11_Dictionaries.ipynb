{
  "cells": [
    {
      "cell_type": "markdown",
      "metadata": {
        "id": "view-in-github",
        "colab_type": "text"
      },
      "source": [
        "<a href=\"https://colab.research.google.com/github/jbpost2/ST-554-Big-Data-With-Python-Course-Notes/blob/main/01_Programming_in_python/11_Dictionaries.ipynb\" target=\"_parent\"><img src=\"https://colab.research.google.com/assets/colab-badge.svg\" alt=\"Open In Colab\"/></a>"
      ]
    },
    {
      "cell_type": "markdown",
      "id": "e1e62054",
      "metadata": {
        "id": "e1e62054"
      },
      "source": [
        "# Plan\n",
        "\n",
        "Go through common data types\n",
        "\n",
        "- Learn how to create\n",
        "- Consider commonly used functions and methods\n",
        "- See control flow and other tricks along the way\n",
        "\n",
        "This topic, compound objects:\n",
        "- **Dictionaries**"
      ]
    },
    {
      "cell_type": "markdown",
      "id": "3e6a0ccf",
      "metadata": {
        "id": "3e6a0ccf"
      },
      "source": [
        "---\n",
        "\n",
        "# Dictionaries\n",
        "\n",
        "Data object that has `keys` and `values`\n",
        "\n",
        "- keys must be unique\n",
        "- keys can be any **immutable** object (containing no mutable elements)\n",
        "\n",
        "A flexible data type that is\n",
        "\n",
        "- unordered\n",
        "- mutable"
      ]
    },
    {
      "cell_type": "markdown",
      "source": [
        "---\n",
        "\n",
        "## Creating a Dictionary"
      ],
      "metadata": {
        "id": "6YnVQhpbnNqE"
      },
      "id": "6YnVQhpbnNqE"
    },
    {
      "cell_type": "markdown",
      "id": "77370305",
      "metadata": {
        "id": "77370305"
      },
      "source": [
        "### Creating a dictionary using `dict()` and `{}`\n",
        "\n",
        "- Use `dict(supply_key_value_pairs)` or `{supply_key_value_pairs}`"
      ]
    },
    {
      "cell_type": "code",
      "execution_count": 3,
      "id": "98d6315a",
      "metadata": {
        "lines_to_next_cell": 0,
        "id": "98d6315a",
        "outputId": "3d5eaa76-7f4d-4ffd-90c7-4817d8206e56",
        "colab": {
          "base_uri": "https://localhost:8080/"
        }
      },
      "outputs": [
        {
          "output_type": "execute_result",
          "data": {
            "text/plain": [
              "{'key1': [12, -10, 'value1'], 'key2': [11, 'value2'], 'key3': 'value3'}"
            ]
          },
          "metadata": {},
          "execution_count": 3
        }
      ],
      "source": [
        "{} #empty dictionary\n",
        "mydict = {\n",
        "  \"key1\": [12, -10, \"value1\"],  #key is specified first (must be immutable)\n",
        "  \"key2\": [11, \"value2\"],       #value is then given after a : (can be anything, doesn't need to match across keys)\n",
        "  \"key3\": \"value3\"\n",
        "  }\n",
        "mydict"
      ]
    },
    {
      "cell_type": "code",
      "source": [
        "mydict2 = dict([\n",
        "  (1, ['hee', 'haw']),        #passing key value pairs as a tuple\n",
        "  (2, 'fa')\n",
        "  ])\n",
        "mydict2"
      ],
      "metadata": {
        "id": "SA5BScEimzs9",
        "outputId": "ad1350c2-67e3-4895-a4d4-1c781f6a6fa3",
        "colab": {
          "base_uri": "https://localhost:8080/"
        }
      },
      "id": "SA5BScEimzs9",
      "execution_count": 4,
      "outputs": [
        {
          "output_type": "execute_result",
          "data": {
            "text/plain": [
              "{1: ['hee', 'haw'], 2: 'fa'}"
            ]
          },
          "metadata": {},
          "execution_count": 4
        }
      ]
    },
    {
      "cell_type": "markdown",
      "id": "5c912870",
      "metadata": {
        "id": "5c912870"
      },
      "source": [
        "### Creating a dictionary using lists\n",
        "\n",
        "- You can create a dictionary using two lists and the `zip()` function"
      ]
    },
    {
      "cell_type": "code",
      "execution_count": 6,
      "id": "6fedaeb3",
      "metadata": {
        "id": "6fedaeb3",
        "outputId": "5a084e32-8cff-48a5-fe16-996abd9ef2c3",
        "colab": {
          "base_uri": "https://localhost:8080/"
        }
      },
      "outputs": [
        {
          "output_type": "stream",
          "name": "stdout",
          "text": [
            "['a', 'b', 'c', 'd', 'e', 'f', 'g', 'h']\n",
            "[0, 1, 2, 3, 4, 5, 6, 7]\n"
          ]
        }
      ],
      "source": [
        "keys = [x for x in \"abcdefgh\"]\n",
        "values = [y for y in range(0,8)]\n",
        "print(keys)\n",
        "print(values)"
      ]
    },
    {
      "cell_type": "code",
      "source": [
        "dict(zip(keys, values))"
      ],
      "metadata": {
        "id": "f5JE6UmxnVcb",
        "outputId": "d7e1859d-248e-4d46-bb94-cd2c8e768586",
        "colab": {
          "base_uri": "https://localhost:8080/"
        }
      },
      "id": "f5JE6UmxnVcb",
      "execution_count": 7,
      "outputs": [
        {
          "output_type": "execute_result",
          "data": {
            "text/plain": [
              "{'a': 0, 'b': 1, 'c': 2, 'd': 3, 'e': 4, 'f': 5, 'g': 6, 'h': 7}"
            ]
          },
          "metadata": {},
          "execution_count": 7
        }
      ]
    },
    {
      "cell_type": "markdown",
      "id": "86a15824",
      "metadata": {
        "id": "86a15824"
      },
      "source": [
        "### Creating a dictionary with dictionary comprehensions\n",
        "\n",
        "- Can create a dictionary using dictionary comprehensions!\n",
        "- Smilar to list comprehensions but we use `{` instead of `[`"
      ]
    },
    {
      "cell_type": "code",
      "execution_count": 8,
      "id": "ba450c54",
      "metadata": {
        "lines_to_next_cell": 0,
        "id": "ba450c54",
        "outputId": "6a976723-bcfe-4541-b750-adc44562c064",
        "colab": {
          "base_uri": "https://localhost:8080/"
        }
      },
      "outputs": [
        {
          "output_type": "execute_result",
          "data": {
            "text/plain": [
              "{0: 0, 1: 1, 2: 2, 3: 3, 4: 4, 5: 5}"
            ]
          },
          "metadata": {},
          "execution_count": 8
        }
      ],
      "source": [
        "mydict = {i: i for i in range(0, 6)}\n",
        "mydict"
      ]
    },
    {
      "cell_type": "code",
      "source": [
        "mydict = {\"abcdef\"[i]: i**2 for i in range(0, 6)}\n",
        "mydict"
      ],
      "metadata": {
        "id": "QgjON7Ncne1K",
        "outputId": "594066d8-68ab-420d-849b-6e82ab1b5a99",
        "colab": {
          "base_uri": "https://localhost:8080/"
        }
      },
      "id": "QgjON7Ncne1K",
      "execution_count": 9,
      "outputs": [
        {
          "output_type": "execute_result",
          "data": {
            "text/plain": [
              "{'a': 0, 'b': 1, 'c': 4, 'd': 9, 'e': 16, 'f': 25}"
            ]
          },
          "metadata": {},
          "execution_count": 9
        }
      ]
    },
    {
      "cell_type": "markdown",
      "id": "1760b192",
      "metadata": {
        "id": "1760b192"
      },
      "source": [
        "---\n",
        "\n",
        "## Dictionary Operations\n"
      ]
    },
    {
      "cell_type": "markdown",
      "source": [
        "### Indexing a Dictionary\n",
        "\n",
        "- Index with a `[key]` (remember unordered!)"
      ],
      "metadata": {
        "id": "wfIl1SYKnj7a"
      },
      "id": "wfIl1SYKnj7a"
    },
    {
      "cell_type": "code",
      "execution_count": 10,
      "id": "1388c139",
      "metadata": {
        "lines_to_next_cell": 0,
        "id": "1388c139",
        "outputId": "df259631-7fcf-4903-f533-3b4537ecc5e3",
        "colab": {
          "base_uri": "https://localhost:8080/"
        }
      },
      "outputs": [
        {
          "output_type": "execute_result",
          "data": {
            "text/plain": [
              "['Steelers', 'Browns', 'Ravens', 'Bengals']"
            ]
          },
          "metadata": {},
          "execution_count": 10
        }
      ],
      "source": [
        "AFCDivisions = {\n",
        "  \"North\": [\"Steelers\", \"Browns\", \"Ravens\", \"Bengals\"],\n",
        "  \"East\" : [\"Patriots\", \"Jets\", \"Dolphins\", \"Bills\"],\n",
        "  \"West\" : [\"Raiders\", \"Chiefs\", \"Chargers\", \"Broncos\"]\n",
        "  }\n",
        "AFCDivisions[\"North\"]"
      ]
    },
    {
      "cell_type": "markdown",
      "id": "92450a55",
      "metadata": {
        "id": "92450a55"
      },
      "source": [
        "- You can access the returned object in the same line of code\n"
      ]
    },
    {
      "cell_type": "code",
      "source": [
        "AFCDivisions[\"North\"][0]"
      ],
      "metadata": {
        "id": "q2NzkDh-nud6",
        "outputId": "bdead048-439b-4a06-bf49-c0bb0352f744",
        "colab": {
          "base_uri": "https://localhost:8080/",
          "height": 35
        }
      },
      "id": "q2NzkDh-nud6",
      "execution_count": 11,
      "outputs": [
        {
          "output_type": "execute_result",
          "data": {
            "text/plain": [
              "'Steelers'"
            ],
            "application/vnd.google.colaboratory.intrinsic+json": {
              "type": "string"
            }
          },
          "metadata": {},
          "execution_count": 11
        }
      ]
    },
    {
      "cell_type": "markdown",
      "id": "3a7cb05b",
      "metadata": {
        "id": "3a7cb05b"
      },
      "source": [
        "- We can add new key/value pairs by simply referencing a key that doesn't exist\n",
        "- Here we add the \"South\" key with a silly value\n"
      ]
    },
    {
      "cell_type": "code",
      "execution_count": 13,
      "id": "8b97248a",
      "metadata": {
        "lines_to_next_cell": 2,
        "id": "8b97248a",
        "outputId": "fe7bc4c4-55e2-4913-e4f9-b29e0d96e9fc",
        "colab": {
          "base_uri": "https://localhost:8080/"
        }
      },
      "outputs": [
        {
          "output_type": "execute_result",
          "data": {
            "text/plain": [
              "{'North': ['Steelers', 'Browns', 'Ravens', 'Bengals'],\n",
              " 'East': ['Patriots', 'Jets', 'Dolphins', 'Bills'],\n",
              " 'West': ['Raiders', 'Chiefs', 'Chargers', 'Broncos'],\n",
              " 'South': [1, 2]}"
            ]
          },
          "metadata": {},
          "execution_count": 13
        }
      ],
      "source": [
        "AFCDivisions = {\n",
        "  \"North\": [\"Steelers\", \"Browns\", \"Ravens\", \"Bengals\"],\n",
        "  \"East\" : [\"Patriots\", \"Jets\", \"Dolphins\", \"Bills\"],\n",
        "  \"West\" : [\"Raiders\", \"Chiefs\", \"Chargers\", \"Broncos\"]\n",
        "  }\n",
        "AFCDivisions[\"South\"] = [1, 2]\n",
        "AFCDivisions"
      ]
    },
    {
      "cell_type": "markdown",
      "source": [
        "- You can iterate over the keys in a dictionary"
      ],
      "metadata": {
        "id": "Q4ceCaxJoG7J"
      },
      "id": "Q4ceCaxJoG7J"
    },
    {
      "cell_type": "code",
      "source": [
        "for key in AFCDivisions:              #keys are what are iterated over\n",
        "    print(key, ' : ', AFCDivisions[key])"
      ],
      "metadata": {
        "id": "69h_lD7yoD_q",
        "outputId": "39172769-e7ef-4c79-9d1e-8e5fb76d1eed",
        "colab": {
          "base_uri": "https://localhost:8080/"
        }
      },
      "id": "69h_lD7yoD_q",
      "execution_count": 15,
      "outputs": [
        {
          "output_type": "stream",
          "name": "stdout",
          "text": [
            "North  :  ['Steelers', 'Browns', 'Ravens', 'Bengals']\n",
            "East  :  ['Patriots', 'Jets', 'Dolphins', 'Bills']\n",
            "West  :  ['Raiders', 'Chiefs', 'Chargers', 'Broncos']\n",
            "South  :  [1, 2]\n"
          ]
        }
      ]
    },
    {
      "cell_type": "markdown",
      "id": "8ecde0eb",
      "metadata": {
        "id": "8ecde0eb"
      },
      "source": [
        "- You can overwrite the values similar to how you can add a key/value pair after the fact. Here we overwrite the \"South\" value."
      ]
    },
    {
      "cell_type": "code",
      "execution_count": 16,
      "id": "f34fc0a1",
      "metadata": {
        "lines_to_next_cell": 2,
        "id": "f34fc0a1",
        "outputId": "0f4d8c25-83fe-46f7-accc-17fa7f722db9",
        "colab": {
          "base_uri": "https://localhost:8080/"
        }
      },
      "outputs": [
        {
          "output_type": "stream",
          "name": "stdout",
          "text": [
            "North  :  ['Steelers', 'Browns', 'Ravens', 'Bengals']\n",
            "East  :  ['Patriots', 'Jets', 'Dolphins', 'Bills']\n",
            "West  :  ['Raiders', 'Chiefs', 'Chargers', 'Broncos']\n",
            "South  :  ['Texans', 'Colts', 'Jaguars', 'Titans']\n"
          ]
        }
      ],
      "source": [
        "AFCDivisions = {\n",
        "  \"North\": [\"Steelers\", \"Browns\", \"Ravens\", \"Bengals\"],\n",
        "  \"East\" : [\"Patriots\", \"Jets\", \"Dolphins\", \"Bills\"],\n",
        "  \"West\" : [\"Raiders\", \"Chiefs\", \"Chargers\", \"Broncos\"]\n",
        "  }\n",
        "AFCDivisions[\"South\"] = [1, 2]\n",
        "AFCDivisions[\"South\"] = [\"Texans\", \"Colts\", \"Jaguars\", \"Titans\"]\n",
        "for key in AFCDivisions:\n",
        "    print(key, ' : ', AFCDivisions[key])"
      ]
    },
    {
      "cell_type": "markdown",
      "id": "f93ad58f",
      "metadata": {
        "id": "f93ad58f"
      },
      "source": [
        "---\n",
        "\n",
        "### Dictionary Packing & Unpacking\n",
        "\n",
        "- We can **pack** dictionaries using `**` similar to how we packed a list!\n",
        "- Here we create a dictionary called `Divisions` where we pack two dictionaries inside it"
      ]
    },
    {
      "cell_type": "code",
      "execution_count": 17,
      "id": "5d4762d1",
      "metadata": {
        "lines_to_next_cell": 0,
        "id": "5d4762d1",
        "outputId": "6ad56bd3-b309-474d-bd26-8bb806b1a979",
        "colab": {
          "base_uri": "https://localhost:8080/"
        }
      },
      "outputs": [
        {
          "output_type": "stream",
          "name": "stdout",
          "text": [
            "AFCNorth  :  ['Steelers', 'Browns', 'Ravens', 'Bengals']\n",
            "AFCEast  :  ['Patriots', 'Jets', 'Dolphins', 'Bills']\n",
            "AFCWest  :  ['Raiders', 'Chiefs', 'Chargers', 'Broncos']\n",
            "AFCSouth  :  ['Texans', 'Colts', 'Jaguars', 'Titans']\n",
            "NFCNorth  :  ['Lions', 'Bears', 'Packers', 'Vikings']\n",
            "NFCEast  :  ['Giants', 'Cowboys', 'Eagles', 'Admirals']\n"
          ]
        }
      ],
      "source": [
        "AFCDivisions = {\n",
        "  \"AFCNorth\": [\"Steelers\", \"Browns\", \"Ravens\", \"Bengals\"],\n",
        "  \"AFCEast\" : [\"Patriots\", \"Jets\", \"Dolphins\", \"Bills\"],\n",
        "  \"AFCWest\" : [\"Raiders\", \"Chiefs\", \"Chargers\", \"Broncos\"],\n",
        "  \"AFCSouth\": [\"Texans\", \"Colts\", \"Jaguars\", \"Titans\"]\n",
        "  }\n",
        "\n",
        "NFCDivisions = {\n",
        "  \"NFCNorth\" : [\"Lions\", \"Bears\", \"Packers\", \"Vikings\"],\n",
        "  \"NFCEast\"  : [\"Giants\", \"Cowboys\", \"Eagles\", \"Admirals\"]\n",
        "}\n",
        "\n",
        "Divisions = {**AFCDivisions, **NFCDivisions}\n",
        "for key in Divisions:\n",
        "    print(key, ' : ', Divisions[key])"
      ]
    },
    {
      "cell_type": "markdown",
      "id": "ae93aef5",
      "metadata": {
        "id": "ae93aef5"
      },
      "source": [
        "---\n",
        "\n",
        "## Dictionary Methods\n",
        "\n",
        "[Many useful methods](https://www.tutorialspoint.com/python/python_dictionary.htm)\n",
        "\n",
        "- Index with `.get()` instead of the other ways we've done\n",
        "- Advantage is that it doesn't throw an error if key doesn't exist"
      ]
    },
    {
      "cell_type": "code",
      "execution_count": 19,
      "id": "ec6dd7e9",
      "metadata": {
        "lines_to_next_cell": 0,
        "id": "ec6dd7e9",
        "outputId": "1877bdcb-57d6-4670-a120-c1b44f4b184b",
        "colab": {
          "base_uri": "https://localhost:8080/"
        }
      },
      "outputs": [
        {
          "output_type": "execute_result",
          "data": {
            "text/plain": [
              "['Texans', 'Colts', 'Jaguars', 'Titans']"
            ]
          },
          "metadata": {},
          "execution_count": 19
        }
      ],
      "source": [
        "AFCDivisions = {\n",
        "  \"North\": [\"Steelers\", \"Browns\", \"Ravens\", \"Bengals\"],\n",
        "  \"East\" : [\"Patriots\", \"Jets\", \"Dolphins\", \"Bills\"],\n",
        "  \"West\" : [\"Raiders\", \"Chiefs\", \"Chargers\", \"Broncos\"],\n",
        "  \"South\": [\"Texans\", \"Colts\", \"Jaguars\", \"Titans\"]\n",
        "  }\n",
        "AFCDivisions.get(\"South\")"
      ]
    },
    {
      "cell_type": "code",
      "source": [
        "AFCDivisions.get(\"Northeast\") #doesn't throw an error"
      ],
      "metadata": {
        "id": "eeZuKSuJpFBW"
      },
      "id": "eeZuKSuJpFBW",
      "execution_count": 22,
      "outputs": []
    },
    {
      "cell_type": "code",
      "execution_count": 23,
      "id": "9b5c370a",
      "metadata": {
        "error": true,
        "lines_to_next_cell": 2,
        "id": "9b5c370a",
        "outputId": "43a0ea54-6d29-4b72-d419-7f0dd45b1660",
        "colab": {
          "base_uri": "https://localhost:8080/",
          "height": 176
        }
      },
      "outputs": [
        {
          "output_type": "error",
          "ename": "KeyError",
          "evalue": "'Northeast'",
          "traceback": [
            "\u001b[0;31m---------------------------------------------------------------------------\u001b[0m",
            "\u001b[0;31mKeyError\u001b[0m                                  Traceback (most recent call last)",
            "\u001b[0;32m<ipython-input-23-4c30b3284c03>\u001b[0m in \u001b[0;36m<cell line: 1>\u001b[0;34m()\u001b[0m\n\u001b[0;32m----> 1\u001b[0;31m \u001b[0mAFCDivisions\u001b[0m\u001b[0;34m[\u001b[0m\u001b[0;34m\"Northeast\"\u001b[0m\u001b[0;34m]\u001b[0m \u001b[0;31m#throws an error\u001b[0m\u001b[0;34m\u001b[0m\u001b[0;34m\u001b[0m\u001b[0m\n\u001b[0m",
            "\u001b[0;31mKeyError\u001b[0m: 'Northeast'"
          ]
        }
      ],
      "source": [
        "AFCDivisions[\"Northeast\"] #throws an error"
      ]
    },
    {
      "cell_type": "markdown",
      "id": "e302d582",
      "metadata": {
        "id": "e302d582"
      },
      "source": [
        "- Return keys with `.keys()`; values with `.values()`"
      ]
    },
    {
      "cell_type": "code",
      "execution_count": 24,
      "id": "1100432a",
      "metadata": {
        "id": "1100432a",
        "outputId": "7501a60f-129f-443f-878b-68b993b3cf82",
        "colab": {
          "base_uri": "https://localhost:8080/"
        }
      },
      "outputs": [
        {
          "output_type": "execute_result",
          "data": {
            "text/plain": [
              "dict_keys(['North', 'East', 'West', 'South'])"
            ]
          },
          "metadata": {},
          "execution_count": 24
        }
      ],
      "source": [
        "AFCDivisions = {\n",
        "  \"North\": [\"Steelers\", \"Browns\", \"Ravens\", \"Bengals\"],\n",
        "  \"East\" : [\"Patriots\", \"Jets\", \"Dolphins\", \"Bills\"],\n",
        "  \"West\" : [\"Raiders\", \"Chiefs\", \"Chargers\", \"Broncos\"],\n",
        "  \"South\": [\"Texans\", \"Colts\", \"Jaguars\", \"Titans\"]\n",
        "  }\n",
        "AFCDivisions.keys()"
      ]
    },
    {
      "cell_type": "code",
      "source": [
        "AFCDivisions.values()"
      ],
      "metadata": {
        "id": "HJgI9wUypVQm",
        "outputId": "8df0dac2-8867-4c10-8263-b744b58adefa",
        "colab": {
          "base_uri": "https://localhost:8080/"
        }
      },
      "id": "HJgI9wUypVQm",
      "execution_count": 25,
      "outputs": [
        {
          "output_type": "execute_result",
          "data": {
            "text/plain": [
              "dict_values([['Steelers', 'Browns', 'Ravens', 'Bengals'], ['Patriots', 'Jets', 'Dolphins', 'Bills'], ['Raiders', 'Chiefs', 'Chargers', 'Broncos'], ['Texans', 'Colts', 'Jaguars', 'Titans']])"
            ]
          },
          "metadata": {},
          "execution_count": 25
        }
      ]
    },
    {
      "cell_type": "markdown",
      "id": "fd1cd3ea",
      "metadata": {
        "id": "fd1cd3ea"
      },
      "source": [
        "- Return and remove a specified key with `.pop()` (similar to the list method)"
      ]
    },
    {
      "cell_type": "code",
      "execution_count": 27,
      "id": "7b7f9165",
      "metadata": {
        "tags": [
          "remove_input"
        ],
        "id": "7b7f9165",
        "outputId": "0fa8bb06-44ad-409b-823d-ea9eb9d8ba81",
        "colab": {
          "base_uri": "https://localhost:8080/"
        }
      },
      "outputs": [
        {
          "output_type": "execute_result",
          "data": {
            "text/plain": [
              "['Steelers', 'Browns', 'Ravens', 'Bengals']"
            ]
          },
          "metadata": {},
          "execution_count": 27
        }
      ],
      "source": [
        "AFCDivisions = {\n",
        "  \"North\": [\"Steelers\", \"Browns\", \"Ravens\", \"Bengals\"],\n",
        "  \"East\" : [\"Patriots\", \"Jets\", \"Dolphins\", \"Bills\"],\n",
        "  \"West\" : [\"Raiders\", \"Chiefs\", \"Chargers\", \"Broncos\"],\n",
        "  \"South\": [\"Texans\", \"Colts\", \"Jaguars\", \"Titans\"]\n",
        "  }\n",
        "AFCDivisions.pop(\"North\") #modifies the dictionary"
      ]
    },
    {
      "cell_type": "code",
      "execution_count": 28,
      "id": "a54b855a",
      "metadata": {
        "lines_to_next_cell": 0,
        "id": "a54b855a",
        "outputId": "b1817649-d595-4189-e7d4-50883970f2a2",
        "colab": {
          "base_uri": "https://localhost:8080/"
        }
      },
      "outputs": [
        {
          "output_type": "stream",
          "name": "stdout",
          "text": [
            "East  :  ['Patriots', 'Jets', 'Dolphins', 'Bills']\n",
            "West  :  ['Raiders', 'Chiefs', 'Chargers', 'Broncos']\n",
            "South  :  ['Texans', 'Colts', 'Jaguars', 'Titans']\n"
          ]
        }
      ],
      "source": [
        "for key in AFCDivisions:\n",
        "    print(key, ' : ', AFCDivisions[key])"
      ]
    },
    {
      "cell_type": "markdown",
      "id": "ec449b1e",
      "metadata": {
        "id": "ec449b1e"
      },
      "source": [
        "- Merge in another dictionary with `.update()`\n",
        "- Very similar to dictionary packing done above but it replaces modifies one of the dictionaries"
      ]
    },
    {
      "cell_type": "code",
      "execution_count": 29,
      "id": "4680df02",
      "metadata": {
        "lines_to_next_cell": 0,
        "id": "4680df02",
        "outputId": "24936df1-5360-4fa8-eae1-3d0304ade36a",
        "colab": {
          "base_uri": "https://localhost:8080/"
        }
      },
      "outputs": [
        {
          "output_type": "stream",
          "name": "stdout",
          "text": [
            "AFCNorth  :  ['Steelers', 'Browns', 'Ravens', 'Bengals']\n",
            "AFCEast  :  ['Patriots', 'Jets', 'Dolphins', 'Bills']\n",
            "AFCWest  :  ['Raiders', 'Chiefs', 'Chargers', 'Broncos']\n",
            "AFCSouth  :  ['Texans', 'Colts', 'Jaguars', 'Titans']\n",
            "NorthNFC  :  ['Lions', 'Packers', 'Bears', 'Vikings']\n"
          ]
        }
      ],
      "source": [
        "Divisions = {\n",
        "  \"AFCNorth\": [\"Steelers\", \"Browns\", \"Ravens\", \"Bengals\"],\n",
        "  \"AFCEast\" : [\"Patriots\", \"Jets\", \"Dolphins\", \"Bills\"],\n",
        "  \"AFCWest\" : [\"Raiders\", \"Chiefs\", \"Chargers\", \"Broncos\"],\n",
        "  \"AFCSouth\": [\"Texans\", \"Colts\", \"Jaguars\", \"Titans\"]\n",
        "  }\n",
        "NFCNorth = {\n",
        "  \"NorthNFC\": [\"Lions\", \"Packers\", \"Bears\", \"Vikings\"]\n",
        "  }\n",
        "Divisions.update(NFCNorth) #combine the dictionaries\n",
        "for key in Divisions.keys():\n",
        "    print(key, \" : \", Divisions[key])"
      ]
    },
    {
      "cell_type": "markdown",
      "id": "cf64582f",
      "metadata": {
        "id": "cf64582f"
      },
      "source": [
        "---\n",
        "\n",
        "# Video Demo\n",
        "\n",
        "This quick video demo shows an example of creating dictionaries with lists as the values, creating with tuples as the keys, and checking if some values occur in the dictionary using `in` and/or `not in`. (Coming soon)"
      ]
    },
    {
      "cell_type": "markdown",
      "id": "b7d75edc",
      "metadata": {
        "id": "b7d75edc"
      },
      "source": [
        "---\n",
        "\n",
        "# Recap\n",
        "\n",
        "- Dictionaries have key value pairs\n",
        "\n",
        "    - Keys can be any immutable object\n",
        "    \n",
        "    - Values can be pretty generic using something like a list\n",
        "    \n",
        "- Mutable\n",
        "\n",
        "- Unordered - access via `[key]` or using `.get()` method\n"
      ]
    }
  ],
  "metadata": {
    "jupytext": {
      "cell_metadata_filter": "message,error,warning,tags,-all",
      "main_language": "python",
      "notebook_metadata_filter": "-all"
    },
    "colab": {
      "provenance": [],
      "toc_visible": true,
      "include_colab_link": true
    },
    "language_info": {
      "name": "python"
    },
    "kernelspec": {
      "name": "python3",
      "display_name": "Python 3"
    }
  },
  "nbformat": 4,
  "nbformat_minor": 5
}