{
  "cells": [
    {
      "cell_type": "markdown",
      "metadata": {
        "id": "view-in-github",
        "colab_type": "text"
      },
      "source": [
        "<a href=\"https://colab.research.google.com/github/jbpost2/ST-554-Big-Data-With-Python-Course-Notes/blob/main/01_Programming_in_python/14_Pandas_Series.ipynb\" target=\"_parent\"><img src=\"https://colab.research.google.com/assets/colab-badge.svg\" alt=\"Open In Colab\"/></a>"
      ]
    },
    {
      "cell_type": "markdown",
      "id": "d958afa0",
      "metadata": {
        "lines_to_next_cell": 0,
        "id": "d958afa0"
      },
      "source": [
        "# Pandas Series\n",
        "Justin Post\n",
        "\n",
        "---\n",
        "\n",
        "- [Pandas](https://pandas.pydata.org/) library supports a data frame object similar to R's data.frame\n",
        "\n",
        "![](https://drive.google.com/uc?export=view&id=1MFemy7erGLCxMRKejDgesFFTzTfQynOm)\n",
        "\n",
        "- Convention is to import the module as `pd`\n",
        "\n",
        "- First we'll learn about the **series** objects. These make up a data frame object, which we'll use to handle many rectangular datasets\n",
        "\n",
        "- pandas *series*\n",
        "    + 1D labeled array that can hold any data type\n",
        "    + Contains values and indices that are used to extract those values"
      ]
    },
    {
      "cell_type": "markdown",
      "source": [
        "## Creating a pandas Series\n",
        "\n",
        "- Create a series using the `pd.Series()` function"
      ],
      "metadata": {
        "id": "Lt3nb3fj2cMc"
      },
      "id": "Lt3nb3fj2cMc"
    },
    {
      "cell_type": "code",
      "execution_count": 3,
      "id": "c20756ff",
      "metadata": {
        "lines_to_next_cell": 2,
        "id": "c20756ff",
        "outputId": "df3fbf81-0ff3-4448-adce-6542bcd70c3d",
        "colab": {
          "base_uri": "https://localhost:8080/"
        }
      },
      "outputs": [
        {
          "output_type": "execute_result",
          "data": {
            "text/plain": [
              "0    2.756214\n",
              "1   -0.090994\n",
              "2    0.347746\n",
              "3   -7.765870\n",
              "4    9.198830\n",
              "5    6.576663\n",
              "6    0.698309\n",
              "7    5.095226\n",
              "8    3.124843\n",
              "9   -0.215291\n",
              "dtype: float64"
            ]
          },
          "metadata": {},
          "execution_count": 3
        }
      ],
      "source": [
        "import numpy as np\n",
        "import pandas as pd\n",
        "rng = np.random.default_rng(2) #set a seed\n",
        "s = pd.Series(rng.normal(size = 10, loc = 2, scale = 4)) #mean of 2 and std of 4\n",
        "s"
      ]
    },
    {
      "cell_type": "markdown",
      "id": "40025955",
      "metadata": {
        "lines_to_next_cell": 0,
        "id": "40025955"
      },
      "source": [
        "---\n",
        "\n",
        "## Indexing a Series\n",
        "\n",
        "- The ordering starts at 0\n",
        "- Like `numpy` arrays, all elements in a series must be of the same type\n",
        "- Unlike `numpy` arrays, series can be indexed by an `index` attribute (not just the numeric index)\n",
        "- `.index` attribute returns just the indices"
      ]
    },
    {
      "cell_type": "code",
      "execution_count": 4,
      "id": "d5f4ac3a",
      "metadata": {
        "lines_to_next_cell": 0,
        "id": "d5f4ac3a",
        "outputId": "0d1f6f2c-2b0a-4b75-b164-7602fc1cde18",
        "colab": {
          "base_uri": "https://localhost:8080/"
        }
      },
      "outputs": [
        {
          "output_type": "execute_result",
          "data": {
            "text/plain": [
              "RangeIndex(start=0, stop=10, step=1)"
            ]
          },
          "metadata": {},
          "execution_count": 4
        }
      ],
      "source": [
        "s.index"
      ]
    },
    {
      "cell_type": "code",
      "source": [
        "s[0] #is both the numeric index and the value of an index here"
      ],
      "metadata": {
        "id": "DyNSp3Ox4PdN",
        "outputId": "7b63cb19-2819-4b8a-cdc2-501075bdb3cf",
        "colab": {
          "base_uri": "https://localhost:8080/"
        }
      },
      "id": "DyNSp3Ox4PdN",
      "execution_count": 5,
      "outputs": [
        {
          "output_type": "execute_result",
          "data": {
            "text/plain": [
              "2.756213527174132"
            ]
          },
          "metadata": {},
          "execution_count": 5
        }
      ]
    },
    {
      "cell_type": "code",
      "source": [
        "s2 = pd.Series(rng.normal(size = 10, loc = 2, scale = 4),\n",
        "               index = [x for x in \"abcdefghij\"])\n",
        "s2"
      ],
      "metadata": {
        "id": "9-HVmLsS4Qz_",
        "outputId": "3f65b67c-9e28-45cd-bb2d-66eb9a7a87a1",
        "colab": {
          "base_uri": "https://localhost:8080/"
        }
      },
      "id": "9-HVmLsS4Qz_",
      "execution_count": 7,
      "outputs": [
        {
          "output_type": "execute_result",
          "data": {
            "text/plain": [
              "a    5.910270\n",
              "b    0.757774\n",
              "c    0.684704\n",
              "d   -1.168587\n",
              "e    3.819832\n",
              "f    1.603208\n",
              "g    4.181155\n",
              "h   -0.428743\n",
              "i    2.507311\n",
              "j   -1.569096\n",
              "dtype: float64"
            ]
          },
          "metadata": {},
          "execution_count": 7
        }
      ]
    },
    {
      "cell_type": "code",
      "source": [
        "s2.index"
      ],
      "metadata": {
        "id": "bFWfKHfC4mLj",
        "outputId": "dd0050c5-8dce-423e-b020-62803502f413",
        "colab": {
          "base_uri": "https://localhost:8080/"
        }
      },
      "id": "bFWfKHfC4mLj",
      "execution_count": 8,
      "outputs": [
        {
          "output_type": "execute_result",
          "data": {
            "text/plain": [
              "Index(['a', 'b', 'c', 'd', 'e', 'f', 'g', 'h', 'i', 'j'], dtype='object')"
            ]
          },
          "metadata": {},
          "execution_count": 8
        }
      ]
    },
    {
      "cell_type": "markdown",
      "source": [
        "We can access elements with the numeric index of this index value."
      ],
      "metadata": {
        "id": "I2Zymy224qlY"
      },
      "id": "I2Zymy224qlY"
    },
    {
      "cell_type": "code",
      "source": [
        "s2[2]"
      ],
      "metadata": {
        "id": "kVmovk434ukK",
        "outputId": "e6a564f1-35af-4402-d825-fbb0f3385322",
        "colab": {
          "base_uri": "https://localhost:8080/"
        }
      },
      "id": "kVmovk434ukK",
      "execution_count": 10,
      "outputs": [
        {
          "output_type": "execute_result",
          "data": {
            "text/plain": [
              "0.6847043837681492"
            ]
          },
          "metadata": {},
          "execution_count": 10
        }
      ]
    },
    {
      "cell_type": "code",
      "source": [
        "s2[\"c\"]"
      ],
      "metadata": {
        "id": "HFOJd-Z94n8G",
        "outputId": "8707f540-382a-4b02-e98a-b5ae9f1dcb84",
        "colab": {
          "base_uri": "https://localhost:8080/"
        }
      },
      "id": "HFOJd-Z94n8G",
      "execution_count": 11,
      "outputs": [
        {
          "output_type": "execute_result",
          "data": {
            "text/plain": [
              "0.6847043837681492"
            ]
          },
          "metadata": {},
          "execution_count": 11
        }
      ]
    },
    {
      "cell_type": "markdown",
      "id": "842f04bd",
      "metadata": {
        "id": "842f04bd"
      },
      "source": [
        "- We can obtain just the values with of a series using the `.values` attribute"
      ]
    },
    {
      "cell_type": "code",
      "execution_count": 12,
      "id": "5526d2cb",
      "metadata": {
        "lines_to_next_cell": 0,
        "id": "5526d2cb",
        "outputId": "ec06928d-976a-493b-e36b-d652a34c0584",
        "colab": {
          "base_uri": "https://localhost:8080/"
        }
      },
      "outputs": [
        {
          "output_type": "execute_result",
          "data": {
            "text/plain": [
              "array([ 2.75621353, -0.09099377,  0.34774583, -7.76586953,  9.19882953,\n",
              "        6.57666349,  0.69830865,  5.09522635,  3.12484268, -0.21529135])"
            ]
          },
          "metadata": {},
          "execution_count": 12
        }
      ],
      "source": [
        "s.values"
      ]
    },
    {
      "cell_type": "code",
      "source": [
        "s2.values"
      ],
      "metadata": {
        "id": "GfIY2T_q4-hC",
        "outputId": "81d4b0a8-9d46-47b7-8fbb-1079d4e6fd97",
        "colab": {
          "base_uri": "https://localhost:8080/"
        }
      },
      "id": "GfIY2T_q4-hC",
      "execution_count": 13,
      "outputs": [
        {
          "output_type": "execute_result",
          "data": {
            "text/plain": [
              "array([ 5.9102698 ,  0.75777381,  0.68470438, -1.16858702,  3.81983228,\n",
              "        1.60320779,  4.18115486, -0.4287428 ,  2.50731139, -1.56909617])"
            ]
          },
          "metadata": {},
          "execution_count": 13
        }
      ]
    },
    {
      "cell_type": "markdown",
      "source": [
        "- Note that when you return the values you get back just a numpy array!"
      ],
      "metadata": {
        "id": "LvHVuqf65EWm"
      },
      "id": "LvHVuqf65EWm"
    },
    {
      "cell_type": "code",
      "source": [
        "type(s2.values)"
      ],
      "metadata": {
        "id": "KDzhe6uH5CMA",
        "outputId": "de20516e-dce9-440d-f4d5-cc48f3b6ddb5",
        "colab": {
          "base_uri": "https://localhost:8080/"
        }
      },
      "id": "KDzhe6uH5CMA",
      "execution_count": 14,
      "outputs": [
        {
          "output_type": "execute_result",
          "data": {
            "text/plain": [
              "numpy.ndarray"
            ]
          },
          "metadata": {},
          "execution_count": 14
        }
      ]
    },
    {
      "cell_type": "markdown",
      "id": "44272825",
      "metadata": {
        "lines_to_next_cell": 0,
        "id": "44272825"
      },
      "source": [
        "---\n",
        "\n",
        "# Series Relation to Other Common Objects\n"
      ]
    },
    {
      "cell_type": "markdown",
      "source": [
        "### Relation to Dictionaries\n",
        "\n",
        "- Recall a dictionary consists of key/value pairs\n",
        "- When creating a series from a dictionary, the keys of the dictionary become the indices\n"
      ],
      "metadata": {
        "id": "GwlLz_N15SdH"
      },
      "id": "GwlLz_N15SdH"
    },
    {
      "cell_type": "code",
      "execution_count": 15,
      "id": "31a487af",
      "metadata": {
        "lines_to_next_cell": 2,
        "id": "31a487af",
        "outputId": "d5c84b5c-75e2-462c-f4cd-abf55977ea2c",
        "colab": {
          "base_uri": "https://localhost:8080/"
        }
      },
      "outputs": [
        {
          "output_type": "execute_result",
          "data": {
            "text/plain": [
              "b    1\n",
              "a    0\n",
              "c    2\n",
              "dtype: int64"
            ]
          },
          "metadata": {},
          "execution_count": 15
        }
      ],
      "source": [
        "d = {'b': 1,\n",
        "     'a': 0,\n",
        "     'c': 2}\n",
        "pd.Series(d)"
      ]
    },
    {
      "cell_type": "code",
      "execution_count": 18,
      "id": "04416957",
      "metadata": {
        "lines_to_next_cell": 2,
        "id": "04416957",
        "outputId": "ea41fde4-f238-4052-8408-73cd1ab7e362",
        "colab": {
          "base_uri": "https://localhost:8080/"
        }
      },
      "outputs": [
        {
          "output_type": "execute_result",
          "data": {
            "text/plain": [
              "AFCNorth     [Steelers, Browns, Ravens, Bengals]\n",
              "AFCEast        [Patriots, Jets, Dolphins, Bills]\n",
              "AFCWest     [Raiders, Chiefs, Chargers, Broncos]\n",
              "AFCSouth        [Texans, Colts, Jaguars, Titans]\n",
              "dtype: object"
            ]
          },
          "metadata": {},
          "execution_count": 18
        }
      ],
      "source": [
        "AFCDivisions = {\n",
        "  \"AFCNorth\": [\"Steelers\", \"Browns\", \"Ravens\", \"Bengals\"],\n",
        "  \"AFCEast\" : [\"Patriots\", \"Jets\", \"Dolphins\", \"Bills\"],\n",
        "  \"AFCWest\" : [\"Raiders\", \"Chiefs\", \"Chargers\", \"Broncos\"],\n",
        "  \"AFCSouth\": [\"Texans\", \"Colts\", \"Jaguars\", \"Titans\"]\n",
        "  }\n",
        "div_series = pd.Series(AFCDivisions)\n",
        "div_series"
      ]
    },
    {
      "cell_type": "markdown",
      "id": "c5d05dd2",
      "metadata": {
        "lines_to_next_cell": 0,
        "id": "c5d05dd2"
      },
      "source": [
        "- Series are like a fixed-size `dict` object\n",
        "\n",
        "    + Can get and set values within a series using the index label\n",
        "    + But Series have an ordering to them so, unlike a dictionary, we can use a numeric index\n"
      ]
    },
    {
      "cell_type": "code",
      "source": [
        "div_series[\"AFCNorth\"]"
      ],
      "metadata": {
        "id": "-aOjPFr_6E6d",
        "outputId": "606a0619-e64c-410f-9702-f36d12baf91f",
        "colab": {
          "base_uri": "https://localhost:8080/"
        }
      },
      "id": "-aOjPFr_6E6d",
      "execution_count": 23,
      "outputs": [
        {
          "output_type": "execute_result",
          "data": {
            "text/plain": [
              "['Steelers', 'Browns', 'Ravens', 'Bengals']"
            ]
          },
          "metadata": {},
          "execution_count": 23
        }
      ]
    },
    {
      "cell_type": "code",
      "execution_count": 22,
      "id": "eefbc615",
      "metadata": {
        "id": "eefbc615",
        "outputId": "be6594d2-3dda-4d61-f844-6944763b2879",
        "colab": {
          "base_uri": "https://localhost:8080/"
        }
      },
      "outputs": [
        {
          "output_type": "execute_result",
          "data": {
            "text/plain": [
              "['Steelers', 'Browns', 'Ravens', 'Bengals']"
            ]
          },
          "metadata": {},
          "execution_count": 22
        }
      ],
      "source": [
        "div_series[0]"
      ]
    },
    {
      "cell_type": "markdown",
      "id": "9e4a141f",
      "metadata": {
        "id": "9e4a141f"
      },
      "source": [
        "- We can check if an index occurs similar to how we could check if a key occurred in a dictionary"
      ]
    },
    {
      "cell_type": "code",
      "execution_count": 24,
      "id": "0dc2cc37",
      "metadata": {
        "lines_to_next_cell": 0,
        "id": "0dc2cc37",
        "outputId": "a72381d1-3987-4d18-e70a-c7612e528343",
        "colab": {
          "base_uri": "https://localhost:8080/"
        }
      },
      "outputs": [
        {
          "output_type": "stream",
          "name": "stdout",
          "text": [
            "True\n",
            "True\n"
          ]
        }
      ],
      "source": [
        "print(\"AFCNorth\" in AFCDivisions)\n",
        "print(\"AFCNorth\" in div_series)"
      ]
    },
    {
      "cell_type": "markdown",
      "id": "206158d0",
      "metadata": {
        "lines_to_next_cell": 0,
        "id": "206158d0"
      },
      "source": [
        "---\n",
        "\n",
        "### Relation to Numpy Arrays\n",
        "\n",
        "- Series behave very similarly to `NumPy`'s 1D `ndarray`\n",
        "- In fact, `NumPy` functions can typically take series as input"
      ]
    },
    {
      "cell_type": "code",
      "execution_count": 25,
      "id": "14fe9783",
      "metadata": {
        "lines_to_next_cell": 0,
        "id": "14fe9783",
        "outputId": "3e29d12f-abe7-4c2a-9c63-49455f35710b",
        "colab": {
          "base_uri": "https://localhost:8080/"
        }
      },
      "outputs": [
        {
          "output_type": "execute_result",
          "data": {
            "text/plain": [
              "0    2.756214\n",
              "1   -0.090994\n",
              "2    0.347746\n",
              "3   -7.765870\n",
              "4    9.198830\n",
              "5    6.576663\n",
              "6    0.698309\n",
              "7    5.095226\n",
              "8    3.124843\n",
              "9   -0.215291\n",
              "dtype: float64"
            ]
          },
          "metadata": {},
          "execution_count": 25
        }
      ],
      "source": [
        "s #was created from a numpy array!"
      ]
    },
    {
      "cell_type": "code",
      "source": [
        "np.exp(s)"
      ],
      "metadata": {
        "id": "pbrYrJxh6dnY",
        "outputId": "a4abfc74-7fa1-4ba9-a3b8-e8bfe14f2942",
        "colab": {
          "base_uri": "https://localhost:8080/"
        }
      },
      "id": "pbrYrJxh6dnY",
      "execution_count": 26,
      "outputs": [
        {
          "output_type": "execute_result",
          "data": {
            "text/plain": [
              "0      15.740130\n",
              "1       0.913023\n",
              "2       1.415872\n",
              "3       0.000424\n",
              "4    9885.551552\n",
              "5     718.139247\n",
              "6       2.010350\n",
              "7     163.240789\n",
              "8      22.756315\n",
              "9       0.806306\n",
              "dtype: float64"
            ]
          },
          "metadata": {},
          "execution_count": 26
        }
      ]
    },
    {
      "cell_type": "markdown",
      "source": [
        "- Numerical operations are done element-wise"
      ],
      "metadata": {
        "id": "xNJqrpfu6fqK"
      },
      "id": "xNJqrpfu6fqK"
    },
    {
      "cell_type": "code",
      "execution_count": 30,
      "id": "19fae709",
      "metadata": {
        "lines_to_next_cell": 0,
        "id": "19fae709",
        "outputId": "5db83755-147d-4274-ccc9-6a488c2fe2dd",
        "colab": {
          "base_uri": "https://localhost:8080/"
        }
      },
      "outputs": [
        {
          "output_type": "execute_result",
          "data": {
            "text/plain": [
              "0     8.268641\n",
              "1    -0.272981\n",
              "2     1.043237\n",
              "3   -23.297609\n",
              "4    27.596489\n",
              "5    19.729990\n",
              "6     2.094926\n",
              "7    15.285679\n",
              "8     9.374528\n",
              "9    -0.645874\n",
              "dtype: float64"
            ]
          },
          "metadata": {},
          "execution_count": 30
        }
      ],
      "source": [
        "s * 3"
      ]
    },
    {
      "cell_type": "markdown",
      "id": "5ae2809e",
      "metadata": {
        "lines_to_next_cell": 0,
        "id": "5ae2809e"
      },
      "source": [
        "---\n",
        "\n",
        "### Relation to lists\n",
        "\n",
        "- Series are like a `list` object in that you can\n",
        "\n",
        "    + get and set values by integer index location\n",
        "    + can using slicing with `:`\n"
      ]
    },
    {
      "cell_type": "code",
      "execution_count": 31,
      "id": "88385790",
      "metadata": {
        "lines_to_next_cell": 0,
        "id": "88385790",
        "outputId": "bf6806a9-8793-4faa-8bde-95f2dfddcf08",
        "colab": {
          "base_uri": "https://localhost:8080/"
        }
      },
      "outputs": [
        {
          "output_type": "execute_result",
          "data": {
            "text/plain": [
              "0    2.756214\n",
              "1   -0.090994\n",
              "2    0.347746\n",
              "3   -7.765870\n",
              "4    0.000000\n",
              "5    6.576663\n",
              "6    0.698309\n",
              "7    5.095226\n",
              "8    3.124843\n",
              "9   -0.215291\n",
              "dtype: float64"
            ]
          },
          "metadata": {},
          "execution_count": 31
        }
      ],
      "source": [
        "s[4] = 0\n",
        "s"
      ]
    },
    {
      "cell_type": "code",
      "source": [
        "s[:5]"
      ],
      "metadata": {
        "id": "xuMgZGu47Ojm",
        "outputId": "3154532c-75ef-4d7c-f10b-b4347d61cbbf",
        "colab": {
          "base_uri": "https://localhost:8080/"
        }
      },
      "id": "xuMgZGu47Ojm",
      "execution_count": 32,
      "outputs": [
        {
          "output_type": "execute_result",
          "data": {
            "text/plain": [
              "0    2.756214\n",
              "1   -0.090994\n",
              "2    0.347746\n",
              "3   -7.765870\n",
              "4    0.000000\n",
              "dtype: float64"
            ]
          },
          "metadata": {},
          "execution_count": 32
        }
      ]
    },
    {
      "cell_type": "code",
      "source": [
        "s[3:5]"
      ],
      "metadata": {
        "id": "Rmgt3bvU7Rcw",
        "outputId": "d73b9eb1-e188-4294-8e7c-246012d7144f",
        "colab": {
          "base_uri": "https://localhost:8080/"
        }
      },
      "id": "Rmgt3bvU7Rcw",
      "execution_count": 33,
      "outputs": [
        {
          "output_type": "execute_result",
          "data": {
            "text/plain": [
              "3   -7.76587\n",
              "4    0.00000\n",
              "dtype: float64"
            ]
          },
          "metadata": {},
          "execution_count": 33
        }
      ]
    },
    {
      "cell_type": "markdown",
      "id": "5b9f70b6",
      "metadata": {
        "id": "5b9f70b6"
      },
      "source": [
        "---\n",
        "\n",
        "# Recap\n",
        "\n",
        "- Series will make up Data Frames\n",
        "    + Each column of a data frame is made up of a series\n",
        "- Series are:\n",
        "    + a 1D data structure with indices and values    \n"
      ]
    }
  ],
  "metadata": {
    "jupytext": {
      "cell_metadata_filter": "warning,message,tags,-all",
      "main_language": "python",
      "notebook_metadata_filter": "-all"
    },
    "colab": {
      "provenance": [],
      "toc_visible": true,
      "include_colab_link": true
    },
    "language_info": {
      "name": "python"
    },
    "kernelspec": {
      "name": "python3",
      "display_name": "Python 3"
    }
  },
  "nbformat": 4,
  "nbformat_minor": 5
}