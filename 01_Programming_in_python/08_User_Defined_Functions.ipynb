{
  "cells": [
    {
      "cell_type": "markdown",
      "id": "8d9a87ee",
      "metadata": {
        "id": "8d9a87ee"
      },
      "source": [
        "# User Defined Functions\n",
        "\n",
        "Justin Post\n",
        "\n",
        "In order to get the most out of any programming language, we need to understand how to write our own functions. User-Defined functions allow us to streamline our code, simplify large sections of code, and make our code easier to generalize to other situations."
      ]
    },
    {
      "cell_type": "markdown",
      "source": [
        "## Function Creation Syntax\n",
        "\n",
        "- To create our own functions, we just need to use the keyword `def`, give a function name with arguments, and then tab in (four spaces) our document body."
      ],
      "metadata": {
        "id": "anr_U2Nx8zF5"
      },
      "id": "anr_U2Nx8zF5"
    },
    {
      "cell_type": "markdown",
      "source": [
        "```\n",
        "def function_name(arg1, arg2, arg3 = default_arg3):\n",
        "    \"\"\"\n",
        "    Documentation string\n",
        "    \"\"\"\n",
        "    Function body\n",
        "    return object\n",
        "```"
      ],
      "metadata": {
        "id": "bb27aa7c"
      },
      "id": "bb27aa7c"
    },
    {
      "cell_type": "markdown",
      "source": [
        "Good programming practices indicates we should use a 'doc-string' to describe the purpose of the function directly after the function definition. This is usually done with a multi-line comment via triple quotes."
      ],
      "metadata": {
        "id": "wKTeLTrr9dvl"
      },
      "id": "wKTeLTrr9dvl"
    },
    {
      "cell_type": "markdown",
      "id": "b7a7bfc5",
      "metadata": {
        "id": "b7a7bfc5"
      },
      "source": [
        "## Write Our Own Mean Function\n",
        "\n",
        "We discussed common tasks for data. Of course one was simply describing a data set that we have. One way to describe the center of a variable's distribution is through the sample mean.\n",
        "\n",
        "- Given data points labeled as $y_1, y_2, ..., y_n$ ($n$ is the number of observations), the sample mean is\n",
        "\n",
        "$$\\bar{y}=\\frac{1}{n}\\sum_{i=1}^{n}y_i$$\n",
        "\n",
        "Let's write a function to calculate the mean of a `list` of numbers using the `sum()` and `len()` functions.\n"
      ]
    },
    {
      "cell_type": "code",
      "execution_count": 67,
      "id": "e83abe21",
      "metadata": {
        "lines_to_next_cell": 2,
        "id": "e83abe21"
      },
      "outputs": [],
      "source": [
        "def find_mean(y):\n",
        "    \"\"\"\n",
        "    Quick function to find the mean\n",
        "    Assumes we have a list with only numeric type data\n",
        "    \"\"\"\n",
        "    return sum(y)/len(y)"
      ]
    },
    {
      "cell_type": "markdown",
      "id": "c821081c",
      "metadata": {
        "id": "c821081c"
      },
      "source": [
        "Now let's apply our function to a `list` of numeric values. We can create a sequence of values using the `range()` function. This function takes two arguments, the starting point and the ending point (which isn't included).\n",
        "\n",
        "`range()` itself is a immutable *iterable* type object. It isn't the values themselves but an object that can be used to create the values. In the case of `range()` it [can be described as a *lazy* list](https://stackoverflow.com/questions/13092267/if-range-is-a-generator-in-python-3-3-why-can-i-not-call-next-on-a-range).\n",
        "\n",
        "One way to get the `range()` object to create its values is by running `list()` on it. This tells python to iterate over the `range()` object and produce the numbers."
      ]
    },
    {
      "cell_type": "code",
      "execution_count": 68,
      "id": "393334fa",
      "metadata": {
        "lines_to_next_cell": 2,
        "id": "393334fa",
        "outputId": "17b56bcf-09f5-4727-e64d-e71dda995027",
        "colab": {
          "base_uri": "https://localhost:8080/"
        }
      },
      "outputs": [
        {
          "output_type": "execute_result",
          "data": {
            "text/plain": [
              "range(0, 11)"
            ]
          },
          "metadata": {},
          "execution_count": 68
        }
      ],
      "source": [
        "seq = range(0,11) #same as range(11)\n",
        "seq #doesn't show values"
      ]
    },
    {
      "cell_type": "code",
      "source": [
        "list(seq)"
      ],
      "metadata": {
        "id": "sLtljCqD-7uc",
        "outputId": "352e9e9f-bd6b-4d77-c9da-9789ae56b712",
        "colab": {
          "base_uri": "https://localhost:8080/"
        }
      },
      "id": "sLtljCqD-7uc",
      "execution_count": 69,
      "outputs": [
        {
          "output_type": "execute_result",
          "data": {
            "text/plain": [
              "[0, 1, 2, 3, 4, 5, 6, 7, 8, 9, 10]"
            ]
          },
          "metadata": {},
          "execution_count": 69
        }
      ]
    },
    {
      "cell_type": "code",
      "source": [
        "find_mean(list(seq))"
      ],
      "metadata": {
        "id": "YEDAWUkFAL4y",
        "outputId": "b97b2f5b-e3e6-4d92-edf2-f2723a651d4a",
        "colab": {
          "base_uri": "https://localhost:8080/"
        }
      },
      "id": "YEDAWUkFAL4y",
      "execution_count": 70,
      "outputs": [
        {
          "output_type": "execute_result",
          "data": {
            "text/plain": [
              "5.0"
            ]
          },
          "metadata": {},
          "execution_count": 70
        }
      ]
    },
    {
      "cell_type": "markdown",
      "source": [
        "Iterators (and iterator type objects) are often used to save memory as you often don't need the entire sequence, but do want to use them in some kind of order."
      ],
      "metadata": {
        "id": "876gEwbZ_ioD"
      },
      "id": "876gEwbZ_ioD"
    },
    {
      "cell_type": "markdown",
      "id": "38813607",
      "metadata": {
        "id": "38813607"
      },
      "source": [
        "---\n",
        "\n",
        "## Add Argument with Default\n",
        "\n",
        "Often we want to give default arguments to our function. That is, arguments that are used unless the user specifies something else.\n",
        "\n",
        "- Suppose we want to add in a **trimmed mean** functionality\n",
        "- This is a mean where we first remove the smallest p% of values and the largest p% of values. We then take the mean of the remaining numbers.\n",
        "- A trimmed mean is more **robust** to outliers. For instance,"
      ]
    },
    {
      "cell_type": "code",
      "source": [
        "find_mean([1,2,3,4,5,100]) #the mean is greatly affected by the large value"
      ],
      "metadata": {
        "id": "Nq6aDj-R-7C8",
        "outputId": "72e1eef5-710b-448c-d615-ae38c8453527",
        "colab": {
          "base_uri": "https://localhost:8080/"
        }
      },
      "id": "Nq6aDj-R-7C8",
      "execution_count": 71,
      "outputs": [
        {
          "output_type": "execute_result",
          "data": {
            "text/plain": [
              "19.166666666666668"
            ]
          },
          "metadata": {},
          "execution_count": 71
        }
      ]
    },
    {
      "cell_type": "code",
      "source": [
        "find_mean([1,2,3,4,5]) #remove the large value to get a better idea about 'most' of the data values"
      ],
      "metadata": {
        "id": "wYJFC06Y-6lt",
        "outputId": "cc9321d1-c2c0-4020-fea5-4a4a590bdd8b",
        "colab": {
          "base_uri": "https://localhost:8080/"
        }
      },
      "id": "wYJFC06Y-6lt",
      "execution_count": 72,
      "outputs": [
        {
          "output_type": "execute_result",
          "data": {
            "text/plain": [
              "3.0"
            ]
          },
          "metadata": {},
          "execution_count": 72
        }
      ]
    },
    {
      "cell_type": "markdown",
      "source": [
        "To create a trimmed mean function (or option at least), we need to do the following:\n",
        "\n",
        "- Sort the observations\n",
        "- Remove the lowest p% and highest p%\n",
        "- Find mean on the remaining values\n"
      ],
      "metadata": {
        "id": "j0WuJVffA0EI"
      },
      "id": "j0WuJVffA0EI"
    },
    {
      "cell_type": "code",
      "execution_count": 73,
      "id": "509b168c",
      "metadata": {
        "id": "509b168c",
        "outputId": "6fb18303-7b08-49b5-c393-db4efbcfa61c",
        "colab": {
          "base_uri": "https://localhost:8080/"
        }
      },
      "outputs": [
        {
          "output_type": "execute_result",
          "data": {
            "text/plain": [
              "[0.345584192064786,\n",
              " 0.8216181435011584,\n",
              " 0.33043707618338714,\n",
              " -1.303157231604361,\n",
              " 0.9053558666731177,\n",
              " 0.4463745723640113,\n",
              " -0.5369532353602852,\n",
              " 0.5811181041963531,\n",
              " 0.36457239618607573,\n",
              " 0.294132496655526]"
            ]
          },
          "metadata": {},
          "execution_count": 73
        }
      ],
      "source": [
        "#can pull in the floor and sqrt functions from math to help us out\n",
        "from math import floor, sqrt\n",
        "#generate 50 random values from the standard normal distribution\n",
        "import numpy as np\n",
        "y = np.random.default_rng(1).standard_normal(50)\n",
        "#convert to a list just so we are working with an object we've studied\n",
        "y = list(y)\n",
        "y[0:10]"
      ]
    },
    {
      "cell_type": "markdown",
      "id": "95f70e69",
      "metadata": {
        "id": "95f70e69"
      },
      "source": [
        "Note that lists have a `.sort()` method but this modifies the list in place. Instead we can use the `sorted()` function which returns a new sorted version of the list."
      ]
    },
    {
      "cell_type": "code",
      "execution_count": 107,
      "id": "eb2af224",
      "metadata": {
        "lines_to_next_cell": 2,
        "id": "eb2af224",
        "outputId": "62aeb907-d215-48bb-e6b2-f33d43c80b76",
        "colab": {
          "base_uri": "https://localhost:8080/"
        }
      },
      "outputs": [
        {
          "output_type": "stream",
          "name": "stdout",
          "text": [
            "[-2.7111624789659685, -1.8890132459676727, -1.6480751708556527, -1.303157231604361, -1.2273520542445742, -1.1120207626922813, -0.9447516230607774, -0.7819084623568421, -0.7364540870016669, -0.6832266617805622]\n",
            "[0.345584192064786, 0.8216181435011584, 0.33043707618338714, -1.303157231604361, 0.9053558666731177, 0.4463745723640113, -0.5369532353602852, 0.5811181041963531, 0.36457239618607573, 0.294132496655526]\n"
          ]
        }
      ],
      "source": [
        "sort_y = sorted(y)\n",
        "print(sort_y[0:10])\n",
        "print(y[0:10])"
      ]
    },
    {
      "cell_type": "markdown",
      "source": [
        "Now, given a value of p, we can remove the lowest and high p% of values. We can do this with the `floor()` function. This gives us the largest interger below a given value."
      ],
      "metadata": {
        "id": "JACNnUTKCCPr"
      },
      "id": "JACNnUTKCCPr"
    },
    {
      "cell_type": "code",
      "source": [
        "print(floor(4))\n",
        "print(floor(4.2))\n",
        "print(floor(4.9))"
      ],
      "metadata": {
        "id": "g-ATQJSkChz8",
        "outputId": "6f058ead-fda5-4f9d-f7f7-fe4738b57a64",
        "colab": {
          "base_uri": "https://localhost:8080/"
        }
      },
      "id": "g-ATQJSkChz8",
      "execution_count": 75,
      "outputs": [
        {
          "output_type": "stream",
          "name": "stdout",
          "text": [
            "4\n",
            "4\n",
            "4\n"
          ]
        }
      ]
    },
    {
      "cell_type": "markdown",
      "source": [
        "Given a p (for proportion) we can determine the number of observations corresponding to that proportion using the length of `y`."
      ],
      "metadata": {
        "id": "XUvjYNhzCjDj"
      },
      "id": "XUvjYNhzCjDj"
    },
    {
      "cell_type": "code",
      "execution_count": 108,
      "id": "1c800c3c",
      "metadata": {
        "id": "1c800c3c",
        "outputId": "d0d18874-d7c4-4adc-bf9f-3b404cd4ea43",
        "colab": {
          "base_uri": "https://localhost:8080/"
        }
      },
      "outputs": [
        {
          "output_type": "stream",
          "name": "stdout",
          "text": [
            "5.5\n"
          ]
        },
        {
          "output_type": "execute_result",
          "data": {
            "text/plain": [
              "5"
            ]
          },
          "metadata": {},
          "execution_count": 108
        }
      ],
      "source": [
        "p = 0.11\n",
        "print(p*len(sort_y))\n",
        "to_remove = floor(p*len(sort_y))\n",
        "to_remove"
      ]
    },
    {
      "cell_type": "markdown",
      "id": "cf06aec0",
      "metadata": {
        "lines_to_next_cell": 0,
        "id": "cf06aec0"
      },
      "source": [
        "We can remove observations by simply subsetting our list using the `:` operator we studied. Remember that this operator doesn't include the **last** value. (i.e. `2:5` gives `2`, `3`, `4`)"
      ]
    },
    {
      "cell_type": "code",
      "execution_count": 109,
      "id": "556a600d",
      "metadata": {
        "lines_to_next_cell": 2,
        "id": "556a600d",
        "outputId": "a461ca29-1ea6-4e3e-81a0-477710886eb2",
        "colab": {
          "base_uri": "https://localhost:8080/"
        }
      },
      "outputs": [
        {
          "output_type": "stream",
          "name": "stdout",
          "text": [
            "[5, 45]\n"
          ]
        },
        {
          "output_type": "execute_result",
          "data": {
            "text/plain": [
              "[-1.1120207626922813,\n",
              " -0.9447516230607774,\n",
              " -0.7819084623568421,\n",
              " -0.7364540870016669,\n",
              " -0.6832266617805622,\n",
              " -0.5369532353602852,\n",
              " -0.5140063716874629,\n",
              " -0.5062916583143148,\n",
              " -0.48211931267997826,\n",
              " -0.42219041157635356,\n",
              " -0.37760500712699807,\n",
              " -0.2924567509650886,\n",
              " -0.2756029052993704,\n",
              " -0.2571922406188707,\n",
              " -0.17477209205516195,\n",
              " -0.16290994799305278,\n",
              " -0.09826996785221727,\n",
              " -0.07204367972722743,\n",
              " 0.008142180518343508,\n",
              " 0.02842224131579679,\n",
              " 0.03558623705548571,\n",
              " 0.03972210748165899,\n",
              " 0.09548302746945433,\n",
              " 0.10901408782154753,\n",
              " 0.16746474422274113,\n",
              " 0.2136429974986111,\n",
              " 0.21732193102256359,\n",
              " 0.294132496655526,\n",
              " 0.33043707618338714,\n",
              " 0.345584192064786,\n",
              " 0.36457239618607573,\n",
              " 0.4463745723640113,\n",
              " 0.5467129866124469,\n",
              " 0.5811181041963531,\n",
              " 0.5937480717858228,\n",
              " 0.5988462126346276,\n",
              " 0.6467029962018469,\n",
              " 0.6630633723762617,\n",
              " 0.8216181435011584,\n",
              " 0.8911669542823284]"
            ]
          },
          "metadata": {},
          "execution_count": 109
        }
      ],
      "source": [
        "print([to_remove, len(sort_y)-to_remove])#values we want to keep are between these\n",
        "#remember, counting starts at 0\n",
        "#we want the remove the first 5 values so we should start with the 5th index (the 6th actual value!)\n",
        "#with a length 50 list, we want to remove the 46-50th elements which correspond to the 45-49 indices\n",
        "#since we don't include our last index, we can end on 45\n",
        "sort_y[to_remove:(len(sort_y)-to_remove)]"
      ]
    },
    {
      "cell_type": "markdown",
      "id": "49618f24",
      "metadata": {
        "id": "49618f24"
      },
      "source": [
        "### Modify the function arguments\n",
        "\n",
        "Now that we have the process down (this is a good way to write functions by the way, write them outside of a function first and then put the pieces into the function), we can add our arguments/calculations.\n",
        "\n",
        "We'll add a\n",
        "- `method =` argument with a default value of `None`. `None` is a special name that defines no value.\n",
        "    + If this argument takes on `Trim`, we'll do a trimmed mean.\n",
        "    + This can be done using `if Boolean:` with the resulting code to execute tabbed in four spaces\n",
        "- a `p =` argument to specify the proportion to remove with a default value set to 0.\n"
      ]
    },
    {
      "cell_type": "code",
      "execution_count": 114,
      "id": "28d27010",
      "metadata": {
        "id": "28d27010"
      },
      "outputs": [],
      "source": [
        "def find_mean(y, method = None, p = 0):\n",
        "    \"\"\"\n",
        "    Quick function to find the mean\n",
        "    Assumes we have a list with only numeric type data\n",
        "    If method is set to Trim, will remove outer most p values off the data\n",
        "    before finding the mean\n",
        "    \"\"\"\n",
        "    if method == \"Trim\": #we'll cover if shortly! The indented code only runs if this condition is met\n",
        "      sort_y = sorted(y)\n",
        "      to_remove = floor(p*len(sort_y))\n",
        "      y = sort_y[to_remove:(len(sort_y)-to_remove)] #replace y with the modified version\n",
        "    return sum(y)/len(y)"
      ]
    },
    {
      "cell_type": "markdown",
      "id": "c6cc298d",
      "metadata": {
        "id": "c6cc298d"
      },
      "source": [
        "Let's test the function!"
      ]
    },
    {
      "cell_type": "code",
      "source": [
        "find_mean(y, method = \"Trim\", p = 0) #usual mean"
      ],
      "metadata": {
        "id": "3A3SGZspEd2o",
        "outputId": "a44fc33f-b982-4b9e-d7da-d4da059dd3e6",
        "colab": {
          "base_uri": "https://localhost:8080/"
        }
      },
      "id": "3A3SGZspEd2o",
      "execution_count": 115,
      "outputs": [
        {
          "output_type": "execute_result",
          "data": {
            "text/plain": [
              "-0.03607807742830818"
            ]
          },
          "metadata": {},
          "execution_count": 115
        }
      ]
    },
    {
      "cell_type": "code",
      "source": [
        "find_mean(y, method = \"Trim\", p = 0.05) #5% trimmed mean"
      ],
      "metadata": {
        "id": "hTdHKb0FEzUG",
        "outputId": "e942ddc0-b6df-456a-dcab-747d409d7a28",
        "colab": {
          "base_uri": "https://localhost:8080/"
        }
      },
      "id": "hTdHKb0FEzUG",
      "execution_count": 116,
      "outputs": [
        {
          "output_type": "execute_result",
          "data": {
            "text/plain": [
              "-0.029659532804894563"
            ]
          },
          "metadata": {},
          "execution_count": 116
        }
      ]
    },
    {
      "cell_type": "code",
      "source": [
        "find_mean(y, method = \"trim\", p = 0.05) #mean not trimmed if method not set correctly"
      ],
      "metadata": {
        "id": "h_Ri3pEpEsdY",
        "outputId": "fa681dd8-9933-4341-fadf-d1828b838a15",
        "colab": {
          "base_uri": "https://localhost:8080/"
        }
      },
      "id": "h_Ri3pEpEsdY",
      "execution_count": 117,
      "outputs": [
        {
          "output_type": "execute_result",
          "data": {
            "text/plain": [
              "-0.03607807742830817"
            ]
          },
          "metadata": {},
          "execution_count": 117
        }
      ]
    },
    {
      "cell_type": "markdown",
      "id": "be5e0d67",
      "metadata": {
        "id": "be5e0d67"
      },
      "source": [
        "---\n",
        "\n",
        "## Positional vs Named Arguments\n",
        "\n",
        "- A function can be called using positional or named args"
      ]
    },
    {
      "cell_type": "code",
      "execution_count": 118,
      "id": "d4e0b529",
      "metadata": {
        "id": "d4e0b529",
        "outputId": "8d3f06df-6de5-4a1c-ad06-927506fde91d",
        "colab": {
          "base_uri": "https://localhost:8080/"
        }
      },
      "outputs": [
        {
          "output_type": "stream",
          "name": "stdout",
          "text": [
            "-0.03607807742830817\n",
            "-0.009797451217442077\n",
            "-0.009797451217442077\n"
          ]
        }
      ],
      "source": [
        "#def find_mean(y, method = None, p = 0):\n",
        "print(find_mean(y, None))\n",
        "print(find_mean(method = \"Trim\", p = 0.1, y = y))\n",
        "print(find_mean(y, \"Trim\", 0.1))"
      ]
    },
    {
      "cell_type": "markdown",
      "id": "bd14b3c4",
      "metadata": {
        "id": "bd14b3c4"
      },
      "source": [
        "- You can't place positional args after a keyword though!"
      ]
    },
    {
      "cell_type": "code",
      "execution_count": 119,
      "id": "b1cc77d7",
      "metadata": {
        "eval": false,
        "lines_to_next_cell": 0,
        "id": "b1cc77d7",
        "outputId": "6043563c-e7dc-430b-e3f3-4447b6e322a4",
        "colab": {
          "base_uri": "https://localhost:8080/",
          "height": 141
        }
      },
      "outputs": [
        {
          "output_type": "error",
          "ename": "SyntaxError",
          "evalue": "positional argument follows keyword argument (<ipython-input-119-39dc4eceb262>, line 1)",
          "traceback": [
            "\u001b[0;36m  File \u001b[0;32m\"<ipython-input-119-39dc4eceb262>\"\u001b[0;36m, line \u001b[0;32m1\u001b[0m\n\u001b[0;31m    find_mean(y = x, \"Trim\")\u001b[0m\n\u001b[0m                           ^\u001b[0m\n\u001b[0;31mSyntaxError\u001b[0m\u001b[0;31m:\u001b[0m positional argument follows keyword argument\n"
          ]
        }
      ],
      "source": [
        "find_mean(y = x, \"Trim\")"
      ]
    },
    {
      "cell_type": "markdown",
      "id": "a7d0067f",
      "metadata": {
        "id": "a7d0067f"
      },
      "source": [
        "## Defining the Type of Argument\n",
        "\n",
        "- A function definition may look like:\n",
        "```\n",
        "def f(pos1, pos2, /, pos_or_kwd, *, kwd1, kwd2):\n",
        "           -----------    ----------     ----------\n",
        "           |              |                  |\n",
        "           |         Positional or keyword   |\n",
        "           |                                 - Keyword only\n",
        "           -- Positional only\n",
        "```"
      ]
    },
    {
      "cell_type": "code",
      "execution_count": 120,
      "id": "e5e5f87b",
      "metadata": {
        "eval": false,
        "lines_to_next_cell": 2,
        "id": "e5e5f87b"
      },
      "outputs": [],
      "source": [
        "def print_it(x, y, /):\n",
        "    print(\"Must pass x and y positionally!\" + x + y)\n",
        "\n",
        "def print_it(x, /, y):\n",
        "    print(\"x must be passed positionally.  y can be positional or named\" + x + y)\n",
        "\n",
        "def print_it(x, /, y, *, z):\n",
        "    print(\"Now z must be passed as a named argument\" + x + y + z)"
      ]
    },
    {
      "cell_type": "markdown",
      "source": [
        "Let's modify our mean function and show this."
      ],
      "metadata": {
        "id": "EqdrMDIgFvKj"
      },
      "id": "EqdrMDIgFvKj"
    },
    {
      "cell_type": "code",
      "source": [
        "#with this, y must be passes positionally!\n",
        "def find_mean(y, /, method = None, p = 0):\n",
        "    \"\"\"\n",
        "    Quick function to find the mean\n",
        "    Assumes we have a list with only numeric type data\n",
        "    If method is set to Trim, will remove outer most p values off the data\n",
        "    before finding the mean\n",
        "    \"\"\"\n",
        "    if method == \"Trim\": #we'll cover if shortly! The indented code only runs if this condition is met\n",
        "      sort_y = sorted(y)\n",
        "      to_remove = floor(p*len(sort_y))\n",
        "      y = sort_y[to_remove:(len(sort_y)-to_remove)] #replace y with the modified version\n",
        "    return sum(y)/len(y)"
      ],
      "metadata": {
        "id": "oSvagJuyFzN1"
      },
      "id": "oSvagJuyFzN1",
      "execution_count": 123,
      "outputs": []
    },
    {
      "cell_type": "code",
      "source": [
        "find_mean(y, \"Trim\", p = 0.1)\n"
      ],
      "metadata": {
        "id": "Qzy_Cmh9F5dU",
        "outputId": "2580af98-be06-461c-eda1-33bbceb85b06",
        "colab": {
          "base_uri": "https://localhost:8080/"
        }
      },
      "id": "Qzy_Cmh9F5dU",
      "execution_count": 124,
      "outputs": [
        {
          "output_type": "execute_result",
          "data": {
            "text/plain": [
              "-0.009797451217442077"
            ]
          },
          "metadata": {},
          "execution_count": 124
        }
      ]
    },
    {
      "cell_type": "code",
      "source": [
        "find_mean(y = y, method = \"Trim\", p = 0.1) #this won't work!"
      ],
      "metadata": {
        "id": "A2hl5vN7F-30",
        "outputId": "55039c81-d1fa-48d0-e392-6adec1de7b3f",
        "colab": {
          "base_uri": "https://localhost:8080/",
          "height": 176
        }
      },
      "id": "A2hl5vN7F-30",
      "execution_count": 125,
      "outputs": [
        {
          "output_type": "error",
          "ename": "TypeError",
          "evalue": "find_mean() got some positional-only arguments passed as keyword arguments: 'y'",
          "traceback": [
            "\u001b[0;31m---------------------------------------------------------------------------\u001b[0m",
            "\u001b[0;31mTypeError\u001b[0m                                 Traceback (most recent call last)",
            "\u001b[0;32m<ipython-input-125-665a7ded1b54>\u001b[0m in \u001b[0;36m<cell line: 1>\u001b[0;34m()\u001b[0m\n\u001b[0;32m----> 1\u001b[0;31m \u001b[0mfind_mean\u001b[0m\u001b[0;34m(\u001b[0m\u001b[0my\u001b[0m \u001b[0;34m=\u001b[0m \u001b[0my\u001b[0m\u001b[0;34m,\u001b[0m \u001b[0mmethod\u001b[0m \u001b[0;34m=\u001b[0m \u001b[0;34m\"Trim\"\u001b[0m\u001b[0;34m,\u001b[0m \u001b[0mp\u001b[0m \u001b[0;34m=\u001b[0m \u001b[0;36m0.1\u001b[0m\u001b[0;34m)\u001b[0m \u001b[0;31m#this won't work!\u001b[0m\u001b[0;34m\u001b[0m\u001b[0;34m\u001b[0m\u001b[0m\n\u001b[0m",
            "\u001b[0;31mTypeError\u001b[0m: find_mean() got some positional-only arguments passed as keyword arguments: 'y'"
          ]
        }
      ]
    },
    {
      "cell_type": "markdown",
      "id": "98bfddde",
      "metadata": {
        "id": "98bfddde"
      },
      "source": [
        "---\n",
        "\n",
        "## Write Our Own Correlation Function\n",
        "\n",
        "Just to demonstrate something more complicated, let's write our own function to compute the (usual) sample correlation between two variables, call them `x` and `y`.\n",
        "\n",
        "- Pearson's correlation:\n",
        "\n",
        "$$r = \\frac{\\sum_{i=1}^{n}(x_i-\\bar{x})(y_i-\\bar{y})}{\\sqrt{\\sum_{i=1}^n(x_i-\\bar{x})^2\\sum_{i=1}^{n}(y_i-\\bar{y})^2}}$$\n",
        "\n",
        "where\n",
        "- $(x_i, y_i)$ are numeric variables observed on the same $n$ units, $i=1,...,n$\n",
        "\n",
        "### Plan\n",
        "\n",
        "Function inputs:\n",
        "- $x$, $y$, **lists** with numeric entries only\n",
        "\n",
        "Function body:\n",
        "- Find sample means for $x$ and $y$\n",
        "- Compute numerator sum and denominator sums\n",
        "- Find quotient and return that value\n"
      ]
    },
    {
      "cell_type": "markdown",
      "id": "685163f0",
      "metadata": {
        "id": "685163f0"
      },
      "source": [
        "#### Finding Means"
      ]
    },
    {
      "cell_type": "code",
      "execution_count": 126,
      "id": "eabd1726",
      "metadata": {
        "id": "eabd1726",
        "outputId": "d34f712a-485d-4941-8524-a3c36d115d0e",
        "colab": {
          "base_uri": "https://localhost:8080/"
        }
      },
      "outputs": [
        {
          "output_type": "stream",
          "name": "stdout",
          "text": [
            "[2, 3, 4, 5, 6, 7, 8, 9, 10]\n"
          ]
        },
        {
          "output_type": "execute_result",
          "data": {
            "text/plain": [
              "25.5"
            ]
          },
          "metadata": {},
          "execution_count": 126
        }
      ],
      "source": [
        "x = list(range(1,51))\n",
        "print(x[1:10])\n",
        "xbar = find_mean(x)\n",
        "xbar"
      ]
    },
    {
      "cell_type": "code",
      "execution_count": 127,
      "id": "53cabf06",
      "metadata": {
        "lines_to_next_cell": 2,
        "id": "53cabf06",
        "outputId": "a44860c5-f621-4082-9a50-27b713c2769d",
        "colab": {
          "base_uri": "https://localhost:8080/"
        }
      },
      "outputs": [
        {
          "output_type": "stream",
          "name": "stdout",
          "text": [
            "[0.8216181435011584, 0.33043707618338714, -1.303157231604361, 0.9053558666731177, 0.4463745723640113, -0.5369532353602852, 0.5811181041963531, 0.36457239618607573, 0.294132496655526]\n"
          ]
        },
        {
          "output_type": "execute_result",
          "data": {
            "text/plain": [
              "-0.03607807742830817"
            ]
          },
          "metadata": {},
          "execution_count": 127
        }
      ],
      "source": [
        "#use same y as before\n",
        "y = list(np.random.default_rng(1).standard_normal(50))\n",
        "print(y[1:10])\n",
        "ybar = find_mean(y)\n",
        "ybar"
      ]
    },
    {
      "cell_type": "markdown",
      "source": [
        "These two vectors are not related and should have a near 0 correlation!\n",
        "\n",
        "Next, we need to find the numerator and denominator sums. Finding the sums will be easier once we learn arrays, but for now we'll peak at a `for` loop and the `zip()` function.\n",
        "\n",
        "Let's start with computation of\n",
        "$$\\sum_{i=1}^n(x_i-\\bar{x})^2$$\n"
      ],
      "metadata": {
        "id": "YDwA1D6XG3Ny"
      },
      "id": "YDwA1D6XG3Ny"
    },
    {
      "cell_type": "code",
      "execution_count": 128,
      "id": "d99f4bd8",
      "metadata": {
        "lines_to_next_cell": 2,
        "id": "d99f4bd8",
        "outputId": "d8dc39d5-cdd4-4d68-ba0d-5badf8142269",
        "colab": {
          "base_uri": "https://localhost:8080/"
        }
      },
      "outputs": [
        {
          "output_type": "execute_result",
          "data": {
            "text/plain": [
              "600.25"
            ]
          },
          "metadata": {},
          "execution_count": 128
        }
      ],
      "source": [
        "#computation in one of our sums (we want this across all 50 values, then added up)\n",
        "(x[0]-xbar)**2"
      ]
    },
    {
      "cell_type": "markdown",
      "source": [
        "So really we want to find all of these values:\n",
        "```\n",
        "(x[0]-xbar)**2\n",
        "(x[1]-xbar)**2\n",
        "...\n",
        "(x[49]-xbar)**2\n",
        "```\n",
        "We can use `for` to iterate over the values of 0, 1, ..., 49. Similar to function definitions and `if` statements, we just tab in (four spaces) the code to be executed at each iteration of the for loop."
      ],
      "metadata": {
        "id": "nbmSaFb0HnBH"
      },
      "id": "nbmSaFb0HnBH"
    },
    {
      "cell_type": "code",
      "source": [
        "#initialize a value to store the sum in\n",
        "den_x = 0\n",
        "#use a for loop to iterate across values (studies more later!)\n",
        "for i in x:\n",
        "    den_x += (i-xbar)**2\n",
        "den_x"
      ],
      "metadata": {
        "id": "jFHhCM1iHKCZ",
        "outputId": "d231cf0b-e008-4369-e9b1-b9b6a05c4dd1",
        "colab": {
          "base_uri": "https://localhost:8080/"
        }
      },
      "id": "jFHhCM1iHKCZ",
      "execution_count": 129,
      "outputs": [
        {
          "output_type": "execute_result",
          "data": {
            "text/plain": [
              "10412.5"
            ]
          },
          "metadata": {},
          "execution_count": 129
        }
      ]
    },
    {
      "cell_type": "markdown",
      "source": [
        "We can very easily get a similar computation for $y$'s portion of the denominator.\n",
        "\n",
        "To get the numerator, that's a bit more work. We really need to find\n",
        "```\n",
        "(x[0]-xbar)(y[0]-ybar)\n",
        "(x[1]-xbar)(y[1]-ybar)\n",
        "...\n",
        "(x[49]-xbar)(y[49]-ybar)\n",
        "```\n",
        "\n",
        "We can `zip()` the $x$ and $y$ lists together. This essentially just pairs the 0th elements, the 1st elements, etc.  Then we can iterate over the values together."
      ],
      "metadata": {
        "id": "hZXEQw3WIXsO"
      },
      "id": "hZXEQw3WIXsO"
    },
    {
      "cell_type": "code",
      "source": [
        "num = 0\n",
        "for i, j in zip(x, y):\n",
        "    num += (i-xbar)*(j-ybar)\n",
        "num"
      ],
      "metadata": {
        "id": "d4Sj3iPPIzQG",
        "outputId": "a14c7be5-e866-401a-cad9-0c992f5a03be",
        "colab": {
          "base_uri": "https://localhost:8080/"
        }
      },
      "id": "d4Sj3iPPIzQG",
      "execution_count": 130,
      "outputs": [
        {
          "output_type": "execute_result",
          "data": {
            "text/plain": [
              "-51.69981003655184"
            ]
          },
          "metadata": {},
          "execution_count": 130
        }
      ]
    },
    {
      "cell_type": "markdown",
      "id": "0a9abdfc",
      "metadata": {
        "id": "0a9abdfc"
      },
      "source": [
        "Ok, now we are ready to put these together and calculate our correlation!\n"
      ]
    },
    {
      "cell_type": "code",
      "execution_count": 131,
      "id": "8dcd746b",
      "metadata": {
        "lines_to_next_cell": 2,
        "id": "8dcd746b"
      },
      "outputs": [],
      "source": [
        "def find_corr(x, y):\n",
        "    \"\"\"\n",
        "    Compute Pearson's Correlation Coefficient\n",
        "    x and y are assumed to be lists with numeric values\n",
        "    Data is assumed to have no missing values\n",
        "    \"\"\"\n",
        "    xbar = find_mean(x)\n",
        "    ybar = find_mean(y)\n",
        "    num = 0\n",
        "    den_x = 0\n",
        "    den_y = 0\n",
        "    for i, j in zip(x, y):\n",
        "        num +=(i-xbar)*(j-ybar)\n",
        "        den_x +=(i-xbar)**2\n",
        "        den_y +=(j-ybar)**2\n",
        "    return num/sqrt(den_x*den_y)"
      ]
    },
    {
      "cell_type": "markdown",
      "id": "a7ffa7d0",
      "metadata": {
        "id": "a7ffa7d0"
      },
      "source": [
        "Let's test our function on our data!"
      ]
    },
    {
      "cell_type": "code",
      "execution_count": 133,
      "id": "2ff6ce99",
      "metadata": {
        "lines_to_next_cell": 2,
        "id": "2ff6ce99",
        "outputId": "d62e204f-cd4e-4599-e951-7a30eafe33fd",
        "colab": {
          "base_uri": "https://localhost:8080/"
        }
      },
      "outputs": [
        {
          "output_type": "execute_result",
          "data": {
            "text/plain": [
              "-0.0813179110596017"
            ]
          },
          "metadata": {},
          "execution_count": 133
        }
      ],
      "source": [
        "find_corr(x, y) #near 0!"
      ]
    },
    {
      "cell_type": "markdown",
      "source": [
        "Note that all functions with a doc string have a `.__doc__` attribute that you can look at to understand that function (assuming the doc string is useful!)."
      ],
      "metadata": {
        "id": "bI68FCMqJULN"
      },
      "id": "bI68FCMqJULN"
    },
    {
      "cell_type": "code",
      "source": [
        "print(find_corr.__doc__)"
      ],
      "metadata": {
        "id": "L9WmUgl1JdPU",
        "outputId": "6b8a1187-ee17-432c-a1f8-1892e5a34f64",
        "colab": {
          "base_uri": "https://localhost:8080/"
        }
      },
      "id": "L9WmUgl1JdPU",
      "execution_count": 134,
      "outputs": [
        {
          "output_type": "stream",
          "name": "stdout",
          "text": [
            "\n",
            "    Compute Pearson's Correlation Coefficient\n",
            "    x and y are assumed to be lists with numeric values\n",
            "    Data is assumed to have no missing values\n",
            "    \n"
          ]
        }
      ]
    },
    {
      "cell_type": "code",
      "source": [
        "print(len.__doc__) #another example on a common function"
      ],
      "metadata": {
        "id": "kvQNp6W_Jd_8",
        "outputId": "99e0382a-cab2-4172-88df-6203ea5f1ed6",
        "colab": {
          "base_uri": "https://localhost:8080/"
        }
      },
      "id": "kvQNp6W_Jd_8",
      "execution_count": 135,
      "outputs": [
        {
          "output_type": "stream",
          "name": "stdout",
          "text": [
            "Return the number of items in a container.\n"
          ]
        }
      ]
    },
    {
      "cell_type": "code",
      "source": [
        "print(np.random.default_rng.__doc__) #another example"
      ],
      "metadata": {
        "id": "rex_HZMEJk2l",
        "outputId": "d4097344-fc9d-4947-dff9-e1adb16051fa",
        "colab": {
          "base_uri": "https://localhost:8080/"
        }
      },
      "id": "rex_HZMEJk2l",
      "execution_count": 136,
      "outputs": [
        {
          "output_type": "stream",
          "name": "stdout",
          "text": [
            "Construct a new Generator with the default BitGenerator (PCG64).\n",
            "\n",
            "    Parameters\n",
            "    ----------\n",
            "    seed : {None, int, array_like[ints], SeedSequence, BitGenerator, Generator}, optional\n",
            "        A seed to initialize the `BitGenerator`. If None, then fresh,\n",
            "        unpredictable entropy will be pulled from the OS. If an ``int`` or\n",
            "        ``array_like[ints]`` is passed, then it will be passed to\n",
            "        `SeedSequence` to derive the initial `BitGenerator` state. One may also\n",
            "        pass in a `SeedSequence` instance.\n",
            "        Additionally, when passed a `BitGenerator`, it will be wrapped by\n",
            "        `Generator`. If passed a `Generator`, it will be returned unaltered.\n",
            "\n",
            "    Returns\n",
            "    -------\n",
            "    Generator\n",
            "        The initialized generator object.\n",
            "\n",
            "    Notes\n",
            "    -----\n",
            "    If ``seed`` is not a `BitGenerator` or a `Generator`, a new `BitGenerator`\n",
            "    is instantiated. This function does not manage a default global instance.\n",
            "    \n",
            "    Examples\n",
            "    --------\n",
            "    ``default_rng`` is the recommended constructor for the random number class\n",
            "    ``Generator``. Here are several ways we can construct a random \n",
            "    number generator using ``default_rng`` and the ``Generator`` class. \n",
            "    \n",
            "    Here we use ``default_rng`` to generate a random float:\n",
            " \n",
            "    >>> import numpy as np\n",
            "    >>> rng = np.random.default_rng(12345)\n",
            "    >>> print(rng)\n",
            "    Generator(PCG64)\n",
            "    >>> rfloat = rng.random()\n",
            "    >>> rfloat\n",
            "    0.22733602246716966\n",
            "    >>> type(rfloat)\n",
            "    <class 'float'>\n",
            "     \n",
            "    Here we use ``default_rng`` to generate 3 random integers between 0 \n",
            "    (inclusive) and 10 (exclusive):\n",
            "        \n",
            "    >>> import numpy as np\n",
            "    >>> rng = np.random.default_rng(12345)\n",
            "    >>> rints = rng.integers(low=0, high=10, size=3)\n",
            "    >>> rints\n",
            "    array([6, 2, 7])\n",
            "    >>> type(rints[0])\n",
            "    <class 'numpy.int64'>\n",
            "    \n",
            "    Here we specify a seed so that we have reproducible results:\n",
            "    \n",
            "    >>> import numpy as np\n",
            "    >>> rng = np.random.default_rng(seed=42)\n",
            "    >>> print(rng)\n",
            "    Generator(PCG64)\n",
            "    >>> arr1 = rng.random((3, 3))\n",
            "    >>> arr1\n",
            "    array([[0.77395605, 0.43887844, 0.85859792],\n",
            "           [0.69736803, 0.09417735, 0.97562235],\n",
            "           [0.7611397 , 0.78606431, 0.12811363]])\n",
            "\n",
            "    If we exit and restart our Python interpreter, we'll see that we\n",
            "    generate the same random numbers again:\n",
            "\n",
            "    >>> import numpy as np\n",
            "    >>> rng = np.random.default_rng(seed=42)\n",
            "    >>> arr2 = rng.random((3, 3))\n",
            "    >>> arr2\n",
            "    array([[0.77395605, 0.43887844, 0.85859792],\n",
            "           [0.69736803, 0.09417735, 0.97562235],\n",
            "           [0.7611397 , 0.78606431, 0.12811363]])\n",
            "\n",
            "    \n"
          ]
        }
      ]
    },
    {
      "cell_type": "markdown",
      "id": "f1d2dd98",
      "metadata": {
        "id": "f1d2dd98"
      },
      "source": [
        "## Other Things to Note\n",
        "\n",
        "- When executing a function, a new symbol table is used for the local variables\n",
        "- This keeps us from accidentally overwriting something"
      ]
    },
    {
      "cell_type": "code",
      "execution_count": 138,
      "id": "90484fbc",
      "metadata": {
        "id": "90484fbc",
        "outputId": "ae2f7148-9f43-4760-82be-c41457d5dffc",
        "colab": {
          "base_uri": "https://localhost:8080/"
        }
      },
      "outputs": [
        {
          "output_type": "stream",
          "name": "stdout",
          "text": [
            "In the function environment, z = [ 1  2  3  4  5  6  7  8  9 10] and y = [  1   4   9  16  25  36  49  64  81 100]\n",
            "[  1   4   9  16  25  36  49  64  81 100]\n",
            "[ 1  2  3  4  5  6  7  8  9 10]\n"
          ]
        }
      ],
      "source": [
        "import numpy as np\n",
        "y = np.array(range(1,11))\n",
        "\n",
        "def square(z):\n",
        "    y = z**2\n",
        "    print(\"In the function environment, z = \" + str(z) + \" and y = \" + str(y))\n",
        "    return(y)\n",
        "\n",
        "print(square(y))\n",
        "print(y)"
      ]
    },
    {
      "cell_type": "code",
      "execution_count": 139,
      "id": "f186e177",
      "metadata": {
        "error": true,
        "lines_to_next_cell": 2,
        "id": "f186e177",
        "outputId": "f738a11d-3857-484d-a8f7-d57a76ef38d4",
        "colab": {
          "base_uri": "https://localhost:8080/",
          "height": 176
        }
      },
      "outputs": [
        {
          "output_type": "error",
          "ename": "NameError",
          "evalue": "name 'z' is not defined",
          "traceback": [
            "\u001b[0;31m---------------------------------------------------------------------------\u001b[0m",
            "\u001b[0;31mNameError\u001b[0m                                 Traceback (most recent call last)",
            "\u001b[0;32m<ipython-input-139-c01ac3f50fdc>\u001b[0m in \u001b[0;36m<cell line: 1>\u001b[0;34m()\u001b[0m\n\u001b[0;32m----> 1\u001b[0;31m \u001b[0mprint\u001b[0m\u001b[0;34m(\u001b[0m\u001b[0mz\u001b[0m\u001b[0;34m)\u001b[0m\u001b[0;34m\u001b[0m\u001b[0;34m\u001b[0m\u001b[0m\n\u001b[0m",
            "\u001b[0;31mNameError\u001b[0m: name 'z' is not defined"
          ]
        }
      ],
      "source": [
        "print(z) #z isn't defined outside the function call!"
      ]
    },
    {
      "cell_type": "markdown",
      "id": "3d1d7be5",
      "metadata": {
        "id": "3d1d7be5"
      },
      "source": [
        "- You can define global variables in a function using `global`"
      ]
    },
    {
      "cell_type": "code",
      "execution_count": 140,
      "id": "111f7d9e",
      "metadata": {
        "lines_to_next_cell": 0,
        "id": "111f7d9e",
        "outputId": "0f0615be-801a-45ca-b1d6-9e75ad32078a",
        "colab": {
          "base_uri": "https://localhost:8080/"
        }
      },
      "outputs": [
        {
          "output_type": "stream",
          "name": "stdout",
          "text": [
            "In the function environment, z = [ 1  2  3  4  5  6  7  8  9 10] and y = [  1   4   9  16  25  36  49  64  81 100]\n",
            "[  1   4   9  16  25  36  49  64  81 100]\n",
            "[  1   4   9  16  25  36  49  64  81 100]\n"
          ]
        }
      ],
      "source": [
        "def square(z):\n",
        "    global y\n",
        "    y = z**2\n",
        "    print(\"In the function environment, z = \" + str(z) + \" and y = \" + str(y))\n",
        "    return(y)\n",
        "\n",
        "print(square(y))\n",
        "print(y) #modified globally now"
      ]
    },
    {
      "cell_type": "markdown",
      "id": "2325aff6",
      "metadata": {
        "id": "2325aff6"
      },
      "source": [
        "- If nothing is returned from a function (with `return`) then it actually returns the special `None`"
      ]
    },
    {
      "cell_type": "code",
      "execution_count": 141,
      "id": "a15a81ee",
      "metadata": {
        "lines_to_next_cell": 2,
        "id": "a15a81ee",
        "outputId": "98db9d66-f32f-4bc0-a0fb-3985fbea1b94",
        "colab": {
          "base_uri": "https://localhost:8080/"
        }
      },
      "outputs": [
        {
          "output_type": "stream",
          "name": "stdout",
          "text": [
            "100\n",
            "110.25\n",
            "None\n",
            "None\n"
          ]
        }
      ],
      "source": [
        "def square_it(a):\n",
        "    if (type(a) == int) or (type(a) == float):\n",
        "      return a**2\n",
        "    else:\n",
        "      return\n",
        "\n",
        "print(square_it(10))\n",
        "print(square_it(10.5))\n",
        "print(square_it(\"10\"))"
      ]
    },
    {
      "cell_type": "markdown",
      "id": "7853160c",
      "metadata": {
        "id": "7853160c"
      },
      "source": [
        "- Default values are only evaluated once - at the time of the function **definition**\n",
        "\n",
        "- Mutable objects can cause an issue! (Lists are mutable as they can be changed, some objects, like tuples, are immutable and can't be modified.)"
      ]
    },
    {
      "cell_type": "code",
      "execution_count": 143,
      "id": "bcf91492",
      "metadata": {
        "lines_to_next_cell": 2,
        "id": "bcf91492",
        "outputId": "435dd899-290b-4fd5-bd66-cbd0dbdc11f8",
        "colab": {
          "base_uri": "https://localhost:8080/"
        }
      },
      "outputs": [
        {
          "output_type": "stream",
          "name": "stdout",
          "text": [
            "['A']\n",
            "['A', 'B']\n"
          ]
        }
      ],
      "source": [
        "#append a value to a list but give a default empty list if not given\n",
        "def my_append(value, L = []):\n",
        "    L.append(value)\n",
        "    return L\n",
        "\n",
        "#correctly appends \"A\" to the list\n",
        "print(my_append(\"A\"))\n",
        "#appends \"B\" to the previous list as L = [] was only evaluated at the time the function was created!\n",
        "print(my_append(\"B\"))"
      ]
    },
    {
      "cell_type": "markdown",
      "id": "fdb449ac",
      "metadata": {
        "lines_to_next_cell": 0,
        "id": "fdb449ac"
      },
      "source": [
        "- To avoid this behavior, instead define the default value as `None` and take care of things within the function body"
      ]
    },
    {
      "cell_type": "code",
      "execution_count": 144,
      "id": "cd9089b8",
      "metadata": {
        "lines_to_next_cell": 2,
        "id": "cd9089b8",
        "outputId": "330c47f1-b508-4442-bdf9-b5fc9f1802c5",
        "colab": {
          "base_uri": "https://localhost:8080/"
        }
      },
      "outputs": [
        {
          "output_type": "stream",
          "name": "stdout",
          "text": [
            "['A']\n",
            "['B']\n"
          ]
        }
      ],
      "source": [
        "def my_append(value, L = None):\n",
        "    if L is None:\n",
        "        L = []\n",
        "    L.append(value)\n",
        "    return L\n",
        "\n",
        "print(my_append(\"A\"))\n",
        "print(my_append(\"B\"))"
      ]
    },
    {
      "cell_type": "markdown",
      "id": "8dd48a79",
      "metadata": {
        "id": "8dd48a79"
      },
      "source": [
        "## Video Demo\n",
        "\n",
        "This quick video demo gives another example of creating our own function! (Coming soon)\n"
      ]
    },
    {
      "cell_type": "markdown",
      "source": [
        "---\n",
        "\n",
        "# Recap\n",
        "\n",
        "- Writing functions is super cool!"
      ],
      "metadata": {
        "id": "CKONOG9COM5w"
      },
      "id": "CKONOG9COM5w"
    },
    {
      "cell_type": "code",
      "execution_count": null,
      "id": "34ffc089",
      "metadata": {
        "eval": false,
        "id": "34ffc089"
      },
      "outputs": [],
      "source": [
        "def func_name(args):\n",
        "    \"\"\"\n",
        "    Doc string\n",
        "    \"\"\"\n",
        "    body\n",
        "    return object"
      ]
    },
    {
      "cell_type": "markdown",
      "id": "d815d9ac",
      "metadata": {
        "id": "d815d9ac"
      },
      "source": [
        "- Many ways to set up your function arguments and to call your function\n",
        "\n",
        "- Even more on function writing will be covered later!\n"
      ]
    }
  ],
  "metadata": {
    "jupytext": {
      "cell_metadata_filter": "message,eval,tags,warning,error,-all",
      "main_language": "python",
      "notebook_metadata_filter": "-all"
    },
    "colab": {
      "provenance": [],
      "toc_visible": true
    },
    "language_info": {
      "name": "python"
    },
    "kernelspec": {
      "name": "python3",
      "display_name": "Python 3"
    }
  },
  "nbformat": 4,
  "nbformat_minor": 5
}