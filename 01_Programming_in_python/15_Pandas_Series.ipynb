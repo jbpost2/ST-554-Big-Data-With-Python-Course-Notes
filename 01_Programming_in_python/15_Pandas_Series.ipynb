{
 "cells": [
  {
   "cell_type": "raw",
   "id": "3065cca0",
   "metadata": {},
   "source": [
    "---\n",
    "title: \"Pandas Series\"\n",
    "author: \"Justin Post (Some notes modified from Dr. Eric Chi)\"\n",
    "output:\n",
    "  xaringan::moon_reader:\n",
    "    seal: false\n",
    "    lib_dir: libs\n",
    "    css: [default, \"css/ncsu.css\", \"css/ncsu-fonts.css\", \"css/mycss.css\"]\n",
    "    nature:\n",
    "      beforeInit: [\"js/ncsu-scale.js\"]\n",
    "      highlightStyle: github\n",
    "      highlightLines: true\n",
    "      countIncrementalSlides: false\n",
    "      ratio: \"16:9\"\n",
    "    includes:\n",
    "      in_header: \"partials/header.html\"\n",
    "editor_options: \n",
    "  chunk_output_type: console\n",
    "---"
   ]
  },
  {
   "cell_type": "code",
   "execution_count": null,
   "id": "5c4cc896",
   "metadata": {
    "lines_to_next_cell": 2,
    "message": false,
    "tags": [
     "remove_cell"
    ],
    "warning": false
   },
   "outputs": [],
   "source": [
    "%%R\n",
    "options(htmltools.dir.version = FALSE)\n",
    "knitr::opts_chunk$set(\n",
    "  message = FALSE,\n",
    "  warning = FALSE,\n",
    "  dev = \"svg\",\n",
    "  fig.align = \"center\",\n",
    "  #fig.width = 11,\n",
    "  #fig.height = 5\n",
    "  cache = FALSE\n",
    ")\n",
    "\n",
    "# define vars\n",
    "om = par(\"mar\")\n",
    "lowtop = c(om[1],om[2],0.1,om[4])\n",
    "library(tidyverse)\n",
    "library(knitr)\n",
    "library(reticulate)\n",
    "use_python(\"C:\\\\Users\\\\jbpost2\\\\AppData\\\\Local\\\\Programs\\\\Python\\\\Python310\\\\python.exe\")\n",
    "#use_python(\"C:\\\\python\\\\python.exe\")\n",
    "options(dplyr.print_min = 5)\n",
    "options(reticulate.repl.quiet = TRUE)"
   ]
  },
  {
   "cell_type": "markdown",
   "id": "f5fcb0e8",
   "metadata": {},
   "source": [
    "layout: false\n",
    "class: title-slide-section-red, middle"
   ]
  },
  {
   "cell_type": "markdown",
   "id": "d958afa0",
   "metadata": {
    "lines_to_next_cell": 0
   },
   "source": [
    "# Pandas Series\n",
    "Justin Post\n",
    "\n",
    "---\n",
    "layout: true\n",
    "\n",
    "<div class=\"my-footer\"><img src=\"img/logo.png\" style=\"height: 60px;\"/></div> \n",
    "\n",
    "---\n",
    "\n",
    "# Series\n",
    "\n",
    "- [Pandas](https://pandas.pydata.org/) library supports a data frame object similar to R's data.frame\n",
    "- **series** objects make up a data frame object\n",
    "\n",
    "    + 1D labeled array that can hold any data type \n",
    "    + Contains values and indices that are used to extract those values\n",
    "\n",
    "\n",
    "---\n",
    "\n",
    "# Series\n",
    "\n",
    "- [Pandas](https://pandas.pydata.org/) library supports a data frame object similar to R's data.frame\n",
    "- **series** objects make up a data frame object\n",
    "\n",
    "    + 1D labeled array that can hold any data type \n",
    "    + Contains values and indices that are used to extract those values\n"
   ]
  },
  {
   "cell_type": "code",
   "execution_count": null,
   "id": "c20756ff",
   "metadata": {
    "lines_to_next_cell": 2
   },
   "outputs": [],
   "source": [
    "import numpy as np\n",
    "import pandas as pd\n",
    "s = pd.Series(np.random.randn(5))\n",
    "s\n",
    "s[0]"
   ]
  },
  {
   "cell_type": "markdown",
   "id": "40025955",
   "metadata": {
    "lines_to_next_cell": 0
   },
   "source": [
    "---\n",
    "\n",
    "# Series\n",
    "\n",
    "- `.index` attribute returns just the indices\n",
    "\n",
    ".left45["
   ]
  },
  {
   "cell_type": "code",
   "execution_count": null,
   "id": "d5f4ac3a",
   "metadata": {
    "lines_to_next_cell": 0
   },
   "outputs": [],
   "source": [
    "s = pd.Series(np.random.randn(5), \n",
    "              index=['a', 'b', 'c', 'd', 'e'])\n",
    "s\n",
    "s.index\n",
    "s['a']"
   ]
  },
  {
   "cell_type": "markdown",
   "id": "e76a2ce0",
   "metadata": {
    "lines_to_next_cell": 0
   },
   "source": [
    "]\n",
    "\n",
    ".right45["
   ]
  },
  {
   "cell_type": "code",
   "execution_count": null,
   "id": "eb5deaab",
   "metadata": {
    "lines_to_next_cell": 0
   },
   "outputs": [],
   "source": [
    "s2 = pd.Series([\"a\", \"b\", \"Hi\", \"Ho\"], \n",
    "               index = ['1', '2', '3', '4'])\n",
    "s2\n",
    "s2.index\n",
    "s2['1']"
   ]
  },
  {
   "cell_type": "markdown",
   "id": "37662e41",
   "metadata": {},
   "source": [
    "]"
   ]
  },
  {
   "cell_type": "markdown",
   "id": "842f04bd",
   "metadata": {},
   "source": [
    "---\n",
    "\n",
    "# Series\n",
    "\n",
    "- Obtain just the values with `.values`"
   ]
  },
  {
   "cell_type": "code",
   "execution_count": null,
   "id": "5526d2cb",
   "metadata": {
    "lines_to_next_cell": 0
   },
   "outputs": [],
   "source": [
    "s2 = pd.Series([\"a\", \"b\", \"Hi\", \"Ho\"], index = ['1', '2', '3', '4'])\n",
    "s2\n",
    "s2.values"
   ]
  },
  {
   "cell_type": "markdown",
   "id": "c7b25793",
   "metadata": {},
   "source": [
    "\n"
   ]
  },
  {
   "cell_type": "markdown",
   "id": "44272825",
   "metadata": {
    "lines_to_next_cell": 0
   },
   "source": [
    "---\n",
    "\n",
    "# Creating a Series \n",
    "\n",
    "- Common to create from other objects like dictionaries\n",
    "\n",
    "    + keys of the dictionary become the indices\n",
    "    "
   ]
  },
  {
   "cell_type": "code",
   "execution_count": null,
   "id": "31a487af",
   "metadata": {
    "lines_to_next_cell": 2
   },
   "outputs": [],
   "source": [
    "d = {'b': 1, 'a': 0, 'c': 2}\n",
    "pd.Series(d)"
   ]
  },
  {
   "cell_type": "markdown",
   "id": "f9e8263f",
   "metadata": {
    "lines_to_next_cell": 0
   },
   "source": [
    "---\n",
    "\n",
    "# Creating a Series \n",
    "\n",
    "- Common to create from other objects like dictionaries\n",
    "\n",
    "    + keys of the dictionary become the indices\n",
    "    "
   ]
  },
  {
   "cell_type": "code",
   "execution_count": null,
   "id": "04416957",
   "metadata": {
    "lines_to_next_cell": 2
   },
   "outputs": [],
   "source": [
    "AFCDivisions = {\n",
    "  \"AFCNorth\": [\"Steelers\", \"Browns\", \"Ravens\", \"Bengals\"], \n",
    "  \"AFCEast\" : [\"Patriots\", \"Jets\", \"Dolphins\", \"Bills\"], \n",
    "  \"AFCWest\" : [\"Raiders\", \"Chiefs\", \"Chargers\", \"Broncos\"],\n",
    "  \"AFCSouth\": [\"Texans\", \"Colts\", \"Jaguars\", \"Titans\"]\n",
    "  }\n",
    "pd.Series(AFCDivisions)"
   ]
  },
  {
   "cell_type": "markdown",
   "id": "c5d05dd2",
   "metadata": {
    "lines_to_next_cell": 0
   },
   "source": [
    "---\n",
    "\n",
    "# Series vs Dictionaries\n",
    "\n",
    "- Series are like a fixed-size `dict` object \n",
    "\n",
    "    + Can get and set values within a series using the index label\n",
    "    + But Series have an ordering to them\n",
    "\n",
    "\n",
    "---\n",
    "\n",
    "# Series vs Dictionaries\n",
    "\n",
    "- Series are like a fixed-size `dict` object \n",
    "\n",
    "    + Can get and set values within a series using the index label\n",
    "    + But Series have an ordering to them\n"
   ]
  },
  {
   "cell_type": "code",
   "execution_count": null,
   "id": "eefbc615",
   "metadata": {},
   "outputs": [],
   "source": [
    "my_series = pd.Series(AFCDivisions)\n",
    "my_series\n",
    "my_series[\"AFCNorth\"]\n",
    "my_series[0]"
   ]
  },
  {
   "cell_type": "markdown",
   "id": "9e4a141f",
   "metadata": {},
   "source": [
    "---\n",
    "\n",
    "# Series vs Dictionaries\n",
    "\n",
    "- We can check if an index occurs similar to how we could check if a key occurred in a dictionary"
   ]
  },
  {
   "cell_type": "code",
   "execution_count": null,
   "id": "0dc2cc37",
   "metadata": {
    "lines_to_next_cell": 0
   },
   "outputs": [],
   "source": [
    "AFCDivisions = {\n",
    "  \"AFCNorth\": [\"Steelers\", \"Browns\", \"Ravens\", \"Bengals\"], \n",
    "  \"AFCEast\" : [\"Patriots\", \"Jets\", \"Dolphins\", \"Bills\"], \n",
    "  \"AFCWest\" : [\"Raiders\", \"Chiefs\", \"Chargers\", \"Broncos\"],\n",
    "  \"AFCSouth\": [\"Texans\", \"Colts\", \"Jaguars\", \"Titans\"]\n",
    "  }\n",
    "\"AFCNorth\" in AFCDivisions\n",
    "my_series = pd.Series(AFCDivisions)\n",
    "\"AFCNorth\" in my_series"
   ]
  },
  {
   "cell_type": "markdown",
   "id": "2b09b2e8",
   "metadata": {},
   "source": []
  },
  {
   "cell_type": "markdown",
   "id": "206158d0",
   "metadata": {
    "lines_to_next_cell": 0
   },
   "source": [
    "---\n",
    "\n",
    "# Series vs Arrays  \n",
    "\n",
    "- Series behave very similarly to `NumPy`'s 1D `ndarray`\n",
    "\n",
    "- `NumPy` functions can typically take series as input \n",
    "\n",
    ".left45["
   ]
  },
  {
   "cell_type": "code",
   "execution_count": null,
   "id": "14fe9783",
   "metadata": {
    "lines_to_next_cell": 0
   },
   "outputs": [],
   "source": [
    "s\n",
    "np.exp(s)"
   ]
  },
  {
   "cell_type": "markdown",
   "id": "901df524",
   "metadata": {
    "lines_to_next_cell": 0
   },
   "source": [
    "]\n",
    ".left25[\n",
    "&nbsp;&nbsp;&nbsp;&nbsp;&nbsp;&nbsp;&nbsp;&nbsp;&nbsp;&nbsp;\n",
    "]\n",
    ".left45["
   ]
  },
  {
   "cell_type": "code",
   "execution_count": null,
   "id": "19fae709",
   "metadata": {
    "lines_to_next_cell": 0
   },
   "outputs": [],
   "source": [
    "s * 3"
   ]
  },
  {
   "cell_type": "markdown",
   "id": "5ae2809e",
   "metadata": {
    "lines_to_next_cell": 0
   },
   "source": [
    "]\n",
    "\n",
    "---\n",
    "\n",
    "# Series vs Lists\n",
    "\n",
    "- Series are like a `list` object in that you can \n",
    "\n",
    "    + get and set values by integer index location\n",
    "    + can using slicing with `:`\n",
    "    \n",
    "--\n",
    "\n",
    ".left45["
   ]
  },
  {
   "cell_type": "code",
   "execution_count": null,
   "id": "96a78876",
   "metadata": {
    "lines_to_next_cell": 0
   },
   "outputs": [],
   "source": [
    "my_array = np.random.random((6))  \n",
    "my_array\n",
    "my_series = pd.Series(my_array)\n",
    "my_series"
   ]
  },
  {
   "cell_type": "markdown",
   "id": "1217ca5f",
   "metadata": {
    "lines_to_next_cell": 0
   },
   "source": [
    "]\n",
    ".left25[\n",
    "&nbsp;&nbsp;&nbsp;&nbsp;&nbsp;&nbsp;&nbsp;&nbsp;&nbsp;&nbsp;\n",
    "]\n",
    ".left45["
   ]
  },
  {
   "cell_type": "code",
   "execution_count": null,
   "id": "88385790",
   "metadata": {
    "lines_to_next_cell": 0
   },
   "outputs": [],
   "source": [
    "my_series[4]\n",
    "type(my_series[4])\n",
    "my_series[:4]\n",
    "my_series[3:5]"
   ]
  },
  {
   "cell_type": "markdown",
   "id": "e49ac34b",
   "metadata": {},
   "source": [
    "]"
   ]
  },
  {
   "cell_type": "markdown",
   "id": "5b9f70b6",
   "metadata": {},
   "source": [
    "---\n",
    "\n",
    "# Recap\n",
    "\n",
    "- Series will make up Data Frames\n",
    "\n",
    "    + 1D data structure with indices and values\n",
    "    \n",
    "    + Each column of a data frame is made up of a series"
   ]
  }
 ],
 "metadata": {
  "jupytext": {
   "cell_metadata_filter": "warning,message,tags,-all",
   "main_language": "python",
   "notebook_metadata_filter": "-all"
  }
 },
 "nbformat": 4,
 "nbformat_minor": 5
}
