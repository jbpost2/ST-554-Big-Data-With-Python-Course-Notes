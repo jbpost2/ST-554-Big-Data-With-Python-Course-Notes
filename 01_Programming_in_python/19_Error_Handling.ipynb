{
 "cells": [
  {
   "cell_type": "raw",
   "id": "59e3a283",
   "metadata": {},
   "source": [
    "---\n",
    "title: \"Error Handling\"\n",
    "output:\n",
    "  xaringan::moon_reader:\n",
    "    seal: false\n",
    "    lib_dir: libs\n",
    "    css: [default, \"css/ncsu.css\", \"css/ncsu-fonts.css\", \"css/mycss.css\"]\n",
    "    nature:\n",
    "      beforeInit: [\"js/ncsu-scale.js\"]\n",
    "      highlightStyle: github\n",
    "      highlightLines: true\n",
    "      countIncrementalSlides: false\n",
    "      ratio: \"16:9\"\n",
    "    includes:\n",
    "      in_header: \"partials/header.html\"\n",
    "editor_options: \n",
    "  chunk_output_type: console\n",
    "---"
   ]
  },
  {
   "cell_type": "code",
   "execution_count": null,
   "id": "d7e6a0f0",
   "metadata": {
    "lines_to_next_cell": 2,
    "message": false,
    "tags": [
     "remove_cell"
    ],
    "warning": false
   },
   "outputs": [],
   "source": [
    "%%R\n",
    "options(htmltools.dir.version = FALSE)\n",
    "knitr::opts_chunk$set(\n",
    "  message = FALSE,\n",
    "  warning = FALSE,\n",
    "  dev = \"svg\",\n",
    "  fig.align = \"center\",\n",
    "  #fig.width = 11,\n",
    "  #fig.height = 5\n",
    "  cache = TRUE\n",
    ")\n",
    "\n",
    "# define vars\n",
    "om = par(\"mar\")\n",
    "lowtop = c(om[1],om[2],0.1,om[4])\n",
    "library(tidyverse)\n",
    "library(knitr)\n",
    "library(reticulate)\n",
    "use_python(\"C:\\\\Users\\\\jbpost2\\\\AppData\\\\Local\\\\Programs\\\\Python\\\\Python310\\\\python.exe\")\n",
    "#use_python(\"C:\\\\python\\\\python.exe\")\n",
    "options(dplyr.print_min = 5)\n",
    "options(reticulate.repl.quiet = TRUE)"
   ]
  },
  {
   "cell_type": "markdown",
   "id": "588dc20e",
   "metadata": {},
   "source": [
    "layout: false\n",
    "class: title-slide-section-red, middle"
   ]
  },
  {
   "cell_type": "markdown",
   "id": "94acbce6",
   "metadata": {},
   "source": [
    "# Error Handling\n",
    "Justin Post\n",
    "\n",
    "---\n",
    "layout: true\n",
    "\n",
    "<div class=\"my-footer\"><img src=\"img/logo.png\" style=\"height: 60px;\"/></div> "
   ]
  },
  {
   "cell_type": "markdown",
   "id": "61ed5aff",
   "metadata": {},
   "source": [
    "---\n",
    "\n",
    "# Writing Functions New Topics\n",
    "\n",
    "- Catching extra arguments to a function\n",
    "- Passing your arguments to a function from an object\n",
    "- **lambda** functions\n",
    "- `map()`, `filter()`, and `functools.reduce()`\n",
    "- **Error control**\n"
   ]
  },
  {
   "cell_type": "markdown",
   "id": "b08929ef",
   "metadata": {},
   "source": [
    "---\n",
    "\n",
    "# Errors When Programming\n",
    "\n",
    "Commonly you'll have **syntax errors** and **exceptions**\n",
    "\n",
    "- Syntax error is when you typed something in wrong (and it can't be parsed by python)"
   ]
  },
  {
   "cell_type": "code",
   "execution_count": null,
   "id": "5562ab82",
   "metadata": {
    "eval": false,
    "lines_to_next_cell": 0
   },
   "outputs": [],
   "source": [
    "for x in range(0,10) #missing colon\n",
    "    print(x) "
   ]
  },
  {
   "cell_type": "markdown",
   "id": "1d8275e0",
   "metadata": {},
   "source": [
    "`SyntaxError: invalid syntax (<string>, line 1)`"
   ]
  },
  {
   "cell_type": "markdown",
   "id": "9ba8b85f",
   "metadata": {},
   "source": [
    "---\n",
    "\n",
    "# Errors When Programming\n",
    "\n",
    "Commonly you'll have **syntax errors** and **exceptions**\n",
    "\n",
    "- Syntax error is when you typed something in wrong (and it can't be parsed by python)"
   ]
  },
  {
   "cell_type": "code",
   "execution_count": null,
   "id": "5cc8aa53",
   "metadata": {
    "eval": false,
    "lines_to_next_cell": 0
   },
   "outputs": [],
   "source": [
    "for x in range(0,10) #missing colon\n",
    "    print(x) "
   ]
  },
  {
   "cell_type": "markdown",
   "id": "6c7d3664",
   "metadata": {},
   "source": [
    "`SyntaxError: invalid syntax (<string>, line 1)`\n",
    "\n",
    "- An exception occurs when python can't execute your code (during the execution something bad happens)"
   ]
  },
  {
   "cell_type": "code",
   "execution_count": null,
   "id": "332a30b7",
   "metadata": {
    "eval": false,
    "lines_to_next_cell": 0
   },
   "outputs": [],
   "source": [
    "print(\"the number is \" + 10)"
   ]
  },
  {
   "cell_type": "markdown",
   "id": "bfb86f8e",
   "metadata": {},
   "source": [
    "`TypeError: can only concatenate str (not \"int\") to str`\n"
   ]
  },
  {
   "cell_type": "markdown",
   "id": "1f6b3cb6",
   "metadata": {},
   "source": [
    "---\n",
    "\n",
    "# Dealing with Exceptions\n",
    "\n",
    "Important to be able to handle exceptions: `try` and `except`  "
   ]
  },
  {
   "cell_type": "code",
   "execution_count": null,
   "id": "c38a0e4d",
   "metadata": {
    "error": true
   },
   "outputs": [],
   "source": [
    "def print_strings(*x): #should all be strings!\n",
    "    c = 0\n",
    "    for i in x:\n",
    "        print(\"The value in position \" + str(c) + \" is: \" + i)\n",
    "        c += 1\n",
    "        \n",
    "print_strings(\"cat\", \"dog\", \"bird\")    "
   ]
  },
  {
   "cell_type": "markdown",
   "id": "fc171cd9",
   "metadata": {},
   "source": [
    "---\n",
    "\n",
    "# Dealing with Exceptions\n",
    "\n",
    "Important to be able to handle exceptions: `try` and `except`  "
   ]
  },
  {
   "cell_type": "code",
   "execution_count": null,
   "id": "b2e6cefe",
   "metadata": {
    "error": true,
    "lines_to_next_cell": 2
   },
   "outputs": [],
   "source": [
    "def print_strings(*x): #should all be strings!\n",
    "    c = 0\n",
    "    for i in x:\n",
    "        print(\"The value in position \" + str(c) + \" is: \" + i)\n",
    "        c += 1\n",
    "        \n",
    "print_strings(\"cat\", 1, \"bird\")"
   ]
  },
  {
   "cell_type": "markdown",
   "id": "ba95af79",
   "metadata": {},
   "source": [
    "---\n",
    "\n",
    "# Dealing with Exceptions\n",
    "\n",
    "Important to be able to handle exceptions: `try` and `except`  "
   ]
  },
  {
   "cell_type": "code",
   "execution_count": null,
   "id": "6a3e285f",
   "metadata": {
    "lines_to_next_cell": 2
   },
   "outputs": [],
   "source": [
    "def print_strings(*x):\n",
    "    c = 0\n",
    "    for i in x:\n",
    "        try: \n",
    "            print(\"The value in position \" + str(c) + \" is: \" + i)\n",
    "        except TypeError:\n",
    "            print(\"Oh no! Not a string\")\n",
    "        c += 1\n",
    "\n",
    "print_strings(\"cat\", \"dog\", 1, \"bird\")        "
   ]
  },
  {
   "cell_type": "markdown",
   "id": "f366474b",
   "metadata": {},
   "source": [
    "---\n",
    "\n",
    "# Dealing with Exceptions\n",
    "\n",
    "- Can have multiple `except` statements and an `else` block"
   ]
  },
  {
   "cell_type": "code",
   "execution_count": null,
   "id": "86d7d984",
   "metadata": {
    "error": true,
    "lines_to_next_cell": 2
   },
   "outputs": [],
   "source": [
    "def print_stuff(**x): #now taking key value pairs\n",
    "    print(x)\n",
    "    print(\"Pay special attention to \" + x.pop(\"Name\") + \"\\n His attributes are:\")\n",
    "    for key in x:\n",
    "        print(\"\\t\", key, \" : \", str(x[key]))\n",
    "print_stuff(Name = \"Justin Post\", Age = 39, Job = \"Professor\")"
   ]
  },
  {
   "cell_type": "markdown",
   "id": "f4fbe634",
   "metadata": {},
   "source": [
    "---\n",
    "\n",
    "# Dealing with Exceptions\n",
    "\n",
    "- Can have multiple `except` statements and an `else` block"
   ]
  },
  {
   "cell_type": "code",
   "execution_count": null,
   "id": "ec9de238",
   "metadata": {
    "error": true,
    "lines_to_next_cell": 2
   },
   "outputs": [],
   "source": [
    "def print_stuff(**x): #now taking key value pairs\n",
    "    print(x)\n",
    "    print(\"Pay special attention to \" + x.pop(\"Name\") + \"\\n His attributes are:\")\n",
    "    for key in x:\n",
    "        print(\"\\t\", key, \" : \", str(x[key]))\n",
    "print_stuff(name = \"Justin Post\", Age = 39, Job = \"Professor\")"
   ]
  },
  {
   "cell_type": "markdown",
   "id": "e50c9a86",
   "metadata": {},
   "source": [
    "---\n",
    "\n",
    "# Dealing with Mulitple Exceptions"
   ]
  },
  {
   "cell_type": "code",
   "execution_count": null,
   "id": "62cf834a",
   "metadata": {
    "error": true,
    "lines_to_next_cell": 2
   },
   "outputs": [],
   "source": [
    "def print_stuff(**x): #now taking key value pairs\n",
    "    print(x)\n",
    "    try: \n",
    "        print(\"Pay special attention to \" + x.pop(\"Name\") + \"\\n His attributes are:\")\n",
    "    except TypeError:\n",
    "        print(\"Oh no! 'Name' is not a string\")\n",
    "    except KeyError:\n",
    "        print(\"You didn't supply a 'Name'!\")\n",
    "    for key in x:\n",
    "        print(\"\\t\", key, \" : \", str(x[key]))\n",
    "print_stuff(name = \"Justin Post\", Age = 39, Job = \"Professor\")"
   ]
  },
  {
   "cell_type": "markdown",
   "id": "f3716f9f",
   "metadata": {},
   "source": [
    "---\n",
    "\n",
    "# Dealing with Mulitple Exceptions"
   ]
  },
  {
   "cell_type": "code",
   "execution_count": null,
   "id": "1235f206",
   "metadata": {
    "error": true
   },
   "outputs": [],
   "source": [
    "def print_stuff(**x): #now taking key value pairs\n",
    "    print(x)\n",
    "    try: \n",
    "        print(\"Pay special attention to \" + x.pop(\"Name\") + \"\\n His attributes are:\")\n",
    "    except TypeError:\n",
    "        print(\"Oh no! 'Name' is not a string\")\n",
    "    except KeyError:\n",
    "        print(\"You didn't supply a 'Name'!\")\n",
    "    for key in x:\n",
    "        print(\"\\t\", key, \" : \", str(x[key]))\n",
    "print_stuff(Name = 39, Age = 39, Job = \"Professor\")"
   ]
  },
  {
   "cell_type": "markdown",
   "id": "f0381624",
   "metadata": {},
   "source": [
    "---\n",
    "\n",
    "# Dealing with Exceptions & Including an `else` Block"
   ]
  },
  {
   "cell_type": "code",
   "execution_count": null,
   "id": "abead5da",
   "metadata": {
    "error": true,
    "lines_to_next_cell": 2
   },
   "outputs": [],
   "source": [
    "def print_stuff(**x): #now taking key value pairs\n",
    "    print(x)\n",
    "    try: \n",
    "        print(\"Pay special attention to \" + x.pop(\"Name\") + \"\\n His attributes are:\")\n",
    "    except TypeError:\n",
    "        print(\"Oh no! 'Name' is not a string\")\n",
    "    except KeyError:\n",
    "        print(\"You didn't supply a 'Name'!\")\n",
    "    else:\n",
    "        print(\"(Valid name by the way)\")\n",
    "    for key in x:\n",
    "        print(\"\\t\", key, \" : \", str(x[key]))\n",
    "        \n",
    "print_stuff(Name = \"Justin Post\", Age = 39, Job = \"Professor\")"
   ]
  },
  {
   "cell_type": "markdown",
   "id": "72a8e980",
   "metadata": {},
   "source": [
    "---\n",
    "\n",
    "layout: false\n",
    "\n",
    "# Dealing with Exceptions\n",
    "\n",
    "- `finally` clause can be given to always execute at end"
   ]
  },
  {
   "cell_type": "code",
   "execution_count": null,
   "id": "c4e76e02",
   "metadata": {
    "error": true
   },
   "outputs": [],
   "source": [
    "def print_stuff(**x): #now taking key value pairs\n",
    "    print(x)\n",
    "    try: \n",
    "        print(\"Pay special attention to \" + x.pop(\"Name\") + \"\\n His attributes are:\")\n",
    "    except TypeError:\n",
    "        print(\"Oh no! 'Name' is not a string\")\n",
    "    except KeyError:\n",
    "        print(\"You didn't supply a 'Name'!\")\n",
    "    else:\n",
    "        print(\"(Valid name by the way)\")\n",
    "    finally:\n",
    "        print(\"This string prints no matter what\")\n",
    "    for key in x:\n",
    "        print(\"\\t\", key, \" : \", str(x[key]))\n",
    "        \n",
    "print_stuff(name = \"Justin Post\", Age = 39, Job = \"Professor\")"
   ]
  },
  {
   "cell_type": "markdown",
   "id": "86d48d20",
   "metadata": {},
   "source": [
    "---\n",
    "\n",
    "# Dealing with Exceptions\n",
    "\n",
    "- `finally` clause can be given to always execute at end"
   ]
  },
  {
   "cell_type": "code",
   "execution_count": null,
   "id": "626922a5",
   "metadata": {
    "error": true,
    "lines_to_next_cell": 2
   },
   "outputs": [],
   "source": [
    "def print_stuff(**x): #now taking key value pairs\n",
    "    print(x)\n",
    "    try: \n",
    "        print(\"Pay special attention to \" + x.pop(\"Name\") + \"\\n His attributes are:\")\n",
    "    except TypeError:\n",
    "        print(\"Oh no! 'Name' is not a string\")\n",
    "    except KeyError:\n",
    "        print(\"You didn't supply a 'Name'!\")\n",
    "    else:\n",
    "        print(\"(Valid name by the way)\")\n",
    "    finally:\n",
    "        print(\"This string prints no matter what\")\n",
    "    for key in x:\n",
    "        print(\"\\t\", key, \" : \", str(x[key]))\n",
    "        \n",
    "print_stuff(Name = \"Justin Post\", Age = 39, Job = \"Professor\")"
   ]
  },
  {
   "cell_type": "markdown",
   "id": "18caa958",
   "metadata": {},
   "source": [
    "---\n",
    "layout: true\n",
    "\n",
    "<div class=\"my-footer\"><img src=\"img/logo.png\" style=\"height: 60px;\"/></div> "
   ]
  },
  {
   "cell_type": "markdown",
   "id": "5b64da93",
   "metadata": {},
   "source": [
    "---\n",
    "\n",
    "# Raising an Exception Yourself\n",
    "\n",
    "- You can define your own exceptions"
   ]
  },
  {
   "cell_type": "code",
   "execution_count": null,
   "id": "ba5a8f2e",
   "metadata": {
    "error": true,
    "lines_to_next_cell": 2
   },
   "outputs": [],
   "source": [
    "3/0\n",
    "\n",
    "def my_divide(x, y):\n",
    "    if y == 0:\n",
    "        raise Exception(\"Can't divide by 0...\")\n",
    "    return x/y\n",
    "\n",
    "my_divide(3,9)\n",
    "my_divide(3,0)"
   ]
  },
  {
   "cell_type": "markdown",
   "id": "d1e0fc8c",
   "metadata": {},
   "source": [
    "---\n",
    "\n",
    "# Else Blocks\n",
    "\n",
    "- Note: You can use `else` blocks on loops too!"
   ]
  },
  {
   "cell_type": "code",
   "execution_count": null,
   "id": "31195155",
   "metadata": {
    "lines_to_next_cell": 2
   },
   "outputs": [],
   "source": [
    "for x in [\"cat\", \"dog\", \"bird\", \"frog\"]:\n",
    "    if \"o\" in x:\n",
    "        print(x + \" contains an o\")\n",
    "else:\n",
    "    print(\"This runs at the end of the loop\")"
   ]
  },
  {
   "cell_type": "markdown",
   "id": "d74e18e8",
   "metadata": {},
   "source": [
    "---\n",
    "\n",
    "# To JupyterLab!  \n",
    "\n",
    "- Quick example with error control"
   ]
  },
  {
   "cell_type": "markdown",
   "id": "5348b685",
   "metadata": {},
   "source": [
    "---\n",
    "\n",
    "# Recap\n",
    "\n",
    "- Syntax errors and exceptions\n",
    "\n",
    "- When an exception is raised:\n",
    "\n",
    "    + `try`, `except`, `else`, and `finally` can help!\n"
   ]
  }
 ],
 "metadata": {
  "jupytext": {
   "cell_metadata_filter": "tags,eval,error,warning,message,-all",
   "main_language": "python",
   "notebook_metadata_filter": "-all"
  }
 },
 "nbformat": 4,
 "nbformat_minor": 5
}
