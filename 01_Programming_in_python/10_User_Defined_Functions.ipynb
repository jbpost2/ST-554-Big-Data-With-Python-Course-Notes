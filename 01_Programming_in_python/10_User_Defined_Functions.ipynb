{
 "cells": [
  {
   "cell_type": "raw",
   "id": "71b5ff32",
   "metadata": {},
   "source": [
    "---\n",
    "title: \"User Define Functions\"\n",
    "author: \"Justin Post (Some notes modified from Dr. Eric Chi)\"\n",
    "output:\n",
    "  xaringan::moon_reader:\n",
    "    seal: false\n",
    "    lib_dir: libs\n",
    "    css: [default, \"css/ncsu.css\", \"css/ncsu-fonts.css\", \"css/mycss.css\"]\n",
    "    nature:\n",
    "      beforeInit: [\"js/ncsu-scale.js\"]\n",
    "      highlightStyle: github\n",
    "      highlightLines: true\n",
    "      countIncrementalSlides: false\n",
    "      ratio: \"16:9\"\n",
    "    includes:\n",
    "      in_header: \"partials/header.html\"\n",
    "editor_options: \n",
    "  chunk_output_type: console\n",
    "---"
   ]
  },
  {
   "cell_type": "code",
   "execution_count": null,
   "id": "f3ecd68a",
   "metadata": {
    "lines_to_next_cell": 2,
    "message": false,
    "tags": [
     "remove_cell"
    ],
    "warning": false
   },
   "outputs": [],
   "source": [
    "%%R\n",
    "options(htmltools.dir.version = FALSE)\n",
    "knitr::opts_chunk$set(\n",
    "  message = FALSE,\n",
    "  warning = FALSE,\n",
    "  dev = \"svg\",\n",
    "  fig.align = \"center\",\n",
    "  #fig.width = 11,\n",
    "  #fig.height = 5\n",
    "  cache = TRUE\n",
    ")\n",
    "\n",
    "# define vars\n",
    "om = par(\"mar\")\n",
    "lowtop = c(om[1],om[2],0.1,om[4])\n",
    "library(tidyverse)\n",
    "library(knitr)\n",
    "library(reticulate)\n",
    "use_python(\"C:\\\\Users\\\\jbpost2\\\\AppData\\\\Local\\\\Programs\\\\Python\\\\Python310\\\\python.exe\")\n",
    "#use_python(\"C:\\\\python\\\\python.exe\")\n",
    "options(dplyr.print_min = 5)\n",
    "options(reticulate.repl.quiet = TRUE)"
   ]
  },
  {
   "cell_type": "markdown",
   "id": "3fd11782",
   "metadata": {},
   "source": [
    "layout: false\n",
    "class: title-slide-section-red, middle"
   ]
  },
  {
   "cell_type": "markdown",
   "id": "8d9a87ee",
   "metadata": {},
   "source": [
    "# User Defined Functions \n",
    "Justin Post\n",
    "\n",
    "---\n",
    "layout: true\n",
    "\n",
    "<div class=\"my-footer\"><img src=\"img/logo.png\" style=\"height: 60px;\"/></div> \n",
    "\n",
    "---\n",
    "\n",
    "# Function Creation Syntax\n",
    "\n",
    "- We're ready to build our own functions!\n",
    "\n",
    "- To create our own functions, we just need to use the keyword `def`"
   ]
  },
  {
   "cell_type": "code",
   "execution_count": null,
   "id": "bb27aa7c",
   "metadata": {
    "eval": false
   },
   "outputs": [],
   "source": [
    "def function_name(arg1, arg2, arg3 = default_arg3):\n",
    "    \"\"\"\n",
    "    Documentation string\n",
    "    \"\"\"\n",
    "    Function body\n",
    "    return object"
   ]
  },
  {
   "cell_type": "markdown",
   "id": "b7a7bfc5",
   "metadata": {},
   "source": [
    "---\n",
    "\n",
    "# Write Our Own Mean Function\n",
    "\n",
    "- Sample mean\n",
    "\n",
    "$$\\bar{y}=\\frac{1}{n}\\sum_{i=1}^{n}y_i$$\n",
    "\n",
    "--"
   ]
  },
  {
   "cell_type": "code",
   "execution_count": null,
   "id": "e83abe21",
   "metadata": {
    "lines_to_next_cell": 2
   },
   "outputs": [],
   "source": [
    "def find_mean(y):\n",
    "    \"\"\"\n",
    "    Quick function to find the mean\n",
    "    Assumes we have a list with only numeric type data\n",
    "    \"\"\"\n",
    "    return sum(y)/len(y)"
   ]
  },
  {
   "cell_type": "markdown",
   "id": "c821081c",
   "metadata": {},
   "source": [
    "--"
   ]
  },
  {
   "cell_type": "code",
   "execution_count": null,
   "id": "393334fa",
   "metadata": {
    "lines_to_next_cell": 2
   },
   "outputs": [],
   "source": [
    "find_mean(list(range(0,11)))"
   ]
  },
  {
   "cell_type": "markdown",
   "id": "38813607",
   "metadata": {},
   "source": [
    "---\n",
    "\n",
    "# Add Argument with Default\n",
    "\n",
    "- Want to add in **trimmed mean** functionality\n",
    "\n",
    "    - Need to sort the observations\n",
    "    - Remove the lowest p% and highest p%\n",
    "    - Find mean on that\n",
    "\n",
    "--"
   ]
  },
  {
   "cell_type": "code",
   "execution_count": null,
   "id": "509b168c",
   "metadata": {},
   "outputs": [],
   "source": [
    "from math import floor, sqrt\n",
    "import random\n",
    "y = random.sample(list(range(1,101)), 50)\n",
    "y"
   ]
  },
  {
   "cell_type": "markdown",
   "id": "95f70e69",
   "metadata": {},
   "source": [
    "--"
   ]
  },
  {
   "cell_type": "code",
   "execution_count": null,
   "id": "eb2af224",
   "metadata": {
    "lines_to_next_cell": 2
   },
   "outputs": [],
   "source": [
    "y.sort()\n",
    "y"
   ]
  },
  {
   "cell_type": "markdown",
   "id": "cf06aec0",
   "metadata": {
    "lines_to_next_cell": 0
   },
   "source": [
    "---\n",
    "\n",
    "# Add Argument with Default\n",
    "\n",
    "- Want to add in **trimmed mean** functionality\n",
    "\n",
    "    - Need to sort the observations\n",
    "    - Remove the lowest p% and highest p%\n",
    "    - Find mean on that\n"
   ]
  },
  {
   "cell_type": "code",
   "execution_count": null,
   "id": "1c800c3c",
   "metadata": {},
   "outputs": [],
   "source": [
    "p = 0.1\n",
    "to_remove = floor(p*len(y))\n",
    "to_remove"
   ]
  },
  {
   "cell_type": "markdown",
   "id": "68daa2b5",
   "metadata": {
    "lines_to_next_cell": 0
   },
   "source": [
    "--"
   ]
  },
  {
   "cell_type": "code",
   "execution_count": null,
   "id": "556a600d",
   "metadata": {
    "lines_to_next_cell": 2
   },
   "outputs": [],
   "source": [
    "y[to_remove:(len(y)-to_remove)]"
   ]
  },
  {
   "cell_type": "markdown",
   "id": "49618f24",
   "metadata": {},
   "source": [
    "---\n",
    "\n",
    "# Add in Trimmed Mean Option"
   ]
  },
  {
   "cell_type": "code",
   "execution_count": null,
   "id": "28d27010",
   "metadata": {},
   "outputs": [],
   "source": [
    "from math import floor, sqrt\n",
    "import random\n",
    "def find_mean(y, method = None, p = 0):\n",
    "    \"\"\"\n",
    "    Quick function to find the mean\n",
    "    Assumes we have a list with only numeric type data\n",
    "    If method is set to trimmed, will remove outer most p values off the data\n",
    "    \"\"\"\n",
    "    if method == \"Trim\": #we'll cover if shortly!\n",
    "      y.sort() #modifies in place\n",
    "      to_remove = floor(p*len(y))\n",
    "      y = y[to_remove:(len(y)-to_remove)]\n",
    "    return sum(y)/len(y)"
   ]
  },
  {
   "cell_type": "markdown",
   "id": "c6cc298d",
   "metadata": {},
   "source": [
    "---\n",
    "\n",
    "# Test Function"
   ]
  },
  {
   "cell_type": "code",
   "execution_count": null,
   "id": "a67be33b",
   "metadata": {
    "lines_to_next_cell": 2
   },
   "outputs": [],
   "source": [
    "x = random.sample(range(1,101), 50)\n",
    "x\n",
    "find_mean(x)\n",
    "find_mean(x, method = \"Trim\", p = 0.1)\n",
    "x.sort()\n",
    "x\n",
    "find_mean(x[5:45])"
   ]
  },
  {
   "cell_type": "markdown",
   "id": "be5e0d67",
   "metadata": {},
   "source": [
    "---\n",
    "\n",
    "# Positional vs Named Arguments\n",
    "\n",
    "- A function can be called using positional or named args"
   ]
  },
  {
   "cell_type": "code",
   "execution_count": null,
   "id": "d4e0b529",
   "metadata": {},
   "outputs": [],
   "source": [
    "#def find_mean(y, method = None, p = 0):\n",
    "find_mean(x, None)\n",
    "find_mean(method = \"Trim\", p = 0.1, y = x)\n",
    "find_mean(x, \"Trim\", 0.1)"
   ]
  },
  {
   "cell_type": "markdown",
   "id": "bd14b3c4",
   "metadata": {},
   "source": [
    "--\n",
    "\n",
    "- Can't place positional args after a keyword"
   ]
  },
  {
   "cell_type": "code",
   "execution_count": null,
   "id": "b1cc77d7",
   "metadata": {
    "eval": false,
    "lines_to_next_cell": 0
   },
   "outputs": [],
   "source": [
    "find_mean(y = x, \"Trim\")"
   ]
  },
  {
   "cell_type": "markdown",
   "id": "a7d0067f",
   "metadata": {},
   "source": [
    "`SyntaxError: positional argument follows keyword argument (<string>, line 1)`\n",
    "\n",
    "---\n",
    "\n",
    "# Defining the Type of Argument\n",
    "\n",
    "- A function definition may look like:\n",
    "\n",
    "def f(pos1, pos2, /, pos_or_kwd, *, kwd1, kwd2):\n",
    "           -----------    ----------     ----------\n",
    "           |              |                  |\n",
    "           |         Positional or keyword   |\n",
    "           |                                 - Keyword only\n",
    "           -- Positional only"
   ]
  },
  {
   "cell_type": "code",
   "execution_count": null,
   "id": "e5e5f87b",
   "metadata": {
    "eval": false,
    "lines_to_next_cell": 2
   },
   "outputs": [],
   "source": [
    "def print_it(x, y, /):\n",
    "    print(\"Must pass x and y positionally!\" + x + y)\n",
    "    \n",
    "def print_it(x, /, y):\n",
    "    print(\"x must be passed positionally.  y can be positional or named\" + x + y)\n",
    "    \n",
    "def print_it(x, /, y, *, z):\n",
    "    print(\"Now z must be passed as a named argument\" + x + y + z)"
   ]
  },
  {
   "cell_type": "markdown",
   "id": "98bfddde",
   "metadata": {},
   "source": [
    "---\n",
    "\n",
    "# Write Our Own Correlation Function\n",
    "\n",
    "- Pearson's correlation:\n",
    "\n",
    "$$r = \\frac{\\sum_{i=1}^{n}(x_i-\\bar{x})(y_i-\\bar{y})}{\\sqrt{\\sum_{i=1}^n(x_i-\\bar{x})^2\\sum_{i=1}^{n}(y_i-\\bar{y})^2}}$$\n",
    "\n",
    "where\n",
    "- $(x_i, y_i)$ are numeric variables observed on the same $n$ units, $i=1,...,n$\n"
   ]
  },
  {
   "cell_type": "markdown",
   "id": "e0378ae3",
   "metadata": {},
   "source": [
    "---\n",
    "\n",
    "# Write Our Own Correlation Function\n",
    "\n",
    "$$r = \\frac{\\sum_{i=1}^{n}(x_i-\\bar{x})(y_i-\\bar{y})}{\\sqrt{\\sum_{i=1}^n(x_i-\\bar{x})^2\\sum_{i=1}^{n}(y_i-\\bar{y})^2}}$$\n",
    "\n",
    "Function inputs:\n",
    "- $x$, $y$, lists with numeric entries only\n",
    "\n",
    "Function body:\n",
    "- Find sample means for $x$ and $y$\n",
    "- Compute numerator sum and denominator sums\n",
    "- Find quotient and return that value"
   ]
  },
  {
   "cell_type": "markdown",
   "id": "685163f0",
   "metadata": {},
   "source": [
    "---\n",
    "\n",
    "# Finding Sums of Interest\n",
    "\n",
    "- Easier once we learn arrays, but for now we'll peak at a for loop and `zip`"
   ]
  },
  {
   "cell_type": "code",
   "execution_count": null,
   "id": "eabd1726",
   "metadata": {},
   "outputs": [],
   "source": [
    "x = random.sample(range(1,101), 50)\n",
    "x\n",
    "xbar = find_mean(x)"
   ]
  },
  {
   "cell_type": "code",
   "execution_count": null,
   "id": "53cabf06",
   "metadata": {
    "lines_to_next_cell": 2
   },
   "outputs": [],
   "source": [
    "y = list(range(1,50))\n",
    "y\n",
    "ybar = find_mean(y)"
   ]
  },
  {
   "cell_type": "markdown",
   "id": "b4116695",
   "metadata": {},
   "source": [
    "---\n",
    "\n",
    "# Finding Sums of Interest\n",
    "\n",
    "- Easier once we learn arrays, but for now we'll peak at a for loop and `zip`"
   ]
  },
  {
   "cell_type": "code",
   "execution_count": null,
   "id": "d99f4bd8",
   "metadata": {
    "lines_to_next_cell": 2
   },
   "outputs": [],
   "source": [
    "(x[0]-xbar)**2\n",
    "den_x = 0\n",
    "for i, j in zip(x, [xbar]*len(x)):\n",
    "    den_x += (i-j)**2\n",
    "den_x"
   ]
  },
  {
   "cell_type": "markdown",
   "id": "0a9abdfc",
   "metadata": {},
   "source": [
    "---\n",
    "\n",
    "# Write Our Own Correlation Function\n"
   ]
  },
  {
   "cell_type": "code",
   "execution_count": null,
   "id": "8dcd746b",
   "metadata": {
    "lines_to_next_cell": 2
   },
   "outputs": [],
   "source": [
    "def find_corr(x, y):\n",
    "    \"\"\"\n",
    "    Compute Pearson's Correlation Coefficient\n",
    "    x and y are assumed to be lists with numeric values\n",
    "    Data is assumed to have no missing values\n",
    "    \"\"\"\n",
    "    xbar = find_mean(x)\n",
    "    ybar = find_mean(y)\n",
    "    num = 0\n",
    "    den_x = 0\n",
    "    den_y = 0\n",
    "    for i, j, k, l in zip(x, [xbar]*len(x), y, [ybar]*len(y)):\n",
    "        num +=(i-j)*(k-l)\n",
    "        den_x +=(i-j)**2\n",
    "        den_y +=(k-l)**2\n",
    "    return num/sqrt(den_x*den_y)\n",
    "print(find_corr.__doc__)"
   ]
  },
  {
   "cell_type": "markdown",
   "id": "a7ffa7d0",
   "metadata": {},
   "source": [
    "---\n",
    "\n",
    "# Test the Function"
   ]
  },
  {
   "cell_type": "code",
   "execution_count": null,
   "id": "2ff6ce99",
   "metadata": {
    "lines_to_next_cell": 2
   },
   "outputs": [],
   "source": [
    "find_corr(x,y)\n",
    "x.sort()\n",
    "find_corr(x,y)"
   ]
  },
  {
   "cell_type": "markdown",
   "id": "f1d2dd98",
   "metadata": {},
   "source": [
    "---\n",
    "\n",
    "# Other Things to Note\n",
    "\n",
    "- When executing a function, a new symbol table is used for the local variables"
   ]
  },
  {
   "cell_type": "code",
   "execution_count": null,
   "id": "90484fbc",
   "metadata": {},
   "outputs": [],
   "source": [
    "import numpy as np\n",
    "y = np.array(range(1,11))\n",
    "\n",
    "def square(z):\n",
    "    y = z**2\n",
    "    print(\"In the function environment, z = \" + str(z) + \" and y = \" + str(y))\n",
    "    return(y)\n",
    "\n",
    "square(y)\n",
    "print(y)"
   ]
  },
  {
   "cell_type": "code",
   "execution_count": null,
   "id": "f186e177",
   "metadata": {
    "error": true,
    "lines_to_next_cell": 2
   },
   "outputs": [],
   "source": [
    "print(z)"
   ]
  },
  {
   "cell_type": "markdown",
   "id": "3d1d7be5",
   "metadata": {},
   "source": [
    "---\n",
    "\n",
    "# Other Things to Note\n",
    "\n",
    "- Can define global variables in a function"
   ]
  },
  {
   "cell_type": "code",
   "execution_count": null,
   "id": "111f7d9e",
   "metadata": {
    "lines_to_next_cell": 0
   },
   "outputs": [],
   "source": [
    "def square(z):\n",
    "    global y\n",
    "    y = z**2\n",
    "    print(\"In the function environment, z = \" + str(z) + \" and y = \" + str(y))\n",
    "    return(y)\n",
    "\n",
    "square(y)\n",
    "print(y) #modified globally"
   ]
  },
  {
   "cell_type": "markdown",
   "id": "b47ab47b",
   "metadata": {},
   "source": []
  },
  {
   "cell_type": "markdown",
   "id": "2325aff6",
   "metadata": {},
   "source": [
    "---\n",
    "\n",
    "# Other Things to Note\n",
    "\n",
    "- If nothing is returned from a function (with `return`) then it actually returns `None`"
   ]
  },
  {
   "cell_type": "code",
   "execution_count": null,
   "id": "a15a81ee",
   "metadata": {
    "lines_to_next_cell": 2
   },
   "outputs": [],
   "source": [
    "def square_it(a):\n",
    "    if (type(a) == int) or (type(a) == float):\n",
    "      return a**2\n",
    "    else:\n",
    "      return\n",
    "    \n",
    "square_it(10)\n",
    "square_it(10.5)\n",
    "square_it(\"10\")\n",
    "print(square_it(\"10\"))"
   ]
  },
  {
   "cell_type": "markdown",
   "id": "7853160c",
   "metadata": {},
   "source": [
    "---\n",
    "\n",
    "# Other Things to Note\n",
    "\n",
    "- Default values are only evaluated once - at the time of the function **definition**\n",
    "\n",
    "- Mutable objects can cause an issue!"
   ]
  },
  {
   "cell_type": "code",
   "execution_count": null,
   "id": "bcf91492",
   "metadata": {
    "lines_to_next_cell": 2
   },
   "outputs": [],
   "source": [
    "def my_append(value, L = []):\n",
    "    L.append(value)\n",
    "    return L\n",
    "\n",
    "print(my_append(\"A\"))\n",
    "print(my_append(\"B\"))"
   ]
  },
  {
   "cell_type": "markdown",
   "id": "fdb449ac",
   "metadata": {
    "lines_to_next_cell": 0
   },
   "source": [
    "---\n",
    "\n",
    "# Other Things to Note\n",
    "\n",
    "- Default values are only evaluated once - at the time of the function **definition**\n",
    "\n",
    "- Instead define the default value as `None`"
   ]
  },
  {
   "cell_type": "code",
   "execution_count": null,
   "id": "cd9089b8",
   "metadata": {
    "lines_to_next_cell": 2
   },
   "outputs": [],
   "source": [
    "def my_append(value, L = None):\n",
    "    if L is None:\n",
    "        L = []\n",
    "    L.append(value)\n",
    "    return L\n",
    "\n",
    "print(my_append(\"A\"))\n",
    "print(my_append(\"B\"))"
   ]
  },
  {
   "cell_type": "markdown",
   "id": "8dd48a79",
   "metadata": {},
   "source": [
    "---\n",
    "\n",
    "# To JupyterLab!  \n",
    "\n",
    "- Create a function to graph the normal approximation to a binomial and return a probability\n",
    "\n",
    "    + Option for a continuity correction\n",
    "\n",
    "---\n",
    "\n",
    "# Recap\n",
    "\n",
    "- Writing functions is super cool!"
   ]
  },
  {
   "cell_type": "code",
   "execution_count": null,
   "id": "34ffc089",
   "metadata": {
    "eval": false
   },
   "outputs": [],
   "source": [
    "def func_name(args):\n",
    "    \"\"\"\n",
    "    Doc string\n",
    "    \"\"\"\n",
    "    body\n",
    "    return object"
   ]
  },
  {
   "cell_type": "markdown",
   "id": "d815d9ac",
   "metadata": {},
   "source": [
    "- Many ways to set up your function arguments and to call your function\n",
    "\n",
    "- More on function writing later!\n"
   ]
  }
 ],
 "metadata": {
  "jupytext": {
   "cell_metadata_filter": "message,eval,tags,warning,error,-all",
   "main_language": "python",
   "notebook_metadata_filter": "-all"
  }
 },
 "nbformat": 4,
 "nbformat_minor": 5
}
