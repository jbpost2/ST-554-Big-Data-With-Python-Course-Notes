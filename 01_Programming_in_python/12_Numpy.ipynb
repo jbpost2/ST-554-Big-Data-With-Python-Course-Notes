{
  "cells": [
    {
      "cell_type": "markdown",
      "metadata": {
        "id": "view-in-github",
        "colab_type": "text"
      },
      "source": [
        "<a href=\"https://colab.research.google.com/github/jbpost2/ST-554-Big-Data-With-Python-Course-Notes/blob/main/01_Programming_in_python/12_Numpy.ipynb\" target=\"_parent\"><img src=\"https://colab.research.google.com/assets/colab-badge.svg\" alt=\"Open In Colab\"/></a>"
      ]
    },
    {
      "cell_type": "markdown",
      "id": "01499198",
      "metadata": {
        "id": "01499198"
      },
      "source": [
        "# `NumPy`\n",
        "\n",
        "One of the most famous modules for statistis is called `numpy`\n",
        "\n",
        "- A library for scientific computing\n",
        "\n",
        "    + Provides the multidimensional array object (such as vectors and matrices) and methods for manipulating them\n",
        "\n",
        "- Bring in the module with `import` and the convention is to reference it as `np`"
      ]
    },
    {
      "cell_type": "code",
      "execution_count": null,
      "id": "aec9510d",
      "metadata": {
        "lines_to_next_cell": 0,
        "id": "aec9510d"
      },
      "outputs": [],
      "source": [
        "import numpy as np"
      ]
    },
    {
      "cell_type": "markdown",
      "id": "afc1be26",
      "metadata": {
        "id": "afc1be26"
      },
      "source": [
        "As with our other data types, let's go through and...\n",
        "\n",
        "- Learn how to create\n",
        "- Consider commonly used functions and methods\n",
        "- See control flow and other tricks along the way\n",
        "\n",
        "This topic, compound objects:\n",
        "- **numpy array**\n",
        "\n",
        "Recall: **functions** & **methods** act on objects. We'll see how to obtain **attributes** here as well!"
      ]
    },
    {
      "cell_type": "markdown",
      "id": "3067a914",
      "metadata": {
        "lines_to_next_cell": 0,
        "id": "3067a914"
      },
      "source": [
        "---\n",
        "\n",
        "## Creating an Array\n",
        "\n",
        "- Arrays are like lists but process much faster\n",
        "- They also require that the data be of the same type\n",
        "- They can be multidimensional (like a matrix or even higher dimension\n",
        "\n",
        "The picture below from <https://predictivehacks.com/tips-about-numpy-arrays/> shows a 1D, 2D, and 3D array visually.\n",
        "\n",
        "![](https://drive.google.com/uc?export=view&id=10NhJk2BlGhzcXdPCeWw2iKXO9NH5EMxj)\n",
        "\n",
        "\n",
        "- To create an `ndarray` object, pass a list, tuple, or any array-like object to `np.array()`\n"
      ]
    },
    {
      "cell_type": "code",
      "execution_count": null,
      "id": "56984b41",
      "metadata": {
        "lines_to_next_cell": 0,
        "id": "56984b41"
      },
      "outputs": [],
      "source": [
        "a = np.array(1)\n",
        "a"
      ]
    },
    {
      "cell_type": "code",
      "source": [
        "type(a)"
      ],
      "metadata": {
        "id": "SlKdLZr1A4RD"
      },
      "id": "SlKdLZr1A4RD",
      "execution_count": null,
      "outputs": []
    },
    {
      "cell_type": "markdown",
      "source": [
        "- ndarrays have a shape attribute\n",
        "- Attributes can be accessed like methods except we don't use `()` at the end\n",
        "- We did this with the `.__doc__` attribute on functions"
      ],
      "metadata": {
        "id": "kZy4c8XxA9xC"
      },
      "id": "kZy4c8XxA9xC"
    },
    {
      "cell_type": "code",
      "source": [
        "a.shape"
      ],
      "metadata": {
        "id": "pPWp_aXaA54I"
      },
      "id": "pPWp_aXaA54I",
      "execution_count": null,
      "outputs": []
    },
    {
      "cell_type": "code",
      "execution_count": null,
      "id": "3c984f8f",
      "metadata": {
        "lines_to_next_cell": 0,
        "id": "3c984f8f"
      },
      "outputs": [],
      "source": [
        "b = np.array([1, 2, 3])\n",
        "print(b)\n",
        "print(type(b))\n",
        "print(b.shape)"
      ]
    },
    {
      "cell_type": "markdown",
      "id": "4a076ad9",
      "metadata": {
        "lines_to_next_cell": 0,
        "id": "4a076ad9"
      },
      "source": [
        "---\n",
        "\n",
        "### Array Dimension\n",
        "\n",
        "- 0D arrays are a scalar (sort of... [see here for discussion](https://stackoverflow.com/questions/773030/why-are-0d-arrays-in-numpy-not-considered-scalar))\n",
        "- 1D arrays are vectors\n",
        "- 2D arrays are matrices\n",
        "- 3D and up are just called arrays\n",
        "\n",
        "- `.shape` attribute returns the dimensions of an array as a tuple"
      ]
    },
    {
      "cell_type": "code",
      "execution_count": null,
      "id": "379a1440",
      "metadata": {
        "lines_to_next_cell": 0,
        "id": "379a1440"
      },
      "outputs": [],
      "source": [
        "c = np.array([1, \"a\", True])\n",
        "print(c)\n",
        "c.shape"
      ]
    },
    {
      "cell_type": "code",
      "execution_count": null,
      "id": "b03c1d51",
      "metadata": {
        "lines_to_next_cell": 0,
        "id": "b03c1d51"
      },
      "outputs": [],
      "source": [
        "d = np.array([\n",
        "  [1, 2, 3],\n",
        "  [4, 5, 6]]\n",
        "  )\n",
        "print(d)\n",
        "d.shape"
      ]
    },
    {
      "cell_type": "markdown",
      "id": "fbe497c8",
      "metadata": {
        "id": "fbe497c8"
      },
      "source": [
        "### Functions for Fillling/Creating Arrays\n",
        "\n",
        "Creating a vector or matrix of all zeros\n",
        "\n",
        "- Row vector"
      ]
    },
    {
      "cell_type": "code",
      "execution_count": null,
      "id": "27131933",
      "metadata": {
        "id": "27131933"
      },
      "outputs": [],
      "source": [
        "A0 = np.zeros(4) #row vector of length 4\n",
        "A0"
      ]
    },
    {
      "cell_type": "markdown",
      "id": "c73f2857",
      "metadata": {
        "id": "c73f2857"
      },
      "source": [
        "- Column vector"
      ]
    },
    {
      "cell_type": "code",
      "execution_count": null,
      "id": "d60f4a05",
      "metadata": {
        "lines_to_next_cell": 2,
        "id": "d60f4a05"
      },
      "outputs": [],
      "source": [
        "A0 = np.zeros((4,1)) #column vector of length 4\n",
        "A0"
      ]
    },
    {
      "cell_type": "markdown",
      "id": "67ffb948",
      "metadata": {
        "id": "67ffb948"
      },
      "source": [
        "- Matrix of zeros"
      ]
    },
    {
      "cell_type": "code",
      "execution_count": null,
      "id": "c528b5c0",
      "metadata": {
        "lines_to_next_cell": 2,
        "id": "c528b5c0"
      },
      "outputs": [],
      "source": [
        "A = np.zeros((4,2)) #matrix with dimension 4, 2, given as a tuple\n",
        "A"
      ]
    },
    {
      "cell_type": "code",
      "source": [
        "A.shape"
      ],
      "metadata": {
        "id": "v5XNnNfhBqWl"
      },
      "id": "v5XNnNfhBqWl",
      "execution_count": null,
      "outputs": []
    },
    {
      "cell_type": "markdown",
      "id": "022a6577",
      "metadata": {
        "id": "022a6577"
      },
      "source": [
        "\n",
        "- Row of all ones"
      ]
    },
    {
      "cell_type": "code",
      "execution_count": null,
      "id": "7dbfd30a",
      "metadata": {
        "id": "7dbfd30a"
      },
      "outputs": [],
      "source": [
        "b = np.ones(4) #row vector\n",
        "b"
      ]
    },
    {
      "cell_type": "markdown",
      "id": "074245a2",
      "metadata": {
        "id": "074245a2"
      },
      "source": [
        "- Matrix of all ones"
      ]
    },
    {
      "cell_type": "code",
      "execution_count": null,
      "id": "0542651a",
      "metadata": {
        "lines_to_next_cell": 2,
        "id": "0542651a"
      },
      "outputs": [],
      "source": [
        "B = np.ones((2,3))\n",
        "B"
      ]
    },
    {
      "cell_type": "markdown",
      "id": "9b32717b",
      "metadata": {
        "id": "9b32717b"
      },
      "source": [
        "- Matrix of 10's"
      ]
    },
    {
      "cell_type": "code",
      "execution_count": null,
      "id": "a67cc600",
      "metadata": {
        "id": "a67cc600"
      },
      "outputs": [],
      "source": [
        "C = np.ones((2, 3)) * 10\n",
        "C"
      ]
    },
    {
      "cell_type": "markdown",
      "id": "058d6174",
      "metadata": {
        "id": "058d6174"
      },
      "source": [
        "- `np.full()` does this automatically"
      ]
    },
    {
      "cell_type": "code",
      "execution_count": null,
      "id": "4f47429b",
      "metadata": {
        "lines_to_next_cell": 2,
        "id": "4f47429b"
      },
      "outputs": [],
      "source": [
        "C = np.full((2,3), 10) #specify the value to fill with after the tuple giving dimension\n",
        "C"
      ]
    },
    {
      "cell_type": "markdown",
      "id": "3b22683e",
      "metadata": {
        "id": "3b22683e"
      },
      "source": [
        "- Be careful! C is an integer valued array"
      ]
    },
    {
      "cell_type": "code",
      "execution_count": null,
      "id": "1e6d1cc8",
      "metadata": {
        "id": "1e6d1cc8"
      },
      "outputs": [],
      "source": [
        "C = np.full((2,3), 10)\n",
        "C[0,0] = 6.5                 #replace the top left element\n",
        "C"
      ]
    },
    {
      "cell_type": "markdown",
      "id": "895b46f0",
      "metadata": {
        "id": "895b46f0"
      },
      "source": [
        "- Avoid by creating the matrix with a float instead"
      ]
    },
    {
      "cell_type": "code",
      "execution_count": null,
      "id": "fa79c914",
      "metadata": {
        "lines_to_next_cell": 2,
        "id": "fa79c914"
      },
      "outputs": [],
      "source": [
        "C = np.full((2,3), 10.0)  #or C = np.ones((2, 3)) * 10.0\n",
        "C[0,0] = 6.5\n",
        "C"
      ]
    },
    {
      "cell_type": "markdown",
      "id": "865a0c39",
      "metadata": {
        "id": "865a0c39"
      },
      "source": [
        "- Create an identity matrix with `np.eye()` (this has 1's on the diagonal and 0's elsewhere)"
      ]
    },
    {
      "cell_type": "code",
      "execution_count": null,
      "id": "81121593",
      "metadata": {
        "id": "81121593"
      },
      "outputs": [],
      "source": [
        "D = np.eye(3)\n",
        "D"
      ]
    },
    {
      "cell_type": "markdown",
      "id": "0d1e93f9",
      "metadata": {
        "id": "0d1e93f9"
      },
      "source": [
        "- Create a random matrix (values between 0 and 1) with `np.random.random()`"
      ]
    },
    {
      "cell_type": "code",
      "execution_count": null,
      "id": "a854210e",
      "metadata": {
        "id": "a854210e"
      },
      "outputs": [],
      "source": [
        "E = np.random.random((3,5))\n",
        "E"
      ]
    },
    {
      "cell_type": "markdown",
      "id": "bee714c4",
      "metadata": {
        "id": "bee714c4"
      },
      "source": [
        "- [Many more ways to create!](https://numpy.org/doc/stable/reference/routines.array-creation.html)"
      ]
    },
    {
      "cell_type": "markdown",
      "id": "d9374868",
      "metadata": {
        "lines_to_next_cell": 0,
        "id": "d9374868"
      },
      "source": [
        "---\n",
        "\n",
        "## Reshaping an Array\n",
        "\n",
        "- Reshape an array with the `.reshape()` method\n",
        "- Changes the dimension in some way\n",
        "- We'll need to do this type of thing when fitting models!"
      ]
    },
    {
      "cell_type": "code",
      "execution_count": null,
      "id": "a0cc46b8",
      "metadata": {
        "lines_to_next_cell": 0,
        "id": "a0cc46b8"
      },
      "outputs": [],
      "source": [
        "F = np.random.random((10,1))\n",
        "F"
      ]
    },
    {
      "cell_type": "code",
      "source": [
        "F.shape"
      ],
      "metadata": {
        "id": "94BlGjMyChmc"
      },
      "id": "94BlGjMyChmc",
      "execution_count": null,
      "outputs": []
    },
    {
      "cell_type": "code",
      "execution_count": null,
      "id": "f4a13422",
      "metadata": {
        "lines_to_next_cell": 0,
        "id": "f4a13422"
      },
      "outputs": [],
      "source": [
        "G = F.reshape(1, -1) #-1 flattens to a 1D array\n",
        "G"
      ]
    },
    {
      "cell_type": "code",
      "source": [
        "G.shape"
      ],
      "metadata": {
        "id": "XWUXOfJmCjUc"
      },
      "id": "XWUXOfJmCjUc",
      "execution_count": null,
      "outputs": []
    },
    {
      "cell_type": "code",
      "execution_count": null,
      "id": "36da4a0b",
      "metadata": {
        "id": "36da4a0b"
      },
      "outputs": [],
      "source": [
        "G = F.reshape(2, 5)\n",
        "G"
      ]
    },
    {
      "cell_type": "markdown",
      "id": "a03a4fa2",
      "metadata": {
        "id": "a03a4fa2"
      },
      "source": [
        "- Careful!  This is a view of the original array\n",
        "- View means that we haven't created a new array, just a different way of viewing the values (essentially). The data is still stored in the same memory\n",
        "- `.base` attribute tells you whether you are referencing another array"
      ]
    },
    {
      "cell_type": "code",
      "execution_count": null,
      "id": "29ed7932",
      "metadata": {
        "id": "29ed7932"
      },
      "outputs": [],
      "source": [
        "G.base is None"
      ]
    },
    {
      "cell_type": "code",
      "source": [
        "G.base"
      ],
      "metadata": {
        "id": "4_NcWqyuDB2i"
      },
      "id": "4_NcWqyuDB2i",
      "execution_count": null,
      "outputs": []
    },
    {
      "cell_type": "markdown",
      "id": "1fa8e9e7",
      "metadata": {
        "id": "1fa8e9e7"
      },
      "source": [
        "---\n",
        "\n",
        "### Copying an Array\n",
        "\n",
        "- To avoid getting a view, copy the array with `.copy()` method"
      ]
    },
    {
      "cell_type": "code",
      "execution_count": null,
      "id": "c4e384ae",
      "metadata": {
        "lines_to_next_cell": 0,
        "id": "c4e384ae"
      },
      "outputs": [],
      "source": [
        "H = F.reshape(2, 5).copy()\n",
        "H.base is None"
      ]
    },
    {
      "cell_type": "code",
      "source": [
        "H.base"
      ],
      "metadata": {
        "id": "AM_DsybADC5m"
      },
      "id": "AM_DsybADC5m",
      "execution_count": null,
      "outputs": []
    },
    {
      "cell_type": "markdown",
      "id": "0aeddbd2",
      "metadata": {
        "id": "0aeddbd2"
      },
      "source": [
        "---\n",
        "\n",
        "## Indexing an Array\n",
        "\n",
        "- Access in the same was as lists `[]`\n",
        "- With multiple dimensions, separate the indices you want with a `,`"
      ]
    },
    {
      "cell_type": "code",
      "execution_count": null,
      "id": "f620a5a9",
      "metadata": {
        "lines_to_next_cell": 2,
        "id": "f620a5a9"
      },
      "outputs": [],
      "source": [
        "b = np.array([1, 2, 3]) #row vector\n",
        "b"
      ]
    },
    {
      "cell_type": "code",
      "source": [
        "print(b[0], b[1], b[2])"
      ],
      "metadata": {
        "id": "L3QjBjdQDPla"
      },
      "id": "L3QjBjdQDPla",
      "execution_count": null,
      "outputs": []
    },
    {
      "cell_type": "code",
      "source": [
        "b[0] = 5 #overwrite the 0 element\n",
        "b"
      ],
      "metadata": {
        "id": "ACaEet8CDQ8s"
      },
      "id": "ACaEet8CDQ8s",
      "execution_count": null,
      "outputs": []
    },
    {
      "cell_type": "markdown",
      "id": "cba4d8cf",
      "metadata": {
        "id": "cba4d8cf"
      },
      "source": [
        "- Depending on the dimensions, you add the required commas\n",
        "- Here we have a 3D array so we have three slots\n",
        "- Notation: `array[1stD, 2ndD, 3rdD]`"
      ]
    },
    {
      "cell_type": "code",
      "execution_count": null,
      "id": "a281f152",
      "metadata": {
        "lines_to_next_cell": 2,
        "id": "a281f152"
      },
      "outputs": [],
      "source": [
        "E = np.random.random((3, 2, 2))\n",
        "E"
      ]
    },
    {
      "cell_type": "code",
      "source": [
        "E[0, 0, 0]"
      ],
      "metadata": {
        "id": "TMwZz-xyDd_L"
      },
      "id": "TMwZz-xyDd_L",
      "execution_count": null,
      "outputs": []
    },
    {
      "cell_type": "code",
      "source": [
        "E[0, 1, 0]"
      ],
      "metadata": {
        "id": "y412DJo4Dfry"
      },
      "id": "y412DJo4Dfry",
      "execution_count": null,
      "outputs": []
    },
    {
      "cell_type": "code",
      "source": [
        "E[1, 0, 1]"
      ],
      "metadata": {
        "id": "HMqdrTFlDhWg"
      },
      "id": "HMqdrTFlDhWg",
      "execution_count": null,
      "outputs": []
    },
    {
      "cell_type": "markdown",
      "id": "58f3b038",
      "metadata": {
        "id": "58f3b038"
      },
      "source": [
        "---\n",
        "\n",
        "### Slicing an Array\n",
        "\n",
        "- Recall `[start:end]` for slicing sequence type objects. We can do that with arrays as well\n",
        "\n",
        "    + Returns everything from start up to and **excluding** end\n",
        "    + Leaving start blank implies a 0\n",
        "    + Leaving end blank returns everything from start through the end of the array\n"
      ]
    },
    {
      "cell_type": "code",
      "execution_count": null,
      "id": "4e30e698",
      "metadata": {
        "lines_to_next_cell": 2,
        "id": "4e30e698"
      },
      "outputs": [],
      "source": [
        "A = np.array([\n",
        "  [1,2,3,4],\n",
        "  [5,6,7,8],\n",
        "  [9,10,11,12]])\n",
        "A"
      ]
    },
    {
      "cell_type": "code",
      "source": [
        "B = A[:2, 1:3]\n",
        "B"
      ],
      "metadata": {
        "id": "U7T3SUBwDsJF"
      },
      "id": "U7T3SUBwDsJF",
      "execution_count": null,
      "outputs": []
    },
    {
      "cell_type": "markdown",
      "id": "8191a866",
      "metadata": {
        "id": "8191a866"
      },
      "source": [
        "- Careful with modifying! We have a view here so the values in both A and B are referencing the same computer memory\n",
        "- Changing an element of `B` changes `A`!"
      ]
    },
    {
      "cell_type": "code",
      "execution_count": null,
      "id": "4f439070",
      "metadata": {
        "lines_to_next_cell": 2,
        "id": "4f439070"
      },
      "outputs": [],
      "source": [
        "B[0, 0] = 919\n",
        "A"
      ]
    },
    {
      "cell_type": "markdown",
      "id": "7a110b74",
      "metadata": {
        "lines_to_next_cell": 0,
        "id": "7a110b74"
      },
      "source": [
        "- Returning All of One Index\n",
        "\n",
        "- Use a `:` with nothing else"
      ]
    },
    {
      "cell_type": "code",
      "execution_count": null,
      "id": "f7442efd",
      "metadata": {
        "lines_to_next_cell": 0,
        "id": "f7442efd"
      },
      "outputs": [],
      "source": [
        "A = np.array([\n",
        "  [1,2,3,4],\n",
        "  [5,6,7,8],\n",
        "  [9,10,11,12]])\n",
        "A1 = A[1, :]\n",
        "A1"
      ]
    },
    {
      "cell_type": "code",
      "source": [
        "A1.shape"
      ],
      "metadata": {
        "id": "3YxErgYSEALh"
      },
      "id": "3YxErgYSEALh",
      "execution_count": null,
      "outputs": []
    },
    {
      "cell_type": "code",
      "execution_count": null,
      "id": "926d855a",
      "metadata": {
        "lines_to_next_cell": 0,
        "id": "926d855a"
      },
      "outputs": [],
      "source": [
        "A2 = A[1:3, :]\n",
        "A2"
      ]
    },
    {
      "cell_type": "code",
      "source": [
        "A2.shape"
      ],
      "metadata": {
        "id": "MmFXvHh1EB8o"
      },
      "id": "MmFXvHh1EB8o",
      "execution_count": null,
      "outputs": []
    },
    {
      "cell_type": "markdown",
      "id": "79e3bd0f",
      "metadata": {
        "id": "79e3bd0f"
      },
      "source": [
        "---\n",
        "\n",
        "## Operations on Arrays\n",
        "\n",
        "- We saw that multiplying by a constant was performed elementwise  \n",
        "- All basic functions act elementwise"
      ]
    },
    {
      "cell_type": "code",
      "execution_count": null,
      "id": "1544e982",
      "metadata": {
        "lines_to_next_cell": 0,
        "id": "1544e982"
      },
      "outputs": [],
      "source": [
        "x = np.array([\n",
        "  [1,2],\n",
        "  [3,4]])\n",
        "y = np.array([\n",
        "  [5,6],\n",
        "  [7,8]])\n",
        "\n",
        "x"
      ]
    },
    {
      "cell_type": "code",
      "source": [
        "y"
      ],
      "metadata": {
        "id": "7K2y5nW_ELsp"
      },
      "id": "7K2y5nW_ELsp",
      "execution_count": null,
      "outputs": []
    },
    {
      "cell_type": "code",
      "source": [
        "x + 10"
      ],
      "metadata": {
        "id": "Ql9xXwj3EPmV"
      },
      "id": "Ql9xXwj3EPmV",
      "execution_count": null,
      "outputs": []
    },
    {
      "cell_type": "markdown",
      "source": [
        "- Lots of methods exist such as the `.add()` method for adding arrays elementwise"
      ],
      "metadata": {
        "id": "owoKU81uEQzm"
      },
      "id": "owoKU81uEQzm"
    },
    {
      "cell_type": "code",
      "source": [
        "np.add(x, y)\n"
      ],
      "metadata": {
        "id": "FuadHWjOEMA0"
      },
      "id": "FuadHWjOEMA0",
      "execution_count": null,
      "outputs": []
    },
    {
      "cell_type": "markdown",
      "source": [
        "- If we just do something like `x * y` we get elementwise multiplication"
      ],
      "metadata": {
        "id": "5pVjYVN0Emq-"
      },
      "id": "5pVjYVN0Emq-"
    },
    {
      "cell_type": "code",
      "source": [
        "x * y"
      ],
      "metadata": {
        "id": "ndKKs3sPEkwL"
      },
      "id": "ndKKs3sPEkwL",
      "execution_count": null,
      "outputs": []
    },
    {
      "cell_type": "markdown",
      "source": [
        "- The `.multiply()` method does elementwise multiplication too\n",
        "- Can also add in conditions on when to multiply though!\n",
        "  + `where =` argument gives the condition on when to do the multiplication\n",
        "  + `out =` tells it which values to use if you don't do the multiplication"
      ],
      "metadata": {
        "id": "aD4j3sK7Eugq"
      },
      "id": "aD4j3sK7Eugq"
    },
    {
      "cell_type": "code",
      "source": [
        "np.multiply(x, y, where = (x >= 3), out = x)"
      ],
      "metadata": {
        "id": "iXMP7mFGEtnL"
      },
      "id": "iXMP7mFGEtnL",
      "execution_count": null,
      "outputs": []
    },
    {
      "cell_type": "markdown",
      "source": [
        "- Elementwise division"
      ],
      "metadata": {
        "id": "Y-a1Wd97FVdq"
      },
      "id": "Y-a1Wd97FVdq"
    },
    {
      "cell_type": "code",
      "source": [
        "x / y"
      ],
      "metadata": {
        "id": "7cVc6AoYFX7x"
      },
      "id": "7cVc6AoYFX7x",
      "execution_count": null,
      "outputs": []
    },
    {
      "cell_type": "markdown",
      "source": [
        "- We can do matrix multiplication (if you are familiar with that) using the `.matmul()` method"
      ],
      "metadata": {
        "id": "GPYlkZAUEZuJ"
      },
      "id": "GPYlkZAUEZuJ"
    },
    {
      "cell_type": "code",
      "execution_count": null,
      "id": "712120d2",
      "metadata": {
        "lines_to_next_cell": 2,
        "id": "712120d2"
      },
      "outputs": [],
      "source": [
        "np.matmul(x, y)"
      ]
    },
    {
      "cell_type": "markdown",
      "id": "2b5af01b",
      "metadata": {
        "id": "2b5af01b"
      },
      "source": [
        "- `sqrt()` function can be used to find the square roots of the elements of a matrix"
      ]
    },
    {
      "cell_type": "code",
      "execution_count": null,
      "id": "c6eb5c8e",
      "metadata": {
        "lines_to_next_cell": 2,
        "id": "c6eb5c8e"
      },
      "outputs": [],
      "source": [
        "np.sqrt(x)"
      ]
    },
    {
      "cell_type": "markdown",
      "id": "0e2a332f",
      "metadata": {
        "id": "0e2a332f"
      },
      "source": [
        "- `np.linalg.inv()` will provide the inverse of a square matrix (if you're familiar with that type of thing!)"
      ]
    },
    {
      "cell_type": "code",
      "execution_count": null,
      "id": "407a0c82",
      "metadata": {
        "lines_to_next_cell": 2,
        "id": "407a0c82"
      },
      "outputs": [],
      "source": [
        "np.linalg.inv(x)"
      ]
    },
    {
      "cell_type": "markdown",
      "id": "9ea43405",
      "metadata": {
        "id": "9ea43405"
      },
      "source": [
        "### Computations on Arrays\n",
        "\n",
        "- NumPy has some useful functions for performing basic computations on arrays"
      ]
    },
    {
      "cell_type": "code",
      "execution_count": null,
      "id": "8debe5ea",
      "metadata": {
        "id": "8debe5ea"
      },
      "outputs": [],
      "source": [
        "x = np.array([\n",
        "  [1,2,10],\n",
        "  [3,4,11]])\n",
        "np.sum(x)"
      ]
    },
    {
      "cell_type": "markdown",
      "id": "022e5673",
      "metadata": {
        "id": "022e5673"
      },
      "source": [
        "- Column-wise and row-wise sums"
      ]
    },
    {
      "cell_type": "code",
      "execution_count": null,
      "id": "3ea62d00",
      "metadata": {
        "lines_to_next_cell": 2,
        "id": "3ea62d00"
      },
      "outputs": [],
      "source": [
        "x.shape"
      ]
    },
    {
      "cell_type": "code",
      "source": [
        "np.sum(x, axis=0)"
      ],
      "metadata": {
        "id": "I0Ho4CSQFtK0"
      },
      "id": "I0Ho4CSQFtK0",
      "execution_count": null,
      "outputs": []
    },
    {
      "cell_type": "code",
      "source": [
        "np.sum(x, axis=1)"
      ],
      "metadata": {
        "id": "Im1_4oPXFt2c"
      },
      "id": "Im1_4oPXFt2c",
      "execution_count": null,
      "outputs": []
    },
    {
      "cell_type": "markdown",
      "id": "ad7bf21c",
      "metadata": {
        "id": "ad7bf21c"
      },
      "source": [
        "- Combine arrays (appropriately sized)"
      ]
    },
    {
      "cell_type": "code",
      "execution_count": null,
      "id": "ae12f4d3",
      "metadata": {
        "id": "ae12f4d3"
      },
      "outputs": [],
      "source": [
        "x = np.array([\n",
        "  [1,2],\n",
        "  [3,4]])\n",
        "y = np.array([\n",
        "  [5,6],\n",
        "  [7,8]])\n",
        "\n",
        "np.hstack((x, y))"
      ]
    },
    {
      "cell_type": "code",
      "source": [
        "np.vstack((x, y))"
      ],
      "metadata": {
        "id": "iaLTHS8rFxsK"
      },
      "id": "iaLTHS8rFxsK",
      "execution_count": null,
      "outputs": []
    },
    {
      "cell_type": "markdown",
      "id": "e22cb072",
      "metadata": {
        "id": "e22cb072"
      },
      "source": [
        "- [Lots of other operations!](https://numpy.org/doc/stable/reference/routines.array-manipulation.html)\n"
      ]
    },
    {
      "cell_type": "markdown",
      "source": [
        "---\n",
        "\n",
        "# Quick Video\n",
        "\n",
        "This video shows the creation of numpy arrays, the use of `np.nditer()` for iterating over an array, and the use of `ufuncs` which act on the elements of an arry. (Coming Soon)"
      ],
      "metadata": {
        "id": "ZDA2JE2OF1iB"
      },
      "id": "ZDA2JE2OF1iB"
    },
    {
      "cell_type": "markdown",
      "id": "95069951",
      "metadata": {
        "id": "95069951"
      },
      "source": [
        "---\n",
        "\n",
        "# Recap\n",
        "\n",
        "- `NumPy` is a widely used library that provides arrays\n",
        "\n",
        "    + Lots of functions to create arrays\n",
        "    \n",
        "    + Very fast computation and many useful functions for operating on arrays!"
      ]
    }
  ],
  "metadata": {
    "jupytext": {
      "cell_metadata_filter": "tags,message,warning,-all",
      "main_language": "python",
      "notebook_metadata_filter": "-all"
    },
    "colab": {
      "provenance": [],
      "include_colab_link": true
    }
  },
  "nbformat": 4,
  "nbformat_minor": 5
}