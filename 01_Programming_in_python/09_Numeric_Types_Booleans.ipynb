{
 "cells": [
  {
   "cell_type": "raw",
   "id": "f41c952e",
   "metadata": {},
   "source": [
    "---\n",
    "title: \"Numeric Data Types & Booleans\"\n",
    "author: \"Justin Post (Some notes modified from Dr. Eric Chi)\"\n",
    "output:\n",
    "  xaringan::moon_reader:\n",
    "    seal: false\n",
    "    lib_dir: libs\n",
    "    css: [default, \"css/ncsu.css\", \"css/ncsu-fonts.css\", \"css/mycss.css\"]\n",
    "    nature:\n",
    "      beforeInit: [\"js/ncsu-scale.js\"]\n",
    "      highlightStyle: github\n",
    "      highlightLines: true\n",
    "      countIncrementalSlides: false\n",
    "      ratio: \"16:9\"\n",
    "    includes:\n",
    "      in_header: \"partials/header.html\"\n",
    "editor_options: \n",
    "  chunk_output_type: console\n",
    "---"
   ]
  },
  {
   "cell_type": "code",
   "execution_count": null,
   "id": "02b952b6",
   "metadata": {
    "lines_to_next_cell": 2,
    "message": false,
    "tags": [
     "remove_cell"
    ],
    "warning": false
   },
   "outputs": [],
   "source": [
    "%%R\n",
    "options(htmltools.dir.version = FALSE)\n",
    "knitr::opts_chunk$set(\n",
    "  message = FALSE,\n",
    "  warning = FALSE,\n",
    "  dev = \"svg\",\n",
    "  fig.align = \"center\",\n",
    "  #fig.width = 11,\n",
    "  #fig.height = 5\n",
    "  cache = TRUE\n",
    ")\n",
    "\n",
    "# define vars\n",
    "om = par(\"mar\")\n",
    "lowtop = c(om[1],om[2],0.1,om[4])\n",
    "library(tidyverse)\n",
    "library(knitr)\n",
    "library(reticulate)\n",
    "use_python(\"C:\\\\Users\\\\jbpost2\\\\AppData\\\\Local\\\\Programs\\\\Python\\\\Python310\\\\python.exe\")\n",
    "#use_python(\"C:\\\\python\\\\python.exe\")\n",
    "options(dplyr.print_min = 5)\n",
    "options(reticulate.repl.quiet = TRUE)"
   ]
  },
  {
   "cell_type": "markdown",
   "id": "4e5ac077",
   "metadata": {},
   "source": [
    "layout: false\n",
    "class: title-slide-section-red, middle\n",
    "\n",
    "# Numeric Types (Int and Float) & Booleans\n",
    "Justin Post\n",
    "\n",
    "---\n",
    "\n",
    "layout: true\n",
    "\n",
    "<div class=\"my-footer\"><img src=\"img/logo.png\" style=\"height: 60px;\"/></div> \n",
    "\n",
    "---\n",
    "\n",
    "# Data Types\n",
    "\n",
    "- Built-in data types  \n",
    "    + Strings, Numeric types, Booleans\n",
    "    + Compound data types (Lists, Tuples, Dictionaries, Sets)\n",
    "    \n",
    "- Python modules with common data types\n",
    "    + NumPy arrays\n",
    "    + Pandas data frames"
   ]
  },
  {
   "cell_type": "markdown",
   "id": "8d8437f7",
   "metadata": {},
   "source": [
    "---\n",
    "\n",
    "# Plan\n",
    "\n",
    "Go through common data types\n",
    "\n",
    "- Learn how to create\n",
    "- Consider commonly used functions and methods\n",
    "- See control flow and other tricks along the way\n",
    "\n",
    "Start with:  \n",
    "\n",
    "+ **Strings, Numeric types, Booleans**"
   ]
  },
  {
   "cell_type": "markdown",
   "id": "6293a8cc",
   "metadata": {},
   "source": [
    "---\n",
    "\n",
    "# Ints & Floats\n",
    "\n",
    "- (Real) Numbers stored as **int** or **float**\n",
    "    + Python generally figures out which to use"
   ]
  },
  {
   "cell_type": "code",
   "execution_count": null,
   "id": "2a356fb4",
   "metadata": {
    "lines_to_next_cell": 0
   },
   "outputs": [],
   "source": [
    "x = 10\n",
    "type(x)\n",
    "y = 10.4\n",
    "type(y)\n",
    "z = y - 0.4\n",
    "z\n",
    "type(z)"
   ]
  },
  {
   "cell_type": "markdown",
   "id": "efae3739",
   "metadata": {},
   "source": []
  },
  {
   "cell_type": "markdown",
   "id": "3ab219f8",
   "metadata": {
    "lines_to_next_cell": 0
   },
   "source": [
    "---\n",
    "\n",
    "# Ints & Floats\n",
    "\n",
    "- Can coerce things using `int()` and `float()`\n",
    "\n",
    ".left45["
   ]
  },
  {
   "cell_type": "code",
   "execution_count": null,
   "id": "53ce0957",
   "metadata": {
    "lines_to_next_cell": 0
   },
   "outputs": [],
   "source": [
    "x = 10\n",
    "x = float(x)\n",
    "type(x)\n",
    "int(10.5)"
   ]
  },
  {
   "cell_type": "markdown",
   "id": "c62e805e",
   "metadata": {
    "lines_to_next_cell": 0
   },
   "source": [
    "]\n",
    "\n",
    ".left15[\n",
    "&nbsp;&nbsp;&nbsp;&nbsp;&nbsp;&nbsp;&nbsp;&nbsp;&nbsp;&nbsp;&nbsp;&nbsp;&nbsp;&nbsp;&nbsp;&nbsp;&nbsp;&nbsp;&nbsp;&nbsp;&nbsp;&nbsp;&nbsp;&nbsp;&nbsp;&nbsp;&nbsp;&nbsp;&nbsp;&nbsp;&nbsp;&nbsp;&nbsp;&nbsp;&nbsp;&nbsp;&nbsp;&nbsp;&nbsp;&nbsp;&nbsp;&nbsp;\n",
    "]\n",
    "\n",
    "--\n",
    "\n",
    ".left45["
   ]
  },
  {
   "cell_type": "code",
   "execution_count": null,
   "id": "6c716290",
   "metadata": {
    "lines_to_next_cell": 0
   },
   "outputs": [],
   "source": [
    "y = 10.4\n",
    "type(y)\n",
    "z = y - 0.4\n",
    "z = int(z)\n",
    "type(z)"
   ]
  },
  {
   "cell_type": "markdown",
   "id": "b3ff3cdb",
   "metadata": {
    "lines_to_next_cell": 0
   },
   "source": [
    "]\n",
    "\n",
    "---\n",
    "\n",
    "# Functions & Operators\n",
    "\n",
    "- We have all the numeric operators discussed previously and a few handy functions built in\n",
    "\n",
    ".left45["
   ]
  },
  {
   "cell_type": "code",
   "execution_count": null,
   "id": "b4fca427",
   "metadata": {
    "lines_to_next_cell": 0
   },
   "outputs": [],
   "source": [
    "#floor\n",
    "100 // 3"
   ]
  },
  {
   "cell_type": "code",
   "execution_count": null,
   "id": "76ee966f",
   "metadata": {
    "lines_to_next_cell": 0
   },
   "outputs": [],
   "source": [
    "#modulus\n",
    "100 % 3"
   ]
  },
  {
   "cell_type": "code",
   "execution_count": null,
   "id": "f20b90cb",
   "metadata": {
    "lines_to_next_cell": 0
   },
   "outputs": [],
   "source": [
    "#floor and modulus\n",
    "divmod(100, 3)"
   ]
  },
  {
   "cell_type": "markdown",
   "id": "62e914a3",
   "metadata": {
    "lines_to_next_cell": 0
   },
   "source": [
    "]\n",
    "\n",
    ".left15[\n",
    "&nbsp;&nbsp;&nbsp;&nbsp;&nbsp;&nbsp;&nbsp;&nbsp;&nbsp;&nbsp;&nbsp;&nbsp;&nbsp;&nbsp;&nbsp;&nbsp;&nbsp;&nbsp;&nbsp;&nbsp;&nbsp;&nbsp;&nbsp;&nbsp;&nbsp;&nbsp;&nbsp;&nbsp;&nbsp;&nbsp;&nbsp;&nbsp;&nbsp;&nbsp;&nbsp;&nbsp;&nbsp;&nbsp;&nbsp;&nbsp;&nbsp;&nbsp;\n",
    "]\n",
    "\n",
    "--\n",
    "\n",
    ".left45["
   ]
  },
  {
   "cell_type": "code",
   "execution_count": null,
   "id": "e4463862",
   "metadata": {
    "lines_to_next_cell": 0
   },
   "outputs": [],
   "source": [
    "pow(4, 3)"
   ]
  },
  {
   "cell_type": "code",
   "execution_count": null,
   "id": "cbbd4d5c",
   "metadata": {
    "lines_to_next_cell": 0
   },
   "outputs": [],
   "source": [
    "#equivalent to \n",
    "4 ** 3\n",
    "abs(-100)\n",
    "round(10.4242)"
   ]
  },
  {
   "cell_type": "markdown",
   "id": "fb6980b9",
   "metadata": {},
   "source": [
    "]\n",
    "\n",
    "---\n",
    "\n",
    "# Functions & Methods\n",
    "\n",
    "- A few built-in methods we'll use\n",
    "- `math` module has a number of useful functions "
   ]
  },
  {
   "cell_type": "code",
   "execution_count": null,
   "id": "a86d2705",
   "metadata": {
    "lines_to_next_cell": 2
   },
   "outputs": [],
   "source": [
    "x = 10.55\n",
    "x.is_integer()\n",
    "import math\n",
    "math.floor(x)\n",
    "math.ceil(x)\n",
    "math.factorial(10)"
   ]
  },
  {
   "cell_type": "markdown",
   "id": "4f10930b",
   "metadata": {},
   "source": [
    "---\n",
    "\n",
    "# Things To Be Aware Of\n",
    "\n",
    "Floats are not stored precisely!"
   ]
  },
  {
   "cell_type": "code",
   "execution_count": null,
   "id": "876c0a67",
   "metadata": {},
   "outputs": [],
   "source": [
    "1.2-1.0"
   ]
  },
  {
   "cell_type": "markdown",
   "id": "23f72f43",
   "metadata": {},
   "source": [
    "- Comes from binary representation of floats\n",
    "\n",
    "- Not worth getting into, but if you see something weird like this, that is why!\n",
    "\n",
    "- [More info here](https://www.geeksforgeeks.org/floating-point-error-in-python/)\n"
   ]
  },
  {
   "cell_type": "markdown",
   "id": "0f49370f",
   "metadata": {
    "lines_to_next_cell": 0
   },
   "source": [
    "---\n",
    "\n",
    "# Things to Remember\n",
    "\n",
    "- Augmented assignment operators \n",
    "- Multiple assignment \n",
    "\n",
    ".left45["
   ]
  },
  {
   "cell_type": "code",
   "execution_count": null,
   "id": "5b6ab90c",
   "metadata": {
    "lines_to_next_cell": 0
   },
   "outputs": [],
   "source": [
    "x = 100\n",
    "x += 200\n",
    "x\n",
    "x = y = z = 40\n",
    "x\n",
    "y"
   ]
  },
  {
   "cell_type": "markdown",
   "id": "0c9dd070",
   "metadata": {
    "lines_to_next_cell": 0
   },
   "source": [
    "]\n",
    "\n",
    ".right45["
   ]
  },
  {
   "cell_type": "code",
   "execution_count": null,
   "id": "6d854bd0",
   "metadata": {
    "lines_to_next_cell": 0
   },
   "outputs": [],
   "source": [
    "x, y, z = 40, 50, 60\n",
    "x\n",
    "y"
   ]
  },
  {
   "cell_type": "markdown",
   "id": "c54e58dc",
   "metadata": {},
   "source": [
    "]\n",
    "\n",
    "---\n",
    "\n",
    "# Booleans\n",
    "\n",
    "- A `bool` is a `True` or `False` value"
   ]
  },
  {
   "cell_type": "code",
   "execution_count": null,
   "id": "d7622a17",
   "metadata": {
    "lines_to_next_cell": 0
   },
   "outputs": [],
   "source": [
    "x = True\n",
    "type(x)\n",
    "y = 10.1\n",
    "y.is_integer()\n",
    "\"an\" in \"banana\"\n",
    "\"pa\" not in \"panama\""
   ]
  },
  {
   "cell_type": "markdown",
   "id": "f00d8900",
   "metadata": {},
   "source": []
  },
  {
   "cell_type": "markdown",
   "id": "38a0f77d",
   "metadata": {
    "lines_to_next_cell": 0
   },
   "source": [
    "---\n",
    "\n",
    "# Booleans\n",
    "\n",
    "- Very useful for control flow operators like `if/then/else` and `looping` covered soon!\n",
    "\n",
    "- Any list, tuple, set, and dictionary are `True` except empty ones\n",
    "\n",
    ".left45["
   ]
  },
  {
   "cell_type": "code",
   "execution_count": null,
   "id": "149e44b9",
   "metadata": {
    "lines_to_next_cell": 0
   },
   "outputs": [],
   "source": [
    "bool(\"string\")\n",
    "bool(\"\")\n",
    "bool(10)\n",
    "bool(0)"
   ]
  },
  {
   "cell_type": "markdown",
   "id": "5b92974e",
   "metadata": {
    "lines_to_next_cell": 0
   },
   "source": [
    "]\n",
    ".right45["
   ]
  },
  {
   "cell_type": "code",
   "execution_count": null,
   "id": "18e38120",
   "metadata": {
    "lines_to_next_cell": 0
   },
   "outputs": [],
   "source": [
    "bool(None)\n",
    "bool(not None)\n",
    "bool(isinstance(10.4, float))"
   ]
  },
  {
   "cell_type": "markdown",
   "id": "4fbbb514",
   "metadata": {},
   "source": [
    "]\n",
    "\n"
   ]
  },
  {
   "cell_type": "markdown",
   "id": "4e228770",
   "metadata": {},
   "source": [
    "---\n",
    "\n",
    "# Booleans Can Act Like Integers\n",
    "\n",
    "- Booleans are a subtype of integers\n",
    "    + `True` treated as 1\n",
    "    + `False` treated as 0"
   ]
  },
  {
   "cell_type": "code",
   "execution_count": null,
   "id": "dd603a95",
   "metadata": {},
   "outputs": [],
   "source": [
    "3 + True\n",
    "3 * False"
   ]
  },
  {
   "cell_type": "code",
   "execution_count": null,
   "id": "76b8d38f",
   "metadata": {
    "lines_to_next_cell": 2
   },
   "outputs": [],
   "source": [
    "#main thing that differs is when coercing to a string\n",
    "str(True)\n",
    "str(False)\n",
    "str(True + 0)"
   ]
  },
  {
   "cell_type": "markdown",
   "id": "e961b769",
   "metadata": {},
   "source": [
    "---\n",
    "\n",
    "# More Formatting Strings\n",
    "\n",
    "- Can format strings with numbers inserted as well"
   ]
  },
  {
   "cell_type": "code",
   "execution_count": null,
   "id": "4a3b709b",
   "metadata": {
    "lines_to_next_cell": 2
   },
   "outputs": [],
   "source": [
    "Job = \"Professor\"\n",
    "Years = 10.23\n",
    "\"I am a {job} and I've been teaching for {years:d} years\".format(job = Job, years = int(Years))\n",
    "\"I am a {job} and I've been teaching for {years:f} years\".format(job = Job, years = Years)\n",
    "\"I am a {job} and I've been teaching for {years:.1f} years\".format(job = Job, years = Years)"
   ]
  },
  {
   "cell_type": "markdown",
   "id": "f55cb362",
   "metadata": {},
   "source": [
    "--\n",
    "\n",
    "  - d - Integers\n",
    "  - f - Floating point numbers\n",
    "  - .<number of digits>f - Floating point numbers with a fixed amount of digits to the right of the dot.\n",
    "\n",
    "Actually [four different ways](https://realpython.com/python-string-formatting/) to substitute into a string (if you are interested!)"
   ]
  },
  {
   "cell_type": "markdown",
   "id": "303c2217",
   "metadata": {},
   "source": [
    "---\n",
    "\n",
    "# To JupyterLab!  \n",
    "\n",
    "- See some useful functions from the `numpy` module\n",
    "\n",
    "    + `numpy.isclose()`\n",
    "    + `math.isfinite()` vs `math.isinf()` vs `math.isnan()`\n",
    "\n",
    "\n",
    "---\n",
    "\n",
    "# Recap\n",
    "\n",
    "- Numbers stored as ints or floats\n",
    "\n",
    "    + standard operations all available\n",
    "    + math module has more functionality\n",
    "    \n",
    "- Booleans are `True` or `False`\n",
    "\n",
    "    + Can be treated as 1 and 0\n",
    "    + Many functions to create bools (`.is_*()` methods, `bool()` function)"
   ]
  }
 ],
 "metadata": {
  "jupytext": {
   "cell_metadata_filter": "message,tags,warning,-all",
   "main_language": "python",
   "notebook_metadata_filter": "-all"
  }
 },
 "nbformat": 4,
 "nbformat_minor": 5
}
