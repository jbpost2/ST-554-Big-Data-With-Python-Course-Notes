{
 "cells": [
  {
   "cell_type": "raw",
   "id": "a286f28d",
   "metadata": {},
   "source": [
    "---\n",
    "title: \"Pandas for Reading Data\"\n",
    "author: \"Justin Post (Some notes modified from Dr. Eric Chi)\"\n",
    "output:\n",
    "  xaringan::moon_reader:\n",
    "    seal: false\n",
    "    lib_dir: libs\n",
    "    css: [default, \"css/ncsu.css\", \"css/ncsu-fonts.css\", \"css/mycss.css\"]\n",
    "    nature:\n",
    "      beforeInit: [\"js/ncsu-scale.js\"]\n",
    "      highlightStyle: github\n",
    "      highlightLines: true\n",
    "      countIncrementalSlides: false\n",
    "      ratio: \"16:9\"\n",
    "    includes:\n",
    "      in_header: \"partials/header.html\"\n",
    "editor_options: \n",
    "  chunk_output_type: console\n",
    "---"
   ]
  },
  {
   "cell_type": "code",
   "execution_count": null,
   "id": "95d841ee",
   "metadata": {
    "lines_to_next_cell": 2,
    "message": false,
    "tags": [
     "remove_cell"
    ],
    "warning": false
   },
   "outputs": [],
   "source": [
    "%%R\n",
    "options(htmltools.dir.version = FALSE)\n",
    "knitr::opts_chunk$set(\n",
    "  message = FALSE,\n",
    "  warning = FALSE,\n",
    "  dev = \"svg\",\n",
    "  fig.align = \"center\",\n",
    "  #fig.width = 11,\n",
    "  #fig.height = 5\n",
    "  cache = FALSE\n",
    ")\n",
    "\n",
    "# define vars\n",
    "om = par(\"mar\")\n",
    "lowtop = c(om[1],om[2],0.1,om[4])\n",
    "library(tidyverse)\n",
    "library(knitr)\n",
    "library(reticulate)\n",
    "use_python(\"C:\\\\Users\\\\jbpost2\\\\AppData\\\\Local\\\\Programs\\\\Python\\\\Python310\\\\python.exe\")\n",
    "#use_python(\"C:\\\\python\\\\python.exe\")\n",
    "options(dplyr.print_min = 5)\n",
    "options(reticulate.repl.quiet = TRUE)"
   ]
  },
  {
   "cell_type": "markdown",
   "id": "e5ab7dbc",
   "metadata": {},
   "source": [
    "layout: false\n",
    "class: title-slide-section-red, middle"
   ]
  },
  {
   "cell_type": "markdown",
   "id": "005dcb60",
   "metadata": {},
   "source": [
    "# Pandas for Reading Raw Data \n",
    "Justin Post\n",
    "\n",
    "---\n",
    "layout: true\n",
    "\n",
    "<div class=\"my-footer\"><img src=\"img/logo.png\" style=\"height: 60px;\"/></div> \n",
    "\n",
    "---\n",
    "\n",
    "# Reading Raw Data\n",
    "\n",
    "- `pandas` library has functionality for reading **delimited data**, Excel data, SAS data, JSON data, etc.\n",
    "    \n",
    "- Remember we'll need to import the `pandas` library"
   ]
  },
  {
   "cell_type": "code",
   "execution_count": null,
   "id": "752f6a75",
   "metadata": {
    "lines_to_next_cell": 2
   },
   "outputs": [],
   "source": [
    "import pandas as pd"
   ]
  },
  {
   "cell_type": "markdown",
   "id": "0f202906",
   "metadata": {},
   "source": [
    "---\n",
    "\n",
    "# Data Comes in Many Formats\n",
    "\n",
    "- 'Delimited' data: Character (such as [','](https://www4.stat.ncsu.edu/~online/datasets/scores.csv) , ['>'](https://www4.stat.ncsu.edu/~online/datasets/umps2012.txt), or [' ']) separated data  \n",
    "\n",
    "- [Fixed field](https://www4.stat.ncsu.edu/~online/datasets/cigarettes.txt) data  \n",
    "\n",
    "- [Excel](https://www4.stat.ncsu.edu/~online/datasets/censusEd.xlsx) data  \n",
    "\n",
    "- From other statistical software, Ex: [SPSS formatted](https://www4.stat.ncsu.edu/~online/datasets/bodyFat.sav) data or [SAS data sets](https://www4.stat.ncsu.edu/~online/datasets/smoke2003.sas7bdat)  \n",
    "\n",
    "- From an Application Programming Interface (API)\n",
    "\n",
    "- From a database  \n",
    "\n"
   ]
  },
  {
   "cell_type": "markdown",
   "id": "09880faf",
   "metadata": {
    "lines_to_next_cell": 0
   },
   "source": [
    "---\n",
    "\n",
    "# Delimited Data\n",
    "\n",
    "- Once common format for **raw** data is delimited data\n",
    "\n",
    "    + Data that has a character or characters that separates the data values\n",
    "    \n",
    "    + Character(s) is (are) called **delimiters**\n",
    "\n",
    "- Using `pandas` the `read_csv()` function can read in the data\n",
    "\n",
    "    + Just need to tell python where to find it!\n",
    "\n",
    "\n",
    "---\n",
    "\n",
    "# Locating a File\n",
    "\n",
    "- How does python locate the file?  \n",
    "\n",
    "    + Can give file *full path name*  \n",
    "\n",
    "        * ex: 'S:/Documents/repos/ST-554/datasets/data.csv'  \n",
    "        * ex: 'S:\\\\Documents\\\\repos\\\\ST-554\\\\datasets\\\\data.csv'  \n",
    "\n",
    "    + Or use local paths!\n",
    "    \n",
    "        * Determine your **working directory**\n",
    "        * Use a path **relative** to that\n",
    "        \n",
    "---\n",
    "\n",
    "# Locating a File\n",
    "\n",
    "- How does python locate the file?  \n",
    "\n",
    "    + Can give file *full path name*  \n",
    "\n",
    "        * ex: 'S:/Documents/repos/ST-554/datasets/data.csv'  \n",
    "        * ex: 'S:\\\\Documents\\\\repos\\\\ST-554\\\\datasets\\\\data.csv'  \n",
    "\n",
    "    + Or use local paths!\n",
    "    \n",
    "        * Determine your **working directory**\n",
    "        * Use a path **relative** to that\n"
   ]
  },
  {
   "cell_type": "code",
   "execution_count": null,
   "id": "cb78f032",
   "metadata": {
    "lines_to_next_cell": 2
   },
   "outputs": [],
   "source": [
    "import os\n",
    "os.getcwd()\n",
    "#os.chdir(\"S:/Documents/repos/ST-554\")"
   ]
  },
  {
   "cell_type": "markdown",
   "id": "7f44a8b3",
   "metadata": {},
   "source": [
    "---\n",
    "\n",
    "# Reading .csv Locally\n",
    "\n",
    "- Nicely formatted `.csv` files can be read in with the `read_csv()` function from `pandas`\n",
    "\n",
    "- `neuralgia.csv` file in a folder called `Datasets` in my **working directory**"
   ]
  },
  {
   "cell_type": "code",
   "execution_count": null,
   "id": "80c2548a",
   "metadata": {
    "lines_to_next_cell": 2
   },
   "outputs": [],
   "source": [
    "neuralgia_data = pd.read_csv(\"Datasets/neuralgia.csv\")\n",
    "neuralgia_data.shape\n",
    "neuralgia_data.head()"
   ]
  },
  {
   "cell_type": "markdown",
   "id": "cdbb765f",
   "metadata": {},
   "source": [
    "---\n",
    "\n",
    "# Reading .csv From a URL\n",
    "\n",
    "- Nicely formatted `.csv` files can be read in with the `read_csv()` function from `pandas`\n",
    "\n",
    "- `scoresFull.csv` file at a **URL** given by 'https://www4.stat.ncsu.edu/~online/datasets/scoresFull.csv'"
   ]
  },
  {
   "cell_type": "code",
   "execution_count": null,
   "id": "55b8d00e",
   "metadata": {
    "lines_to_next_cell": 2
   },
   "outputs": [],
   "source": [
    "scores_data = pd.read_csv(\"https://www4.stat.ncsu.edu/~online/datasets/scoresFull.csv\")\n",
    "scores_data.shape\n",
    "scores_data.head()"
   ]
  },
  {
   "cell_type": "markdown",
   "id": "f06b6450",
   "metadata": {},
   "source": [
    "---\n",
    "\n",
    "# Reading Delimited Data\n",
    "\n",
    "- To read other types of delimited data, we also use `read_csv()`!\n",
    "\n",
    "- `chemical.txt` file (space delimiter) stored at \"https://www4.stat.ncsu.edu/~online/datasets/chemical.txt\""
   ]
  },
  {
   "cell_type": "code",
   "execution_count": null,
   "id": "3fca4403",
   "metadata": {
    "lines_to_next_cell": 2
   },
   "outputs": [],
   "source": [
    "chem_data = pd.read_csv(\"https://www4.stat.ncsu.edu/~online/datasets/chemical.txt\", sep=\" \")\n",
    "chem_data.info()"
   ]
  },
  {
   "cell_type": "markdown",
   "id": "ab419d18",
   "metadata": {},
   "source": [
    "---\n",
    "\n",
    "# Reading Delimited Data\n",
    "\n",
    "- To read other types of delimited data, we also use `read_csv()`!\n",
    "\n",
    "- `crabs.txt` file (tab delimiter) stored at \"https://www4.stat.ncsu.edu/~online/datasets/crabs.txt\""
   ]
  },
  {
   "cell_type": "code",
   "execution_count": null,
   "id": "9a1d4938",
   "metadata": {
    "lines_to_next_cell": 0
   },
   "outputs": [],
   "source": [
    "crabs_data = pd.read_csv(\"https://www4.stat.ncsu.edu/~online/datasets/crabs.txt\", sep=\"\\t\")\n",
    "crabs_data.info()"
   ]
  },
  {
   "cell_type": "markdown",
   "id": "d84f9e8f",
   "metadata": {},
   "source": [
    "  "
   ]
  },
  {
   "cell_type": "markdown",
   "id": "d9ab4a86",
   "metadata": {
    "lines_to_next_cell": 0
   },
   "source": [
    "---\n",
    "\n",
    "# Reading Delimited Data\n",
    "\n",
    "- To read other types of delimited data, we also use `read_csv()`!\n",
    "\n",
    "- `umps2012.txt` file (`>` delimiter) stored at \"https://www4.stat.ncsu.edu/~online/datasets/umps2012.txt\"\n",
    "\n",
    "    + No column names in raw file\n",
    "    "
   ]
  },
  {
   "cell_type": "code",
   "execution_count": null,
   "id": "fed367af",
   "metadata": {
    "lines_to_next_cell": 0
   },
   "outputs": [],
   "source": [
    "ump_data = pd.read_csv(\"https://www4.stat.ncsu.edu/~online/datasets/umps2012.txt\",\n",
    "                      sep=\">\", \n",
    "                      header=None, \n",
    "                      names=[\"Year\", \"Month\", \"Day\", \"Home\", \"Away\", \"HPUmpire\"])\n",
    "ump_data.head()"
   ]
  },
  {
   "cell_type": "markdown",
   "id": "b2dd18c1",
   "metadata": {},
   "source": [
    "  "
   ]
  },
  {
   "cell_type": "markdown",
   "id": "77139c67",
   "metadata": {},
   "source": [
    "---\n",
    "\n",
    "# Reading Excel Data\n",
    "\n",
    "- Use the `ExcelFile()` function from `pandas`\n",
    "\n",
    "- `censusEd.xlsx` file located at \"https://www4.stat.ncsu.edu/~online/datasets/censusEd.xlsx\""
   ]
  },
  {
   "cell_type": "code",
   "execution_count": null,
   "id": "3fcab6ec",
   "metadata": {
    "lines_to_next_cell": 2
   },
   "outputs": [],
   "source": [
    "ed_data = pd.ExcelFile(\"https://www4.stat.ncsu.edu/~online/datasets/censusEd.xlsx\")\n",
    "ed_data"
   ]
  },
  {
   "cell_type": "markdown",
   "id": "0f959e00",
   "metadata": {},
   "source": [
    "---\n",
    "\n",
    "# Reading Excel Data\n",
    "\n",
    "- Use the `ExcelFile()` function from `pandas`\n",
    "\n",
    "- Different attributes associated with this data frame!"
   ]
  },
  {
   "cell_type": "code",
   "execution_count": null,
   "id": "04dc0b6e",
   "metadata": {
    "lines_to_next_cell": 2,
    "warn": false
   },
   "outputs": [],
   "source": [
    "#ed_data.head(), ed_data.info() won't work!  \n",
    "type(ed_data)\n",
    "ed_data.sheet_names\n",
    "ed_data.parse('EDU01A').head()"
   ]
  },
  {
   "cell_type": "markdown",
   "id": "518ad4b1",
   "metadata": {},
   "source": [
    "---\n",
    "\n",
    "# Reading Excel Data\n",
    "\n",
    "- Or use the `read_excel()` function from `pandas`\n",
    "\n",
    "- `censusEd.xlsx` file located at \"https://www4.stat.ncsu.edu/~online/datasets/censusEd.xlsx\""
   ]
  },
  {
   "cell_type": "code",
   "execution_count": null,
   "id": "255a446d",
   "metadata": {
    "warn": false
   },
   "outputs": [],
   "source": [
    "ed_data = pd.read_excel(\"https://www4.stat.ncsu.edu/~online/datasets/censusEd.xlsx\", sheet_name = 0)#or \"EDU01A\"\n",
    "ed_data.head()\n",
    "ed_data.info()"
   ]
  },
  {
   "cell_type": "markdown",
   "id": "e9936e49",
   "metadata": {},
   "source": [
    "---\n",
    "\n",
    "# Reading Excel Data\n",
    "\n",
    "- Or use the `read_excel()` function from `pandas`\n",
    "\n",
    "- Read all sheets with `sheet_name = None`"
   ]
  },
  {
   "cell_type": "code",
   "execution_count": null,
   "id": "38b0d599",
   "metadata": {
    "lines_to_next_cell": 0
   },
   "outputs": [],
   "source": [
    "ed_data = pd.read_excel(\"https://www4.stat.ncsu.edu/~online/datasets/censusEd.xlsx\", sheet_name = None)\n",
    "type(ed_data)\n",
    "ed_data.keys()\n",
    "ed_data.get(\"EDU01A\").info()"
   ]
  },
  {
   "cell_type": "markdown",
   "id": "dfd09449",
   "metadata": {},
   "source": [
    "\n"
   ]
  },
  {
   "cell_type": "markdown",
   "id": "3f578180",
   "metadata": {},
   "source": [
    "---\n",
    "\n",
    "# Reading JSON Data\n",
    "\n",
    "- JSON data has a structure similar to a dictionary\n",
    "\n",
    "    + Key-value pairs\n",
    "\n",
    "```\n",
    "{  \n",
    "  {  \n",
    "    \"name\": \"Barry Sanders\"  \n",
    "    \"games\" : 153  \n",
    "    \"position\": \"RB\"  \n",
    "  },  \n",
    "  {  \n",
    "    \"name\": \"Joe Montana\"  \n",
    "    \"games\": 192  \n",
    "    \"position\": \"QB\"  \n",
    "  }  \n",
    "} \n",
    "```\n",
    "\n",
    "- `read_json()` function will work!"
   ]
  },
  {
   "cell_type": "markdown",
   "id": "7f443e31",
   "metadata": {},
   "source": [
    "---\n",
    "\n",
    "# Reading JSON Data\n",
    "\n",
    "- `read_json()` to read in data located at \"https://api.exchangerate-api.com/v4/latest/USD\""
   ]
  },
  {
   "cell_type": "code",
   "execution_count": null,
   "id": "8b249428",
   "metadata": {
    "lines_to_next_cell": 0
   },
   "outputs": [],
   "source": [
    "url = \"https://api.exchangerate-api.com/v4/latest/USD\"\n",
    "usd_data = pd.read_json(url)\n",
    "usd_data.head()"
   ]
  },
  {
   "cell_type": "markdown",
   "id": "42275896",
   "metadata": {},
   "source": []
  },
  {
   "cell_type": "markdown",
   "id": "0f0cba75",
   "metadata": {},
   "source": [
    "---\n",
    "\n",
    "# Writing Out Data\n",
    "\n",
    "- Can write out data using `to_csv()` method"
   ]
  },
  {
   "cell_type": "code",
   "execution_count": null,
   "id": "677c5897",
   "metadata": {
    "lines_to_next_cell": 0
   },
   "outputs": [],
   "source": [
    "usd_data.to_csv('usd_data.csv', index = False)"
   ]
  },
  {
   "cell_type": "markdown",
   "id": "cbc72d18",
   "metadata": {},
   "source": []
  },
  {
   "cell_type": "markdown",
   "id": "474e626f",
   "metadata": {},
   "source": [
    "---\n",
    "\n",
    "# To JupyterLab!  \n",
    "\n",
    "- Read in some SAS data\n",
    "\n",
    "- Read in data from an API"
   ]
  },
  {
   "cell_type": "markdown",
   "id": "a9f421aa",
   "metadata": {},
   "source": [
    "---\n",
    "\n",
    "# Recap\n",
    "\n",
    "- Read data in with `pandas`  \n",
    "\n",
    "    + `read_csv()` for delimited data\n",
    "    \n",
    "    + `ExcelFile()` or `read_excel()` for excel data\n",
    "    \n",
    "    + `read_json()` for JSON\n",
    "    \n",
    "- Write to a `.csv` with `.to_csv()`\n",
    "\n"
   ]
  }
 ],
 "metadata": {
  "jupytext": {
   "cell_metadata_filter": "message,warning,warn,tags,-all",
   "main_language": "python",
   "notebook_metadata_filter": "-all"
  }
 },
 "nbformat": 4,
 "nbformat_minor": 5
}
