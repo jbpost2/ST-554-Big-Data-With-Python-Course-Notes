{
  "cells": [
    {
      "cell_type": "markdown",
      "id": "56a1dc17",
      "metadata": {
        "id": "56a1dc17"
      },
      "source": [
        "# Modules\n",
        "\n",
        "> Justin Post\n",
        "\n",
        "---\n",
        "    \n",
        "Now that we know the basics of how python works and a little bit about how our programming environment functions, we can look at python 'modules'. If you know R, these are smilar to R packages.\n",
        "\n",
        "## What is a Module?\n",
        "\n",
        "- A collection of (related) definitions and statements that are grouped together in a single file (a `.py` file)\n",
        "\n",
        "    + Gives access to additional functionality\n",
        "    \n",
        "- Some come standard, others must be installed (i.e. downloaded)  \n",
        "- Modules are then imported into your session\n",
        "\n",
        "    + Fully imported with `import module_name`\n",
        "    + Selective import with `from module_name import thing1 thing2`  "
      ]
    },
    {
      "cell_type": "markdown",
      "id": "bf4064ae",
      "metadata": {
        "id": "bf4064ae"
      },
      "source": [
        "---\n",
        "\n",
        "## Commonly Used Built-in (Already Downloaded) Modules\n",
        "\n",
        "- `math`\n",
        "    + Math constants (`pi`, `e`, etc.)\n",
        "    + Functions commonly used functions (`exp()`, `sin()`, `sqrt()`, etc.)\n",
        "- `random`\n",
        "    + Random sampling and random number generation\n",
        "- `statistics`\n",
        "    + Summary stats (but `scipy` and `pandas` have a lot more)\n",
        "- `datetime`\n",
        "    + Functionality for working with dates"
      ]
    },
    {
      "cell_type": "markdown",
      "id": "169d7c2f",
      "metadata": {
        "id": "169d7c2f"
      },
      "source": [
        "## Importing a Module\n",
        "\n",
        "- For built-in modules, we can load them into our session with `import`"
      ]
    },
    {
      "cell_type": "code",
      "execution_count": null,
      "id": "70d234ae",
      "metadata": {
        "id": "70d234ae",
        "outputId": "f1ee5bcd-cb41-4325-fa7f-d3b2dccc818c",
        "colab": {
          "base_uri": "https://localhost:8080/"
        }
      },
      "outputs": [
        {
          "output_type": "execute_result",
          "data": {
            "text/plain": [
              "module"
            ]
          },
          "metadata": {},
          "execution_count": 1
        }
      ],
      "source": [
        "import math\n",
        "type(math)"
      ]
    },
    {
      "cell_type": "markdown",
      "id": "200e9f5e",
      "metadata": {
        "id": "200e9f5e"
      },
      "source": [
        "- Can see the functionality using `help()`"
      ]
    },
    {
      "cell_type": "code",
      "execution_count": null,
      "id": "88922d31",
      "metadata": {
        "lines_to_next_cell": 2,
        "id": "88922d31",
        "outputId": "edba49f7-0196-478c-f6c2-e173ae213690",
        "colab": {
          "base_uri": "https://localhost:8080/"
        }
      },
      "outputs": [
        {
          "output_type": "stream",
          "name": "stdout",
          "text": [
            "Help on built-in module math:\n",
            "\n",
            "NAME\n",
            "    math\n",
            "\n",
            "DESCRIPTION\n",
            "    This module provides access to the mathematical functions\n",
            "    defined by the C standard.\n",
            "\n",
            "FUNCTIONS\n",
            "    acos(x, /)\n",
            "        Return the arc cosine (measured in radians) of x.\n",
            "        \n",
            "        The result is between 0 and pi.\n",
            "    \n",
            "    acosh(x, /)\n",
            "        Return the inverse hyperbolic cosine of x.\n",
            "    \n",
            "    asin(x, /)\n",
            "        Return the arc sine (measured in radians) of x.\n",
            "        \n",
            "        The result is between -pi/2 and pi/2.\n",
            "    \n",
            "    asinh(x, /)\n",
            "        Return the inverse hyperbolic sine of x.\n",
            "    \n",
            "    atan(x, /)\n",
            "        Return the arc tangent (measured in radians) of x.\n",
            "        \n",
            "        The result is between -pi/2 and pi/2.\n",
            "    \n",
            "    atan2(y, x, /)\n",
            "        Return the arc tangent (measured in radians) of y/x.\n",
            "        \n",
            "        Unlike atan(y/x), the signs of both x and y are considered.\n",
            "    \n",
            "    atanh(x, /)\n",
            "        Return the inverse hyperbolic tangent of x.\n",
            "    \n",
            "    ceil(x, /)\n",
            "        Return the ceiling of x as an Integral.\n",
            "        \n",
            "        This is the smallest integer >= x.\n",
            "    \n",
            "    comb(n, k, /)\n",
            "        Number of ways to choose k items from n items without repetition and without order.\n",
            "        \n",
            "        Evaluates to n! / (k! * (n - k)!) when k <= n and evaluates\n",
            "        to zero when k > n.\n",
            "        \n",
            "        Also called the binomial coefficient because it is equivalent\n",
            "        to the coefficient of k-th term in polynomial expansion of the\n",
            "        expression (1 + x)**n.\n",
            "        \n",
            "        Raises TypeError if either of the arguments are not integers.\n",
            "        Raises ValueError if either of the arguments are negative.\n",
            "    \n",
            "    copysign(x, y, /)\n",
            "        Return a float with the magnitude (absolute value) of x but the sign of y.\n",
            "        \n",
            "        On platforms that support signed zeros, copysign(1.0, -0.0)\n",
            "        returns -1.0.\n",
            "    \n",
            "    cos(x, /)\n",
            "        Return the cosine of x (measured in radians).\n",
            "    \n",
            "    cosh(x, /)\n",
            "        Return the hyperbolic cosine of x.\n",
            "    \n",
            "    degrees(x, /)\n",
            "        Convert angle x from radians to degrees.\n",
            "    \n",
            "    dist(p, q, /)\n",
            "        Return the Euclidean distance between two points p and q.\n",
            "        \n",
            "        The points should be specified as sequences (or iterables) of\n",
            "        coordinates.  Both inputs must have the same dimension.\n",
            "        \n",
            "        Roughly equivalent to:\n",
            "            sqrt(sum((px - qx) ** 2.0 for px, qx in zip(p, q)))\n",
            "    \n",
            "    erf(x, /)\n",
            "        Error function at x.\n",
            "    \n",
            "    erfc(x, /)\n",
            "        Complementary error function at x.\n",
            "    \n",
            "    exp(x, /)\n",
            "        Return e raised to the power of x.\n",
            "    \n",
            "    expm1(x, /)\n",
            "        Return exp(x)-1.\n",
            "        \n",
            "        This function avoids the loss of precision involved in the direct evaluation of exp(x)-1 for small x.\n",
            "    \n",
            "    fabs(x, /)\n",
            "        Return the absolute value of the float x.\n",
            "    \n",
            "    factorial(x, /)\n",
            "        Find x!.\n",
            "        \n",
            "        Raise a ValueError if x is negative or non-integral.\n",
            "    \n",
            "    floor(x, /)\n",
            "        Return the floor of x as an Integral.\n",
            "        \n",
            "        This is the largest integer <= x.\n",
            "    \n",
            "    fmod(x, y, /)\n",
            "        Return fmod(x, y), according to platform C.\n",
            "        \n",
            "        x % y may differ.\n",
            "    \n",
            "    frexp(x, /)\n",
            "        Return the mantissa and exponent of x, as pair (m, e).\n",
            "        \n",
            "        m is a float and e is an int, such that x = m * 2.**e.\n",
            "        If x is 0, m and e are both 0.  Else 0.5 <= abs(m) < 1.0.\n",
            "    \n",
            "    fsum(seq, /)\n",
            "        Return an accurate floating point sum of values in the iterable seq.\n",
            "        \n",
            "        Assumes IEEE-754 floating point arithmetic.\n",
            "    \n",
            "    gamma(x, /)\n",
            "        Gamma function at x.\n",
            "    \n",
            "    gcd(*integers)\n",
            "        Greatest Common Divisor.\n",
            "    \n",
            "    hypot(...)\n",
            "        hypot(*coordinates) -> value\n",
            "        \n",
            "        Multidimensional Euclidean distance from the origin to a point.\n",
            "        \n",
            "        Roughly equivalent to:\n",
            "            sqrt(sum(x**2 for x in coordinates))\n",
            "        \n",
            "        For a two dimensional point (x, y), gives the hypotenuse\n",
            "        using the Pythagorean theorem:  sqrt(x*x + y*y).\n",
            "        \n",
            "        For example, the hypotenuse of a 3/4/5 right triangle is:\n",
            "        \n",
            "            >>> hypot(3.0, 4.0)\n",
            "            5.0\n",
            "    \n",
            "    isclose(a, b, *, rel_tol=1e-09, abs_tol=0.0)\n",
            "        Determine whether two floating point numbers are close in value.\n",
            "        \n",
            "          rel_tol\n",
            "            maximum difference for being considered \"close\", relative to the\n",
            "            magnitude of the input values\n",
            "          abs_tol\n",
            "            maximum difference for being considered \"close\", regardless of the\n",
            "            magnitude of the input values\n",
            "        \n",
            "        Return True if a is close in value to b, and False otherwise.\n",
            "        \n",
            "        For the values to be considered close, the difference between them\n",
            "        must be smaller than at least one of the tolerances.\n",
            "        \n",
            "        -inf, inf and NaN behave similarly to the IEEE 754 Standard.  That\n",
            "        is, NaN is not close to anything, even itself.  inf and -inf are\n",
            "        only close to themselves.\n",
            "    \n",
            "    isfinite(x, /)\n",
            "        Return True if x is neither an infinity nor a NaN, and False otherwise.\n",
            "    \n",
            "    isinf(x, /)\n",
            "        Return True if x is a positive or negative infinity, and False otherwise.\n",
            "    \n",
            "    isnan(x, /)\n",
            "        Return True if x is a NaN (not a number), and False otherwise.\n",
            "    \n",
            "    isqrt(n, /)\n",
            "        Return the integer part of the square root of the input.\n",
            "    \n",
            "    lcm(*integers)\n",
            "        Least Common Multiple.\n",
            "    \n",
            "    ldexp(x, i, /)\n",
            "        Return x * (2**i).\n",
            "        \n",
            "        This is essentially the inverse of frexp().\n",
            "    \n",
            "    lgamma(x, /)\n",
            "        Natural logarithm of absolute value of Gamma function at x.\n",
            "    \n",
            "    log(...)\n",
            "        log(x, [base=math.e])\n",
            "        Return the logarithm of x to the given base.\n",
            "        \n",
            "        If the base not specified, returns the natural logarithm (base e) of x.\n",
            "    \n",
            "    log10(x, /)\n",
            "        Return the base 10 logarithm of x.\n",
            "    \n",
            "    log1p(x, /)\n",
            "        Return the natural logarithm of 1+x (base e).\n",
            "        \n",
            "        The result is computed in a way which is accurate for x near zero.\n",
            "    \n",
            "    log2(x, /)\n",
            "        Return the base 2 logarithm of x.\n",
            "    \n",
            "    modf(x, /)\n",
            "        Return the fractional and integer parts of x.\n",
            "        \n",
            "        Both results carry the sign of x and are floats.\n",
            "    \n",
            "    nextafter(x, y, /)\n",
            "        Return the next floating-point value after x towards y.\n",
            "    \n",
            "    perm(n, k=None, /)\n",
            "        Number of ways to choose k items from n items without repetition and with order.\n",
            "        \n",
            "        Evaluates to n! / (n - k)! when k <= n and evaluates\n",
            "        to zero when k > n.\n",
            "        \n",
            "        If k is not specified or is None, then k defaults to n\n",
            "        and the function returns n!.\n",
            "        \n",
            "        Raises TypeError if either of the arguments are not integers.\n",
            "        Raises ValueError if either of the arguments are negative.\n",
            "    \n",
            "    pow(x, y, /)\n",
            "        Return x**y (x to the power of y).\n",
            "    \n",
            "    prod(iterable, /, *, start=1)\n",
            "        Calculate the product of all the elements in the input iterable.\n",
            "        \n",
            "        The default start value for the product is 1.\n",
            "        \n",
            "        When the iterable is empty, return the start value.  This function is\n",
            "        intended specifically for use with numeric values and may reject\n",
            "        non-numeric types.\n",
            "    \n",
            "    radians(x, /)\n",
            "        Convert angle x from degrees to radians.\n",
            "    \n",
            "    remainder(x, y, /)\n",
            "        Difference between x and the closest integer multiple of y.\n",
            "        \n",
            "        Return x - n*y where n*y is the closest integer multiple of y.\n",
            "        In the case where x is exactly halfway between two multiples of\n",
            "        y, the nearest even value of n is used. The result is always exact.\n",
            "    \n",
            "    sin(x, /)\n",
            "        Return the sine of x (measured in radians).\n",
            "    \n",
            "    sinh(x, /)\n",
            "        Return the hyperbolic sine of x.\n",
            "    \n",
            "    sqrt(x, /)\n",
            "        Return the square root of x.\n",
            "    \n",
            "    tan(x, /)\n",
            "        Return the tangent of x (measured in radians).\n",
            "    \n",
            "    tanh(x, /)\n",
            "        Return the hyperbolic tangent of x.\n",
            "    \n",
            "    trunc(x, /)\n",
            "        Truncates the Real x to the nearest Integral toward 0.\n",
            "        \n",
            "        Uses the __trunc__ magic method.\n",
            "    \n",
            "    ulp(x, /)\n",
            "        Return the value of the least significant bit of the float x.\n",
            "\n",
            "DATA\n",
            "    e = 2.718281828459045\n",
            "    inf = inf\n",
            "    nan = nan\n",
            "    pi = 3.141592653589793\n",
            "    tau = 6.283185307179586\n",
            "\n",
            "FILE\n",
            "    (built-in)\n",
            "\n",
            "\n"
          ]
        }
      ],
      "source": [
        "help(math)"
      ]
    },
    {
      "cell_type": "markdown",
      "id": "4a977abf",
      "metadata": {
        "id": "4a977abf"
      },
      "source": [
        "---\n",
        "\n",
        "### Using Modules Function/Objects\n",
        "\n",
        "- Functions cannot be called as a built-in function:"
      ]
    },
    {
      "cell_type": "code",
      "execution_count": null,
      "id": "24692cba",
      "metadata": {
        "error": true,
        "id": "24692cba"
      },
      "outputs": [],
      "source": [
        "sqrt(9)"
      ]
    },
    {
      "cell_type": "markdown",
      "id": "876d6a5e",
      "metadata": {
        "id": "876d6a5e"
      },
      "source": [
        "- Must use the module prefix:"
      ]
    },
    {
      "cell_type": "code",
      "execution_count": null,
      "id": "738a4ecc",
      "metadata": {
        "lines_to_next_cell": 2,
        "id": "738a4ecc"
      },
      "outputs": [],
      "source": [
        "import math\n",
        "math.sqrt(9)\n",
        "math.factorial(5)"
      ]
    },
    {
      "cell_type": "markdown",
      "id": "ef2ea666",
      "metadata": {
        "id": "ef2ea666"
      },
      "source": [
        "#### Math Module Functions\n",
        "\n",
        "- `math` module allows for common statistical computations\n",
        "\n",
        "$$\n",
        "f(1;\\mu = 0, \\sigma = 1) = \\frac{1}{\\sqrt{2\\pi}}\\exp^{-\\frac{1}{2}(1 - 0)^2}\n",
        "$$\n",
        "\n",
        "- This Normal distribution PDF expression can be evaluated using:"
      ]
    },
    {
      "cell_type": "code",
      "execution_count": null,
      "id": "5773ee54",
      "metadata": {
        "lines_to_next_cell": 0,
        "id": "5773ee54"
      },
      "outputs": [],
      "source": [
        "(1.0/math.sqrt(2*math.pi))*math.exp(-0.5*(1 - 0.0)**2)"
      ]
    },
    {
      "cell_type": "markdown",
      "id": "720b2620",
      "metadata": {
        "id": "720b2620"
      },
      "source": [
        "---\n",
        "\n",
        "## Module Variables\n",
        "\n",
        "Modules can contain more than functions\n",
        "\n",
        "- `math` module also defines variables like `e` and `pi`"
      ]
    },
    {
      "cell_type": "code",
      "execution_count": null,
      "id": "5853849a",
      "metadata": {
        "id": "5853849a",
        "outputId": "b24bea98-c2f8-4d84-c144-eb7cdcbe3929",
        "colab": {
          "base_uri": "https://localhost:8080/"
        }
      },
      "outputs": [
        {
          "output_type": "stream",
          "name": "stdout",
          "text": [
            "The area is 78.53981633974483\n"
          ]
        }
      ],
      "source": [
        "import math\n",
        "math.e\n",
        "math.pi\n",
        "radius = 5\n",
        "print('The area is', math.pi * radius ** 2)"
      ]
    },
    {
      "cell_type": "markdown",
      "id": "2f162fb7",
      "metadata": {
        "id": "2f162fb7"
      },
      "source": [
        "- You can overwrite these values (just like built-in objects) but, you know, don't do that!"
      ]
    },
    {
      "cell_type": "markdown",
      "id": "3fdca972",
      "metadata": {
        "id": "3fdca972"
      },
      "source": [
        "---\n",
        "\n",
        "### Random Module  \n",
        "\n",
        "- We'll deal with random sampling from time to time  \n",
        "- `random` module gives functionality to do so (although we'll use other modules later)"
      ]
    },
    {
      "cell_type": "code",
      "execution_count": null,
      "id": "12133bf5",
      "metadata": {
        "id": "12133bf5"
      },
      "outputs": [],
      "source": [
        "import random\n",
        "help(random)"
      ]
    },
    {
      "cell_type": "markdown",
      "id": "9fda021a",
      "metadata": {
        "id": "9fda021a"
      },
      "source": [
        "- Set a 'seed' for reproducibility and obtain some random observations between 0 and 1\n",
        "    + A seed sets a starting point for the 'random' number generator. This allows you to get the same 'random' numbers the next time you run the code."
      ]
    },
    {
      "cell_type": "code",
      "execution_count": null,
      "id": "9050f2a1",
      "metadata": {
        "id": "9050f2a1",
        "outputId": "54ce2815-e15a-4bd8-9bfc-e86d72ae4277",
        "colab": {
          "base_uri": "https://localhost:8080/"
        }
      },
      "outputs": [
        {
          "output_type": "stream",
          "name": "stdout",
          "text": [
            "0.5811521325045647\n",
            "0.1947544955341367\n",
            "0.9652511070611112\n",
            "0.5811521325045647\n"
          ]
        }
      ],
      "source": [
        "import random\n",
        "random.seed(101)\n",
        "print(random.random())\n",
        "print(random.random())\n",
        "print(random.random())\n",
        "random.seed(101)\n",
        "print(random.random())"
      ]
    },
    {
      "cell_type": "markdown",
      "id": "97e95e72",
      "metadata": {
        "id": "97e95e72"
      },
      "source": [
        "- Obtain random integers between 10 and 25"
      ]
    },
    {
      "cell_type": "code",
      "execution_count": null,
      "id": "7cb30b2b",
      "metadata": {
        "id": "7cb30b2b",
        "outputId": "6c2591f9-112c-4d95-92f0-26a3665b8fa1",
        "colab": {
          "base_uri": "https://localhost:8080/"
        }
      },
      "outputs": [
        {
          "output_type": "execute_result",
          "data": {
            "text/plain": [
              "[13, 18, 15, 17]"
            ]
          },
          "metadata": {},
          "execution_count": 9
        }
      ],
      "source": [
        "random.sample(range(10, 25), 4)"
      ]
    },
    {
      "cell_type": "markdown",
      "id": "95122f05",
      "metadata": {
        "id": "95122f05"
      },
      "source": [
        "---\n",
        "\n",
        "## Importing `as`\n",
        "\n",
        "- Can import with a different name for brevity"
      ]
    },
    {
      "cell_type": "code",
      "execution_count": null,
      "id": "0a760885",
      "metadata": {
        "id": "0a760885",
        "outputId": "a0f1a538-8bd3-47d4-c291-46f00308f5c0",
        "colab": {
          "base_uri": "https://localhost:8080/"
        }
      },
      "outputs": [
        {
          "output_type": "stream",
          "name": "stdout",
          "text": [
            "0.5811521325045647\n",
            "0.1947544955341367\n",
            "0.9652511070611112\n"
          ]
        }
      ],
      "source": [
        "import random as ran\n",
        "ran.seed(101)\n",
        "print(ran.random())\n",
        "print(ran.random())\n",
        "print(ran.random())"
      ]
    },
    {
      "cell_type": "markdown",
      "id": "b4445684",
      "metadata": {
        "id": "b4445684"
      },
      "source": [
        "- Obtain random integers between 11 and 26"
      ]
    },
    {
      "cell_type": "code",
      "execution_count": null,
      "id": "d189368e",
      "metadata": {
        "id": "d189368e"
      },
      "outputs": [],
      "source": [
        "ran.sample(range(11, 26), 4)"
      ]
    },
    {
      "cell_type": "markdown",
      "id": "79646bfe",
      "metadata": {
        "id": "79646bfe"
      },
      "source": [
        "---\n",
        "\n",
        "## Selective Import  \n",
        "\n",
        "- Can also selectively import functions and variables from a module  "
      ]
    },
    {
      "cell_type": "code",
      "execution_count": null,
      "id": "2d87ec33",
      "metadata": {
        "id": "2d87ec33"
      },
      "outputs": [],
      "source": [
        "from math import sqrt, pi\n",
        "sqrt(9)\n",
        "pi"
      ]
    },
    {
      "cell_type": "markdown",
      "id": "290b6c26",
      "metadata": {
        "id": "290b6c26"
      },
      "source": [
        "- Or import everything from a module into the current namespace. Be careful with this as you can overwrite things!"
      ]
    },
    {
      "cell_type": "code",
      "execution_count": null,
      "id": "3ee4ba4f",
      "metadata": {
        "eval": false,
        "id": "3ee4ba4f"
      },
      "outputs": [],
      "source": [
        "from math import *"
      ]
    },
    {
      "cell_type": "markdown",
      "id": "83ce91c4",
      "metadata": {
        "id": "83ce91c4"
      },
      "source": [
        "- If you intend to use a function often you can assign it to a local name"
      ]
    },
    {
      "cell_type": "code",
      "execution_count": null,
      "id": "0cfe1fae",
      "metadata": {
        "lines_to_next_cell": 2,
        "id": "0cfe1fae"
      },
      "outputs": [],
      "source": [
        "sample = random.random\n",
        "sample()"
      ]
    },
    {
      "cell_type": "markdown",
      "id": "1ca5a842",
      "metadata": {
        "id": "1ca5a842"
      },
      "source": [
        "---\n",
        "\n",
        "## Installing Modules  \n",
        "\n",
        "- `pip` is a package manager for python\n",
        "- Used through the command line usually\n",
        "- We'll use it through a code cell with `!` first\n",
        "\n",
        "    - Can see what modules you have\n",
        "\n",
        "    `pip list`\n",
        "    \n",
        "    - Use `pip install module_name` to install new modules\n",
        "\n",
        "    `pip install scipy`\n",
        "\n",
        "Colab has most everything we need for now but we'll need to do some installing later in the course."
      ]
    },
    {
      "cell_type": "code",
      "source": [
        "! pip list"
      ],
      "metadata": {
        "id": "C0HJzY5r0DO1"
      },
      "id": "C0HJzY5r0DO1",
      "execution_count": null,
      "outputs": []
    },
    {
      "cell_type": "markdown",
      "id": "8106bace",
      "metadata": {
        "id": "8106bace"
      },
      "source": [
        "---\n",
        "  \n",
        "# Recap\n",
        "  \n",
        "- Modules are just collections of functions, objects, etc.\n",
        "\n",
        "- `pip` to install them (Colab has most that we need!)\n",
        "\n",
        "- `import` to bring them in\n",
        "\n",
        "    + Can selectively import"
      ]
    }
  ],
  "metadata": {
    "jupytext": {
      "cell_metadata_filter": "eval,message,error,warning,tags,-all",
      "main_language": "python",
      "notebook_metadata_filter": "-all"
    },
    "colab": {
      "provenance": [],
      "toc_visible": true
    },
    "language_info": {
      "name": "python"
    },
    "kernelspec": {
      "name": "python3",
      "display_name": "Python 3"
    }
  },
  "nbformat": 4,
  "nbformat_minor": 5
}