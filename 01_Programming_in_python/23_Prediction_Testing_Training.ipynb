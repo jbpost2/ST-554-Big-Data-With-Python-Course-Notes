{
 "cells": [
  {
   "cell_type": "raw",
   "id": "a043da02",
   "metadata": {},
   "source": [
    "---\n",
    "title: \"Prediction and Training/Test Set Ideas\"\n",
    "author: \"Justin Post\"\n",
    "output:\n",
    "  xaringan::moon_reader:\n",
    "    seal: false\n",
    "    lib_dir: libs\n",
    "    css: [default, \"css/ncsu.css\", \"css/ncsu-fonts.css\", \"css/mycss.css\"]\n",
    "    nature:\n",
    "      beforeInit: [\"js/ncsu-scale.js\"]\n",
    "      highlightStyle: github\n",
    "      highlightLines: true\n",
    "      countIncrementalSlides: false\n",
    "      ratio: \"16:9\"\n",
    "    includes:\n",
    "      in_header: \"partials/header.html\"\n",
    "editor_options: \n",
    "  chunk_output_type: console\n",
    "---"
   ]
  },
  {
   "cell_type": "code",
   "execution_count": null,
   "id": "7b0202de",
   "metadata": {
    "lines_to_next_cell": 2,
    "message": false,
    "tags": [
     "remove_cell"
    ],
    "warning": false
   },
   "outputs": [],
   "source": [
    "%%R\n",
    "options(htmltools.dir.version = FALSE)\n",
    "knitr::opts_chunk$set(\n",
    "  message = FALSE,\n",
    "  warning = FALSE,\n",
    "  dev = \"svg\",\n",
    "  fig.align = \"center\",\n",
    "  #fig.width = 11,\n",
    "  #fig.height = 5\n",
    "  cache = FALSE\n",
    ")\n",
    "\n",
    "# define vars\n",
    "om = par(\"mar\")\n",
    "lowtop = c(om[1],om[2],0.1,om[4])\n",
    "library(tidyverse)\n",
    "library(knitr)\n",
    "library(reticulate)\n",
    "use_python(\"C:\\\\Users\\\\jbpost2\\\\AppData\\\\Local\\\\Programs\\\\Python\\\\Python310\\\\python.exe\")\n",
    "#use_python(\"C:\\\\python\\\\python.exe\")\n",
    "options(dplyr.print_min = 5)\n",
    "options(reticulate.repl.quiet = TRUE)"
   ]
  },
  {
   "cell_type": "markdown",
   "id": "936f54fe",
   "metadata": {},
   "source": [
    "layout: false\n",
    "class: title-slide-section-red, middle"
   ]
  },
  {
   "cell_type": "markdown",
   "id": "c35a48f5",
   "metadata": {},
   "source": [
    "# Prediction and Training/Test Set Ideas\n",
    "Justin Post\n",
    "\n",
    "---\n",
    "layout: true\n",
    "\n",
    "<div class=\"my-footer\"><img src=\"img/logo.png\" style=\"height: 60px;\"/></div> \n"
   ]
  },
  {
   "cell_type": "markdown",
   "id": "b693dd67",
   "metadata": {},
   "source": [
    "---\n",
    "\n",
    "# Common Uses for Data\n",
    "\n",
    "Four major goals with data:\n",
    "1. Description (EDA)\n",
    "2. Inference\n",
    "3. Prediction/Classification\n",
    "    - Supervised Learning methods try to relate predictors to a response variable through a model\n",
    "        - Some models used for inference and prediction/classification\n",
    "        - Some used just for prediction/classification\n",
    "4. Pattern Finding\n",
    "\n",
    "---\n",
    "\n",
    "# Statistical Learning\n",
    "\n",
    "**Statistical learning** - Inference, prediction/classification, and pattern finding\n",
    "\n",
    "- Supervised learning - a variable (or variables) represents an **output** or **response** of interest\n",
    "\n",
    "--\n",
    "\n",
    "    + May model response and\n",
    "        - Make **inference** on the model parameters  \n",
    "        - **predict** a value or **classify** an observation\n",
    "\n",
    "Goal: Understand what it means to be a good predictive model\n",
    "\n",
    "---\n",
    "\n",
    "# Simple Linear Regression Model\n",
    "\n",
    "Basic model for relating a numeric predictor to a numeric response\n",
    "\n",
    "$$\\mbox{response = intercept + slope*predictor + Error}$$\n",
    "$$Y_i = \\beta_0+\\beta_1x_i+E_i$$"
   ]
  },
  {
   "cell_type": "markdown",
   "id": "13c79a85",
   "metadata": {},
   "source": [
    "---\n",
    "\n",
    "# Simple Linear Regression Model\n",
    "\n",
    "Basic model for relating a numeric predictor to a numeric response\n",
    "\n",
    "$$\\mbox{response = intercept + slope*predictor + Error}$$\n",
    "$$Y_i = \\beta_0+\\beta_1x_i+E_i$$\n",
    "\n",
    "- Obtain data $(x,y)$ pairs and **fit** (or train) the model\n",
    "- Assumptions often made about the data generating process to make inference (not required)"
   ]
  },
  {
   "cell_type": "code",
   "execution_count": null,
   "id": "1f6e3442",
   "metadata": {},
   "outputs": [],
   "source": [
    "import numpy as np\n",
    "import pandas as pd\n",
    "wine_data = pd.read_csv(\"https://www4.stat.ncsu.edu/~online/datasets/winequality-full.csv\")\n",
    "wine_data[[\"alcohol\", \"residual sugar\", \"quality\", \"type\"]].head()"
   ]
  },
  {
   "cell_type": "markdown",
   "id": "eb8ed5ec",
   "metadata": {},
   "source": [
    "---\n",
    "\n",
    "# Simple Linear Regression Model\n",
    "\n",
    "- This model can be used for inference or prediction!\n",
    "  + Use `alcohol` content (predictor) to predict `residual sugar` content (response)\n",
    "\n",
    "---\n",
    "\n",
    "# Simple Linear Regression Model\n",
    "\n",
    "- This model can be used for inference or prediction!\n",
    "  + Use `alcohol` content (predictor) to predict `residual sugar` content (response)"
   ]
  },
  {
   "cell_type": "code",
   "execution_count": null,
   "id": "d7f552eb",
   "metadata": {
    "fig.align": "center",
    "out.width": "350px"
   },
   "outputs": [],
   "source": [
    "import seaborn as sns\n",
    "sns.regplot(x = wine_data[\"alcohol\"], y = wine_data[\"residual sugar\"], scatter_kws={'s':2})"
   ]
  },
  {
   "cell_type": "markdown",
   "id": "1ec374c4",
   "metadata": {},
   "source": [
    "---\n",
    "\n",
    "# Simple Linear Regression Model\n",
    "\n",
    "- Can use `linear_model` from `sklearn`"
   ]
  },
  {
   "cell_type": "code",
   "execution_count": null,
   "id": "5a925a0a",
   "metadata": {
    "eval": false
   },
   "outputs": [],
   "source": [
    "from sklearn import linear_model\n",
    "reg = linear_model.LinearRegression() #Create a reg object\n",
    "reg.fit(X = wine_data['alcohol'].values.reshape(-1,1), y = wine_data['residual sugar'].values) "
   ]
  },
  {
   "cell_type": "code",
   "execution_count": null,
   "id": "4f256d4b",
   "metadata": {
    "eval": true,
    "tags": [
     "remove_input",
     "remove_cell"
    ]
   },
   "outputs": [],
   "source": [
    "from sklearn import linear_model\n",
    "reg = linear_model.LinearRegression() #Create a reg object\n",
    "reg.fit(X = wine_data['alcohol'].values.reshape(-1,1), y = wine_data['residual sugar'].values) "
   ]
  },
  {
   "cell_type": "markdown",
   "id": "eca5e5de",
   "metadata": {},
   "source": [
    "---\n",
    "\n",
    "# Simple Linear Regression Model\n",
    "\n",
    "- Can use `linear_model` from `sklearn`"
   ]
  },
  {
   "cell_type": "code",
   "execution_count": null,
   "id": "388862f6",
   "metadata": {
    "eval": false
   },
   "outputs": [],
   "source": [
    "from sklearn import linear_model\n",
    "reg = linear_model.LinearRegression() #Create a reg object\n",
    "reg.fit(X = wine_data['alcohol'].values.reshape(-1,1), y = wine_data['residual sugar'].values) "
   ]
  },
  {
   "cell_type": "markdown",
   "id": "43092d84",
   "metadata": {},
   "source": [
    "- `reg` object has info about the fit!"
   ]
  },
  {
   "cell_type": "code",
   "execution_count": null,
   "id": "065ee35b",
   "metadata": {},
   "outputs": [],
   "source": [
    "print(round(reg.intercept_, 3), round(reg.coef_[0], 3))"
   ]
  },
  {
   "cell_type": "markdown",
   "id": "c617268a",
   "metadata": {},
   "source": [
    "---\n",
    "\n",
    "# Simple Linear Regression Model\n",
    "\n",
    "- Can use line for prediction with `.predict()` method!"
   ]
  },
  {
   "cell_type": "code",
   "execution_count": null,
   "id": "2ace4a0a",
   "metadata": {
    "lines_to_next_cell": 0
   },
   "outputs": [],
   "source": [
    "print(round(reg.intercept_, 3), round(reg.coef_[0], 3))\n",
    "pred1 = reg.predict(np.array([[10], [12], [14]]))\n",
    "pred1 #each of these represents a 'y-hat' for the given value of x"
   ]
  },
  {
   "cell_type": "code",
   "execution_count": null,
   "id": "3fac4e65",
   "metadata": {
    "fig.align": "center",
    "lines_to_next_cell": 0,
    "out.width": "300px",
    "tags": [
     "remove_input"
    ]
   },
   "outputs": [],
   "source": [
    "import seaborn as sns\n",
    "sns.regplot(x = wine_data[\"alcohol\"], y = wine_data[\"residual sugar\"], scatter_kws={'s':2})"
   ]
  },
  {
   "cell_type": "markdown",
   "id": "69966271",
   "metadata": {},
   "source": []
  },
  {
   "cell_type": "markdown",
   "id": "a84893ac",
   "metadata": {},
   "source": [
    "---\n",
    "\n",
    "# Recenter\n",
    "\n",
    "Supervised Learning methods try to relate predictors to a response variable through a model\n",
    "- Some used for inference and prediction/classification\n",
    "- Some used just for prediction/classification\n",
    "\n",
    "Lots of common models\n",
    "\n",
    "- Regression models\n",
    "- Tree based methods\n",
    "- Naive Bayes\n",
    "- k Nearest Neighbors\n",
    "\n",
    "---\n",
    "\n",
    "# Recenter\n",
    "\n",
    "Supervised Learning methods try to relate predictors to a response variable through a model\n",
    "- Some used for inference and prediction/classification\n",
    "- Some used just for prediction/classification\n",
    "\n",
    "Lots of common models\n",
    "\n",
    "- Regression models\n",
    "- Tree based methods\n",
    "- Naive Bayes\n",
    "- k Nearest Neighbors\n",
    "\n",
    "Given a particular model type, we *fit* (or train) the model, use it to predict (call prediction $\\hat{y}$)\n",
    "\n",
    "Goal: Understand what it means to be a good predictive model. **How do we evaluate the model?**"
   ]
  },
  {
   "cell_type": "markdown",
   "id": "4805910a",
   "metadata": {},
   "source": [
    "---\n",
    "\n",
    "# Quantifying How Well the Model Predicts\n",
    "\n",
    "Need a way to quantify how well our prediction ($\\hat{y}_i$) is doing (need a **loss** function)\n",
    "\n",
    "- Want something 'close' to all points\n",
    "- For a given **numeric** response value, $y_i$ and prediction, $\\hat{y}_i$\n",
    "$$y_i - \\hat{y}_i, (y_i-\\hat{y}_i)^2, |y_i-\\hat{y}_i|$$\n",
    "\n",
    "---\n",
    "\n",
    "# Quantifying How Well the Model Predicts\n",
    "\n",
    "Need a way to quantify how well our prediction ($\\hat{y}_i$) is doing (need a **loss** function)\n",
    "\n",
    "- Want something 'close' to all points\n",
    "- For a given **numeric** response value, $y_i$ and prediction, $\\hat{y}_i$\n",
    "$$y_i - \\hat{y}_i, (y_i-\\hat{y}_i)^2, |y_i-\\hat{y}_i|$$\n",
    "- Incorporate all points via\n",
    "$$\\frac{1}{n}\\sum_{i=1}^{n} (y_i - \\hat{y}_i), \\frac{1}{n}\\sum_{i=1}^{n} (y_i-\\hat{y}_i)^2, \\frac{1}{n}\\sum_{i=1}^{n} |y_i-\\hat{y}_i|$$\n",
    "\n",
    "---\n",
    "\n",
    "# Loss Function\n",
    "\n",
    "- For a numeric response, we commonly use squared error loss to evaluate a prediction\n",
    "$$L(y_i,\\hat{y}_i) = (y_i-\\hat{y}_i)^2$$\n",
    "\n",
    "- Use Root Mean Square Error as a metric across all observations\n",
    "$$RMSE = \\sqrt{\\frac{1}{n}\\sum_{i=1}^{n} L(y_i, \\hat{y}_i)} = \\sqrt{\\frac{1}{n}\\sum_{i=1}^{n}(y_i-\\hat{y}_i)^2}$$\n",
    "\n",
    "---\n",
    "\n",
    "# Commonly Used Loss Functions\n",
    "\n",
    "For prediction (numeric response)\n",
    "- Mean Squared Error (MSE) or Root Mean Squared Error (RMSE)\n",
    "- Mean Absolute Error (MAE or MAD - deviation)\n",
    "$$L(y_i,\\hat{y}_i) = |y_i-\\hat{y}_i|$$\n",
    "- [Huber Loss](https://en.wikipedia.org/wiki/Huber_loss)\n",
    "    + Doesn't penalize large mistakes as much as MSE"
   ]
  },
  {
   "cell_type": "markdown",
   "id": "5dd306b1",
   "metadata": {},
   "source": [
    "---\n",
    "\n",
    "# Training vs Test Sets\n",
    "\n",
    "Ideally we want our model to predict well for observations **it has yet to see**"
   ]
  },
  {
   "cell_type": "markdown",
   "id": "cb132c92",
   "metadata": {},
   "source": [
    "---\n",
    "\n",
    "# Training vs Test Sets\n",
    "\n",
    "Ideally we want our model to predict well for observations **it has yet to see**\n",
    "- Evaluation of predictions over the observations used to *fit or train the model* is called the **training (set) error**\n",
    "\n",
    "$$\\mbox{Training RMSE} = \\sqrt{\\frac{1}{\\mbox{# of obs used to fit model}}\\sum_{\\mbox{obs used to fit model}}(y-\\hat{y})^2}$$\n",
    "\n",
    "---\n",
    "\n",
    "# Training vs Test Sets\n",
    "\n",
    "Ideally we want our model to predict well for observations **it has yet to see**\n",
    "- Evaluation of predictions over the observations used to *fit or train the model* is called the **training (set) error**\n",
    "\n",
    "$$\\mbox{Training RMSE} = \\sqrt{\\frac{1}{\\mbox{# of obs used to fit model}}\\sum_{\\mbox{obs used to fit model}}(y-\\hat{y})^2}$$\n",
    "\n",
    "- If we only consider this, we'll have no idea how the model will fare on data it hasn't seen!\n",
    "\n"
   ]
  },
  {
   "cell_type": "markdown",
   "id": "5bdb7ac1",
   "metadata": {},
   "source": [
    "---\n",
    "\n",
    "# Training vs Test Sets\n",
    "\n",
    "One method is to split the data into a **training set** and **test set**\n",
    "- On the training set we can fit (or train) our models\n",
    "- We can then predict for the test set observations and judge effectiveness with RMSE"
   ]
  },
  {
   "cell_type": "code",
   "execution_count": null,
   "id": "80494a01",
   "metadata": {
    "lines_to_next_cell": 2,
    "out.width": "600px",
    "tags": [
     "remove_input"
    ]
   },
   "outputs": [],
   "source": [
    "%%R\n",
    "knitr::include_graphics(\"img/trainingtest.png\")"
   ]
  },
  {
   "cell_type": "markdown",
   "id": "09973dd4",
   "metadata": {},
   "source": [
    "---\n",
    "\n",
    "# Example of Fitting and Evaluating Models\n",
    "\n",
    "Consider a data set on motorcycle sale prices"
   ]
  },
  {
   "cell_type": "code",
   "execution_count": null,
   "id": "3fbda526",
   "metadata": {
    "lines_to_next_cell": 2
   },
   "outputs": [],
   "source": [
    "import pandas as pd\n",
    "bike_data = pd.read_csv(\"https://www4.stat.ncsu.edu/~online/datasets/bikeDetails.csv\")\n",
    "print(bike_data.columns)\n",
    "bike_data.head()"
   ]
  },
  {
   "cell_type": "markdown",
   "id": "fabf7f94",
   "metadata": {},
   "source": [
    "---\n",
    "\n",
    "# Example of Fitting and Evaluating Models\n",
    "\n",
    "- Response variable of `log_selling_price = ln(selling_price)`\n",
    "\n",
    "- Consider two simple linear regression models\n",
    "$$\\mbox{Model 1: log_selling_price = intercept + slope*year + Error}$$\n",
    "$$\\mbox{Model 2: log_selling_price = intercept + slope*log_km_driven + Error}$$"
   ]
  },
  {
   "cell_type": "markdown",
   "id": "2e981f52",
   "metadata": {},
   "source": [
    "---\n",
    "\n",
    "layout: false\n",
    "\n",
    "# Example of Fitting and Evaluating Models\n",
    "\n",
    "$$\\mbox{Model 1: log_selling_price = intercept + slope*year + Error}$$\n",
    "$$\\mbox{Model 2: log_selling_price = intercept + slope*log_km_driven + Error}$$"
   ]
  },
  {
   "cell_type": "markdown",
   "id": "f6271ed6",
   "metadata": {
    "lines_to_next_cell": 0
   },
   "source": [
    ".left45["
   ]
  },
  {
   "cell_type": "code",
   "execution_count": null,
   "id": "71e3899a",
   "metadata": {
    "fig.align": "center",
    "lines_to_next_cell": 0,
    "message": false,
    "out.width": "350px",
    "tags": [
     "remove_input"
    ],
    "warning": false
   },
   "outputs": [],
   "source": [
    "bike_data['log_selling_price'] = np.log(bike_data['selling_price'])\n",
    "bike_data['log_km_driven'] = np.log(bike_data['km_driven'])\n",
    "sns.regplot(x = bike_data[\"year\"], y = bike_data[\"log_selling_price\"])"
   ]
  },
  {
   "cell_type": "markdown",
   "id": "e1da6af9",
   "metadata": {
    "lines_to_next_cell": 0
   },
   "source": [
    "]\n",
    ".right45["
   ]
  },
  {
   "cell_type": "code",
   "execution_count": null,
   "id": "7361af8e",
   "metadata": {
    "fig.align": "center",
    "lines_to_next_cell": 0,
    "message": false,
    "out.width": "350",
    "tags": [
     "remove_input"
    ],
    "warning": false
   },
   "outputs": [],
   "source": [
    "sns.regplot(x = bike_data[\"log_km_driven\"], y = bike_data[\"log_selling_price\"])"
   ]
  },
  {
   "cell_type": "markdown",
   "id": "7f6c486d",
   "metadata": {},
   "source": [
    "]\n",
    "\n"
   ]
  },
  {
   "cell_type": "markdown",
   "id": "0f4d8d1a",
   "metadata": {},
   "source": [
    "---\n",
    "\n",
    "# Example of Fitting and Evaluating Models\n",
    "\n",
    "$$\\mbox{Model 1: log_selling_price = intercept + slope*year + Error}$$\n",
    "$$\\mbox{Model 2: log_selling_price = intercept + slope*log_km_driven + Error}$$\n",
    "\n",
    "- Fit SLR models using **scikit learn** "
   ]
  },
  {
   "cell_type": "code",
   "execution_count": null,
   "id": "345e225a",
   "metadata": {
    "lines_to_next_cell": 2
   },
   "outputs": [],
   "source": [
    "import numpy as np\n",
    "#create response and new predictor\n",
    "bike_data['log_selling_price'] = np.log(bike_data['selling_price'])\n",
    "bike_data['log_km_driven'] = np.log(bike_data['km_driven'])"
   ]
  },
  {
   "cell_type": "markdown",
   "id": "52e01ffa",
   "metadata": {},
   "source": [
    "---\n",
    "\n",
    "# Example of Fitting and Evaluating Models\n",
    "\n",
    "$$\\mbox{Model 1: log_selling_price = intercept + slope*year + Error}$$\n",
    "$$\\mbox{Model 2: log_selling_price = intercept + slope*log_km_driven + Error}$$\n",
    "\n",
    "- Fit SLR models using **scikit-learn**"
   ]
  },
  {
   "cell_type": "code",
   "execution_count": null,
   "id": "11a221c1",
   "metadata": {
    "lines_to_next_cell": 2
   },
   "outputs": [],
   "source": [
    "print(bike_data['log_selling_price'].values) #can pass the response as an array (1D is ok)\n",
    "print(bike_data['year'].values.reshape(-1,1)) #pass each predictor as an array (must be 2D)"
   ]
  },
  {
   "cell_type": "markdown",
   "id": "a3162b6f",
   "metadata": {},
   "source": [
    "---\n",
    "\n",
    "# Example of Fitting and Evaluating Models\n",
    "\n",
    "$$\\mbox{Model 1: log_selling_price = intercept + slope*year + Error}$$\n",
    "$$\\mbox{Model 2: log_selling_price = intercept + slope*log_km_driven + Error}$$"
   ]
  },
  {
   "cell_type": "code",
   "execution_count": null,
   "id": "bcbe73f4",
   "metadata": {
    "eval": true,
    "tags": [
     "remove_cell",
     "remove_input"
    ]
   },
   "outputs": [],
   "source": [
    "reg1 = linear_model.LinearRegression() #Create a reg object\n",
    "reg1.fit(bike_data['year'].values.reshape(-1,1), bike_data['log_selling_price']) "
   ]
  },
  {
   "cell_type": "code",
   "execution_count": null,
   "id": "d9f797b4",
   "metadata": {
    "eval": false
   },
   "outputs": [],
   "source": [
    "reg1 = linear_model.LinearRegression() #Create a reg object\n",
    "reg1.fit(bike_data['year'].values.reshape(-1,1), bike_data['log_selling_price']) "
   ]
  },
  {
   "cell_type": "code",
   "execution_count": null,
   "id": "6350c724",
   "metadata": {},
   "outputs": [],
   "source": [
    "print(reg1.intercept_, reg1.coef_)"
   ]
  },
  {
   "cell_type": "markdown",
   "id": "97bb13f0",
   "metadata": {},
   "source": [
    "---\n",
    "\n",
    "# Example of Fitting and Evaluating Models\n",
    "\n",
    "$$\\mbox{Model 1: log_selling_price = intercept + slope*year + Error}$$\n",
    "$$\\mbox{Model 2: log_selling_price = intercept + slope*log_km_driven + Error}$$"
   ]
  },
  {
   "cell_type": "code",
   "execution_count": null,
   "id": "10b943bd",
   "metadata": {
    "eval": true,
    "tags": [
     "remove_cell",
     "remove_input"
    ]
   },
   "outputs": [],
   "source": [
    "reg2 = linear_model.LinearRegression() #Create a reg object\n",
    "reg2.fit(bike_data['log_km_driven'].values.reshape(-1,1), bike_data['log_selling_price'])"
   ]
  },
  {
   "cell_type": "code",
   "execution_count": null,
   "id": "9368d799",
   "metadata": {
    "eval": false
   },
   "outputs": [],
   "source": [
    "reg2 = linear_model.LinearRegression() #Create a reg object\n",
    "reg2.fit(bike_data['log_km_driven'].values.reshape(-1,1), bike_data['log_selling_price'])"
   ]
  },
  {
   "cell_type": "code",
   "execution_count": null,
   "id": "ed207c2f",
   "metadata": {
    "lines_to_next_cell": 0
   },
   "outputs": [],
   "source": [
    "print(reg2.intercept_, reg2.coef_)"
   ]
  },
  {
   "cell_type": "markdown",
   "id": "ddab1857",
   "metadata": {},
   "source": []
  },
  {
   "cell_type": "markdown",
   "id": "c25aa33d",
   "metadata": {
    "lines_to_next_cell": 0
   },
   "source": [
    "---\n",
    "\n",
    "# Example of Fitting and Evaluating Models\n",
    "\n",
    "- Now we have the fitted models.  Want to use them to predict the response\n",
    "$$\\mbox{Model 1: } \\widehat{\\mbox{log_selling_price}} = -201.06 + 0.105*\\mbox{year}$$\n",
    "$$\\mbox{Model 2: } \\widehat{\\mbox{log_selling_price}} = 14.64 -0.391*\\mbox{log_km_driven}$$\n",
    "\n",
    "- Use the `.predict()` method"
   ]
  },
  {
   "cell_type": "code",
   "execution_count": null,
   "id": "bb59ce75",
   "metadata": {
    "lines_to_next_cell": 0
   },
   "outputs": [],
   "source": [
    "pred1 = reg1.predict(bike_data['year'].values.reshape(-1,1))\n",
    "pred2 = reg2.predict(bike_data['log_km_driven'].values.reshape(-1,1))\n",
    "pd.DataFrame(zip(pred1, pred2, bike_data['log_selling_price']), columns = [\"Model1\", \"Model2\", \"Actual\"])"
   ]
  },
  {
   "cell_type": "markdown",
   "id": "a65196a9",
   "metadata": {},
   "source": []
  },
  {
   "cell_type": "markdown",
   "id": "12b99028",
   "metadata": {
    "lines_to_next_cell": 0
   },
   "source": [
    "---\n",
    "\n",
    "# Example of Fitting and Evaluating Models\n",
    "\n",
    "- Now we have the fitted models.  Want to use them to predict the response\n",
    "$$\\mbox{Model 1: } \\widehat{\\mbox{log_selling_price}} = -201.06 + 0.105*\\mbox{year}$$\n",
    "$$\\mbox{Model 2: } \\widehat{\\mbox{log_selling_price}} = 14.64 -0.391*\\mbox{log_km_driven}$$\n",
    "\n",
    "- Find **training** RMSE"
   ]
  },
  {
   "cell_type": "code",
   "execution_count": null,
   "id": "f0530cc5",
   "metadata": {
    "lines_to_next_cell": 2
   },
   "outputs": [],
   "source": [
    "from sklearn.metrics import mean_squared_error\n",
    "RMSE1 = np.sqrt(mean_squared_error(y_true = bike_data['log_selling_price'], y_pred = pred1))\n",
    "RMSE2 = np.sqrt(mean_squared_error(y_true = bike_data['log_selling_price'], y_pred = pred2))\n",
    "print(round(RMSE1, 3), round(RMSE2, 3))"
   ]
  },
  {
   "cell_type": "markdown",
   "id": "66d46866",
   "metadata": {
    "lines_to_next_cell": 0
   },
   "source": [
    "---\n",
    "\n",
    "# Example of Fitting and Evaluating Models\n",
    "\n",
    "- Now we have the fitted models.  Want to use them to predict the response\n",
    "$$\\mbox{Model 1: } \\widehat{\\mbox{log_selling_price}} = -201.06 + 0.105*\\mbox{year}$$\n",
    "$$\\mbox{Model 2: } \\widehat{\\mbox{log_selling_price}} = 14.64 -0.391*\\mbox{log_km_driven}$$\n",
    "\n",
    "- Find **training** RMSE"
   ]
  },
  {
   "cell_type": "code",
   "execution_count": null,
   "id": "73a7a01c",
   "metadata": {},
   "outputs": [],
   "source": [
    "from sklearn.metrics import mean_squared_error\n",
    "RMSE1 = np.sqrt(mean_squared_error(y_true = bike_data['log_selling_price'], y_pred = pred1))\n",
    "RMSE2 = np.sqrt(mean_squared_error(y_true = bike_data['log_selling_price'], y_pred = pred2))\n",
    "print(round(RMSE1, 3), round(RMSE2, 3))"
   ]
  },
  {
   "cell_type": "markdown",
   "id": "c35d3f88",
   "metadata": {},
   "source": [
    "- Estimate of RMSE is too **optimistic** compared to how the model would perform with new data!  Redo with train/test split!"
   ]
  },
  {
   "cell_type": "markdown",
   "id": "ca3062f3",
   "metadata": {},
   "source": [
    "---\n",
    "\n",
    "# Train/Test Split\n",
    "\n",
    "- `sklearn` has a function to make splitting data easy\n",
    "- Commonly use 80/20 or 70/30 split\n",
    "\n",
    "---\n",
    "\n",
    "# Train/Test Split\n",
    "\n",
    "- `sklearn` has a function to make splitting data easy\n",
    "- Commonly use 80/20 or 70/30 split"
   ]
  },
  {
   "cell_type": "code",
   "execution_count": null,
   "id": "3570020f",
   "metadata": {
    "lines_to_next_cell": 0
   },
   "outputs": [],
   "source": [
    "from sklearn.model_selection import train_test_split\n",
    "#Function will return a list with four things:\n",
    "#Test/train for predictors (X)\n",
    "#Test/train for response (y)\n",
    "X_train, X_test, y_train, y_test = train_test_split(\n",
    "  bike_data[[\"year\", \"log_km_driven\"]],\n",
    "  bike_data[\"log_selling_price\"], \n",
    "  test_size=0.20, \n",
    "  random_state=42)"
   ]
  },
  {
   "cell_type": "markdown",
   "id": "523c0899",
   "metadata": {},
   "source": []
  },
  {
   "cell_type": "markdown",
   "id": "ac3c8ae6",
   "metadata": {},
   "source": [
    "---\n",
    "\n",
    "# Fit or Train Model\n",
    "\n",
    "- We then fit the model on the training set"
   ]
  },
  {
   "cell_type": "code",
   "execution_count": null,
   "id": "cdd28c80",
   "metadata": {
    "eval": false,
    "lines_to_next_cell": 2
   },
   "outputs": [],
   "source": [
    "reg1 = linear_model.LinearRegression() \n",
    "reg2 = linear_model.LinearRegression() \n",
    "reg1.fit(X_train[\"year\"].values.reshape(-1,1), y_train.values)\n",
    "reg2.fit(X_train[\"log_km_driven\"].values.reshape(-1,1), y_train.values)"
   ]
  },
  {
   "cell_type": "code",
   "execution_count": null,
   "id": "ddbbc6a9",
   "metadata": {
    "eval": true,
    "tags": [
     "remove_input",
     "remove_cell"
    ]
   },
   "outputs": [],
   "source": [
    "reg1 = linear_model.LinearRegression() \n",
    "reg2 = linear_model.LinearRegression() \n",
    "reg1.fit(X_train[\"year\"].values.reshape(-1,1), y_train.values)\n",
    "reg2.fit(X_train[\"log_km_driven\"].values.reshape(-1,1), y_train.values)"
   ]
  },
  {
   "cell_type": "markdown",
   "id": "0f962fb5",
   "metadata": {},
   "source": [
    "---\n",
    "\n",
    "# Fit or Train Model\n",
    "\n",
    "- We then fit the model on the training set"
   ]
  },
  {
   "cell_type": "code",
   "execution_count": null,
   "id": "a2d84353",
   "metadata": {
    "eval": false
   },
   "outputs": [],
   "source": [
    "reg1 = linear_model.LinearRegression() \n",
    "reg2 = linear_model.LinearRegression() \n",
    "reg1.fit(X_train[\"year\"].values.reshape(-1,1), y_train.values)\n",
    "reg2.fit(X_train[\"log_km_driven\"].values.reshape(-1,1), y_train.values)"
   ]
  },
  {
   "cell_type": "markdown",
   "id": "5bdc30cf",
   "metadata": {},
   "source": [
    "- Can look at training RMSE if we want"
   ]
  },
  {
   "cell_type": "code",
   "execution_count": null,
   "id": "169d5b83",
   "metadata": {
    "lines_to_next_cell": 0
   },
   "outputs": [],
   "source": [
    "train_RMSE1 = np.sqrt(mean_squared_error(y_true = y_train.values, \n",
    "                           y_pred = reg1.predict(X_train['year'].values.reshape(-1,1))))\n",
    "train_RMSE2 = np.sqrt(mean_squared_error(y_true = y_train.values, \n",
    "                           y_pred = reg2.predict(X_train['log_km_driven'].values.reshape(-1,1))))\n",
    "print(round(train_RMSE1, 3), round(train_RMSE2, 3))"
   ]
  },
  {
   "cell_type": "markdown",
   "id": "e4277af7",
   "metadata": {},
   "source": []
  },
  {
   "cell_type": "markdown",
   "id": "9cac47ce",
   "metadata": {},
   "source": [
    "---\n",
    "\n",
    "# Test Error\n",
    "\n",
    "- Now we look at predictions on the test set\n",
    "    + Test data **not** used when training model"
   ]
  },
  {
   "cell_type": "code",
   "execution_count": null,
   "id": "c48f4589",
   "metadata": {
    "lines_to_next_cell": 2
   },
   "outputs": [],
   "source": [
    "test_RMSE1 = np.sqrt(mean_squared_error(y_true = y_test.values, \n",
    "                          y_pred = reg1.predict(X_test['year'].values.reshape(-1,1))))\n",
    "\n",
    "test_RMSE2 = np.sqrt(mean_squared_error(y_true = y_test.values, \n",
    "                          y_pred = reg2.predict(X_test['log_km_driven'].values.reshape(-1,1))))\n",
    "\n",
    "print(round(test_RMSE1, 3), round(test_RMSE2, 3))"
   ]
  },
  {
   "cell_type": "markdown",
   "id": "6adde507",
   "metadata": {},
   "source": [
    "---\n",
    "\n",
    "# Test Error\n",
    "\n",
    "- Now we look at predictions on the test set\n",
    "    + Test data **not** used when training model"
   ]
  },
  {
   "cell_type": "code",
   "execution_count": null,
   "id": "0b24aa8b",
   "metadata": {},
   "outputs": [],
   "source": [
    "test_RMSE1 = np.sqrt(mean_squared_error(y_true = y_test.values, \n",
    "                          y_pred = reg1.predict(X_test['year'].values.reshape(-1,1))))\n",
    "\n",
    "test_RMSE2 = np.sqrt(mean_squared_error(y_true = y_test.values, \n",
    "                          y_pred = reg2.predict(X_test['log_km_driven'].values.reshape(-1,1))))\n",
    "\n",
    "print(round(test_RMSE1, 3), round(test_RMSE2, 3))"
   ]
  },
  {
   "cell_type": "markdown",
   "id": "f651e2c0",
   "metadata": {},
   "source": [
    "- When choosing a model, if the RMSE values were 'close', we'd want to consider the interpretability of the model (and perhaps the assumptions if we wanted to do inference too!)"
   ]
  },
  {
   "cell_type": "markdown",
   "id": "cb20b3e2",
   "metadata": {},
   "source": [
    "---\n",
    "\n",
    "# Recap\n",
    "\n",
    "- Model is fit using some criteria \n",
    "\n",
    "- Must determine a method to judge the model's effectiveness\n",
    "    + Use a **Loss** function (usually summed over all observations in a given set)\n",
    "    \n",
    "- To obtain a better understanding of the predictive power of a model, we split our data into a training and test set\n",
    "    + Evaluate the model using the loss function on the **test set**\n",
    "    \n"
   ]
  }
 ],
 "metadata": {
  "jupytext": {
   "cell_metadata_filter": "message,tags,fig.align,warning,eval,out.width,-all",
   "main_language": "python",
   "notebook_metadata_filter": "-all"
  }
 },
 "nbformat": 4,
 "nbformat_minor": 5
}
