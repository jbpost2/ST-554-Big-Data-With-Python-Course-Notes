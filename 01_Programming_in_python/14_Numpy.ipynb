{
 "cells": [
  {
   "cell_type": "raw",
   "id": "56d846da",
   "metadata": {},
   "source": [
    "---\n",
    "title: \"Numpy Arrays\"\n",
    "author: \"Justin Post (Some notes modified from Dr. Eric Chi)\"\n",
    "output:\n",
    "  xaringan::moon_reader:\n",
    "    seal: false\n",
    "    lib_dir: libs\n",
    "    css: [default, \"css/ncsu.css\", \"css/ncsu-fonts.css\", \"css/mycss.css\"]\n",
    "    nature:\n",
    "      beforeInit: [\"js/ncsu-scale.js\"]\n",
    "      highlightStyle: github\n",
    "      highlightLines: true\n",
    "      countIncrementalSlides: false\n",
    "      ratio: \"16:9\"\n",
    "    includes:\n",
    "      in_header: \"partials/header.html\"\n",
    "editor_options: \n",
    "  chunk_output_type: console\n",
    "---"
   ]
  },
  {
   "cell_type": "code",
   "execution_count": null,
   "id": "37832870",
   "metadata": {
    "lines_to_next_cell": 2,
    "message": false,
    "tags": [
     "remove_cell"
    ],
    "warning": false
   },
   "outputs": [],
   "source": [
    "%%R\n",
    "options(htmltools.dir.version = FALSE)\n",
    "knitr::opts_chunk$set(\n",
    "  message = FALSE,\n",
    "  warning = FALSE,\n",
    "  dev = \"svg\",\n",
    "  fig.align = \"center\",\n",
    "  #fig.width = 11,\n",
    "  #fig.height = 5\n",
    "  cache = TRUE\n",
    ")\n",
    "\n",
    "# define vars\n",
    "om = par(\"mar\")\n",
    "lowtop = c(om[1],om[2],0.1,om[4])\n",
    "library(tidyverse)\n",
    "library(knitr)\n",
    "library(reticulate)\n",
    "use_python(\"C:\\\\Users\\\\jbpost2\\\\AppData\\\\Local\\\\Programs\\\\Python\\\\Python310\\\\python.exe\")\n",
    "#use_python(\"C:\\\\python\\\\python.exe\")\n",
    "options(dplyr.print_min = 5)\n",
    "options(reticulate.repl.quiet = TRUE)"
   ]
  },
  {
   "cell_type": "markdown",
   "id": "4b03fd36",
   "metadata": {},
   "source": [
    "layout: false\n",
    "class: title-slide-section-red, middle\n",
    "\n",
    "# Numpy\n",
    "Justin Post\n",
    "\n",
    "---\n",
    "layout: true\n",
    "\n",
    "<div class=\"my-footer\"><img src=\"img/logo.png\" style=\"height: 60px;\"/></div> \n"
   ]
  },
  {
   "cell_type": "markdown",
   "id": "01499198",
   "metadata": {},
   "source": [
    "---\n",
    "\n",
    "# What is NumPy?\n",
    "\n",
    "- Library for scientific computing\n",
    "\n",
    "    + Provides the multidimensional array object (such as vectors and matrices) and methods for manipulating them\n",
    "\n",
    "- Install with `pip install numpy` or `python -m pip install numpy` (we already have it in our image)\n",
    "\n",
    "--\n",
    "\n",
    "- Bring in the module with `import`"
   ]
  },
  {
   "cell_type": "code",
   "execution_count": null,
   "id": "aec9510d",
   "metadata": {
    "lines_to_next_cell": 0
   },
   "outputs": [],
   "source": [
    "import numpy as np"
   ]
  },
  {
   "cell_type": "markdown",
   "id": "07688cac",
   "metadata": {},
   "source": []
  },
  {
   "cell_type": "markdown",
   "id": "afc1be26",
   "metadata": {},
   "source": [
    "---\n",
    "\n",
    "# Plan\n",
    "\n",
    "Go through common data types\n",
    "\n",
    "- Learn how to create\n",
    "- Consider commonly used functions and methods\n",
    "- See control flow and other tricks along the way\n",
    "\n",
    "This topic, compound objects:\n",
    "- **numpy array** \n",
    "\n",
    "Recall: **functions** & **methods** act on objects. We'll see how to obtain **attributes** here as well!"
   ]
  },
  {
   "cell_type": "markdown",
   "id": "3067a914",
   "metadata": {
    "lines_to_next_cell": 0
   },
   "source": [
    "---\n",
    "\n",
    "# Creating an Array\n",
    "\n",
    "- Arrays are like lists but process much faster\n",
    "\n",
    "- To create an `ndarray` object, pass a list, tuple, or any array-like object to `np.array()`\n",
    "\n",
    "--\n",
    "\n",
    ".left45["
   ]
  },
  {
   "cell_type": "code",
   "execution_count": null,
   "id": "56984b41",
   "metadata": {
    "lines_to_next_cell": 0
   },
   "outputs": [],
   "source": [
    "a = np.array(1)\n",
    "a\n",
    "type(a)\n",
    "a.shape"
   ]
  },
  {
   "cell_type": "markdown",
   "id": "0597067b",
   "metadata": {
    "lines_to_next_cell": 0
   },
   "source": [
    "]\n",
    "\n",
    ".right45["
   ]
  },
  {
   "cell_type": "code",
   "execution_count": null,
   "id": "3c984f8f",
   "metadata": {
    "lines_to_next_cell": 0
   },
   "outputs": [],
   "source": [
    "b = np.array([1, 2, 3])\n",
    "b\n",
    "type(b)\n",
    "b.shape"
   ]
  },
  {
   "cell_type": "markdown",
   "id": "7d9cd811",
   "metadata": {},
   "source": [
    "]\n"
   ]
  },
  {
   "cell_type": "markdown",
   "id": "4a076ad9",
   "metadata": {
    "lines_to_next_cell": 0
   },
   "source": [
    "---\n",
    "\n",
    "# Array Dimension\n",
    "\n",
    "- 0D arrays are a scalar (sort of... [see here for discussion](https://stackoverflow.com/questions/773030/why-are-0d-arrays-in-numpy-not-considered-scalar))\n",
    "- 1D arrays are vectors\n",
    "- 2D arrays are matrices\n",
    "- 3D and up are just called arrays\n",
    "\n",
    "- `.shape` attribute gives the dimensions of an array at a tuple\n",
    "\n",
    "--\n",
    "\n",
    ".left45["
   ]
  },
  {
   "cell_type": "code",
   "execution_count": null,
   "id": "379a1440",
   "metadata": {
    "lines_to_next_cell": 0
   },
   "outputs": [],
   "source": [
    "c = np.array([1, \"a\", True])\n",
    "c\n",
    "type(c)\n",
    "c.shape"
   ]
  },
  {
   "cell_type": "markdown",
   "id": "a3e15b9e",
   "metadata": {
    "lines_to_next_cell": 0
   },
   "source": [
    "]\n",
    "\n",
    ".right45["
   ]
  },
  {
   "cell_type": "code",
   "execution_count": null,
   "id": "b03c1d51",
   "metadata": {
    "lines_to_next_cell": 0
   },
   "outputs": [],
   "source": [
    "d = np.array([\n",
    "  [1, 2, 3],\n",
    "  [4, 5, 6]]\n",
    "  )\n",
    "type(d)\n",
    "d.shape"
   ]
  },
  {
   "cell_type": "markdown",
   "id": "76d47588",
   "metadata": {},
   "source": [
    "]"
   ]
  },
  {
   "cell_type": "markdown",
   "id": "fbe497c8",
   "metadata": {},
   "source": [
    "---\n",
    "\n",
    "# Functions for Creating Arrays\n",
    "\n",
    "Creating a vector or matrix of all zeros\n",
    "\n",
    "- Row vector"
   ]
  },
  {
   "cell_type": "code",
   "execution_count": null,
   "id": "27131933",
   "metadata": {},
   "outputs": [],
   "source": [
    "A0 = np.zeros(4)\n",
    "A0"
   ]
  },
  {
   "cell_type": "markdown",
   "id": "c73f2857",
   "metadata": {},
   "source": [
    "- Column vector"
   ]
  },
  {
   "cell_type": "code",
   "execution_count": null,
   "id": "d60f4a05",
   "metadata": {
    "lines_to_next_cell": 2
   },
   "outputs": [],
   "source": [
    "A0 = np.zeros((4,1))\n",
    "A0"
   ]
  },
  {
   "cell_type": "markdown",
   "id": "67ffb948",
   "metadata": {},
   "source": [
    "---\n",
    "\n",
    "# Functions for Creating Arrays\n",
    "\n",
    "- Matrix of zeros"
   ]
  },
  {
   "cell_type": "code",
   "execution_count": null,
   "id": "c528b5c0",
   "metadata": {
    "lines_to_next_cell": 2
   },
   "outputs": [],
   "source": [
    "A = np.zeros((4,2))\n",
    "A\n",
    "A.shape"
   ]
  },
  {
   "cell_type": "markdown",
   "id": "022a6577",
   "metadata": {},
   "source": [
    "---\n",
    "\n",
    "# Functions for Creating Arrays\n",
    "\n",
    "- Row of all ones"
   ]
  },
  {
   "cell_type": "code",
   "execution_count": null,
   "id": "7dbfd30a",
   "metadata": {},
   "outputs": [],
   "source": [
    "b = np.ones(4)\n",
    "b"
   ]
  },
  {
   "cell_type": "markdown",
   "id": "074245a2",
   "metadata": {},
   "source": [
    "- Matrix of all ones"
   ]
  },
  {
   "cell_type": "code",
   "execution_count": null,
   "id": "0542651a",
   "metadata": {
    "lines_to_next_cell": 2
   },
   "outputs": [],
   "source": [
    "B = np.ones((2,3))    \n",
    "B"
   ]
  },
  {
   "cell_type": "markdown",
   "id": "9b32717b",
   "metadata": {},
   "source": [
    "---\n",
    "\n",
    "# Functions for Creating Arrays\n",
    "\n",
    "- Matrix of 10's"
   ]
  },
  {
   "cell_type": "code",
   "execution_count": null,
   "id": "a67cc600",
   "metadata": {},
   "outputs": [],
   "source": [
    "C = np.ones((2, 3)) * 10\n",
    "C"
   ]
  },
  {
   "cell_type": "markdown",
   "id": "058d6174",
   "metadata": {},
   "source": [
    "- `np.full()` does this automatically"
   ]
  },
  {
   "cell_type": "code",
   "execution_count": null,
   "id": "4f47429b",
   "metadata": {
    "lines_to_next_cell": 2
   },
   "outputs": [],
   "source": [
    "C = np.full((2,3), 10)  \n",
    "C"
   ]
  },
  {
   "cell_type": "markdown",
   "id": "3b22683e",
   "metadata": {},
   "source": [
    "---\n",
    "\n",
    "# Functions for Creating Arrays\n",
    "\n",
    "- Be careful! C is an integer valued array"
   ]
  },
  {
   "cell_type": "code",
   "execution_count": null,
   "id": "3feb5614",
   "metadata": {
    "tags": [
     "remove_input"
    ]
   },
   "outputs": [],
   "source": [
    "import numpy as np"
   ]
  },
  {
   "cell_type": "code",
   "execution_count": null,
   "id": "1e6d1cc8",
   "metadata": {},
   "outputs": [],
   "source": [
    "C = np.full((2,3), 10)  \n",
    "C[0,0] = 6.5\n",
    "C"
   ]
  },
  {
   "cell_type": "markdown",
   "id": "895b46f0",
   "metadata": {},
   "source": [
    "- Avoid by creating with a float"
   ]
  },
  {
   "cell_type": "code",
   "execution_count": null,
   "id": "fa79c914",
   "metadata": {
    "lines_to_next_cell": 2
   },
   "outputs": [],
   "source": [
    "C = np.full((2,3), 10.0)  #or C = np.ones((2, 3)) * 10.0\n",
    "C[0,0] = 6.5\n",
    "C"
   ]
  },
  {
   "cell_type": "markdown",
   "id": "865a0c39",
   "metadata": {},
   "source": [
    "---\n",
    "\n",
    "# Functions for Creating Arrays\n",
    "\n",
    "- Create an identity matrix with `np.eye()`"
   ]
  },
  {
   "cell_type": "code",
   "execution_count": null,
   "id": "81121593",
   "metadata": {},
   "outputs": [],
   "source": [
    "D = np.eye(3)\n",
    "D"
   ]
  },
  {
   "cell_type": "markdown",
   "id": "0d1e93f9",
   "metadata": {},
   "source": [
    "- Create a random matrix (values between 0 and 1) with `np.random.random()`"
   ]
  },
  {
   "cell_type": "code",
   "execution_count": null,
   "id": "a854210e",
   "metadata": {},
   "outputs": [],
   "source": [
    "E = np.random.random((3,5))  \n",
    "E"
   ]
  },
  {
   "cell_type": "markdown",
   "id": "bee714c4",
   "metadata": {},
   "source": [
    "- [Many more ways to create!](https://numpy.org/doc/stable/reference/routines.array-creation.html)"
   ]
  },
  {
   "cell_type": "markdown",
   "id": "d9374868",
   "metadata": {
    "lines_to_next_cell": 0
   },
   "source": [
    "---\n",
    "\n",
    "# Reshaping an Array\n",
    "\n",
    "- Reshape an array with the `.reshape()` method\n",
    "\n",
    ".left45["
   ]
  },
  {
   "cell_type": "code",
   "execution_count": null,
   "id": "a0cc46b8",
   "metadata": {
    "lines_to_next_cell": 0
   },
   "outputs": [],
   "source": [
    "F = np.random.random((10,1))  \n",
    "F\n",
    "F.shape"
   ]
  },
  {
   "cell_type": "markdown",
   "id": "800e0f88",
   "metadata": {
    "lines_to_next_cell": 0
   },
   "source": [
    "]\n",
    ".right45["
   ]
  },
  {
   "cell_type": "code",
   "execution_count": null,
   "id": "f4a13422",
   "metadata": {
    "lines_to_next_cell": 0
   },
   "outputs": [],
   "source": [
    "G = F.reshape(1, -1) #-1 flattens to a 1D array\n",
    "G\n",
    "G.shape"
   ]
  },
  {
   "cell_type": "markdown",
   "id": "76eab904",
   "metadata": {},
   "source": [
    "]\n",
    "\n",
    "---\n",
    "\n",
    "# Reshaping an Array\n",
    "\n",
    "- Reshape an array with the `.reshape()` method"
   ]
  },
  {
   "cell_type": "code",
   "execution_count": null,
   "id": "36da4a0b",
   "metadata": {},
   "outputs": [],
   "source": [
    "G = F.reshape(2, 5) \n",
    "G"
   ]
  },
  {
   "cell_type": "markdown",
   "id": "a03a4fa2",
   "metadata": {},
   "source": [
    "- Careful!  This is a view of the original array"
   ]
  },
  {
   "cell_type": "code",
   "execution_count": null,
   "id": "29ed7932",
   "metadata": {},
   "outputs": [],
   "source": [
    "G.base is None\n",
    "G.base"
   ]
  },
  {
   "cell_type": "markdown",
   "id": "1fa8e9e7",
   "metadata": {},
   "source": [
    "---\n",
    "\n",
    "# Copying an Array\n",
    "\n",
    "- Instead, copy with `.copy()` method"
   ]
  },
  {
   "cell_type": "code",
   "execution_count": null,
   "id": "c4e384ae",
   "metadata": {
    "lines_to_next_cell": 0
   },
   "outputs": [],
   "source": [
    "H = F.reshape(2, 5).copy()\n",
    "H.base is None\n",
    "H.base"
   ]
  },
  {
   "cell_type": "markdown",
   "id": "07d3840a",
   "metadata": {},
   "source": []
  },
  {
   "cell_type": "markdown",
   "id": "0aeddbd2",
   "metadata": {},
   "source": [
    "---\n",
    "\n",
    "# Indexing an Array\n",
    "\n",
    "- Access in the same was as lists `[]`"
   ]
  },
  {
   "cell_type": "code",
   "execution_count": null,
   "id": "06325ebe",
   "metadata": {
    "tags": [
     "remove_input"
    ]
   },
   "outputs": [],
   "source": [
    "import numpy as np"
   ]
  },
  {
   "cell_type": "code",
   "execution_count": null,
   "id": "f620a5a9",
   "metadata": {
    "lines_to_next_cell": 2
   },
   "outputs": [],
   "source": [
    "b = np.array([1, 2, 3])\n",
    "print(b[0], b[1], b[2])\n",
    "b[0] = 5\n",
    "b"
   ]
  },
  {
   "cell_type": "markdown",
   "id": "cba4d8cf",
   "metadata": {},
   "source": [
    "---\n",
    "\n",
    "# Indexing an Array\n",
    "\n",
    "- Depending on the dimensions, you add the required commas"
   ]
  },
  {
   "cell_type": "code",
   "execution_count": null,
   "id": "a281f152",
   "metadata": {
    "lines_to_next_cell": 2
   },
   "outputs": [],
   "source": [
    "E = np.random.random((3, 2, 2))  \n",
    "E\n",
    "print(E[0, 0, 0], E[0, 1, 0], E[1, 0, 1])  "
   ]
  },
  {
   "cell_type": "markdown",
   "id": "58f3b038",
   "metadata": {},
   "source": [
    "---\n",
    "\n",
    "# Slicing an Array\n",
    "\n",
    "- Recall `[start:end]` for slicing \n",
    "\n",
    "    + Returns everything from start up to and **excluding** end\n",
    "    + Leaving start blank implies a 0\n",
    "    + Leaving end blank returns everything from start through the end of the array\n",
    "\n",
    "\n",
    "---\n",
    "\n",
    "# Slicing an Array\n",
    "\n",
    "- Recall `[start:end]` for slicing "
   ]
  },
  {
   "cell_type": "code",
   "execution_count": null,
   "id": "a66d02f1",
   "metadata": {
    "lines_to_next_cell": 0,
    "tags": [
     "remove_input"
    ]
   },
   "outputs": [],
   "source": [
    "import numpy as np"
   ]
  },
  {
   "cell_type": "code",
   "execution_count": null,
   "id": "4e30e698",
   "metadata": {
    "lines_to_next_cell": 2
   },
   "outputs": [],
   "source": [
    "A = np.array([\n",
    "  [1,2,3,4], \n",
    "  [5,6,7,8], \n",
    "  [9,10,11,12]])\n",
    "A\n",
    "B = A[:2, 1:3]\n",
    "B"
   ]
  },
  {
   "cell_type": "markdown",
   "id": "8191a866",
   "metadata": {},
   "source": [
    "---\n",
    "\n",
    "# Careful with Modifying"
   ]
  },
  {
   "cell_type": "code",
   "execution_count": null,
   "id": "18e6a774",
   "metadata": {},
   "outputs": [],
   "source": [
    "A = np.array([\n",
    "  [1,2,3,4], \n",
    "  [5,6,7,8], \n",
    "  [9,10,11,12]])\n",
    "\n",
    "B = A[:2, 1:3]"
   ]
  },
  {
   "cell_type": "markdown",
   "id": "91625a3c",
   "metadata": {},
   "source": [
    "Changing an element of `B` changes `A`!"
   ]
  },
  {
   "cell_type": "code",
   "execution_count": null,
   "id": "4f439070",
   "metadata": {
    "lines_to_next_cell": 2
   },
   "outputs": [],
   "source": [
    "B[0, 0] = 919\n",
    "A"
   ]
  },
  {
   "cell_type": "markdown",
   "id": "7a110b74",
   "metadata": {
    "lines_to_next_cell": 0
   },
   "source": [
    "---\n",
    "\n",
    "# Returning All of One Index\n",
    "\n",
    "- Use a `:` with nothing else\n",
    "\n",
    ".left45["
   ]
  },
  {
   "cell_type": "code",
   "execution_count": null,
   "id": "f7442efd",
   "metadata": {
    "lines_to_next_cell": 0
   },
   "outputs": [],
   "source": [
    "A = np.array([\n",
    "  [1,2,3,4], \n",
    "  [5,6,7,8], \n",
    "  [9,10,11,12]])\n",
    "A1 = A[1, :]\n",
    "A1\n",
    "A1.shape"
   ]
  },
  {
   "cell_type": "markdown",
   "id": "be847beb",
   "metadata": {
    "lines_to_next_cell": 0
   },
   "source": [
    "]\n",
    ".right45["
   ]
  },
  {
   "cell_type": "code",
   "execution_count": null,
   "id": "926d855a",
   "metadata": {
    "lines_to_next_cell": 0
   },
   "outputs": [],
   "source": [
    "A2 = A[1:3, :]  \n",
    "A2\n",
    "A2.shape"
   ]
  },
  {
   "cell_type": "markdown",
   "id": "7f2b4a0d",
   "metadata": {},
   "source": [
    "]"
   ]
  },
  {
   "cell_type": "markdown",
   "id": "79e3bd0f",
   "metadata": {},
   "source": [
    "---\n",
    "\n",
    "# Operations on Arrays\n",
    "\n",
    "- We saw that multiplying by a constant was performed elementwise  \n",
    "- All basic functions act elementwise"
   ]
  },
  {
   "cell_type": "code",
   "execution_count": null,
   "id": "b54a5055",
   "metadata": {
    "tags": [
     "remove_input"
    ]
   },
   "outputs": [],
   "source": [
    "import numpy as np"
   ]
  },
  {
   "cell_type": "code",
   "execution_count": null,
   "id": "1544e982",
   "metadata": {
    "lines_to_next_cell": 0
   },
   "outputs": [],
   "source": [
    "x = np.array([\n",
    "  [1,2],\n",
    "  [3,4]])\n",
    "y = np.array([\n",
    "  [5,6],\n",
    "  [7,8]])\n",
    "  \n",
    "np.add(x, y) \n",
    "x + 10"
   ]
  },
  {
   "cell_type": "markdown",
   "id": "6feca7f1",
   "metadata": {},
   "source": []
  },
  {
   "cell_type": "markdown",
   "id": "f08bd8cc",
   "metadata": {},
   "source": [
    "---\n",
    "\n",
    "# Operations on Arrays\n",
    "\n",
    "- We saw that multiplying by a constant was performed elementwise  \n",
    "- All basic functions act element-wise"
   ]
  },
  {
   "cell_type": "code",
   "execution_count": null,
   "id": "712120d2",
   "metadata": {
    "lines_to_next_cell": 2
   },
   "outputs": [],
   "source": [
    "x = np.array([\n",
    "  [1,2],\n",
    "  [3,4]])\n",
    "y = np.array([\n",
    "  [5,6],\n",
    "  [7,8]])\n",
    "  \n",
    "np.multiply(x, y, where = (x >= 3), out = x) #x * y would give basic element-wise multiplication\n",
    "x / y"
   ]
  },
  {
   "cell_type": "markdown",
   "id": "2b5af01b",
   "metadata": {},
   "source": [
    "---\n",
    "\n",
    "# Operations on Arrays\n",
    "\n",
    "- `sqrt()` function can be used to find the square roots of the elements of a matrix"
   ]
  },
  {
   "cell_type": "code",
   "execution_count": null,
   "id": "c6eb5c8e",
   "metadata": {
    "lines_to_next_cell": 2
   },
   "outputs": [],
   "source": [
    "x = np.array([\n",
    "  [1,2],\n",
    "  [3,4]])\n",
    "y = np.array([\n",
    "  [5,6],\n",
    "  [7,8]])\n",
    "  \n",
    "np.sqrt(x)"
   ]
  },
  {
   "cell_type": "markdown",
   "id": "0e2a332f",
   "metadata": {},
   "source": [
    "---\n",
    "\n",
    "# Operations on Arrays\n",
    "\n",
    "- `np.linalg.inv()` will provide the inverse of a square matrix"
   ]
  },
  {
   "cell_type": "code",
   "execution_count": null,
   "id": "407a0c82",
   "metadata": {
    "lines_to_next_cell": 2
   },
   "outputs": [],
   "source": [
    "x = np.array([\n",
    "  [1,2],\n",
    "  [3,4]])\n",
    "y = np.array([\n",
    "  [5,6],\n",
    "  [7,8]])\n",
    "  \n",
    "np.linalg.inv(x)"
   ]
  },
  {
   "cell_type": "markdown",
   "id": "02b3385d",
   "metadata": {},
   "source": [
    "---\n",
    "\n",
    "# Operations on Arrays\n",
    "\n",
    "- `matmul()` function can be used for matrix multiplication"
   ]
  },
  {
   "cell_type": "code",
   "execution_count": null,
   "id": "76839bed",
   "metadata": {
    "lines_to_next_cell": 2
   },
   "outputs": [],
   "source": [
    "x = np.array([\n",
    "  [1,2],\n",
    "  [3,4]])\n",
    "y = np.array([\n",
    "  [5,6],\n",
    "  [7,8]])\n",
    "  \n",
    "np.matmul(x, y)"
   ]
  },
  {
   "cell_type": "markdown",
   "id": "9ea43405",
   "metadata": {},
   "source": [
    "---\n",
    "\n",
    "# Operations on Arrays\n",
    "\n",
    "- NumPy has some useful functions for performing basic computations on arrays"
   ]
  },
  {
   "cell_type": "code",
   "execution_count": null,
   "id": "8debe5ea",
   "metadata": {},
   "outputs": [],
   "source": [
    "x = np.array([\n",
    "  [1,2,10],\n",
    "  [3,4,11]])\n",
    "np.sum(x)"
   ]
  },
  {
   "cell_type": "markdown",
   "id": "022e5673",
   "metadata": {},
   "source": [
    "- Column-wise and row-wise sums"
   ]
  },
  {
   "cell_type": "code",
   "execution_count": null,
   "id": "3ea62d00",
   "metadata": {
    "lines_to_next_cell": 2
   },
   "outputs": [],
   "source": [
    "x.shape\n",
    "np.sum(x, axis=0)\n",
    "np.sum(x, axis=1)"
   ]
  },
  {
   "cell_type": "markdown",
   "id": "ad7bf21c",
   "metadata": {},
   "source": [
    "---\n",
    "\n",
    "# Operations on Arrays\n",
    "\n",
    "- Combine arrays (appropriately sized)"
   ]
  },
  {
   "cell_type": "code",
   "execution_count": null,
   "id": "ae12f4d3",
   "metadata": {},
   "outputs": [],
   "source": [
    "x = np.array([\n",
    "  [1,2],\n",
    "  [3,4]])\n",
    "y = np.array([\n",
    "  [5,6],\n",
    "  [7,8]])\n",
    "  \n",
    "np.hstack((x, y))\n",
    "np.vstack((x, y))"
   ]
  },
  {
   "cell_type": "markdown",
   "id": "e22cb072",
   "metadata": {},
   "source": [
    "- [Lots of operations!](https://numpy.org/doc/stable/reference/routines.array-manipulation.html)\n",
    "\n",
    "---\n",
    "\n",
    "# To JupyterLab!  \n",
    "\n",
    "- Create some arrays\n",
    "\n",
    "- Loop through the values\n",
    "\n",
    "    + Check out `np.nditer()`\n",
    "    \n",
    "- Apply some `ufuncs`"
   ]
  },
  {
   "cell_type": "markdown",
   "id": "95069951",
   "metadata": {},
   "source": [
    "---\n",
    "\n",
    "# Recap\n",
    "\n",
    "- `NumPy` is a widely used library that provides arrays\n",
    "\n",
    "    + Lots of functions to create arrays\n",
    "    \n",
    "    + Very fast computation and many useful functions for operating on arrays!"
   ]
  }
 ],
 "metadata": {
  "jupytext": {
   "cell_metadata_filter": "tags,message,warning,-all",
   "main_language": "python",
   "notebook_metadata_filter": "-all"
  }
 },
 "nbformat": 4,
 "nbformat_minor": 5
}
