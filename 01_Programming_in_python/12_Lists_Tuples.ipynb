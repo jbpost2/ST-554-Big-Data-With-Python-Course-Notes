{
 "cells": [
  {
   "cell_type": "raw",
   "id": "6ab58c60",
   "metadata": {},
   "source": [
    "---\n",
    "title: \"Lists & Tuples\"\n",
    "author: \"Justin Post (Some notes modified from Dr. Eric Chi)\"\n",
    "output:\n",
    "  xaringan::moon_reader:\n",
    "    seal: false\n",
    "    lib_dir: libs\n",
    "    css: [default, \"css/ncsu.css\", \"css/ncsu-fonts.css\", \"css/mycss.css\"]\n",
    "    nature:\n",
    "      beforeInit: [\"js/ncsu-scale.js\"]\n",
    "      highlightStyle: github\n",
    "      highlightLines: true\n",
    "      countIncrementalSlides: false\n",
    "      ratio: \"16:9\"\n",
    "    includes:\n",
    "      in_header: \"partials/header.html\"\n",
    "editor_options: \n",
    "  chunk_output_type: console\n",
    "---"
   ]
  },
  {
   "cell_type": "code",
   "execution_count": null,
   "id": "d18c6246",
   "metadata": {
    "lines_to_next_cell": 2,
    "message": false,
    "tags": [
     "remove_cell"
    ],
    "warning": false
   },
   "outputs": [],
   "source": [
    "%%R\n",
    "options(htmltools.dir.version = FALSE)\n",
    "knitr::opts_chunk$set(\n",
    "  message = FALSE,\n",
    "  warning = FALSE,\n",
    "  dev = \"svg\",\n",
    "  fig.align = \"center\",\n",
    "  #fig.width = 11,\n",
    "  #fig.height = 5\n",
    "  cache = TRUE\n",
    ")\n",
    "\n",
    "# define vars\n",
    "om = par(\"mar\")\n",
    "lowtop = c(om[1],om[2],0.1,om[4])\n",
    "library(tidyverse)\n",
    "library(knitr)\n",
    "library(reticulate)\n",
    "use_python(\"C:\\\\Users\\\\jbpost2\\\\AppData\\\\Local\\\\Programs\\\\Python\\\\Python310\\\\python.exe\")\n",
    "#use_python(\"C:\\\\python\\\\python.exe\")\n",
    "options(dplyr.print_min = 5)\n",
    "options(reticulate.repl.quiet = TRUE)"
   ]
  },
  {
   "cell_type": "markdown",
   "id": "43b747c5",
   "metadata": {},
   "source": [
    "layout: false\n",
    "class: title-slide-section-red, middle\n",
    "\n",
    "# Lists & Tuples\n",
    "Justin Post\n",
    "\n",
    "---\n",
    "layout: true\n",
    "\n",
    "<div class=\"my-footer\"><img src=\"img/logo.png\" style=\"height: 60px;\"/></div> \n"
   ]
  },
  {
   "cell_type": "markdown",
   "id": "c0a12dcd",
   "metadata": {},
   "source": [
    "---\n",
    "\n",
    "# Course Plan\n",
    "\n",
    "- Course split into four topics\n",
    "\n",
    "    1. Programming in `python`\n",
    "\n",
    "    2. Big Data Management\n",
    "\n",
    "    3. Modeling Big Data (with `Spark` via `pyspark`)\n",
    "\n",
    "    4. Streaming Data\n",
    "\n",
    "\n",
    "---\n",
    "\n",
    "# Programming in Python (Prep for Dealing with Big Data)\n",
    "\n",
    "- `JupyterLab` as our IDE (interactive development environment)\n",
    "- Basic Use of Python\n",
    "- Markdown capabilities\n",
    "- Python Modules\n",
    "\n",
    "<br>\n",
    "\n",
    "- Summarizing Data Ideas\n",
    "- Basic data types & Writing Functions\n",
    "- Control flow (if/then/else, Looping)\n",
    "\n",
    "<br>\n",
    "\n",
    "- Compound data types (including `Numpy` arrays, `pandas` data frames)\n",
    "- Summarizing data\n",
    "- Common models and model evaluation"
   ]
  },
  {
   "cell_type": "markdown",
   "id": "4439e91c",
   "metadata": {},
   "source": [
    "---\n",
    "\n",
    "# Plan\n",
    "\n",
    "Go through common data types\n",
    "\n",
    "- Learn how to create\n",
    "- Consider commonly used functions and methods\n",
    "- See control flow and other tricks along the way\n",
    "\n",
    "This topic, compound objects:\n",
    "- **Lists** and **Tuples**"
   ]
  },
  {
   "cell_type": "markdown",
   "id": "fe956a98",
   "metadata": {},
   "source": [
    "---\n",
    "\n",
    "# Lists & Tuples\n",
    "\n",
    "Properties of lists and tuples:\n",
    "\n",
    "- One-dimensional  \n",
    "- Heterogenous  \n",
    "- Can have duplicate values  \n",
    "\n",
    "A few differences:\n",
    "\n",
    "- lists are mutable but tuples are not\n",
    "- lists take up more memory"
   ]
  },
  {
   "cell_type": "markdown",
   "id": "a85fc93f",
   "metadata": {},
   "source": [
    "---\n",
    "\n",
    "# Constructing a List\n",
    "\n",
    "Use \n",
    "- `[element1, element2]`\n",
    "- `list((element1, element2, ...))` \n",
    "- an empty list and use the append method to add elements\n",
    "- list comprehensions"
   ]
  },
  {
   "cell_type": "markdown",
   "id": "e60c0b7c",
   "metadata": {},
   "source": [
    "---\n",
    "\n",
    "# Constructing a List\n",
    "\n",
    "- Create an empty list and use the append method to add elements"
   ]
  },
  {
   "cell_type": "code",
   "execution_count": null,
   "id": "f696c0e6",
   "metadata": {},
   "outputs": [],
   "source": [
    "mylist = [] \n",
    "# or\n",
    "mylist = list()"
   ]
  },
  {
   "cell_type": "markdown",
   "id": "c4dbc7c8",
   "metadata": {},
   "source": [
    "- Add elements with `.append()`"
   ]
  },
  {
   "cell_type": "code",
   "execution_count": null,
   "id": "4bd178fe",
   "metadata": {
    "lines_to_next_cell": 0
   },
   "outputs": [],
   "source": [
    "mylist.append(\"Dog\")\n",
    "mylist.append(\"Cat\")\n",
    "mylist"
   ]
  },
  {
   "cell_type": "markdown",
   "id": "d97cdc2a",
   "metadata": {},
   "source": []
  },
  {
   "cell_type": "markdown",
   "id": "fcceaef5",
   "metadata": {},
   "source": [
    "---\n",
    "\n",
    "# Constructing a List\n",
    "\n",
    "- Create an empty list and use the append method to add elements\n",
    "- Often used with a for loop"
   ]
  },
  {
   "cell_type": "code",
   "execution_count": null,
   "id": "bc3b8b7d",
   "metadata": {
    "lines_to_next_cell": 2
   },
   "outputs": [],
   "source": [
    "animals = [\"Dog\", \"Cat\", \"Horse\", \"Frog\", \"Cow\", \"Buffalo\", \"Deer\", \"Fish\", \"Bird\", \"Fox\", \"Racoon\"]\n",
    "mylist = []\n",
    "\n",
    "for x in animals:\n",
    "    if \"o\" in x:\n",
    "        mylist.append(x)\n",
    "    \n",
    "mylist"
   ]
  },
  {
   "cell_type": "markdown",
   "id": "4223ee59",
   "metadata": {},
   "source": [
    "---\n",
    "\n",
    "# Constructing a List\n",
    "\n",
    "- Rather than write the loop out, you can use list comprehensions (shorthand!)"
   ]
  },
  {
   "cell_type": "code",
   "execution_count": null,
   "id": "b194556a",
   "metadata": {},
   "outputs": [],
   "source": [
    "animals = [\"Dog\", \"Cat\", \"Horse\", \"Frog\", \"Cow\", \"Buffalo\", \"Deer\", \"Fish\", \"Bird\", \"Fox\", \"Racoon\"]\n",
    "mylist = []\n",
    "for x in animals:\n",
    "    mylist.append(x)"
   ]
  },
  {
   "cell_type": "code",
   "execution_count": null,
   "id": "2569e54e",
   "metadata": {},
   "outputs": [],
   "source": [
    "mylist = [x for x in animals]\n",
    "mylist"
   ]
  },
  {
   "cell_type": "markdown",
   "id": "6cc7b042",
   "metadata": {},
   "source": [
    "`[expression for member in iterable]`\n",
    "\n",
    "---\n",
    "\n",
    "# Constructing a List\n",
    "\n",
    "- Rather than write the loop out, you can use list comprehensions (shorthand!)"
   ]
  },
  {
   "cell_type": "code",
   "execution_count": null,
   "id": "d4ebffc9",
   "metadata": {},
   "outputs": [],
   "source": [
    "animals = [\"Dog\", \"Cat\", \"Horse\", \"Frog\", \"Cow\", \"Buffalo\", \"Deer\", \"Fish\", \"Bird\", \"Fox\", \"Racoon\"]\n",
    "for x in animals:\n",
    "    if \"o\" in x:\n",
    "        mylist.append(x)"
   ]
  },
  {
   "cell_type": "code",
   "execution_count": null,
   "id": "124b30c0",
   "metadata": {},
   "outputs": [],
   "source": [
    "mylist = [x for x in animals if \"o\" in x]\n",
    "mylist"
   ]
  },
  {
   "cell_type": "markdown",
   "id": "b1185f14",
   "metadata": {},
   "source": [
    "`[expression for member in iterable (if conditional)]`\n"
   ]
  },
  {
   "cell_type": "markdown",
   "id": "448df3a7",
   "metadata": {},
   "source": [
    "---\n",
    "\n",
    "# Constructing a List\n",
    "\n",
    "- Rather than write the loop out, you can use list comprehensions (shorthand!)"
   ]
  },
  {
   "cell_type": "code",
   "execution_count": null,
   "id": "7779d49b",
   "metadata": {
    "lines_to_next_cell": 0
   },
   "outputs": [],
   "source": [
    "animals = [\"Dog\", \"Cat\", \"Horse\", \"Frog\", \"Cow\", \"Buffalo\", \"Deer\", \"Fish\", \"Bird\", \"Fox\", \"Racoon\"]\n",
    "mylist = []\n",
    "\n",
    "for x in animals:\n",
    "    if \"o\" in x:\n",
    "        mylist.append(x.upper())\n",
    "    \n",
    "mylist"
   ]
  },
  {
   "cell_type": "markdown",
   "id": "59c85ae9",
   "metadata": {},
   "source": []
  },
  {
   "cell_type": "markdown",
   "id": "a560d0d1",
   "metadata": {},
   "source": [
    "---\n",
    "\n",
    "# Constructing a List\n",
    "\n",
    "- Rather than write the loop out, you can use list comprehensions (shorthand!)"
   ]
  },
  {
   "cell_type": "code",
   "execution_count": null,
   "id": "64a04c46",
   "metadata": {},
   "outputs": [],
   "source": [
    "animals = [\"Dog\", \"Cat\", \"Horse\", \"Frog\", \"Cow\", \"Buffalo\", \"Deer\", \"Fish\", \"Bird\", \"Fox\", \"Racoon\"]\n",
    "mylist = []\n",
    "\n",
    "for x in animals:\n",
    "    if \"o\" in x:\n",
    "        mylist.append(x.upper())\n",
    "    "
   ]
  },
  {
   "cell_type": "code",
   "execution_count": null,
   "id": "243ce023",
   "metadata": {
    "lines_to_next_cell": 2
   },
   "outputs": [],
   "source": [
    "mylist = [x.upper() for x in animals if \"o\" in x]\n",
    "mylist"
   ]
  },
  {
   "cell_type": "markdown",
   "id": "8293335b",
   "metadata": {},
   "source": [
    "---\n",
    "\n",
    "# Reminder About Strings\n",
    "\n",
    "- Strings are a sequence type object (so you can iterate over them naturally)"
   ]
  },
  {
   "cell_type": "code",
   "execution_count": null,
   "id": "848345d1",
   "metadata": {},
   "outputs": [],
   "source": [
    "mylist = []\n",
    "for x in \"Man do I love learning all this python!\":\n",
    "    if x in \"aeiou\":\n",
    "        mylist.append(x)\n",
    "mylist"
   ]
  },
  {
   "cell_type": "markdown",
   "id": "ce50458c",
   "metadata": {},
   "source": [
    "---\n",
    "\n",
    "# Reminder About Strings\n",
    "\n",
    "- Strings are a sequence type object (so you can iterate over them naturally)"
   ]
  },
  {
   "cell_type": "code",
   "execution_count": null,
   "id": "8f7f967a",
   "metadata": {},
   "outputs": [],
   "source": [
    "mylist = []\n",
    "for x in \"Man do I love learning all this python!\":\n",
    "    if x in \"aeiou\":\n",
    "        mylist.append(x)"
   ]
  },
  {
   "cell_type": "code",
   "execution_count": null,
   "id": "5f4442c3",
   "metadata": {
    "lines_to_next_cell": 2
   },
   "outputs": [],
   "source": [
    "mylist = [x for x in \"Man do I love learning all this python!\" if x in \"aeiou\"]\n",
    "mylist"
   ]
  },
  {
   "cell_type": "markdown",
   "id": "f3f5a85b",
   "metadata": {
    "lines_to_next_cell": 0
   },
   "source": [
    "---\n",
    "\n",
    "# List Operations (Indexing & Slicing)\n",
    "\n",
    "- Index with a `[]` (just like strings)\n",
    "- Counting starts at 0\n",
    "\n",
    ".left35["
   ]
  },
  {
   "cell_type": "code",
   "execution_count": null,
   "id": "7d2c9c1b",
   "metadata": {
    "lines_to_next_cell": 0
   },
   "outputs": [],
   "source": [
    "x = [10, 15, 10, 100, \"Help!\"]\n",
    "x[0]\n",
    "x[1]\n",
    "x[-1]"
   ]
  },
  {
   "cell_type": "markdown",
   "id": "b8919ed1",
   "metadata": {},
   "source": [
    "]"
   ]
  },
  {
   "cell_type": "markdown",
   "id": "d5225c21",
   "metadata": {},
   "source": [
    "--\n",
    "\n",
    ".right55[\n",
    "- Multiple elements at once with `:`"
   ]
  },
  {
   "cell_type": "code",
   "execution_count": null,
   "id": "aaa8bb0e",
   "metadata": {
    "lines_to_next_cell": 0
   },
   "outputs": [],
   "source": [
    "x = [10, 15, 10, 100, \"Help!\"]\n",
    "x[:2]\n",
    "x[1:]\n",
    "x[1:3]\n",
    "x[1:4:2]"
   ]
  },
  {
   "cell_type": "markdown",
   "id": "e9d51048",
   "metadata": {},
   "source": [
    "]"
   ]
  },
  {
   "cell_type": "markdown",
   "id": "f0a069ee",
   "metadata": {},
   "source": [
    "---\n",
    "\n",
    "# Lists are Mutable\n",
    "\n",
    "- We can replace or change elements of a list"
   ]
  },
  {
   "cell_type": "code",
   "execution_count": null,
   "id": "a9adea2f",
   "metadata": {
    "lines_to_next_cell": 0
   },
   "outputs": [],
   "source": [
    "x = [10, 15, 10, 100, \"Help!\"]\n",
    "x[0] = 11\n",
    "x\n",
    "x[1] = [\"hi\", \"ho\"]\n",
    "x\n",
    "x[1:3] = [1, 2]\n",
    "x"
   ]
  },
  {
   "cell_type": "markdown",
   "id": "3747ffa4",
   "metadata": {},
   "source": []
  },
  {
   "cell_type": "markdown",
   "id": "4d88e239",
   "metadata": {},
   "source": [
    "---\n",
    "\n",
    "# List Methods  \n",
    "\n",
    "[Many useful methods](https://docs.python.org/3/tutorial/datastructures.html#tuples-and-sequences) to modify lists:\n",
    "\n",
    "- `mylist.append(object_to_add)`"
   ]
  },
  {
   "cell_type": "code",
   "execution_count": null,
   "id": "19ee51db",
   "metadata": {},
   "outputs": [],
   "source": [
    "x = [x for x in range(1,10)]\n",
    "y = [y for y in \"abcde\"]\n",
    "x.append(y) #modifies x\n",
    "x"
   ]
  },
  {
   "cell_type": "markdown",
   "id": "59de66c8",
   "metadata": {},
   "source": [
    "- `mylist.extend(object_to_add)`"
   ]
  },
  {
   "cell_type": "code",
   "execution_count": null,
   "id": "f4171b9f",
   "metadata": {
    "lines_to_next_cell": 0
   },
   "outputs": [],
   "source": [
    "x = [x for x in range(1,10)]\n",
    "y = [y for y in \"abcde\"]\n",
    "x.extend(y) #modifies x and iterates over list elements\n",
    "x"
   ]
  },
  {
   "cell_type": "code",
   "execution_count": null,
   "id": "ba6f84ab",
   "metadata": {
    "lines_to_next_cell": 2
   },
   "outputs": [],
   "source": [
    "#x + y is similar but doesn't overwrite x"
   ]
  },
  {
   "cell_type": "markdown",
   "id": "e9650691",
   "metadata": {},
   "source": [
    "---\n",
    "\n",
    "# List Methods  \n",
    "\n",
    "[Many useful methods](https://docs.python.org/3/tutorial/datastructures.html#tuples-and-sequences) to modify lists:\n",
    "\n",
    "- `mylist.insert(index, object_to_add)`"
   ]
  },
  {
   "cell_type": "code",
   "execution_count": null,
   "id": "b77c7b49",
   "metadata": {},
   "outputs": [],
   "source": [
    "y = [y for y in \"abcde\"]\n",
    "y.insert(2, 30) #modifies y\n",
    "y"
   ]
  },
  {
   "cell_type": "markdown",
   "id": "f51f4467",
   "metadata": {},
   "source": [
    "- `mylist.remove(element_to_remove)`"
   ]
  },
  {
   "cell_type": "code",
   "execution_count": null,
   "id": "c8ed2717",
   "metadata": {
    "lines_to_next_cell": 2
   },
   "outputs": [],
   "source": [
    "y.remove(\"d\") #modifies y \n",
    "y"
   ]
  },
  {
   "cell_type": "markdown",
   "id": "42e8043b",
   "metadata": {},
   "source": [
    "---\n",
    "\n",
    "# List Methods  \n",
    "\n",
    "[Many useful methods](https://docs.python.org/3/tutorial/datastructures.html#tuples-and-sequences) to modify lists:\n",
    "\n",
    "- `mylist.count(value)`"
   ]
  },
  {
   "cell_type": "code",
   "execution_count": null,
   "id": "fa5cad48",
   "metadata": {
    "lines_to_next_cell": 2
   },
   "outputs": [],
   "source": [
    "x = [x for x in range(0, 4)] * 4\n",
    "x\n",
    "x.count(1)"
   ]
  },
  {
   "cell_type": "markdown",
   "id": "2fa2dc64",
   "metadata": {},
   "source": [
    "---\n",
    "\n",
    "# List Methods  \n",
    "\n",
    "[Many useful methods](https://docs.python.org/3/tutorial/datastructures.html#tuples-and-sequences) to modify lists:\n",
    "\n",
    "- `mylist.index(value)`"
   ]
  },
  {
   "cell_type": "code",
   "execution_count": null,
   "id": "8a434843",
   "metadata": {
    "lines_to_next_cell": 0
   },
   "outputs": [],
   "source": [
    "y = [y for y in \"abcde\"]\n",
    "y.extend([\"z\", \"y\"] * 3)\n",
    "y\n",
    "y.index(\"y\")\n",
    "y.index(\"y\", y.index(\"y\") + 1)"
   ]
  },
  {
   "cell_type": "markdown",
   "id": "91c72cc0",
   "metadata": {},
   "source": [
    "\n"
   ]
  },
  {
   "cell_type": "markdown",
   "id": "0e0d3293",
   "metadata": {},
   "source": [
    "---\n",
    "\n",
    "# List Packing & Unpacking\n",
    "\n",
    "We can **pack** a list"
   ]
  },
  {
   "cell_type": "code",
   "execution_count": null,
   "id": "ec847055",
   "metadata": {},
   "outputs": [],
   "source": [
    "animals = [\"Dog\", \"Cat\", \"Horse\", \"Frog\", \"Cow\", \"Buffalo\", \"Deer\", \"Fish\", \"Bird\", \"Fox\", \"Racoon\"]\n",
    "short_animals = animals[:3]\n",
    "\n",
    "first, second, third = short_animals\n",
    "print(first + \" \" + second + \" \" + third)"
   ]
  },
  {
   "cell_type": "markdown",
   "id": "a6cfb8a7",
   "metadata": {},
   "source": [
    "--\n",
    "\n",
    "We can also pack leftover elements into a list"
   ]
  },
  {
   "cell_type": "code",
   "execution_count": null,
   "id": "a7eab489",
   "metadata": {},
   "outputs": [],
   "source": [
    "first, second, third, *other = animals\n",
    "print(first + \" \" + second + \" \" + third)\n",
    "print(other)"
   ]
  },
  {
   "cell_type": "markdown",
   "id": "8c5ccfd5",
   "metadata": {},
   "source": [
    "---\n",
    "\n",
    "# List Packing & Unpacking\n",
    "\n",
    "Another way to pack"
   ]
  },
  {
   "cell_type": "code",
   "execution_count": null,
   "id": "79e960ca",
   "metadata": {
    "lines_to_next_cell": 0
   },
   "outputs": [],
   "source": [
    "animals = [\"Dog\", \"Cat\", \"Horse\", \"Frog\", \"Cow\", \"Buffalo\", \"Deer\", \"Fish\", \"Bird\", \"Fox\", \"Racoon\"]"
   ]
  },
  {
   "cell_type": "markdown",
   "id": "d4eb13e1",
   "metadata": {
    "lines_to_next_cell": 0
   },
   "source": [
    "`*other, second_last, last = animals`"
   ]
  },
  {
   "cell_type": "code",
   "execution_count": null,
   "id": "2fb70157",
   "metadata": {
    "lines_to_next_cell": 0,
    "tags": [
     "remove_input"
    ]
   },
   "outputs": [],
   "source": [
    "animals = [\"Dog\", \"Cat\", \"Horse\", \"Frog\", \"Cow\", \"Buffalo\", \"Deer\", \"Fish\", \"Bird\", \"Fox\", \"Racoon\"]\n",
    "*other, second_last, last = animals"
   ]
  },
  {
   "cell_type": "code",
   "execution_count": null,
   "id": "733c77d0",
   "metadata": {},
   "outputs": [],
   "source": [
    "print(other)\n",
    "print(second_last + \" \" + last)"
   ]
  },
  {
   "cell_type": "markdown",
   "id": "e39f0fef",
   "metadata": {},
   "source": [
    "--\n",
    "\n",
    "Or like this"
   ]
  },
  {
   "cell_type": "code",
   "execution_count": null,
   "id": "6a8af196",
   "metadata": {
    "lines_to_next_cell": 2
   },
   "outputs": [],
   "source": [
    "first, *_, last = animals\n",
    "print(first + \" \" + last)"
   ]
  },
  {
   "cell_type": "markdown",
   "id": "2df3f4f3",
   "metadata": {},
   "source": [
    "---\n",
    "\n",
    "# List Packing & Unpacking\n",
    "\n",
    "Later we'll look at **unpacking** a list when calling functions"
   ]
  },
  {
   "cell_type": "code",
   "execution_count": null,
   "id": "48e7d2df",
   "metadata": {
    "lines_to_next_cell": 0
   },
   "outputs": [],
   "source": [
    "def my_fun(a, b, c):\n",
    "    print(a, b, c)\n",
    "    \n",
    "fav_animals = [\"cat\", \"dog\", \"cow\"]\n",
    "my_fun(*fav_animals)"
   ]
  },
  {
   "cell_type": "markdown",
   "id": "c1a03b24",
   "metadata": {},
   "source": []
  },
  {
   "cell_type": "markdown",
   "id": "5f57718f",
   "metadata": {
    "lines_to_next_cell": 0
   },
   "source": [
    "---\n",
    "\n",
    "# Constructing Tuples\n",
    "\n",
    "- [Tuples](https://docs.python.org/3/tutorial/datastructures.html#tuples-and-sequences) are very similar to lists but aren't mutable\n",
    "- We create by separating elements with a `,`, `( )`, or `tuple(())`\n",
    "\n",
    ".left45["
   ]
  },
  {
   "cell_type": "code",
   "execution_count": null,
   "id": "e9ad90b1",
   "metadata": {
    "lines_to_next_cell": 0
   },
   "outputs": [],
   "source": [
    "tup1 = 3, 10, \"word\", True\n",
    "tup1\n",
    "tup2 = (1, 2, \"word\", False)\n",
    "tup2\n",
    "tup3 = tuple((tup1, tup2))\n",
    "tup3"
   ]
  },
  {
   "cell_type": "markdown",
   "id": "bfda00c6",
   "metadata": {
    "lines_to_next_cell": 0
   },
   "source": [
    "]\n",
    "\n",
    "--\n",
    "\n",
    ".left45["
   ]
  },
  {
   "cell_type": "code",
   "execution_count": null,
   "id": "86236af9",
   "metadata": {
    "lines_to_next_cell": 0
   },
   "outputs": [],
   "source": [
    "tup4 = tup1 + tup2\n",
    "tup4"
   ]
  },
  {
   "cell_type": "markdown",
   "id": "804d77f1",
   "metadata": {
    "lines_to_next_cell": 0
   },
   "source": [
    "]\n",
    "\n",
    ".left15[\n",
    "&nbsp;&nbsp;&nbsp;&nbsp;&nbsp;&nbsp;&nbsp;&nbsp;&nbsp;&nbsp;&nbsp;&nbsp;&nbsp;&nbsp;&nbsp;&nbsp;\n",
    "]\n",
    "\n",
    ".left45["
   ]
  },
  {
   "cell_type": "code",
   "execution_count": null,
   "id": "778ea622",
   "metadata": {
    "lines_to_next_cell": 0
   },
   "outputs": [],
   "source": [
    "tup5 = (1, [1, 3])\n",
    "tup5\n",
    "tup5 * 3\n",
    "tup5[1][1] = 5 #can still modify mutable elements\n",
    "tup5"
   ]
  },
  {
   "cell_type": "markdown",
   "id": "32d3d0b7",
   "metadata": {},
   "source": [
    "]"
   ]
  },
  {
   "cell_type": "markdown",
   "id": "fcb91440",
   "metadata": {},
   "source": [
    "---\n",
    "\n",
    "# Constructing Tuples\n",
    "\n",
    "- Can create a list with a list comprehension and then change it to a tuple"
   ]
  },
  {
   "cell_type": "code",
   "execution_count": null,
   "id": "7729c880",
   "metadata": {},
   "outputs": [],
   "source": [
    "y = [x for x in range(1, 10)]\n",
    "y = tuple(y)\n",
    "y"
   ]
  },
  {
   "cell_type": "markdown",
   "id": "b33f099b",
   "metadata": {},
   "source": [
    "--\n",
    "\n",
    "- Can sort of edit a tuple..."
   ]
  },
  {
   "cell_type": "code",
   "execution_count": null,
   "id": "2477fb0d",
   "metadata": {
    "lines_to_next_cell": 2
   },
   "outputs": [],
   "source": [
    "y = list(y)\n",
    "y.append(\"new element\")\n",
    "y = tuple(y)\n",
    "y"
   ]
  },
  {
   "cell_type": "markdown",
   "id": "fb5d45f4",
   "metadata": {},
   "source": [
    "---\n",
    "\n",
    "# Tuple Operations & Methods\n",
    "\n",
    "As with strings and lists:\n",
    "\n",
    "- We can index and slice using `[:]`\n",
    "\n",
    "- Concatenate with `+` and `*` \n",
    "\n",
    "- Some similar functions like `len()` and `count()`\n",
    "\n",
    "- Some similar methods like `.index()` and `.count()`\n",
    "\n",
    "- Can do packing and unpacking  \n",
    "\n",
    "---\n",
    "\n",
    "# To JupyterLab!  \n",
    "\n",
    "- Use the `map()` function to create a list\n",
    "\n",
    "- Check out the `zip()` function for iterating over multiple lists at the same time"
   ]
  },
  {
   "cell_type": "markdown",
   "id": "4506aa44",
   "metadata": {},
   "source": [
    "---\n",
    "\n",
    "# Recap\n",
    "\n",
    "- Lists and tuples are very similar\n",
    "\n",
    "    + Heterogenous elements\n",
    "    + Sequences\n",
    "    + Index with `[]`\n",
    "    \n",
    "- Lists are mutable but tuples are not\n",
    "\n",
    "- List comprehensions are a common quick way to populate a list\n",
    "\n"
   ]
  }
 ],
 "metadata": {
  "jupytext": {
   "cell_metadata_filter": "tags,warning,message,-all",
   "main_language": "python",
   "notebook_metadata_filter": "-all"
  }
 },
 "nbformat": 4,
 "nbformat_minor": 5
}
