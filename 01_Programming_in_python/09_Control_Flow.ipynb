{
 "cells": [
  {
   "cell_type": "raw",
   "id": "d55c014b",
   "metadata": {},
   "source": [
    "---\n",
    "title: \"Control Flow: If/Then/Else\"\n",
    "author: \"Justin Post (Some notes modified from Dr. Eric Chi)\"\n",
    "output:\n",
    "  xaringan::moon_reader:\n",
    "    seal: false\n",
    "    lib_dir: libs\n",
    "    css: [default, \"css/ncsu.css\", \"css/ncsu-fonts.css\", \"css/mycss.css\"]\n",
    "    nature:\n",
    "      beforeInit: [\"js/ncsu-scale.js\"]\n",
    "      highlightStyle: github\n",
    "      highlightLines: true\n",
    "      countIncrementalSlides: false\n",
    "      ratio: \"16:9\"\n",
    "    includes:\n",
    "      in_header: \"partials/header.html\"\n",
    "editor_options: \n",
    "  chunk_output_type: console\n",
    "---"
   ]
  },
  {
   "cell_type": "code",
   "execution_count": null,
   "id": "9c68a7b3",
   "metadata": {
    "lines_to_next_cell": 2,
    "message": false,
    "tags": [
     "remove_cell"
    ],
    "warning": false
   },
   "outputs": [],
   "source": [
    "%%R\n",
    "options(htmltools.dir.version = FALSE)\n",
    "knitr::opts_chunk$set(\n",
    "  message = FALSE,\n",
    "  warning = FALSE,\n",
    "  dev = \"svg\",\n",
    "  fig.align = \"center\",\n",
    "  #fig.width = 11,\n",
    "  #fig.height = 5\n",
    "  cache = TRUE\n",
    ")\n",
    "\n",
    "# define vars\n",
    "om = par(\"mar\")\n",
    "lowtop = c(om[1],om[2],0.1,om[4])\n",
    "library(tidyverse)\n",
    "library(knitr)\n",
    "library(reticulate)\n",
    "use_python(\"C:\\\\Users\\\\jbpost2\\\\AppData\\\\Local\\\\Programs\\\\Python\\\\Python310\\\\python.exe\")\n",
    "#use_python(\"C:\\\\python\\\\python.exe\")\n",
    "options(dplyr.print_min = 5)\n",
    "options(reticulate.repl.quiet = TRUE)"
   ]
  },
  {
   "cell_type": "markdown",
   "id": "497d1081",
   "metadata": {},
   "source": [
    "layout: false\n",
    "class: title-slide-section-red, middle\n",
    "\n",
    "# Control Flow: If Then Else\n",
    "Justin Post\n",
    "\n",
    "---\n",
    "layout: true\n",
    "\n",
    "<div class=\"my-footer\"><img src=\"img/logo.png\" style=\"height: 60px;\"/></div> "
   ]
  },
  {
   "cell_type": "markdown",
   "id": "9189981e",
   "metadata": {},
   "source": [
    "---\n",
    "\n",
    "# Control Flow\n",
    "\n",
    "- Control flow just refers to the order in which a language executes code\n",
    "\n",
    "- In python\n",
    "\n",
    "    + Using conditional logic (`if`, `elif`, and `else`)\n",
    "    + Looping (`for` or `while` for instance)\n",
    "\n",
    "\n",
    "---\n",
    "\n",
    "# Conditional Statements\n",
    "\n",
    "- Choose which portions of your code to execute by using conditional statements!\n",
    "\n",
    "- An `if` statement changes how a program behaves based on a condition \n",
    "\n",
    "      + Condition comes in the form of a `boolean`  \n",
    "      \n",
    "---\n",
    "\n",
    "# Conditional Statements\n",
    "\n",
    "- Choose which portions of your code to execute by using conditional statements!\n",
    "\n",
    "- An `if` statement changes how a program behaves based on a condition \n",
    "\n",
    "      + Condition comes in the form of a `boolean`  \n",
    "\n",
    "- Booleans are `True` or `False`\n",
    "\n",
    "    + Can be treated as 1 and 0\n",
    "    + Many functions to create bools (`.is_*()` methods, `bool()` function)\n",
    "\n",
    "\n",
    "---\n",
    "\n",
    "# `if` Syntax\n",
    "\n",
    "- Example of `if` with no further conditional logic:"
   ]
  },
  {
   "cell_type": "code",
   "execution_count": null,
   "id": "c8e8e086",
   "metadata": {
    "eval": false,
    "lines_to_next_cell": 2
   },
   "outputs": [],
   "source": [
    "if boolean:\n",
    "    #If boolean is true, execute the chunk of code that is indented\n",
    "    #Four spaces is recommended but any indentation can technically be used\n",
    "    statement1\n",
    "    statement2\n",
    "    \n",
    "#code not indented would then execute as normal"
   ]
  },
  {
   "cell_type": "markdown",
   "id": "5bf53ba7",
   "metadata": {},
   "source": [
    "---\n",
    "\n",
    "# `if` Example\n",
    "\n",
    "Printing different strings using `if` statements"
   ]
  },
  {
   "cell_type": "code",
   "execution_count": null,
   "id": "29230968",
   "metadata": {},
   "outputs": [],
   "source": [
    "temp = 30\n",
    "if temp < 50:\n",
    "    print(temp, \"degrees is cold.\")"
   ]
  },
  {
   "cell_type": "markdown",
   "id": "3dc3f4b8",
   "metadata": {},
   "source": [
    "---\n",
    "\n",
    "# `if` Example\n",
    "\n",
    "Printing different strings using `if` statements"
   ]
  },
  {
   "cell_type": "code",
   "execution_count": null,
   "id": "d6e67c64",
   "metadata": {
    "lines_to_next_cell": 2
   },
   "outputs": [],
   "source": [
    "temp = 100\n",
    "if temp < 50:\n",
    "    print(temp, \"degrees is cold.\")"
   ]
  },
  {
   "cell_type": "markdown",
   "id": "b8624778",
   "metadata": {},
   "source": [
    "---\n",
    "\n",
    "# `if` Example\n",
    "\n",
    "We can have multiple statements that are executed within a block if the condition is `True`. "
   ]
  },
  {
   "cell_type": "code",
   "execution_count": null,
   "id": "e3cf3282",
   "metadata": {
    "lines_to_next_cell": 2
   },
   "outputs": [],
   "source": [
    "temp = 30\n",
    "if temp < 50:\n",
    "    print(temp, \"degrees is cold.\")\n",
    "    print(\"Wear a jacket outside!\")"
   ]
  },
  {
   "cell_type": "markdown",
   "id": "27274468",
   "metadata": {},
   "source": [
    "---\n",
    "\n",
    "# `if` Example\n",
    "\n",
    "We can also have multiple if statements to execute different blocks depending on the condition."
   ]
  },
  {
   "cell_type": "code",
   "execution_count": null,
   "id": "f05ed244",
   "metadata": {
    "lines_to_next_cell": 2
   },
   "outputs": [],
   "source": [
    "temp = 100\n",
    "if temp < 50:\n",
    "    print(temp, \"degrees is cold.\")\n",
    "    print(\"Wear a jacket outside!\")\n",
    "if temp >= 50:\n",
    "    print(temp, \"degrees is not cold.\")"
   ]
  },
  {
   "cell_type": "markdown",
   "id": "42349130",
   "metadata": {},
   "source": [
    "---\n",
    "\n",
    "# `if` with `else` Syntax\n",
    "\n",
    "The `else` statement immediately following an `if` block allows for execution of code **only when** the above condition(s) were (all) `False`"
   ]
  },
  {
   "cell_type": "code",
   "execution_count": null,
   "id": "a1b69fb4",
   "metadata": {
    "eval": false,
    "lines_to_next_cell": 2
   },
   "outputs": [],
   "source": [
    "if boolean:\n",
    "    execute this code\n",
    "else:\n",
    "    execute this code"
   ]
  },
  {
   "cell_type": "markdown",
   "id": "2d0546b7",
   "metadata": {},
   "source": [
    "---\n",
    "\n",
    "# `if` with `else` Syntax\n",
    "\n",
    "The `else` statement immediately following an `if` block allows for execution of code **only when** the above condition(s) were (all) `False`"
   ]
  },
  {
   "cell_type": "code",
   "execution_count": null,
   "id": "8e76f695",
   "metadata": {
    "eval": false
   },
   "outputs": [],
   "source": [
    "if boolean:\n",
    "    execute this code\n",
    "else:\n",
    "    execute this code"
   ]
  },
  {
   "cell_type": "markdown",
   "id": "4c7dc69e",
   "metadata": {},
   "source": [
    "Equivalent to"
   ]
  },
  {
   "cell_type": "code",
   "execution_count": null,
   "id": "d374de1f",
   "metadata": {
    "eval": false,
    "lines_to_next_cell": 2
   },
   "outputs": [],
   "source": [
    "if boolean:\n",
    "    execute this code\n",
    "if not boolean:\n",
    "    execute this code"
   ]
  },
  {
   "cell_type": "markdown",
   "id": "6ce12110",
   "metadata": {},
   "source": [
    "---\n",
    "\n",
    "# `if` with `else` Example\n",
    "\n",
    "We can also have multiple if statements to execute different blocks depending on the condition."
   ]
  },
  {
   "cell_type": "code",
   "execution_count": null,
   "id": "a371b886",
   "metadata": {
    "lines_to_next_cell": 2
   },
   "outputs": [],
   "source": [
    "temp = 100\n",
    "if temp < 50:\n",
    "    print(temp, \"degrees is cold.\")\n",
    "    print(\"Wear a jacket outside!\")\n",
    "else:\n",
    "    print(temp, \"degrees is not cold.\")"
   ]
  },
  {
   "cell_type": "markdown",
   "id": "e8e20dd1",
   "metadata": {},
   "source": [
    "---\n",
    "\n",
    "# `if`, `elif`, and `else`  \n",
    "\n",
    "You can check additional conditions using `elif`"
   ]
  },
  {
   "cell_type": "code",
   "execution_count": null,
   "id": "636f2b05",
   "metadata": {
    "eval": false,
    "lines_to_next_cell": 2
   },
   "outputs": [],
   "source": [
    "if boolean1:\n",
    "    #if boolean1 is True\n",
    "    execute this code  \n",
    "elif boolean2:\n",
    "    #if boolean1 is False, check if boolean2 is True\n",
    "    #if True\n",
    "    execute this code\n",
    "elif boolean3:\n",
    "    #if boolean1 and boolean2 are False, check if boolean3 is True\n",
    "    #if True\n",
    "    execute this code\n",
    "else:\n",
    "    # if no conditions met\n",
    "    execute this code"
   ]
  },
  {
   "cell_type": "markdown",
   "id": "85871336",
   "metadata": {},
   "source": [
    "---\n",
    "\n",
    "# `if`, `elif`, and `else` Example"
   ]
  },
  {
   "cell_type": "code",
   "execution_count": null,
   "id": "58dd7395",
   "metadata": {
    "lines_to_next_cell": 2
   },
   "outputs": [],
   "source": [
    "temp = 40\n",
    "if temp < 50:\n",
    "    print(temp, \"degrees is cold.\")\n",
    "    print(\"Wear a jacket outside!\")\n",
    "elif temp < 70:\n",
    "    print(temp, \"degrees is kind of cold...\")\n",
    "    print(\"You may want to bring an umbrella in case it rains!\")\n",
    "else:\n",
    "    print(temp, \"degrees is not cold.\")"
   ]
  },
  {
   "cell_type": "markdown",
   "id": "3d878e0d",
   "metadata": {},
   "source": [
    "---\n",
    "\n",
    "# `if`, `elif`, and `else` Example"
   ]
  },
  {
   "cell_type": "code",
   "execution_count": null,
   "id": "333984d7",
   "metadata": {
    "lines_to_next_cell": 2
   },
   "outputs": [],
   "source": [
    "temp = 60\n",
    "if temp < 50:\n",
    "    print(temp, \"degrees is cold.\")\n",
    "    print(\"Wear a jacket outside!\")\n",
    "elif temp < 70:\n",
    "    print(temp, \"degrees is kind of cold...\")\n",
    "    print(\"You may want to bring an umbrella in case it rains!\")\n",
    "else:\n",
    "    print(temp, \"degrees is not cold.\")"
   ]
  },
  {
   "cell_type": "markdown",
   "id": "eda04aad",
   "metadata": {},
   "source": [
    "---\n",
    "\n",
    "# `if`, `elif`, and `else` Example"
   ]
  },
  {
   "cell_type": "code",
   "execution_count": null,
   "id": "581ae200",
   "metadata": {
    "lines_to_next_cell": 0
   },
   "outputs": [],
   "source": [
    "temp = 100\n",
    "if temp < 50:\n",
    "    print(temp, \"degrees is cold.\")\n",
    "    print(\"Wear a jacket outside!\")\n",
    "elif temp < 70:\n",
    "    print(temp, \"degrees is kind of cold...\")\n",
    "    print(\"You may want to bring an umbrella in case it rains!\")\n",
    "else:\n",
    "    print(temp, \"degrees is not cold.\")"
   ]
  },
  {
   "cell_type": "markdown",
   "id": "1c8344eb",
   "metadata": {},
   "source": []
  },
  {
   "cell_type": "markdown",
   "id": "4c61ea64",
   "metadata": {},
   "source": [
    "---\n",
    "\n",
    "# Jump to JupyterLab\n",
    "\n",
    "\"FizzBuzz\" Example\n",
    "\n",
    "Goal: Consider the integers 1 to 100:\n",
    "\n",
    "+ If divisible by both 3 and 5, print fizz buzz\n",
    "+ Else if divisible by 3, print fizz\n",
    "+ Else if divisible by 5, print buzz\n",
    "+ Otherwise print the number"
   ]
  },
  {
   "cell_type": "markdown",
   "id": "902c42d5",
   "metadata": {
    "lines_to_next_cell": 0
   },
   "source": [
    "---\n",
    "\n",
    "# Control Flow: Loops\n",
    "    \n",
    "- Often a repetitive task must be done  \n",
    "\n",
    "- Task requires a small change each time it is done  \n",
    "\n",
    "    + Copy and pasting the same code with minimal changes isn't ideal\n",
    "\n",
    "--\n",
    "\n",
    "- Example:  \n",
    "\n",
    "    + Suppose we've observed the eye colors of 15 people\n",
    "    + Eye color coded as either 1 (blue), 2 (brown), 3 (green), 4 (other)\n",
    "    + Want to create a new variable that has the descriptive values\n",
    "\n",
    "\n",
    "---\n",
    "\n",
    "# Loop Example\n",
    "\n",
    "- Example:  \n",
    "\n",
    "    + Suppose we've observed the eye colors of 15 people\n",
    "    + Eye color coded as either 1 (blue), 2 (brown), 3 (green), 4 (other)\n",
    "    + Want to create a new variable that has the descriptive values\n"
   ]
  },
  {
   "cell_type": "code",
   "execution_count": null,
   "id": "88f99d34",
   "metadata": {},
   "outputs": [],
   "source": [
    "#data stored in a 'list'\n",
    "eye_color = [3, 2, 2, 1, 2, 1, 2, 4, 3, 2, 2, 1, 2, 2]"
   ]
  },
  {
   "cell_type": "markdown",
   "id": "74ce1ac2",
   "metadata": {
    "lines_to_next_cell": 0
   },
   "source": [
    "---\n",
    "\n",
    "# Loop Example\n",
    "\n",
    "- Example:  \n",
    "\n",
    "    + Suppose we've observed the eye colors of 15 people\n",
    "    + Eye color coded as either 1 (blue), 2 (brown), 3 (green), 4 (other)\n",
    "    + Want to create a new variable that has the descriptive values\n"
   ]
  },
  {
   "cell_type": "code",
   "execution_count": null,
   "id": "1acfeb6f",
   "metadata": {},
   "outputs": [],
   "source": [
    "#data stored in a 'list'\n",
    "eye_color = [3, 2, 2, 1, 2, 1, 2, 4, 3, 2, 2, 1, 2, 2]"
   ]
  },
  {
   "cell_type": "markdown",
   "id": "a8f036af",
   "metadata": {},
   "source": [
    "- `list` elements are indexed like string elements using `[index]`"
   ]
  },
  {
   "cell_type": "code",
   "execution_count": null,
   "id": "b6a9919d",
   "metadata": {
    "lines_to_next_cell": 2
   },
   "outputs": [],
   "source": [
    "eye_color[0]\n",
    "eye_color[1]"
   ]
  },
  {
   "cell_type": "markdown",
   "id": "a9049939",
   "metadata": {},
   "source": [
    "---\n",
    "\n",
    "# Loop Example\n",
    "\n",
    "- We could consider using conditional logic to print out the descriptive string"
   ]
  },
  {
   "cell_type": "code",
   "execution_count": null,
   "id": "af42f32d",
   "metadata": {
    "lines_to_next_cell": 2
   },
   "outputs": [],
   "source": [
    "eye_color = [3, 2, 2, 1, 2, 1, 2, 4, 3, 2, 2, 1, 2, 2]\n",
    "\n",
    "if eye_color[0] == 1:\n",
    "    print(\"blue\")\n",
    "elif eye_color[0] == 2:\n",
    "    print(\"brown\")\n",
    "elif eye_color[0] == 3:\n",
    "    print(\"green\")\n",
    "else:\n",
    "    print(\"other\")"
   ]
  },
  {
   "cell_type": "markdown",
   "id": "2a1d19e9",
   "metadata": {},
   "source": [
    "---\n",
    "\n",
    "# Loop Syntax\n",
    "\n",
    "- Instead of repeating and modifying code, use a loop!"
   ]
  },
  {
   "cell_type": "code",
   "execution_count": null,
   "id": "131eb22b",
   "metadata": {
    "eval": false
   },
   "outputs": [],
   "source": [
    "for index in values:\n",
    "     code to be run"
   ]
  },
  {
   "cell_type": "markdown",
   "id": "28ae973c",
   "metadata": {},
   "source": [
    "- index argument defines a counter, or variable, that varies each time the code within the loop is executed\n",
    "- values argument defines which values the index takes on in these iterations\n",
    "    + These values do not have to be numeric!"
   ]
  },
  {
   "cell_type": "markdown",
   "id": "e03f1204",
   "metadata": {},
   "source": [
    "---\n",
    "\n",
    "# Loop Toy Examples"
   ]
  },
  {
   "cell_type": "code",
   "execution_count": null,
   "id": "688b22ff",
   "metadata": {
    "lines_to_next_cell": 2
   },
   "outputs": [],
   "source": [
    "for index in [\"cat\", \"hat\", \"worm\"]:\n",
    "    print(index)"
   ]
  },
  {
   "cell_type": "markdown",
   "id": "a2f2fc3c",
   "metadata": {},
   "source": [
    "---\n",
    "\n",
    "# Loop Toy Examples"
   ]
  },
  {
   "cell_type": "code",
   "execution_count": null,
   "id": "c0eb8362",
   "metadata": {},
   "outputs": [],
   "source": [
    "for index in [\"cat\", \"hat\", \"worm\"]:\n",
    "    print(index)"
   ]
  },
  {
   "cell_type": "code",
   "execution_count": null,
   "id": "6190f586",
   "metadata": {
    "lines_to_next_cell": 0
   },
   "outputs": [],
   "source": [
    "values = list(range(10))\n",
    "values\n",
    "for i in values:\n",
    "    print(i)"
   ]
  },
  {
   "cell_type": "markdown",
   "id": "c99fc9ef",
   "metadata": {},
   "source": []
  },
  {
   "cell_type": "markdown",
   "id": "60b53fb7",
   "metadata": {},
   "source": [
    "---\n",
    "\n",
    "# Loop Example\n",
    "\n",
    "- We could consider using conditional logic to print out the descriptive string"
   ]
  },
  {
   "cell_type": "code",
   "execution_count": null,
   "id": "4d4aa36a",
   "metadata": {
    "lines_to_next_cell": 2
   },
   "outputs": [],
   "source": [
    "eye_color = [3, 2, 2, 1, 2, 1, 2, 4, 3, 2, 2, 1, 2, 2]\n",
    "list(range(len(eye_color)))\n",
    "range(len(eye_color))\n",
    "values = iter(range(len(eye_color)))\n",
    "print(next(values))\n",
    "print(next(values))\n",
    "print(next(values))"
   ]
  },
  {
   "cell_type": "markdown",
   "id": "cfee9f85",
   "metadata": {},
   "source": [
    "---\n",
    "\n",
    "# Loop Example\n",
    "\n",
    "- We could consider using conditional logic to print out the descriptive string"
   ]
  },
  {
   "cell_type": "code",
   "execution_count": null,
   "id": "3ee7d35e",
   "metadata": {
    "lines_to_next_cell": 2
   },
   "outputs": [],
   "source": [
    "for i in range(len(eye_color)):\n",
    "    if eye_color[i] == 1:\n",
    "        print(\"blue\")\n",
    "    elif eye_color[i] == 2:\n",
    "        print(\"brown\")\n",
    "    elif eye_color[i] == 3:\n",
    "        print(\"green\")\n",
    "    else:\n",
    "        print(\"other\")"
   ]
  },
  {
   "cell_type": "markdown",
   "id": "4a381c00",
   "metadata": {},
   "source": [
    "---\n",
    "\n",
    "# Loop Example\n",
    "\n",
    "- We could consider using conditional logic to print out the descriptive string"
   ]
  },
  {
   "cell_type": "code",
   "execution_count": null,
   "id": "3495f3a8",
   "metadata": {
    "lines_to_next_cell": 0
   },
   "outputs": [],
   "source": [
    "for i in eye_color:\n",
    "    if i == 1:\n",
    "        print(\"blue\")\n",
    "    elif i == 2:\n",
    "        print(\"brown\")\n",
    "    elif i == 3:\n",
    "        print(\"green\")\n",
    "    else:\n",
    "        print(\"other\")"
   ]
  },
  {
   "cell_type": "markdown",
   "id": "f9442571",
   "metadata": {},
   "source": []
  },
  {
   "cell_type": "markdown",
   "id": "8475435c",
   "metadata": {},
   "source": [
    "---\n",
    "\n",
    "# Other Looping Commands\n",
    "\n",
    "- Breaking out of loops with `break`"
   ]
  },
  {
   "cell_type": "code",
   "execution_count": null,
   "id": "9db3ebc6",
   "metadata": {
    "lines_to_next_cell": 2
   },
   "outputs": [],
   "source": [
    "for i in range(5):\n",
    "    if i == 3:\n",
    "        break\n",
    "    print(i)\n"
   ]
  },
  {
   "cell_type": "markdown",
   "id": "7dea57c7",
   "metadata": {},
   "source": [
    "---\n",
    "\n",
    "# Other Looping Commands\n",
    "\n",
    "- `continue` command jumps to the next iteration of the loop without finishing the current iteration"
   ]
  },
  {
   "cell_type": "code",
   "execution_count": null,
   "id": "9bd7eeb7",
   "metadata": {
    "lines_to_next_cell": 0
   },
   "outputs": [],
   "source": [
    "for i in range(5):\n",
    "    if i == 3:\n",
    "        continue\n",
    "    print(i)"
   ]
  },
  {
   "cell_type": "markdown",
   "id": "84cf69a5",
   "metadata": {},
   "source": [
    "\n"
   ]
  },
  {
   "cell_type": "markdown",
   "id": "3e2d4235",
   "metadata": {},
   "source": [
    "---\n",
    "\n",
    "# While Loops\n",
    "\n",
    "- While loops are similar to for loops but they loop until a condition is reached\n",
    "\n",
    "    + Useful when we don't know in advance how many loop iterations we should execute\n",
    "    \n",
    "- General syntax of a while loop:"
   ]
  },
  {
   "cell_type": "code",
   "execution_count": null,
   "id": "c4612ec7",
   "metadata": {
    "eval": false
   },
   "outputs": [],
   "source": [
    "while expression:\n",
    "    #code block to execute\n",
    "    block"
   ]
  },
  {
   "cell_type": "markdown",
   "id": "38b6af31",
   "metadata": {},
   "source": [
    "- expression is sometimes called the loop condition\n"
   ]
  },
  {
   "cell_type": "markdown",
   "id": "ccfb4d09",
   "metadata": {},
   "source": [
    "---\n",
    "\n",
    "# While Loops\n",
    "\n",
    "- While loops are similar to for loops but they loop until a condition is reached\n",
    "\n",
    "    + Useful when we don't know in advance how many loop iterations we should execute\n",
    "    \n",
    "- General syntax of a while loop:"
   ]
  },
  {
   "cell_type": "code",
   "execution_count": null,
   "id": "a3cfe902",
   "metadata": {
    "eval": false
   },
   "outputs": [],
   "source": [
    "while expression:\n",
    "    #code block to execute\n",
    "    block"
   ]
  },
  {
   "cell_type": "markdown",
   "id": "bf9453e3",
   "metadata": {},
   "source": [
    "- expression is sometimes called the loop condition\n",
    "- At each iteration of the loop, python evaluates the expression\n",
    "    + If the expression evaluates to False, the loop exits\n",
    "    + If the expression evaluates to True, the loop body is executed again\n",
    "    "
   ]
  },
  {
   "cell_type": "markdown",
   "id": "f765dbdb",
   "metadata": {},
   "source": [
    "---\n",
    "\n",
    "# While Loop Example"
   ]
  },
  {
   "cell_type": "code",
   "execution_count": null,
   "id": "19a04dbc",
   "metadata": {
    "lines_to_next_cell": 2
   },
   "outputs": [],
   "source": [
    "rabbits = 3\n",
    "while rabbits > 0:\n",
    "    print(rabbits)\n",
    "    rabbits = rabbits - 1"
   ]
  },
  {
   "cell_type": "markdown",
   "id": "5de041ac",
   "metadata": {},
   "source": [
    "---\n",
    "\n",
    "# To JupyterLab!  \n",
    "\n",
    "- Add loop to **Fizzbuzz** example\n",
    "\n",
    "- Write a quick number guessing game!"
   ]
  },
  {
   "cell_type": "markdown",
   "id": "17a1e19f",
   "metadata": {},
   "source": [
    "---\n",
    "\n",
    "# Recap\n",
    "\n",
    "- Conditional logic with `if`, `elif`, and `else`"
   ]
  },
  {
   "cell_type": "code",
   "execution_count": null,
   "id": "ebc198c2",
   "metadata": {
    "eval": false
   },
   "outputs": [],
   "source": [
    "if boolean1:\n",
    "    execute this code  \n",
    "elif boolean2:\n",
    "    execute this code\n",
    "elif boolean3:\n",
    "    execute this code\n",
    "else:\n",
    "    execute this code"
   ]
  },
  {
   "cell_type": "markdown",
   "id": "e1e366ef",
   "metadata": {},
   "source": [
    "- Looping via `for` or `while`"
   ]
  },
  {
   "cell_type": "code",
   "execution_count": null,
   "id": "d7bf4099",
   "metadata": {
    "eval": false
   },
   "outputs": [],
   "source": [
    "for index in values:\n",
    "     code to be run"
   ]
  },
  {
   "cell_type": "code",
   "execution_count": null,
   "id": "7f26f1db",
   "metadata": {
    "eval": false,
    "lines_to_next_cell": 2
   },
   "outputs": [],
   "source": [
    "while expression:\n",
    "    #code block to execute\n",
    "    block"
   ]
  },
  {
   "cell_type": "markdown",
   "id": "3149e659",
   "metadata": {},
   "source": [
    "---\n",
    "\n",
    "# Big Recap\n",
    "\n",
    "- `JupyterLab` as our IDE (interactive development environment)\n",
    "- Basic Use of Python\n",
    "- Markdown capabilities\n",
    "- Python Modules\n",
    "\n",
    "<br>\n",
    "\n",
    "- Basic data types & Writing Functions\n",
    "- Control flow (if/then/else, Looping)\n",
    "- Summarizing Data Ideas\n",
    "\n",
    "<br>\n",
    "\n",
    "- Compound data types (including `Numpy` arrays, `pandas` data frames)\n",
    "- Summarizing data\n",
    "- Common models and model evaluation\n"
   ]
  }
 ],
 "metadata": {
  "jupytext": {
   "cell_metadata_filter": "warning,tags,message,eval,-all",
   "main_language": "python",
   "notebook_metadata_filter": "-all"
  }
 },
 "nbformat": 4,
 "nbformat_minor": 5
}
