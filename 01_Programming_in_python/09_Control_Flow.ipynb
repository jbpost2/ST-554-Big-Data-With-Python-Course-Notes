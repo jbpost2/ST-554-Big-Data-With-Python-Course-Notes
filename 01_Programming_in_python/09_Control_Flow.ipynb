{
  "cells": [
    {
      "cell_type": "markdown",
      "source": [
        "# Control Flow\n",
        "\n",
        "- Control flow just refers to the order in which a language executes code\n",
        "\n",
        "- In python\n",
        "\n",
        "    + Using conditional logic (`if`, `elif`, and `else`)\n",
        "    + Looping (`for` or `while` for instance)"
      ],
      "metadata": {
        "id": "l1IE6KSqVo5p"
      },
      "id": "l1IE6KSqVo5p"
    },
    {
      "cell_type": "markdown",
      "source": [
        "## Conditional Statements\n",
        "\n",
        "- Choose which portions of your code to execute by using conditional statements!\n",
        "\n",
        "- An `if` statement changes how a program behaves based on a condition\n",
        "\n",
        "   + Condition comes in the form of a `boolean`  \n",
        "    \n",
        "- Recall: Booleans are `True` or `False`\n",
        "\n",
        "    + Can be treated as 1 and 0\n",
        "    + Many functions to create bools (`.is_*()` methods, `bool()` function)\n",
        "\n"
      ],
      "metadata": {
        "id": "imA7YWomVtw4"
      },
      "id": "imA7YWomVtw4"
    },
    {
      "cell_type": "markdown",
      "source": [
        "### `if` Syntax\n",
        "\n",
        "- Example of `if` with no further conditional logic:\n",
        "\n",
        "```\n",
        "if boolean:\n",
        "    #If boolean is true, execute the chunk of code that is indented\n",
        "    #Four spaces is recommended but any indentation can technically be used\n",
        "    statement1\n",
        "    statement2\n",
        "    \n",
        "#code not indented would then execute as normal\n",
        "```"
      ],
      "metadata": {
        "id": "c563xx-NVxFl"
      },
      "id": "c563xx-NVxFl"
    },
    {
      "cell_type": "markdown",
      "id": "9189981e",
      "metadata": {
        "id": "9189981e"
      },
      "source": [
        "#### `if` Example\n",
        "\n",
        "Printing different strings using `if` statements"
      ]
    },
    {
      "cell_type": "code",
      "execution_count": 1,
      "id": "29230968",
      "metadata": {
        "id": "29230968",
        "outputId": "201bae48-9552-4d76-e02e-9fb59a85b1ed",
        "colab": {
          "base_uri": "https://localhost:8080/"
        }
      },
      "outputs": [
        {
          "output_type": "stream",
          "name": "stdout",
          "text": [
            "30 degrees is cold.\n"
          ]
        }
      ],
      "source": [
        "temp = 30\n",
        "if temp < 50:\n",
        "    print(temp, \"degrees is cold.\")"
      ]
    },
    {
      "cell_type": "code",
      "execution_count": 2,
      "id": "d6e67c64",
      "metadata": {
        "lines_to_next_cell": 2,
        "id": "d6e67c64"
      },
      "outputs": [],
      "source": [
        "temp = 100\n",
        "if temp < 50:\n",
        "    print(temp, \"degrees is cold.\")"
      ]
    },
    {
      "cell_type": "markdown",
      "id": "b8624778",
      "metadata": {
        "id": "b8624778"
      },
      "source": [
        "We can have multiple statements that are executed within a block if the condition is `True`."
      ]
    },
    {
      "cell_type": "code",
      "execution_count": null,
      "id": "e3cf3282",
      "metadata": {
        "lines_to_next_cell": 2,
        "id": "e3cf3282"
      },
      "outputs": [],
      "source": [
        "temp = 30\n",
        "if temp < 50:\n",
        "    print(temp, \"degrees is cold.\")\n",
        "    print(\"Wear a jacket outside!\")"
      ]
    },
    {
      "cell_type": "code",
      "execution_count": null,
      "id": "f05ed244",
      "metadata": {
        "lines_to_next_cell": 2,
        "id": "f05ed244"
      },
      "outputs": [],
      "source": [
        "temp = 100\n",
        "if temp < 50:\n",
        "    print(temp, \"degrees is cold.\")\n",
        "    print(\"Wear a jacket outside!\")\n",
        "if temp >= 50:\n",
        "    print(temp, \"degrees is not cold.\")"
      ]
    },
    {
      "cell_type": "markdown",
      "id": "42349130",
      "metadata": {
        "id": "42349130"
      },
      "source": [
        "### `if` with `else` Syntax\n",
        "\n",
        "With the last example above, we see something we often want to do:\n",
        "- check a condition (`temp < 50`), if true execute some code\n",
        "- if that same condition is false - or the opposite is true (`temp >= 50`) - then execute something else\n",
        "\n",
        "This can be taken care of with the `else` statement. The `else` statement immediately following an `if` block allows for execution of code **only when** the above condition(s) were (all) `False`\n",
        "\n",
        "```\n",
        "if boolean:\n",
        "    execute this code\n",
        "else:\n",
        "    execute this code\n",
        "```\n",
        "\n",
        "this is equivalent to\n",
        "\n",
        "```\n",
        "if boolean:\n",
        "    execute this code\n",
        "if not boolean:\n",
        "    execute this code\n",
        "```"
      ]
    },
    {
      "cell_type": "code",
      "execution_count": 4,
      "id": "a371b886",
      "metadata": {
        "lines_to_next_cell": 2,
        "id": "a371b886",
        "outputId": "e691040e-95b0-44f8-80a2-5555c40378b1",
        "colab": {
          "base_uri": "https://localhost:8080/"
        }
      },
      "outputs": [
        {
          "output_type": "stream",
          "name": "stdout",
          "text": [
            "100 degrees is not cold.\n"
          ]
        }
      ],
      "source": [
        "temp = 100\n",
        "if temp < 50:\n",
        "    print(temp, \"degrees is cold.\")\n",
        "    print(\"Wear a jacket outside!\")\n",
        "else:\n",
        "    print(temp, \"degrees is not cold.\")"
      ]
    },
    {
      "cell_type": "markdown",
      "id": "e8e20dd1",
      "metadata": {
        "id": "e8e20dd1"
      },
      "source": [
        "### `if`, `elif`, and `else`  \n",
        "\n",
        "You can check additional conditions using `elif` which stands for 'else if'.\n",
        "\n",
        "This condition is only checked if the all the above conditions were `False`.\n",
        "\n",
        "```\n",
        "if boolean1:\n",
        "    #if boolean1 is True\n",
        "    execute this code  \n",
        "elif boolean2:\n",
        "    #if boolean1 is False, check if boolean2 is True\n",
        "    #if True\n",
        "    execute this code\n",
        "elif boolean3:\n",
        "    #if boolean1 and boolean2 are False, check if boolean3 is True\n",
        "    #if True\n",
        "    execute this code\n",
        "else:\n",
        "    # if no conditions met\n",
        "    execute this code\n",
        "```"
      ]
    },
    {
      "cell_type": "code",
      "execution_count": 5,
      "id": "58dd7395",
      "metadata": {
        "lines_to_next_cell": 2,
        "id": "58dd7395",
        "outputId": "f9cdcc07-3f86-4027-e30e-06c684e46e14",
        "colab": {
          "base_uri": "https://localhost:8080/"
        }
      },
      "outputs": [
        {
          "output_type": "stream",
          "name": "stdout",
          "text": [
            "40 degrees is cold.\n",
            "Wear a jacket outside!\n"
          ]
        }
      ],
      "source": [
        "temp = 40\n",
        "if temp < 50:\n",
        "    print(temp, \"degrees is cold.\")\n",
        "    print(\"Wear a jacket outside!\")\n",
        "elif temp < 70:\n",
        "    print(temp, \"degrees is kind of cold...\")\n",
        "    print(\"You may want to bring an umbrella in case it rains!\")\n",
        "else:\n",
        "    print(temp, \"degrees is not cold.\")"
      ]
    },
    {
      "cell_type": "code",
      "execution_count": 6,
      "id": "333984d7",
      "metadata": {
        "lines_to_next_cell": 2,
        "id": "333984d7",
        "outputId": "69abe854-8316-426d-e791-b0b7f66ba31a",
        "colab": {
          "base_uri": "https://localhost:8080/"
        }
      },
      "outputs": [
        {
          "output_type": "stream",
          "name": "stdout",
          "text": [
            "60 degrees is kind of cold...\n",
            "You may want to bring an umbrella in case it rains!\n"
          ]
        }
      ],
      "source": [
        "temp = 60\n",
        "if temp < 50:\n",
        "    print(temp, \"degrees is cold.\")\n",
        "    print(\"Wear a jacket outside!\")\n",
        "elif temp < 70:\n",
        "    print(temp, \"degrees is kind of cold...\")\n",
        "    print(\"You may want to bring an umbrella in case it rains!\")\n",
        "else:\n",
        "    print(temp, \"degrees is not cold.\")"
      ]
    },
    {
      "cell_type": "code",
      "execution_count": 7,
      "id": "581ae200",
      "metadata": {
        "lines_to_next_cell": 0,
        "id": "581ae200",
        "outputId": "ae66e11e-9404-40f6-d364-b4c841f3f387",
        "colab": {
          "base_uri": "https://localhost:8080/"
        }
      },
      "outputs": [
        {
          "output_type": "stream",
          "name": "stdout",
          "text": [
            "100 degrees is not cold.\n"
          ]
        }
      ],
      "source": [
        "temp = 100\n",
        "if temp < 50:\n",
        "    print(temp, \"degrees is cold.\")\n",
        "    print(\"Wear a jacket outside!\")\n",
        "elif temp < 70:\n",
        "    print(temp, \"degrees is kind of cold...\")\n",
        "    print(\"You may want to bring an umbrella in case it rains!\")\n",
        "else:\n",
        "    print(temp, \"degrees is not cold.\")"
      ]
    },
    {
      "cell_type": "markdown",
      "id": "4c61ea64",
      "metadata": {
        "id": "4c61ea64"
      },
      "source": [
        "### Video Demo\n",
        "\n",
        "This quick video demo shows an example of implementing conditional logic in python. We'll look at the famous \"FizzBuzz\" example. (Coming Soon)\n",
        "\n",
        "Goal: Consider the integers 1 to 100:\n",
        "\n",
        "+ If divisible by both 3 and 5, print fizz buzz\n",
        "+ Else if divisible by 3, print fizz\n",
        "+ Else if divisible by 5, print buzz\n",
        "+ Otherwise print the number"
      ]
    },
    {
      "cell_type": "markdown",
      "id": "902c42d5",
      "metadata": {
        "lines_to_next_cell": 0,
        "id": "902c42d5"
      },
      "source": [
        "---\n",
        "\n",
        "## Loops\n",
        "    \n",
        "- Often a repetitive task must be done  \n",
        "\n",
        "- Task requires a small change each time it is done  \n",
        "\n",
        "    + Copy and pasting the same code with minimal changes isn't ideal"
      ]
    },
    {
      "cell_type": "markdown",
      "source": [
        "### Loop Example\n",
        "\n",
        "+ Suppose we've observed the eye colors of 15 people\n",
        "+ Eye color coded as either 1 (blue), 2 (brown), 3 (green), 4 (other)\n",
        "+ Want to create a new variable that has the descriptive values\n"
      ],
      "metadata": {
        "id": "AC647Ry4V-k_"
      },
      "id": "AC647Ry4V-k_"
    },
    {
      "cell_type": "code",
      "execution_count": 8,
      "id": "88f99d34",
      "metadata": {
        "id": "88f99d34"
      },
      "outputs": [],
      "source": [
        "#data stored in a 'list'\n",
        "eye_color = [3, 2, 2, 1, 2, 1, 2, 4, 3, 2, 2, 1, 2, 2]"
      ]
    },
    {
      "cell_type": "markdown",
      "id": "74ce1ac2",
      "metadata": {
        "lines_to_next_cell": 0,
        "id": "74ce1ac2"
      },
      "source": [
        "Goal: Create a new variable that has the descriptive values\n",
        "- Recall `list` elements are indexed using `[index]` (like other sequence type objects such as strings)\n"
      ]
    },
    {
      "cell_type": "code",
      "execution_count": 10,
      "id": "b6a9919d",
      "metadata": {
        "lines_to_next_cell": 2,
        "id": "b6a9919d",
        "outputId": "fc1c0ad5-065c-467e-84ed-62b09bb0ef30",
        "colab": {
          "base_uri": "https://localhost:8080/"
        }
      },
      "outputs": [
        {
          "output_type": "stream",
          "name": "stdout",
          "text": [
            "3\n",
            "2\n"
          ]
        }
      ],
      "source": [
        "print(eye_color[0])\n",
        "print(eye_color[1])"
      ]
    },
    {
      "cell_type": "markdown",
      "id": "a9049939",
      "metadata": {
        "id": "a9049939"
      },
      "source": [
        "- We could consider using conditional logic to print out the descriptive string"
      ]
    },
    {
      "cell_type": "code",
      "execution_count": 11,
      "id": "af42f32d",
      "metadata": {
        "lines_to_next_cell": 2,
        "id": "af42f32d",
        "outputId": "68ab16f6-442f-479d-96e3-a23d9665a44f",
        "colab": {
          "base_uri": "https://localhost:8080/"
        }
      },
      "outputs": [
        {
          "output_type": "stream",
          "name": "stdout",
          "text": [
            "green\n"
          ]
        }
      ],
      "source": [
        "eye_color = [3, 2, 2, 1, 2, 1, 2, 4, 3, 2, 2, 1, 2, 2]\n",
        "\n",
        "if eye_color[0] == 1:\n",
        "    print(\"blue\")\n",
        "elif eye_color[0] == 2:\n",
        "    print(\"brown\")\n",
        "elif eye_color[0] == 3:\n",
        "    print(\"green\")\n",
        "else:\n",
        "    print(\"other\")"
      ]
    },
    {
      "cell_type": "markdown",
      "id": "2a1d19e9",
      "metadata": {
        "id": "2a1d19e9"
      },
      "source": [
        "---\n",
        "\n",
        "### Loop Syntax\n",
        "\n",
        "- Instead of repeating and modifying code, use a loop!\n",
        "\n",
        "```\n",
        "for index in values:\n",
        "     code to be run\n",
        "```\n",
        "\n",
        "- index argument defines a counter, or variable, that varies each time the code within the loop is executed\n",
        "- values argument defines which values the index takes on in these iterations\n",
        "    + These values do not have to be numeric!"
      ]
    },
    {
      "cell_type": "markdown",
      "id": "e03f1204",
      "metadata": {
        "id": "e03f1204"
      },
      "source": [
        "#### Loop Toy Examples\n",
        "\n",
        "- Run the code below and feel free to modify things to see what happens!"
      ]
    },
    {
      "cell_type": "code",
      "execution_count": 13,
      "id": "688b22ff",
      "metadata": {
        "lines_to_next_cell": 2,
        "id": "688b22ff",
        "outputId": "ecf1050c-d981-49fd-93e7-5bf8db7a5702",
        "colab": {
          "base_uri": "https://localhost:8080/"
        }
      },
      "outputs": [
        {
          "output_type": "stream",
          "name": "stdout",
          "text": [
            "cat\n",
            "hat\n",
            "worm\n"
          ]
        }
      ],
      "source": [
        "for index in [\"cat\", \"hat\", \"worm\"]:\n",
        "    print(index)"
      ]
    },
    {
      "cell_type": "code",
      "execution_count": 15,
      "id": "6190f586",
      "metadata": {
        "lines_to_next_cell": 0,
        "id": "6190f586",
        "outputId": "d0ba57c9-3e6e-4b35-fea3-94a6165e5334",
        "colab": {
          "base_uri": "https://localhost:8080/"
        }
      },
      "outputs": [
        {
          "output_type": "stream",
          "name": "stdout",
          "text": [
            "0\n",
            "1\n",
            "2\n",
            "3\n",
            "4\n",
            "5\n",
            "6\n",
            "7\n",
            "8\n",
            "9\n"
          ]
        }
      ],
      "source": [
        "values = list(range(10)) #recall range is an iterator-type object, list gets the values out\n",
        "values\n",
        "for i in values:\n",
        "    print(i)"
      ]
    },
    {
      "cell_type": "code",
      "execution_count": 16,
      "id": "4d4aa36a",
      "metadata": {
        "lines_to_next_cell": 2,
        "id": "4d4aa36a",
        "outputId": "4cc1475e-fdbc-4fda-fa0d-8623cfde9029",
        "colab": {
          "base_uri": "https://localhost:8080/"
        }
      },
      "outputs": [
        {
          "output_type": "stream",
          "name": "stdout",
          "text": [
            "0\n",
            "1\n",
            "2\n"
          ]
        }
      ],
      "source": [
        "eye_color = [3, 2, 2, 1, 2, 1, 2, 4, 3, 2, 2, 1, 2, 2]\n",
        "list(range(len(eye_color)))\n",
        "range(len(eye_color))\n",
        "values = iter(range(len(eye_color)))\n",
        "print(next(values))\n",
        "print(next(values))\n",
        "print(next(values))"
      ]
    },
    {
      "cell_type": "markdown",
      "id": "cfee9f85",
      "metadata": {
        "id": "cfee9f85"
      },
      "source": [
        "Back to our example. We want to print out the more descriptive name depending on what the numeric value is.\n",
        "\n",
        "Let's loop through all the `eye_color` values using a for loop. To do so, we'll use the `range()` function with the `len(eye_color)` as its argument.\n",
        "\n",
        "Recall: `range()` is an iterator-type object. A for loop will automatically go over the values the range indicates. When we give `range()` just one argument it defaults to a range of 0 to that value (but that value isn't included)."
      ]
    },
    {
      "cell_type": "code",
      "execution_count": 17,
      "id": "3ee7d35e",
      "metadata": {
        "lines_to_next_cell": 2,
        "id": "3ee7d35e",
        "outputId": "cba366b4-e334-4cdd-ce95-4c815b264cb9",
        "colab": {
          "base_uri": "https://localhost:8080/"
        }
      },
      "outputs": [
        {
          "output_type": "stream",
          "name": "stdout",
          "text": [
            "green\n",
            "brown\n",
            "brown\n",
            "blue\n",
            "brown\n",
            "blue\n",
            "brown\n",
            "other\n",
            "green\n",
            "brown\n",
            "brown\n",
            "blue\n",
            "brown\n",
            "brown\n"
          ]
        }
      ],
      "source": [
        "for i in range(len(eye_color)):\n",
        "    if eye_color[i] == 1:\n",
        "        print(\"blue\")\n",
        "    elif eye_color[i] == 2:\n",
        "        print(\"brown\")\n",
        "    elif eye_color[i] == 3:\n",
        "        print(\"green\")\n",
        "    else:\n",
        "        print(\"other\")"
      ]
    },
    {
      "cell_type": "markdown",
      "id": "4a381c00",
      "metadata": {
        "id": "4a381c00"
      },
      "source": [
        "We don't really need to use a set of numeric values to iterate over (via `range()`). We can iterate over anything that is [iterable](https://docs.python.org/3/glossary.html#term-iterable). **All sequence type objects are iterable** (like lists and strings).\n",
        "\n",
        "Here we'll iterate over the `eye_color` list itself."
      ]
    },
    {
      "cell_type": "code",
      "execution_count": 18,
      "id": "3495f3a8",
      "metadata": {
        "lines_to_next_cell": 0,
        "id": "3495f3a8",
        "outputId": "6f98d7ea-a553-45ee-83a4-b7b6631a61e8",
        "colab": {
          "base_uri": "https://localhost:8080/"
        }
      },
      "outputs": [
        {
          "output_type": "stream",
          "name": "stdout",
          "text": [
            "green\n",
            "brown\n",
            "brown\n",
            "blue\n",
            "brown\n",
            "blue\n",
            "brown\n",
            "other\n",
            "green\n",
            "brown\n",
            "brown\n",
            "blue\n",
            "brown\n",
            "brown\n"
          ]
        }
      ],
      "source": [
        "for i in eye_color:\n",
        "    if i == 1:\n",
        "        print(\"blue\")\n",
        "    elif i == 2:\n",
        "        print(\"brown\")\n",
        "    elif i == 3:\n",
        "        print(\"green\")\n",
        "    else:\n",
        "        print(\"other\")"
      ]
    },
    {
      "cell_type": "markdown",
      "id": "8475435c",
      "metadata": {
        "id": "8475435c"
      },
      "source": [
        "---\n",
        "\n",
        "### Other Looping Commands\n",
        "\n",
        "- Occassionally we want to jump out of a for loop. This can be done with `break`\n"
      ]
    },
    {
      "cell_type": "code",
      "execution_count": 19,
      "id": "9db3ebc6",
      "metadata": {
        "lines_to_next_cell": 2,
        "id": "9db3ebc6",
        "outputId": "aaa59910-9d89-4f06-93ce-0ba2d8231d83",
        "colab": {
          "base_uri": "https://localhost:8080/"
        }
      },
      "outputs": [
        {
          "output_type": "stream",
          "name": "stdout",
          "text": [
            "0\n",
            "1\n",
            "2\n"
          ]
        }
      ],
      "source": [
        "for i in range(5):\n",
        "    if i == 3:\n",
        "        break\n",
        "    print(i)\n"
      ]
    },
    {
      "cell_type": "markdown",
      "id": "7dea57c7",
      "metadata": {
        "id": "7dea57c7"
      },
      "source": [
        "- The `continue` command jumps to the next iteration of the loop without finishing the current iteration"
      ]
    },
    {
      "cell_type": "code",
      "execution_count": 20,
      "id": "9bd7eeb7",
      "metadata": {
        "lines_to_next_cell": 0,
        "id": "9bd7eeb7",
        "outputId": "1bf1f204-1feb-4e85-c179-fe7be04c9ce7",
        "colab": {
          "base_uri": "https://localhost:8080/"
        }
      },
      "outputs": [
        {
          "output_type": "stream",
          "name": "stdout",
          "text": [
            "0\n",
            "1\n",
            "2\n",
            "4\n"
          ]
        }
      ],
      "source": [
        "for i in range(5):\n",
        "    if i == 3:\n",
        "        continue\n",
        "    print(i)"
      ]
    },
    {
      "cell_type": "markdown",
      "id": "3e2d4235",
      "metadata": {
        "id": "3e2d4235"
      },
      "source": [
        "---\n",
        "\n",
        "### While Loops\n",
        "\n",
        "- While loops are similar to for loops but they loop until a condition is reached\n",
        "\n",
        "    + Useful when we don't know in advance how many loop iterations we should execute\n",
        "    \n",
        "- General syntax of a while loop:\n",
        "\n",
        "```\n",
        "while expression:\n",
        "    #code block to execute\n",
        "    block\n",
        "```\n",
        "- the `expression` is sometimes called the loop condition\n",
        "- At each iteration of the loop, python evaluates the expression\n",
        "    + If the expression evaluates to False, the loop exits\n",
        "    + If the expression evaluates to True, the loop body is executed again"
      ]
    },
    {
      "cell_type": "markdown",
      "id": "f765dbdb",
      "metadata": {
        "id": "f765dbdb"
      },
      "source": [
        "#### While Loop Example\n",
        "\n",
        "When using `while` loops, we usually modify the condition within the body of the `while` loop (or use a `break` to jump out when needed)."
      ]
    },
    {
      "cell_type": "code",
      "execution_count": 22,
      "id": "19a04dbc",
      "metadata": {
        "lines_to_next_cell": 2,
        "id": "19a04dbc",
        "outputId": "2810263e-d885-4dc1-dc76-e3c8414aaea5",
        "colab": {
          "base_uri": "https://localhost:8080/"
        }
      },
      "outputs": [
        {
          "output_type": "stream",
          "name": "stdout",
          "text": [
            "3\n",
            "2\n",
            "1\n"
          ]
        }
      ],
      "source": [
        "rabbits = 3\n",
        "while rabbits > 0:\n",
        "    print(rabbits)\n",
        "    rabbits = rabbits - 1"
      ]
    },
    {
      "cell_type": "markdown",
      "id": "5de041ac",
      "metadata": {
        "id": "5de041ac"
      },
      "source": [
        "### Video Demo\n",
        "\n",
        "This quick video demo shows an example of implementing a loop in python. We'll add a loop to **Fizzbuzz** example from the previous video. Then we'll write a quick number guessing game!"
      ]
    },
    {
      "cell_type": "markdown",
      "id": "17a1e19f",
      "metadata": {
        "id": "17a1e19f"
      },
      "source": [
        "---\n",
        "\n",
        "# Recap\n",
        "\n",
        "- Conditional logic with `if`, `elif`, and `else`"
      ]
    },
    {
      "cell_type": "code",
      "execution_count": null,
      "id": "ebc198c2",
      "metadata": {
        "eval": false,
        "id": "ebc198c2"
      },
      "outputs": [],
      "source": [
        "if boolean1:\n",
        "    execute this code\n",
        "elif boolean2:\n",
        "    execute this code\n",
        "elif boolean3:\n",
        "    execute this code\n",
        "else:\n",
        "    execute this code"
      ]
    },
    {
      "cell_type": "markdown",
      "id": "e1e366ef",
      "metadata": {
        "id": "e1e366ef"
      },
      "source": [
        "- Looping via `for` or `while`"
      ]
    },
    {
      "cell_type": "code",
      "execution_count": null,
      "id": "d7bf4099",
      "metadata": {
        "eval": false,
        "id": "d7bf4099"
      },
      "outputs": [],
      "source": [
        "for index in values:\n",
        "     code to be run"
      ]
    },
    {
      "cell_type": "code",
      "execution_count": null,
      "id": "7f26f1db",
      "metadata": {
        "eval": false,
        "lines_to_next_cell": 2,
        "id": "7f26f1db"
      },
      "outputs": [],
      "source": [
        "while expression:\n",
        "    #code block to execute\n",
        "    block"
      ]
    }
  ],
  "metadata": {
    "jupytext": {
      "cell_metadata_filter": "warning,tags,message,eval,-all",
      "main_language": "python",
      "notebook_metadata_filter": "-all"
    },
    "colab": {
      "provenance": [],
      "toc_visible": true
    },
    "language_info": {
      "name": "python"
    },
    "kernelspec": {
      "name": "python3",
      "display_name": "Python 3"
    }
  },
  "nbformat": 4,
  "nbformat_minor": 5
}