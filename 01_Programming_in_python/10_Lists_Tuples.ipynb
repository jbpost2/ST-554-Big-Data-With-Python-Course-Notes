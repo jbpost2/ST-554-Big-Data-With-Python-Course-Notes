{
  "cells": [
    {
      "cell_type": "markdown",
      "id": "4439e91c",
      "metadata": {
        "id": "4439e91c"
      },
      "source": [
        "# Lists and Tuples\n",
        "\n",
        "Now we'll look a bit more at lists and introduce tuples - basically an immutable list.\n",
        "\n",
        "Recall our plan as we go through our common data types:\n",
        "- Learn how to create\n",
        "- Consider commonly used functions and methods\n",
        "- See control flow and other tricks along the way\n"
      ]
    },
    {
      "cell_type": "markdown",
      "id": "fe956a98",
      "metadata": {
        "id": "fe956a98"
      },
      "source": [
        "# Properties of lists and tuples:\n",
        "\n",
        "Both are:\n",
        "- One-dimensional  \n",
        "- Heterogenous  \n",
        "- Have an ordering (starting at 0)\n",
        "- Can have duplicate values  \n",
        "\n",
        "A few differences:\n",
        "\n",
        "- lists are mutable but tuples are not (cannot be modified)\n",
        "- lists take up more memory"
      ]
    },
    {
      "cell_type": "markdown",
      "source": [
        "# Lists"
      ],
      "metadata": {
        "id": "hAl0pBMqgII_"
      },
      "id": "hAl0pBMqgII_"
    },
    {
      "cell_type": "markdown",
      "id": "a85fc93f",
      "metadata": {
        "id": "a85fc93f"
      },
      "source": [
        "## Constructing a List\n",
        "\n",
        "Earlier we saw there were four ways to construct lists (although we didn't go through them all)\n",
        "- `[element1, element2]`\n",
        "- `list((element1, element2, ...))`\n",
        "- an empty list and use the append method to add elements\n",
        "- list comprehensions"
      ]
    },
    {
      "cell_type": "markdown",
      "id": "e60c0b7c",
      "metadata": {
        "id": "e60c0b7c"
      },
      "source": [
        "---\n",
        "\n",
        "#### Constructing a list from and empty list\n",
        "\n",
        "- Create an empty list and use the append method to add elements"
      ]
    },
    {
      "cell_type": "code",
      "execution_count": 1,
      "id": "f696c0e6",
      "metadata": {
        "id": "f696c0e6"
      },
      "outputs": [],
      "source": [
        "mylist = []\n",
        "# or\n",
        "mylist = list()"
      ]
    },
    {
      "cell_type": "markdown",
      "id": "c4dbc7c8",
      "metadata": {
        "id": "c4dbc7c8"
      },
      "source": [
        "- Add elements with `.append()`"
      ]
    },
    {
      "cell_type": "code",
      "execution_count": 2,
      "id": "4bd178fe",
      "metadata": {
        "lines_to_next_cell": 0,
        "id": "4bd178fe",
        "outputId": "777af63d-e43d-48d4-b709-1c39b70ade31",
        "colab": {
          "base_uri": "https://localhost:8080/"
        }
      },
      "outputs": [
        {
          "output_type": "execute_result",
          "data": {
            "text/plain": [
              "['Dog', 'Cat']"
            ]
          },
          "metadata": {},
          "execution_count": 2
        }
      ],
      "source": [
        "mylist.append(\"Dog\")\n",
        "mylist.append(\"Cat\")\n",
        "mylist"
      ]
    },
    {
      "cell_type": "markdown",
      "id": "fcceaef5",
      "metadata": {
        "id": "fcceaef5"
      },
      "source": [
        "---\n",
        "\n",
        "#### Constructing a List using `[]`\n",
        "\n",
        "- Create an empty list and use the append method to add elements\n",
        "- Often used with a for loop"
      ]
    },
    {
      "cell_type": "code",
      "execution_count": 3,
      "id": "bc3b8b7d",
      "metadata": {
        "lines_to_next_cell": 2,
        "id": "bc3b8b7d",
        "outputId": "b90bd385-ad15-4695-8127-45227f9ca8e2",
        "colab": {
          "base_uri": "https://localhost:8080/"
        }
      },
      "outputs": [
        {
          "output_type": "execute_result",
          "data": {
            "text/plain": [
              "['Dog', 'Horse', 'Frog', 'Cow', 'Buffalo', 'Fox', 'Racoon']"
            ]
          },
          "metadata": {},
          "execution_count": 3
        }
      ],
      "source": [
        "animals = [\"Dog\", \"Cat\", \"Horse\", \"Frog\", \"Cow\", \"Buffalo\", \"Deer\", \"Fish\", \"Bird\", \"Fox\", \"Racoon\"]\n",
        "mylist = []\n",
        "\n",
        "for x in animals:\n",
        "    if \"o\" in x:\n",
        "        mylist.append(x)\n",
        "\n",
        "mylist"
      ]
    },
    {
      "cell_type": "markdown",
      "id": "4223ee59",
      "metadata": {
        "id": "4223ee59"
      },
      "source": [
        "---\n",
        "\n",
        "#### Constructing a list using list comprehensions\n",
        "\n",
        "- Rather than write the loop out, you can use *list comprehensions* (shorthand!)\n",
        "\n",
        "- The general syntax for list comprehensions is:\n",
        "\n",
        "  `[expression for member in iterable]`\n",
        "\n",
        "- Let's do a quick example. First, the for loop way:"
      ]
    },
    {
      "cell_type": "code",
      "execution_count": 4,
      "id": "b194556a",
      "metadata": {
        "id": "b194556a"
      },
      "outputs": [],
      "source": [
        "animals = [\"Dog\", \"Cat\", \"Horse\", \"Frog\", \"Cow\", \"Buffalo\", \"Deer\", \"Fish\", \"Bird\", \"Fox\", \"Racoon\"]\n",
        "mylist = []\n",
        "for x in animals:\n",
        "    mylist.append(x)"
      ]
    },
    {
      "cell_type": "markdown",
      "source": [
        "- Now, we can do the same thing with shorthand!"
      ],
      "metadata": {
        "id": "4m9fS4qAcuc2"
      },
      "id": "4m9fS4qAcuc2"
    },
    {
      "cell_type": "code",
      "execution_count": null,
      "id": "2569e54e",
      "metadata": {
        "id": "2569e54e"
      },
      "outputs": [],
      "source": [
        "mylist = [x for x in animals] #for x in animals, return x (essentially)\n",
        "mylist"
      ]
    },
    {
      "cell_type": "markdown",
      "id": "6cc7b042",
      "metadata": {
        "id": "6cc7b042"
      },
      "source": [
        "- You can do more complicated things with list comprehensions as well. For instance, we can include condition logic.\n",
        "\n",
        "  `[expression for member in iterable (if conditional)]`\n",
        "\n",
        "- First the for loop way:"
      ]
    },
    {
      "cell_type": "code",
      "execution_count": null,
      "id": "d4ebffc9",
      "metadata": {
        "id": "d4ebffc9"
      },
      "outputs": [],
      "source": [
        "animals = [\"Dog\", \"Cat\", \"Horse\", \"Frog\", \"Cow\", \"Buffalo\", \"Deer\", \"Fish\", \"Bird\", \"Fox\", \"Racoon\"]\n",
        "for x in animals:\n",
        "    if \"o\" in x:\n",
        "        mylist.append(x)"
      ]
    },
    {
      "cell_type": "markdown",
      "source": [
        "- Now using a list comprehension:\n"
      ],
      "metadata": {
        "id": "UmhApY-Td-fc"
      },
      "id": "UmhApY-Td-fc"
    },
    {
      "cell_type": "code",
      "execution_count": null,
      "id": "124b30c0",
      "metadata": {
        "id": "124b30c0"
      },
      "outputs": [],
      "source": [
        "mylist = [x for x in animals if \"o\" in x]\n",
        "mylist"
      ]
    },
    {
      "cell_type": "markdown",
      "id": "448df3a7",
      "metadata": {
        "id": "448df3a7"
      },
      "source": [
        "- We can also modify the thing that gets put into the loop. Check out this example where we upper case the string.\n",
        "- First the for loop way:"
      ]
    },
    {
      "cell_type": "code",
      "execution_count": 6,
      "id": "7779d49b",
      "metadata": {
        "lines_to_next_cell": 0,
        "id": "7779d49b",
        "outputId": "f599345d-8df6-4f16-871d-3de77695ec60",
        "colab": {
          "base_uri": "https://localhost:8080/"
        }
      },
      "outputs": [
        {
          "output_type": "execute_result",
          "data": {
            "text/plain": [
              "['DOG', 'HORSE', 'FROG', 'COW', 'BUFFALO', 'FOX', 'RACOON']"
            ]
          },
          "metadata": {},
          "execution_count": 6
        }
      ],
      "source": [
        "animals = [\"Dog\", \"Cat\", \"Horse\", \"Frog\", \"Cow\", \"Buffalo\", \"Deer\", \"Fish\", \"Bird\", \"Fox\", \"Racoon\"]\n",
        "mylist = []\n",
        "\n",
        "for x in animals:\n",
        "    if \"o\" in x:\n",
        "        mylist.append(x.upper()) #upper case prior to appending\n",
        "\n",
        "mylist"
      ]
    },
    {
      "cell_type": "markdown",
      "id": "a560d0d1",
      "metadata": {
        "id": "a560d0d1"
      },
      "source": [
        "- Now using a list comprehension:"
      ]
    },
    {
      "cell_type": "code",
      "execution_count": 5,
      "id": "243ce023",
      "metadata": {
        "lines_to_next_cell": 2,
        "id": "243ce023",
        "outputId": "a7e661a6-b152-44f4-932c-e7143168bf8f",
        "colab": {
          "base_uri": "https://localhost:8080/"
        }
      },
      "outputs": [
        {
          "output_type": "execute_result",
          "data": {
            "text/plain": [
              "['DOG', 'HORSE', 'FROG', 'COW', 'BUFFALO', 'FOX', 'RACOON']"
            ]
          },
          "metadata": {},
          "execution_count": 5
        }
      ],
      "source": [
        "mylist = [x.upper() for x in animals if \"o\" in x]\n",
        "mylist"
      ]
    },
    {
      "cell_type": "markdown",
      "id": "8293335b",
      "metadata": {
        "id": "8293335b"
      },
      "source": [
        "---\n",
        "\n",
        "## Reminder About Strings\n",
        "\n",
        "- Strings are a sequence type object (so you can iterate over them naturally)"
      ]
    },
    {
      "cell_type": "code",
      "execution_count": 7,
      "id": "848345d1",
      "metadata": {
        "id": "848345d1",
        "outputId": "a8049af4-6314-4bfb-d7b4-a4401b631e20",
        "colab": {
          "base_uri": "https://localhost:8080/"
        }
      },
      "outputs": [
        {
          "output_type": "execute_result",
          "data": {
            "text/plain": [
              "['a', 'o', 'o', 'e', 'e', 'a', 'i', 'a', 'i', 'o']"
            ]
          },
          "metadata": {},
          "execution_count": 7
        }
      ],
      "source": [
        "mylist = []\n",
        "for x in \"Man do I love learning all this python!\":\n",
        "    if x in \"aeiou\":\n",
        "        mylist.append(x)\n",
        "mylist"
      ]
    },
    {
      "cell_type": "markdown",
      "id": "ce50458c",
      "metadata": {
        "id": "ce50458c"
      },
      "source": [
        "- That means we can do something like the for loop above using list comprehensions!"
      ]
    },
    {
      "cell_type": "code",
      "execution_count": 8,
      "id": "5f4442c3",
      "metadata": {
        "lines_to_next_cell": 2,
        "id": "5f4442c3",
        "outputId": "7e0deb4a-9893-43a8-db6a-720c6350bfe0",
        "colab": {
          "base_uri": "https://localhost:8080/"
        }
      },
      "outputs": [
        {
          "output_type": "execute_result",
          "data": {
            "text/plain": [
              "['a', 'o', 'o', 'e', 'e', 'a', 'i', 'a', 'i', 'o']"
            ]
          },
          "metadata": {},
          "execution_count": 8
        }
      ],
      "source": [
        "mylist = [x for x in \"Man do I love learning all this python!\" if x in \"aeiou\"]\n",
        "mylist"
      ]
    },
    {
      "cell_type": "markdown",
      "id": "f3f5a85b",
      "metadata": {
        "lines_to_next_cell": 0,
        "id": "f3f5a85b"
      },
      "source": [
        "---\n",
        "\n",
        "## List Operations (Indexing & Slicing)\n",
        "\n",
        "Recall:\n",
        "\n",
        "- Index with a `[]` (just like strings)\n",
        "- Counting starts at 0"
      ]
    },
    {
      "cell_type": "code",
      "execution_count": 9,
      "id": "7d2c9c1b",
      "metadata": {
        "lines_to_next_cell": 0,
        "id": "7d2c9c1b",
        "outputId": "f53c3d63-58f3-4d4b-81e7-1787c58528bd",
        "colab": {
          "base_uri": "https://localhost:8080/"
        }
      },
      "outputs": [
        {
          "output_type": "execute_result",
          "data": {
            "text/plain": [
              "10"
            ]
          },
          "metadata": {},
          "execution_count": 9
        }
      ],
      "source": [
        "x = [10, 15, 10, 100, \"Help!\"]\n",
        "x[0]"
      ]
    },
    {
      "cell_type": "code",
      "source": [
        "x[1]"
      ],
      "metadata": {
        "id": "uNRqFVw_eieD",
        "outputId": "8a79749c-c1ac-4597-cee4-df74c5591d9c",
        "colab": {
          "base_uri": "https://localhost:8080/"
        }
      },
      "id": "uNRqFVw_eieD",
      "execution_count": 10,
      "outputs": [
        {
          "output_type": "execute_result",
          "data": {
            "text/plain": [
              "15"
            ]
          },
          "metadata": {},
          "execution_count": 10
        }
      ]
    },
    {
      "cell_type": "code",
      "source": [
        "x[-1]"
      ],
      "metadata": {
        "id": "ITNn36EAejXy",
        "outputId": "d4aec7bb-b4a6-4667-ac73-d44da9736f25",
        "colab": {
          "base_uri": "https://localhost:8080/",
          "height": 35
        }
      },
      "id": "ITNn36EAejXy",
      "execution_count": 11,
      "outputs": [
        {
          "output_type": "execute_result",
          "data": {
            "text/plain": [
              "'Help!'"
            ],
            "application/vnd.google.colaboratory.intrinsic+json": {
              "type": "string"
            }
          },
          "metadata": {},
          "execution_count": 11
        }
      ]
    },
    {
      "cell_type": "markdown",
      "id": "d5225c21",
      "metadata": {
        "id": "d5225c21"
      },
      "source": [
        "- Multiple elements at once with `:`\n",
        "- Remember the last number isn't included and the counting starts at 0\n",
        "  + `:2` is really giving you 0 and 1"
      ]
    },
    {
      "cell_type": "code",
      "execution_count": 14,
      "id": "aaa8bb0e",
      "metadata": {
        "lines_to_next_cell": 0,
        "id": "aaa8bb0e",
        "outputId": "d44e1213-d4bd-4b38-ed79-b0c8033b291d",
        "colab": {
          "base_uri": "https://localhost:8080/"
        }
      },
      "outputs": [
        {
          "output_type": "execute_result",
          "data": {
            "text/plain": [
              "[10, 15]"
            ]
          },
          "metadata": {},
          "execution_count": 14
        }
      ],
      "source": [
        "x[:2]"
      ]
    },
    {
      "cell_type": "code",
      "source": [
        "x[1:]"
      ],
      "metadata": {
        "id": "F6uk3GxienZ5",
        "outputId": "6273910b-725f-4e6c-b52a-908db5896dc7",
        "colab": {
          "base_uri": "https://localhost:8080/"
        }
      },
      "id": "F6uk3GxienZ5",
      "execution_count": 15,
      "outputs": [
        {
          "output_type": "execute_result",
          "data": {
            "text/plain": [
              "[15, 10, 100, 'Help!']"
            ]
          },
          "metadata": {},
          "execution_count": 15
        }
      ]
    },
    {
      "cell_type": "code",
      "source": [
        "x[1:3]"
      ],
      "metadata": {
        "id": "cIS3DLFFeofJ",
        "outputId": "af1a5aa4-4f4f-4d1e-fe35-bc96378eb1bc",
        "colab": {
          "base_uri": "https://localhost:8080/"
        }
      },
      "id": "cIS3DLFFeofJ",
      "execution_count": 16,
      "outputs": [
        {
          "output_type": "execute_result",
          "data": {
            "text/plain": [
              "[15, 10]"
            ]
          },
          "metadata": {},
          "execution_count": 16
        }
      ]
    },
    {
      "cell_type": "code",
      "source": [
        "x[1:4:2]"
      ],
      "metadata": {
        "id": "WOnULRneepWS",
        "outputId": "ed01ed93-8061-46b3-9f64-f9dada8c817b",
        "colab": {
          "base_uri": "https://localhost:8080/"
        }
      },
      "id": "WOnULRneepWS",
      "execution_count": 17,
      "outputs": [
        {
          "output_type": "execute_result",
          "data": {
            "text/plain": [
              "[15, 100]"
            ]
          },
          "metadata": {},
          "execution_count": 17
        }
      ]
    },
    {
      "cell_type": "markdown",
      "id": "f0a069ee",
      "metadata": {
        "id": "f0a069ee"
      },
      "source": [
        "---\n",
        "\n",
        "## Lists are Mutable\n",
        "\n",
        "- That is, we can replace or change elements of a list"
      ]
    },
    {
      "cell_type": "code",
      "execution_count": 18,
      "id": "a9adea2f",
      "metadata": {
        "lines_to_next_cell": 0,
        "id": "a9adea2f",
        "outputId": "fa277ff4-74c9-47f1-f261-a827c2e6564d",
        "colab": {
          "base_uri": "https://localhost:8080/"
        }
      },
      "outputs": [
        {
          "output_type": "execute_result",
          "data": {
            "text/plain": [
              "[11, 15, 10, 100, 'Help!']"
            ]
          },
          "metadata": {},
          "execution_count": 18
        }
      ],
      "source": [
        "x = [10, 15, 10, 100, \"Help!\"]\n",
        "x[0] = 11\n",
        "x"
      ]
    },
    {
      "cell_type": "code",
      "source": [
        "x[1] = [\"hi\", \"ho\"]\n",
        "x"
      ],
      "metadata": {
        "id": "JjWIozFQe13I",
        "outputId": "20086494-063a-4f49-e0a2-9bdc7c3fc149",
        "colab": {
          "base_uri": "https://localhost:8080/"
        }
      },
      "id": "JjWIozFQe13I",
      "execution_count": 19,
      "outputs": [
        {
          "output_type": "execute_result",
          "data": {
            "text/plain": [
              "[11, ['hi', 'ho'], 10, 100, 'Help!']"
            ]
          },
          "metadata": {},
          "execution_count": 19
        }
      ]
    },
    {
      "cell_type": "code",
      "source": [
        "x[1:3] = [1, 2]\n",
        "x"
      ],
      "metadata": {
        "id": "EQ1w-0Cqe2tZ",
        "outputId": "09eadbb2-4d9b-48c7-e6d7-e1f7ed48dae4",
        "colab": {
          "base_uri": "https://localhost:8080/"
        }
      },
      "id": "EQ1w-0Cqe2tZ",
      "execution_count": 20,
      "outputs": [
        {
          "output_type": "execute_result",
          "data": {
            "text/plain": [
              "[11, 1, 2, 100, 'Help!']"
            ]
          },
          "metadata": {},
          "execution_count": 20
        }
      ]
    },
    {
      "cell_type": "markdown",
      "id": "4d88e239",
      "metadata": {
        "id": "4d88e239"
      },
      "source": [
        "---\n",
        "\n",
        "## List Methods  \n",
        "\n",
        "[Many useful methods](https://docs.python.org/3/tutorial/datastructures.html#tuples-and-sequences) to modify lists:\n",
        "\n",
        "- `mylist.append(object_to_add)`"
      ]
    },
    {
      "cell_type": "code",
      "execution_count": 21,
      "id": "19ee51db",
      "metadata": {
        "id": "19ee51db",
        "outputId": "7005d1fb-76cd-447e-a250-a74761abd873",
        "colab": {
          "base_uri": "https://localhost:8080/"
        }
      },
      "outputs": [
        {
          "output_type": "execute_result",
          "data": {
            "text/plain": [
              "[1, 2, 3, 4, 5, 6, 7, 8, 9, ['a', 'b', 'c', 'd', 'e']]"
            ]
          },
          "metadata": {},
          "execution_count": 21
        }
      ],
      "source": [
        "x = [x for x in range(1,10)]\n",
        "y = [y for y in \"abcde\"]\n",
        "x.append(y) #modifies x\n",
        "x"
      ]
    },
    {
      "cell_type": "markdown",
      "id": "59de66c8",
      "metadata": {
        "id": "59de66c8"
      },
      "source": [
        "- `mylist.extend(object_to_add)`"
      ]
    },
    {
      "cell_type": "code",
      "execution_count": 50,
      "id": "f4171b9f",
      "metadata": {
        "lines_to_next_cell": 0,
        "id": "f4171b9f",
        "outputId": "b01fb26e-f37f-4d5f-bcbb-815ba671be18",
        "colab": {
          "base_uri": "https://localhost:8080/"
        }
      },
      "outputs": [
        {
          "output_type": "execute_result",
          "data": {
            "text/plain": [
              "[1, 2, 3, 4, 5, 6, 7, 8, 9, 'a', 'b', 'c', 'd', 'e']"
            ]
          },
          "metadata": {},
          "execution_count": 50
        }
      ],
      "source": [
        "x = [x for x in range(1,10)]\n",
        "y = [y for y in \"abcde\"]\n",
        "x.extend(y) #modifies x and iterates over list elements rather than appending a list into x\n",
        "x"
      ]
    },
    {
      "cell_type": "markdown",
      "source": [
        "- Using `+` is similar but doesn't overwrite `x`"
      ],
      "metadata": {
        "id": "9q3s4gdCe9Dp"
      },
      "id": "9q3s4gdCe9Dp"
    },
    {
      "cell_type": "code",
      "execution_count": 23,
      "id": "ba6f84ab",
      "metadata": {
        "lines_to_next_cell": 2,
        "id": "ba6f84ab",
        "outputId": "514479ac-509c-421d-8588-0752df53d6a6",
        "colab": {
          "base_uri": "https://localhost:8080/"
        }
      },
      "outputs": [
        {
          "output_type": "execute_result",
          "data": {
            "text/plain": [
              "[1, 2, 3, 4, 5, 6, 7, 8, 9, 'a', 'b', 'c', 'd', 'e', 'a', 'b', 'c', 'd', 'e']"
            ]
          },
          "metadata": {},
          "execution_count": 23
        }
      ],
      "source": [
        "x + y"
      ]
    },
    {
      "cell_type": "markdown",
      "id": "e9650691",
      "metadata": {
        "id": "e9650691"
      },
      "source": [
        "- `mylist.insert(index, object_to_add)`"
      ]
    },
    {
      "cell_type": "code",
      "execution_count": 24,
      "id": "b77c7b49",
      "metadata": {
        "id": "b77c7b49",
        "outputId": "42193131-92f5-4506-c3f7-641a1026bf18",
        "colab": {
          "base_uri": "https://localhost:8080/"
        }
      },
      "outputs": [
        {
          "output_type": "execute_result",
          "data": {
            "text/plain": [
              "['a', 'b', 30, 'c', 'd', 'e']"
            ]
          },
          "metadata": {},
          "execution_count": 24
        }
      ],
      "source": [
        "y = [y for y in \"abcde\"]\n",
        "y.insert(2, 30) #modifies y\n",
        "y"
      ]
    },
    {
      "cell_type": "markdown",
      "id": "f51f4467",
      "metadata": {
        "id": "f51f4467"
      },
      "source": [
        "- `mylist.remove(element_to_remove)`"
      ]
    },
    {
      "cell_type": "code",
      "execution_count": 25,
      "id": "c8ed2717",
      "metadata": {
        "lines_to_next_cell": 2,
        "id": "c8ed2717",
        "outputId": "a9b4e27b-3555-4fd2-b4ee-61802e0fecae",
        "colab": {
          "base_uri": "https://localhost:8080/"
        }
      },
      "outputs": [
        {
          "output_type": "execute_result",
          "data": {
            "text/plain": [
              "['a', 'b', 30, 'c', 'e']"
            ]
          },
          "metadata": {},
          "execution_count": 25
        }
      ],
      "source": [
        "y.remove(\"d\") #modifies y\n",
        "y"
      ]
    },
    {
      "cell_type": "markdown",
      "id": "42e8043b",
      "metadata": {
        "id": "42e8043b"
      },
      "source": [
        "- `mylist.count(value)`"
      ]
    },
    {
      "cell_type": "code",
      "execution_count": 51,
      "id": "fa5cad48",
      "metadata": {
        "lines_to_next_cell": 2,
        "id": "fa5cad48",
        "outputId": "3cffb01a-2678-4bc4-b507-c52539344d02",
        "colab": {
          "base_uri": "https://localhost:8080/"
        }
      },
      "outputs": [
        {
          "output_type": "stream",
          "name": "stdout",
          "text": [
            "[0, 1, 2, 3, 0, 1, 2, 3, 0, 1, 2, 3, 0, 1, 2, 3]\n"
          ]
        },
        {
          "output_type": "execute_result",
          "data": {
            "text/plain": [
              "4"
            ]
          },
          "metadata": {},
          "execution_count": 51
        }
      ],
      "source": [
        "w = [x for x in range(0, 4)] * 4\n",
        "print(w)\n",
        "w.count(1)"
      ]
    },
    {
      "cell_type": "markdown",
      "id": "2fa2dc64",
      "metadata": {
        "id": "2fa2dc64"
      },
      "source": [
        "- `mylist.index(value)`"
      ]
    },
    {
      "cell_type": "code",
      "execution_count": 52,
      "id": "8a434843",
      "metadata": {
        "lines_to_next_cell": 0,
        "id": "8a434843",
        "outputId": "0f68ce44-4268-4f15-c724-b3fdc8b75ae7",
        "colab": {
          "base_uri": "https://localhost:8080/"
        }
      },
      "outputs": [
        {
          "output_type": "stream",
          "name": "stdout",
          "text": [
            "['a', 'b', 'c', 'd', 'e', 'z', 'y', 'z', 'y', 'z', 'y']\n",
            "6\n",
            "8\n"
          ]
        }
      ],
      "source": [
        "v = [y for y in \"abcde\"]\n",
        "v.extend([\"z\", \"y\"] * 3)\n",
        "print(v)\n",
        "print(v.index(\"y\"))\n",
        "print(v.index(\"y\", v.index(\"y\") + 1))"
      ]
    },
    {
      "cell_type": "markdown",
      "id": "0e0d3293",
      "metadata": {
        "id": "0e0d3293"
      },
      "source": [
        "---\n",
        "\n",
        "### List Packing & Unpacking\n",
        "\n",
        "- We can **pack** a list. That is, put a bunch of values in a list in one line of code."
      ]
    },
    {
      "cell_type": "code",
      "execution_count": 53,
      "id": "ec847055",
      "metadata": {
        "id": "ec847055",
        "outputId": "8e92da02-eb87-418a-98c4-73a262bc71a4",
        "colab": {
          "base_uri": "https://localhost:8080/"
        }
      },
      "outputs": [
        {
          "output_type": "stream",
          "name": "stdout",
          "text": [
            "Dog Cat Horse\n"
          ]
        }
      ],
      "source": [
        "animals = [\"Dog\", \"Cat\", \"Horse\", \"Frog\", \"Cow\", \"Buffalo\", \"Deer\", \"Fish\", \"Bird\", \"Fox\", \"Racoon\"]\n",
        "short_animals = animals[:3]\n",
        "\n",
        "#pack the values first, second, and third\n",
        "first, second, third = short_animals\n",
        "print(first + \" \" + second + \" \" + third)"
      ]
    },
    {
      "cell_type": "markdown",
      "id": "a6cfb8a7",
      "metadata": {
        "id": "a6cfb8a7"
      },
      "source": [
        "- We can also pack leftover elements into a list using `*name`"
      ]
    },
    {
      "cell_type": "code",
      "execution_count": 36,
      "id": "a7eab489",
      "metadata": {
        "id": "a7eab489",
        "outputId": "83a98017-5d42-472a-eea0-3f5e0da76215",
        "colab": {
          "base_uri": "https://localhost:8080/"
        }
      },
      "outputs": [
        {
          "output_type": "stream",
          "name": "stdout",
          "text": [
            "Dog Cat Horse\n",
            "['Frog', 'Cow', 'Buffalo', 'Deer', 'Fish', 'Bird', 'Fox', 'Racoon']\n"
          ]
        }
      ],
      "source": [
        "first, second, third, *other = animals\n",
        "print(first + \" \" + second + \" \" + third)\n",
        "print(other)"
      ]
    },
    {
      "cell_type": "markdown",
      "id": "8c5ccfd5",
      "metadata": {
        "id": "8c5ccfd5"
      },
      "source": [
        "- You can pack in different orders as well!"
      ]
    },
    {
      "cell_type": "code",
      "execution_count": 37,
      "id": "2fb70157",
      "metadata": {
        "lines_to_next_cell": 0,
        "tags": [
          "remove_input"
        ],
        "id": "2fb70157",
        "outputId": "da988c45-9dba-4a41-9d49-39b7545f92f9",
        "colab": {
          "base_uri": "https://localhost:8080/"
        }
      },
      "outputs": [
        {
          "output_type": "stream",
          "name": "stdout",
          "text": [
            "['Dog', 'Cat', 'Horse', 'Frog', 'Cow', 'Buffalo', 'Deer', 'Fish', 'Bird']\n",
            "Fox Racoon\n"
          ]
        }
      ],
      "source": [
        "animals = [\"Dog\", \"Cat\", \"Horse\", \"Frog\", \"Cow\", \"Buffalo\", \"Deer\", \"Fish\", \"Bird\", \"Fox\", \"Racoon\"]\n",
        "*other, second_last, last = animals\n",
        "print(other)\n",
        "print(second_last + \" \" + last)"
      ]
    },
    {
      "cell_type": "markdown",
      "id": "e39f0fef",
      "metadata": {
        "id": "e39f0fef"
      },
      "source": [
        "- If we want to ignore some of the values we can use our `_` temporary variable with packing and `*`:"
      ]
    },
    {
      "cell_type": "code",
      "execution_count": 38,
      "id": "6a8af196",
      "metadata": {
        "lines_to_next_cell": 2,
        "id": "6a8af196",
        "outputId": "fe766c29-bf71-4eee-88eb-e00f27e91943",
        "colab": {
          "base_uri": "https://localhost:8080/"
        }
      },
      "outputs": [
        {
          "output_type": "stream",
          "name": "stdout",
          "text": [
            "Dog Racoon\n"
          ]
        }
      ],
      "source": [
        "first, *_, last = animals\n",
        "print(first + \" \" + last)"
      ]
    },
    {
      "cell_type": "markdown",
      "id": "2df3f4f3",
      "metadata": {
        "id": "2df3f4f3"
      },
      "source": [
        "- Later we'll look at **unpacking** a list when calling functions"
      ]
    },
    {
      "cell_type": "code",
      "execution_count": 39,
      "id": "48e7d2df",
      "metadata": {
        "lines_to_next_cell": 0,
        "id": "48e7d2df",
        "outputId": "bf786e34-1b54-48df-c104-91ae5a6fe6d7",
        "colab": {
          "base_uri": "https://localhost:8080/"
        }
      },
      "outputs": [
        {
          "output_type": "stream",
          "name": "stdout",
          "text": [
            "cat dog cow\n"
          ]
        }
      ],
      "source": [
        "def my_fun(a, b, c):\n",
        "    print(a, b, c)\n",
        "\n",
        "fav_animals = [\"cat\", \"dog\", \"cow\"]\n",
        "my_fun(*fav_animals)"
      ]
    },
    {
      "cell_type": "markdown",
      "source": [
        "---\n",
        "\n",
        "# Tuples"
      ],
      "metadata": {
        "id": "F8ef75OCgM2d"
      },
      "id": "F8ef75OCgM2d"
    },
    {
      "cell_type": "markdown",
      "id": "5f57718f",
      "metadata": {
        "lines_to_next_cell": 0,
        "id": "5f57718f"
      },
      "source": [
        "## Constructing Tuples\n",
        "\n",
        "- [Tuples](https://docs.python.org/3/tutorial/datastructures.html#tuples-and-sequences) are very similar to lists but aren't mutable\n",
        "- We create by separating elements with a `,`, `( )`, or `tuple(())`"
      ]
    },
    {
      "cell_type": "code",
      "execution_count": 40,
      "id": "e9ad90b1",
      "metadata": {
        "lines_to_next_cell": 0,
        "id": "e9ad90b1",
        "outputId": "170ac7aa-bc5c-48fe-fd38-8f6961c7358a",
        "colab": {
          "base_uri": "https://localhost:8080/"
        }
      },
      "outputs": [
        {
          "output_type": "execute_result",
          "data": {
            "text/plain": [
              "(3, 10, 'word', True)"
            ]
          },
          "metadata": {},
          "execution_count": 40
        }
      ],
      "source": [
        "tup1 = 3, 10, \"word\", True\n",
        "tup1"
      ]
    },
    {
      "cell_type": "code",
      "source": [
        "tup2 = (1, 2, \"word\", False)\n",
        "tup2"
      ],
      "metadata": {
        "id": "TU4BaKsVgTTl",
        "outputId": "b2e49e87-6e8e-4d25-a335-bd0442c4362a",
        "colab": {
          "base_uri": "https://localhost:8080/"
        }
      },
      "id": "TU4BaKsVgTTl",
      "execution_count": 41,
      "outputs": [
        {
          "output_type": "execute_result",
          "data": {
            "text/plain": [
              "(1, 2, 'word', False)"
            ]
          },
          "metadata": {},
          "execution_count": 41
        }
      ]
    },
    {
      "cell_type": "code",
      "source": [
        "tup3 = tuple((tup1, tup2))\n",
        "tup3"
      ],
      "metadata": {
        "id": "uiN1rKj9gUJM",
        "outputId": "84431c36-8a14-44b7-e0ef-d1a1841492d9",
        "colab": {
          "base_uri": "https://localhost:8080/"
        }
      },
      "id": "uiN1rKj9gUJM",
      "execution_count": 42,
      "outputs": [
        {
          "output_type": "execute_result",
          "data": {
            "text/plain": [
              "((3, 10, 'word', True), (1, 2, 'word', False))"
            ]
          },
          "metadata": {},
          "execution_count": 42
        }
      ]
    },
    {
      "cell_type": "code",
      "execution_count": 43,
      "id": "86236af9",
      "metadata": {
        "lines_to_next_cell": 0,
        "id": "86236af9",
        "outputId": "a3b406fd-7381-4d47-81c3-de4d6a5ef480",
        "colab": {
          "base_uri": "https://localhost:8080/"
        }
      },
      "outputs": [
        {
          "output_type": "execute_result",
          "data": {
            "text/plain": [
              "(3, 10, 'word', True, 1, 2, 'word', False)"
            ]
          },
          "metadata": {},
          "execution_count": 43
        }
      ],
      "source": [
        "tup4 = tup1 + tup2\n",
        "tup4"
      ]
    },
    {
      "cell_type": "code",
      "execution_count": 44,
      "id": "778ea622",
      "metadata": {
        "lines_to_next_cell": 0,
        "id": "778ea622",
        "outputId": "eac74bb6-c370-4117-fa51-b7ff0e24b5b6",
        "colab": {
          "base_uri": "https://localhost:8080/"
        }
      },
      "outputs": [
        {
          "output_type": "execute_result",
          "data": {
            "text/plain": [
              "(1, [1, 3])"
            ]
          },
          "metadata": {},
          "execution_count": 44
        }
      ],
      "source": [
        "tup5 = (1, [1, 3])\n",
        "tup5"
      ]
    },
    {
      "cell_type": "code",
      "source": [
        "tup5 * 3"
      ],
      "metadata": {
        "id": "3YINPGeqgW3l",
        "outputId": "3396d24e-faf9-4df7-fee0-3e9c7dcbaa6c",
        "colab": {
          "base_uri": "https://localhost:8080/"
        }
      },
      "id": "3YINPGeqgW3l",
      "execution_count": 45,
      "outputs": [
        {
          "output_type": "execute_result",
          "data": {
            "text/plain": [
              "(1, [1, 3], 1, [1, 3], 1, [1, 3])"
            ]
          },
          "metadata": {},
          "execution_count": 45
        }
      ]
    },
    {
      "cell_type": "code",
      "source": [
        "tup5[1][1] = 5 #can still modify mutable elements"
      ],
      "metadata": {
        "id": "uCrwxt-_gYHU"
      },
      "id": "uCrwxt-_gYHU",
      "execution_count": 46,
      "outputs": []
    },
    {
      "cell_type": "code",
      "source": [
        "tup5"
      ],
      "metadata": {
        "id": "qa8GSmzhgZTd",
        "outputId": "94139ca6-5db8-4f38-d4c0-ee085a3db0ca",
        "colab": {
          "base_uri": "https://localhost:8080/"
        }
      },
      "id": "qa8GSmzhgZTd",
      "execution_count": 47,
      "outputs": [
        {
          "output_type": "execute_result",
          "data": {
            "text/plain": [
              "(1, [1, 5])"
            ]
          },
          "metadata": {},
          "execution_count": 47
        }
      ]
    },
    {
      "cell_type": "markdown",
      "id": "fcb91440",
      "metadata": {
        "id": "fcb91440"
      },
      "source": [
        "---\n",
        "\n",
        "## Constructing Tuples from list comprehensions\n",
        "\n",
        "- To populate a tuple we can wrap a list comprehension with `tuple()`"
      ]
    },
    {
      "cell_type": "code",
      "execution_count": 48,
      "id": "7729c880",
      "metadata": {
        "id": "7729c880",
        "outputId": "d97b0c95-37d6-458a-d299-3a483e47ed39",
        "colab": {
          "base_uri": "https://localhost:8080/"
        }
      },
      "outputs": [
        {
          "output_type": "execute_result",
          "data": {
            "text/plain": [
              "(1, 2, 3, 4, 5, 6, 7, 8, 9)"
            ]
          },
          "metadata": {},
          "execution_count": 48
        }
      ],
      "source": [
        "y = [x for x in range(1, 10)]\n",
        "y = tuple(y)\n",
        "y"
      ]
    },
    {
      "cell_type": "markdown",
      "id": "b33f099b",
      "metadata": {
        "id": "b33f099b"
      },
      "source": [
        "- Can sort of edit a tuple by switching it between a list and a tuple... but this isn't really editing it!"
      ]
    },
    {
      "cell_type": "code",
      "execution_count": 49,
      "id": "2477fb0d",
      "metadata": {
        "lines_to_next_cell": 2,
        "id": "2477fb0d",
        "outputId": "2e8b7a64-4a64-4242-bcd8-6bf7b22dc232",
        "colab": {
          "base_uri": "https://localhost:8080/"
        }
      },
      "outputs": [
        {
          "output_type": "execute_result",
          "data": {
            "text/plain": [
              "(1, 2, 3, 4, 5, 6, 7, 8, 9, 'new element')"
            ]
          },
          "metadata": {},
          "execution_count": 49
        }
      ],
      "source": [
        "y = list(y)\n",
        "y.append(\"new element\")\n",
        "y = tuple(y)\n",
        "y"
      ]
    },
    {
      "cell_type": "markdown",
      "id": "fb5d45f4",
      "metadata": {
        "id": "fb5d45f4"
      },
      "source": [
        "---\n",
        "\n",
        "## Tuple Operations & Methods\n",
        "\n",
        "As with strings and lists:\n",
        "\n",
        "- We can index and slice using `[:]`\n",
        "\n",
        "- Concatenate with `+` and `*`\n",
        "\n",
        "- Some similar functions like `len()` and `count()`\n",
        "\n",
        "- Some similar methods like `.index()` and `.count()`\n",
        "\n",
        "- Can do packing and unpacking  "
      ]
    },
    {
      "cell_type": "markdown",
      "source": [
        "---\n",
        "\n",
        "# Video Demo\n",
        "\n",
        "This quick video demo shows an example of creating lists with the `map()` function and utilizing the `zip()` function for iterating over multiple lists at the same time. (Coming Soon)"
      ],
      "metadata": {
        "id": "NJ53Ow-bgyHk"
      },
      "id": "NJ53Ow-bgyHk"
    },
    {
      "cell_type": "markdown",
      "id": "4506aa44",
      "metadata": {
        "id": "4506aa44"
      },
      "source": [
        "---\n",
        "\n",
        "# Recap\n",
        "\n",
        "- Lists and tuples are very similar\n",
        "\n",
        "    + Heterogenous elements\n",
        "    + Sequence type objects\n",
        "    + Ordering (counting starts at 0)\n",
        "    + Index with `[]`\n",
        "    \n",
        "- Lists are mutable but tuples are not\n",
        "\n",
        "- List comprehensions are a common quick way to populate a list\n",
        "\n"
      ]
    }
  ],
  "metadata": {
    "jupytext": {
      "cell_metadata_filter": "tags,warning,message,-all",
      "main_language": "python",
      "notebook_metadata_filter": "-all"
    },
    "colab": {
      "provenance": [],
      "toc_visible": true
    },
    "language_info": {
      "name": "python"
    },
    "kernelspec": {
      "name": "python3",
      "display_name": "Python 3"
    }
  },
  "nbformat": 4,
  "nbformat_minor": 5
}