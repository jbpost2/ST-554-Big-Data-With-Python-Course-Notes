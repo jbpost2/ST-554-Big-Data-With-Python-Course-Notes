{
 "cells": [
  {
   "cell_type": "raw",
   "id": "ac11fc31",
   "metadata": {},
   "source": [
    "---\n",
    "title: \"Modules\"\n",
    "author: \"Justin Post (Some notes modified from Dr. Eric Chi)\"\n",
    "output:\n",
    "  xaringan::moon_reader:\n",
    "    seal: false\n",
    "    lib_dir: libs\n",
    "    css: [default, \"css/ncsu.css\", \"css/ncsu-fonts.css\", \"css/mycss.css\"]\n",
    "    nature:\n",
    "      beforeInit: [\"js/ncsu-scale.js\"]\n",
    "      highlightStyle: github\n",
    "      highlightLines: true\n",
    "      countIncrementalSlides: false\n",
    "      ratio: \"16:9\"\n",
    "    includes:\n",
    "      in_header: \"partials/header.html\"\n",
    "editor_options: \n",
    "  chunk_output_type: console\n",
    "---"
   ]
  },
  {
   "cell_type": "code",
   "execution_count": null,
   "id": "d6ec4be3",
   "metadata": {
    "lines_to_next_cell": 2,
    "message": false,
    "tags": [
     "remove_cell"
    ],
    "warning": false
   },
   "outputs": [],
   "source": [
    "%%R\n",
    "options(htmltools.dir.version = FALSE)\n",
    "knitr::opts_chunk$set(\n",
    "  message = FALSE,\n",
    "  warning = FALSE,\n",
    "  dev = \"svg\",\n",
    "  fig.align = \"center\",\n",
    "  #fig.width = 11,\n",
    "  #fig.height = 5\n",
    "  cache = TRUE\n",
    ")\n",
    "\n",
    "# define vars\n",
    "om = par(\"mar\")\n",
    "lowtop = c(om[1],om[2],0.1,om[4])\n",
    "library(tidyverse)\n",
    "library(knitr)\n",
    "library(reticulate)\n",
    "use_python(\"C:\\\\Users\\\\jbpost2\\\\AppData\\\\Local\\\\Programs\\\\Python\\\\Python310\\\\python.exe\")\n",
    "#use_python(\"C:\\\\python\\\\python.exe\")\n",
    "options(dplyr.print_min = 5)\n",
    "options(reticulate.repl.quiet = TRUE)"
   ]
  },
  {
   "cell_type": "markdown",
   "id": "56a1dc17",
   "metadata": {},
   "source": [
    "layout: false\n",
    "class: title-slide-section-red, middle\n",
    "\n",
    "# Modules\n",
    "Justin Post\n",
    "\n",
    "---\n",
    "layout: true\n",
    "\n",
    "<div class=\"my-footer\"><img src=\"img/logo.png\" style=\"height: 60px;\"/></div> \n",
    "\n",
    "---\n",
    "    \n",
    "# Where are we at?  \n",
    "\n",
    "- Access `python` through `JupyterLab` using `Docker`\n",
    "\n",
    "- Python\n",
    "    + Create variables with `=`\n",
    "    + Many built-in data structures\n",
    "    + Functions and Methods\n",
    "\n",
    "- JupyterLab is a great environment for learning python and using it for exploring data\n",
    "    + Jupyter notebooks\n",
    "    + Cells with code, markdown, or raw text\n",
    "    + Markdown is a basic language for formatting text\n",
    "\n",
    "---\n",
    "\n",
    "# Programming in Python (Prep for Dealing with Big Data)\n",
    "\n",
    "- `JupyterLab` as our IDE (interactive development environment)\n",
    "- Basic Use of Python\n",
    "- Markdown capabilities\n",
    "- Python Modules\n",
    "\n",
    "<br>\n",
    "\n",
    "- Basic data types & Writing Functions\n",
    "- Control flow (if/then/else, Looping)\n",
    "- Summarizing Data Ideas\n",
    "\n",
    "<br>\n",
    "\n",
    "- Compound data types (including `Numpy` arrays, `pandas` data frames)\n",
    "- Summarizing data\n",
    "- Common models and model evaluation\n",
    "\n",
    "---\n",
    "\n",
    "# What is a Module?\n",
    "\n",
    "- A collection of (related) definitions and statements that are grouped together in a single file (a `.py` file)\n",
    "\n",
    "    + Gives access to additional functionality\n",
    "    \n",
    "- Some come standard, others must be installed (downloaded)  \n",
    "\n",
    "--\n",
    "\n",
    "- Modules are then imported into your session \n",
    "\n",
    "    + Fully imported with `import module_name`\n",
    "    + Selective import with `from module_name import thing1 thing2`  \n",
    "    \n",
    "\n",
    "---"
   ]
  },
  {
   "cell_type": "markdown",
   "id": "bf4064ae",
   "metadata": {},
   "source": [
    "# Commonly Used Built-in (Already Downloaded) Modules\n",
    "\n",
    "- `math` \n",
    "    + Math constants (`pi`, `e`, etc.) \n",
    "    + Functions commonly used functions (`exp()`, `sin()`, `sqrt()`, etc.)\n",
    "- `random` \n",
    "    + Random sampling and random number generation\n",
    "- `statistics` \n",
    "    + Summary stats (but `scipy` and `pandas` have a lot more)\n",
    "- `datetime` \n",
    "    + Functionality for working with dates"
   ]
  },
  {
   "cell_type": "markdown",
   "id": "88a2cac4",
   "metadata": {},
   "source": [
    "---"
   ]
  },
  {
   "cell_type": "markdown",
   "id": "169d7c2f",
   "metadata": {},
   "source": [
    "# Importing a Module\n",
    "\n",
    "- For built-in modules, we can load them into our session with `import`"
   ]
  },
  {
   "cell_type": "code",
   "execution_count": null,
   "id": "70d234ae",
   "metadata": {},
   "outputs": [],
   "source": [
    "import math\n",
    "type(math)"
   ]
  },
  {
   "cell_type": "markdown",
   "id": "200e9f5e",
   "metadata": {},
   "source": [
    "- Can see the functionality using `help()`"
   ]
  },
  {
   "cell_type": "code",
   "execution_count": null,
   "id": "88922d31",
   "metadata": {
    "lines_to_next_cell": 2
   },
   "outputs": [],
   "source": [
    "help(math)"
   ]
  },
  {
   "cell_type": "markdown",
   "id": "c5572e81",
   "metadata": {},
   "source": [
    "---"
   ]
  },
  {
   "cell_type": "markdown",
   "id": "4a977abf",
   "metadata": {},
   "source": [
    "# Using Modules Function/Objects\n",
    "\n",
    "- Functions cannot be called as a built-in function:"
   ]
  },
  {
   "cell_type": "code",
   "execution_count": null,
   "id": "24692cba",
   "metadata": {
    "error": true
   },
   "outputs": [],
   "source": [
    "sqrt(9)"
   ]
  },
  {
   "cell_type": "markdown",
   "id": "876d6a5e",
   "metadata": {},
   "source": [
    "- Must use the module prefix:"
   ]
  },
  {
   "cell_type": "code",
   "execution_count": null,
   "id": "738a4ecc",
   "metadata": {
    "lines_to_next_cell": 2
   },
   "outputs": [],
   "source": [
    "import math\n",
    "math.sqrt(9)\n",
    "math.factorial(5)"
   ]
  },
  {
   "cell_type": "markdown",
   "id": "2865f3fa",
   "metadata": {},
   "source": [
    "---"
   ]
  },
  {
   "cell_type": "markdown",
   "id": "ef2ea666",
   "metadata": {},
   "source": [
    "# Math Module Functions\n",
    "\n",
    "- `math` module allows for common statistical computations\n",
    "\n",
    "$$\n",
    "f(1;\\mu = 0, \\sigma = 1) = \\frac{1}{\\sqrt{2\\pi}}\\exp^{-\\frac{1}{2}(1 - 0)^2}\n",
    "$$\n",
    "\n",
    "- This Normal distribution PDF expression can be evaluated using:"
   ]
  },
  {
   "cell_type": "code",
   "execution_count": null,
   "id": "5773ee54",
   "metadata": {
    "lines_to_next_cell": 0
   },
   "outputs": [],
   "source": [
    "(1.0/math.sqrt(2*math.pi))*math.exp(-0.5*(1 - 0.0)**2)"
   ]
  },
  {
   "cell_type": "markdown",
   "id": "1dfee826",
   "metadata": {},
   "source": []
  },
  {
   "cell_type": "markdown",
   "id": "8ac7aaa8",
   "metadata": {},
   "source": [
    "---"
   ]
  },
  {
   "cell_type": "markdown",
   "id": "720b2620",
   "metadata": {},
   "source": [
    "# Module Variables\n",
    "\n",
    "Modules can contain more than functions\n",
    "\n",
    "- `math` module also defines variables like `e` and `pi`"
   ]
  },
  {
   "cell_type": "code",
   "execution_count": null,
   "id": "5853849a",
   "metadata": {},
   "outputs": [],
   "source": [
    "import math\n",
    "math.e\n",
    "math.pi\n",
    "radius = 5\n",
    "print('The area is', math.pi * radius ** 2)"
   ]
  },
  {
   "cell_type": "markdown",
   "id": "2f162fb7",
   "metadata": {},
   "source": [
    "- You can overwrite these values (just like built-in objects) but, you know, don't!"
   ]
  },
  {
   "cell_type": "markdown",
   "id": "1adff01a",
   "metadata": {},
   "source": [
    "---"
   ]
  },
  {
   "cell_type": "markdown",
   "id": "3fdca972",
   "metadata": {},
   "source": [
    "# Random Module  \n",
    "\n",
    "- We'll deal with random sampling from time to time  \n",
    "- `random` module gives functionality to do so!"
   ]
  },
  {
   "cell_type": "code",
   "execution_count": null,
   "id": "12133bf5",
   "metadata": {},
   "outputs": [],
   "source": [
    "import random\n",
    "help(random)"
   ]
  },
  {
   "cell_type": "markdown",
   "id": "258c9ce2",
   "metadata": {},
   "source": [
    "---"
   ]
  },
  {
   "cell_type": "markdown",
   "id": "9fda021a",
   "metadata": {},
   "source": [
    "# Random Module\n",
    "\n",
    "- Set a 'seed' for reproducibility and obtain some random observations between 0 and 1"
   ]
  },
  {
   "cell_type": "code",
   "execution_count": null,
   "id": "9050f2a1",
   "metadata": {},
   "outputs": [],
   "source": [
    "import random\n",
    "random.seed(10)\n",
    "random.random()\n",
    "random.random()"
   ]
  },
  {
   "cell_type": "markdown",
   "id": "97e95e72",
   "metadata": {},
   "source": [
    "- Obtain random integers between 10 and 25"
   ]
  },
  {
   "cell_type": "code",
   "execution_count": null,
   "id": "7cb30b2b",
   "metadata": {},
   "outputs": [],
   "source": [
    "random.sample(range(10, 25), 4)"
   ]
  },
  {
   "cell_type": "markdown",
   "id": "c266a2b5",
   "metadata": {},
   "source": [
    "---"
   ]
  },
  {
   "cell_type": "markdown",
   "id": "95122f05",
   "metadata": {},
   "source": [
    "# Importing `as`\n",
    "\n",
    "- Can import with a different name for brevity"
   ]
  },
  {
   "cell_type": "code",
   "execution_count": null,
   "id": "0a760885",
   "metadata": {},
   "outputs": [],
   "source": [
    "import random as ran\n",
    "ran.seed(10)\n",
    "ran.random()\n",
    "ran.random()"
   ]
  },
  {
   "cell_type": "markdown",
   "id": "b4445684",
   "metadata": {},
   "source": [
    "- Obtain random integers between 11 and 26"
   ]
  },
  {
   "cell_type": "code",
   "execution_count": null,
   "id": "d189368e",
   "metadata": {},
   "outputs": [],
   "source": [
    "ran.sample(range(11, 26), 4)"
   ]
  },
  {
   "cell_type": "markdown",
   "id": "cd789173",
   "metadata": {},
   "source": [
    "---"
   ]
  },
  {
   "cell_type": "markdown",
   "id": "79646bfe",
   "metadata": {},
   "source": [
    "# Selective Import  \n",
    "\n",
    "- Can also selectively import functions and variables from a module  "
   ]
  },
  {
   "cell_type": "code",
   "execution_count": null,
   "id": "2d87ec33",
   "metadata": {},
   "outputs": [],
   "source": [
    "from math import sqrt, pi\n",
    "sqrt(9)\n",
    "pi"
   ]
  },
  {
   "cell_type": "markdown",
   "id": "290b6c26",
   "metadata": {},
   "source": [
    "--\n",
    "\n",
    "- Or import everything from a module into the current namespace"
   ]
  },
  {
   "cell_type": "code",
   "execution_count": null,
   "id": "3ee4ba4f",
   "metadata": {
    "eval": false
   },
   "outputs": [],
   "source": [
    "from math import *"
   ]
  },
  {
   "cell_type": "markdown",
   "id": "83ce91c4",
   "metadata": {},
   "source": [
    "--\n",
    "\n",
    "- If you intend to use a function often you can assign it to a local name"
   ]
  },
  {
   "cell_type": "code",
   "execution_count": null,
   "id": "0cfe1fae",
   "metadata": {
    "lines_to_next_cell": 2
   },
   "outputs": [],
   "source": [
    "sample = random.random\n",
    "sample()"
   ]
  },
  {
   "cell_type": "markdown",
   "id": "1ca5a842",
   "metadata": {},
   "source": [
    "---\n",
    "\n",
    "# Installing Modules  \n",
    "\n",
    "- `pip` is a package manager for python \n",
    "\n",
    "- Used through the command line\n",
    "\n",
    "    - Can see what modules you have\n",
    "\n",
    "    `pip list`\n",
    "    \n",
    "    - Use `pip install module_name` to install new modules\n",
    "\n",
    "    `pip install scipy`\n",
    "\n",
    "\n",
    "---\n",
    "  \n",
    "# To JupyterLab!  \n",
    "  \n",
    "- Install a few modules\n",
    "\n",
    "- Import the `scipy.stats` module and find some probabilities"
   ]
  },
  {
   "cell_type": "markdown",
   "id": "8106bace",
   "metadata": {},
   "source": [
    "---\n",
    "  \n",
    "# Recap\n",
    "  \n",
    "- Modules are just collections of functions, objects, etc.\n",
    "\n",
    "- `pip` to install them (our image has most that we need!)\n",
    "\n",
    "- `import` to bring them in\n",
    "\n",
    "    + Can selectively import"
   ]
  }
 ],
 "metadata": {
  "jupytext": {
   "cell_metadata_filter": "eval,message,error,warning,tags,-all",
   "main_language": "python",
   "notebook_metadata_filter": "-all"
  }
 },
 "nbformat": 4,
 "nbformat_minor": 5
}
