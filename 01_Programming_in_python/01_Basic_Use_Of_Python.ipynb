{
 "cells": [
  {
   "cell_type": "raw",
   "id": "ec3ffb76",
   "metadata": {},
   "source": [
    "---\n",
    "title: \"Basics Use of Python\"\n",
    "author: \"Justin Post (Some notes modified from Dr. Eric Chi)\"\n",
    "output:\n",
    "  xaringan::moon_reader:\n",
    "    seal: false\n",
    "    lib_dir: libs\n",
    "    css: [default, \"css/ncsu.css\", \"css/ncsu-fonts.css\", \"css/mycss.css\"]\n",
    "    nature:\n",
    "      beforeInit: [\"js/ncsu-scale.js\"]\n",
    "      highlightStyle: github\n",
    "      highlightLines: true\n",
    "      countIncrementalSlides: false\n",
    "      ratio: \"16:9\"\n",
    "    includes:\n",
    "      in_header: \"partials/header.html\"\n",
    "editor_options: \n",
    "  chunk_output_type: console\n",
    "---"
   ]
  },
  {
   "cell_type": "code",
   "execution_count": null,
   "id": "6eb4e6a4",
   "metadata": {
    "lines_to_next_cell": 2,
    "message": false,
    "tags": [
     "remove_cell"
    ],
    "warning": false
   },
   "outputs": [],
   "source": [
    "%%R\n",
    "options(htmltools.dir.version = FALSE)\n",
    "knitr::opts_chunk$set(\n",
    "  message = FALSE,\n",
    "  warning = FALSE,\n",
    "  dev = \"svg\",\n",
    "  fig.align = \"center\",\n",
    "  #fig.width = 11,\n",
    "  #fig.height = 5\n",
    "  cache = TRUE\n",
    ")\n",
    "\n",
    "# define vars\n",
    "om = par(\"mar\")\n",
    "lowtop = c(om[1],om[2],0.1,om[4])\n",
    "library(tidyverse)\n",
    "library(knitr)\n",
    "library(reticulate)\n",
    "use_python(\"C:\\\\Users\\\\jbpost2\\\\AppData\\\\Local\\\\Programs\\\\Python\\\\Python310\\\\python.exe\")\n",
    "#use_python(\"C:\\\\python\\\\python.exe\")\n",
    "options(dplyr.print_min = 5)\n",
    "options(reticulate.repl.quiet = TRUE)"
   ]
  },
  {
   "cell_type": "markdown",
   "id": "3c521134",
   "metadata": {},
   "source": [
    "layout: false\n",
    "class: title-slide-section-red, middle\n",
    "\n",
    "# Basic Use of Python\n",
    "Justin Post\n",
    "\n",
    "---\n",
    "layout: true\n",
    "\n",
    "<div class=\"my-footer\"><img src=\"img/logo.png\" style=\"height: 60px;\"/></div> "
   ]
  },
  {
   "cell_type": "markdown",
   "id": "4d874603",
   "metadata": {},
   "source": [
    "---\n",
    "\n",
    "# Programming in Python (Prep for Dealing with Big Data)\n",
    "\n",
    "- `JupyterLab` as our IDE (interactive development environment)\n",
    "- Basic Use of Python\n",
    "- Markdown capabilities\n",
    "- Python Modules"
   ]
  },
  {
   "cell_type": "code",
   "execution_count": null,
   "id": "f7a6192b",
   "metadata": {
    "fig.align": "center",
    "lines_to_next_cell": 2,
    "out.width": "400px",
    "tags": [
     "remove_input"
    ]
   },
   "outputs": [],
   "source": [
    "%%R\n",
    "knitr::include_graphics(\"img/kaggle_survey.png\")"
   ]
  },
  {
   "cell_type": "markdown",
   "id": "33cfa77f",
   "metadata": {
    "lines_to_next_cell": 0
   },
   "source": [
    "---\n",
    "    \n",
    "# Using Python Interactively \n",
    "\n",
    "You can open a python console or a notebook that runs python! \n",
    "\n",
    ".left45["
   ]
  },
  {
   "cell_type": "code",
   "execution_count": null,
   "id": "3fae54e0",
   "metadata": {
    "lines_to_next_cell": 0
   },
   "outputs": [],
   "source": [
    "#A comment - this text is not evaluated\n",
    "5 + 6\n",
    "10 * 2\n",
    "5**2"
   ]
  },
  {
   "cell_type": "markdown",
   "id": "6a306600",
   "metadata": {
    "lines_to_next_cell": 0
   },
   "source": [
    "]\n",
    "\n",
    ".left25[\n",
    "&nbsp;&nbsp;&nbsp;&nbsp;&nbsp;&nbsp;&nbsp;&nbsp;&nbsp;&nbsp;\n",
    "]\n",
    "\n",
    "--\n",
    "\n",
    ".left35["
   ]
  },
  {
   "cell_type": "code",
   "execution_count": null,
   "id": "783b9bad",
   "metadata": {
    "lines_to_next_cell": 0
   },
   "outputs": [],
   "source": [
    "# % is mod, // is floor\n",
    "10 / 3\n",
    "10 % 3\n",
    "10 // 3"
   ]
  },
  {
   "cell_type": "markdown",
   "id": "0c5d130a",
   "metadata": {
    "lines_to_next_cell": 0
   },
   "source": [
    "]\n",
    "\n",
    "---\n",
    "\n",
    "# Using Python Interactively \n",
    "\n",
    "You can open a python console or a notebook that runs python! \n",
    "\n",
    "- Operators are applied left to right, except for exponentiation\n",
    "\n",
    ".left35["
   ]
  },
  {
   "cell_type": "code",
   "execution_count": null,
   "id": "67f6af3f",
   "metadata": {
    "lines_to_next_cell": 0
   },
   "outputs": [],
   "source": [
    "3 + 4 - 5                            \n",
    "(3 + 4) - 5"
   ]
  },
  {
   "cell_type": "markdown",
   "id": "2d3541a3",
   "metadata": {
    "lines_to_next_cell": 0
   },
   "source": [
    "]\n",
    "\n",
    ".left25[\n",
    "&nbsp;&nbsp;&nbsp;&nbsp;&nbsp;&nbsp;&nbsp;&nbsp;&nbsp;&nbsp;&nbsp;&nbsp;&nbsp;&nbsp;&nbsp;&nbsp;&nbsp;&nbsp;&nbsp;&nbsp;&nbsp;&nbsp;&nbsp;&nbsp;&nbsp;&nbsp;&nbsp;&nbsp;&nbsp;&nbsp;&nbsp;&nbsp;&nbsp;&nbsp;&nbsp;&nbsp;&nbsp;&nbsp;&nbsp;&nbsp;&nbsp;&nbsp;&nbsp;&nbsp;&nbsp;&nbsp;&nbsp;&nbsp;&nbsp;&nbsp;&nbsp;&nbsp;&nbsp;&nbsp;&nbsp;&nbsp;&nbsp;&nbsp;&nbsp;&nbsp;\n",
    "]\n",
    "\n",
    "--\n",
    "\n",
    ".left35["
   ]
  },
  {
   "cell_type": "code",
   "execution_count": null,
   "id": "33bd679e",
   "metadata": {
    "lines_to_next_cell": 0
   },
   "outputs": [],
   "source": [
    "3**2**4\n",
    "3**(2**4)"
   ]
  },
  {
   "cell_type": "code",
   "execution_count": null,
   "id": "c9a725ec",
   "metadata": {
    "lines_to_next_cell": 0
   },
   "outputs": [],
   "source": [
    "#not this\n",
    "(3**2)**4"
   ]
  },
  {
   "cell_type": "markdown",
   "id": "b1ba6d7f",
   "metadata": {},
   "source": [
    "]"
   ]
  },
  {
   "cell_type": "markdown",
   "id": "15f83db9",
   "metadata": {
    "lines_to_next_cell": 0
   },
   "source": [
    "---\n",
    "\n",
    "# Creating Variables \n",
    "\n",
    "You can assign variables to reference an object using `=`\n",
    "\n",
    ".left45["
   ]
  },
  {
   "cell_type": "code",
   "execution_count": null,
   "id": "dc18a27e",
   "metadata": {
    "lines_to_next_cell": 0
   },
   "outputs": [],
   "source": [
    "x = \"Hello! \"\n",
    "y = 'How are you?'\n",
    "x\n",
    "print(x)\n",
    "x + y\n",
    "print(x + y)"
   ]
  },
  {
   "cell_type": "markdown",
   "id": "f2e9db42",
   "metadata": {
    "lines_to_next_cell": 0
   },
   "source": [
    "]\n",
    "\n",
    ".left25[\n",
    "&nbsp;&nbsp;&nbsp;&nbsp;&nbsp;&nbsp;&nbsp;&nbsp;&nbsp;&nbsp;\n",
    "]\n",
    "\n",
    "--\n",
    "\n",
    ".left35["
   ]
  },
  {
   "cell_type": "code",
   "execution_count": null,
   "id": "348bfbe4",
   "metadata": {
    "lines_to_next_cell": 0
   },
   "outputs": [],
   "source": [
    "x = \"Hello! \\n\"\n",
    "y = 'Then I asked, \"How are you?\"'\n",
    "x\n",
    "print(x)\n",
    "x + y\n",
    "print(x + y)"
   ]
  },
  {
   "cell_type": "markdown",
   "id": "c3ae605f",
   "metadata": {},
   "source": [
    "]\n",
    "\n",
    "---"
   ]
  },
  {
   "cell_type": "markdown",
   "id": "c0ff27af",
   "metadata": {},
   "source": [
    "# Using Variables\n",
    "\n",
    "- Variables can be used to simplify and generalize your code"
   ]
  },
  {
   "cell_type": "code",
   "execution_count": null,
   "id": "87504cdd",
   "metadata": {
    "lines_to_next_cell": 2
   },
   "outputs": [],
   "source": [
    "degrees_celsius = 26.0\n",
    "degrees_celsius\n",
    "9 / 5 * degrees_celsius + 32\n",
    "degrees_celsius = 100\n",
    "9 / 5 * degrees_celsius + 32"
   ]
  },
  {
   "cell_type": "markdown",
   "id": "241439b0",
   "metadata": {
    "lines_to_next_cell": 0
   },
   "source": [
    "---\n",
    "\n",
    "# Data Objects\n",
    "\n",
    "There are a number of built-in objects you can create, some important ones are listed below:\n",
    "\n",
    ".left45[\n",
    "- Text Type: `str`"
   ]
  },
  {
   "cell_type": "code",
   "execution_count": null,
   "id": "cec24fbe",
   "metadata": {
    "lines_to_next_cell": 0
   },
   "outputs": [],
   "source": [
    "y = \"text string\"\n",
    "type(y)"
   ]
  },
  {
   "cell_type": "markdown",
   "id": "62518b6d",
   "metadata": {
    "lines_to_next_cell": 0
   },
   "source": [
    "- Numeric Types:\t`int`, `float`"
   ]
  },
  {
   "cell_type": "code",
   "execution_count": null,
   "id": "c1854ce8",
   "metadata": {
    "lines_to_next_cell": 0
   },
   "outputs": [],
   "source": [
    "y = 10\n",
    "type(y)\n",
    "x = 10.4\n",
    "type(x)"
   ]
  },
  {
   "cell_type": "markdown",
   "id": "784cf9de",
   "metadata": {
    "lines_to_next_cell": 0
   },
   "source": [
    "]\n",
    "\n",
    ".left25[\n",
    "&nbsp;&nbsp;&nbsp;&nbsp;&nbsp;&nbsp;&nbsp;&nbsp;&nbsp;&nbsp;&nbsp;&nbsp;&nbsp;&nbsp;&nbsp;&nbsp;&nbsp;&nbsp;&nbsp;&nbsp;&nbsp;&nbsp;&nbsp;&nbsp;&nbsp;&nbsp;&nbsp;&nbsp;&nbsp;&nbsp;&nbsp;&nbsp;&nbsp;&nbsp;&nbsp;&nbsp;&nbsp;&nbsp;&nbsp;&nbsp;&nbsp;&nbsp;\n",
    "]\n",
    "\n",
    "--\n",
    "\n",
    ".left35[\n",
    "- Boolean Type:\t`bool`"
   ]
  },
  {
   "cell_type": "code",
   "execution_count": null,
   "id": "7a3f8be2",
   "metadata": {
    "lines_to_next_cell": 0
   },
   "outputs": [],
   "source": [
    "y = True\n",
    "type(y)"
   ]
  },
  {
   "cell_type": "markdown",
   "id": "21eeec8e",
   "metadata": {
    "lines_to_next_cell": 0
   },
   "source": [
    "- Sequence Types:\t`list`, `tuple`"
   ]
  },
  {
   "cell_type": "code",
   "execution_count": null,
   "id": "b3291e5d",
   "metadata": {
    "lines_to_next_cell": 0
   },
   "outputs": [],
   "source": [
    "z = [10, \"a\", 11.5, True]\n",
    "type(z)"
   ]
  },
  {
   "cell_type": "markdown",
   "id": "d1806215",
   "metadata": {
    "lines_to_next_cell": 0
   },
   "source": [
    "- Mapping Type:\t`dict`"
   ]
  },
  {
   "cell_type": "code",
   "execution_count": null,
   "id": "42476271",
   "metadata": {
    "lines_to_next_cell": 0
   },
   "outputs": [],
   "source": [
    "w = {\"key1\": \"value1\", \n",
    "     \"key2\": [\"value2\", 10]}\n",
    "type(w)"
   ]
  },
  {
   "cell_type": "markdown",
   "id": "06f404ea",
   "metadata": {},
   "source": [
    "]"
   ]
  },
  {
   "cell_type": "markdown",
   "id": "b2f7c64a",
   "metadata": {},
   "source": [
    "---"
   ]
  },
  {
   "cell_type": "markdown",
   "id": "558bc51f",
   "metadata": {
    "lines_to_next_cell": 0
   },
   "source": [
    "# Multiple Assignment\n",
    "\n",
    "- Assigning multiple variables on one line is easy\n",
    "\n",
    ".left45["
   ]
  },
  {
   "cell_type": "code",
   "execution_count": null,
   "id": "b0c90adf",
   "metadata": {},
   "outputs": [],
   "source": [
    "x, y, z = \"Orange\", \"Banana\", \"Cherry\"\n",
    "print(x)\n",
    "print(y)\n",
    "print(z)"
   ]
  },
  {
   "cell_type": "code",
   "execution_count": null,
   "id": "5a01856d",
   "metadata": {
    "lines_to_next_cell": 0
   },
   "outputs": [],
   "source": [
    "x = y = z = \"Orange\"\n",
    "print(x)\n",
    "print(y)\n"
   ]
  },
  {
   "cell_type": "markdown",
   "id": "7b899115",
   "metadata": {
    "lines_to_next_cell": 0
   },
   "source": [
    "]\n",
    "\n",
    ".left25[\n",
    "&nbsp;&nbsp;&nbsp;&nbsp;&nbsp;&nbsp;&nbsp;&nbsp;&nbsp;&nbsp;&nbsp;&nbsp;&nbsp;&nbsp;&nbsp;&nbsp;&nbsp;&nbsp;&nbsp;&nbsp;&nbsp;&nbsp;&nbsp;&nbsp;&nbsp;&nbsp;&nbsp;&nbsp;\n",
    "]\n",
    "\n",
    "--\n",
    "\n",
    ".left35["
   ]
  },
  {
   "cell_type": "code",
   "execution_count": null,
   "id": "ce44c606",
   "metadata": {},
   "outputs": [],
   "source": [
    "x, *y = \"Orange\", \"Banana\", \"Cherry\"\n",
    "print(x)\n",
    "print(y)\n",
    "type(y)"
   ]
  },
  {
   "cell_type": "code",
   "execution_count": null,
   "id": "7fd7babf",
   "metadata": {
    "lines_to_next_cell": 0,
    "tags": [
     "remove_input"
    ]
   },
   "outputs": [],
   "source": [
    "*x, y = \"Orange\", \"Banana\", \"Cherry\""
   ]
  },
  {
   "cell_type": "code",
   "execution_count": null,
   "id": "09d3ce8f",
   "metadata": {
    "lines_to_next_cell": 0
   },
   "outputs": [],
   "source": [
    "# *x, y = \"Orange\", \"Banana\", \"Cherry\"\n",
    "print(x)\n",
    "print(y)"
   ]
  },
  {
   "cell_type": "markdown",
   "id": "8ac64dd0",
   "metadata": {
    "lines_to_next_cell": 0
   },
   "source": [
    "]\n",
    "\n",
    "---\n",
    "\n",
    "# `_` Variable\n",
    "\n",
    "In interactive mode, the last evaluated expression is assigned to the variable `_`\n",
    "\n",
    ".left45["
   ]
  },
  {
   "cell_type": "code",
   "execution_count": null,
   "id": "187e2555",
   "metadata": {
    "lines_to_next_cell": 0
   },
   "outputs": [],
   "source": [
    "x, y, z = \"Orange\", \"Banana\", \"Cherry\"\n",
    "x"
   ]
  },
  {
   "cell_type": "code",
   "execution_count": null,
   "id": "3ecb216c",
   "metadata": {
    "eval": false,
    "lines_to_next_cell": 0
   },
   "outputs": [],
   "source": [
    "_"
   ]
  },
  {
   "cell_type": "code",
   "execution_count": null,
   "id": "297a346d",
   "metadata": {
    "lines_to_next_cell": 0,
    "tags": [
     "remove_input"
    ]
   },
   "outputs": [],
   "source": [
    "x"
   ]
  },
  {
   "cell_type": "code",
   "execution_count": null,
   "id": "443fa677",
   "metadata": {
    "lines_to_next_cell": 0
   },
   "outputs": [],
   "source": [
    "#print doesn't count!\n",
    "print(y)"
   ]
  },
  {
   "cell_type": "code",
   "execution_count": null,
   "id": "9a45c8af",
   "metadata": {
    "eval": false,
    "lines_to_next_cell": 0
   },
   "outputs": [],
   "source": [
    "_"
   ]
  },
  {
   "cell_type": "code",
   "execution_count": null,
   "id": "1383cfd1",
   "metadata": {
    "lines_to_next_cell": 0,
    "tags": [
     "remove_input"
    ]
   },
   "outputs": [],
   "source": [
    "x"
   ]
  },
  {
   "cell_type": "markdown",
   "id": "27bb4c0d",
   "metadata": {
    "lines_to_next_cell": 0
   },
   "source": [
    "]\n",
    "\n",
    "--\n",
    "\n",
    ".left25[\n",
    "&nbsp;&nbsp;&nbsp;&nbsp;&nbsp;&nbsp;&nbsp;&nbsp;&nbsp;&nbsp;&nbsp;&nbsp;&nbsp;&nbsp;&nbsp;&nbsp;&nbsp;&nbsp;&nbsp;&nbsp;&nbsp;&nbsp;&nbsp;&nbsp;&nbsp;&nbsp;&nbsp;&nbsp;\n",
    "]\n",
    "\n",
    ".left35["
   ]
  },
  {
   "cell_type": "code",
   "execution_count": null,
   "id": "37d822ae",
   "metadata": {
    "lines_to_next_cell": 0
   },
   "outputs": [],
   "source": [
    "degrees_celcius = 100\n",
    "(9 / 5) * degrees_celcius + 32"
   ]
  },
  {
   "cell_type": "code",
   "execution_count": null,
   "id": "d436adee",
   "metadata": {
    "eval": false,
    "lines_to_next_cell": 0
   },
   "outputs": [],
   "source": [
    "_ - 10"
   ]
  },
  {
   "cell_type": "code",
   "execution_count": null,
   "id": "fe5904ed",
   "metadata": {
    "lines_to_next_cell": 0,
    "tags": [
     "remove_input"
    ]
   },
   "outputs": [],
   "source": [
    "(9 / 5) * degrees_celcius + 32 - 10"
   ]
  },
  {
   "cell_type": "code",
   "execution_count": null,
   "id": "3ae5ee67",
   "metadata": {
    "eval": false,
    "lines_to_next_cell": 0
   },
   "outputs": [],
   "source": [
    "_ * 10"
   ]
  },
  {
   "cell_type": "code",
   "execution_count": null,
   "id": "9e000ff5",
   "metadata": {
    "lines_to_next_cell": 0,
    "tags": [
     "remove_input"
    ]
   },
   "outputs": [],
   "source": [
    "((9 / 5) * degrees_celcius + 32 - 10) * 10"
   ]
  },
  {
   "cell_type": "markdown",
   "id": "616d98e9",
   "metadata": {},
   "source": [
    "]\n",
    "\n",
    "---\n",
    "\n",
    "# Copying vs Referencing \n",
    "\n",
    "*Careful* when modifying elements of a compound object: 'assignment statements do not copy objects, they create bindings between a target (a spot in computer memory) and an object'!"
   ]
  },
  {
   "cell_type": "code",
   "execution_count": null,
   "id": "af5787fd",
   "metadata": {},
   "outputs": [],
   "source": [
    "#Changing the original modifies both variables\n",
    "x = [1, 2, 3, \"Cats Rule!\"] #create a 'list' of four values\n",
    "y = x                       #Make y an alias for x (reference the same memory)\n",
    "print(x, y)\n",
    "x[3] = \"Dogs rule!\"\n",
    "print(x, y)"
   ]
  },
  {
   "cell_type": "markdown",
   "id": "56931278",
   "metadata": {},
   "source": [
    "--"
   ]
  },
  {
   "cell_type": "code",
   "execution_count": null,
   "id": "2dd0592e",
   "metadata": {
    "lines_to_next_cell": 2
   },
   "outputs": [],
   "source": [
    "#Can create a (shallow) copy of the object rather than point to the same object in memory\n",
    "y = x.copy()\n",
    "x[2] = 10\n",
    "x[3]= \"No cats rule!\"\n",
    "print(x, y)"
   ]
  },
  {
   "cell_type": "markdown",
   "id": "c6ad7fa6",
   "metadata": {},
   "source": [
    "---\n",
    "\n",
    "# Copying vs Referencing\n",
    "\n",
    "*Careful* when modifying elements of a compound object: 'assignment statements do not copy objects, they create bindings between a target (a spot in computer memory) and an object'!"
   ]
  },
  {
   "cell_type": "code",
   "execution_count": null,
   "id": "61cbff31",
   "metadata": {
    "lines_to_next_cell": 0
   },
   "outputs": [],
   "source": [
    "#create a 'tuple' of four values\n",
    "x = (1, 2, 3, [\"Cats Rule!\"]) \n",
    "y = x                       \n",
    "print(x, y)"
   ]
  },
  {
   "cell_type": "code",
   "execution_count": null,
   "id": "4b22025b",
   "metadata": {
    "lines_to_next_cell": 2
   },
   "outputs": [],
   "source": [
    "#can't modify elements of x but can modify the object contained\n",
    "#x[3] = [\"Dogs!\"]  would throw an error\n",
    "x[3][0] = \"Dogs!\"\n",
    "print(x, y)"
   ]
  },
  {
   "cell_type": "markdown",
   "id": "4fdbe92d",
   "metadata": {},
   "source": [
    "---\n",
    "\n",
    "# Copying vs Referencing\n",
    "\n",
    "This is fine though!"
   ]
  },
  {
   "cell_type": "code",
   "execution_count": null,
   "id": "3143eaad",
   "metadata": {
    "lines_to_next_cell": 0
   },
   "outputs": [],
   "source": [
    "difference = 20\n",
    "double = 2 * difference\n",
    "double\n",
    "difference = 5\n",
    "double"
   ]
  },
  {
   "cell_type": "code",
   "execution_count": null,
   "id": "d7abe2ab",
   "metadata": {
    "lines_to_next_cell": 0
   },
   "outputs": [],
   "source": [
    "#must be rerun to update with the new computation\n",
    "double = 2 * difference \n",
    "double"
   ]
  },
  {
   "cell_type": "markdown",
   "id": "7ec6445f",
   "metadata": {},
   "source": []
  },
  {
   "cell_type": "markdown",
   "id": "9b082a54",
   "metadata": {},
   "source": [
    "---\n",
    "\n",
    "# Variable Names\n",
    "\n",
    "Variable names can use letters, digits, and the underscore symbol (but cannot start with a digit)\n",
    "\n",
    "Ok variable names:\n",
    "\n",
    "- `X`, `species5618`, and `degrees_celsius`\n",
    "\n",
    "Bad variable names:\n",
    "\n",
    "- `777` (begins with a digit)\n",
    "- `no-way!` (includes punctuation)\n"
   ]
  },
  {
   "cell_type": "markdown",
   "id": "73c47952",
   "metadata": {},
   "source": [
    "---\n",
    "\n",
    "# Augmented Assignment\n",
    "\n",
    "Python has lots of shorthand notation!\n",
    "\n",
    "- Quite often we want to take a value, add to it, and replace the old value"
   ]
  },
  {
   "cell_type": "code",
   "execution_count": null,
   "id": "687e0a8b",
   "metadata": {},
   "outputs": [],
   "source": [
    "winnings = 100\n",
    "winnings = winnings + 20\n",
    "winnings"
   ]
  },
  {
   "cell_type": "markdown",
   "id": "6fa87222",
   "metadata": {},
   "source": [
    "--\n",
    "\n",
    "- Augmented assignment gives a shorthand"
   ]
  },
  {
   "cell_type": "code",
   "execution_count": null,
   "id": "7bf57f05",
   "metadata": {
    "lines_to_next_cell": 2
   },
   "outputs": [],
   "source": [
    "winnings = 100\n",
    "winnings += 20\n",
    "winnings"
   ]
  },
  {
   "cell_type": "markdown",
   "id": "7e9cd48d",
   "metadata": {},
   "source": [
    "---\n",
    "\n",
    "# Augmented Assignment\n",
    "\n",
    "- Works for all operators (except negation)"
   ]
  },
  {
   "cell_type": "code",
   "execution_count": null,
   "id": "f508ad20",
   "metadata": {
    "lines_to_next_cell": 2
   },
   "outputs": [],
   "source": [
    "winnings\n",
    "winnings -= 30\n",
    "winnings\n",
    "winnings *= 40\n",
    "winnings\n",
    "winnings **= 1/2\n",
    "winnings"
   ]
  },
  {
   "cell_type": "markdown",
   "id": "a37e46d8",
   "metadata": {},
   "source": [
    "---\n",
    "\n",
    "# Augmented Assignment\n",
    "\n",
    "Executed in the following way:\n",
    "\n",
    "1. Evaluate the expression on the right of the `=` sign to produce a value  \n",
    "\n",
    "2. Apply the operator to the variable on the left and the value produced\n",
    "\n",
    "3. Store this new value in the memory address of the variable on the left of the `=`.\n",
    "\n",
    "This means the operator is applied _after_ the expression on the right is evaluated."
   ]
  },
  {
   "cell_type": "markdown",
   "id": "1bdf34e7",
   "metadata": {},
   "source": [
    "--"
   ]
  },
  {
   "cell_type": "code",
   "execution_count": null,
   "id": "3b587261",
   "metadata": {},
   "outputs": [],
   "source": [
    "winnings = 100\n",
    "winnings += 100*10\n",
    "winnings"
   ]
  },
  {
   "cell_type": "markdown",
   "id": "fa95cf47",
   "metadata": {},
   "source": [
    "---\n",
    "\n",
    "# Continuing a Line of Code\n",
    "\n",
    "- For long lines of code, we can break the code across multiple lines using `\\` or `()`"
   ]
  },
  {
   "cell_type": "code",
   "execution_count": null,
   "id": "8e121f94",
   "metadata": {
    "lines_to_next_cell": 2
   },
   "outputs": [],
   "source": [
    "10 + 20 - 100 * 60 \\\n",
    "/ 20 \n",
    "\n",
    "(10 + 20 - 100 * 60\n",
    "/20)"
   ]
  },
  {
   "cell_type": "markdown",
   "id": "420aec54",
   "metadata": {},
   "source": [
    "---\n",
    "\n",
    "# Functions & Methods\n",
    "\n",
    "Two major ways to do an operation on a variable/object:\n",
    "\n",
    ".left45[\n",
    "- Functions:  \n",
    "\n",
    "`function_name(myvar, other_args)`"
   ]
  },
  {
   "cell_type": "code",
   "execution_count": null,
   "id": "45b6a73f",
   "metadata": {
    "lines_to_next_cell": 0
   },
   "outputs": [],
   "source": [
    "myList = [1, 10, 100, 1000]\n",
    "len(myList)\n",
    "max(myList)"
   ]
  },
  {
   "cell_type": "markdown",
   "id": "3cd28492",
   "metadata": {},
   "source": [
    "]\n",
    "\n",
    ".left5[\n",
    "&nbsp;&nbsp;&nbsp;&nbsp;&nbsp;&nbsp;&nbsp;&nbsp;&nbsp;&nbsp;&nbsp;&nbsp;&nbsp;&nbsp;&nbsp;&nbsp;&nbsp;&nbsp;&nbsp;&nbsp;&nbsp;&nbsp;&nbsp;&nbsp;&nbsp;&nbsp;&nbsp;&nbsp;</div>\n",
    "]\n",
    "\n",
    "--\n",
    "\n",
    ".left45[\n",
    "- Methods:  \n",
    "\n",
    "`myvar.method(other_args)` "
   ]
  },
  {
   "cell_type": "code",
   "execution_count": null,
   "id": "392f7a8b",
   "metadata": {
    "lines_to_next_cell": 0
   },
   "outputs": [],
   "source": [
    "myList.pop(3)\n",
    "myList\n",
    "myList.append(100000)\n",
    "myList"
   ]
  },
  {
   "cell_type": "markdown",
   "id": "1ed9e19f",
   "metadata": {},
   "source": [
    "]\n",
    "\n",
    "---\n",
    "\n",
    "# To JupyterLab!  \n",
    "\n",
    "- Open our saved notebook  \n",
    "\n",
    "- Create a list\n",
    "\n",
    "- Use functions and methods on the list object"
   ]
  },
  {
   "cell_type": "markdown",
   "id": "9c48c7ff",
   "metadata": {},
   "source": [
    "---\n",
    "\n",
    "# Recap\n",
    "\n",
    "- Create variables with `=`\n",
    "\n",
    "- Many built-in data structures\n",
    "\n",
    "- Python shorthands (multiple assignment, `_` variable, augmented assignment)\n",
    "\n",
    "- Careful when *copying* a variable\n",
    "\n",
    "- Functions and Methods"
   ]
  }
 ],
 "metadata": {
  "jupytext": {
   "cell_metadata_filter": "fig.align,eval,warning,tags,message,out.width,-all",
   "main_language": "python",
   "notebook_metadata_filter": "-all"
  }
 },
 "nbformat": 4,
 "nbformat_minor": 5
}
