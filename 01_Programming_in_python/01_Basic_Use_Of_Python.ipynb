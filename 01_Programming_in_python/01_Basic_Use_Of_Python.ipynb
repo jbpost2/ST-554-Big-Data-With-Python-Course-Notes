{
  "cells": [
    {
      "cell_type": "raw",
      "id": "ec3ffb76",
      "metadata": {
        "id": "ec3ffb76"
      },
      "source": [
        "# Basics Use of Python\n",
        "\n",
        "Justin Post (Some notes modified from Dr. Eric Chi)\n",
        "\n",
        "In preparation for dealing with big data we need to learn a programming language and figure out a good coding environment. We'll learn `python` and code in Google Colab/JupyterLab.\n",
        "\n",
        "We choose python due to its popularity (while a little old, see the image below) and the ease of programming in `spark` through `pyspark`.\n",
        "\n",
        "We use [JupyterLab](https://jupyter.org/) as it is a widely used software for creating python notebooks."
      ]
    },
    {
      "cell_type": "markdown",
      "id": "33cfa77f",
      "metadata": {
        "lines_to_next_cell": 0,
        "id": "33cfa77f"
      },
      "source": [
        "---\n",
        "    \n",
        "# Using Python Interactively\n",
        "\n",
        "You can open a python console or a notebook that runs python!"
      ]
    },
    {
      "cell_type": "code",
      "execution_count": null,
      "id": "3fae54e0",
      "metadata": {
        "lines_to_next_cell": 0,
        "id": "3fae54e0"
      },
      "outputs": [],
      "source": [
        "#A comment - this text is not evaluated\n",
        "5 + 6\n",
        "10 * 2\n",
        "5**2"
      ]
    },
    {
      "cell_type": "code",
      "execution_count": null,
      "id": "783b9bad",
      "metadata": {
        "lines_to_next_cell": 0,
        "id": "783b9bad"
      },
      "outputs": [],
      "source": [
        "# % is mod, // is floor\n",
        "10 / 3\n",
        "10 % 3\n",
        "10 // 3"
      ]
    },
    {
      "cell_type": "markdown",
      "id": "0c5d130a",
      "metadata": {
        "lines_to_next_cell": 0,
        "id": "0c5d130a"
      },
      "source": [
        "---\n",
        "\n",
        "# Using Python Interactively\n",
        "\n",
        "You can open a python console or a notebook that runs python!\n",
        "\n",
        "- Operators are applied left to right, except for exponentiation\n",
        "\n",
        ".left35["
      ]
    },
    {
      "cell_type": "code",
      "execution_count": null,
      "id": "67f6af3f",
      "metadata": {
        "lines_to_next_cell": 0,
        "id": "67f6af3f"
      },
      "outputs": [],
      "source": [
        "3 + 4 - 5\n",
        "(3 + 4) - 5"
      ]
    },
    {
      "cell_type": "markdown",
      "id": "2d3541a3",
      "metadata": {
        "lines_to_next_cell": 0,
        "id": "2d3541a3"
      },
      "source": [
        "]\n",
        "\n",
        ".left25[\n",
        "&nbsp;&nbsp;&nbsp;&nbsp;&nbsp;&nbsp;&nbsp;&nbsp;&nbsp;&nbsp;&nbsp;&nbsp;&nbsp;&nbsp;&nbsp;&nbsp;&nbsp;&nbsp;&nbsp;&nbsp;&nbsp;&nbsp;&nbsp;&nbsp;&nbsp;&nbsp;&nbsp;&nbsp;&nbsp;&nbsp;&nbsp;&nbsp;&nbsp;&nbsp;&nbsp;&nbsp;&nbsp;&nbsp;&nbsp;&nbsp;&nbsp;&nbsp;&nbsp;&nbsp;&nbsp;&nbsp;&nbsp;&nbsp;&nbsp;&nbsp;&nbsp;&nbsp;&nbsp;&nbsp;&nbsp;&nbsp;&nbsp;&nbsp;&nbsp;&nbsp;\n",
        "]\n",
        "\n",
        "--\n",
        "\n",
        ".left35["
      ]
    },
    {
      "cell_type": "code",
      "execution_count": null,
      "id": "33bd679e",
      "metadata": {
        "lines_to_next_cell": 0,
        "id": "33bd679e"
      },
      "outputs": [],
      "source": [
        "3**2**4\n",
        "3**(2**4)"
      ]
    },
    {
      "cell_type": "code",
      "execution_count": null,
      "id": "c9a725ec",
      "metadata": {
        "lines_to_next_cell": 0,
        "id": "c9a725ec"
      },
      "outputs": [],
      "source": [
        "#not this\n",
        "(3**2)**4"
      ]
    },
    {
      "cell_type": "markdown",
      "id": "b1ba6d7f",
      "metadata": {
        "id": "b1ba6d7f"
      },
      "source": [
        "]"
      ]
    },
    {
      "cell_type": "markdown",
      "id": "15f83db9",
      "metadata": {
        "lines_to_next_cell": 0,
        "id": "15f83db9"
      },
      "source": [
        "---\n",
        "\n",
        "# Creating Variables\n",
        "\n",
        "You can assign variables to reference an object using `=`\n",
        "\n",
        ".left45["
      ]
    },
    {
      "cell_type": "code",
      "execution_count": null,
      "id": "dc18a27e",
      "metadata": {
        "lines_to_next_cell": 0,
        "id": "dc18a27e"
      },
      "outputs": [],
      "source": [
        "x = \"Hello! \"\n",
        "y = 'How are you?'\n",
        "x\n",
        "print(x)\n",
        "x + y\n",
        "print(x + y)"
      ]
    },
    {
      "cell_type": "markdown",
      "id": "f2e9db42",
      "metadata": {
        "lines_to_next_cell": 0,
        "id": "f2e9db42"
      },
      "source": [
        "]\n",
        "\n",
        ".left25[\n",
        "&nbsp;&nbsp;&nbsp;&nbsp;&nbsp;&nbsp;&nbsp;&nbsp;&nbsp;&nbsp;\n",
        "]\n",
        "\n",
        "--\n",
        "\n",
        ".left35["
      ]
    },
    {
      "cell_type": "code",
      "execution_count": null,
      "id": "348bfbe4",
      "metadata": {
        "lines_to_next_cell": 0,
        "id": "348bfbe4"
      },
      "outputs": [],
      "source": [
        "x = \"Hello! \\n\"\n",
        "y = 'Then I asked, \"How are you?\"'\n",
        "x\n",
        "print(x)\n",
        "x + y\n",
        "print(x + y)"
      ]
    },
    {
      "cell_type": "markdown",
      "id": "c3ae605f",
      "metadata": {
        "id": "c3ae605f"
      },
      "source": [
        "]\n",
        "\n",
        "---"
      ]
    },
    {
      "cell_type": "markdown",
      "id": "c0ff27af",
      "metadata": {
        "id": "c0ff27af"
      },
      "source": [
        "# Using Variables\n",
        "\n",
        "- Variables can be used to simplify and generalize your code"
      ]
    },
    {
      "cell_type": "code",
      "execution_count": null,
      "id": "87504cdd",
      "metadata": {
        "lines_to_next_cell": 2,
        "id": "87504cdd"
      },
      "outputs": [],
      "source": [
        "degrees_celsius = 26.0\n",
        "degrees_celsius\n",
        "9 / 5 * degrees_celsius + 32\n",
        "degrees_celsius = 100\n",
        "9 / 5 * degrees_celsius + 32"
      ]
    },
    {
      "cell_type": "markdown",
      "id": "241439b0",
      "metadata": {
        "lines_to_next_cell": 0,
        "id": "241439b0"
      },
      "source": [
        "---\n",
        "\n",
        "# Data Objects\n",
        "\n",
        "There are a number of built-in objects you can create, some important ones are listed below:\n",
        "\n",
        ".left45[\n",
        "- Text Type: `str`"
      ]
    },
    {
      "cell_type": "code",
      "execution_count": null,
      "id": "cec24fbe",
      "metadata": {
        "lines_to_next_cell": 0,
        "id": "cec24fbe"
      },
      "outputs": [],
      "source": [
        "y = \"text string\"\n",
        "type(y)"
      ]
    },
    {
      "cell_type": "markdown",
      "id": "62518b6d",
      "metadata": {
        "lines_to_next_cell": 0,
        "id": "62518b6d"
      },
      "source": [
        "- Numeric Types:\t`int`, `float`"
      ]
    },
    {
      "cell_type": "code",
      "execution_count": null,
      "id": "c1854ce8",
      "metadata": {
        "lines_to_next_cell": 0,
        "id": "c1854ce8"
      },
      "outputs": [],
      "source": [
        "y = 10\n",
        "type(y)\n",
        "x = 10.4\n",
        "type(x)"
      ]
    },
    {
      "cell_type": "markdown",
      "id": "784cf9de",
      "metadata": {
        "lines_to_next_cell": 0,
        "id": "784cf9de"
      },
      "source": [
        "]\n",
        "\n",
        ".left25[\n",
        "&nbsp;&nbsp;&nbsp;&nbsp;&nbsp;&nbsp;&nbsp;&nbsp;&nbsp;&nbsp;&nbsp;&nbsp;&nbsp;&nbsp;&nbsp;&nbsp;&nbsp;&nbsp;&nbsp;&nbsp;&nbsp;&nbsp;&nbsp;&nbsp;&nbsp;&nbsp;&nbsp;&nbsp;&nbsp;&nbsp;&nbsp;&nbsp;&nbsp;&nbsp;&nbsp;&nbsp;&nbsp;&nbsp;&nbsp;&nbsp;&nbsp;&nbsp;\n",
        "]\n",
        "\n",
        "--\n",
        "\n",
        ".left35[\n",
        "- Boolean Type:\t`bool`"
      ]
    },
    {
      "cell_type": "code",
      "execution_count": null,
      "id": "7a3f8be2",
      "metadata": {
        "lines_to_next_cell": 0,
        "id": "7a3f8be2"
      },
      "outputs": [],
      "source": [
        "y = True\n",
        "type(y)"
      ]
    },
    {
      "cell_type": "markdown",
      "id": "21eeec8e",
      "metadata": {
        "lines_to_next_cell": 0,
        "id": "21eeec8e"
      },
      "source": [
        "- Sequence Types:\t`list`, `tuple`"
      ]
    },
    {
      "cell_type": "code",
      "execution_count": null,
      "id": "b3291e5d",
      "metadata": {
        "lines_to_next_cell": 0,
        "id": "b3291e5d"
      },
      "outputs": [],
      "source": [
        "z = [10, \"a\", 11.5, True]\n",
        "type(z)"
      ]
    },
    {
      "cell_type": "markdown",
      "id": "d1806215",
      "metadata": {
        "lines_to_next_cell": 0,
        "id": "d1806215"
      },
      "source": [
        "- Mapping Type:\t`dict`"
      ]
    },
    {
      "cell_type": "code",
      "execution_count": null,
      "id": "42476271",
      "metadata": {
        "lines_to_next_cell": 0,
        "id": "42476271"
      },
      "outputs": [],
      "source": [
        "w = {\"key1\": \"value1\",\n",
        "     \"key2\": [\"value2\", 10]}\n",
        "type(w)"
      ]
    },
    {
      "cell_type": "markdown",
      "id": "06f404ea",
      "metadata": {
        "id": "06f404ea"
      },
      "source": [
        "]"
      ]
    },
    {
      "cell_type": "markdown",
      "id": "b2f7c64a",
      "metadata": {
        "id": "b2f7c64a"
      },
      "source": [
        "---"
      ]
    },
    {
      "cell_type": "markdown",
      "id": "558bc51f",
      "metadata": {
        "lines_to_next_cell": 0,
        "id": "558bc51f"
      },
      "source": [
        "# Multiple Assignment\n",
        "\n",
        "- Assigning multiple variables on one line is easy\n",
        "\n",
        ".left45["
      ]
    },
    {
      "cell_type": "code",
      "execution_count": null,
      "id": "b0c90adf",
      "metadata": {
        "id": "b0c90adf"
      },
      "outputs": [],
      "source": [
        "x, y, z = \"Orange\", \"Banana\", \"Cherry\"\n",
        "print(x)\n",
        "print(y)\n",
        "print(z)"
      ]
    },
    {
      "cell_type": "code",
      "execution_count": null,
      "id": "5a01856d",
      "metadata": {
        "lines_to_next_cell": 0,
        "id": "5a01856d"
      },
      "outputs": [],
      "source": [
        "x = y = z = \"Orange\"\n",
        "print(x)\n",
        "print(y)\n"
      ]
    },
    {
      "cell_type": "markdown",
      "id": "7b899115",
      "metadata": {
        "lines_to_next_cell": 0,
        "id": "7b899115"
      },
      "source": [
        "]\n",
        "\n",
        ".left25[\n",
        "&nbsp;&nbsp;&nbsp;&nbsp;&nbsp;&nbsp;&nbsp;&nbsp;&nbsp;&nbsp;&nbsp;&nbsp;&nbsp;&nbsp;&nbsp;&nbsp;&nbsp;&nbsp;&nbsp;&nbsp;&nbsp;&nbsp;&nbsp;&nbsp;&nbsp;&nbsp;&nbsp;&nbsp;\n",
        "]\n",
        "\n",
        "--\n",
        "\n",
        ".left35["
      ]
    },
    {
      "cell_type": "code",
      "execution_count": null,
      "id": "ce44c606",
      "metadata": {
        "id": "ce44c606"
      },
      "outputs": [],
      "source": [
        "x, *y = \"Orange\", \"Banana\", \"Cherry\"\n",
        "print(x)\n",
        "print(y)\n",
        "type(y)"
      ]
    },
    {
      "cell_type": "code",
      "execution_count": null,
      "id": "7fd7babf",
      "metadata": {
        "lines_to_next_cell": 0,
        "tags": [
          "remove_input"
        ],
        "id": "7fd7babf"
      },
      "outputs": [],
      "source": [
        "*x, y = \"Orange\", \"Banana\", \"Cherry\""
      ]
    },
    {
      "cell_type": "code",
      "execution_count": null,
      "id": "09d3ce8f",
      "metadata": {
        "lines_to_next_cell": 0,
        "id": "09d3ce8f"
      },
      "outputs": [],
      "source": [
        "# *x, y = \"Orange\", \"Banana\", \"Cherry\"\n",
        "print(x)\n",
        "print(y)"
      ]
    },
    {
      "cell_type": "markdown",
      "id": "8ac64dd0",
      "metadata": {
        "lines_to_next_cell": 0,
        "id": "8ac64dd0"
      },
      "source": [
        "]\n",
        "\n",
        "---\n",
        "\n",
        "# `_` Variable\n",
        "\n",
        "In interactive mode, the last evaluated expression is assigned to the variable `_`\n",
        "\n",
        ".left45["
      ]
    },
    {
      "cell_type": "code",
      "execution_count": null,
      "id": "187e2555",
      "metadata": {
        "lines_to_next_cell": 0,
        "id": "187e2555"
      },
      "outputs": [],
      "source": [
        "x, y, z = \"Orange\", \"Banana\", \"Cherry\"\n",
        "x"
      ]
    },
    {
      "cell_type": "code",
      "execution_count": null,
      "id": "3ecb216c",
      "metadata": {
        "eval": false,
        "lines_to_next_cell": 0,
        "id": "3ecb216c"
      },
      "outputs": [],
      "source": [
        "_"
      ]
    },
    {
      "cell_type": "code",
      "execution_count": null,
      "id": "297a346d",
      "metadata": {
        "lines_to_next_cell": 0,
        "tags": [
          "remove_input"
        ],
        "id": "297a346d"
      },
      "outputs": [],
      "source": [
        "x"
      ]
    },
    {
      "cell_type": "code",
      "execution_count": null,
      "id": "443fa677",
      "metadata": {
        "lines_to_next_cell": 0,
        "id": "443fa677"
      },
      "outputs": [],
      "source": [
        "#print doesn't count!\n",
        "print(y)"
      ]
    },
    {
      "cell_type": "code",
      "execution_count": null,
      "id": "9a45c8af",
      "metadata": {
        "eval": false,
        "lines_to_next_cell": 0,
        "id": "9a45c8af"
      },
      "outputs": [],
      "source": [
        "_"
      ]
    },
    {
      "cell_type": "code",
      "execution_count": null,
      "id": "1383cfd1",
      "metadata": {
        "lines_to_next_cell": 0,
        "tags": [
          "remove_input"
        ],
        "id": "1383cfd1"
      },
      "outputs": [],
      "source": [
        "x"
      ]
    },
    {
      "cell_type": "markdown",
      "id": "27bb4c0d",
      "metadata": {
        "lines_to_next_cell": 0,
        "id": "27bb4c0d"
      },
      "source": [
        "]\n",
        "\n",
        "--\n",
        "\n",
        ".left25[\n",
        "&nbsp;&nbsp;&nbsp;&nbsp;&nbsp;&nbsp;&nbsp;&nbsp;&nbsp;&nbsp;&nbsp;&nbsp;&nbsp;&nbsp;&nbsp;&nbsp;&nbsp;&nbsp;&nbsp;&nbsp;&nbsp;&nbsp;&nbsp;&nbsp;&nbsp;&nbsp;&nbsp;&nbsp;\n",
        "]\n",
        "\n",
        ".left35["
      ]
    },
    {
      "cell_type": "code",
      "execution_count": null,
      "id": "37d822ae",
      "metadata": {
        "lines_to_next_cell": 0,
        "id": "37d822ae"
      },
      "outputs": [],
      "source": [
        "degrees_celcius = 100\n",
        "(9 / 5) * degrees_celcius + 32"
      ]
    },
    {
      "cell_type": "code",
      "execution_count": null,
      "id": "d436adee",
      "metadata": {
        "eval": false,
        "lines_to_next_cell": 0,
        "id": "d436adee"
      },
      "outputs": [],
      "source": [
        "_ - 10"
      ]
    },
    {
      "cell_type": "code",
      "execution_count": null,
      "id": "fe5904ed",
      "metadata": {
        "lines_to_next_cell": 0,
        "tags": [
          "remove_input"
        ],
        "id": "fe5904ed"
      },
      "outputs": [],
      "source": [
        "(9 / 5) * degrees_celcius + 32 - 10"
      ]
    },
    {
      "cell_type": "code",
      "execution_count": null,
      "id": "3ae5ee67",
      "metadata": {
        "eval": false,
        "lines_to_next_cell": 0,
        "id": "3ae5ee67"
      },
      "outputs": [],
      "source": [
        "_ * 10"
      ]
    },
    {
      "cell_type": "code",
      "execution_count": null,
      "id": "9e000ff5",
      "metadata": {
        "lines_to_next_cell": 0,
        "tags": [
          "remove_input"
        ],
        "id": "9e000ff5"
      },
      "outputs": [],
      "source": [
        "((9 / 5) * degrees_celcius + 32 - 10) * 10"
      ]
    },
    {
      "cell_type": "markdown",
      "id": "616d98e9",
      "metadata": {
        "id": "616d98e9"
      },
      "source": [
        "]\n",
        "\n",
        "---\n",
        "\n",
        "# Copying vs Referencing\n",
        "\n",
        "*Careful* when modifying elements of a compound object: 'assignment statements do not copy objects, they create bindings between a target (a spot in computer memory) and an object'!"
      ]
    },
    {
      "cell_type": "code",
      "execution_count": null,
      "id": "af5787fd",
      "metadata": {
        "id": "af5787fd"
      },
      "outputs": [],
      "source": [
        "#Changing the original modifies both variables\n",
        "x = [1, 2, 3, \"Cats Rule!\"] #create a 'list' of four values\n",
        "y = x                       #Make y an alias for x (reference the same memory)\n",
        "print(x, y)\n",
        "x[3] = \"Dogs rule!\"\n",
        "print(x, y)"
      ]
    },
    {
      "cell_type": "markdown",
      "id": "56931278",
      "metadata": {
        "id": "56931278"
      },
      "source": [
        "--"
      ]
    },
    {
      "cell_type": "code",
      "execution_count": null,
      "id": "2dd0592e",
      "metadata": {
        "lines_to_next_cell": 2,
        "id": "2dd0592e"
      },
      "outputs": [],
      "source": [
        "#Can create a (shallow) copy of the object rather than point to the same object in memory\n",
        "y = x.copy()\n",
        "x[2] = 10\n",
        "x[3]= \"No cats rule!\"\n",
        "print(x, y)"
      ]
    },
    {
      "cell_type": "markdown",
      "id": "c6ad7fa6",
      "metadata": {
        "id": "c6ad7fa6"
      },
      "source": [
        "---\n",
        "\n",
        "# Copying vs Referencing\n",
        "\n",
        "*Careful* when modifying elements of a compound object: 'assignment statements do not copy objects, they create bindings between a target (a spot in computer memory) and an object'!"
      ]
    },
    {
      "cell_type": "code",
      "execution_count": null,
      "id": "61cbff31",
      "metadata": {
        "lines_to_next_cell": 0,
        "id": "61cbff31"
      },
      "outputs": [],
      "source": [
        "#create a 'tuple' of four values\n",
        "x = (1, 2, 3, [\"Cats Rule!\"])\n",
        "y = x\n",
        "print(x, y)"
      ]
    },
    {
      "cell_type": "code",
      "execution_count": null,
      "id": "4b22025b",
      "metadata": {
        "lines_to_next_cell": 2,
        "id": "4b22025b"
      },
      "outputs": [],
      "source": [
        "#can't modify elements of x but can modify the object contained\n",
        "#x[3] = [\"Dogs!\"]  would throw an error\n",
        "x[3][0] = \"Dogs!\"\n",
        "print(x, y)"
      ]
    },
    {
      "cell_type": "markdown",
      "id": "4fdbe92d",
      "metadata": {
        "id": "4fdbe92d"
      },
      "source": [
        "---\n",
        "\n",
        "# Copying vs Referencing\n",
        "\n",
        "This is fine though!"
      ]
    },
    {
      "cell_type": "code",
      "execution_count": null,
      "id": "3143eaad",
      "metadata": {
        "lines_to_next_cell": 0,
        "id": "3143eaad"
      },
      "outputs": [],
      "source": [
        "difference = 20\n",
        "double = 2 * difference\n",
        "double\n",
        "difference = 5\n",
        "double"
      ]
    },
    {
      "cell_type": "code",
      "execution_count": null,
      "id": "d7abe2ab",
      "metadata": {
        "lines_to_next_cell": 0,
        "id": "d7abe2ab"
      },
      "outputs": [],
      "source": [
        "#must be rerun to update with the new computation\n",
        "double = 2 * difference\n",
        "double"
      ]
    },
    {
      "cell_type": "markdown",
      "id": "7ec6445f",
      "metadata": {
        "id": "7ec6445f"
      },
      "source": []
    },
    {
      "cell_type": "markdown",
      "id": "9b082a54",
      "metadata": {
        "id": "9b082a54"
      },
      "source": [
        "---\n",
        "\n",
        "# Variable Names\n",
        "\n",
        "Variable names can use letters, digits, and the underscore symbol (but cannot start with a digit)\n",
        "\n",
        "Ok variable names:\n",
        "\n",
        "- `X`, `species5618`, and `degrees_celsius`\n",
        "\n",
        "Bad variable names:\n",
        "\n",
        "- `777` (begins with a digit)\n",
        "- `no-way!` (includes punctuation)\n"
      ]
    },
    {
      "cell_type": "markdown",
      "id": "73c47952",
      "metadata": {
        "id": "73c47952"
      },
      "source": [
        "---\n",
        "\n",
        "# Augmented Assignment\n",
        "\n",
        "Python has lots of shorthand notation!\n",
        "\n",
        "- Quite often we want to take a value, add to it, and replace the old value"
      ]
    },
    {
      "cell_type": "code",
      "execution_count": null,
      "id": "687e0a8b",
      "metadata": {
        "id": "687e0a8b"
      },
      "outputs": [],
      "source": [
        "winnings = 100\n",
        "winnings = winnings + 20\n",
        "winnings"
      ]
    },
    {
      "cell_type": "markdown",
      "id": "6fa87222",
      "metadata": {
        "id": "6fa87222"
      },
      "source": [
        "--\n",
        "\n",
        "- Augmented assignment gives a shorthand"
      ]
    },
    {
      "cell_type": "code",
      "execution_count": null,
      "id": "7bf57f05",
      "metadata": {
        "lines_to_next_cell": 2,
        "id": "7bf57f05"
      },
      "outputs": [],
      "source": [
        "winnings = 100\n",
        "winnings += 20\n",
        "winnings"
      ]
    },
    {
      "cell_type": "markdown",
      "id": "7e9cd48d",
      "metadata": {
        "id": "7e9cd48d"
      },
      "source": [
        "---\n",
        "\n",
        "# Augmented Assignment\n",
        "\n",
        "- Works for all operators (except negation)"
      ]
    },
    {
      "cell_type": "code",
      "execution_count": null,
      "id": "f508ad20",
      "metadata": {
        "lines_to_next_cell": 2,
        "id": "f508ad20"
      },
      "outputs": [],
      "source": [
        "winnings\n",
        "winnings -= 30\n",
        "winnings\n",
        "winnings *= 40\n",
        "winnings\n",
        "winnings **= 1/2\n",
        "winnings"
      ]
    },
    {
      "cell_type": "markdown",
      "id": "a37e46d8",
      "metadata": {
        "id": "a37e46d8"
      },
      "source": [
        "---\n",
        "\n",
        "# Augmented Assignment\n",
        "\n",
        "Executed in the following way:\n",
        "\n",
        "1. Evaluate the expression on the right of the `=` sign to produce a value  \n",
        "\n",
        "2. Apply the operator to the variable on the left and the value produced\n",
        "\n",
        "3. Store this new value in the memory address of the variable on the left of the `=`.\n",
        "\n",
        "This means the operator is applied _after_ the expression on the right is evaluated."
      ]
    },
    {
      "cell_type": "markdown",
      "id": "1bdf34e7",
      "metadata": {
        "id": "1bdf34e7"
      },
      "source": [
        "--"
      ]
    },
    {
      "cell_type": "code",
      "execution_count": null,
      "id": "3b587261",
      "metadata": {
        "id": "3b587261"
      },
      "outputs": [],
      "source": [
        "winnings = 100\n",
        "winnings += 100*10\n",
        "winnings"
      ]
    },
    {
      "cell_type": "markdown",
      "id": "fa95cf47",
      "metadata": {
        "id": "fa95cf47"
      },
      "source": [
        "---\n",
        "\n",
        "# Continuing a Line of Code\n",
        "\n",
        "- For long lines of code, we can break the code across multiple lines using `\\` or `()`"
      ]
    },
    {
      "cell_type": "code",
      "execution_count": null,
      "id": "8e121f94",
      "metadata": {
        "lines_to_next_cell": 2,
        "id": "8e121f94"
      },
      "outputs": [],
      "source": [
        "10 + 20 - 100 * 60 \\\n",
        "/ 20\n",
        "\n",
        "(10 + 20 - 100 * 60\n",
        "/20)"
      ]
    },
    {
      "cell_type": "markdown",
      "id": "420aec54",
      "metadata": {
        "id": "420aec54"
      },
      "source": [
        "---\n",
        "\n",
        "# Functions & Methods\n",
        "\n",
        "Two major ways to do an operation on a variable/object:\n",
        "\n",
        ".left45[\n",
        "- Functions:  \n",
        "\n",
        "`function_name(myvar, other_args)`"
      ]
    },
    {
      "cell_type": "code",
      "execution_count": null,
      "id": "45b6a73f",
      "metadata": {
        "lines_to_next_cell": 0,
        "id": "45b6a73f"
      },
      "outputs": [],
      "source": [
        "myList = [1, 10, 100, 1000]\n",
        "len(myList)\n",
        "max(myList)"
      ]
    },
    {
      "cell_type": "markdown",
      "id": "3cd28492",
      "metadata": {
        "id": "3cd28492"
      },
      "source": [
        "]\n",
        "\n",
        ".left5[\n",
        "&nbsp;&nbsp;&nbsp;&nbsp;&nbsp;&nbsp;&nbsp;&nbsp;&nbsp;&nbsp;&nbsp;&nbsp;&nbsp;&nbsp;&nbsp;&nbsp;&nbsp;&nbsp;&nbsp;&nbsp;&nbsp;&nbsp;&nbsp;&nbsp;&nbsp;&nbsp;&nbsp;&nbsp;</div>\n",
        "]\n",
        "\n",
        "--\n",
        "\n",
        ".left45[\n",
        "- Methods:  \n",
        "\n",
        "`myvar.method(other_args)`"
      ]
    },
    {
      "cell_type": "code",
      "execution_count": null,
      "id": "392f7a8b",
      "metadata": {
        "lines_to_next_cell": 0,
        "id": "392f7a8b"
      },
      "outputs": [],
      "source": [
        "myList.pop(3)\n",
        "myList\n",
        "myList.append(100000)\n",
        "myList"
      ]
    },
    {
      "cell_type": "markdown",
      "id": "1ed9e19f",
      "metadata": {
        "id": "1ed9e19f"
      },
      "source": [
        "]\n",
        "\n",
        "---\n",
        "\n",
        "# To JupyterLab!  \n",
        "\n",
        "- Open our saved notebook  \n",
        "\n",
        "- Create a list\n",
        "\n",
        "- Use functions and methods on the list object"
      ]
    },
    {
      "cell_type": "markdown",
      "id": "9c48c7ff",
      "metadata": {
        "id": "9c48c7ff"
      },
      "source": [
        "---\n",
        "\n",
        "# Recap\n",
        "\n",
        "- Create variables with `=`\n",
        "\n",
        "- Many built-in data structures\n",
        "\n",
        "- Python shorthands (multiple assignment, `_` variable, augmented assignment)\n",
        "\n",
        "- Careful when *copying* a variable\n",
        "\n",
        "- Functions and Methods"
      ]
    }
  ],
  "metadata": {
    "jupytext": {
      "cell_metadata_filter": "fig.align,eval,warning,tags,message,out.width,-all",
      "main_language": "python",
      "notebook_metadata_filter": "-all"
    },
    "colab": {
      "provenance": []
    }
  },
  "nbformat": 4,
  "nbformat_minor": 5
}