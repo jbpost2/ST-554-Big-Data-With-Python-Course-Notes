{
 "cells": [
  {
   "cell_type": "raw",
   "id": "17c44b16",
   "metadata": {},
   "source": [
    "---\n",
    "title: \"Numerical Summaries\"\n",
    "subtitle: \"Data Structures, Reading Data, Writing Functions, and More\"\n",
    "author: \"Justin Post (Some notes modified from Dr. Eric Chi)\"\n",
    "output:\n",
    "  xaringan::moon_reader:\n",
    "    seal: false\n",
    "    lib_dir: libs\n",
    "    css: [default, \"css/ncsu.css\", \"css/ncsu-fonts.css\", \"css/mycss.css\"]\n",
    "    nature:\n",
    "      beforeInit: [\"js/ncsu-scale.js\"]\n",
    "      highlightStyle: github\n",
    "      highlightLines: true\n",
    "      countIncrementalSlides: false\n",
    "      ratio: \"16:9\"\n",
    "    includes:\n",
    "      in_header: \"partials/header.html\"\n",
    "editor_options: \n",
    "  chunk_output_type: console\n",
    "---"
   ]
  },
  {
   "cell_type": "code",
   "execution_count": null,
   "id": "15577124",
   "metadata": {
    "lines_to_next_cell": 2,
    "message": false,
    "tags": [
     "remove_cell"
    ],
    "warning": false
   },
   "outputs": [],
   "source": [
    "%%R\n",
    "options(htmltools.dir.version = FALSE)\n",
    "knitr::opts_chunk$set(\n",
    "  message = FALSE,\n",
    "  warning = FALSE,\n",
    "  dev = \"svg\",\n",
    "  fig.align = \"center\",\n",
    "  #fig.width = 11,\n",
    "  #fig.height = 5\n",
    "  cache = FALSE\n",
    ")\n",
    "\n",
    "# define vars\n",
    "om = par(\"mar\")\n",
    "lowtop = c(om[1],om[2],0.1,om[4])\n",
    "library(tidyverse)\n",
    "library(knitr)\n",
    "library(reticulate)\n",
    "use_python(\"C:\\\\Users\\\\jbpost2\\\\AppData\\\\Local\\\\Programs\\\\Python\\\\Python310\\\\python.exe\")\n",
    "#use_python(\"C:\\\\python\\\\python.exe\")\n",
    "options(dplyr.print_min = 5)\n",
    "options(reticulate.repl.quiet = TRUE)"
   ]
  },
  {
   "cell_type": "markdown",
   "id": "58ca4880",
   "metadata": {},
   "source": [
    "layout: false\n",
    "class: title-slide-section-red, middle"
   ]
  },
  {
   "cell_type": "markdown",
   "id": "bbe88474",
   "metadata": {},
   "source": [
    "# Numerical Summaries \n",
    "Justin Post\n",
    "\n",
    "---\n",
    "layout: true\n",
    "\n",
    "<div class=\"my-footer\"><img src=\"img/logo.png\" style=\"height: 60px;\"/></div> \n",
    "\n",
    "---\n",
    "\n",
    "# Exploratory Data Analysis (EDA)\n",
    "\n",
    "- Usual first step in an analysis is to get to know your data\n",
    "\n",
    "- EDA generally consists of a few steps:\n",
    "\n",
    "    + Understand how your data is stored\n",
    "    + Do basic data validation\n",
    "    + Determine rate of missing values\n",
    "    + Clean data up data as needed\n",
    "    + Investigate distributions\n",
    "        - Univariate measures/graphs\n",
    "        - Multivariate measures/graphs\n",
    "    + Apply transformations and repeat previous step\n",
    "   \n",
    "---\n",
    "\n",
    "# Understand How Data is Stored\n",
    "\n",
    "Read in some data"
   ]
  },
  {
   "cell_type": "code",
   "execution_count": null,
   "id": "bb80abe8",
   "metadata": {},
   "outputs": [],
   "source": [
    "import pandas as pd\n",
    "titanic_data = pd.read_csv(\"https://www4.stat.ncsu.edu/~online/datasets/titanic.csv\")"
   ]
  },
  {
   "cell_type": "markdown",
   "id": "e858acd2",
   "metadata": {
    "lines_to_next_cell": 0
   },
   "source": [
    ".left45["
   ]
  },
  {
   "cell_type": "code",
   "execution_count": null,
   "id": "80d86e5e",
   "metadata": {
    "lines_to_next_cell": 0
   },
   "outputs": [],
   "source": [
    "titanic_data.info()"
   ]
  },
  {
   "cell_type": "markdown",
   "id": "86dbd7d4",
   "metadata": {
    "lines_to_next_cell": 0
   },
   "source": [
    "]\n",
    ".left45["
   ]
  },
  {
   "cell_type": "code",
   "execution_count": null,
   "id": "acfddc33",
   "metadata": {
    "lines_to_next_cell": 0
   },
   "outputs": [],
   "source": [
    "titanic_data.head()\n",
    "titanic_data.tail()"
   ]
  },
  {
   "cell_type": "markdown",
   "id": "c69f0ecf",
   "metadata": {},
   "source": [
    "]"
   ]
  },
  {
   "cell_type": "markdown",
   "id": "ce0a0db9",
   "metadata": {},
   "source": [
    "---\n",
    "\n",
    "# Do Basic Data Validation\n",
    "\n",
    "- Use the `describe()` method on a data frame"
   ]
  },
  {
   "cell_type": "code",
   "execution_count": null,
   "id": "9640bed1",
   "metadata": {
    "lines_to_next_cell": 2
   },
   "outputs": [],
   "source": [
    "titanic_data.describe()"
   ]
  },
  {
   "cell_type": "markdown",
   "id": "d42ab371",
   "metadata": {},
   "source": [
    "---\n",
    "\n",
    "# Do Basic Data Validation\n",
    "\n",
    "- Use the `describe()` method on a data frame"
   ]
  },
  {
   "cell_type": "code",
   "execution_count": null,
   "id": "d48bc4e8",
   "metadata": {
    "lines_to_next_cell": 2
   },
   "outputs": [],
   "source": [
    "titanic_data.columns\n",
    "titanic_data[[\"age\", \"sibsp\", \"parch\", \"fare\"]].describe(percentiles = [0.05, 0.25])"
   ]
  },
  {
   "cell_type": "markdown",
   "id": "143ba917",
   "metadata": {},
   "source": [
    "---\n",
    "\n",
    "# Determine Rate of Missing Values\n",
    "\n",
    "- Use `is.null()` method"
   ]
  },
  {
   "cell_type": "code",
   "execution_count": null,
   "id": "1a5ef0ce",
   "metadata": {
    "lines_to_next_cell": 2
   },
   "outputs": [],
   "source": [
    "titanic_data.isnull()"
   ]
  },
  {
   "cell_type": "markdown",
   "id": "43a0b450",
   "metadata": {},
   "source": [
    "---\n",
    "\n",
    "# Determine Rate of Missing Values\n",
    "\n",
    "- Use `is.null()` method"
   ]
  },
  {
   "cell_type": "code",
   "execution_count": null,
   "id": "29ca4bdb",
   "metadata": {
    "lines_to_next_cell": 2
   },
   "outputs": [],
   "source": [
    "titanic_data.isnull().sum()"
   ]
  },
  {
   "cell_type": "markdown",
   "id": "a74d2020",
   "metadata": {},
   "source": [
    "---\n",
    "\n",
    "# Clean Up Data As Needed\n",
    "\n",
    "- `.drop()` method can remove variables (or use other subsetting)"
   ]
  },
  {
   "cell_type": "code",
   "execution_count": null,
   "id": "ca7ec51d",
   "metadata": {
    "lines_to_next_cell": 2
   },
   "outputs": [],
   "source": [
    "titanic_data.drop(columns = [\"body\", \"cabin\", \"boat\"])"
   ]
  },
  {
   "cell_type": "markdown",
   "id": "b9ab86b9",
   "metadata": {},
   "source": [
    "---\n",
    "\n",
    "# Clean Up Data As Needed\n",
    "\n",
    "- `.drop()` method can remove variables (or use other subsetting)"
   ]
  },
  {
   "cell_type": "code",
   "execution_count": null,
   "id": "3bceef69",
   "metadata": {
    "lines_to_next_cell": 2
   },
   "outputs": [],
   "source": [
    "sub_titanic_data = titanic_data.drop(columns = [\"body\", \"cabin\", \"boat\"], axis = 1) \\\n",
    "                               .iloc[:(titanic_data.shape[0]-1)]\n",
    "sub_titanic_data"
   ]
  },
  {
   "cell_type": "markdown",
   "id": "2afb0c1e",
   "metadata": {},
   "source": [
    "---\n",
    "\n",
    "# Clean Up Data As Needed\n",
    "\n",
    "- Can be dangerous to impute the missing values... but can be done with `.fillna()` method"
   ]
  },
  {
   "cell_type": "code",
   "execution_count": null,
   "id": "1dccd368",
   "metadata": {
    "lines_to_next_cell": 2
   },
   "outputs": [],
   "source": [
    "sub_titanic_data.fillna(value = 0)"
   ]
  },
  {
   "cell_type": "markdown",
   "id": "e1b4ae40",
   "metadata": {},
   "source": [
    "---\n",
    "\n",
    "# Clean Up Data As Needed\n",
    "\n",
    "- Can be dangerous to impute the missing values... but can be done with `.fillna()` method"
   ]
  },
  {
   "cell_type": "code",
   "execution_count": null,
   "id": "86481b1e",
   "metadata": {
    "lines_to_next_cell": 2
   },
   "outputs": [],
   "source": [
    "sub_titanic_data.fillna(value = {\"home.dest\": \"Unknown\"})"
   ]
  },
  {
   "cell_type": "markdown",
   "id": "43afe7b4",
   "metadata": {
    "lines_to_next_cell": 0
   },
   "source": [
    "---\n",
    "\n",
    "# Clean Up Data As Needed\n",
    "\n",
    "- Can remove rows with missing using `.dropna()` method\n",
    "\n",
    ".left45["
   ]
  },
  {
   "cell_type": "code",
   "execution_count": null,
   "id": "c88cb301",
   "metadata": {
    "lines_to_next_cell": 0
   },
   "outputs": [],
   "source": [
    "sub_titanic_data.shape\n",
    "sub_titanic_data.isnull().sum()"
   ]
  },
  {
   "cell_type": "markdown",
   "id": "00335cca",
   "metadata": {
    "lines_to_next_cell": 0
   },
   "source": [
    "]\n",
    ".left45["
   ]
  },
  {
   "cell_type": "code",
   "execution_count": null,
   "id": "56c64ecd",
   "metadata": {
    "lines_to_next_cell": 0
   },
   "outputs": [],
   "source": [
    "temp = sub_titanic_data.dropna()\n",
    "temp.shape\n",
    "temp.isnull().sum()"
   ]
  },
  {
   "cell_type": "markdown",
   "id": "ae5a00a3",
   "metadata": {},
   "source": [
    "]"
   ]
  },
  {
   "cell_type": "markdown",
   "id": "f46f4eeb",
   "metadata": {
    "lines_to_next_cell": 0
   },
   "source": [
    "---\n",
    "\n",
    "# Exploratory Data Analysis (EDA)\n",
    "\n",
    "- Usual first step in an analysis is to get to know your data\n",
    "\n",
    "- EDA generally consists of a few steps:\n",
    "\n",
    "    + Understand how your data is stored\n",
    "    + Do basic data validation\n",
    "    + Determine rate of missing values\n",
    "    + Clean data up data as needed\n",
    "    + Investigate distributions\n",
    "        - Univariate measures/graphs\n",
    "        - Multivariate measures/graphs\n",
    "    + Apply transformations and repeat previous step\n",
    "   \n",
    "\n",
    "---\n",
    "\n",
    "# Investigate distributions  \n",
    "\n",
    "- Numerical summaries (across subgroups)  \n",
    "\n",
    "    + Contingency Tables  \n",
    "    + Mean/Median  \n",
    "    + Standard Deviation/Variance/IQR\n",
    "    + Quantiles/Percentiles\n",
    "    \n",
    "\n",
    "---\n",
    "\n",
    "# Investigate distributions  \n",
    "\n",
    "- Numerical summaries (across subgroups)  \n",
    "\n",
    "    + Contingency Tables  \n",
    "    + Mean/Median  \n",
    "    + Standard Deviation/Variance/IQR\n",
    "    + Quantiles/Percentiles\n",
    "\n",
    "- Graphical summaries (across subgroups)  \n",
    "\n",
    "    + Bar plots  \n",
    "    + Histograms  \n",
    "    + Box plots  \n",
    "    + Scatter plots\n",
    "\n",
    "\n",
    "---\n",
    "\n",
    "# Types of Data\n",
    "\n",
    "- How to summarize data depends on the type of data  \n",
    "\n",
    "    + Categorical (Qualitative) variable - entries are a label or attribute   \n",
    "    + Numeric (Quantitative) variable - entries are a numerical value where math can be performed\n",
    "\n"
   ]
  },
  {
   "cell_type": "code",
   "execution_count": null,
   "id": "5572ffef",
   "metadata": {
    "fig.align": "center",
    "lines_to_next_cell": 2,
    "out.width": "500px",
    "tags": [
     "remove_input"
    ]
   },
   "outputs": [],
   "source": [
    "%%R\n",
    "knitr::include_graphics(\"img/variableTypes.png\")"
   ]
  },
  {
   "cell_type": "markdown",
   "id": "36201f77",
   "metadata": {
    "lines_to_next_cell": 0
   },
   "source": [
    "---\n",
    "\n",
    "# Categorical Data\n",
    "\n",
    "Goal: Describe the **distribution** of the variable  \n",
    "\n",
    "- Distribution = pattern and frequency with which you observe a variable  \n",
    "- Categorical variable - entries are a label or attribute   \n",
    "\n",
    "---\n",
    "\n",
    "# Categorical Data\n",
    "\n",
    "Goal: Describe the **distribution** of the variable  \n",
    "\n",
    "- Distribution = pattern and frequency with which you observe a variable  \n",
    "- Categorical variable - entries are a label or attribute   \n",
    "\n",
    "    + Describe the relative frequency (or count) for each category\n",
    "    + Using `pandas` `.value_counts()` method and `crosstab()` function\n",
    "\n",
    "    \n",
    "---\n",
    "\n",
    "# Category Type \n",
    "\n",
    "- Variables of interest:\n",
    "\n",
    "    + embarked (where journey started)  \n"
   ]
  },
  {
   "cell_type": "code",
   "execution_count": null,
   "id": "3a8ca728",
   "metadata": {
    "echo": true,
    "lines_to_next_cell": 0
   },
   "outputs": [],
   "source": [
    "sub_titanic_data.embarked[0:2]\n",
    "type(sub_titanic_data.embarked[0])"
   ]
  },
  {
   "cell_type": "markdown",
   "id": "492f7c36",
   "metadata": {},
   "source": []
  },
  {
   "cell_type": "markdown",
   "id": "d245d32d",
   "metadata": {
    "lines_to_next_cell": 0
   },
   "source": [
    "---\n",
    "\n",
    "# Category Type \n",
    "\n",
    "- Variables of interest:\n",
    "\n",
    "    + embarked (where journey started)  \n"
   ]
  },
  {
   "cell_type": "code",
   "execution_count": null,
   "id": "dadcdcf8",
   "metadata": {
    "echo": true,
    "lines_to_next_cell": 2
   },
   "outputs": [],
   "source": [
    "sub_titanic_data.embarked[0:2]\n",
    "type(sub_titanic_data.embarked[0])\n",
    "sub_titanic_data[\"embarkedC\"] = sub_titanic_data.embarked.astype(\"category\")\n",
    "sub_titanic_data.embarkedC[0:2]"
   ]
  },
  {
   "cell_type": "markdown",
   "id": "80155df1",
   "metadata": {
    "lines_to_next_cell": 0
   },
   "source": [
    "---\n",
    "\n",
    "# Category Type \n",
    "\n",
    "- Variables of interest:\n",
    "\n",
    "    + embarked (where journey started)  \n"
   ]
  },
  {
   "cell_type": "code",
   "execution_count": null,
   "id": "7681ee27",
   "metadata": {
    "echo": true,
    "lines_to_next_cell": 2
   },
   "outputs": [],
   "source": [
    "sub_titanic_data.embarkedC = sub_titanic_data.embarkedC.cat.rename_categories([\"Cherbourg\", \"Queenstown\", \"Southampton\"])\n",
    "sub_titanic_data.embarkedC[0:2]"
   ]
  },
  {
   "cell_type": "markdown",
   "id": "ab8b4189",
   "metadata": {
    "lines_to_next_cell": 0
   },
   "source": [
    "---\n",
    "\n",
    "# Category Type \n",
    "\n",
    "- Variables of interest:\n",
    "\n",
    "    + sex (Male or Female)  \n"
   ]
  },
  {
   "cell_type": "code",
   "execution_count": null,
   "id": "63afa66d",
   "metadata": {
    "echo": true,
    "lines_to_next_cell": 0
   },
   "outputs": [],
   "source": [
    "sub_titanic_data[\"sexC\"] = sub_titanic_data.sex.astype(\"category\")\n",
    "sub_titanic_data.sexC = sub_titanic_data.sexC.cat.rename_categories([\"Female\", \"Male\"])\n",
    "sub_titanic_data.sexC[0:2]"
   ]
  },
  {
   "cell_type": "markdown",
   "id": "98cfd85d",
   "metadata": {},
   "source": []
  },
  {
   "cell_type": "markdown",
   "id": "076f7c59",
   "metadata": {
    "lines_to_next_cell": 0
   },
   "source": [
    "---\n",
    "\n",
    "# Category Type \n",
    "\n",
    "- Variables of interest:\n",
    "\n",
    "    + survived (survive or not)    \n",
    "  "
   ]
  },
  {
   "cell_type": "code",
   "execution_count": null,
   "id": "1637d313",
   "metadata": {
    "echo": true
   },
   "outputs": [],
   "source": [
    "type(sub_titanic_data.survived[0])\n",
    "sub_titanic_data.survived[0:2]\n",
    "sub_titanic_data[\"survivedC\"] = sub_titanic_data.survived.astype(\"category\")\n",
    "sub_titanic_data.survivedC = sub_titanic_data.survivedC.cat.rename_categories([\"Died\", \"Survived\"])\n",
    "sub_titanic_data.survivedC[0:2]"
   ]
  },
  {
   "cell_type": "markdown",
   "id": "666e552c",
   "metadata": {
    "lines_to_next_cell": 0
   },
   "source": [
    "---\n",
    "\n",
    "# Contingency tables \n",
    "\n",
    "- Create **one-way contingency tables** (`.value_counts()` method) \n",
    "\n",
    "    + embarked (where journey started)  \n",
    "    + survived (survive or not)    \n",
    "    + sex (Male or Female)  \n",
    "\n",
    ".left45["
   ]
  },
  {
   "cell_type": "code",
   "execution_count": null,
   "id": "846122ce",
   "metadata": {
    "lines_to_next_cell": 0
   },
   "outputs": [],
   "source": [
    "sub_titanic_data.embarkedC.value_counts(dropna = False)\n",
    "sub_titanic_data.survivedC.value_counts()"
   ]
  },
  {
   "cell_type": "markdown",
   "id": "3af87959",
   "metadata": {
    "lines_to_next_cell": 0
   },
   "source": [
    "]\n",
    ".right45["
   ]
  },
  {
   "cell_type": "code",
   "execution_count": null,
   "id": "32a34b83",
   "metadata": {
    "lines_to_next_cell": 0
   },
   "outputs": [],
   "source": [
    "sub_titanic_data.sexC.value_counts()"
   ]
  },
  {
   "cell_type": "markdown",
   "id": "110a6a5f",
   "metadata": {},
   "source": [
    "]"
   ]
  },
  {
   "cell_type": "markdown",
   "id": "13dcfdf5",
   "metadata": {
    "lines_to_next_cell": 0
   },
   "source": [
    "---\n",
    "\n",
    "# Contingency tables \n",
    "\n",
    "- Create **one-way contingency tables** (`cross_tab()` function) \n",
    "\n",
    "    + embarked (where journey started)  \n",
    "    + survived (survive or not)    \n",
    "\n",
    ".left45["
   ]
  },
  {
   "cell_type": "code",
   "execution_count": null,
   "id": "521670a2",
   "metadata": {
    "lines_to_next_cell": 0
   },
   "outputs": [],
   "source": [
    "sub_titanic_data[\"dummy\"] = 0\n",
    "pd.crosstab(index = sub_titanic_data.embarkedC, columns = sub_titanic_data.dummy)"
   ]
  },
  {
   "cell_type": "markdown",
   "id": "35637495",
   "metadata": {
    "lines_to_next_cell": 0
   },
   "source": [
    "]\n",
    ".right45["
   ]
  },
  {
   "cell_type": "code",
   "execution_count": null,
   "id": "91638a0c",
   "metadata": {
    "lines_to_next_cell": 0
   },
   "outputs": [],
   "source": [
    "pd.crosstab(index = sub_titanic_data.sexC, columns = sub_titanic_data.dummy)"
   ]
  },
  {
   "cell_type": "markdown",
   "id": "286a23cb",
   "metadata": {},
   "source": [
    "]\n",
    "\n",
    "---\n",
    "\n",
    "# Two-way contingency tables \n",
    "\n",
    "- Create **two-way contingency tables** (`cross_tab()` function)  "
   ]
  },
  {
   "cell_type": "code",
   "execution_count": null,
   "id": "2f4ff95c",
   "metadata": {
    "lines_to_next_cell": 0
   },
   "outputs": [],
   "source": [
    "pd.crosstab(\n",
    "  sub_titanic_data.embarkedC,\n",
    "  sub_titanic_data.survivedC)\n",
    "pd.crosstab(\n",
    "  sub_titanic_data.sexC, \n",
    "  sub_titanic_data.survivedC)"
   ]
  },
  {
   "cell_type": "markdown",
   "id": "44dba40a",
   "metadata": {},
   "source": []
  },
  {
   "cell_type": "markdown",
   "id": "f0b50e66",
   "metadata": {},
   "source": [
    "---\n",
    "\n",
    "# Two-way contingency tables \n",
    "\n",
    "- Create **two-way contingency tables** (`cross_tab()` function)  \n",
    "- Add marginal totals with `margins = True` argument"
   ]
  },
  {
   "cell_type": "code",
   "execution_count": null,
   "id": "b1bf7867",
   "metadata": {},
   "outputs": [],
   "source": [
    "pd.crosstab(\n",
    "  sub_titanic_data.embarkedC, \n",
    "  sub_titanic_data.survivedC, \n",
    "  margins = True)"
   ]
  },
  {
   "cell_type": "markdown",
   "id": "e9d291d2",
   "metadata": {},
   "source": [
    "---\n",
    "\n",
    "# Two-way contingency tables \n",
    "\n",
    "- Create **two-way contingency tables** (`cross_tab()` function)  \n",
    "- Add row and columns names\n"
   ]
  },
  {
   "cell_type": "code",
   "execution_count": null,
   "id": "8a12d38b",
   "metadata": {
    "lines_to_next_cell": 2
   },
   "outputs": [],
   "source": [
    "pd.crosstab(\n",
    "  sub_titanic_data.embarkedC, \n",
    "  sub_titanic_data.survivedC, \n",
    "  margins = True, \n",
    "  rownames = [\"Embarked Port\"], \n",
    "  colnames = [\"Survival Status\"]\n",
    "  )"
   ]
  },
  {
   "cell_type": "markdown",
   "id": "b8b16dd9",
   "metadata": {},
   "source": [
    "---\n",
    "\n",
    "# Three-way contingency tables \n",
    "\n",
    "- Create **two-way contingency tables** (`cross_tab()` function)  "
   ]
  },
  {
   "cell_type": "code",
   "execution_count": null,
   "id": "f9d38ef6",
   "metadata": {
    "lines_to_next_cell": 2
   },
   "outputs": [],
   "source": [
    "pd.crosstab(\n",
    "  [sub_titanic_data.embarkedC, sub_titanic_data.survivedC], \n",
    "  sub_titanic_data.sexC, \n",
    "  margins = True)"
   ]
  },
  {
   "cell_type": "markdown",
   "id": "88999ea3",
   "metadata": {},
   "source": [
    "---\n",
    "\n",
    "# Three-way contingency tables \n",
    "\n",
    "- Create **two-way contingency tables** (`cross_tab()` function)  \n",
    "    + Add in names for more clarity"
   ]
  },
  {
   "cell_type": "code",
   "execution_count": null,
   "id": "4b6a4fc0",
   "metadata": {
    "lines_to_next_cell": 2
   },
   "outputs": [],
   "source": [
    "my_tab = pd.crosstab(\n",
    "  [sub_titanic_data.embarkedC, sub_titanic_data.survivedC], \n",
    "  sub_titanic_data.sexC, \n",
    "  margins = True,\n",
    "  rownames = ['Embarked Port', 'Survival Status'],\n",
    "  colnames = ['Sex'])\n",
    "my_tab"
   ]
  },
  {
   "cell_type": "markdown",
   "id": "25a5bdb8",
   "metadata": {},
   "source": [
    "---\n",
    "\n",
    "# Conditional contingency tables\n",
    "\n",
    "- `crosstab()` returns a data frame!"
   ]
  },
  {
   "cell_type": "code",
   "execution_count": null,
   "id": "3d92165c",
   "metadata": {},
   "outputs": [],
   "source": [
    "type(my_tab)"
   ]
  },
  {
   "cell_type": "code",
   "execution_count": null,
   "id": "26bed0d0",
   "metadata": {
    "lines_to_next_cell": 2
   },
   "outputs": [],
   "source": [
    "my_tab.columns\n",
    "my_tab.index"
   ]
  },
  {
   "cell_type": "markdown",
   "id": "5a3e1cb2",
   "metadata": {
    "lines_to_next_cell": 0
   },
   "source": [
    "---\n",
    "\n",
    "# Conditional contingency tables\n",
    "\n",
    "- Can obtain **conditional** bivariate info!\n",
    "- Returns the embarked vs survived table for females\n",
    "\n",
    ".left50["
   ]
  },
  {
   "cell_type": "code",
   "execution_count": null,
   "id": "9682a250",
   "metadata": {
    "lines_to_next_cell": 0
   },
   "outputs": [],
   "source": [
    "my_tab"
   ]
  },
  {
   "cell_type": "markdown",
   "id": "6967bc1d",
   "metadata": {
    "lines_to_next_cell": 0
   },
   "source": [
    "]\n",
    ".left5[\n",
    "&nbsp;\n",
    "]\n",
    ".left45["
   ]
  },
  {
   "cell_type": "code",
   "execution_count": null,
   "id": "d29e2ff8",
   "metadata": {
    "lines_to_next_cell": 0
   },
   "outputs": [],
   "source": [
    "my_tab.iloc[:, 0]"
   ]
  },
  {
   "cell_type": "markdown",
   "id": "33705a61",
   "metadata": {},
   "source": [
    "]\n",
    "\n",
    "---\n",
    "\n",
    "# Conditional contingency tables\n",
    "\n",
    "- Can obtain **conditional** bivariate info!"
   ]
  },
  {
   "cell_type": "code",
   "execution_count": null,
   "id": "127bbdae",
   "metadata": {
    "tags": [
     "remove_input"
    ]
   },
   "outputs": [],
   "source": [
    "my_tab.columns\n",
    "my_tab.index"
   ]
  },
  {
   "cell_type": "markdown",
   "id": "db808149",
   "metadata": {},
   "source": [
    "- Returns the embarked vs survived table for males"
   ]
  },
  {
   "cell_type": "code",
   "execution_count": null,
   "id": "6ec48392",
   "metadata": {
    "lines_to_next_cell": 2
   },
   "outputs": [],
   "source": [
    "my_tab.loc[:, \"Male\"]"
   ]
  },
  {
   "cell_type": "markdown",
   "id": "8b28c1cd",
   "metadata": {},
   "source": [
    "---\n",
    "\n",
    "# Conditional contingency tables\n",
    "\n",
    "- Can obtain **conditional** bivariate info!"
   ]
  },
  {
   "cell_type": "code",
   "execution_count": null,
   "id": "239e9aff",
   "metadata": {
    "tags": [
     "remove_input"
    ]
   },
   "outputs": [],
   "source": [
    "my_tab"
   ]
  },
  {
   "cell_type": "markdown",
   "id": "87297c3c",
   "metadata": {},
   "source": [
    "- Returns the sex vs embarked table for those that died"
   ]
  },
  {
   "cell_type": "code",
   "execution_count": null,
   "id": "721b7615",
   "metadata": {
    "lines_to_next_cell": 2
   },
   "outputs": [],
   "source": [
    "my_tab.iloc[0:5:2, :]"
   ]
  },
  {
   "cell_type": "markdown",
   "id": "fcbf90e8",
   "metadata": {},
   "source": [
    "---\n",
    "\n",
    "# Conditional contingency tables\n",
    "\n",
    "- Can obtain **conditional** bivariate info!"
   ]
  },
  {
   "cell_type": "code",
   "execution_count": null,
   "id": "faca1653",
   "metadata": {
    "tags": [
     "remove_input"
    ]
   },
   "outputs": [],
   "source": [
    "my_tab.columns\n",
    "my_tab.index"
   ]
  },
  {
   "cell_type": "markdown",
   "id": "864b061e",
   "metadata": {},
   "source": [
    "- Returns the sex vs embarked table for those that died"
   ]
  },
  {
   "cell_type": "code",
   "execution_count": null,
   "id": "87ccfa44",
   "metadata": {
    "lines_to_next_cell": 0
   },
   "outputs": [],
   "source": [
    "my_tab.loc[((\"Cherbourg\", \"Queenstown\", \"Southampton\"), \"Died\"), :]"
   ]
  },
  {
   "cell_type": "markdown",
   "id": "8c22e4d7",
   "metadata": {},
   "source": []
  },
  {
   "cell_type": "markdown",
   "id": "af991975",
   "metadata": {},
   "source": [
    "---\n",
    "\n",
    "# Conditional contingency tables\n",
    "\n",
    "- Can obtain **conditional** bivariate info!"
   ]
  },
  {
   "cell_type": "code",
   "execution_count": null,
   "id": "68003b23",
   "metadata": {
    "tags": [
     "remove_input"
    ]
   },
   "outputs": [],
   "source": [
    "my_tab.columns\n",
    "my_tab.index"
   ]
  },
  {
   "cell_type": "markdown",
   "id": "0c322050",
   "metadata": {},
   "source": [
    "- Returns the sex vs survived table for embarked of Cherbourg"
   ]
  },
  {
   "cell_type": "code",
   "execution_count": null,
   "id": "112de0c2",
   "metadata": {
    "lines_to_next_cell": 2
   },
   "outputs": [],
   "source": [
    "my_tab.loc[('Cherbourg', (\"Died\", \"Survived\")), :]"
   ]
  },
  {
   "cell_type": "markdown",
   "id": "22c32935",
   "metadata": {},
   "source": [
    "---\n",
    "\n",
    "# Conditional contingency tables\n",
    "\n",
    "- Can obtain **conditional** univariate info too!"
   ]
  },
  {
   "cell_type": "code",
   "execution_count": null,
   "id": "6bbda00d",
   "metadata": {
    "tags": [
     "remove_input"
    ]
   },
   "outputs": [],
   "source": [
    "my_tab"
   ]
  },
  {
   "cell_type": "markdown",
   "id": "64c4b223",
   "metadata": {},
   "source": [
    "- Return the sex table for those that died and embarked at Cherbourg"
   ]
  },
  {
   "cell_type": "code",
   "execution_count": null,
   "id": "68b95001",
   "metadata": {
    "lines_to_next_cell": 2
   },
   "outputs": [],
   "source": [
    "my_tab.iloc[0, :]"
   ]
  },
  {
   "cell_type": "markdown",
   "id": "b0b8ff73",
   "metadata": {},
   "source": [
    "---\n",
    "\n",
    "# Conditional contingency tables\n",
    "\n",
    "- Can obtain **conditional** univariate info too!"
   ]
  },
  {
   "cell_type": "code",
   "execution_count": null,
   "id": "116c96ba",
   "metadata": {
    "tags": [
     "remove_input"
    ]
   },
   "outputs": [],
   "source": [
    "my_tab.columns\n",
    "my_tab.index"
   ]
  },
  {
   "cell_type": "markdown",
   "id": "9e06de22",
   "metadata": {},
   "source": [
    "- Return the sex table for those that died and embarked at Cherbourg"
   ]
  },
  {
   "cell_type": "code",
   "execution_count": null,
   "id": "135fcfc5",
   "metadata": {},
   "outputs": [],
   "source": [
    "my_tab.loc[('Cherbourg', 'Died')]"
   ]
  },
  {
   "cell_type": "markdown",
   "id": "d6597a7b",
   "metadata": {},
   "source": [
    "---\n",
    "\n",
    "# To JupyterLab!  \n",
    "\n",
    "- Read in some data\n",
    "\n",
    "- Use `.cut()` method to split a numeric variable \n",
    "\n",
    "- Create some contingency tables\n",
    "\n",
    "    + Subset data and create some too!\n",
    "\n",
    "\n",
    "---\n",
    "\n",
    "# Exploratory Data Analysis (EDA)\n",
    "\n",
    "- Usual first step in an analysis is to get to know your data\n",
    "\n",
    "- EDA generally consists of a few steps:\n",
    "\n",
    "    + Understand how your data is stored\n",
    "    + Do basic data validation\n",
    "    + Determine rate of missing values\n",
    "    + Clean data up data as needed\n",
    "    + Investigate distributions\n",
    "        - Univariate measures/graphs\n",
    "        - Multivariate measures/graphs\n",
    "    + Apply transformations and repeat previous step\n",
    "   \n",
    "\n",
    "---\n",
    "\n",
    "# Investigate distributions  \n",
    "\n",
    "- Numerical summaries (across subgroups)  \n",
    "\n",
    "    + Contingency Tables  \n",
    "    + Mean/Median  \n",
    "    + Standard Deviation/Variance/IQR\n",
    "    + Quantiles/Percentiles\n",
    "    \n",
    "\n",
    "---\n",
    "\n",
    "# Numeric Data\n",
    "\n",
    "Goal: Describe the **distribution** of the variable  \n",
    "\n",
    "- Distribution = pattern and frequency with which you observe a variable  \n",
    "- Numeric variable - entries are a numerical value where math can be performed\n",
    "\n",
    "---\n",
    "\n",
    "# Numeric Data\n",
    "\n",
    "Goal: Describe the **distribution** of the variable  \n",
    "\n",
    "- Distribution = pattern and frequency with which you observe a variable  \n",
    "- Numeric variable - entries are a numerical value where math can be performed\n",
    "\n",
    "For a single numeric variable, describe the distribution via \n",
    "\n",
    "+ Shape: Histogram, Density plot, ...\n",
    "+ **Measures of center: Mean, Median, ...**\n",
    "+ **Measures of spread: Variance, Standard Deviation, Quartiles, IQR, ...**\n",
    "\n",
    "For two numeric variables, describe the distribution via \n",
    "\n",
    "+ Shape: Scatter plot, ...\n",
    "+ **Measures of linear relationship: Covariance, Correlation, ...**"
   ]
  },
  {
   "cell_type": "markdown",
   "id": "eb33b4c2",
   "metadata": {
    "lines_to_next_cell": 0
   },
   "source": [
    "---\n",
    "\n",
    "# Measures of Center\n",
    "\n",
    "Find mean and median \n",
    "\n",
    ".left45["
   ]
  },
  {
   "cell_type": "code",
   "execution_count": null,
   "id": "1ce870d4",
   "metadata": {
    "lines_to_next_cell": 0
   },
   "outputs": [],
   "source": [
    "sub_titanic_data['fare'].mean()\n",
    "sub_titanic_data['fare'].median()"
   ]
  },
  {
   "cell_type": "markdown",
   "id": "c0a9bcc9",
   "metadata": {
    "lines_to_next_cell": 0
   },
   "source": [
    "]\n",
    ".left45["
   ]
  },
  {
   "cell_type": "code",
   "execution_count": null,
   "id": "50652ab0",
   "metadata": {
    "lines_to_next_cell": 0
   },
   "outputs": [],
   "source": [
    "sub_titanic_data.age.mean()\n",
    "sub_titanic_data.age.median()"
   ]
  },
  {
   "cell_type": "markdown",
   "id": "d09dff2a",
   "metadata": {
    "lines_to_next_cell": 0
   },
   "source": [
    "]\n",
    "\n",
    "---\n",
    "\n",
    "# Measures of Spread\n",
    "\n",
    "Standard Deviation, Quartiles, & IQR\n",
    "\n",
    ".left50["
   ]
  },
  {
   "cell_type": "code",
   "execution_count": null,
   "id": "43d489f0",
   "metadata": {
    "lines_to_next_cell": 0
   },
   "outputs": [],
   "source": [
    "sub_titanic_data.age.std()\n",
    "sub_titanic_data.age.quantile(q = [0.2, 0.25, 0.5, 0.95])"
   ]
  },
  {
   "cell_type": "markdown",
   "id": "10f7dedd",
   "metadata": {
    "lines_to_next_cell": 0
   },
   "source": [
    "]\n",
    ".right45["
   ]
  },
  {
   "cell_type": "code",
   "execution_count": null,
   "id": "aa8c76d6",
   "metadata": {
    "lines_to_next_cell": 0
   },
   "outputs": [],
   "source": [
    "q1 = sub_titanic_data.age.quantile(q = [0.25])\n",
    "q3 = sub_titanic_data.age.quantile(q = [0.75])\n",
    "q1\n",
    "q3\n",
    "type(q1)\n",
    "q3[0.75] - q1[0.25]"
   ]
  },
  {
   "cell_type": "markdown",
   "id": "9be64927",
   "metadata": {},
   "source": [
    "]\n",
    "\n",
    "---\n",
    "\n",
    "# Measures of Linear Relationship\n",
    "\n",
    "Correlation   "
   ]
  },
  {
   "cell_type": "code",
   "execution_count": null,
   "id": "0a672e08",
   "metadata": {},
   "outputs": [],
   "source": [
    "sub_titanic_data.corr()"
   ]
  },
  {
   "cell_type": "code",
   "execution_count": null,
   "id": "f9ec8139",
   "metadata": {},
   "outputs": [],
   "source": [
    "sub_titanic_data[[\"age\", \"fare\", \"sibsp\", \"parch\"]].corr()"
   ]
  },
  {
   "cell_type": "markdown",
   "id": "31094f0e",
   "metadata": {},
   "source": [
    "---\n",
    "\n",
    "# Summaries Across Groups\n",
    "\n",
    "Usually want summaries for different **subgroups of data** \n",
    "- Ex: Get similar fare summaries for each *survival status*"
   ]
  },
  {
   "cell_type": "markdown",
   "id": "0349eadd",
   "metadata": {},
   "source": [
    "---\n",
    "\n",
    "# Summaries Across Groups\n",
    "\n",
    "Usually want summaries for different **subgroups of data** \n",
    "- Ex: Get similar fare summaries for each *survival status*\n",
    "\n",
    "Idea: \n",
    "\n",
    "- Use `.groupby()` method and then use a summarization function \n",
    "- Use `.crosstab()` method with `aggfunc` argument\n"
   ]
  },
  {
   "cell_type": "markdown",
   "id": "960f7499",
   "metadata": {},
   "source": [
    "---\n",
    "\n",
    "# Summaries Across Groups Using `.groupby()`\n",
    "\n",
    "- Ex: Get summary for numeric type variables for each *survival status*"
   ]
  },
  {
   "cell_type": "code",
   "execution_count": null,
   "id": "e44420ee",
   "metadata": {
    "lines_to_next_cell": 2
   },
   "outputs": [],
   "source": [
    "sub_titanic_data.groupby(\"survivedC\")[[\"age\", \"fare\", \"sibsp\", \"parch\"]].mean()"
   ]
  },
  {
   "cell_type": "markdown",
   "id": "87d76d0a",
   "metadata": {},
   "source": [
    "---\n",
    "\n",
    "# Summaries Across Groups Using `.groupby()`\n",
    "\n",
    "- Ex: Get summary for numeric type variables for each *survival status*"
   ]
  },
  {
   "cell_type": "code",
   "execution_count": null,
   "id": "45f47923",
   "metadata": {
    "lines_to_next_cell": 2
   },
   "outputs": [],
   "source": [
    "sub_titanic_data.groupby(\"survivedC\")[[\"age\", \"fare\", \"sibsp\", \"parch\"]].mean()"
   ]
  },
  {
   "cell_type": "code",
   "execution_count": null,
   "id": "2eb06d17",
   "metadata": {
    "lines_to_next_cell": 2
   },
   "outputs": [],
   "source": [
    "sub_titanic_data.groupby(\"survivedC\")[[\"age\", \"fare\", \"sibsp\", \"parch\"]].std()"
   ]
  },
  {
   "cell_type": "markdown",
   "id": "38f9f060",
   "metadata": {},
   "source": [
    "---\n",
    "\n",
    "# Summaries Across Groups Using `.groupby()`\n",
    "\n",
    "- `.unstack()` method can sometimes make the output clearer"
   ]
  },
  {
   "cell_type": "code",
   "execution_count": null,
   "id": "2d39e93d",
   "metadata": {
    "lines_to_next_cell": 0
   },
   "outputs": [],
   "source": [
    "sub_titanic_data.groupby(\"survivedC\")[[\"age\", \"fare\", \"sibsp\", \"parch\"]].mean().unstack()"
   ]
  },
  {
   "cell_type": "markdown",
   "id": "6bec45be",
   "metadata": {},
   "source": []
  },
  {
   "cell_type": "markdown",
   "id": "060d1dd5",
   "metadata": {},
   "source": [
    "---\n",
    "\n",
    "# Summaries Across Groups Using `.groupby()`\n",
    "\n",
    "- Ex: Get summary for numeric type variables for each *survival status* and *embarked port*"
   ]
  },
  {
   "cell_type": "code",
   "execution_count": null,
   "id": "325fe8ce",
   "metadata": {
    "lines_to_next_cell": 0
   },
   "outputs": [],
   "source": [
    "sub_titanic_data.groupby([\"survivedC\", \"embarkedC\"])[[\"age\", \"fare\", \"sibsp\", \"parch\"]].mean()\n",
    "sub_titanic_data.groupby([\"survivedC\", \"embarkedC\"])[[\"age\", \"fare\", \"sibsp\", \"parch\"]].std()"
   ]
  },
  {
   "cell_type": "markdown",
   "id": "853dea4a",
   "metadata": {},
   "source": []
  },
  {
   "cell_type": "markdown",
   "id": "319b4f8f",
   "metadata": {},
   "source": [
    "---\n",
    "\n",
    "# Formatting Code\n",
    "\n",
    "- Can be a good place to use `\\`"
   ]
  },
  {
   "cell_type": "code",
   "execution_count": null,
   "id": "48331880",
   "metadata": {
    "lines_to_next_cell": 0
   },
   "outputs": [],
   "source": [
    "sub_titanic_data \\\n",
    "  .groupby([\"survivedC\", \"embarkedC\"]) \\\n",
    "   [[\"age\", \"fare\", \"sibsp\", \"parch\"]] \\\n",
    "   .mean()"
   ]
  },
  {
   "cell_type": "markdown",
   "id": "547e905a",
   "metadata": {},
   "source": []
  },
  {
   "cell_type": "markdown",
   "id": "776d558b",
   "metadata": {},
   "source": [
    "---\n",
    "\n",
    "# Summaries Across Groups Using `.crosstab()`\n",
    "\n",
    "- Ex: Get summary for numeric type variables for each *survival status*"
   ]
  },
  {
   "cell_type": "code",
   "execution_count": null,
   "id": "9f400828",
   "metadata": {
    "eval": true,
    "lines_to_next_cell": 2
   },
   "outputs": [],
   "source": [
    "pd.crosstab(\n",
    "  sub_titanic_data.survivedC, \n",
    "  columns = [\"mean\" for _ in range(sub_titanic_data.shape[0])],\n",
    "  values = sub_titanic_data.fare,\n",
    "  aggfunc = 'mean')"
   ]
  },
  {
   "cell_type": "markdown",
   "id": "4ece9ee3",
   "metadata": {},
   "source": [
    "---\n",
    "\n",
    "# Summaries Across Groups Using `.crosstab()`\n",
    "\n",
    "- Ex: Get summary for numeric type variables for each *survival status*"
   ]
  },
  {
   "cell_type": "code",
   "execution_count": null,
   "id": "3f32820b",
   "metadata": {
    "eval": true
   },
   "outputs": [],
   "source": [
    "pd.crosstab(\n",
    "  sub_titanic_data.survivedC, \n",
    "  columns = [\"stat\" for _ in range(sub_titanic_data.shape[0])],\n",
    "  values = sub_titanic_data.fare,\n",
    "  aggfunc = ['mean', 'median', 'std', 'count'])"
   ]
  },
  {
   "cell_type": "markdown",
   "id": "5bc49b44",
   "metadata": {},
   "source": [
    "---\n",
    "\n",
    "# Summaries Across Groups Using `.crosstab()`\n",
    "\n",
    "- Ex: Get summary for numeric type variables for each *survival status* and *embarked port*"
   ]
  },
  {
   "cell_type": "code",
   "execution_count": null,
   "id": "4caa92f7",
   "metadata": {
    "eval": true,
    "lines_to_next_cell": 2
   },
   "outputs": [],
   "source": [
    "pd.crosstab(\n",
    "  sub_titanic_data.embarkedC,\n",
    "  sub_titanic_data.survivedC, \n",
    "  values = sub_titanic_data.fare,\n",
    "  aggfunc = ['mean', 'count'])"
   ]
  },
  {
   "cell_type": "markdown",
   "id": "6fe7cadf",
   "metadata": {},
   "source": [
    "---\n",
    "\n",
    "# To JupyterLab!  \n",
    "\n",
    "- Read in some data\n",
    "\n",
    "- Find some numeric summaries!\n",
    "\n",
    "    + Check out `.pivot_table()` method and `.agg()` method\n",
    "    \n",
    "<!-- df.pivot_table('tip', 'time', 'day', aggfunc='count', margins=True)\n",
    "df.pivot_table('tip', ['sex', 'smoker'], ['time', 'day'], \n",
    "               aggfunc='median')\n",
    "               \n",
    "data[data['item'] == 'call'].groupby('month').agg(\n",
    "    # Get max of the duration column for each group\n",
    "    max_duration=('duration', max),\n",
    "    # Get min of the duration column for each group\n",
    "    min_duration=('duration', min),\n",
    "    # Get sum of the duration column for each group\n",
    "    total_duration=('duration', sum),\n",
    "    # Apply a lambda to date column\n",
    "    num_days=(\"date\", lambda x: (max(x) - min(x)).days)    \n",
    ")\n",
    "-->"
   ]
  },
  {
   "cell_type": "markdown",
   "id": "335562e9",
   "metadata": {},
   "source": [
    "---\n",
    "\n",
    "# Recap\n",
    "\n",
    "EDA is often the first step to an analysis:\n",
    "\n",
    "- Must understand the type of data you have/missingness/data validation\n",
    "- Then describe the distributions of the variables\n",
    "- Numerical summaries\n",
    "\n",
    "    + Contingency Tables: `pd.crosstab()`  \n",
    "    + Mean/Median: `.mean()`, `.median()` methods on a data frame\n",
    "    + Standard Deviation/quantiles: `.std()`, `.quantile()`  methods\n",
    "\n",
    "- Across subgroups with `.groupby()` method or `pd.crosstab(value, aggfunc)`\n",
    "\n",
    "- You can [fancy up output](https://pandas.pydata.org/pandas-docs/stable/user_guide/style.html) too!\n"
   ]
  }
 ],
 "metadata": {
  "jupytext": {
   "cell_metadata_filter": "out.width,warning,tags,eval,message,echo,fig.align,-all",
   "main_language": "python",
   "notebook_metadata_filter": "-all"
  }
 },
 "nbformat": 4,
 "nbformat_minor": 5
}
