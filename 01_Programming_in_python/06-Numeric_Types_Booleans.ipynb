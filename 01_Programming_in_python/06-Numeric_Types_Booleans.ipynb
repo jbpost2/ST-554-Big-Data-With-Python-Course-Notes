{
  "cells": [
    {
      "cell_type": "markdown",
      "id": "4e5ac077",
      "metadata": {
        "id": "4e5ac077"
      },
      "source": [
        "# Numeric Types (Int and Float) & Booleans\n",
        "\n",
        "> Justin Post\n",
        "\n",
        "---\n",
        "\n",
        "Next up, we look at two basic built-in data types: numeric types and booleans\n",
        "\n",
        "As with lists and strings, we'll go through and look at how to create them, common methods and functions, and look at some examples along the way.\n",
        "\n",
        "Once we're through this part, we're ready to start thinking about compound data types (other than lists) and how we might store and summarize data. For dealing wtih data, we'll look at two common python modules and their data types:\n",
        "\n",
        "+ NumPy arrays\n",
        "+ Pandas data frames"
      ]
    },
    {
      "cell_type": "markdown",
      "id": "6293a8cc",
      "metadata": {
        "id": "6293a8cc"
      },
      "source": [
        "---\n",
        "\n",
        "## Ints & Floats\n",
        "\n",
        "- (Real) Numbers stored as **int** or **float**\n",
        "    + Python generally figures out which to use"
      ]
    },
    {
      "cell_type": "code",
      "execution_count": null,
      "id": "2a356fb4",
      "metadata": {
        "lines_to_next_cell": 0,
        "id": "2a356fb4",
        "outputId": "795a8b66-dc9b-4f47-d2c8-3426bce38970",
        "colab": {
          "base_uri": "https://localhost:8080/"
        }
      },
      "outputs": [
        {
          "output_type": "execute_result",
          "data": {
            "text/plain": [
              "int"
            ]
          },
          "metadata": {},
          "execution_count": 2
        }
      ],
      "source": [
        "x = 10\n",
        "type(x)"
      ]
    },
    {
      "cell_type": "code",
      "source": [
        "y = 10.4\n",
        "type(y)"
      ],
      "metadata": {
        "id": "hq6-HEEoKAB_",
        "outputId": "4dfb37c7-3006-4755-8493-e65e59e5f5b7",
        "colab": {
          "base_uri": "https://localhost:8080/"
        }
      },
      "id": "hq6-HEEoKAB_",
      "execution_count": null,
      "outputs": [
        {
          "output_type": "execute_result",
          "data": {
            "text/plain": [
              "float"
            ]
          },
          "metadata": {},
          "execution_count": 4
        }
      ]
    },
    {
      "cell_type": "code",
      "source": [
        "z = y - 0.4\n",
        "print(z)\n",
        "type(z)"
      ],
      "metadata": {
        "id": "1eCN0v8iKCZf",
        "outputId": "a1d4becd-4f6b-48f2-fd77-abd731de4ba7",
        "colab": {
          "base_uri": "https://localhost:8080/"
        }
      },
      "id": "1eCN0v8iKCZf",
      "execution_count": null,
      "outputs": [
        {
          "output_type": "stream",
          "name": "stdout",
          "text": [
            "10.0\n"
          ]
        },
        {
          "output_type": "execute_result",
          "data": {
            "text/plain": [
              "float"
            ]
          },
          "metadata": {},
          "execution_count": 7
        }
      ]
    },
    {
      "cell_type": "markdown",
      "id": "3ab219f8",
      "metadata": {
        "lines_to_next_cell": 0,
        "id": "3ab219f8"
      },
      "source": [
        "- You can cast things (or explicitly coerce them) using `int()` and `float()`"
      ]
    },
    {
      "cell_type": "code",
      "execution_count": null,
      "id": "53ce0957",
      "metadata": {
        "lines_to_next_cell": 0,
        "id": "53ce0957",
        "outputId": "33d27e8c-fd93-432c-d0c4-d4654ba9da11",
        "colab": {
          "base_uri": "https://localhost:8080/"
        }
      },
      "outputs": [
        {
          "output_type": "stream",
          "name": "stdout",
          "text": [
            "<class 'int'>\n"
          ]
        },
        {
          "output_type": "execute_result",
          "data": {
            "text/plain": [
              "10"
            ]
          },
          "metadata": {},
          "execution_count": 12
        }
      ],
      "source": [
        "x = 10\n",
        "print(type(x))\n",
        "x"
      ]
    },
    {
      "cell_type": "code",
      "source": [
        "x = float(x)\n",
        "print(type(x))\n",
        "x"
      ],
      "metadata": {
        "id": "ECcwMCWPKPA_",
        "outputId": "8e5d3898-3877-4f11-ad1d-9d64a276a3e1",
        "colab": {
          "base_uri": "https://localhost:8080/"
        }
      },
      "id": "ECcwMCWPKPA_",
      "execution_count": null,
      "outputs": [
        {
          "output_type": "stream",
          "name": "stdout",
          "text": [
            "<class 'float'>\n"
          ]
        },
        {
          "output_type": "execute_result",
          "data": {
            "text/plain": [
              "10.0"
            ]
          },
          "metadata": {},
          "execution_count": 13
        }
      ]
    },
    {
      "cell_type": "code",
      "source": [
        "int(10.5)"
      ],
      "metadata": {
        "id": "RHK8Zhj3KQWv",
        "outputId": "2f8508a3-2585-4b8f-eec1-1be0ede1b97d",
        "colab": {
          "base_uri": "https://localhost:8080/"
        }
      },
      "id": "RHK8Zhj3KQWv",
      "execution_count": null,
      "outputs": [
        {
          "output_type": "execute_result",
          "data": {
            "text/plain": [
              "10"
            ]
          },
          "metadata": {},
          "execution_count": 14
        }
      ]
    },
    {
      "cell_type": "markdown",
      "id": "b3ff3cdb",
      "metadata": {
        "lines_to_next_cell": 0,
        "id": "b3ff3cdb"
      },
      "source": [
        "---\n",
        "\n",
        "## Functions & Operators\n",
        "\n",
        "- We have all the numeric operators discussed previously and a few handy functions built in"
      ]
    },
    {
      "cell_type": "code",
      "execution_count": null,
      "id": "b4fca427",
      "metadata": {
        "lines_to_next_cell": 0,
        "id": "b4fca427",
        "outputId": "fff2433a-66ab-4367-8ba9-637dd8d31eef",
        "colab": {
          "base_uri": "https://localhost:8080/"
        }
      },
      "outputs": [
        {
          "output_type": "execute_result",
          "data": {
            "text/plain": [
              "33"
            ]
          },
          "metadata": {},
          "execution_count": 16
        }
      ],
      "source": [
        "#floor\n",
        "100 // 3"
      ]
    },
    {
      "cell_type": "code",
      "execution_count": null,
      "id": "76ee966f",
      "metadata": {
        "lines_to_next_cell": 0,
        "id": "76ee966f",
        "outputId": "d7b6446a-82de-4d75-d6da-915662f82d4e",
        "colab": {
          "base_uri": "https://localhost:8080/"
        }
      },
      "outputs": [
        {
          "output_type": "execute_result",
          "data": {
            "text/plain": [
              "1"
            ]
          },
          "metadata": {},
          "execution_count": 17
        }
      ],
      "source": [
        "#modulus\n",
        "100 % 3"
      ]
    },
    {
      "cell_type": "code",
      "execution_count": null,
      "id": "f20b90cb",
      "metadata": {
        "lines_to_next_cell": 0,
        "id": "f20b90cb",
        "outputId": "55bdf3ce-6b77-4ef6-ef9e-5df92b233377",
        "colab": {
          "base_uri": "https://localhost:8080/"
        }
      },
      "outputs": [
        {
          "output_type": "execute_result",
          "data": {
            "text/plain": [
              "(33, 1)"
            ]
          },
          "metadata": {},
          "execution_count": 19
        }
      ],
      "source": [
        "#floor and modulus\n",
        "divmod(100, 3) #returns a 'tuple' (a sort of immutable list)"
      ]
    },
    {
      "cell_type": "code",
      "execution_count": null,
      "id": "e4463862",
      "metadata": {
        "lines_to_next_cell": 0,
        "id": "e4463862",
        "outputId": "f62ab5a0-f410-4fd0-d136-2a5fc0d7b9b3",
        "colab": {
          "base_uri": "https://localhost:8080/"
        }
      },
      "outputs": [
        {
          "output_type": "execute_result",
          "data": {
            "text/plain": [
              "64"
            ]
          },
          "metadata": {},
          "execution_count": 20
        }
      ],
      "source": [
        "#raise to a power 4^3\n",
        "pow(4, 3)"
      ]
    },
    {
      "cell_type": "code",
      "execution_count": null,
      "id": "cbbd4d5c",
      "metadata": {
        "lines_to_next_cell": 0,
        "id": "cbbd4d5c",
        "outputId": "4e29ee56-e113-46fb-eda6-2271e0944d99",
        "colab": {
          "base_uri": "https://localhost:8080/"
        }
      },
      "outputs": [
        {
          "output_type": "execute_result",
          "data": {
            "text/plain": [
              "64"
            ]
          },
          "metadata": {},
          "execution_count": 21
        }
      ],
      "source": [
        "#equivalent to\n",
        "4 ** 3"
      ]
    },
    {
      "cell_type": "code",
      "source": [
        "abs(-100)"
      ],
      "metadata": {
        "id": "f3u60SczKnP2",
        "outputId": "05f0b809-26eb-4a2b-f1d9-eb091aa60249",
        "colab": {
          "base_uri": "https://localhost:8080/"
        }
      },
      "id": "f3u60SczKnP2",
      "execution_count": null,
      "outputs": [
        {
          "output_type": "execute_result",
          "data": {
            "text/plain": [
              "100"
            ]
          },
          "metadata": {},
          "execution_count": 22
        }
      ]
    },
    {
      "cell_type": "code",
      "source": [
        "round(10.4242, 2)"
      ],
      "metadata": {
        "id": "wbJb0n14KobO",
        "outputId": "ed6c479b-e68d-4235-bb34-a23d0dae34f9",
        "colab": {
          "base_uri": "https://localhost:8080/"
        }
      },
      "id": "wbJb0n14KobO",
      "execution_count": null,
      "outputs": [
        {
          "output_type": "execute_result",
          "data": {
            "text/plain": [
              "10.42"
            ]
          },
          "metadata": {},
          "execution_count": 23
        }
      ]
    },
    {
      "cell_type": "markdown",
      "id": "fb6980b9",
      "metadata": {
        "id": "fb6980b9"
      },
      "source": [
        "### `math` module\n",
        "\n",
        "- `math` module has a number of useful functions\n",
        "- Recall we can import the math module to gain access to its functions. We then preface functions/objects from the module with `math.`"
      ]
    },
    {
      "cell_type": "code",
      "execution_count": null,
      "id": "a86d2705",
      "metadata": {
        "lines_to_next_cell": 2,
        "id": "a86d2705",
        "outputId": "9b0ee36d-ef52-4560-f1be-fe8c27fbc40b",
        "colab": {
          "base_uri": "https://localhost:8080/"
        }
      },
      "outputs": [
        {
          "output_type": "execute_result",
          "data": {
            "text/plain": [
              "False"
            ]
          },
          "metadata": {},
          "execution_count": 24
        }
      ],
      "source": [
        "x = 10.55\n",
        "#a boolean function (more on this shortly)\n",
        "x.is_integer()"
      ]
    },
    {
      "cell_type": "code",
      "source": [
        "import math\n",
        "math.floor(x)"
      ],
      "metadata": {
        "id": "E1JOt2HPK9oV",
        "outputId": "0b8acb7d-13b9-4c10-e9e5-2e56a7a56c39",
        "colab": {
          "base_uri": "https://localhost:8080/"
        }
      },
      "id": "E1JOt2HPK9oV",
      "execution_count": null,
      "outputs": [
        {
          "output_type": "execute_result",
          "data": {
            "text/plain": [
              "10"
            ]
          },
          "metadata": {},
          "execution_count": 25
        }
      ]
    },
    {
      "cell_type": "code",
      "source": [
        "math.ceil(x)"
      ],
      "metadata": {
        "id": "Rw7t8geTK-_k",
        "outputId": "1260583a-2a93-4a1a-c783-5a9b2f39a4f1",
        "colab": {
          "base_uri": "https://localhost:8080/"
        }
      },
      "id": "Rw7t8geTK-_k",
      "execution_count": null,
      "outputs": [
        {
          "output_type": "execute_result",
          "data": {
            "text/plain": [
              "11"
            ]
          },
          "metadata": {},
          "execution_count": 26
        }
      ]
    },
    {
      "cell_type": "code",
      "source": [
        "math.factorial(10)"
      ],
      "metadata": {
        "id": "hR9S6UmQLAKV",
        "outputId": "252bbdb3-23c0-40cc-d876-fe1b80f33909",
        "colab": {
          "base_uri": "https://localhost:8080/"
        }
      },
      "id": "hR9S6UmQLAKV",
      "execution_count": null,
      "outputs": [
        {
          "output_type": "execute_result",
          "data": {
            "text/plain": [
              "3628800"
            ]
          },
          "metadata": {},
          "execution_count": 27
        }
      ]
    },
    {
      "cell_type": "markdown",
      "id": "4f10930b",
      "metadata": {
        "id": "4f10930b"
      },
      "source": [
        "---\n",
        "\n",
        "## Things To Be Aware Of\n",
        "\n",
        "Floats are not stored precisely!"
      ]
    },
    {
      "cell_type": "code",
      "execution_count": null,
      "id": "876c0a67",
      "metadata": {
        "id": "876c0a67",
        "outputId": "b18b396b-3f8b-4656-f2a0-ccf0a65097c4",
        "colab": {
          "base_uri": "https://localhost:8080/"
        }
      },
      "outputs": [
        {
          "output_type": "execute_result",
          "data": {
            "text/plain": [
              "0.19999999999999996"
            ]
          },
          "metadata": {},
          "execution_count": 28
        }
      ],
      "source": [
        "1.2-1.0"
      ]
    },
    {
      "cell_type": "markdown",
      "id": "23f72f43",
      "metadata": {
        "id": "23f72f43"
      },
      "source": [
        "- Comes from binary representation of floats\n",
        "\n",
        "- Not worth getting into, but if you see something weird like this, that is why!\n",
        "\n",
        "- [More info here](https://www.geeksforgeeks.org/floating-point-error-in-python/)\n"
      ]
    },
    {
      "cell_type": "markdown",
      "id": "0f49370f",
      "metadata": {
        "lines_to_next_cell": 0,
        "id": "0f49370f"
      },
      "source": [
        "---\n",
        "\n",
        "## Things to Note/Remember\n",
        "\n",
        "- Augmented assignment operators"
      ]
    },
    {
      "cell_type": "code",
      "execution_count": null,
      "id": "5b6ab90c",
      "metadata": {
        "lines_to_next_cell": 0,
        "id": "5b6ab90c",
        "outputId": "d58c498a-8735-4971-d850-ba1572bc9239",
        "colab": {
          "base_uri": "https://localhost:8080/"
        }
      },
      "outputs": [
        {
          "output_type": "execute_result",
          "data": {
            "text/plain": [
              "300"
            ]
          },
          "metadata": {},
          "execution_count": 29
        }
      ],
      "source": [
        "x = 100\n",
        "x += 200\n",
        "x"
      ]
    },
    {
      "cell_type": "markdown",
      "id": "0c9dd070",
      "metadata": {
        "lines_to_next_cell": 0,
        "id": "0c9dd070"
      },
      "source": [
        "- Multiple assignment"
      ]
    },
    {
      "cell_type": "code",
      "execution_count": null,
      "id": "6d854bd0",
      "metadata": {
        "lines_to_next_cell": 0,
        "id": "6d854bd0",
        "outputId": "adc0283f-232b-460f-e052-0eaca02af633",
        "colab": {
          "base_uri": "https://localhost:8080/"
        }
      },
      "outputs": [
        {
          "output_type": "stream",
          "name": "stdout",
          "text": [
            "40 40\n"
          ]
        }
      ],
      "source": [
        "x = y = z = 40\n",
        "print(x, y)"
      ]
    },
    {
      "cell_type": "code",
      "source": [
        "x, y, z = 40, 50, 60\n",
        "print(x, y)"
      ],
      "metadata": {
        "id": "yz86aZnLLQyM",
        "outputId": "cc079e1f-213d-4526-895e-7055a9a9c78c",
        "colab": {
          "base_uri": "https://localhost:8080/"
        }
      },
      "id": "yz86aZnLLQyM",
      "execution_count": null,
      "outputs": [
        {
          "output_type": "stream",
          "name": "stdout",
          "text": [
            "40 50\n"
          ]
        }
      ]
    },
    {
      "cell_type": "markdown",
      "id": "e961b769",
      "metadata": {
        "id": "e961b769"
      },
      "source": [
        "---\n",
        "\n",
        "## More Formatting Strings\n",
        "\n",
        "- Can format strings with numbers inserted as well"
      ]
    },
    {
      "cell_type": "code",
      "execution_count": null,
      "id": "4a3b709b",
      "metadata": {
        "lines_to_next_cell": 2,
        "id": "4a3b709b"
      },
      "outputs": [],
      "source": [
        "Job = \"Professor\"\n",
        "Years = 10.23\n",
        "\"I am a {job} and I've been teaching for {years:d} years\".format(job = Job, years = int(Years))\n",
        "\"I am a {job} and I've been teaching for {years:f} years\".format(job = Job, years = Years)\n",
        "\"I am a {job} and I've been teaching for {years:.1f} years\".format(job = Job, years = Years)"
      ]
    },
    {
      "cell_type": "markdown",
      "id": "f55cb362",
      "metadata": {
        "id": "f55cb362"
      },
      "source": [
        "--\n",
        "\n",
        "  - d - Integers\n",
        "  - f - Floating point numbers\n",
        "  - .<number of digits>f - Floating point numbers with a fixed amount of digits to the right of the dot.\n",
        "\n",
        "Actually [four different ways](https://realpython.com/python-string-formatting/) to substitute into a string (if you are interested!)"
      ]
    },
    {
      "cell_type": "markdown",
      "id": "c54e58dc",
      "metadata": {
        "id": "c54e58dc"
      },
      "source": [
        "---\n",
        "\n",
        "# Booleans\n",
        "\n",
        "- A `bool` is a `True` or `False` value (note the case of these two special terms)"
      ]
    },
    {
      "cell_type": "code",
      "execution_count": null,
      "id": "d7622a17",
      "metadata": {
        "lines_to_next_cell": 0,
        "id": "d7622a17",
        "outputId": "d1d0a77c-1007-46b7-98ae-35bf5a935391",
        "colab": {
          "base_uri": "https://localhost:8080/"
        }
      },
      "outputs": [
        {
          "output_type": "execute_result",
          "data": {
            "text/plain": [
              "bool"
            ]
          },
          "metadata": {},
          "execution_count": 32
        }
      ],
      "source": [
        "x = True\n",
        "type(x)"
      ]
    },
    {
      "cell_type": "code",
      "source": [
        "y = 10.1\n",
        "#the .is_integer() method returns a boolean\n",
        "y.is_integer()"
      ],
      "metadata": {
        "id": "VpvfsyIfLYZs",
        "outputId": "e2910299-e466-4d8d-faf5-bb080889eb95",
        "colab": {
          "base_uri": "https://localhost:8080/"
        }
      },
      "id": "VpvfsyIfLYZs",
      "execution_count": null,
      "outputs": [
        {
          "output_type": "execute_result",
          "data": {
            "text/plain": [
              "False"
            ]
          },
          "metadata": {},
          "execution_count": 33
        }
      ]
    },
    {
      "cell_type": "code",
      "source": [
        "#for strings (and other objects we'll see) in and not in are useful operators that return a boolean\n",
        "\"an\" in \"banana\""
      ],
      "metadata": {
        "id": "HxSaod4zLfKs",
        "outputId": "d5f55fa9-7bea-4e5a-b927-64a738d03f19",
        "colab": {
          "base_uri": "https://localhost:8080/"
        }
      },
      "id": "HxSaod4zLfKs",
      "execution_count": null,
      "outputs": [
        {
          "output_type": "execute_result",
          "data": {
            "text/plain": [
              "True"
            ]
          },
          "metadata": {},
          "execution_count": 35
        }
      ]
    },
    {
      "cell_type": "code",
      "source": [
        "\"pa\" not in \"panama\""
      ],
      "metadata": {
        "id": "f-iZsJODLo4j",
        "outputId": "504e72dc-22c8-4dab-b37a-fbb49c604df6",
        "colab": {
          "base_uri": "https://localhost:8080/"
        }
      },
      "id": "f-iZsJODLo4j",
      "execution_count": null,
      "outputs": [
        {
          "output_type": "execute_result",
          "data": {
            "text/plain": [
              "False"
            ]
          },
          "metadata": {},
          "execution_count": 36
        }
      ]
    },
    {
      "cell_type": "code",
      "source": [
        "#isInstance is a useful function to determine if an object is a certain type\n",
        "isinstance(10.4, float)"
      ],
      "metadata": {
        "id": "EQHIq5pyMVkC",
        "outputId": "0e1c1024-047d-4f72-ab87-8ef20b8e3d21",
        "colab": {
          "base_uri": "https://localhost:8080/"
        }
      },
      "id": "EQHIq5pyMVkC",
      "execution_count": null,
      "outputs": [
        {
          "output_type": "execute_result",
          "data": {
            "text/plain": [
              "True"
            ]
          },
          "metadata": {},
          "execution_count": 47
        }
      ]
    },
    {
      "cell_type": "markdown",
      "id": "38a0f77d",
      "metadata": {
        "lines_to_next_cell": 0,
        "id": "38a0f77d"
      },
      "source": [
        "- Booleans are very useful for control flow operators like `if/then/else` and `looping` (covered soon!)\n",
        "- You can `bool()` anything to get a `True` or `False`\n",
        "    + Any list, tuple, set, and dictionary are `True` except empty ones\n"
      ]
    },
    {
      "cell_type": "code",
      "execution_count": null,
      "id": "149e44b9",
      "metadata": {
        "lines_to_next_cell": 0,
        "id": "149e44b9",
        "outputId": "661f0bce-3f75-49b6-af6b-d58d54c79dfa",
        "colab": {
          "base_uri": "https://localhost:8080/"
        }
      },
      "outputs": [
        {
          "output_type": "execute_result",
          "data": {
            "text/plain": [
              "True"
            ]
          },
          "metadata": {},
          "execution_count": 37
        }
      ],
      "source": [
        "bool(\"string\")"
      ]
    },
    {
      "cell_type": "code",
      "source": [
        "bool(\"\")"
      ],
      "metadata": {
        "id": "JUjeYUqBLzpj",
        "outputId": "b74f0165-5a2b-429e-93fc-af9cd8a9bd68",
        "colab": {
          "base_uri": "https://localhost:8080/"
        }
      },
      "id": "JUjeYUqBLzpj",
      "execution_count": null,
      "outputs": [
        {
          "output_type": "execute_result",
          "data": {
            "text/plain": [
              "False"
            ]
          },
          "metadata": {},
          "execution_count": 38
        }
      ]
    },
    {
      "cell_type": "code",
      "source": [
        "bool(10)"
      ],
      "metadata": {
        "id": "gMf26MsdL0az",
        "outputId": "d051dd2c-e9be-4dea-beda-cc07535f71ea",
        "colab": {
          "base_uri": "https://localhost:8080/"
        }
      },
      "id": "gMf26MsdL0az",
      "execution_count": null,
      "outputs": [
        {
          "output_type": "execute_result",
          "data": {
            "text/plain": [
              "True"
            ]
          },
          "metadata": {},
          "execution_count": 39
        }
      ]
    },
    {
      "cell_type": "code",
      "source": [
        "bool(0)"
      ],
      "metadata": {
        "id": "YAT5nvIHL1Sz",
        "outputId": "8a82c177-c814-462c-c20b-0e6509f32dd7",
        "colab": {
          "base_uri": "https://localhost:8080/"
        }
      },
      "id": "YAT5nvIHL1Sz",
      "execution_count": null,
      "outputs": [
        {
          "output_type": "execute_result",
          "data": {
            "text/plain": [
              "False"
            ]
          },
          "metadata": {},
          "execution_count": 40
        }
      ]
    },
    {
      "cell_type": "code",
      "execution_count": null,
      "id": "18e38120",
      "metadata": {
        "lines_to_next_cell": 0,
        "id": "18e38120",
        "outputId": "090ad6d2-c69c-4c3c-fe50-e02b25b870f7",
        "colab": {
          "base_uri": "https://localhost:8080/"
        }
      },
      "outputs": [
        {
          "output_type": "execute_result",
          "data": {
            "text/plain": [
              "False"
            ]
          },
          "metadata": {},
          "execution_count": 41
        }
      ],
      "source": [
        "#None is keyword to define a null value in python\n",
        "bool(None)"
      ]
    },
    {
      "cell_type": "code",
      "source": [
        "#not can be used to negate something and make it True\n",
        "bool(not None)"
      ],
      "metadata": {
        "id": "-wRl0kdpL377",
        "outputId": "717bdec9-ce4f-4e11-d63f-ea85102fa81f",
        "colab": {
          "base_uri": "https://localhost:8080/"
        }
      },
      "id": "-wRl0kdpL377",
      "execution_count": null,
      "outputs": [
        {
          "output_type": "execute_result",
          "data": {
            "text/plain": [
              "True"
            ]
          },
          "metadata": {},
          "execution_count": 44
        }
      ]
    },
    {
      "cell_type": "code",
      "source": [
        "bool(not 10)"
      ],
      "metadata": {
        "id": "q9MkvrkVMH1S",
        "outputId": "c9313f15-7e0b-4dd1-da57-dc0409a64374",
        "colab": {
          "base_uri": "https://localhost:8080/"
        }
      },
      "id": "q9MkvrkVMH1S",
      "execution_count": null,
      "outputs": [
        {
          "output_type": "execute_result",
          "data": {
            "text/plain": [
              "False"
            ]
          },
          "metadata": {},
          "execution_count": 45
        }
      ]
    },
    {
      "cell_type": "markdown",
      "id": "4e228770",
      "metadata": {
        "id": "4e228770"
      },
      "source": [
        "---\n",
        "\n",
        "## Boolean/Integer Relationship\n",
        "\n",
        "- Booleans are a subtype of integers\n",
        "    + `True` treated as 1\n",
        "    + `False` treated as 0"
      ]
    },
    {
      "cell_type": "code",
      "execution_count": null,
      "id": "dd603a95",
      "metadata": {
        "id": "dd603a95",
        "outputId": "c5ec3ce4-5340-4bb8-dbff-2b3e355b9a09",
        "colab": {
          "base_uri": "https://localhost:8080/"
        }
      },
      "outputs": [
        {
          "output_type": "stream",
          "name": "stdout",
          "text": [
            "4 0\n"
          ]
        }
      ],
      "source": [
        "print(3 + True, 3 * False)"
      ]
    },
    {
      "cell_type": "code",
      "execution_count": null,
      "id": "76b8d38f",
      "metadata": {
        "lines_to_next_cell": 2,
        "id": "76b8d38f",
        "outputId": "f8a67073-1266-4799-dac6-9892ab6fec4e",
        "colab": {
          "base_uri": "https://localhost:8080/"
        }
      },
      "outputs": [
        {
          "output_type": "stream",
          "name": "stdout",
          "text": [
            "True False 1\n"
          ]
        }
      ],
      "source": [
        "#main thing that differs is when coercing to a string\n",
        "print(str(True), str(False), str(True + 0))"
      ]
    },
    {
      "cell_type": "markdown",
      "id": "303c2217",
      "metadata": {
        "id": "303c2217"
      },
      "source": [
        "---\n",
        "\n",
        "## Video Demo\n",
        "\n",
        "This quick video shows some useful functions from the `.math` module for dealing with integers, floats, and booleans."
      ]
    },
    {
      "cell_type": "code",
      "source": [
        "from IPython.display import IFrame\n",
        "IFrame(src=\"https://ncsu.hosted.panopto.com/Panopto/Pages/Embed.aspx?id=d59f4288-1a98-446e-a82f-b0f0013e8445&autoplay=false&offerviewer=true&showtitle=true&showbrand=true&captions=false&interactivity=all\", height=\"405\", width=\"720\")"
      ],
      "metadata": {
        "id": "BSz0SBQFaA0E",
        "outputId": "cc4b78ba-217c-46fc-d9c3-b811b7b08325",
        "colab": {
          "base_uri": "https://localhost:8080/",
          "height": 426
        }
      },
      "id": "BSz0SBQFaA0E",
      "execution_count": 2,
      "outputs": [
        {
          "output_type": "execute_result",
          "data": {
            "text/plain": [
              "<IPython.lib.display.IFrame at 0x7b92753f1360>"
            ],
            "text/html": [
              "\n",
              "        <iframe\n",
              "            width=\"720\"\n",
              "            height=\"405\"\n",
              "            src=\"https://ncsu.hosted.panopto.com/Panopto/Pages/Embed.aspx?id=d59f4288-1a98-446e-a82f-b0f0013e8445&autoplay=false&offerviewer=true&showtitle=true&showbrand=true&captions=false&interactivity=all\"\n",
              "            frameborder=\"0\"\n",
              "            allowfullscreen\n",
              "            \n",
              "        ></iframe>\n",
              "        "
            ]
          },
          "metadata": {},
          "execution_count": 2
        }
      ]
    },
    {
      "cell_type": "markdown",
      "source": [
        "---\n",
        "\n",
        "# Recap\n",
        "\n",
        "- Numbers stored as ints or floats\n",
        "\n",
        "    + standard operations all available\n",
        "    + math module has more functionality\n",
        "    \n",
        "- Booleans are `True` or `False`\n",
        "\n",
        "    + Can be treated as 1 and 0\n",
        "    + Many functions to create bools (`.is_*()` methods, `bool()` function)"
      ],
      "metadata": {
        "id": "mO_0oiAlNIPv"
      },
      "id": "mO_0oiAlNIPv"
    }
  ],
  "metadata": {
    "jupytext": {
      "cell_metadata_filter": "message,tags,warning,-all",
      "main_language": "python",
      "notebook_metadata_filter": "-all"
    },
    "colab": {
      "provenance": []
    },
    "language_info": {
      "name": "python"
    },
    "kernelspec": {
      "name": "python3",
      "display_name": "Python 3"
    }
  },
  "nbformat": 4,
  "nbformat_minor": 5
}