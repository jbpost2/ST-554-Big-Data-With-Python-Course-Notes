{
  "cells": [
    {
      "cell_type": "markdown",
      "metadata": {
        "id": "view-in-github",
        "colab_type": "text"
      },
      "source": [
        "<a href=\"https://colab.research.google.com/github/jbpost2/ST-554-Big-Data-With-Python-Course-Notes/blob/main/01_Programming_in_python/18_More_Function_Writing.ipynb\" target=\"_parent\"><img src=\"https://colab.research.google.com/assets/colab-badge.svg\" alt=\"Open In Colab\"/></a>"
      ]
    },
    {
      "cell_type": "markdown",
      "id": "8a3b9d2a",
      "metadata": {
        "id": "8a3b9d2a"
      },
      "source": [
        "# More on Writing Functions\n",
        "\n",
        "Justin Post\n"
      ]
    },
    {
      "cell_type": "markdown",
      "id": "778d0c64",
      "metadata": {
        "id": "778d0c64"
      },
      "source": [
        "---\n",
        "\n",
        "## Programming in Python\n",
        "\n",
        "We've gone through a lot with python already!\n",
        "\n",
        "- `JupyterLab` & Markdown\n",
        "- Basic data types\n",
        "    + Strings, Floats, Ints, Booleans\n",
        "- Compound data types\n",
        "    + Lists, Tuples, Dictionaries, `Numpy` arrays, `pandas` series & data frames\n",
        "- Writing Functions\n",
        "- Control flow (if/then/else, Looping)\n",
        "- Data uses and basic summarizations\n",
        "\n",
        "Next up we'll cover a bit more about writing our own functions that will greatly increase their usefulness! Then we'll talk about how to plot our data using `matplotlib` and `pandas`.\n",
        "\n",
        "Then we'll really be ready to start talking about modeling, data sources, and generally moving towards doing fun things with big data!"
      ]
    },
    {
      "cell_type": "markdown",
      "id": "6bf14c7f",
      "metadata": {
        "id": "6bf14c7f"
      },
      "source": [
        "---\n",
        "\n",
        "## Writing Functions Recap\n",
        "\n",
        "- Writing functions is super cool!\n",
        "- Recall the basic syntax"
      ]
    },
    {
      "cell_type": "code",
      "execution_count": null,
      "id": "16750093",
      "metadata": {
        "eval": false,
        "id": "16750093"
      },
      "outputs": [],
      "source": [
        "def func_name(args):\n",
        "    \"\"\"\n",
        "    Doc string\n",
        "    \"\"\"\n",
        "    body\n",
        "    return object"
      ]
    },
    {
      "cell_type": "markdown",
      "id": "0d983e89",
      "metadata": {
        "id": "0d983e89"
      },
      "source": [
        "- We saw that there were many ways to set up your function arguments and to call your function\n",
        "- Remember that variables defined within the function are not generally available outside of the function\n",
        "  + That is, a new *symbol table* is used when the function is called\n",
        "  + We can define global variables if we really want to\n",
        "- We return what we want from the function with `return`\n",
        "  + If we don't return anything then `None` is returned!\n",
        "\n",
        "The topics we'll cover in this notebook are:\n",
        "- Packing and unpacking with functions\n",
        "  + Catching extra arguments given to a function\n",
        "  + Passing your arguments to a function from an object\n",
        "- **lambda** functions\n",
        "- `map()`, `filter()`, and `functools.reduce()`\n",
        "\n",
        "In a later notebook we'll talk about how to handle errors or exceptions!"
      ]
    },
    {
      "cell_type": "markdown",
      "id": "f8c0d9b9",
      "metadata": {
        "id": "f8c0d9b9"
      },
      "source": [
        "---\n",
        "\n",
        "## Packing and Unpacking\n",
        "\n",
        "Reminder: We can **pack** a list by separating variables to create with commas:\n",
        "\n",
        "`first, second, third = ...`\n",
        "\n",
        "Let's look at an example:"
      ]
    },
    {
      "cell_type": "code",
      "execution_count": 2,
      "id": "d16dbf76",
      "metadata": {
        "id": "d16dbf76",
        "outputId": "8f275313-7dac-4f6a-ae67-2b204493d079",
        "colab": {
          "base_uri": "https://localhost:8080/"
        }
      },
      "outputs": [
        {
          "output_type": "stream",
          "name": "stdout",
          "text": [
            "Dog Cat Horse\n"
          ]
        }
      ],
      "source": [
        "animals = [\"Dog\", \"Cat\", \"Horse\", \"Frog\", \"Cow\", \"Buffalo\", \"Deer\", \"Fish\", \"Bird\", \"Fox\", \"Racoon\"]\n",
        "short_animals = animals[:3]\n",
        "\n",
        "first, second, third = short_animals\n",
        "print(first + \" \" + second + \" \" + third)"
      ]
    },
    {
      "cell_type": "markdown",
      "id": "3141e443",
      "metadata": {
        "id": "3141e443"
      },
      "source": [
        "We saw that we can pack leftover elements into a list using `*variable`:"
      ]
    },
    {
      "cell_type": "code",
      "execution_count": 3,
      "id": "abb19639",
      "metadata": {
        "lines_to_next_cell": 2,
        "id": "abb19639",
        "outputId": "afc45503-a466-4750-b85b-1304b8e1247f",
        "colab": {
          "base_uri": "https://localhost:8080/"
        }
      },
      "outputs": [
        {
          "output_type": "stream",
          "name": "stdout",
          "text": [
            "Dog Cat Horse\n",
            "['Frog', 'Cow', 'Buffalo', 'Deer', 'Fish', 'Bird', 'Fox', 'Racoon']\n"
          ]
        }
      ],
      "source": [
        "first, second, third, *other = animals\n",
        "print(first + \" \" + second + \" \" + third)\n",
        "print(other)"
      ]
    },
    {
      "cell_type": "markdown",
      "id": "e5793532",
      "metadata": {
        "id": "e5793532"
      },
      "source": [
        "---\n",
        "\n",
        "### Unlimited Positional Arguments\n",
        "\n",
        "- This idea can be used when writing a function!\n",
        "- In this case we define an argument to our function with `*variable`\n",
        "- This allows us to pass unlimited **positional** arguments to our function ([variadic](https://docs.python.org/3/tutorial/controlflow.html#defining-functions) arguments)\n",
        "- The inputs are handled as a `tuple` in the function!\n",
        "\n",
        "Let's write a silly function to print out all arguments passed via this idea"
      ]
    },
    {
      "cell_type": "code",
      "source": [
        "def basic_print(*args):\n",
        "  print(type(args))\n",
        "  print(args)\n",
        "  return None"
      ],
      "metadata": {
        "id": "1VVUr_6SQlqd"
      },
      "id": "1VVUr_6SQlqd",
      "execution_count": 12,
      "outputs": []
    },
    {
      "cell_type": "markdown",
      "source": [
        "We can pass this function as many things as we'd like and it will be accessible within the function body as a tuple. We can see this as the printed values are surrounded by `(...)`, which implies we are printing a tuple!"
      ],
      "metadata": {
        "id": "Zh8GnzCYQ4oX"
      },
      "id": "Zh8GnzCYQ4oX"
    },
    {
      "cell_type": "code",
      "source": [
        "basic_print(\"hi\", [\"a list\", \"how fun\"], 3, 10)"
      ],
      "metadata": {
        "id": "Piiek6DgQrmp",
        "outputId": "69d54c83-8996-46ed-aa71-da31101eed1f",
        "colab": {
          "base_uri": "https://localhost:8080/"
        }
      },
      "id": "Piiek6DgQrmp",
      "execution_count": 13,
      "outputs": [
        {
          "output_type": "stream",
          "name": "stdout",
          "text": [
            "<class 'tuple'>\n",
            "('hi', ['a list', 'how fun'], 3, 10)\n"
          ]
        }
      ]
    },
    {
      "cell_type": "markdown",
      "source": [
        "As tuples are iterable, we can iterate across these elements via a loop!"
      ],
      "metadata": {
        "id": "E4wTxjRJRO74"
      },
      "id": "E4wTxjRJRO74"
    },
    {
      "cell_type": "code",
      "source": [
        "def basic_print_elements(*args):\n",
        "  for i in args:\n",
        "    print(type(i),i)\n",
        "  return None"
      ],
      "metadata": {
        "id": "wL4T6rbrRTCA"
      },
      "id": "wL4T6rbrRTCA",
      "execution_count": 16,
      "outputs": []
    },
    {
      "cell_type": "code",
      "source": [
        "basic_print_elements(\"hi\", [\"a list\", \"how fun\"], 3, 10)"
      ],
      "metadata": {
        "id": "ejkVXPs8RY6D",
        "outputId": "bfc948e5-7d4e-4ef9-c2bd-533eb500d4f5",
        "colab": {
          "base_uri": "https://localhost:8080/"
        }
      },
      "id": "ejkVXPs8RY6D",
      "execution_count": 17,
      "outputs": [
        {
          "output_type": "stream",
          "name": "stdout",
          "text": [
            "<class 'str'> hi\n",
            "<class 'list'> ['a list', 'how fun']\n",
            "<class 'int'> 3\n",
            "<class 'int'> 10\n"
          ]
        }
      ]
    },
    {
      "cell_type": "markdown",
      "source": [
        "Let's define a function that takes in as many 1D numpy arrays or pandas series the user would like and returns the means for each input.\n",
        "\n",
        "We'll also take an argument for the number of decimal places to return for the means."
      ],
      "metadata": {
        "id": "Iia6sCPtSqzm"
      },
      "id": "Iia6sCPtSqzm"
    },
    {
      "cell_type": "code",
      "execution_count": 18,
      "id": "247583c9",
      "metadata": {
        "lines_to_next_cell": 2,
        "id": "247583c9"
      },
      "outputs": [],
      "source": [
        "def find_means(*args, decimals = 4):\n",
        "    \"\"\"\n",
        "    Assume that args will be a bunch of numpy arrays (1D) or pandas series\n",
        "    Return the mean of each, rounded to `decimals` places\n",
        "    \"\"\"\n",
        "    means = []\n",
        "    for x in args: #iterate over the tuple values\n",
        "        means.append(np.mean(x).round(decimals))\n",
        "    return means"
      ]
    },
    {
      "cell_type": "markdown",
      "id": "e81ce6a3",
      "metadata": {
        "id": "e81ce6a3"
      },
      "source": [
        "- Create some data with `numpy` to send to this"
      ]
    },
    {
      "cell_type": "code",
      "execution_count": 19,
      "id": "d306fb06",
      "metadata": {
        "lines_to_next_cell": 2,
        "id": "d306fb06"
      },
      "outputs": [],
      "source": [
        "import numpy as np\n",
        "from numpy.random import default_rng\n",
        "rng = default_rng(3) #set seed to 3\n",
        "\n",
        "#generate a few means from standard normal data\n",
        "n5 = rng.standard_normal(5)       #sample size of 5\n",
        "n25 = rng.standard_normal(25)     #sample size of 25\n",
        "n100 = rng.standard_normal(100)   #sample size of 100\n",
        "n1000 = rng.standard_normal(1000) #sample size of 1000"
      ]
    },
    {
      "cell_type": "markdown",
      "source": [
        "Let's pass these to our function!"
      ],
      "metadata": {
        "id": "mDiBIMA1Ti0p"
      },
      "id": "mDiBIMA1Ti0p"
    },
    {
      "cell_type": "code",
      "execution_count": 20,
      "id": "fd7025f6",
      "metadata": {
        "lines_to_next_cell": 2,
        "id": "fd7025f6",
        "outputId": "be24e603-eb61-4ad9-b41f-816fca40a228",
        "colab": {
          "base_uri": "https://localhost:8080/"
        }
      },
      "outputs": [
        {
          "output_type": "execute_result",
          "data": {
            "text/plain": [
              "[-0.22, 0.11, -0.01, 0.04]"
            ]
          },
          "metadata": {},
          "execution_count": 20
        }
      ],
      "source": [
        "find_means(n5, n25, n100, n1000, decimals = 2)"
      ]
    },
    {
      "cell_type": "markdown",
      "source": [
        "Awesome! This gives us a lot more functionality with our function writing."
      ],
      "metadata": {
        "id": "tOxNtB49T4jI"
      },
      "id": "tOxNtB49T4jI"
    },
    {
      "cell_type": "markdown",
      "id": "91cf54e9",
      "metadata": {
        "id": "91cf54e9"
      },
      "source": [
        "---\n",
        "\n",
        "### Unlimited Keyword Arguments\n",
        "\n",
        "- You can also pass unlimited **keyword** arguments if you define the arg with a `**`\n",
        "- Handled as a **dictionary** in the function\n",
        "\n",
        "Let's write a basic function to print out the keywords with their values."
      ]
    },
    {
      "cell_type": "code",
      "execution_count": 27,
      "id": "42f2feed",
      "metadata": {
        "lines_to_next_cell": 2,
        "id": "42f2feed"
      },
      "outputs": [],
      "source": [
        "def print_key_value_pairs(**kwargs):\n",
        "    \"\"\"\n",
        "    key word args can be anything\n",
        "    \"\"\"\n",
        "    print(type(kwargs), kwargs)\n",
        "    for x in kwargs:\n",
        "        print(x + \" : \" + str(kwargs.get(x))) #cast the value to a string for printing"
      ]
    },
    {
      "cell_type": "markdown",
      "source": [
        "Now we pass as many named arguments as we'd like!"
      ],
      "metadata": {
        "id": "lF26NogYUhdE"
      },
      "id": "lF26NogYUhdE"
    },
    {
      "cell_type": "code",
      "source": [
        "print_key_value_pairs(\n",
        "  name = \"Justin\",\n",
        "  job = \"Professor\",\n",
        "  phone = 9195150637)"
      ],
      "metadata": {
        "id": "lYnAeNzvUSS-",
        "outputId": "286e5edd-a733-4e25-bc77-10e98bba99a2",
        "colab": {
          "base_uri": "https://localhost:8080/"
        }
      },
      "id": "lYnAeNzvUSS-",
      "execution_count": 29,
      "outputs": [
        {
          "output_type": "stream",
          "name": "stdout",
          "text": [
            "<class 'dict'> {'name': 'Justin', 'job': 'Professor', 'phone': 9195150637}\n",
            "name : Justin\n",
            "job : Professor\n",
            "phone : 9195150637\n"
          ]
        }
      ]
    },
    {
      "cell_type": "markdown",
      "id": "ad78e024",
      "metadata": {
        "id": "ad78e024"
      },
      "source": [
        "---\n",
        "\n",
        "## Unpacking Arguments\n",
        "\n",
        "- Suppose we want to call our function but our *arguments are stored in a list or tuple*\n",
        "  - We'll do this a bit when we do our machine learning models!\n",
        "- We can *unpack* this list or tuple to be our function arguments by calling our function in a particular way."
      ]
    },
    {
      "cell_type": "code",
      "execution_count": 30,
      "id": "6d669813",
      "metadata": {
        "lines_to_next_cell": 2,
        "id": "6d669813"
      },
      "outputs": [],
      "source": [
        "#We want to call our find_means function with these arguments\n",
        "call_args = [n5, n25, n100, n1000]"
      ]
    },
    {
      "cell_type": "markdown",
      "id": "c92064c2",
      "metadata": {
        "id": "c92064c2"
      },
      "source": [
        "- Call the function using `*call_args` (unpacking)"
      ]
    },
    {
      "cell_type": "code",
      "execution_count": 31,
      "id": "ae7fc95e",
      "metadata": {
        "lines_to_next_cell": 2,
        "id": "ae7fc95e",
        "outputId": "94cbcad6-04ae-4d18-ae6c-ebde045be569",
        "colab": {
          "base_uri": "https://localhost:8080/"
        }
      },
      "outputs": [
        {
          "output_type": "execute_result",
          "data": {
            "text/plain": [
              "[-0.223, 0.114, -0.014, 0.04]"
            ]
          },
          "metadata": {},
          "execution_count": 31
        }
      ],
      "source": [
        "find_means(*call_args, decimals = 3)"
      ]
    },
    {
      "cell_type": "markdown",
      "source": [
        "Nice! Now we can more easily call our function too!\n",
        "\n",
        "- We can do the same thing with our keyword arguments.\n",
        "- Suppose our *keyword arguments* are stored in a *dictionary*\n",
        "- Can call the function using `**kw_call_args` (unpacking)\n",
        "\n",
        "Define a quick function."
      ],
      "metadata": {
        "id": "Pqws4aRdVPMh"
      },
      "id": "Pqws4aRdVPMh"
    },
    {
      "cell_type": "code",
      "source": [
        "def print_items(name, job, number):\n",
        "  print(\"Name is: \", name)\n",
        "  print(\"Job is: \", job)\n",
        "  print(\"Phone number is: \", number)\n",
        "  return"
      ],
      "metadata": {
        "id": "itGvRHnkWVmf"
      },
      "id": "itGvRHnkWVmf",
      "execution_count": null,
      "outputs": []
    },
    {
      "cell_type": "markdown",
      "source": [
        "Create a dictionary with key-value pairs corresponding to our inputs."
      ],
      "metadata": {
        "id": "qTp42RGuWaJH"
      },
      "id": "qTp42RGuWaJH"
    },
    {
      "cell_type": "code",
      "execution_count": 34,
      "id": "2849eeae",
      "metadata": {
        "id": "2849eeae",
        "outputId": "ebef0e4a-4b67-46c7-aa57-e7f22c296d76",
        "colab": {
          "base_uri": "https://localhost:8080/"
        }
      },
      "outputs": [
        {
          "output_type": "execute_result",
          "data": {
            "text/plain": [
              "{'name': 'Justin Post', 'job': 'Professor', 'number': '9195150637'}"
            ]
          },
          "metadata": {},
          "execution_count": 34
        }
      ],
      "source": [
        "kw_call_args = {\"name\": \"Justin Post\", \"job\": \"Professor\", \"number\": \"9195150637\"}\n",
        "kw_call_args"
      ]
    },
    {
      "cell_type": "markdown",
      "source": [
        "Call our function using `**` with our dictionary!"
      ],
      "metadata": {
        "id": "pDUuKRamWfYf"
      },
      "id": "pDUuKRamWfYf"
    },
    {
      "cell_type": "code",
      "source": [
        "print_items(**kw_call_args)"
      ],
      "metadata": {
        "id": "yuGwkaDZWR3I",
        "outputId": "e1ed74b0-6259-4594-944b-a31b73f8170c",
        "colab": {
          "base_uri": "https://localhost:8080/"
        }
      },
      "id": "yuGwkaDZWR3I",
      "execution_count": 36,
      "outputs": [
        {
          "output_type": "stream",
          "name": "stdout",
          "text": [
            "Name is:  Justin Post\n",
            "Job is:  Professor\n",
            "Phone number is:  9195150637\n"
          ]
        }
      ]
    },
    {
      "cell_type": "markdown",
      "id": "3c6facb2",
      "metadata": {
        "id": "3c6facb2"
      },
      "source": [
        "- Passing named and unnamed arguments can both be done at once!\n",
        "- Recall our `find_means` function inputs:\n",
        "`def find_means(*args, decimals = 4):`\n"
      ]
    },
    {
      "cell_type": "code",
      "execution_count": 39,
      "id": "8b1cf05d",
      "metadata": {
        "lines_to_next_cell": 2,
        "id": "8b1cf05d",
        "outputId": "f65be28d-bd02-4530-c0d2-1d682146b948",
        "colab": {
          "base_uri": "https://localhost:8080/"
        }
      },
      "outputs": [
        {
          "output_type": "execute_result",
          "data": {
            "text/plain": [
              "[-0.223413, 0.114454, -0.014443, 0.039762]"
            ]
          },
          "metadata": {},
          "execution_count": 39
        }
      ],
      "source": [
        "dec_dictionary = {\"decimals\": 6}\n",
        "find_means(*call_args, **dec_dictionary)"
      ]
    },
    {
      "cell_type": "markdown",
      "id": "2a71c132",
      "metadata": {
        "id": "2a71c132"
      },
      "source": [
        "---\n",
        "\n",
        "## Lambda Functions\n",
        "\n",
        "We often want to create a quick function for a single purpose that we don't want to reuse for later.\n",
        "\n",
        "Rather than define a function and storing it as an object the way we've been doing it, we can create a **lambda** function (also sometimes called an **in-line** function or an **anonymous** function)\n",
        "\n",
        "- Use keyword `lambda`\n",
        "- Define arguments followed by a `:`\n",
        "- Give the action for the function to perform\n",
        "  - Syntax requires a *single* line. Cannot use `return` or some other keywords"
      ]
    },
    {
      "cell_type": "code",
      "execution_count": 40,
      "id": "077033c1",
      "metadata": {
        "lines_to_next_cell": 2,
        "id": "077033c1",
        "outputId": "858588f8-cca0-477b-b0f0-b4e22e5b4612",
        "colab": {
          "base_uri": "https://localhost:8080/"
        }
      },
      "outputs": [
        {
          "output_type": "execute_result",
          "data": {
            "text/plain": [
              "100"
            ]
          },
          "metadata": {},
          "execution_count": 40
        }
      ],
      "source": [
        "square_it = lambda x : x**2\n",
        "square_it(10)"
      ]
    },
    {
      "cell_type": "code",
      "source": [
        "square_then_add = lambda x, y : x**2 + y\n",
        "square_then_add(10, 5)"
      ],
      "metadata": {
        "id": "5oj0SA7dYbTj",
        "outputId": "ab1e5ddd-df65-40c6-e85e-13bec1d22944",
        "colab": {
          "base_uri": "https://localhost:8080/"
        }
      },
      "id": "5oj0SA7dYbTj",
      "execution_count": 41,
      "outputs": [
        {
          "output_type": "execute_result",
          "data": {
            "text/plain": [
              "105"
            ]
          },
          "metadata": {},
          "execution_count": 41
        }
      ]
    },
    {
      "cell_type": "markdown",
      "id": "41b5d625",
      "metadata": {
        "id": "41b5d625"
      },
      "source": [
        "- Can still define the arguments in many ways"
      ]
    },
    {
      "cell_type": "code",
      "execution_count": 49,
      "id": "f655f942",
      "metadata": {
        "id": "f655f942",
        "outputId": "22e6f70b-08e5-4903-9fca-997a5395dbd7",
        "colab": {
          "base_uri": "https://localhost:8080/"
        }
      },
      "outputs": [
        {
          "output_type": "stream",
          "name": "stdout",
          "text": [
            "hi ho\n"
          ]
        }
      ],
      "source": [
        "my_print = lambda x, y = \"ho\": print(x, y)\n",
        "my_print(\"hi\")"
      ]
    },
    {
      "cell_type": "code",
      "source": [
        "my_print = lambda *x: [print(\"Input: \" + str(z)) for z in x]\n",
        "my_print(\"hi\", \"ho\")"
      ],
      "metadata": {
        "id": "sIlEq1kaZkdk",
        "outputId": "76cd6e07-3017-4aec-b6ff-ee11539c19cd",
        "colab": {
          "base_uri": "https://localhost:8080/"
        }
      },
      "id": "sIlEq1kaZkdk",
      "execution_count": 50,
      "outputs": [
        {
          "output_type": "stream",
          "name": "stdout",
          "text": [
            "Input: hi\n",
            "Input: ho\n"
          ]
        },
        {
          "output_type": "execute_result",
          "data": {
            "text/plain": [
              "[None, None]"
            ]
          },
          "metadata": {},
          "execution_count": 50
        }
      ]
    },
    {
      "cell_type": "markdown",
      "source": [
        "Now, saving the function function in an object is really kind of counter to the point of an anonymous (lambda) function. We don't usually save these for later use! We'll see many uses for lambda functions. Let's cover one of those here."
      ],
      "metadata": {
        "id": "KcVQulv3ZmSh"
      },
      "id": "KcVQulv3ZmSh"
    },
    {
      "cell_type": "markdown",
      "id": "fb44dcd5",
      "metadata": {
        "id": "fb44dcd5"
      },
      "source": [
        "### `map()`\n",
        "\n",
        "Using lambda functions comes up a lot in the `map/reduce` idea. This is important for what we'll do!\n",
        "\n",
        "Map/reduce idea:\n",
        "- Apply (or *map*) a function to each element of an iterable object\n",
        "- Combine (or *reduce*) the results where able\n",
        "\n",
        "Example: Counting words\n",
        "- Want to take a list of words and create a tuple with the word and the value 1\n",
        "- Syntax for `map`:\n",
        "  + `map(function, object_to_apply_function_to)`"
      ]
    },
    {
      "cell_type": "code",
      "execution_count": 51,
      "id": "2d2607ec",
      "metadata": {
        "id": "2d2607ec"
      },
      "outputs": [],
      "source": [
        "res = map(\n",
        "    lambda word: (word, 1),\n",
        "    [\"these\", \"are\", \"my\", \"words\", \"these\", \"words\", \"rule\"]\n",
        "    )"
      ]
    },
    {
      "cell_type": "markdown",
      "source": [
        "Similar to other functions like `range` or `zip`, we don't get back the actual object we think we would. Instead we get a `map` object that can be used to find the mapped values."
      ],
      "metadata": {
        "id": "vzm-DmyiY2xQ"
      },
      "id": "vzm-DmyiY2xQ"
    },
    {
      "cell_type": "code",
      "source": [
        "print(type(res))\n",
        "res"
      ],
      "metadata": {
        "id": "dgfHO3SwZDc8",
        "outputId": "d0453439-48a2-4a03-c257-a09c5ff71b1d",
        "colab": {
          "base_uri": "https://localhost:8080/"
        }
      },
      "id": "dgfHO3SwZDc8",
      "execution_count": 47,
      "outputs": [
        {
          "output_type": "stream",
          "name": "stdout",
          "text": [
            "<class 'map'>\n"
          ]
        },
        {
          "output_type": "execute_result",
          "data": {
            "text/plain": [
              "<map at 0x785ed8b403d0>"
            ]
          },
          "metadata": {},
          "execution_count": 47
        }
      ]
    },
    {
      "cell_type": "markdown",
      "source": [
        "We can convert the `map` object to a list using `list()`"
      ],
      "metadata": {
        "id": "eL3vj-6tZG6E"
      },
      "id": "eL3vj-6tZG6E"
    },
    {
      "cell_type": "code",
      "source": [
        "list(res)"
      ],
      "metadata": {
        "id": "saBgeqxpZJr3",
        "outputId": "b7e28ba9-b6f2-4a5b-c8fc-bcd4da491a94",
        "colab": {
          "base_uri": "https://localhost:8080/"
        }
      },
      "id": "saBgeqxpZJr3",
      "execution_count": 48,
      "outputs": [
        {
          "output_type": "execute_result",
          "data": {
            "text/plain": [
              "[('these', 1),\n",
              " ('are', 1),\n",
              " ('my', 1),\n",
              " ('words', 1),\n",
              " ('these', 1),\n",
              " ('words', 1),\n",
              " ('rule', 1)]"
            ]
          },
          "metadata": {},
          "execution_count": 48
        }
      ]
    },
    {
      "cell_type": "markdown",
      "id": "a72cd753",
      "metadata": {
        "id": "a72cd753"
      },
      "source": [
        "Let's return the square of some values without defining a square function via `map()`"
      ]
    },
    {
      "cell_type": "code",
      "execution_count": 52,
      "id": "2dcb0907",
      "metadata": {
        "lines_to_next_cell": 2,
        "id": "2dcb0907",
        "outputId": "42d2c11c-bb87-4f7f-f6e3-a6340030ab54",
        "colab": {
          "base_uri": "https://localhost:8080/"
        }
      },
      "outputs": [
        {
          "output_type": "execute_result",
          "data": {
            "text/plain": [
              "<map at 0x785ed8b40cd0>"
            ]
          },
          "metadata": {},
          "execution_count": 52
        }
      ],
      "source": [
        "map(lambda r: r **2, range(0,5))"
      ]
    },
    {
      "cell_type": "code",
      "source": [
        "list(map(lambda r: r **2, range(0,5)))"
      ],
      "metadata": {
        "id": "OYVnjwVDaFUW",
        "outputId": "e97c8250-9c86-4edc-d808-92a17887fe4a",
        "colab": {
          "base_uri": "https://localhost:8080/"
        }
      },
      "id": "OYVnjwVDaFUW",
      "execution_count": 54,
      "outputs": [
        {
          "output_type": "execute_result",
          "data": {
            "text/plain": [
              "[0, 1, 4, 9, 16]"
            ]
          },
          "metadata": {},
          "execution_count": 54
        }
      ]
    },
    {
      "cell_type": "markdown",
      "source": [
        "Note: this can equivalently be done using a list comprehension!"
      ],
      "metadata": {
        "id": "w1_UpJ7iaJ8m"
      },
      "id": "w1_UpJ7iaJ8m"
    },
    {
      "cell_type": "code",
      "source": [
        "[r ** 2 for r in range(0,5)]"
      ],
      "metadata": {
        "id": "_KSAKD27aGbL",
        "outputId": "72f33f1f-bc49-4104-a7ae-97d4b1ab93d6",
        "colab": {
          "base_uri": "https://localhost:8080/"
        }
      },
      "id": "_KSAKD27aGbL",
      "execution_count": 55,
      "outputs": [
        {
          "output_type": "execute_result",
          "data": {
            "text/plain": [
              "[0, 1, 4, 9, 16]"
            ]
          },
          "metadata": {},
          "execution_count": 55
        }
      ]
    },
    {
      "cell_type": "markdown",
      "source": [
        "Another example of using map with a lambda function might be to quickly uppercase a list of strings."
      ],
      "metadata": {
        "id": "czB9mmTvaSx5"
      },
      "id": "czB9mmTvaSx5"
    },
    {
      "cell_type": "code",
      "execution_count": 56,
      "id": "da44dce3",
      "metadata": {
        "lines_to_next_cell": 0,
        "id": "da44dce3",
        "outputId": "811be052-4e72-4889-94b2-c3284ab70d5e",
        "colab": {
          "base_uri": "https://localhost:8080/"
        }
      },
      "outputs": [
        {
          "output_type": "execute_result",
          "data": {
            "text/plain": [
              "['CAT', 'DOG', 'WOLF', 'BEAR', 'PARROT']"
            ]
          },
          "metadata": {},
          "execution_count": 56
        }
      ],
      "source": [
        "list(map(lambda x: x.upper(), ['cat', 'dog', 'wolf', 'bear', 'parrot']))"
      ]
    },
    {
      "cell_type": "markdown",
      "id": "d58e6eaf",
      "metadata": {
        "id": "d58e6eaf"
      },
      "source": [
        "Again, this could be done with a list comprehension!"
      ]
    },
    {
      "cell_type": "code",
      "source": [
        "[x.upper() for x in ['cat', 'dog', 'wolf', 'bear', 'parrot']] #equivalent"
      ],
      "metadata": {
        "id": "B1UlotWTab3d",
        "outputId": "a62d22c7-347e-4c85-ca5e-86664926cab2",
        "colab": {
          "base_uri": "https://localhost:8080/"
        }
      },
      "id": "B1UlotWTab3d",
      "execution_count": 57,
      "outputs": [
        {
          "output_type": "execute_result",
          "data": {
            "text/plain": [
              "['CAT', 'DOG', 'WOLF', 'BEAR', 'PARROT']"
            ]
          },
          "metadata": {},
          "execution_count": 57
        }
      ]
    },
    {
      "cell_type": "markdown",
      "id": "b6f870c1",
      "metadata": {
        "lines_to_next_cell": 0,
        "id": "b6f870c1"
      },
      "source": [
        "---\n",
        "\n",
        "# Lambda Functions and `map()`\n",
        "\n",
        "- Can use lambda functions to create a function generator\n",
        "\n",
        ".left35["
      ]
    },
    {
      "cell_type": "code",
      "execution_count": null,
      "id": "b6195de9",
      "metadata": {
        "lines_to_next_cell": 0,
        "id": "b6195de9"
      },
      "outputs": [],
      "source": [
        "def raise_power(k):\n",
        "    return lambda r: r ** k\n",
        "\n",
        "square = raise_power(2)\n",
        "square(10)\n",
        "cube = raise_power(3)\n",
        "cube(10)"
      ]
    },
    {
      "cell_type": "markdown",
      "id": "d753322a",
      "metadata": {
        "id": "d753322a"
      },
      "source": [
        "]"
      ]
    },
    {
      "cell_type": "markdown",
      "id": "938812ae",
      "metadata": {
        "lines_to_next_cell": 0,
        "id": "938812ae"
      },
      "source": [
        "---\n",
        "\n",
        "# Lambda Functions and `map()`\n",
        "\n",
        "- Can use lambda functions to create a function generator\n",
        "\n",
        ".left35["
      ]
    },
    {
      "cell_type": "code",
      "execution_count": null,
      "id": "f04083a2",
      "metadata": {
        "lines_to_next_cell": 0,
        "id": "f04083a2"
      },
      "outputs": [],
      "source": [
        "def raise_power(k):\n",
        "    return lambda r: r ** k\n",
        "\n",
        "square = raise_power(2)\n",
        "square(10)\n",
        "cube = raise_power(3)\n",
        "cube(10)"
      ]
    },
    {
      "cell_type": "markdown",
      "id": "3c23ba89",
      "metadata": {
        "lines_to_next_cell": 0,
        "id": "3c23ba89"
      },
      "source": [
        "]\n",
        ".right45["
      ]
    },
    {
      "cell_type": "code",
      "execution_count": null,
      "id": "e16252c1",
      "metadata": {
        "lines_to_next_cell": 0,
        "id": "e16252c1"
      },
      "outputs": [],
      "source": [
        "ident, square, cube = map(raise_power, range(1,4))\n",
        "ident(4)\n",
        "square(4)\n",
        "cube(4)"
      ]
    },
    {
      "cell_type": "markdown",
      "id": "1a626ecb",
      "metadata": {
        "id": "1a626ecb"
      },
      "source": [
        "]"
      ]
    },
    {
      "cell_type": "markdown",
      "id": "d2b4c16c",
      "metadata": {
        "id": "d2b4c16c"
      },
      "source": [
        "---\n",
        "\n",
        "# `filter()`\n",
        "\n",
        "- Lambda functions can be used with `filter()`\n",
        "    + `filter()` takes a **predicate** (statement to return what you want) as the first arg and an iterable as the second"
      ]
    },
    {
      "cell_type": "code",
      "execution_count": null,
      "id": "194f5981",
      "metadata": {
        "id": "194f5981"
      },
      "outputs": [],
      "source": [
        "list(filter(lambda x: x in \"aeiou\", \"We want to return just the vowels.\"))\n",
        "[x for x in \"We want to return just the vowels.\" if x in \"aeiou\"] #equivalent"
      ]
    },
    {
      "cell_type": "markdown",
      "id": "20961328",
      "metadata": {
        "id": "20961328"
      },
      "source": [
        "---\n",
        "\n",
        "# `filter()`\n",
        "\n",
        "- Lambda functions can be used with `filter()`\n",
        "    + `filter()` takes a **predicate** (statement to return what you want) as the first arg and an iterable as the second"
      ]
    },
    {
      "cell_type": "code",
      "execution_count": null,
      "id": "172a78b3",
      "metadata": {
        "lines_to_next_cell": 0,
        "id": "172a78b3"
      },
      "outputs": [],
      "source": [
        "list(filter(lambda x: x in \"aeiou\", \"We want to return just the vowels.\"))\n",
        "[x for x in \"We want to return just the vowels.\" if x in \"aeiou\"] #equivalent"
      ]
    },
    {
      "cell_type": "code",
      "execution_count": null,
      "id": "b21a4f7c",
      "metadata": {
        "lines_to_next_cell": 0,
        "id": "b21a4f7c"
      },
      "outputs": [],
      "source": [
        "list(filter(lambda x: (x % 2) != 0, range(0, 10)))\n",
        "[x for x in range(0, 10) if (x % 2) != 0]#equivalent"
      ]
    },
    {
      "cell_type": "markdown",
      "id": "124cda6b",
      "metadata": {
        "id": "124cda6b"
      },
      "source": []
    },
    {
      "cell_type": "markdown",
      "id": "809bffff",
      "metadata": {
        "id": "809bffff"
      },
      "source": [
        "---\n",
        "\n",
        "# `functools.reduce()`\n",
        "\n",
        "- Lambda functions can be used with `functools.reduce()`\n",
        "    + `reduce()` takes in a function of two variables and an iterable, applies the function repetitively over the iterable, and returns the result"
      ]
    },
    {
      "cell_type": "code",
      "execution_count": null,
      "id": "120a0bc6",
      "metadata": {
        "lines_to_next_cell": 2,
        "id": "120a0bc6"
      },
      "outputs": [],
      "source": [
        "from functools import reduce\n",
        "reduce(lambda x, y: x + y, range(1,11)) # sum first 10 numbers\n",
        "sum(x for x in range(1,11))"
      ]
    },
    {
      "cell_type": "markdown",
      "id": "8d617dae",
      "metadata": {
        "id": "8d617dae"
      },
      "source": [
        "---\n",
        "\n",
        "# `functools.reduce()`\n",
        "\n",
        "- Lambda functions can be used with `functools.reduce()`\n",
        "    + `reduce()` takes in a function of two variables and an iterable, applies the function repetitively over the iterable, and returns the result"
      ]
    },
    {
      "cell_type": "code",
      "execution_count": null,
      "id": "2d46c7ef",
      "metadata": {
        "lines_to_next_cell": 0,
        "id": "2d46c7ef"
      },
      "outputs": [],
      "source": [
        "from functools import reduce\n",
        "reduce(lambda x, y: x + y, range(1,11)) # sum first 10 numbers\n",
        "sum(x for x in range(1,11))"
      ]
    },
    {
      "cell_type": "code",
      "execution_count": null,
      "id": "dc90efae",
      "metadata": {
        "lines_to_next_cell": 0,
        "id": "dc90efae"
      },
      "outputs": [],
      "source": [
        "#add an initial value to the computation\n",
        "reduce(lambda x, y: x + y, range(1,11), 45) # sum first 10 numbers + 45\n",
        "sum(x for x in range(1,11)) + 45"
      ]
    },
    {
      "cell_type": "markdown",
      "id": "e3db7bfc",
      "metadata": {
        "id": "e3db7bfc"
      },
      "source": []
    },
    {
      "cell_type": "markdown",
      "id": "d6d31093",
      "metadata": {
        "id": "d6d31093"
      },
      "source": [
        "---\n",
        "\n",
        "# `functools.reduce()`\n",
        "\n",
        "- Lambda functions can be used with `functools.reduce()`\n",
        "    + `reduce()` takes in a function of two variables and an iterable, applies the function repetitively over the iterable, and returns the result"
      ]
    },
    {
      "cell_type": "code",
      "execution_count": null,
      "id": "0b5c517f",
      "metadata": {
        "lines_to_next_cell": 2,
        "id": "0b5c517f"
      },
      "outputs": [],
      "source": [
        "#create a list of numbers to find the max of\n",
        "my_list = [53, 13, 103, 2, 15, -10, 201, 6]\n",
        "reduce(lambda x, y: x if x > y else y, my_list)\n",
        "reduce(lambda x, y: x if x > y else y, my_list, 500)"
      ]
    },
    {
      "cell_type": "markdown",
      "id": "9dcf997c",
      "metadata": {
        "id": "9dcf997c"
      },
      "source": [
        "---\n",
        "\n",
        "# To JupyterLab!  \n",
        "\n",
        "- Use lambda functions with `sorted()` to define the `key` to sort on\n",
        "\n",
        "- Use `map()` to demonstrate the LLN\n",
        "\n",
        "<!--\n",
        "ids = ['id1', 'id2', 'id30', 'id3', 'id22', 'id100']\n",
        "print(sorted(ids)) # Lexicographic sort\n",
        "['id1', 'id100', 'id2', 'id22', 'id3', 'id30']\n",
        "sorted_ids = sorted(ids, key=lambda x: int(x[2:])) # Integer sort\n",
        "print(sorted_ids)-->"
      ]
    },
    {
      "cell_type": "markdown",
      "id": "8f6a305e",
      "metadata": {
        "id": "8f6a305e"
      },
      "source": [
        "---\n",
        "\n",
        "# Recap\n",
        "\n",
        "- Catching extra arguments to a function\n",
        "\n",
        "- Passing your arguments to a function from an object\n",
        "\n",
        "- **lambda** functions\n",
        "\n",
        "- `map()`, `filter()`, and `functools.reduce()`\n"
      ]
    }
  ],
  "metadata": {
    "jupytext": {
      "cell_metadata_filter": "message,warning,eval,tags,error,-all",
      "main_language": "python",
      "notebook_metadata_filter": "-all"
    },
    "colab": {
      "provenance": [],
      "toc_visible": true,
      "include_colab_link": true
    },
    "language_info": {
      "name": "python"
    },
    "kernelspec": {
      "name": "python3",
      "display_name": "Python 3"
    }
  },
  "nbformat": 4,
  "nbformat_minor": 5
}