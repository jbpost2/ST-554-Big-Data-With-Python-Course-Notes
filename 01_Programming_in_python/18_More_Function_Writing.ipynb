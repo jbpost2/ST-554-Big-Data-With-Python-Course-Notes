{
  "cells": [
    {
      "cell_type": "markdown",
      "metadata": {
        "id": "view-in-github",
        "colab_type": "text"
      },
      "source": [
        "<a href=\"https://colab.research.google.com/github/jbpost2/ST-554-Big-Data-With-Python-Course-Notes/blob/main/01_Programming_in_python/18_More_Function_Writing.ipynb\" target=\"_parent\"><img src=\"https://colab.research.google.com/assets/colab-badge.svg\" alt=\"Open In Colab\"/></a>"
      ]
    },
    {
      "cell_type": "markdown",
      "id": "8a3b9d2a",
      "metadata": {
        "id": "8a3b9d2a"
      },
      "source": [
        "# More on Writing Functions\n",
        "\n",
        "Justin Post\n"
      ]
    },
    {
      "cell_type": "markdown",
      "id": "778d0c64",
      "metadata": {
        "id": "778d0c64"
      },
      "source": [
        "---\n",
        "\n",
        "## Programming in Python\n",
        "\n",
        "We've gone through a lot with python already!\n",
        "\n",
        "- `JupyterLab` & Markdown\n",
        "- Basic data types\n",
        "    + Strings, Floats, Ints, Booleans\n",
        "- Compound data types\n",
        "    + Lists, Tuples, Dictionaries, `Numpy` arrays, `pandas` series & data frames\n",
        "- Writing Functions\n",
        "- Control flow (if/then/else, Looping)\n",
        "- Data uses and basic summarizations\n",
        "\n",
        "Next up we'll cover a bit more about writing our own functions that will greatly increase their usefulness! Then we'll talk about how to plot our data using `matplotlib` and `pandas`.\n",
        "\n",
        "Then we'll really be ready to start talking about modeling, data sources, and generally moving towards doing fun things with big data!"
      ]
    },
    {
      "cell_type": "markdown",
      "id": "6bf14c7f",
      "metadata": {
        "id": "6bf14c7f"
      },
      "source": [
        "---\n",
        "\n",
        "## Writing Functions Recap\n",
        "\n",
        "- Writing functions is super cool!\n",
        "- Recall the basic syntax"
      ]
    },
    {
      "cell_type": "code",
      "execution_count": null,
      "id": "16750093",
      "metadata": {
        "eval": false,
        "id": "16750093"
      },
      "outputs": [],
      "source": [
        "def func_name(args):\n",
        "    \"\"\"\n",
        "    Doc string\n",
        "    \"\"\"\n",
        "    body\n",
        "    return object"
      ]
    },
    {
      "cell_type": "markdown",
      "id": "0d983e89",
      "metadata": {
        "id": "0d983e89"
      },
      "source": [
        "- We saw that there were many ways to set up your function arguments and to call your function\n",
        "- Remember that variables defined within the function are not generally available outside of the function\n",
        "  + That is, a new *symbol table* is used when the function is called\n",
        "  + We can define global variables if we really want to\n",
        "- We return what we want from the function with `return`\n",
        "  + If we don't return anything then `None` is returned!\n",
        "\n",
        "The topics we'll cover in this notebook are:\n",
        "- Packing and unpacking with functions\n",
        "  + Catching extra arguments given to a function\n",
        "  + Passing your arguments to a function from an object\n",
        "- **lambda** functions\n",
        "- `map()`, `filter()`, and `functools.reduce()`\n",
        "\n",
        "In a later notebook we'll talk about how to handle errors or exceptions!"
      ]
    },
    {
      "cell_type": "markdown",
      "id": "f8c0d9b9",
      "metadata": {
        "id": "f8c0d9b9"
      },
      "source": [
        "---\n",
        "\n",
        "## Packing and Unpacking\n",
        "\n",
        "Reminder: We can **pack** a list by separating variables to create with commas:\n",
        "\n",
        "`first, second, third = ...`\n",
        "\n",
        "Let's look at an example:"
      ]
    },
    {
      "cell_type": "code",
      "execution_count": 2,
      "id": "d16dbf76",
      "metadata": {
        "colab": {
          "base_uri": "https://localhost:8080/"
        },
        "id": "d16dbf76",
        "outputId": "8f275313-7dac-4f6a-ae67-2b204493d079"
      },
      "outputs": [
        {
          "output_type": "stream",
          "name": "stdout",
          "text": [
            "Dog Cat Horse\n"
          ]
        }
      ],
      "source": [
        "animals = [\"Dog\", \"Cat\", \"Horse\", \"Frog\", \"Cow\", \"Buffalo\", \"Deer\", \"Fish\", \"Bird\", \"Fox\", \"Racoon\"]\n",
        "short_animals = animals[:3]\n",
        "\n",
        "first, second, third = short_animals\n",
        "print(first + \" \" + second + \" \" + third)"
      ]
    },
    {
      "cell_type": "markdown",
      "id": "3141e443",
      "metadata": {
        "id": "3141e443"
      },
      "source": [
        "We saw that we can pack leftover elements into a list using `*variable`:"
      ]
    },
    {
      "cell_type": "code",
      "execution_count": 3,
      "id": "abb19639",
      "metadata": {
        "lines_to_next_cell": 2,
        "colab": {
          "base_uri": "https://localhost:8080/"
        },
        "id": "abb19639",
        "outputId": "afc45503-a466-4750-b85b-1304b8e1247f"
      },
      "outputs": [
        {
          "output_type": "stream",
          "name": "stdout",
          "text": [
            "Dog Cat Horse\n",
            "['Frog', 'Cow', 'Buffalo', 'Deer', 'Fish', 'Bird', 'Fox', 'Racoon']\n"
          ]
        }
      ],
      "source": [
        "first, second, third, *other = animals\n",
        "print(first + \" \" + second + \" \" + third)\n",
        "print(other)"
      ]
    },
    {
      "cell_type": "markdown",
      "id": "e5793532",
      "metadata": {
        "id": "e5793532"
      },
      "source": [
        "---\n",
        "\n",
        "### Unlimited Positional Arguments\n",
        "\n",
        "- This idea can be used when writing a function!\n",
        "- In this case we define an argument to our function with `*variable`\n",
        "- This allows us to pass unlimited **positional** arguments to our function ([variadic](https://docs.python.org/3/tutorial/controlflow.html#defining-functions) arguments)\n",
        "- The inputs are handled as a `tuple` in the function!\n",
        "\n",
        "Let's write a silly function to print out all arguments passed via this idea"
      ]
    },
    {
      "cell_type": "code",
      "source": [
        "def basic_print(*args):\n",
        "  print(type(args))\n",
        "  print(args)\n",
        "  return None"
      ],
      "metadata": {
        "id": "1VVUr_6SQlqd"
      },
      "id": "1VVUr_6SQlqd",
      "execution_count": 12,
      "outputs": []
    },
    {
      "cell_type": "markdown",
      "source": [
        "We can pass this function as many things as we'd like and it will be accessible within the function body as a tuple. We can see this as the printed values are surrounded by `(...)`, which implies we are printing a tuple!"
      ],
      "metadata": {
        "id": "Zh8GnzCYQ4oX"
      },
      "id": "Zh8GnzCYQ4oX"
    },
    {
      "cell_type": "code",
      "source": [
        "basic_print(\"hi\", [\"a list\", \"how fun\"], 3, 10)"
      ],
      "metadata": {
        "colab": {
          "base_uri": "https://localhost:8080/"
        },
        "id": "Piiek6DgQrmp",
        "outputId": "69d54c83-8996-46ed-aa71-da31101eed1f"
      },
      "id": "Piiek6DgQrmp",
      "execution_count": 13,
      "outputs": [
        {
          "output_type": "stream",
          "name": "stdout",
          "text": [
            "<class 'tuple'>\n",
            "('hi', ['a list', 'how fun'], 3, 10)\n"
          ]
        }
      ]
    },
    {
      "cell_type": "markdown",
      "source": [
        "As tuples are iterable, we can iterate across these elements via a loop!"
      ],
      "metadata": {
        "id": "E4wTxjRJRO74"
      },
      "id": "E4wTxjRJRO74"
    },
    {
      "cell_type": "code",
      "source": [
        "def basic_print_elements(*args):\n",
        "  for i in args:\n",
        "    print(type(i),i)\n",
        "  return None"
      ],
      "metadata": {
        "id": "wL4T6rbrRTCA"
      },
      "id": "wL4T6rbrRTCA",
      "execution_count": 16,
      "outputs": []
    },
    {
      "cell_type": "code",
      "source": [
        "basic_print_elements(\"hi\", [\"a list\", \"how fun\"], 3, 10)"
      ],
      "metadata": {
        "colab": {
          "base_uri": "https://localhost:8080/"
        },
        "id": "ejkVXPs8RY6D",
        "outputId": "bfc948e5-7d4e-4ef9-c2bd-533eb500d4f5"
      },
      "id": "ejkVXPs8RY6D",
      "execution_count": 17,
      "outputs": [
        {
          "output_type": "stream",
          "name": "stdout",
          "text": [
            "<class 'str'> hi\n",
            "<class 'list'> ['a list', 'how fun']\n",
            "<class 'int'> 3\n",
            "<class 'int'> 10\n"
          ]
        }
      ]
    },
    {
      "cell_type": "markdown",
      "source": [
        "Let's define a function that takes in as many 1D numpy arrays or pandas series the user would like and returns the means for each input.\n",
        "\n",
        "We'll also take an argument for the number of decimal places to return for the means."
      ],
      "metadata": {
        "id": "Iia6sCPtSqzm"
      },
      "id": "Iia6sCPtSqzm"
    },
    {
      "cell_type": "code",
      "execution_count": 18,
      "id": "247583c9",
      "metadata": {
        "lines_to_next_cell": 2,
        "id": "247583c9"
      },
      "outputs": [],
      "source": [
        "def find_means(*args, decimals = 4):\n",
        "    \"\"\"\n",
        "    Assume that args will be a bunch of numpy arrays (1D) or pandas series\n",
        "    Return the mean of each, rounded to `decimals` places\n",
        "    \"\"\"\n",
        "    means = []\n",
        "    for x in args: #iterate over the tuple values\n",
        "        means.append(np.mean(x).round(decimals))\n",
        "    return means"
      ]
    },
    {
      "cell_type": "markdown",
      "id": "e81ce6a3",
      "metadata": {
        "id": "e81ce6a3"
      },
      "source": [
        "- Create some data with `numpy` to send to this"
      ]
    },
    {
      "cell_type": "code",
      "execution_count": 19,
      "id": "d306fb06",
      "metadata": {
        "lines_to_next_cell": 2,
        "id": "d306fb06"
      },
      "outputs": [],
      "source": [
        "import numpy as np\n",
        "from numpy.random import default_rng\n",
        "rng = default_rng(3) #set seed to 3\n",
        "\n",
        "#generate a few means from standard normal data\n",
        "n5 = rng.standard_normal(5)       #sample size of 5\n",
        "n25 = rng.standard_normal(25)     #sample size of 25\n",
        "n100 = rng.standard_normal(100)   #sample size of 100\n",
        "n1000 = rng.standard_normal(1000) #sample size of 1000"
      ]
    },
    {
      "cell_type": "markdown",
      "source": [
        "Let's pass these to our function!"
      ],
      "metadata": {
        "id": "mDiBIMA1Ti0p"
      },
      "id": "mDiBIMA1Ti0p"
    },
    {
      "cell_type": "code",
      "execution_count": 20,
      "id": "fd7025f6",
      "metadata": {
        "lines_to_next_cell": 2,
        "colab": {
          "base_uri": "https://localhost:8080/"
        },
        "id": "fd7025f6",
        "outputId": "be24e603-eb61-4ad9-b41f-816fca40a228"
      },
      "outputs": [
        {
          "output_type": "execute_result",
          "data": {
            "text/plain": [
              "[-0.22, 0.11, -0.01, 0.04]"
            ]
          },
          "metadata": {},
          "execution_count": 20
        }
      ],
      "source": [
        "find_means(n5, n25, n100, n1000, decimals = 2)"
      ]
    },
    {
      "cell_type": "markdown",
      "source": [
        "Awesome! This gives us a lot more functionality with our function writing."
      ],
      "metadata": {
        "id": "tOxNtB49T4jI"
      },
      "id": "tOxNtB49T4jI"
    },
    {
      "cell_type": "markdown",
      "id": "91cf54e9",
      "metadata": {
        "id": "91cf54e9"
      },
      "source": [
        "---\n",
        "\n",
        "### Unlimited Keyword Arguments\n",
        "\n",
        "- You can also pass unlimited **keyword** arguments if you define the arg with a `**`\n",
        "- Handled as a **dictionary** in the function\n",
        "\n",
        "Let's write a basic function to print out the keywords with their values."
      ]
    },
    {
      "cell_type": "code",
      "execution_count": 27,
      "id": "42f2feed",
      "metadata": {
        "lines_to_next_cell": 2,
        "id": "42f2feed"
      },
      "outputs": [],
      "source": [
        "def print_key_value_pairs(**kwargs):\n",
        "    \"\"\"\n",
        "    key word args can be anything\n",
        "    \"\"\"\n",
        "    print(type(kwargs), kwargs)\n",
        "    for x in kwargs:\n",
        "        print(x + \" : \" + str(kwargs.get(x))) #cast the value to a string for printing"
      ]
    },
    {
      "cell_type": "markdown",
      "source": [
        "Now we pass as many named arguments as we'd like!"
      ],
      "metadata": {
        "id": "lF26NogYUhdE"
      },
      "id": "lF26NogYUhdE"
    },
    {
      "cell_type": "code",
      "source": [
        "print_key_value_pairs(\n",
        "  name = \"Justin\",\n",
        "  job = \"Professor\",\n",
        "  phone = 9195150637)"
      ],
      "metadata": {
        "colab": {
          "base_uri": "https://localhost:8080/"
        },
        "id": "lYnAeNzvUSS-",
        "outputId": "286e5edd-a733-4e25-bc77-10e98bba99a2"
      },
      "id": "lYnAeNzvUSS-",
      "execution_count": 29,
      "outputs": [
        {
          "output_type": "stream",
          "name": "stdout",
          "text": [
            "<class 'dict'> {'name': 'Justin', 'job': 'Professor', 'phone': 9195150637}\n",
            "name : Justin\n",
            "job : Professor\n",
            "phone : 9195150637\n"
          ]
        }
      ]
    },
    {
      "cell_type": "markdown",
      "id": "ad78e024",
      "metadata": {
        "id": "ad78e024"
      },
      "source": [
        "---\n",
        "\n",
        "## Unpacking Arguments\n",
        "\n",
        "- Suppose we want to call our function but our *arguments are stored in a list or tuple*\n",
        "  - We'll do this a bit when we do our machine learning models!\n",
        "- We can *unpack* this list or tuple to be our function arguments by calling our function in a particular way."
      ]
    },
    {
      "cell_type": "code",
      "execution_count": 30,
      "id": "6d669813",
      "metadata": {
        "lines_to_next_cell": 2,
        "id": "6d669813"
      },
      "outputs": [],
      "source": [
        "#We want to call our find_means function with these arguments\n",
        "call_args = [n5, n25, n100, n1000]"
      ]
    },
    {
      "cell_type": "markdown",
      "id": "c92064c2",
      "metadata": {
        "id": "c92064c2"
      },
      "source": [
        "- Call the function using `*call_args` (unpacking)"
      ]
    },
    {
      "cell_type": "code",
      "execution_count": 31,
      "id": "ae7fc95e",
      "metadata": {
        "lines_to_next_cell": 2,
        "colab": {
          "base_uri": "https://localhost:8080/"
        },
        "id": "ae7fc95e",
        "outputId": "94cbcad6-04ae-4d18-ae6c-ebde045be569"
      },
      "outputs": [
        {
          "output_type": "execute_result",
          "data": {
            "text/plain": [
              "[-0.223, 0.114, -0.014, 0.04]"
            ]
          },
          "metadata": {},
          "execution_count": 31
        }
      ],
      "source": [
        "find_means(*call_args, decimals = 3)"
      ]
    },
    {
      "cell_type": "markdown",
      "source": [
        "Nice! Now we can more easily call our function too!\n",
        "\n",
        "- We can do the same thing with our keyword arguments.\n",
        "- Suppose our *keyword arguments* are stored in a *dictionary*\n",
        "- Can call the function using `**kw_call_args` (unpacking)\n",
        "\n",
        "Define a quick function."
      ],
      "metadata": {
        "id": "Pqws4aRdVPMh"
      },
      "id": "Pqws4aRdVPMh"
    },
    {
      "cell_type": "code",
      "source": [
        "def print_items(name, job, number):\n",
        "  print(\"Name is: \", name)\n",
        "  print(\"Job is: \", job)\n",
        "  print(\"Phone number is: \", number)\n",
        "  return"
      ],
      "metadata": {
        "id": "itGvRHnkWVmf"
      },
      "id": "itGvRHnkWVmf",
      "execution_count": null,
      "outputs": []
    },
    {
      "cell_type": "markdown",
      "source": [
        "Create a dictionary with key-value pairs corresponding to our inputs."
      ],
      "metadata": {
        "id": "qTp42RGuWaJH"
      },
      "id": "qTp42RGuWaJH"
    },
    {
      "cell_type": "code",
      "execution_count": 34,
      "id": "2849eeae",
      "metadata": {
        "colab": {
          "base_uri": "https://localhost:8080/"
        },
        "id": "2849eeae",
        "outputId": "ebef0e4a-4b67-46c7-aa57-e7f22c296d76"
      },
      "outputs": [
        {
          "output_type": "execute_result",
          "data": {
            "text/plain": [
              "{'name': 'Justin Post', 'job': 'Professor', 'number': '9195150637'}"
            ]
          },
          "metadata": {},
          "execution_count": 34
        }
      ],
      "source": [
        "kw_call_args = {\"name\": \"Justin Post\", \"job\": \"Professor\", \"number\": \"9195150637\"}\n",
        "kw_call_args"
      ]
    },
    {
      "cell_type": "markdown",
      "source": [
        "Call our function using `**` with our dictionary!"
      ],
      "metadata": {
        "id": "pDUuKRamWfYf"
      },
      "id": "pDUuKRamWfYf"
    },
    {
      "cell_type": "code",
      "source": [
        "print_items(**kw_call_args)"
      ],
      "metadata": {
        "colab": {
          "base_uri": "https://localhost:8080/"
        },
        "id": "yuGwkaDZWR3I",
        "outputId": "e1ed74b0-6259-4594-944b-a31b73f8170c"
      },
      "id": "yuGwkaDZWR3I",
      "execution_count": 36,
      "outputs": [
        {
          "output_type": "stream",
          "name": "stdout",
          "text": [
            "Name is:  Justin Post\n",
            "Job is:  Professor\n",
            "Phone number is:  9195150637\n"
          ]
        }
      ]
    },
    {
      "cell_type": "markdown",
      "id": "3c6facb2",
      "metadata": {
        "id": "3c6facb2"
      },
      "source": [
        "- Passing named and unnamed arguments can both be done at once!\n",
        "- Recall our `find_means` function inputs:\n",
        "`def find_means(*args, decimals = 4):`\n"
      ]
    },
    {
      "cell_type": "code",
      "execution_count": 39,
      "id": "8b1cf05d",
      "metadata": {
        "lines_to_next_cell": 2,
        "colab": {
          "base_uri": "https://localhost:8080/"
        },
        "id": "8b1cf05d",
        "outputId": "f65be28d-bd02-4530-c0d2-1d682146b948"
      },
      "outputs": [
        {
          "output_type": "execute_result",
          "data": {
            "text/plain": [
              "[-0.223413, 0.114454, -0.014443, 0.039762]"
            ]
          },
          "metadata": {},
          "execution_count": 39
        }
      ],
      "source": [
        "dec_dictionary = {\"decimals\": 6}\n",
        "find_means(*call_args, **dec_dictionary)"
      ]
    },
    {
      "cell_type": "markdown",
      "id": "2a71c132",
      "metadata": {
        "id": "2a71c132"
      },
      "source": [
        "---\n",
        "\n",
        "## Lambda Functions\n",
        "\n",
        "We often want to create a quick function for a single purpose that we don't want to reuse for later.\n",
        "\n",
        "Rather than define a function and storing it as an object the way we've been doing it, we can create a **lambda** function (also sometimes called an **in-line** function or an **anonymous** function)\n",
        "\n",
        "- Use keyword `lambda`\n",
        "- Define arguments followed by a `:`\n",
        "- Give the action for the function to perform\n",
        "  - Syntax requires a *single* line. Cannot use `return` or some other keywords"
      ]
    },
    {
      "cell_type": "code",
      "execution_count": 40,
      "id": "077033c1",
      "metadata": {
        "lines_to_next_cell": 2,
        "colab": {
          "base_uri": "https://localhost:8080/"
        },
        "id": "077033c1",
        "outputId": "858588f8-cca0-477b-b0f0-b4e22e5b4612"
      },
      "outputs": [
        {
          "output_type": "execute_result",
          "data": {
            "text/plain": [
              "100"
            ]
          },
          "metadata": {},
          "execution_count": 40
        }
      ],
      "source": [
        "square_it = lambda x : x**2\n",
        "square_it(10)"
      ]
    },
    {
      "cell_type": "code",
      "source": [
        "square_then_add = lambda x, y : x**2 + y\n",
        "square_then_add(10, 5)"
      ],
      "metadata": {
        "colab": {
          "base_uri": "https://localhost:8080/"
        },
        "id": "5oj0SA7dYbTj",
        "outputId": "ab1e5ddd-df65-40c6-e85e-13bec1d22944"
      },
      "id": "5oj0SA7dYbTj",
      "execution_count": 41,
      "outputs": [
        {
          "output_type": "execute_result",
          "data": {
            "text/plain": [
              "105"
            ]
          },
          "metadata": {},
          "execution_count": 41
        }
      ]
    },
    {
      "cell_type": "markdown",
      "id": "41b5d625",
      "metadata": {
        "id": "41b5d625"
      },
      "source": [
        "- Can still define the arguments in many ways"
      ]
    },
    {
      "cell_type": "code",
      "execution_count": 49,
      "id": "f655f942",
      "metadata": {
        "colab": {
          "base_uri": "https://localhost:8080/"
        },
        "id": "f655f942",
        "outputId": "22e6f70b-08e5-4903-9fca-997a5395dbd7"
      },
      "outputs": [
        {
          "output_type": "stream",
          "name": "stdout",
          "text": [
            "hi ho\n"
          ]
        }
      ],
      "source": [
        "my_print = lambda x, y = \"ho\": print(x, y)\n",
        "my_print(\"hi\")"
      ]
    },
    {
      "cell_type": "code",
      "source": [
        "my_print = lambda *x: [print(\"Input: \" + str(z)) for z in x]\n",
        "my_print(\"hi\", \"ho\")"
      ],
      "metadata": {
        "colab": {
          "base_uri": "https://localhost:8080/"
        },
        "id": "sIlEq1kaZkdk",
        "outputId": "76cd6e07-3017-4aec-b6ff-ee11539c19cd"
      },
      "id": "sIlEq1kaZkdk",
      "execution_count": 50,
      "outputs": [
        {
          "output_type": "stream",
          "name": "stdout",
          "text": [
            "Input: hi\n",
            "Input: ho\n"
          ]
        },
        {
          "output_type": "execute_result",
          "data": {
            "text/plain": [
              "[None, None]"
            ]
          },
          "metadata": {},
          "execution_count": 50
        }
      ]
    },
    {
      "cell_type": "markdown",
      "source": [
        "Now, saving the function function in an object is really kind of counter to the point of an anonymous (lambda) function. We don't usually save these for later use! We'll see many uses for lambda functions. Let's cover one of those here."
      ],
      "metadata": {
        "id": "KcVQulv3ZmSh"
      },
      "id": "KcVQulv3ZmSh"
    },
    {
      "cell_type": "markdown",
      "id": "fb44dcd5",
      "metadata": {
        "id": "fb44dcd5"
      },
      "source": [
        "### `map()`\n",
        "\n",
        "Using lambda functions comes up a lot in the `map/reduce` idea. This is important for what we'll do!\n",
        "\n",
        "Map/reduce idea:\n",
        "- Apply (or *map*) a function to each element of an iterable object\n",
        "- Combine (or *reduce*) the results where able\n",
        "\n",
        "Example: Counting words\n",
        "- Want to take a list of words and create a tuple with the word and the value 1\n",
        "- Syntax for `map`:\n",
        "  + `map(function, object_to_apply_function_to)`"
      ]
    },
    {
      "cell_type": "code",
      "execution_count": 51,
      "id": "2d2607ec",
      "metadata": {
        "id": "2d2607ec"
      },
      "outputs": [],
      "source": [
        "res = map(\n",
        "    lambda word: (word, 1),\n",
        "    [\"these\", \"are\", \"my\", \"words\", \"these\", \"words\", \"rule\"]\n",
        "    )"
      ]
    },
    {
      "cell_type": "markdown",
      "source": [
        "Similar to other functions like `range` or `zip`, we don't get back the actual object we think we would. Instead we get a `map` object that can be used to find the mapped values."
      ],
      "metadata": {
        "id": "vzm-DmyiY2xQ"
      },
      "id": "vzm-DmyiY2xQ"
    },
    {
      "cell_type": "code",
      "source": [
        "print(type(res))\n",
        "res"
      ],
      "metadata": {
        "colab": {
          "base_uri": "https://localhost:8080/"
        },
        "id": "dgfHO3SwZDc8",
        "outputId": "d0453439-48a2-4a03-c257-a09c5ff71b1d"
      },
      "id": "dgfHO3SwZDc8",
      "execution_count": 47,
      "outputs": [
        {
          "output_type": "stream",
          "name": "stdout",
          "text": [
            "<class 'map'>\n"
          ]
        },
        {
          "output_type": "execute_result",
          "data": {
            "text/plain": [
              "<map at 0x785ed8b403d0>"
            ]
          },
          "metadata": {},
          "execution_count": 47
        }
      ]
    },
    {
      "cell_type": "markdown",
      "source": [
        "We can convert the `map` object to a list using `list()`"
      ],
      "metadata": {
        "id": "eL3vj-6tZG6E"
      },
      "id": "eL3vj-6tZG6E"
    },
    {
      "cell_type": "code",
      "source": [
        "list(res)"
      ],
      "metadata": {
        "colab": {
          "base_uri": "https://localhost:8080/"
        },
        "id": "saBgeqxpZJr3",
        "outputId": "b7e28ba9-b6f2-4a5b-c8fc-bcd4da491a94"
      },
      "id": "saBgeqxpZJr3",
      "execution_count": 48,
      "outputs": [
        {
          "output_type": "execute_result",
          "data": {
            "text/plain": [
              "[('these', 1),\n",
              " ('are', 1),\n",
              " ('my', 1),\n",
              " ('words', 1),\n",
              " ('these', 1),\n",
              " ('words', 1),\n",
              " ('rule', 1)]"
            ]
          },
          "metadata": {},
          "execution_count": 48
        }
      ]
    },
    {
      "cell_type": "markdown",
      "id": "a72cd753",
      "metadata": {
        "id": "a72cd753"
      },
      "source": [
        "Let's return the square of some values without defining a square function via `map()`"
      ]
    },
    {
      "cell_type": "code",
      "execution_count": 52,
      "id": "2dcb0907",
      "metadata": {
        "lines_to_next_cell": 2,
        "colab": {
          "base_uri": "https://localhost:8080/"
        },
        "id": "2dcb0907",
        "outputId": "42d2c11c-bb87-4f7f-f6e3-a6340030ab54"
      },
      "outputs": [
        {
          "output_type": "execute_result",
          "data": {
            "text/plain": [
              "<map at 0x785ed8b40cd0>"
            ]
          },
          "metadata": {},
          "execution_count": 52
        }
      ],
      "source": [
        "map(lambda r: r **2, range(0,5))"
      ]
    },
    {
      "cell_type": "code",
      "source": [
        "list(map(lambda r: r **2, range(0,5)))"
      ],
      "metadata": {
        "colab": {
          "base_uri": "https://localhost:8080/"
        },
        "id": "OYVnjwVDaFUW",
        "outputId": "e97c8250-9c86-4edc-d808-92a17887fe4a"
      },
      "id": "OYVnjwVDaFUW",
      "execution_count": 54,
      "outputs": [
        {
          "output_type": "execute_result",
          "data": {
            "text/plain": [
              "[0, 1, 4, 9, 16]"
            ]
          },
          "metadata": {},
          "execution_count": 54
        }
      ]
    },
    {
      "cell_type": "markdown",
      "source": [
        "Note: this can equivalently be done using a list comprehension!"
      ],
      "metadata": {
        "id": "w1_UpJ7iaJ8m"
      },
      "id": "w1_UpJ7iaJ8m"
    },
    {
      "cell_type": "code",
      "source": [
        "[r ** 2 for r in range(0,5)]"
      ],
      "metadata": {
        "colab": {
          "base_uri": "https://localhost:8080/"
        },
        "id": "_KSAKD27aGbL",
        "outputId": "72f33f1f-bc49-4104-a7ae-97d4b1ab93d6"
      },
      "id": "_KSAKD27aGbL",
      "execution_count": 55,
      "outputs": [
        {
          "output_type": "execute_result",
          "data": {
            "text/plain": [
              "[0, 1, 4, 9, 16]"
            ]
          },
          "metadata": {},
          "execution_count": 55
        }
      ]
    },
    {
      "cell_type": "markdown",
      "source": [
        "Another example of using map with a lambda function might be to quickly uppercase a list of strings."
      ],
      "metadata": {
        "id": "czB9mmTvaSx5"
      },
      "id": "czB9mmTvaSx5"
    },
    {
      "cell_type": "code",
      "execution_count": 56,
      "id": "da44dce3",
      "metadata": {
        "lines_to_next_cell": 0,
        "colab": {
          "base_uri": "https://localhost:8080/"
        },
        "id": "da44dce3",
        "outputId": "811be052-4e72-4889-94b2-c3284ab70d5e"
      },
      "outputs": [
        {
          "output_type": "execute_result",
          "data": {
            "text/plain": [
              "['CAT', 'DOG', 'WOLF', 'BEAR', 'PARROT']"
            ]
          },
          "metadata": {},
          "execution_count": 56
        }
      ],
      "source": [
        "list(map(lambda x: x.upper(), ['cat', 'dog', 'wolf', 'bear', 'parrot']))"
      ]
    },
    {
      "cell_type": "markdown",
      "id": "d58e6eaf",
      "metadata": {
        "id": "d58e6eaf"
      },
      "source": [
        "Again, this could be done with a list comprehension!"
      ]
    },
    {
      "cell_type": "code",
      "source": [
        "[x.upper() for x in ['cat', 'dog', 'wolf', 'bear', 'parrot']] #equivalent"
      ],
      "metadata": {
        "colab": {
          "base_uri": "https://localhost:8080/"
        },
        "id": "B1UlotWTab3d",
        "outputId": "a62d22c7-347e-4c85-ca5e-86664926cab2"
      },
      "id": "B1UlotWTab3d",
      "execution_count": 57,
      "outputs": [
        {
          "output_type": "execute_result",
          "data": {
            "text/plain": [
              "['CAT', 'DOG', 'WOLF', 'BEAR', 'PARROT']"
            ]
          },
          "metadata": {},
          "execution_count": 57
        }
      ]
    },
    {
      "cell_type": "markdown",
      "id": "b6f870c1",
      "metadata": {
        "lines_to_next_cell": 0,
        "id": "b6f870c1"
      },
      "source": [
        "One interesting use of a lambda function is through the creation of a **function generator**\n",
        "\n",
        "- Create a function that generates functions!\n",
        "- Here a function to raise a number to a given power"
      ]
    },
    {
      "cell_type": "code",
      "execution_count": 58,
      "id": "b6195de9",
      "metadata": {
        "lines_to_next_cell": 0,
        "id": "b6195de9"
      },
      "outputs": [],
      "source": [
        "def raise_power(k):\n",
        "    return lambda r: r ** k"
      ]
    },
    {
      "cell_type": "code",
      "source": [
        "square = raise_power(2) #creates a function!\n",
        "square(10)"
      ],
      "metadata": {
        "id": "0Uct6Qr0cxWi",
        "outputId": "f6035790-2a44-46e9-90c2-cd0166816640",
        "colab": {
          "base_uri": "https://localhost:8080/"
        }
      },
      "id": "0Uct6Qr0cxWi",
      "execution_count": 63,
      "outputs": [
        {
          "output_type": "execute_result",
          "data": {
            "text/plain": [
              "100"
            ]
          },
          "metadata": {},
          "execution_count": 63
        }
      ]
    },
    {
      "cell_type": "code",
      "source": [
        "cube = raise_power(3)\n",
        "cube(5)"
      ],
      "metadata": {
        "id": "d753322a",
        "outputId": "c6020d60-49dc-49f0-c85c-1560bd4c96c3",
        "colab": {
          "base_uri": "https://localhost:8080/"
        }
      },
      "id": "d753322a",
      "execution_count": 64,
      "outputs": [
        {
          "output_type": "execute_result",
          "data": {
            "text/plain": [
              "125"
            ]
          },
          "metadata": {},
          "execution_count": 64
        }
      ]
    },
    {
      "cell_type": "markdown",
      "id": "3c23ba89",
      "metadata": {
        "lines_to_next_cell": 0,
        "id": "3c23ba89"
      },
      "source": [
        "We can put this together with our packing idea and map!"
      ]
    },
    {
      "cell_type": "code",
      "execution_count": 65,
      "id": "e16252c1",
      "metadata": {
        "lines_to_next_cell": 0,
        "colab": {
          "base_uri": "https://localhost:8080/"
        },
        "id": "e16252c1",
        "outputId": "7d25e933-7508-4e69-cfae-90642d9617cc"
      },
      "outputs": [
        {
          "output_type": "execute_result",
          "data": {
            "text/plain": [
              "4"
            ]
          },
          "metadata": {},
          "execution_count": 65
        }
      ],
      "source": [
        "ident, square, cube = map(raise_power, range(1,4))\n",
        "ident(4)"
      ]
    },
    {
      "cell_type": "code",
      "source": [
        "square(4)"
      ],
      "metadata": {
        "id": "_SCqXeorghQr",
        "outputId": "a3bb7e2e-dd61-4db2-f191-3e93c8fe7b6a",
        "colab": {
          "base_uri": "https://localhost:8080/"
        }
      },
      "id": "_SCqXeorghQr",
      "execution_count": 66,
      "outputs": [
        {
          "output_type": "execute_result",
          "data": {
            "text/plain": [
              "16"
            ]
          },
          "metadata": {},
          "execution_count": 66
        }
      ]
    },
    {
      "cell_type": "code",
      "source": [
        "cube(4)"
      ],
      "metadata": {
        "id": "O2fHIDb9giBD",
        "outputId": "bbd66c77-ee0f-4fdf-89c6-faf200094b2e",
        "colab": {
          "base_uri": "https://localhost:8080/"
        }
      },
      "id": "O2fHIDb9giBD",
      "execution_count": 67,
      "outputs": [
        {
          "output_type": "execute_result",
          "data": {
            "text/plain": [
              "64"
            ]
          },
          "metadata": {},
          "execution_count": 67
        }
      ]
    },
    {
      "cell_type": "markdown",
      "id": "d2b4c16c",
      "metadata": {
        "id": "d2b4c16c"
      },
      "source": [
        "---\n",
        "\n",
        "### `filter()`\n",
        "\n",
        "- Lambda functions can be used with `filter()`\n",
        "  + `filter()` takes a **predicate** (statement to return what you want) as the first arg and an iterable as the second\n",
        "  + We can give the first argument as a lambda function\n",
        "\n",
        "Here we want to return only vowels from a string (an iterable)."
      ]
    },
    {
      "cell_type": "code",
      "execution_count": 68,
      "id": "194f5981",
      "metadata": {
        "colab": {
          "base_uri": "https://localhost:8080/"
        },
        "id": "194f5981",
        "outputId": "3b87ba0c-61a1-4dd6-a283-bced4b304b22"
      },
      "outputs": [
        {
          "output_type": "execute_result",
          "data": {
            "text/plain": [
              "<filter at 0x785ed8b41150>"
            ]
          },
          "metadata": {},
          "execution_count": 68
        }
      ],
      "source": [
        "filter(lambda x: x in \"aeiou\", \"We want to return just the vowels.\")"
      ]
    },
    {
      "cell_type": "code",
      "source": [
        "#return in list form!\n",
        "list(filter(lambda x: x in \"aeiou\", \"We want to return just the vowels.\"))"
      ],
      "metadata": {
        "id": "BAHLgIj6g2nD",
        "outputId": "c54cb564-ca2e-4068-c3cf-0152ba8423c2",
        "colab": {
          "base_uri": "https://localhost:8080/"
        }
      },
      "id": "BAHLgIj6g2nD",
      "execution_count": 69,
      "outputs": [
        {
          "output_type": "execute_result",
          "data": {
            "text/plain": [
              "['e', 'a', 'o', 'e', 'u', 'u', 'e', 'o', 'e']"
            ]
          },
          "metadata": {},
          "execution_count": 69
        }
      ]
    },
    {
      "cell_type": "markdown",
      "source": [
        "Equivalent to doing a list comprehension with an `if` in there!"
      ],
      "metadata": {
        "id": "jxwjYFzfg7Jl"
      },
      "id": "jxwjYFzfg7Jl"
    },
    {
      "cell_type": "code",
      "source": [
        "[x for x in \"We want to return just the vowels.\" if x in \"aeiou\"] #equivalent"
      ],
      "metadata": {
        "id": "y0xX3WHZg-Gi",
        "outputId": "a30ef7fd-4b4e-476f-c479-8f502a48c0af",
        "colab": {
          "base_uri": "https://localhost:8080/"
        }
      },
      "id": "y0xX3WHZg-Gi",
      "execution_count": 70,
      "outputs": [
        {
          "output_type": "execute_result",
          "data": {
            "text/plain": [
              "['e', 'a', 'o', 'e', 'u', 'u', 'e', 'o', 'e']"
            ]
          },
          "metadata": {},
          "execution_count": 70
        }
      ]
    },
    {
      "cell_type": "markdown",
      "id": "20961328",
      "metadata": {
        "id": "20961328"
      },
      "source": [
        "This time let's use filter to only return even numbers from an iterable object.\n",
        "\n",
        "- Recall the *mod* operator `%`, which returns the remainder\n",
        "- A number is even if, when we divide by 2, we get 0 as the remainder"
      ]
    },
    {
      "cell_type": "code",
      "execution_count": 71,
      "id": "b21a4f7c",
      "metadata": {
        "lines_to_next_cell": 0,
        "colab": {
          "base_uri": "https://localhost:8080/"
        },
        "id": "b21a4f7c",
        "outputId": "1e9fd883-a0f7-497d-9271-3f95abad8bb9"
      },
      "outputs": [
        {
          "output_type": "execute_result",
          "data": {
            "text/plain": [
              "[1, 3, 5, 7, 9]"
            ]
          },
          "metadata": {},
          "execution_count": 71
        }
      ],
      "source": [
        "list(filter(lambda x: (x % 2) != 0, range(0, 10)))"
      ]
    },
    {
      "cell_type": "markdown",
      "id": "124cda6b",
      "metadata": {
        "id": "124cda6b"
      },
      "source": [
        "Equivalent to this list comprehension with an `if`:"
      ]
    },
    {
      "cell_type": "code",
      "source": [
        "[x for x in range(0, 10) if (x % 2) != 0]"
      ],
      "metadata": {
        "id": "FdcCS92ghW-Q",
        "outputId": "052dbfab-2b97-48db-d931-43f47ca9f4cb",
        "colab": {
          "base_uri": "https://localhost:8080/"
        }
      },
      "id": "FdcCS92ghW-Q",
      "execution_count": 73,
      "outputs": [
        {
          "output_type": "execute_result",
          "data": {
            "text/plain": [
              "[1, 3, 5, 7, 9]"
            ]
          },
          "metadata": {},
          "execution_count": 73
        }
      ]
    },
    {
      "cell_type": "markdown",
      "id": "809bffff",
      "metadata": {
        "id": "809bffff"
      },
      "source": [
        "---\n",
        "\n",
        "### `functools.reduce()`\n",
        "\n",
        "Lambda functions can be used with `functools.reduce()`\n",
        "\n",
        "+ `reduce()` takes in a function of two variables and an iterable\n",
        "+ It applies the function repetitively over the iterable, and returns the result\n",
        "\n",
        "Here, we'll find the cumulative sum of a bunch of numbers (given as an iterable)"
      ]
    },
    {
      "cell_type": "code",
      "execution_count": 74,
      "id": "120a0bc6",
      "metadata": {
        "lines_to_next_cell": 2,
        "colab": {
          "base_uri": "https://localhost:8080/"
        },
        "id": "120a0bc6",
        "outputId": "c4d2d4d5-b5b2-4bd9-e0d4-e75a3f8c438c"
      },
      "outputs": [
        {
          "output_type": "execute_result",
          "data": {
            "text/plain": [
              "55"
            ]
          },
          "metadata": {},
          "execution_count": 74
        }
      ],
      "source": [
        "from functools import reduce\n",
        "reduce(lambda x, y: x + y, range(1,11)) # sum first 10 numbers"
      ]
    },
    {
      "cell_type": "markdown",
      "source": [
        "Here, `reduce()` works like this:\n",
        "- Takes the first two arguments of the iterable (1 and 2) and adds them\n",
        "- Takes the result of that (3) and adds it to the next argument of the iterable (3)\n",
        "- Repeats until the iterable is exhausted\n",
        "\n",
        "Again, we could do this kind of thing with a list comprehension. Here we just use the sum function on the result."
      ],
      "metadata": {
        "id": "fo9wBBmIhsdR"
      },
      "id": "fo9wBBmIhsdR"
    },
    {
      "cell_type": "code",
      "source": [
        "sum([x for x in range(1,11)])"
      ],
      "metadata": {
        "id": "FZaWHsJ2h_IK",
        "outputId": "f7836551-1d24-4dfb-ff3d-06f2004a649a",
        "colab": {
          "base_uri": "https://localhost:8080/"
        }
      },
      "id": "FZaWHsJ2h_IK",
      "execution_count": 75,
      "outputs": [
        {
          "output_type": "execute_result",
          "data": {
            "text/plain": [
              "55"
            ]
          },
          "metadata": {},
          "execution_count": 75
        }
      ]
    },
    {
      "cell_type": "markdown",
      "id": "8d617dae",
      "metadata": {
        "id": "8d617dae"
      },
      "source": [
        "We can also provide an initial value to `reduce()` to start the computation at. Here we supply 45."
      ]
    },
    {
      "cell_type": "code",
      "execution_count": 76,
      "id": "dc90efae",
      "metadata": {
        "lines_to_next_cell": 0,
        "colab": {
          "base_uri": "https://localhost:8080/"
        },
        "id": "dc90efae",
        "outputId": "9c666bc8-b94f-44ef-84a9-dbe4b1822784"
      },
      "outputs": [
        {
          "output_type": "execute_result",
          "data": {
            "text/plain": [
              "100"
            ]
          },
          "metadata": {},
          "execution_count": 76
        }
      ],
      "source": [
        "#add an initial value to the computation\n",
        "reduce(lambda x, y: x + y, range(1,11), 45) # sum first 10 numbers + 45"
      ]
    },
    {
      "cell_type": "markdown",
      "id": "d6d31093",
      "metadata": {
        "id": "d6d31093"
      },
      "source": [
        "Ok, that's a bit silly. We can do more interesting things with this. For instance, here we write a reduce function to find the largest value in a list.\n"
      ]
    },
    {
      "cell_type": "code",
      "execution_count": 77,
      "id": "0b5c517f",
      "metadata": {
        "lines_to_next_cell": 2,
        "colab": {
          "base_uri": "https://localhost:8080/"
        },
        "id": "0b5c517f",
        "outputId": "8970414c-1ad5-4c62-a10e-107d1ce2f342"
      },
      "outputs": [
        {
          "output_type": "execute_result",
          "data": {
            "text/plain": [
              "201"
            ]
          },
          "metadata": {},
          "execution_count": 77
        }
      ],
      "source": [
        "#create a list of numbers to find the max of\n",
        "my_list = [53, 13, 103, 2, 15, -10, 201, 6]\n",
        "reduce(lambda x, y: x if x > y else y, my_list)"
      ]
    },
    {
      "cell_type": "markdown",
      "source": [
        "How does that work?\n",
        "- Take x (53) and y (13), if x > y take x (53), otherwise take y (13)\n",
        "- With the result of that as x, take y as the next value in the iterable (103)\n",
        "- Repeat that step. Here it would keep 103 since it is larger\n",
        "- Keep going until the iterable is exhausted\n",
        "\n",
        "This works with a starting value as well!"
      ],
      "metadata": {
        "id": "A1fczCiSijgu"
      },
      "id": "A1fczCiSijgu"
    },
    {
      "cell_type": "code",
      "source": [
        "reduce(lambda x, y: x if x > y else y, my_list, 500)"
      ],
      "metadata": {
        "id": "zHrozm_hijGz",
        "outputId": "e4d947f5-0f52-4e35-c4d2-624fcc16860d",
        "colab": {
          "base_uri": "https://localhost:8080/"
        }
      },
      "id": "zHrozm_hijGz",
      "execution_count": 78,
      "outputs": [
        {
          "output_type": "execute_result",
          "data": {
            "text/plain": [
              "500"
            ]
          },
          "metadata": {},
          "execution_count": 78
        }
      ]
    },
    {
      "cell_type": "markdown",
      "id": "9dcf997c",
      "metadata": {
        "id": "9dcf997c"
      },
      "source": [
        "---\n",
        "\n",
        "## Quick Video\n",
        "\n",
        "This video shows an example of writing more involved functions including the use of `lambda` and `map` (Coming soon)"
      ]
    },
    {
      "cell_type": "code",
      "source": [],
      "metadata": {
        "id": "D52EG1Ubiic4"
      },
      "id": "D52EG1Ubiic4",
      "execution_count": null,
      "outputs": []
    },
    {
      "cell_type": "markdown",
      "id": "8f6a305e",
      "metadata": {
        "id": "8f6a305e"
      },
      "source": [
        "---\n",
        "\n",
        "# Recap\n",
        "\n",
        "- Unlimited positional and keyword arguments can be handled in your function\n",
        "  + position as a tuple\n",
        "  + keyword as a dictionary\n",
        "\n",
        "- You can also pass your arguments to a function from an object!\n",
        "\n",
        "- **lambda** functions are useful for writing short functions\n",
        "\n",
        "- `map()`, `filter()`, and `functools.reduce()` are common places we use lambda functions\n"
      ]
    },
    {
      "cell_type": "code",
      "source": [],
      "metadata": {
        "id": "-rUsWouFjaId"
      },
      "id": "-rUsWouFjaId",
      "execution_count": null,
      "outputs": []
    }
  ],
  "metadata": {
    "jupytext": {
      "cell_metadata_filter": "message,warning,eval,tags,error,-all",
      "main_language": "python",
      "notebook_metadata_filter": "-all"
    },
    "colab": {
      "provenance": [],
      "toc_visible": true,
      "include_colab_link": true
    },
    "language_info": {
      "name": "python"
    },
    "kernelspec": {
      "name": "python3",
      "display_name": "Python 3"
    }
  },
  "nbformat": 4,
  "nbformat_minor": 5
}