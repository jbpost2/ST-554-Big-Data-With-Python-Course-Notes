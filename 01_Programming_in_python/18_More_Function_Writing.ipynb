{
 "cells": [
  {
   "cell_type": "raw",
   "id": "e4aa9e47",
   "metadata": {},
   "source": [
    "---\n",
    "title: \"More on Writing Functions\"\n",
    "output:\n",
    "  xaringan::moon_reader:\n",
    "    seal: false\n",
    "    lib_dir: libs\n",
    "    css: [default, \"css/ncsu.css\", \"css/ncsu-fonts.css\", \"css/mycss.css\"]\n",
    "    nature:\n",
    "      beforeInit: [\"js/ncsu-scale.js\"]\n",
    "      highlightStyle: github\n",
    "      highlightLines: true\n",
    "      countIncrementalSlides: false\n",
    "      ratio: \"16:9\"\n",
    "    includes:\n",
    "      in_header: \"partials/header.html\"\n",
    "editor_options: \n",
    "  chunk_output_type: console\n",
    "---"
   ]
  },
  {
   "cell_type": "code",
   "execution_count": null,
   "id": "c0d758cd",
   "metadata": {
    "lines_to_next_cell": 2,
    "message": false,
    "tags": [
     "remove_cell"
    ],
    "warning": false
   },
   "outputs": [],
   "source": [
    "%%R\n",
    "options(htmltools.dir.version = FALSE)\n",
    "knitr::opts_chunk$set(\n",
    "  message = FALSE,\n",
    "  warning = FALSE,\n",
    "  dev = \"svg\",\n",
    "  fig.align = \"center\",\n",
    "  #fig.width = 11,\n",
    "  #fig.height = 5\n",
    "  cache = TRUE\n",
    ")\n",
    "\n",
    "# define vars\n",
    "om = par(\"mar\")\n",
    "lowtop = c(om[1],om[2],0.1,om[4])\n",
    "library(tidyverse)\n",
    "library(knitr)\n",
    "library(reticulate)\n",
    "use_python(\"C:\\\\Users\\\\jbpost2\\\\AppData\\\\Local\\\\Programs\\\\Python\\\\Python310\\\\python.exe\")\n",
    "#use_python(\"C:\\\\python\\\\python.exe\")\n",
    "options(dplyr.print_min = 5)\n",
    "options(reticulate.repl.quiet = TRUE)"
   ]
  },
  {
   "cell_type": "markdown",
   "id": "e738f14d",
   "metadata": {},
   "source": [
    "layout: false\n",
    "class: title-slide-section-red, middle"
   ]
  },
  {
   "cell_type": "markdown",
   "id": "8a3b9d2a",
   "metadata": {},
   "source": [
    "# More on Writing Functions\n",
    "Justin Post\n",
    "\n",
    "---\n",
    "layout: true\n",
    "\n",
    "<div class=\"my-footer\"><img src=\"img/logo.png\" style=\"height: 60px;\"/></div> \n"
   ]
  },
  {
   "cell_type": "markdown",
   "id": "778d0c64",
   "metadata": {},
   "source": [
    "---\n",
    "\n",
    "# Course Plan\n",
    "\n",
    "- Course split into four topics\n",
    "\n",
    "    1. Programming in `python`\n",
    "\n",
    "    2. Big Data Management\n",
    "\n",
    "    3. Modeling Big Data (with `Spark` via `pyspark`)\n",
    "\n",
    "    4. Streaming Data\n",
    "    \n",
    "    \n",
    "---\n",
    "\n",
    "# Programming in Python\n",
    "\n",
    "- `JupyterLab`, Markdown, & python\n",
    "- Basic data types \n",
    "    + Strings, Floats, Ints, Booleans\n",
    "- Compound data types\n",
    "    + Lists, Tuples, Dictionaries, `Numpy` arrays, `pandas` series & data frames\n",
    "- Writing Functions\n",
    "- Control flow (if/then/else, Looping)\n",
    "- Data uses and basic summarizations"
   ]
  },
  {
   "cell_type": "markdown",
   "id": "4ff11e9b",
   "metadata": {},
   "source": [
    "---\n",
    "\n",
    "# Programming in Python\n",
    "\n",
    "- `JupyterLab`, Markdown, & python\n",
    "- Basic data types \n",
    "    + Strings, Floats, Ints, Booleans\n",
    "- Compound data types\n",
    "    + Lists, Tuples, Dictionaries, `Numpy` arrays, `pandas` series & data frames\n",
    "- Writing Functions\n",
    "- Control flow (if/then/else, Looping)\n",
    "- Data uses and basic summarizations\n",
    "\n",
    "<br>\n",
    "\n",
    "- More advanced function writing\n",
    "- Summarizing data\n",
    "- Common models and model evaluation"
   ]
  },
  {
   "cell_type": "markdown",
   "id": "6bf14c7f",
   "metadata": {},
   "source": [
    "---\n",
    "\n",
    "# Writing Functions Recap\n",
    "\n",
    "- Writing functions is super cool!"
   ]
  },
  {
   "cell_type": "code",
   "execution_count": null,
   "id": "16750093",
   "metadata": {
    "eval": false
   },
   "outputs": [],
   "source": [
    "def func_name(args):\n",
    "    \"\"\"\n",
    "    Doc string\n",
    "    \"\"\"\n",
    "    body\n",
    "    return object"
   ]
  },
  {
   "cell_type": "markdown",
   "id": "0d983e89",
   "metadata": {},
   "source": [
    "- Many ways to set up your function arguments and to call your function\n",
    "- New symbol table used when function is called\n",
    "- Can require certain use of arguments "
   ]
  },
  {
   "cell_type": "markdown",
   "id": "d49bbc85",
   "metadata": {},
   "source": [
    "---\n",
    "\n",
    "# Writing Functions New Topics\n",
    "\n",
    "- Catching extra arguments to a function\n",
    "- Passing your arguments to a function from an object\n",
    "- **lambda** functions\n",
    "- `map()`, `filter()`, and `functools.reduce()`\n",
    "- Error control"
   ]
  },
  {
   "cell_type": "markdown",
   "id": "f8c0d9b9",
   "metadata": {},
   "source": [
    "---\n",
    "\n",
    "# Packing and Unpacking\n",
    "\n",
    "Reminder: We can **pack** a list"
   ]
  },
  {
   "cell_type": "code",
   "execution_count": null,
   "id": "d16dbf76",
   "metadata": {},
   "outputs": [],
   "source": [
    "animals = [\"Dog\", \"Cat\", \"Horse\", \"Frog\", \"Cow\", \"Buffalo\", \"Deer\", \"Fish\", \"Bird\", \"Fox\", \"Racoon\"]\n",
    "short_animals = animals[:3]\n",
    "\n",
    "first, second, third = short_animals\n",
    "print(first + \" \" + second + \" \" + third)"
   ]
  },
  {
   "cell_type": "markdown",
   "id": "3141e443",
   "metadata": {},
   "source": [
    "We can also pack leftover elements into a list"
   ]
  },
  {
   "cell_type": "code",
   "execution_count": null,
   "id": "abb19639",
   "metadata": {
    "lines_to_next_cell": 2
   },
   "outputs": [],
   "source": [
    "first, second, third, *other = animals\n",
    "print(first + \" \" + second + \" \" + third)\n",
    "print(other)"
   ]
  },
  {
   "cell_type": "markdown",
   "id": "e5793532",
   "metadata": {},
   "source": [
    "---\n",
    "\n",
    "# Unlimited Positional Arguments\n",
    "\n",
    "- You can pass unlimited **positional** arguments if you define the arg with a `*` ([variadic](https://docs.python.org/3/tutorial/controlflow.html#defining-functions) arguments)\n",
    "- Handled as a `tuple` in the function"
   ]
  },
  {
   "cell_type": "code",
   "execution_count": null,
   "id": "247583c9",
   "metadata": {
    "lines_to_next_cell": 2
   },
   "outputs": [],
   "source": [
    "def find_means(*args, message, decimals = 4):\n",
    "    \"\"\"\n",
    "    Assume that args will be a bunch of numpy arrays (1D) or pandas series\n",
    "    \"\"\"\n",
    "    print(message)\n",
    "    means = []\n",
    "    for x in args: #iterate over the tuple values\n",
    "        means.append(np.mean(x).round(decimals))\n",
    "    return means"
   ]
  },
  {
   "cell_type": "markdown",
   "id": "e81ce6a3",
   "metadata": {},
   "source": [
    "---\n",
    "\n",
    "# Unlimited Positional Arguments\n",
    "\n",
    "- Create some data with `numpy`"
   ]
  },
  {
   "cell_type": "code",
   "execution_count": null,
   "id": "d306fb06",
   "metadata": {
    "lines_to_next_cell": 2
   },
   "outputs": [],
   "source": [
    "import numpy as np\n",
    "from numpy.random import default_rng\n",
    "\n",
    "rng = default_rng(3) #set seed to 3\n",
    "sample = rng.standard_normal(5)\n",
    "sample\n",
    "type(sample)\n",
    "\n",
    "n5 = rng.standard_normal(5)\n",
    "n25 = rng.standard_normal(25)\n",
    "n100 = rng.standard_normal(100)\n",
    "n1000 = rng.standard_normal(1000)"
   ]
  },
  {
   "cell_type": "markdown",
   "id": "71f6cef6",
   "metadata": {},
   "source": [
    "---\n",
    "\n",
    "# Unlimited Positional Arguments\n",
    "\n",
    "- You can pass unlimited **positional** arguments if you define the arg with a `*` ([variadic](https://docs.python.org/3/tutorial/controlflow.html#defining-functions) arguments)\n",
    "- Handled as a `tuple` in the function"
   ]
  },
  {
   "cell_type": "code",
   "execution_count": null,
   "id": "1dc5489c",
   "metadata": {
    "eval": false
   },
   "outputs": [],
   "source": [
    "def find_means(*args, message, decimals = 4):\n",
    "    ...\n",
    "    for x in args: #iterate over the tuple values\n",
    "        means.append(np.mean(x).round(decimals))\n",
    "    ..."
   ]
  },
  {
   "cell_type": "code",
   "execution_count": null,
   "id": "fd7025f6",
   "metadata": {
    "lines_to_next_cell": 2
   },
   "outputs": [],
   "source": [
    "find_means(n5, n25, n100, n1000,\n",
    "           message = \"Means of standard Normal random samples: n = 5, 25, 100, 1000\", \n",
    "           decimals = 2)"
   ]
  },
  {
   "cell_type": "markdown",
   "id": "3bbc5003",
   "metadata": {},
   "source": [
    "---\n",
    "\n",
    "# Unlimited Positional Arguments\n",
    "\n",
    "- You can pass unlimited **positional** arguments if you define the arg with a `*` ([variadic](https://docs.python.org/3/tutorial/controlflow.html#defining-functions) arguments)\n",
    "- Handled as a `tuple` in the function"
   ]
  },
  {
   "cell_type": "code",
   "execution_count": null,
   "id": "29672fec",
   "metadata": {
    "eval": false
   },
   "outputs": [],
   "source": [
    "def find_means(*args, message, decimals = 4):\n",
    "    ...\n",
    "    for x in args: #iterate over the tuple values\n",
    "        means.append(np.mean(x).round(decimals))\n",
    "    ..."
   ]
  },
  {
   "cell_type": "code",
   "execution_count": null,
   "id": "4a58b766",
   "metadata": {
    "error": true,
    "lines_to_next_cell": 2
   },
   "outputs": [],
   "source": [
    "find_means(n5, n25, n100, n1000,\n",
    "            \"Means of standard Normal random samples: n = 5, 25, 100, 1000\", \n",
    "            decimals = 2)"
   ]
  },
  {
   "cell_type": "markdown",
   "id": "91cf54e9",
   "metadata": {},
   "source": [
    "---\n",
    "\n",
    "# Unlimited Keyword Arguments\n",
    "\n",
    "- You can pass unlimited **keyword** arguments if you define the arg with a `**`\n",
    "- Handled as a dictionary in the function"
   ]
  },
  {
   "cell_type": "code",
   "execution_count": null,
   "id": "42f2feed",
   "metadata": {
    "lines_to_next_cell": 2
   },
   "outputs": [],
   "source": [
    "def print_key_value_pairs(message, **kwargs):\n",
    "    \"\"\"\n",
    "    key word args can be anything\n",
    "    \"\"\"\n",
    "    print(message)\n",
    "    for x in kwargs:\n",
    "        print(x + \" : \" + str(kwargs.get(x)))\n",
    "\n",
    "print_key_value_pairs(\n",
    "  \"Printing some key value pairs out:\", \n",
    "  name = \"Justin\", \n",
    "  job = \"Professor\", \n",
    "  phone = 9195150637)"
   ]
  },
  {
   "cell_type": "markdown",
   "id": "ad78e024",
   "metadata": {},
   "source": [
    "---\n",
    "\n",
    "# Unpacking Arguments\n",
    "\n",
    "- Want to call our function but *arguments are stored in a list or tuple*"
   ]
  },
  {
   "cell_type": "code",
   "execution_count": null,
   "id": "6d669813",
   "metadata": {
    "lines_to_next_cell": 2
   },
   "outputs": [],
   "source": [
    "call_args = [n5, n25, n100, n1000]"
   ]
  },
  {
   "cell_type": "markdown",
   "id": "1404c92c",
   "metadata": {},
   "source": [
    "---\n",
    "\n",
    "# Unpacking Arguments\n",
    "\n",
    "- Want to call our function but *arguments are stored in a list or tuple*"
   ]
  },
  {
   "cell_type": "code",
   "execution_count": null,
   "id": "a94253e7",
   "metadata": {},
   "outputs": [],
   "source": [
    "call_args = [n5, n25, n100, n1000]"
   ]
  },
  {
   "cell_type": "markdown",
   "id": "c92064c2",
   "metadata": {},
   "source": [
    "- Call the function using `*call_args` (unpacking)"
   ]
  },
  {
   "cell_type": "code",
   "execution_count": null,
   "id": "ae7fc95e",
   "metadata": {
    "lines_to_next_cell": 2
   },
   "outputs": [],
   "source": [
    "find_means(*call_args, message = \"I like finding means\", decimals = 3)"
   ]
  },
  {
   "cell_type": "markdown",
   "id": "bfaaec04",
   "metadata": {},
   "source": [
    "---\n",
    "\n",
    "# Unpacking Arguments\n",
    "\n",
    "- Want to call our function but *keyword arguments stored in a dictionary*"
   ]
  },
  {
   "cell_type": "code",
   "execution_count": null,
   "id": "2849eeae",
   "metadata": {},
   "outputs": [],
   "source": [
    "kw_call_args = {\"message\" : \"Means 4 Life\", \"decimals\" : 7}\n",
    "kw_call_args"
   ]
  },
  {
   "cell_type": "markdown",
   "id": "3c6facb2",
   "metadata": {},
   "source": [
    "---\n",
    "\n",
    "# Unpacking Arguments\n",
    "\n",
    "- Want to call our function but *keyword arguments stored in a dictionary*\n",
    "- Can call the function using `**kw_call_args` (unpacking)"
   ]
  },
  {
   "cell_type": "code",
   "execution_count": null,
   "id": "8b1cf05d",
   "metadata": {
    "lines_to_next_cell": 2
   },
   "outputs": [],
   "source": [
    "find_means(*call_args, **kw_call_args)"
   ]
  },
  {
   "cell_type": "markdown",
   "id": "2a71c132",
   "metadata": {},
   "source": [
    "---\n",
    "\n",
    "# Lambda Functions\n",
    "\n",
    "- Shorthand function creation\n",
    "    - Small, anonymous, functions are called **lambda** functions (or sometimes **in-line functions**)\n",
    "\n",
    "---\n",
    "\n",
    "# Lambda Functions\n",
    "\n",
    "- Shorthand function creation\n",
    "    - Small, anonymous, functions are called **lambda** functions (or sometimes **in-line functions**)\n",
    "\n",
    "Ex: Map/Reduce Idea\n",
    "- Apply a function to each element of an object\n",
    "- Reduce (or combine) the results where able"
   ]
  },
  {
   "cell_type": "markdown",
   "id": "fb44dcd5",
   "metadata": {},
   "source": [
    "---\n",
    "\n",
    "# Lambda Functions\n",
    "\n",
    "- Shorthand function creation\n",
    "    - Small, anonymous, functions are called **lambda** functions (or sometimes **in-line functions**)\n",
    "\n",
    "Ex: Map/Reduce Idea\n",
    "- Apply a function to each element of an object\n",
    "- Reduce (or combine) the results where able\n",
    "    + Counting words: Need to take a list of words and create a tuple with the word and the value 1"
   ]
  },
  {
   "cell_type": "code",
   "execution_count": null,
   "id": "2d2607ec",
   "metadata": {},
   "outputs": [],
   "source": [
    "res = map(lambda word: (word, 1), [\"these\", \"are\", \"my\", \"words\", \"these\", \"words\", \"rule\"])\n",
    "list(res)"
   ]
  },
  {
   "cell_type": "markdown",
   "id": "3bcb37df",
   "metadata": {},
   "source": [
    "---\n",
    "\n",
    "# Lambda Functions\n",
    "\n",
    "- Syntax requires a *single* line. Cannot use `return` or some other keywords"
   ]
  },
  {
   "cell_type": "code",
   "execution_count": null,
   "id": "077033c1",
   "metadata": {
    "lines_to_next_cell": 2
   },
   "outputs": [],
   "source": [
    "square_it = lambda x : x**2\n",
    "square_it(10)\n",
    "square_then_add = lambda x, y : x**2 + y\n",
    "square_then_add(10, 5)"
   ]
  },
  {
   "cell_type": "markdown",
   "id": "41b5d625",
   "metadata": {},
   "source": [
    "---\n",
    "\n",
    "# Lambda Functions\n",
    "\n",
    "- Can still define args in many ways"
   ]
  },
  {
   "cell_type": "code",
   "execution_count": null,
   "id": "f655f942",
   "metadata": {},
   "outputs": [],
   "source": [
    "my_print = lambda x, y = \"ho\": print(x, y)\n",
    "my_print(\"hi\")\n",
    "my_print = lambda *x: [print(\"Input: \" + str(z)) for z in x]\n",
    "my_print(\"hi\", \"ho\")"
   ]
  },
  {
   "cell_type": "markdown",
   "id": "a72cd753",
   "metadata": {},
   "source": [
    "---\n",
    "\n",
    "# `map()`\n",
    "\n",
    "- Lambda functions often used with `map()`\n",
    "    + `map()` takes a function and applies it to each element of an **iterable**"
   ]
  },
  {
   "cell_type": "code",
   "execution_count": null,
   "id": "2dcb0907",
   "metadata": {
    "lines_to_next_cell": 2
   },
   "outputs": [],
   "source": [
    "list(map(lambda r: r **2, range(0,5)))\n",
    "[r ** 2 for r in range(0,5)] #equivalent"
   ]
  },
  {
   "cell_type": "markdown",
   "id": "466fc473",
   "metadata": {},
   "source": [
    "---\n",
    "\n",
    "# `map()`\n",
    "\n",
    "- Lambda functions often used with `map()`\n",
    "    + `map()` takes a function and applies it to each element of an **iterable**"
   ]
  },
  {
   "cell_type": "code",
   "execution_count": null,
   "id": "dd2f67de",
   "metadata": {},
   "outputs": [],
   "source": [
    "list(map(lambda r: r **2, range(0,5)))\n",
    "[r ** 2 for r in range(0,5)] #equivalent"
   ]
  },
  {
   "cell_type": "code",
   "execution_count": null,
   "id": "da44dce3",
   "metadata": {
    "lines_to_next_cell": 0
   },
   "outputs": [],
   "source": [
    "list(map(lambda x: x.upper(), ['cat', 'dog', 'wolf', 'bear', 'parrot']))\n",
    "[x.upper() for x in ['cat', 'dog', 'wolf', 'bear', 'parrot']] #equivalent"
   ]
  },
  {
   "cell_type": "markdown",
   "id": "d58e6eaf",
   "metadata": {},
   "source": []
  },
  {
   "cell_type": "markdown",
   "id": "b6f870c1",
   "metadata": {
    "lines_to_next_cell": 0
   },
   "source": [
    "---\n",
    "\n",
    "# Lambda Functions and `map()`\n",
    "\n",
    "- Can use lambda functions to create a function generator\n",
    "\n",
    ".left35["
   ]
  },
  {
   "cell_type": "code",
   "execution_count": null,
   "id": "b6195de9",
   "metadata": {
    "lines_to_next_cell": 0
   },
   "outputs": [],
   "source": [
    "def raise_power(k):\n",
    "    return lambda r: r ** k\n",
    "\n",
    "square = raise_power(2)\n",
    "square(10)\n",
    "cube = raise_power(3)\n",
    "cube(10)"
   ]
  },
  {
   "cell_type": "markdown",
   "id": "d753322a",
   "metadata": {},
   "source": [
    "]"
   ]
  },
  {
   "cell_type": "markdown",
   "id": "938812ae",
   "metadata": {
    "lines_to_next_cell": 0
   },
   "source": [
    "---\n",
    "\n",
    "# Lambda Functions and `map()`\n",
    "\n",
    "- Can use lambda functions to create a function generator\n",
    "\n",
    ".left35["
   ]
  },
  {
   "cell_type": "code",
   "execution_count": null,
   "id": "f04083a2",
   "metadata": {
    "lines_to_next_cell": 0
   },
   "outputs": [],
   "source": [
    "def raise_power(k):\n",
    "    return lambda r: r ** k\n",
    "\n",
    "square = raise_power(2)\n",
    "square(10)\n",
    "cube = raise_power(3)\n",
    "cube(10)"
   ]
  },
  {
   "cell_type": "markdown",
   "id": "3c23ba89",
   "metadata": {
    "lines_to_next_cell": 0
   },
   "source": [
    "]\n",
    ".right45["
   ]
  },
  {
   "cell_type": "code",
   "execution_count": null,
   "id": "e16252c1",
   "metadata": {
    "lines_to_next_cell": 0
   },
   "outputs": [],
   "source": [
    "ident, square, cube = map(raise_power, range(1,4))\n",
    "ident(4)\n",
    "square(4)\n",
    "cube(4)"
   ]
  },
  {
   "cell_type": "markdown",
   "id": "1a626ecb",
   "metadata": {},
   "source": [
    "]"
   ]
  },
  {
   "cell_type": "markdown",
   "id": "d2b4c16c",
   "metadata": {},
   "source": [
    "---\n",
    "\n",
    "# `filter()`\n",
    "\n",
    "- Lambda functions can be used with `filter()`\n",
    "    + `filter()` takes a **predicate** (statement to return what you want) as the first arg and an iterable as the second"
   ]
  },
  {
   "cell_type": "code",
   "execution_count": null,
   "id": "194f5981",
   "metadata": {},
   "outputs": [],
   "source": [
    "list(filter(lambda x: x in \"aeiou\", \"We want to return just the vowels.\"))\n",
    "[x for x in \"We want to return just the vowels.\" if x in \"aeiou\"] #equivalent"
   ]
  },
  {
   "cell_type": "markdown",
   "id": "20961328",
   "metadata": {},
   "source": [
    "---\n",
    "\n",
    "# `filter()`\n",
    "\n",
    "- Lambda functions can be used with `filter()`\n",
    "    + `filter()` takes a **predicate** (statement to return what you want) as the first arg and an iterable as the second"
   ]
  },
  {
   "cell_type": "code",
   "execution_count": null,
   "id": "172a78b3",
   "metadata": {
    "lines_to_next_cell": 0
   },
   "outputs": [],
   "source": [
    "list(filter(lambda x: x in \"aeiou\", \"We want to return just the vowels.\"))\n",
    "[x for x in \"We want to return just the vowels.\" if x in \"aeiou\"] #equivalent"
   ]
  },
  {
   "cell_type": "code",
   "execution_count": null,
   "id": "b21a4f7c",
   "metadata": {
    "lines_to_next_cell": 0
   },
   "outputs": [],
   "source": [
    "list(filter(lambda x: (x % 2) != 0, range(0, 10)))\n",
    "[x for x in range(0, 10) if (x % 2) != 0]#equivalent"
   ]
  },
  {
   "cell_type": "markdown",
   "id": "124cda6b",
   "metadata": {},
   "source": []
  },
  {
   "cell_type": "markdown",
   "id": "809bffff",
   "metadata": {},
   "source": [
    "---\n",
    "\n",
    "# `functools.reduce()`\n",
    "\n",
    "- Lambda functions can be used with `functools.reduce()`\n",
    "    + `reduce()` takes in a function of two variables and an iterable, applies the function repetitively over the iterable, and returns the result"
   ]
  },
  {
   "cell_type": "code",
   "execution_count": null,
   "id": "120a0bc6",
   "metadata": {
    "lines_to_next_cell": 2
   },
   "outputs": [],
   "source": [
    "from functools import reduce\n",
    "reduce(lambda x, y: x + y, range(1,11)) # sum first 10 numbers\n",
    "sum(x for x in range(1,11))"
   ]
  },
  {
   "cell_type": "markdown",
   "id": "8d617dae",
   "metadata": {},
   "source": [
    "---\n",
    "\n",
    "# `functools.reduce()`\n",
    "\n",
    "- Lambda functions can be used with `functools.reduce()`\n",
    "    + `reduce()` takes in a function of two variables and an iterable, applies the function repetitively over the iterable, and returns the result"
   ]
  },
  {
   "cell_type": "code",
   "execution_count": null,
   "id": "2d46c7ef",
   "metadata": {
    "lines_to_next_cell": 0
   },
   "outputs": [],
   "source": [
    "from functools import reduce\n",
    "reduce(lambda x, y: x + y, range(1,11)) # sum first 10 numbers\n",
    "sum(x for x in range(1,11))"
   ]
  },
  {
   "cell_type": "code",
   "execution_count": null,
   "id": "dc90efae",
   "metadata": {
    "lines_to_next_cell": 0
   },
   "outputs": [],
   "source": [
    "#add an initial value to the computation\n",
    "reduce(lambda x, y: x + y, range(1,11), 45) # sum first 10 numbers + 45\n",
    "sum(x for x in range(1,11)) + 45"
   ]
  },
  {
   "cell_type": "markdown",
   "id": "e3db7bfc",
   "metadata": {},
   "source": []
  },
  {
   "cell_type": "markdown",
   "id": "d6d31093",
   "metadata": {},
   "source": [
    "---\n",
    "\n",
    "# `functools.reduce()`\n",
    "\n",
    "- Lambda functions can be used with `functools.reduce()`\n",
    "    + `reduce()` takes in a function of two variables and an iterable, applies the function repetitively over the iterable, and returns the result"
   ]
  },
  {
   "cell_type": "code",
   "execution_count": null,
   "id": "0b5c517f",
   "metadata": {
    "lines_to_next_cell": 2
   },
   "outputs": [],
   "source": [
    "#create a list of numbers to find the max of\n",
    "my_list = [53, 13, 103, 2, 15, -10, 201, 6]\n",
    "reduce(lambda x, y: x if x > y else y, my_list)\n",
    "reduce(lambda x, y: x if x > y else y, my_list, 500)"
   ]
  },
  {
   "cell_type": "markdown",
   "id": "9dcf997c",
   "metadata": {},
   "source": [
    "---\n",
    "\n",
    "# To JupyterLab!  \n",
    "\n",
    "- Use lambda functions with `sorted()` to define the `key` to sort on\n",
    "\n",
    "- Use `map()` to demonstrate the LLN\n",
    "\n",
    "<!--\n",
    "ids = ['id1', 'id2', 'id30', 'id3', 'id22', 'id100']\n",
    "print(sorted(ids)) # Lexicographic sort\n",
    "['id1', 'id100', 'id2', 'id22', 'id3', 'id30']\n",
    "sorted_ids = sorted(ids, key=lambda x: int(x[2:])) # Integer sort\n",
    "print(sorted_ids)-->"
   ]
  },
  {
   "cell_type": "markdown",
   "id": "8f6a305e",
   "metadata": {},
   "source": [
    "---\n",
    "\n",
    "# Recap\n",
    "\n",
    "- Catching extra arguments to a function\n",
    "\n",
    "- Passing your arguments to a function from an object\n",
    "\n",
    "- **lambda** functions\n",
    "\n",
    "- `map()`, `filter()`, and `functools.reduce()`\n"
   ]
  }
 ],
 "metadata": {
  "jupytext": {
   "cell_metadata_filter": "message,warning,eval,tags,error,-all",
   "main_language": "python",
   "notebook_metadata_filter": "-all"
  }
 },
 "nbformat": 4,
 "nbformat_minor": 5
}
