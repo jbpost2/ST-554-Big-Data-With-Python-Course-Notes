{
 "cells": [
  {
   "cell_type": "raw",
   "id": "77eab34f",
   "metadata": {},
   "source": [
    "---\n",
    "title: \"Cross Validation\"\n",
    "author: \"Justin Post\"\n",
    "output:\n",
    "  xaringan::moon_reader:\n",
    "    seal: false\n",
    "    lib_dir: libs\n",
    "    css: [default, \"css/ncsu.css\", \"css/ncsu-fonts.css\", \"css/mycss.css\"]\n",
    "    nature:\n",
    "      beforeInit: [\"js/ncsu-scale.js\"]\n",
    "      highlightStyle: github\n",
    "      highlightLines: true\n",
    "      countIncrementalSlides: false\n",
    "      ratio: \"16:9\"\n",
    "    includes:\n",
    "      in_header: \"partials/header.html\"\n",
    "editor_options: \n",
    "  chunk_output_type: console\n",
    "---"
   ]
  },
  {
   "cell_type": "code",
   "execution_count": null,
   "id": "76244155",
   "metadata": {
    "lines_to_next_cell": 0,
    "message": false,
    "tags": [
     "remove_cell"
    ],
    "warning": false
   },
   "outputs": [],
   "source": [
    "%%R\n",
    "options(htmltools.dir.version = FALSE)\n",
    "knitr::opts_chunk$set(\n",
    "  message = FALSE,\n",
    "  warning = FALSE,\n",
    "  dev = \"svg\",\n",
    "  fig.align = \"center\",\n",
    "  #fig.width = 11,\n",
    "  #fig.height = 5\n",
    "  cache = FALSE\n",
    ")\n",
    "\n",
    "# define vars\n",
    "om = par(\"mar\")\n",
    "lowtop = c(om[1],om[2],0.1,om[4])\n",
    "library(tidyverse)\n",
    "library(knitr)\n",
    "library(reticulate)\n",
    "use_python(\"C:\\\\Users\\\\jbpost2\\\\AppData\\\\Local\\\\Programs\\\\Python\\\\Python310\\\\python.exe\")\n",
    "#use_python(\"C:\\\\python\\\\python.exe\")\n",
    "options(dplyr.print_min = 5)\n",
    "options(reticulate.repl.quiet = TRUE)"
   ]
  },
  {
   "cell_type": "markdown",
   "id": "f345cdd1",
   "metadata": {},
   "source": [
    "\n"
   ]
  },
  {
   "cell_type": "markdown",
   "id": "01c0ac81",
   "metadata": {},
   "source": [
    "layout: false\n",
    "class: title-slide-section-red, middle\n",
    "\n",
    "# Cross-Validation\n",
    "Justin Post \n",
    "\n",
    "---\n",
    "layout: true\n",
    "\n",
    "<div class=\"my-footer\"><img src=\"img/logo.png\" style=\"height: 60px;\"/></div> \n",
    "\n",
    "---\n",
    "\n",
    "# Recap\n",
    "\n",
    "- Judge the model's effectiveness using a **Loss** function\n",
    "\n",
    "- Often split data into a training and test set\n",
    "    + Perhaps 70/30 or 80/20\n",
    "    \n",
    "- Next: Cross-validation as an alternative to just train/test (and why we might do both!)"
   ]
  },
  {
   "cell_type": "markdown",
   "id": "1c6d99dc",
   "metadata": {},
   "source": [
    "---\n",
    "\n",
    "# Issues with Trainging vs Test Sets\n",
    "\n",
    "Why may we not want to just do a basic training/test set?\n",
    "\n",
    "- If we don't have much data, we aren't using it all when fitting the models\n",
    "\n",
    "- Data is randomly split into training/test\n",
    "\n",
    "    + May just get a weird split by chance\n",
    "    + Makes loss function eval a somewhat variable measurement depending on number of data points\n",
    "\n",
    "---\n",
    "\n",
    "# Issues with Trainging vs Test Sets\n",
    "\n",
    "Why may we not want to just do a basic training/test set?\n",
    "\n",
    "- If we don't have much data, we aren't using it all when fitting the models\n",
    "\n",
    "- Data is randomly split into training/test\n",
    "\n",
    "    + May just get a weird split by chance\n",
    "    + Makes loss function eval a somewhat variable measurement depending on number of data points\n",
    "\n",
    "- Instead, we could consider splitting the data multiple ways and averaging over the results!\n",
    "    + Exactly the idea for cross validation\n",
    "    + A less variable measurement that uses all the data when fitting\n",
    "    + Higher computational cost!"
   ]
  },
  {
   "cell_type": "markdown",
   "id": "9daf011f",
   "metadata": {},
   "source": [
    "---\n",
    "\n",
    "# Cross-validation\n",
    "\n",
    "Common method for assessing a predictive model"
   ]
  },
  {
   "cell_type": "code",
   "execution_count": null,
   "id": "f462b1be",
   "metadata": {
    "lines_to_next_cell": 2,
    "out.width": "600px",
    "tags": [
     "remove_input"
    ]
   },
   "outputs": [],
   "source": [
    "%%R\n",
    "knitr::include_graphics(\"img/cv.png\")"
   ]
  },
  {
   "cell_type": "markdown",
   "id": "cefc6869",
   "metadata": {},
   "source": [
    "---\n",
    "\n",
    "# Cross-Validation Idea\n",
    "\n",
    "$k$ fold Cross-Validation (CV)\n",
    "\n",
    "- Split data into k folds\n",
    "- Train model on first k-1 folds, test on kth, find sum of loss function\n",
    "- Train model on first k-2 folds and kth fold, test on (k-1)st fold, find sum of loss function\n",
    "- ..."
   ]
  },
  {
   "cell_type": "markdown",
   "id": "35d6db22",
   "metadata": {},
   "source": [
    "---\n",
    "\n",
    "# Cross-Validation Idea\n",
    "\n",
    "$k$ fold Cross-Validation (CV)\n",
    "\n",
    "- Split data into k folds\n",
    "- Train model on first k-1 folds, test on kth, find sum of loss function \n",
    "- Train model on first k-2 folds and kth fold, test on (k-1)st fold, find sum of loss function\n",
    "- ..."
   ]
  },
  {
   "cell_type": "markdown",
   "id": "8fd6ffec",
   "metadata": {},
   "source": [
    "Find CV error \n",
    "- Sum all test errors from above (Ex: if RMSE, square it first, sum, then square root again)\n",
    "\n",
    "Key = no predictions used in the RMSE were done on data used to train that model!"
   ]
  },
  {
   "cell_type": "markdown",
   "id": "f3049bdb",
   "metadata": {},
   "source": [
    "---\n",
    "\n",
    "# CV on MLR Models\n",
    "\n",
    "- Let's consider three linear regression models\n",
    "    + Our two models from last video:\n",
    "    \n",
    "$$\\mbox{Model 1: log_selling_price = intercept + slope*year + Error}$$\n",
    "\n",
    "$$\\mbox{Model 2: log_selling_price = intercept + slope*log_km_driven + Error}$$\n",
    "-  And a multiple linear regression model with both variable as predictors\n",
    "    \n",
    "$$\\mbox{Model 3: log_selling_price = intercept + slope1*year + slope2*log_km_driven+ Error}$$\n",
    "---\n",
    "\n",
    "# CV on MLR Models\n",
    "\n",
    "- Can use CV error to choose between these models\n",
    "- In `scikit-learn` use the `cross_validate()` function from the `model_selection` submodule\n",
    "    + Uses a `scoring` [input](https://scikit-learn.org/stable/modules/model_evaluation.html#scoring-parameter) to determine the loss function"
   ]
  },
  {
   "cell_type": "markdown",
   "id": "d22afe74",
   "metadata": {},
   "source": [
    "---\n",
    "\n",
    "# CV on MLR Models\n",
    "\n",
    "- Can use CV error to choose between these models\n",
    "- In `scikit-learn` use the `cross_validate()` function from the `model_selection` submodule\n",
    "    + Uses a `scoring` [input](https://scikit-learn.org/stable/modules/model_evaluation.html#scoring-parameter) to determine the loss function"
   ]
  },
  {
   "cell_type": "code",
   "execution_count": null,
   "id": "e0899b46",
   "metadata": {
    "tags": [
     "remove_input"
    ]
   },
   "outputs": [],
   "source": [
    "import pandas as pd\n",
    "import numpy as np\n",
    "\n",
    "bike_data = pd.read_csv(\"https://www4.stat.ncsu.edu/~online/datasets/bikeDetails.csv\")\n",
    "#create response and new predictor\n",
    "bike_data['log_selling_price'] = np.log(bike_data['selling_price'])\n",
    "bike_data['log_km_driven'] = np.log(bike_data['km_driven'])"
   ]
  },
  {
   "cell_type": "code",
   "execution_count": null,
   "id": "d8b264ed",
   "metadata": {
    "lines_to_next_cell": 0
   },
   "outputs": [],
   "source": [
    "from sklearn.model_selection import cross_validate\n",
    "from sklearn import linear_model\n",
    "reg1 = linear_model.LinearRegression() "
   ]
  },
  {
   "cell_type": "markdown",
   "id": "9eeadb2a",
   "metadata": {},
   "source": []
  },
  {
   "cell_type": "markdown",
   "id": "d1ff9424",
   "metadata": {},
   "source": [
    "---\n",
    "\n",
    "# CV on MLR Models\n",
    "\n",
    "- Can use CV error to choose between these models\n",
    "- In `scikit-learn` use the `cross_validate()` function from the `model_selection` submodule\n",
    "    + Uses a `scoring` [input](https://scikit-learn.org/stable/modules/model_evaluation.html#scoring-parameter) to determine the loss function"
   ]
  },
  {
   "cell_type": "code",
   "execution_count": null,
   "id": "4d7465d1",
   "metadata": {
    "lines_to_next_cell": 2
   },
   "outputs": [],
   "source": [
    "from sklearn.model_selection import cross_validate\n",
    "from sklearn import linear_model\n",
    "reg1 = linear_model.LinearRegression() \n",
    "cv1 = cross_validate(reg1, \n",
    "    bike_data[\"year\"].values.reshape(-1,1), \n",
    "    bike_data[\"log_selling_price\"].values, \n",
    "    cv=5,\n",
    "    scoring=('r2', 'neg_mean_squared_error'),     \n",
    "    return_train_score=True)\n",
    "print(sorted(cv1.keys()))\n",
    "round(sum(cv1[\"test_neg_mean_squared_error\"]),4)"
   ]
  },
  {
   "cell_type": "markdown",
   "id": "1e508a02",
   "metadata": {},
   "source": [
    "---\n",
    "\n",
    "# CV on MLR Models"
   ]
  },
  {
   "cell_type": "code",
   "execution_count": null,
   "id": "3158e6b8",
   "metadata": {
    "eval": false
   },
   "outputs": [],
   "source": [
    "reg2 = linear_model.LinearRegression() \n",
    "cv2 = cross_validate(reg2,   \n",
    "    bike_data[\"log_km_driven\"].values.reshape(-1,1), \n",
    "    bike_data[\"log_selling_price\"].values, \n",
    "    cv=5, scoring=('r2', 'neg_mean_squared_error'))\n",
    "\n",
    "reg3 = linear_model.LinearRegression() \n",
    "cv3 = cross_validate(reg3, bike_data[[\"year\", \"log_km_driven\"]].values, \n",
    "    bike_data[\"log_selling_price\"].values, \n",
    "    cv = 5, scoring=('r2','neg_mean_squared_error'))"
   ]
  },
  {
   "cell_type": "markdown",
   "id": "a54630ab",
   "metadata": {},
   "source": [
    "---\n",
    "\n",
    "# CV on MLR Models"
   ]
  },
  {
   "cell_type": "code",
   "execution_count": null,
   "id": "bbe38761",
   "metadata": {},
   "outputs": [],
   "source": [
    "reg2 = linear_model.LinearRegression() \n",
    "cv2 = cross_validate(reg2,   \n",
    "    bike_data[\"log_km_driven\"].values.reshape(-1,1), \n",
    "    bike_data[\"log_selling_price\"].values, \n",
    "    cv=5, scoring=('r2', 'neg_mean_squared_error'))\n",
    "\n",
    "reg3 = linear_model.LinearRegression() \n",
    "cv3 = cross_validate(reg3, bike_data[[\"year\", \"log_km_driven\"]].values, \n",
    "    bike_data[\"log_selling_price\"].values, \n",
    "    cv = 5, scoring=('r2','neg_mean_squared_error'))\n",
    "\n",
    "print(round(sum(cv1[\"test_neg_mean_squared_error\"]),4),\n",
    "      round(sum(cv2[\"test_neg_mean_squared_error\"]),4),\n",
    "      round(sum(cv3[\"test_neg_mean_squared_error\"]),4))"
   ]
  },
  {
   "cell_type": "markdown",
   "id": "edb32eaa",
   "metadata": {},
   "source": [
    "- Now we would refit the 'best' model on the full data set!"
   ]
  },
  {
   "cell_type": "markdown",
   "id": "f560cad5",
   "metadata": {},
   "source": [
    "---\n",
    "\n",
    "# Recap\n",
    "\n",
    "Cross-validation gives a way to use more of the data while still seeing how the model does on test data\n",
    "\n",
    "- Commonly 5 fold or 10 fold is done\n",
    "- Once a best model is chosen, model is refit on entire data set\n"
   ]
  }
 ],
 "metadata": {
  "jupytext": {
   "cell_metadata_filter": "eval,tags,warning,message,out.width,-all",
   "main_language": "python",
   "notebook_metadata_filter": "-all"
  }
 },
 "nbformat": 4,
 "nbformat_minor": 5
}
