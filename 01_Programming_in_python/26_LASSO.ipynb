{
 "cells": [
  {
   "cell_type": "raw",
   "id": "84eba28e",
   "metadata": {},
   "source": [
    "---\n",
    "title: \"LASSO Model\"\n",
    "author: \"Justin Post\"\n",
    "output:\n",
    "  xaringan::moon_reader:\n",
    "    seal: false\n",
    "    lib_dir: libs\n",
    "    css: [default, \"css/ncsu.css\", \"css/ncsu-fonts.css\", \"css/mycss.css\"]\n",
    "    nature:\n",
    "      beforeInit: [\"js/ncsu-scale.js\"]\n",
    "      highlightStyle: github\n",
    "      highlightLines: true\n",
    "      countIncrementalSlides: false\n",
    "      ratio: \"16:9\"\n",
    "    includes:\n",
    "      in_header: \"partials/header.html\"\n",
    "editor_options: \n",
    "  chunk_output_type: console\n",
    "---"
   ]
  },
  {
   "cell_type": "code",
   "execution_count": null,
   "id": "91668e28",
   "metadata": {
    "lines_to_next_cell": 0,
    "message": false,
    "tags": [
     "remove_cell"
    ],
    "warning": false
   },
   "outputs": [],
   "source": [
    "%%R\n",
    "options(htmltools.dir.version = FALSE)\n",
    "knitr::opts_chunk$set(\n",
    "  message = FALSE,\n",
    "  warning = FALSE,\n",
    "  dev = \"svg\",\n",
    "  fig.align = \"center\",\n",
    "  #fig.width = 11,\n",
    "  #fig.height = 5\n",
    "  cache = FALSE\n",
    ")\n",
    "\n",
    "# define vars\n",
    "om = par(\"mar\")\n",
    "lowtop = c(om[1],om[2],0.1,om[4])\n",
    "library(tidyverse)\n",
    "library(knitr)\n",
    "library(reticulate)\n",
    "use_python(\"C:\\\\Users\\\\jbpost2\\\\AppData\\\\Local\\\\Programs\\\\Python\\\\Python310\\\\python.exe\")\n",
    "#use_python(\"C:\\\\python\\\\python.exe\")\n",
    "options(dplyr.print_min = 5)\n",
    "options(reticulate.repl.quiet = TRUE)"
   ]
  },
  {
   "cell_type": "markdown",
   "id": "29899a25",
   "metadata": {},
   "source": [
    "\n"
   ]
  },
  {
   "cell_type": "markdown",
   "id": "2f42217b",
   "metadata": {},
   "source": [
    "layout: false\n",
    "class: title-slide-section-red, middle\n",
    "\n",
    "# LASSO Models\n",
    "Justin Post \n",
    "\n",
    "---\n",
    "layout: true\n",
    "\n",
    "<div class=\"my-footer\"><img src=\"img/logo.png\" style=\"height: 60px;\"/></div> \n",
    "\n",
    "---\n",
    "\n",
    "# Recap\n",
    "\n",
    "- Judge the model's effectiveness using a **Loss** function\n",
    "\n",
    "- Often split data into a training and test set\n",
    "    + Perhaps 70/30 or 80/20\n",
    "    \n",
    "- Cross-validation gives a way to use more of the data while still seeing how the model does on test data\n",
    "    - Commonly 5 fold or 10 fold is done\n",
    "    - Once a best model is chosen, model is refit on entire data set\n",
    "\n",
    "---\n",
    "\n",
    "# Recap\n",
    "\n",
    "- Judge the model's effectiveness using a **Loss** function\n",
    "\n",
    "- Often split data into a training and test set\n",
    "    + Perhaps 70/30 or 80/20\n",
    "    \n",
    "- Cross-validation gives a way to use more of the data while still seeing how the model does on test data\n",
    "    - Commonly 5 fold or 10 fold is done\n",
    "    - Once a best model is chosen, model is refit on entire data set\n",
    "\n",
    "- Often use both! Let's see why by introducing a model with a **tuning parameter**"
   ]
  },
  {
   "cell_type": "markdown",
   "id": "4fed96cb",
   "metadata": {},
   "source": [
    "---\n",
    "\n",
    "# LASSO Model\n",
    "\n",
    "- [Least Angle Subset and Selection Operator](https://www.jstor.org/stable/2346178) or LASSO\n",
    "    + Similar to Least Squares but a penalty is placed on the sum of the absolute values of the regression coefficients\n",
    "    + $\\alpha$ (>0) is called a tuning parameter\n",
    "  \n",
    "$$\\min\\limits_{\\beta's}\\sum_{i=1}^{n}(y_i-(\\beta_0+\\beta_1x_{1i}+...+\\beta_px_{pi}))^2 + \\alpha\\sum_{j=1}^{p}|\\beta_j|$$"
   ]
  },
  {
   "cell_type": "markdown",
   "id": "c9094672",
   "metadata": {},
   "source": [
    "---\n",
    "\n",
    "# LASSO Model\n",
    "\n",
    "- [Least Angle Subset and Selection Operator](https://www.jstor.org/stable/2346178) or LASSO\n",
    "    + Similar to Least Squares but a penalty is placed on the sum of the absolute values of the regression coefficients\n",
    "    + Sets coefficients to 0 as you 'shrink'!"
   ]
  },
  {
   "cell_type": "code",
   "execution_count": null,
   "id": "c5efc13a",
   "metadata": {
    "fig.align": "center",
    "lines_to_next_cell": 2,
    "out.width": "450px",
    "tags": [
     "remove_input"
    ]
   },
   "outputs": [],
   "source": [
    "%%R\n",
    "knitr::include_graphics(\"img/lasso_path.png\")"
   ]
  },
  {
   "cell_type": "markdown",
   "id": "4043bc84",
   "metadata": {},
   "source": [
    "---\n",
    "\n",
    "# Tuning Parameter\n",
    "\n",
    "- When choosing the tuning parameter, we are really considering a **family of models**!"
   ]
  },
  {
   "cell_type": "code",
   "execution_count": null,
   "id": "a4ced90b",
   "metadata": {
    "eval": true,
    "tags": [
     "remove_input",
     "remove_cell"
    ]
   },
   "outputs": [],
   "source": [
    "import pandas as pd\n",
    "import numpy as np\n",
    "from sklearn import linear_model\n",
    "\n",
    "bike_data = pd.read_csv(\"https://www4.stat.ncsu.edu/~online/datasets/bikeDetails.csv\")\n",
    "#create response and new predictor\n",
    "bike_data['log_selling_price'] = np.log(bike_data['selling_price'])\n",
    "bike_data['log_km_driven'] = np.log(bike_data['km_driven'])\n",
    "lasso = linear_model.Lasso(alpha=0.1) \n",
    "lasso.fit(bike_data[[\"year\", \"log_km_driven\"]].values, bike_data[\"log_selling_price\"].values)"
   ]
  },
  {
   "cell_type": "code",
   "execution_count": null,
   "id": "426fc414",
   "metadata": {
    "eval": false,
    "lines_to_next_cell": 0
   },
   "outputs": [],
   "source": [
    "from sklearn import linear_model\n",
    "lasso = linear_model.Lasso(alpha=0.1) \n",
    "lasso.fit(bike_data[[\"year\", \"log_km_driven\"]].values, bike_data[\"log_selling_price\"].values)"
   ]
  },
  {
   "cell_type": "code",
   "execution_count": null,
   "id": "b85cabb9",
   "metadata": {},
   "outputs": [],
   "source": [
    "print(lasso.intercept_,lasso.coef_)"
   ]
  },
  {
   "cell_type": "code",
   "execution_count": null,
   "id": "b03de882",
   "metadata": {
    "eval": false,
    "lines_to_next_cell": 0
   },
   "outputs": [],
   "source": [
    "lasso = linear_model.Lasso(alpha=1.05) \n",
    "lasso.fit(bike_data[[\"year\", \"log_km_driven\"]].values, bike_data[\"log_selling_price\"].values)"
   ]
  },
  {
   "cell_type": "code",
   "execution_count": null,
   "id": "f1d395db",
   "metadata": {
    "eval": true,
    "lines_to_next_cell": 0,
    "tags": [
     "remove_input",
     "remove_cell"
    ]
   },
   "outputs": [],
   "source": [
    "lasso = linear_model.Lasso(alpha=1.05) \n",
    "lasso.fit(bike_data[[\"year\", \"log_km_driven\"]].values, bike_data[\"log_selling_price\"].values)"
   ]
  },
  {
   "cell_type": "code",
   "execution_count": null,
   "id": "fba9fb34",
   "metadata": {
    "lines_to_next_cell": 2
   },
   "outputs": [],
   "source": [
    "print(lasso.intercept_,lasso.coef_)"
   ]
  },
  {
   "cell_type": "markdown",
   "id": "878cecfd",
   "metadata": {},
   "source": [
    "---\n",
    "\n",
    "# LASSO Fits Visual\n",
    "\n",
    "- Perfect place for CV to help select the best $\\alpha$!"
   ]
  },
  {
   "cell_type": "code",
   "execution_count": null,
   "id": "b695cdc7",
   "metadata": {
    "eval": true,
    "lines_to_next_cell": 0,
    "message": false,
    "tags": [
     "remove_input",
     "remove_cell"
    ]
   },
   "outputs": [],
   "source": [
    "#code from https://www.kirenz.com/post/2019-08-12-python-lasso-regression-auto/\n",
    "import matplotlib.pyplot as plt\n",
    "\n",
    "alphas = np.linspace(0.01,2.2,500)\n",
    "lasso = linear_model.Lasso(max_iter=10000)\n",
    "coefs = []\n",
    "\n",
    "for a in alphas:\n",
    "    lasso.set_params(alpha=a)\n",
    "    lasso.fit(bike_data[[\"year\", \"log_km_driven\"]].values, bike_data[\"log_selling_price\"].values)\n",
    "    coefs.append(lasso.coef_)"
   ]
  },
  {
   "cell_type": "code",
   "execution_count": null,
   "id": "1a41fb8c",
   "metadata": {
    "fig.align": "center",
    "lines_to_next_cell": 0,
    "message": false,
    "out.width": "450px",
    "tags": [
     "remove_input"
    ]
   },
   "outputs": [],
   "source": [
    "ax = plt.gca()\n",
    "ax.plot(alphas, coefs)\n",
    "#ax.set_xscale('log')\n",
    "plt.axis('tight')\n",
    "plt.xlabel('alpha')\n",
    "plt.ylabel('Standardized Coefficients')\n",
    "plt.title('Lasso coefficients as a function of alpha');\n",
    "plt.show()"
   ]
  },
  {
   "cell_type": "markdown",
   "id": "66a3b002",
   "metadata": {},
   "source": []
  },
  {
   "cell_type": "markdown",
   "id": "8ac8f236",
   "metadata": {},
   "source": [
    "---\n",
    "\n",
    "# Using CV to Select the Tuning Parameter\n",
    "\n",
    "- Return the optimal $\\alpha$ using `LassoCV`"
   ]
  },
  {
   "cell_type": "code",
   "execution_count": null,
   "id": "3bc103ea",
   "metadata": {
    "eval": true,
    "tags": [
     "remove_input",
     "remove_cell"
    ]
   },
   "outputs": [],
   "source": [
    "from sklearn.linear_model import LassoCV\n",
    "lasso_mod = LassoCV(cv=5, random_state=0, alphas = np.linspace(0,2.2,100)) \\\n",
    "    .fit(bike_data[[\"year\", \"log_km_driven\"]].values,\n",
    "          bike_data[\"log_selling_price\"].values)"
   ]
  },
  {
   "cell_type": "markdown",
   "id": "63e8b447",
   "metadata": {
    "lines_to_next_cell": 0
   },
   "source": [
    ".left55["
   ]
  },
  {
   "cell_type": "code",
   "execution_count": null,
   "id": "6e1c63b6",
   "metadata": {
    "echo": true,
    "eval": false,
    "lines_to_next_cell": 0,
    "message": false,
    "warning": false
   },
   "outputs": [],
   "source": [
    "from sklearn.linear_model import LassoCV\n",
    "lasso_mod = LassoCV(cv=5, random_state=0, alphas = np.linspace(0,2.2,100)) \\\n",
    "    .fit(bike_data[[\"year\", \"log_km_driven\"]].values,\n",
    "          bike_data[\"log_selling_price\"].values)"
   ]
  },
  {
   "cell_type": "code",
   "execution_count": null,
   "id": "57da5b12",
   "metadata": {
    "lines_to_next_cell": 0
   },
   "outputs": [],
   "source": [
    "fit_info = np.array(list(zip(lasso_mod.alphas_, np.mean(lasso_mod.mse_path_, axis = 1))))\n",
    "fit_info[fit_info[:,0].argsort()]"
   ]
  },
  {
   "cell_type": "markdown",
   "id": "9df45755",
   "metadata": {},
   "source": [
    "]\n"
   ]
  },
  {
   "cell_type": "markdown",
   "id": "416c5b7b",
   "metadata": {},
   "source": [
    "---\n",
    "\n",
    "# Using CV to Select the Tuning Parameter\n",
    "\n",
    "- Now fit using that optimal $\\alpha$"
   ]
  },
  {
   "cell_type": "code",
   "execution_count": null,
   "id": "c04a301d",
   "metadata": {
    "eval": true,
    "tags": [
     "remove_input",
     "remove_cell"
    ],
    "warning": false
   },
   "outputs": [],
   "source": [
    "lasso_best = linear_model.Lasso(lasso_mod.alpha_) #warning thrown, but can ignore\n",
    "lasso_best.fit(bike_data[[\"year\", \"log_km_driven\"]].values, bike_data[\"log_selling_price\"].values)\n",
    "mlr_fit = linear_model.LinearRegression().fit(bike_data[[\"year\", \"log_km_driven\"]].values, bike_data[\"log_selling_price\"].values)"
   ]
  },
  {
   "cell_type": "code",
   "execution_count": null,
   "id": "eee62fd3",
   "metadata": {
    "echo": true,
    "eval": false,
    "lines_to_next_cell": 0
   },
   "outputs": [],
   "source": [
    "lasso_best = linear_model.Lasso(lasso_mod.alpha_) #warning thrown, but can ignore\n",
    "lasso_best.fit(bike_data[[\"year\", \"log_km_driven\"]].values, bike_data[\"log_selling_price\"].values)"
   ]
  },
  {
   "cell_type": "code",
   "execution_count": null,
   "id": "fa39dd69",
   "metadata": {},
   "outputs": [],
   "source": [
    "print(lasso_best.intercept_,lasso_best.coef_)"
   ]
  },
  {
   "cell_type": "code",
   "execution_count": null,
   "id": "2c37a267",
   "metadata": {
    "echo": true,
    "eval": false,
    "lines_to_next_cell": 0
   },
   "outputs": [],
   "source": [
    "#compare to MLR fit\n",
    "mlr_fit = linear_model.LinearRegression() \\\n",
    "                      .fit(bike_data[[\"year\", \"log_km_driven\"]].values, \n",
    "                           bike_data[\"log_selling_price\"].values)"
   ]
  },
  {
   "cell_type": "code",
   "execution_count": null,
   "id": "a748630e",
   "metadata": {
    "lines_to_next_cell": 2
   },
   "outputs": [],
   "source": [
    "print(mlr_fit.intercept_, mlr_fit.coef_)"
   ]
  },
  {
   "cell_type": "markdown",
   "id": "59e2d795",
   "metadata": {},
   "source": [
    "---\n",
    "\n",
    "# So Do We Just Need CV?\n",
    "\n",
    "Sometimes!\n",
    "\n",
    "- If you are only considering one type of model, you can use just a training/test set or k-fold CV\n",
    "\n",
    "- When you have multiple types of models to choose from, usually use both!\n",
    "    + When we use the test set too much, we may have '**data leakage**'\n",
    "    + Essentially we end up training our models to the test set by using it too much\n",
    "    \n",
    "---\n",
    "\n",
    "# Training/Validation/Test or CV/Test\n",
    "\n",
    "- Instead, we sometimes split into a training, validation, and test set\n",
    "- CV can be used to replace the validation set!"
   ]
  },
  {
   "cell_type": "code",
   "execution_count": null,
   "id": "c332846b",
   "metadata": {
    "fig.align": "center",
    "lines_to_next_cell": 2,
    "out.width": "600px",
    "tags": [
     "remove_input"
    ]
   },
   "outputs": [],
   "source": [
    "%%R\n",
    "knitr::include_graphics(\"img/training_validation_test.png\")"
   ]
  },
  {
   "cell_type": "markdown",
   "id": "5e9f6c7f",
   "metadata": {},
   "source": [
    "---\n",
    "\n",
    "# Training/Validation/Test or CV/Test\n",
    "\n",
    "- Instead, we sometimes split into a training, validation, and test set\n",
    "- CV can be used to replace the validation set!"
   ]
  },
  {
   "cell_type": "code",
   "execution_count": null,
   "id": "5735fa61",
   "metadata": {
    "fig.align": "center",
    "out.width": "600px",
    "tags": [
     "remove_input"
    ]
   },
   "outputs": [],
   "source": [
    "%%R\n",
    "knitr::include_graphics(\"img/training_validation_test.png\")"
   ]
  },
  {
   "cell_type": "markdown",
   "id": "62399189",
   "metadata": {},
   "source": [
    "- Compare only the **best** model from each model type on the test set\n",
    "\n",
    "---\n",
    "\n",
    "# Recap\n",
    "\n",
    "- LASSO is similar to an MLR model but shrinks coefficients and may set some to 0\n",
    "    + Tuning parameter must be chosen (usually by CV)\n",
    "    \n",
    "- Training/Test split gives us a way to validate our model's performance\n",
    "    - CV can be used on the training set to select **tuning parameters**\n",
    "    - Helps determine the 'best' model for a class of models \n",
    "    \n",
    "- With many competing model types, determine the best from each type check performance on the test set\n"
   ]
  }
 ],
 "metadata": {
  "jupytext": {
   "cell_metadata_filter": "message,eval,tags,fig.align,out.width,warning,echo,-all",
   "main_language": "python",
   "notebook_metadata_filter": "-all"
  }
 },
 "nbformat": 4,
 "nbformat_minor": 5
}
