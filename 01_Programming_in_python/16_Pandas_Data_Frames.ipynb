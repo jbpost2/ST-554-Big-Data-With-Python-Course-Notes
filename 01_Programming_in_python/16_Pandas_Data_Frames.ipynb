{
 "cells": [
  {
   "cell_type": "raw",
   "id": "6391baa3",
   "metadata": {},
   "source": [
    "---\n",
    "title: \"Pandas Data Frames\"\n",
    "subtitle: \"Data Structures, Reading Data, Writing Functions, and More\"\n",
    "author: \"Justin Post (Some notes modified from Dr. Eric Chi)\"\n",
    "output:\n",
    "  xaringan::moon_reader:\n",
    "    seal: false\n",
    "    lib_dir: libs\n",
    "    css: [default, \"css/ncsu.css\", \"css/ncsu-fonts.css\", \"css/mycss.css\"]\n",
    "    nature:\n",
    "      beforeInit: [\"js/ncsu-scale.js\"]\n",
    "      highlightStyle: github\n",
    "      highlightLines: true\n",
    "      countIncrementalSlides: false\n",
    "      ratio: \"16:9\"\n",
    "    includes:\n",
    "      in_header: \"partials/header.html\"\n",
    "editor_options: \n",
    "  chunk_output_type: console\n",
    "---"
   ]
  },
  {
   "cell_type": "code",
   "execution_count": null,
   "id": "c2713cb3",
   "metadata": {
    "lines_to_next_cell": 2,
    "message": false,
    "tags": [
     "remove_cell"
    ],
    "warning": false
   },
   "outputs": [],
   "source": [
    "%%R\n",
    "options(htmltools.dir.version = FALSE)\n",
    "knitr::opts_chunk$set(\n",
    "  message = FALSE,\n",
    "  warning = FALSE,\n",
    "  dev = \"svg\",\n",
    "  fig.align = \"center\",\n",
    "  #fig.width = 11,\n",
    "  #fig.height = 5\n",
    "  cache = FALSE\n",
    ")\n",
    "\n",
    "# define vars\n",
    "om = par(\"mar\")\n",
    "lowtop = c(om[1],om[2],0.1,om[4])\n",
    "library(tidyverse)\n",
    "library(knitr)\n",
    "library(reticulate)\n",
    "use_python(\"C:\\\\Users\\\\jbpost2\\\\AppData\\\\Local\\\\Programs\\\\Python\\\\Python310\\\\python.exe\")\n",
    "#use_python(\"C:\\\\python\\\\python.exe\")\n",
    "options(dplyr.print_min = 5)\n",
    "options(reticulate.repl.quiet = TRUE)"
   ]
  },
  {
   "cell_type": "markdown",
   "id": "1721bae8",
   "metadata": {},
   "source": [
    "layout: false\n",
    "class: title-slide-section-red, middle"
   ]
  },
  {
   "cell_type": "markdown",
   "id": "7276e991",
   "metadata": {
    "lines_to_next_cell": 0
   },
   "source": [
    "# Pandas Data Frames\n",
    "Justin Post\n",
    "\n",
    "---\n",
    "layout: true\n",
    "\n",
    "<div class=\"my-footer\"><img src=\"img/logo.png\" style=\"height: 60px;\"/></div> \n",
    "\n",
    "---\n",
    "\n",
    "# Data Frames\n",
    "\n",
    "- Pandas data frames are a 2D data structure\n",
    "\n",
    "    + Each column is a `series` object\n",
    "    + Each column can be differing types (just like most common data sets!)\n",
    "\n",
    "---\n",
    "\n",
    "# Data Frames\n",
    "\n",
    "- Pandas data frames are a 2D data structure\n",
    "\n",
    "    + Each column is a `series` object\n",
    "    + Each column can be differing types (just like most common data sets!)\n"
   ]
  },
  {
   "cell_type": "code",
   "execution_count": null,
   "id": "b674db19",
   "metadata": {},
   "outputs": [],
   "source": [
    "import pandas as pd\n",
    "import numpy as np\n",
    "name = ['Alice', 'Bob','Charlie','Dave','Eve','Francesca','Greg']\n",
    "age = [20, 21, 22, 23, 22, 21, 22]\n",
    "major = ['Statistics', 'History', 'Chemistry', 'English', 'Math', 'Civil Engineering','Statistics']\n",
    "my_df = pd.DataFrame(zip(name, age, major), columns = [\"name\", \"age\", \"major\"])\n",
    "my_df"
   ]
  },
  {
   "cell_type": "markdown",
   "id": "0e8373ff",
   "metadata": {},
   "source": [
    "---\n",
    "\n",
    "# Creating a Data Frame from a Dictionary\n",
    "\n",
    "- The `pd.DataFrame()` function can create data frames from many objects"
   ]
  },
  {
   "cell_type": "code",
   "execution_count": null,
   "id": "820c0976",
   "metadata": {
    "lines_to_next_cell": 2
   },
   "outputs": [],
   "source": [
    "people = {'Name': ['Alice', 'Bob','Charlie','Dave','Eve','Francesca','Greg'],\n",
    "          'Age': [20, 21, 22, 23, 22, 21, 22],\n",
    "          'Major': ['Statistics', 'History', 'Chemistry', 'English', 'Math', 'Civil Engineering','Statistics'],\n",
    "         }\n",
    "people\n",
    "my_df = pd.DataFrame(people)\n",
    "my_df"
   ]
  },
  {
   "cell_type": "markdown",
   "id": "69866be7",
   "metadata": {},
   "source": [
    "---\n",
    "\n",
    "# Creating a Data Frame from a NumPy Array\n",
    "\n",
    "- The `pd.DataFrame()` function can create data frames from many objects"
   ]
  },
  {
   "cell_type": "code",
   "execution_count": null,
   "id": "a6004e28",
   "metadata": {
    "lines_to_next_cell": 0
   },
   "outputs": [],
   "source": [
    "my_array = np.random.random((5,3))\n",
    "my_array\n",
    "\n",
    "my_df2 = pd.DataFrame(my_array, columns=[\"1st\", \"2nd\", \"3rd\"], index=[\"a\", \"b\", \"c\", \"d\", \"e\"])\n",
    "my_df2"
   ]
  },
  {
   "cell_type": "markdown",
   "id": "71e66317",
   "metadata": {},
   "source": []
  },
  {
   "cell_type": "markdown",
   "id": "67c7f7e1",
   "metadata": {
    "lines_to_next_cell": 0
   },
   "source": [
    "---\n",
    "\n",
    "# Indexing a Data Frame's Columns\n",
    "\n",
    "- Access the columns using the column names\n",
    "\n",
    ".left45["
   ]
  },
  {
   "cell_type": "code",
   "execution_count": null,
   "id": "2a7e1a65",
   "metadata": {
    "lines_to_next_cell": 0
   },
   "outputs": [],
   "source": [
    "my_df2.columns\n",
    "my_df2[\"1st\"]\n",
    "type(my_df2[\"1st\"])"
   ]
  },
  {
   "cell_type": "markdown",
   "id": "14c37ba9",
   "metadata": {
    "lines_to_next_cell": 0
   },
   "source": [
    "]\n",
    "\n",
    "---\n",
    "\n",
    "# Indexing a Data Frame's Columns\n",
    "\n",
    "- Access the columns using the column names\n",
    "\n",
    ".left45["
   ]
  },
  {
   "cell_type": "code",
   "execution_count": null,
   "id": "963f0952",
   "metadata": {
    "lines_to_next_cell": 0
   },
   "outputs": [],
   "source": [
    "my_df2.columns\n",
    "my_df2[\"1st\"]\n",
    "type(my_df2[\"1st\"])"
   ]
  },
  {
   "cell_type": "markdown",
   "id": "b5979bf9",
   "metadata": {
    "lines_to_next_cell": 0
   },
   "source": [
    "]\n",
    ".left25[\n",
    "&nbsp;&nbsp;&nbsp;&nbsp;&nbsp;&nbsp;&nbsp;&nbsp;&nbsp;&nbsp;\n",
    "]\n",
    ".left45["
   ]
  },
  {
   "cell_type": "code",
   "execution_count": null,
   "id": "8a8b80c9",
   "metadata": {
    "lines_to_next_cell": 0
   },
   "outputs": [],
   "source": [
    "my_df.columns\n",
    "my_df.Major\n",
    "type(my_df.Major)"
   ]
  },
  {
   "cell_type": "markdown",
   "id": "a7cf623f",
   "metadata": {},
   "source": [
    "]\n",
    "\n",
    "---\n",
    "\n",
    "# Indexing a Data Frame's Columns\n",
    "\n",
    "- Returning more than one column is easy"
   ]
  },
  {
   "cell_type": "code",
   "execution_count": null,
   "id": "b9dbfa7e",
   "metadata": {
    "lines_to_next_cell": 2
   },
   "outputs": [],
   "source": [
    "my_df[['Name', 'Age']]"
   ]
  },
  {
   "cell_type": "markdown",
   "id": "f930ea3c",
   "metadata": {
    "lines_to_next_cell": 0
   },
   "source": [
    "---\n",
    "\n",
    "# Indexing a Data Frame's Rows\n",
    "\n",
    "- Can access rows by their integer location using `.iloc[]`\n",
    "\n",
    ".left45["
   ]
  },
  {
   "cell_type": "code",
   "execution_count": null,
   "id": "327a0cf0",
   "metadata": {
    "lines_to_next_cell": 0
   },
   "outputs": [],
   "source": [
    "my_df.iloc[0]\n",
    "my_df.iloc[1]\n",
    "type(my_df.iloc[1])"
   ]
  },
  {
   "cell_type": "markdown",
   "id": "b20d49f4",
   "metadata": {},
   "source": [
    "]\n",
    ".left25[\n",
    "&nbsp;&nbsp;&nbsp;&nbsp;&nbsp;&nbsp;&nbsp;&nbsp;&nbsp;&nbsp;\n",
    "]"
   ]
  },
  {
   "cell_type": "markdown",
   "id": "2189c028",
   "metadata": {
    "lines_to_next_cell": 0
   },
   "source": [
    "---\n",
    "\n",
    "# Indexing a Data Frame's Rows\n",
    "\n",
    "- Can access rows by their integer location using `.iloc[]`\n",
    "\n",
    ".left45["
   ]
  },
  {
   "cell_type": "code",
   "execution_count": null,
   "id": "e963781c",
   "metadata": {
    "lines_to_next_cell": 0
   },
   "outputs": [],
   "source": [
    "my_df.iloc[0]\n",
    "my_df.iloc[1]\n",
    "type(my_df.iloc[1])"
   ]
  },
  {
   "cell_type": "markdown",
   "id": "64a68277",
   "metadata": {
    "lines_to_next_cell": 0
   },
   "source": [
    "]\n",
    ".left25[\n",
    "&nbsp;&nbsp;&nbsp;&nbsp;&nbsp;&nbsp;&nbsp;&nbsp;&nbsp;&nbsp;\n",
    "]\n",
    ".left45["
   ]
  },
  {
   "cell_type": "code",
   "execution_count": null,
   "id": "383d41a4",
   "metadata": {
    "lines_to_next_cell": 0
   },
   "outputs": [],
   "source": [
    "my_df.iloc[[0,1]]\n",
    "my_df.iloc[range(0,3)]"
   ]
  },
  {
   "cell_type": "markdown",
   "id": "9decab00",
   "metadata": {},
   "source": [
    "]\n"
   ]
  },
  {
   "cell_type": "markdown",
   "id": "55b3093b",
   "metadata": {},
   "source": [
    "---\n",
    "\n",
    "# Indexing a Data Frame's Rows & Columns\n",
    "\n",
    "- `.iloc[]` allows for subsetting of columns by location too!"
   ]
  },
  {
   "cell_type": "code",
   "execution_count": null,
   "id": "4c88108e",
   "metadata": {
    "lines_to_next_cell": 2
   },
   "outputs": [],
   "source": [
    "my_df.iloc[[0,1], [0, 2]]\n",
    "my_df.iloc[3:6, 0:2]"
   ]
  },
  {
   "cell_type": "markdown",
   "id": "c096f566",
   "metadata": {
    "lines_to_next_cell": 0
   },
   "source": [
    "---\n",
    "\n",
    "# Indexing a Data Frame's Rows & Columns\n",
    "\n",
    "- `.loc[]` allows for subsetting based on indices **or** names\n",
    "\n",
    ".left45["
   ]
  },
  {
   "cell_type": "code",
   "execution_count": null,
   "id": "4f7ac738",
   "metadata": {
    "lines_to_next_cell": 0
   },
   "outputs": [],
   "source": [
    "my_df.loc[0]\n",
    "my_df.loc[[0, 3], [\"Name\", \"Major\"]]"
   ]
  },
  {
   "cell_type": "markdown",
   "id": "e066ad3b",
   "metadata": {
    "lines_to_next_cell": 0
   },
   "source": [
    "]\n",
    ".left25[\n",
    "&nbsp;&nbsp;&nbsp;&nbsp;&nbsp;&nbsp;&nbsp;&nbsp;&nbsp;&nbsp;\n",
    "]\n",
    ".left45["
   ]
  },
  {
   "cell_type": "code",
   "execution_count": null,
   "id": "aa6a4c76",
   "metadata": {
    "lines_to_next_cell": 0
   },
   "outputs": [],
   "source": [
    "my_df2\n",
    "my_df2.loc[\"b\"]\n",
    "my_df2.loc[[\"b\"], [\"1st\"]]"
   ]
  },
  {
   "cell_type": "markdown",
   "id": "2d5298b4",
   "metadata": {},
   "source": [
    "]"
   ]
  },
  {
   "cell_type": "markdown",
   "id": "a436c24d",
   "metadata": {},
   "source": [
    "---\n",
    "\n",
    "# Indexing a Data Frame's Rows & Columns\n",
    "\n",
    "- Slicing can also be used... but it includes the upper index with `.loc[]` (`.iloc[]` still does not)"
   ]
  },
  {
   "cell_type": "code",
   "execution_count": null,
   "id": "6e3066ca",
   "metadata": {
    "lines_to_next_cell": 2
   },
   "outputs": [],
   "source": [
    "my_df.iloc[:3, [0,2]]\n",
    "my_df.loc[:3, ['Name', \"Major\"]]"
   ]
  },
  {
   "cell_type": "markdown",
   "id": "fcc1db1c",
   "metadata": {},
   "source": [
    "---\n",
    "\n",
    "# Indexing a Data Frame's Rows & Columns\n",
    "\n",
    "- Often use a Boolean object to subset (`True` gets returned, `False` does not)\n",
    "\n",
    "- Note: `my_df[...]` can return either columns or rows. If given a numbers, it returns the corresponding rows. If given a sequence of `True/False` values of the same length as the number of rows, it returns rows where `True` occurred. If you give it a column name or a list of column names, it will return those columns."
   ]
  },
  {
   "cell_type": "code",
   "execution_count": null,
   "id": "56e93dde",
   "metadata": {},
   "outputs": [],
   "source": [
    "my_df['Name'] == 'Alice'\n",
    "my_df[my_df['Name'] == 'Alice']"
   ]
  },
  {
   "cell_type": "markdown",
   "id": "91cb5fc8",
   "metadata": {
    "lines_to_next_cell": 0
   },
   "source": [
    "---\n",
    "\n",
    "# Indexing a Data Frame's Rows & Columns\n",
    "\n",
    "- `&` (and), `|` (or), `~` (not), `^` (xor)\n",
    "\n",
    ".left35["
   ]
  },
  {
   "cell_type": "code",
   "execution_count": null,
   "id": "ce17ad69",
   "metadata": {
    "lines_to_next_cell": 0
   },
   "outputs": [],
   "source": [
    "(my_df['Name'] == 'Alice')"
   ]
  },
  {
   "cell_type": "markdown",
   "id": "3f475084",
   "metadata": {
    "lines_to_next_cell": 0
   },
   "source": [
    "]\n",
    ".left25[\n",
    "&nbsp;&nbsp;&nbsp;&nbsp;&nbsp;&nbsp;&nbsp;&nbsp;&nbsp;&nbsp;\n",
    "]\n",
    ".left35["
   ]
  },
  {
   "cell_type": "code",
   "execution_count": null,
   "id": "25f975aa",
   "metadata": {
    "lines_to_next_cell": 0
   },
   "outputs": [],
   "source": [
    "(my_df['Name'] == 'Greg')"
   ]
  },
  {
   "cell_type": "markdown",
   "id": "bd1361b1",
   "metadata": {},
   "source": [
    "]\n",
    "\n",
    "<br>\n",
    "<br>\n",
    "<br>\n",
    "<br>\n",
    "<br>\n",
    "<br>\n",
    "<br>\n",
    "<br>"
   ]
  },
  {
   "cell_type": "code",
   "execution_count": null,
   "id": "e7589df2",
   "metadata": {},
   "outputs": [],
   "source": [
    "my_df[(my_df['Name'] == 'Alice') | (my_df['Name'] == 'Greg')]"
   ]
  },
  {
   "cell_type": "markdown",
   "id": "70dcc467",
   "metadata": {
    "lines_to_next_cell": 0
   },
   "source": [
    "---\n",
    "\n",
    "# Indexing a Data Frame's Rows & Columns\n",
    "\n",
    "- `&` (and), `|` (or), `~` (not), `^` (xor)\n",
    "\n",
    ".left35["
   ]
  },
  {
   "cell_type": "code",
   "execution_count": null,
   "id": "a4688be5",
   "metadata": {
    "lines_to_next_cell": 0
   },
   "outputs": [],
   "source": [
    "my_df['Major'] == 'Statistics'"
   ]
  },
  {
   "cell_type": "markdown",
   "id": "1840c2b2",
   "metadata": {
    "lines_to_next_cell": 0
   },
   "source": [
    "]\n",
    ".left35["
   ]
  },
  {
   "cell_type": "code",
   "execution_count": null,
   "id": "1ecd3cb8",
   "metadata": {
    "lines_to_next_cell": 0
   },
   "outputs": [],
   "source": [
    "my_df['Major'] == 'History'"
   ]
  },
  {
   "cell_type": "markdown",
   "id": "6b9b4fd2",
   "metadata": {
    "lines_to_next_cell": 0
   },
   "source": [
    "]\n",
    ".left30["
   ]
  },
  {
   "cell_type": "code",
   "execution_count": null,
   "id": "8d78f126",
   "metadata": {
    "lines_to_next_cell": 0
   },
   "outputs": [],
   "source": [
    "my_df['Age'] < 22"
   ]
  },
  {
   "cell_type": "markdown",
   "id": "0fed02b4",
   "metadata": {
    "lines_to_next_cell": 0
   },
   "source": [
    "]\n",
    "\n",
    "<br>\n",
    "<br>"
   ]
  },
  {
   "cell_type": "code",
   "execution_count": null,
   "id": "f987a5d1",
   "metadata": {
    "lines_to_next_cell": 0
   },
   "outputs": [],
   "source": [
    "my_df[((my_df['Major'] == 'Statistics') | (my_df['Major'] == 'History')) & (my_df['Age'] < 22)]"
   ]
  },
  {
   "cell_type": "markdown",
   "id": "9162bcbc",
   "metadata": {},
   "source": [
    "\n"
   ]
  },
  {
   "cell_type": "markdown",
   "id": "7df67b62",
   "metadata": {},
   "source": [
    "---\n",
    "\n",
    "# Operations on Data Frames\n",
    "\n",
    "- `.head` and `.tail` methods give the first few and last rows, respectively"
   ]
  },
  {
   "cell_type": "code",
   "execution_count": null,
   "id": "7c1d0371",
   "metadata": {
    "lines_to_next_cell": 0
   },
   "outputs": [],
   "source": [
    "my_df.head()\n",
    "my_df.tail()"
   ]
  },
  {
   "cell_type": "markdown",
   "id": "19f4fe7e",
   "metadata": {},
   "source": []
  },
  {
   "cell_type": "markdown",
   "id": "7aaad805",
   "metadata": {
    "lines_to_next_cell": 0
   },
   "source": [
    "---\n",
    "\n",
    "# Operations on Data Frames\n",
    "\n",
    "- `shape` attribute contains the dimensions of the data frame\n",
    "\n",
    ".left45["
   ]
  },
  {
   "cell_type": "code",
   "execution_count": null,
   "id": "84f9998d",
   "metadata": {
    "lines_to_next_cell": 0
   },
   "outputs": [],
   "source": [
    "my_df\n",
    "my_df.shape"
   ]
  },
  {
   "cell_type": "markdown",
   "id": "a1b736e4",
   "metadata": {
    "lines_to_next_cell": 0
   },
   "source": [
    "]\n",
    ".left25[\n",
    "&nbsp;&nbsp;&nbsp;&nbsp;&nbsp;&nbsp;&nbsp;&nbsp;&nbsp;&nbsp;\n",
    "]\n",
    ".left45["
   ]
  },
  {
   "cell_type": "code",
   "execution_count": null,
   "id": "6b486819",
   "metadata": {
    "lines_to_next_cell": 0
   },
   "outputs": [],
   "source": [
    "my_df2\n",
    "my_df2.shape"
   ]
  },
  {
   "cell_type": "markdown",
   "id": "96e5aab9",
   "metadata": {},
   "source": [
    "]\n",
    "\n",
    "---\n",
    "\n",
    "# Operations on Data Frames\n",
    "\n",
    "- Obtain a quick contingency table with `.value_counts()` on a column"
   ]
  },
  {
   "cell_type": "code",
   "execution_count": null,
   "id": "635ae48c",
   "metadata": {
    "lines_to_next_cell": 2
   },
   "outputs": [],
   "source": [
    "my_df[\"Major\"].value_counts()"
   ]
  },
  {
   "cell_type": "markdown",
   "id": "c4adb0ef",
   "metadata": {},
   "source": [
    "---\n",
    "\n",
    "# Operations on Data Frames\n",
    "\n",
    "- `.info()` method gives information about the data frame"
   ]
  },
  {
   "cell_type": "code",
   "execution_count": null,
   "id": "fe720f9c",
   "metadata": {},
   "outputs": [],
   "source": [
    "my_df.info()\n",
    "my_df2.info()"
   ]
  },
  {
   "cell_type": "markdown",
   "id": "e51c9693",
   "metadata": {},
   "source": [
    "---\n",
    "\n",
    "# To JupyterLab!\n",
    "\n",
    "- Create a data frame\n",
    "\n",
    "    + Add a new column \n",
    "    + Reorder the rows/columns with `.sort_value`\n",
    "    \n",
    "- See a few other methods such as\n",
    "\n",
    "    + `.dropna()`: removes rows with empty cells (returns a new dataset; add inplace = True to replace)\n",
    "    + `.fillna()`: replaces missing values with something\n",
    "    + `my_df.describe()` and other basic stats\n",
    "\n",
    "\n",
    "---\n",
    "\n",
    "# Recap\n",
    "\n",
    "- Data Frames are great for storing a data set \n",
    "\n",
    "    + Rows = observations, Columns = variables\n",
    "    \n",
    "    + Many ways to create them (from a dictionary, list, array, etc.)\n",
    "    \n",
    "    + Index columns with `[col_name]` or .col_name attribute\n",
    "    \n",
    "    + Index rows with `.iloc[]` or `.loc[]`\n",
    "    \n",
    "        * Or index rows and columns together (ex: `.loc[rows, columns]`\n",
    "\n",
    "    + `.info()`, `.head()` useful!\n"
   ]
  }
 ],
 "metadata": {
  "jupytext": {
   "cell_metadata_filter": "message,tags,warning,-all",
   "main_language": "python",
   "notebook_metadata_filter": "-all"
  }
 },
 "nbformat": 4,
 "nbformat_minor": 5
}
