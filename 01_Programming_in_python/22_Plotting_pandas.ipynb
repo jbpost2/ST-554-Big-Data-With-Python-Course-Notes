{
 "cells": [
  {
   "cell_type": "raw",
   "id": "ff0ab7ec",
   "metadata": {},
   "source": [
    "---\n",
    "title: \"Plotting with `pandas`\"\n",
    "author: \"Justin Post\"\n",
    "output:\n",
    "  xaringan::moon_reader:\n",
    "    seal: false\n",
    "    lib_dir: libs\n",
    "    css: [default, \"css/ncsu.css\", \"css/ncsu-fonts.css\", \"css/mycss.css\"]\n",
    "    nature:\n",
    "      beforeInit: [\"js/ncsu-scale.js\"]\n",
    "      highlightStyle: github\n",
    "      highlightLines: true\n",
    "      countIncrementalSlides: false\n",
    "      ratio: \"16:9\"\n",
    "    includes:\n",
    "      in_header: \"partials/header.html\"\n",
    "editor_options: \n",
    "  chunk_output_type: console\n",
    "---"
   ]
  },
  {
   "cell_type": "code",
   "execution_count": null,
   "id": "2772e7da",
   "metadata": {
    "lines_to_next_cell": 2,
    "message": false,
    "tags": [
     "remove_cell"
    ],
    "warning": false
   },
   "outputs": [],
   "source": [
    "%%R\n",
    "options(htmltools.dir.version = FALSE)\n",
    "knitr::opts_chunk$set(\n",
    "  message = FALSE,\n",
    "  warning = FALSE,\n",
    "  dev = \"svg\",\n",
    "  fig.align = \"center\",\n",
    "  #fig.width = 11,\n",
    "  #fig.height = 5\n",
    "  cache = FALSE\n",
    ")\n",
    "\n",
    "# define vars\n",
    "om = par(\"mar\")\n",
    "lowtop = c(om[1],om[2],0.1,om[4])\n",
    "library(tidyverse)\n",
    "library(knitr)\n",
    "library(reticulate)\n",
    "use_python(\"C:\\\\Users\\\\jbpost2\\\\AppData\\\\Local\\\\Programs\\\\Python\\\\Python310\\\\python.exe\")\n",
    "#use_python(\"C:\\\\python\\\\python.exe\")\n",
    "options(dplyr.print_min = 5)\n",
    "options(reticulate.repl.quiet = TRUE)"
   ]
  },
  {
   "cell_type": "markdown",
   "id": "6cddcfc1",
   "metadata": {},
   "source": [
    "layout: false\n",
    "class: title-slide-section-red, middle"
   ]
  },
  {
   "cell_type": "markdown",
   "id": "86d9de9e",
   "metadata": {},
   "source": [
    "# Plotting with `pandas`\n",
    "Justin Post\n",
    "\n",
    "---\n",
    "\n",
    "# Making Sense of Data\n",
    "\n",
    "- Understand types of data and their distributions  \n",
    "\n",
    "- Graphical summaries (across subgroups)  \n",
    "\n",
    "    + Bar plots (categorical data)   \n",
    "    + Histograms  \n",
    "    + Box plots  \n",
    "    + Scatter plots\n",
    "\n",
    "- We'll create some of the same plots from the previous lecture (same data processing done)"
   ]
  },
  {
   "cell_type": "code",
   "execution_count": null,
   "id": "5a9e7cfe",
   "metadata": {
    "tags": [
     "remove_input"
    ]
   },
   "outputs": [],
   "source": [
    "import numpy as np\n",
    "import matplotlib.pyplot as plt\n",
    "import pandas as pd\n",
    "#readin data\n",
    "titanic_data = pd.read_csv(\"https://www4.stat.ncsu.edu/~online/datasets/titanic.csv\")\n",
    "#remove some columns and a bad row\n",
    "sub_titanic_data = titanic_data.drop(columns = [\"body\", \"cabin\", \"boat\"], axis = 1) \\\n",
    "                               .iloc[:(titanic_data.shape[0]-1)]\n",
    "#create category versions of the variables (some code omitted)\n",
    "sub_titanic_data[\"embarkedC\"] = sub_titanic_data.embarked.astype(\"category\")\n",
    "sub_titanic_data.embarkedC = sub_titanic_data.embarkedC.cat.rename_categories(\n",
    "                                    [\"Cherbourg\", \"Queenstown\", \"Southampton\"])\n",
    "sub_titanic_data[\"sexC\"] = sub_titanic_data.sex.astype(\"category\")\n",
    "sub_titanic_data.sexC = sub_titanic_data.sexC.cat.rename_categories([\"Female\", \"Male\"])\n",
    "sub_titanic_data[\"survivedC\"] = sub_titanic_data.survived.astype(\"category\")\n",
    "sub_titanic_data.survivedC = sub_titanic_data.survivedC.cat.rename_categories([\"Died\", \"Survived\"])"
   ]
  },
  {
   "cell_type": "markdown",
   "id": "d2f2be7a",
   "metadata": {
    "lines_to_next_cell": 0
   },
   "source": [
    "---\n",
    "\n",
    "# Barplots with `pandas`\n",
    "\n",
    "- Barplots via `.plot.bar()` method on a `series` or `dataframe`\n",
    "- Alternative: `.plot()` method with `kind = 'bar'`\n",
    "\n",
    ".left50["
   ]
  },
  {
   "cell_type": "code",
   "execution_count": null,
   "id": "54c1dbac",
   "metadata": {
    "fig.align": "center",
    "lines_to_next_cell": 0,
    "message": false,
    "out.width": "450px",
    "warning": false
   },
   "outputs": [],
   "source": [
    "table = sub_titanic_data.embarkedC.value_counts()\n",
    "table #a series"
   ]
  },
  {
   "cell_type": "markdown",
   "id": "48543d29",
   "metadata": {
    "lines_to_next_cell": 0
   },
   "source": [
    "]\n",
    ".right50["
   ]
  },
  {
   "cell_type": "code",
   "execution_count": null,
   "id": "0029c5ff",
   "metadata": {
    "fig.align": "center",
    "lines_to_next_cell": 0,
    "out.height": "350px",
    "out.width": "450px"
   },
   "outputs": [],
   "source": [
    "table.plot.bar()"
   ]
  },
  {
   "cell_type": "markdown",
   "id": "88a1469e",
   "metadata": {},
   "source": [
    "]"
   ]
  },
  {
   "cell_type": "markdown",
   "id": "e896e773",
   "metadata": {},
   "source": [
    "---\n",
    "\n",
    "# Barplots with `pandas`\n",
    "\n",
    "- Barplots via `.plot.bar()` method on a `series` or `dataframe`\n",
    "- Alternative: `.plot()` method with `kind = 'bar'`"
   ]
  },
  {
   "cell_type": "code",
   "execution_count": null,
   "id": "9b099b9b",
   "metadata": {
    "fig.align": "center",
    "lines_to_next_cell": 2,
    "message": false,
    "out.height": "250px",
    "out.width": "400px",
    "warning": false
   },
   "outputs": [],
   "source": [
    "table.plot.bar()\n",
    "plt.xticks(rotation = 0)\n",
    "plt.show()"
   ]
  },
  {
   "cell_type": "markdown",
   "id": "7f29d6d8",
   "metadata": {},
   "source": [
    "---\n",
    "\n",
    "# Barplots with `pandas`\n",
    "\n",
    "- Barplots via `.plot.bar()` method on a `series` or `dataframe`\n",
    "- Alternative: `.plot()` method with `kind = 'bar'`"
   ]
  },
  {
   "cell_type": "code",
   "execution_count": null,
   "id": "5cc2b56b",
   "metadata": {
    "fig.align": "center",
    "out.height": "250px",
    "out.width": "450px"
   },
   "outputs": [],
   "source": [
    "table.plot(kind = \"bar\", rot = 0) #can use additional arg rather than additional function call"
   ]
  },
  {
   "cell_type": "markdown",
   "id": "ee1d1cd0",
   "metadata": {},
   "source": [
    "---\n",
    "\n",
    "# Stacked Barplot with `pandas`\n",
    "\n",
    "- Color the bars by another categorical variable in the `dataframe`"
   ]
  },
  {
   "cell_type": "code",
   "execution_count": null,
   "id": "41b325c6",
   "metadata": {
    "fig.align": "center",
    "lines_to_next_cell": 2,
    "message": false,
    "out.height": "250px",
    "out.width": "450px",
    "warning": false
   },
   "outputs": [],
   "source": [
    "table = pd.crosstab(sub_titanic_data[\"embarkedC\"], sub_titanic_data[\"survivedC\"])\n",
    "table.plot.bar(stacked = True, rot = 0) # or table.plot(stacked = True, kind = \"bar\", rot = 0)"
   ]
  },
  {
   "cell_type": "markdown",
   "id": "fbad15aa",
   "metadata": {},
   "source": [
    "---\n",
    "\n",
    "# Side-by-Side Barplots with `pandas`\n",
    "\n",
    "- Place bars next to each other for easier comparison"
   ]
  },
  {
   "cell_type": "code",
   "execution_count": null,
   "id": "0a57b00a",
   "metadata": {
    "fig.align": "center",
    "lines_to_next_cell": 2,
    "message": false,
    "out.height": "250px",
    "out.width": "450px",
    "results": false,
    "warning": false
   },
   "outputs": [],
   "source": [
    "table = pd.crosstab(sub_titanic_data[\"embarkedC\"], sub_titanic_data[\"survivedC\"])\n",
    "table.plot.bar(rot = 0)"
   ]
  },
  {
   "cell_type": "markdown",
   "id": "595ca046",
   "metadata": {},
   "source": [
    "---\n",
    "\n",
    "# Plotting Numeric Variables    \n",
    "\n",
    "Numeric variable - entries are a numerical value where math can be performed\n",
    "\n",
    "Goal: describe the shape, center, and spread\n",
    "- Generally, via a histogram or boxplot!  \n",
    "- **Histogram** - Bins data to show distribution of observations\n",
    "- via `.plot.hist()` or `.plot(kind = \"hist\")` method\n",
    "- A `.hist()` method also exists!"
   ]
  },
  {
   "cell_type": "markdown",
   "id": "270b7d19",
   "metadata": {},
   "source": [
    "---\n",
    "\n",
    "# Histogram with `pandas`\n",
    "\n",
    "- **Histogram** - Bins data to show distribution of observations"
   ]
  },
  {
   "cell_type": "code",
   "execution_count": null,
   "id": "8f272405",
   "metadata": {
    "fig.align": "center",
    "lines_to_next_cell": 2,
    "message": false,
    "out.width": "350px",
    "results": false,
    "warning": false
   },
   "outputs": [],
   "source": [
    "sub_titanic_data[\"age\"].plot.hist()\n",
    "plt.xlabel(\"Age\")\n",
    "plt.title(\"Histogram of Age for Titanic Passengers\"); plt.show()"
   ]
  },
  {
   "cell_type": "markdown",
   "id": "5fc787a9",
   "metadata": {},
   "source": [
    "---\n",
    "\n",
    "# Histogram with `pandas`\n",
    "\n",
    "- Specify # of bins"
   ]
  },
  {
   "cell_type": "code",
   "execution_count": null,
   "id": "c287300b",
   "metadata": {
    "fig.align": "center",
    "lines_to_next_cell": 2,
    "message": false,
    "out.width": "350px",
    "results": false,
    "warning": false
   },
   "outputs": [],
   "source": [
    "#can add label/title here (xlabel doesn't seem to work as intended...)\n",
    "sub_titanic_data.age.plot.hist(bins = 20, title = \"Histogram of Age for Titanic Passengers\") \\\n",
    "    .set(xlabel = \"Age\") "
   ]
  },
  {
   "cell_type": "markdown",
   "id": "5fb16c79",
   "metadata": {},
   "source": [
    "---\n",
    "\n",
    "# Histogram with `pandas`\n",
    "\n",
    "- To overlay on the same graph create two histograms and use `alpha = 0-1 value` \n",
    "    + First set up the bins manually so they are the same bins"
   ]
  },
  {
   "cell_type": "code",
   "execution_count": null,
   "id": "a379cf24",
   "metadata": {
    "message": false,
    "warning": false
   },
   "outputs": [],
   "source": [
    "bin_ends = 10 #Ideally want same bins, set those ourselves\n",
    "bins = [i*max(sub_titanic_data.age)/bin_ends for i in range(0, bin_ends + 1)]\n",
    "print(bins)"
   ]
  },
  {
   "cell_type": "markdown",
   "id": "decfc94e",
   "metadata": {
    "lines_to_next_cell": 0
   },
   "source": [
    "- Obtain subsets of data needed"
   ]
  },
  {
   "cell_type": "code",
   "execution_count": null,
   "id": "75efbdc2",
   "metadata": {
    "fig.align": "center",
    "lines_to_next_cell": 2,
    "out.width": "325px"
   },
   "outputs": [],
   "source": [
    "age_died = sub_titanic_data.loc[sub_titanic_data.survivedC == \"Died\", \"age\"] #series for died\n",
    "age_survived = sub_titanic_data.loc[sub_titanic_data.survivedC == \"Survived\", \"age\"] #series for survived"
   ]
  },
  {
   "cell_type": "markdown",
   "id": "1100ed69",
   "metadata": {},
   "source": [
    "---\n",
    "\n",
    "# Histogram with `pandas`\n",
    "\n",
    "- To overlay on the same graph create two histograms and use `alpha = 0-1 value` "
   ]
  },
  {
   "cell_type": "code",
   "execution_count": null,
   "id": "b2a5ca21",
   "metadata": {
    "eval": true,
    "fig.align": "center",
    "lines_to_next_cell": 2,
    "message": false,
    "out.width": "350px",
    "results": false,
    "warning": false
   },
   "outputs": [],
   "source": [
    "age_died.plot.hist(bins = bins, alpha = 0.5, label = \"Died\", \n",
    "                   title = \"Ages for those that survived vs those that died\") \\\n",
    "                   .set(xlabel = \"Age\")\n",
    "age_survived.plot.hist(bins = bins, alpha = 0.5, label = \"Survived\")\n",
    "plt.legend(); plt.show()"
   ]
  },
  {
   "cell_type": "markdown",
   "id": "4bbf9e87",
   "metadata": {},
   "source": [
    "---\n",
    "\n",
    "# Histogram with `pandas`\n",
    "\n",
    "- `pandas` will automatically overlay data from different columns of the **same** data frame\n",
    "- Just to show that:"
   ]
  },
  {
   "cell_type": "code",
   "execution_count": null,
   "id": "7fae3306",
   "metadata": {
    "fig.align": "center",
    "lines_to_next_cell": 2,
    "out.width": "325px"
   },
   "outputs": [],
   "source": [
    "age_died = sub_titanic_data.loc[sub_titanic_data.survivedC == \"Died\", \"age\"] #809 values\n",
    "age_survived = sub_titanic_data.loc[sub_titanic_data.survivedC == \"Survived\", \"age\"] #500 values\n",
    "temp = pd.DataFrame(zip(age_died, age_survived), columns = [\"Died\", \"Survived\"]) #only has 500 rows\n",
    "temp.plot.hist(alpha = 0.5)"
   ]
  },
  {
   "cell_type": "markdown",
   "id": "3e88b7b6",
   "metadata": {},
   "source": [
    "---\n",
    "\n",
    "# Histogram with `pandas`\n",
    "\n",
    "- Kind of funky when the number in each group differ though...\n",
    "\n",
    "Just a quick note:"
   ]
  },
  {
   "cell_type": "code",
   "execution_count": null,
   "id": "f209ee0e",
   "metadata": {
    "lines_to_next_cell": 0
   },
   "outputs": [],
   "source": [
    "age_survived\n",
    "age_survived[0:5] #Note: matched index and only returns those!"
   ]
  },
  {
   "cell_type": "markdown",
   "id": "a370a1bd",
   "metadata": {},
   "source": []
  },
  {
   "cell_type": "markdown",
   "id": "ef0935cb",
   "metadata": {},
   "source": [
    "---\n",
    "\n",
    "# Histogram with `pandas`\n",
    "\n",
    "- Kind of funky when the number in each group differ though...\n",
    "\n",
    "Just a quick note:"
   ]
  },
  {
   "cell_type": "code",
   "execution_count": null,
   "id": "9e8c3207",
   "metadata": {
    "lines_to_next_cell": 2
   },
   "outputs": [],
   "source": [
    "age_survived.iloc[0:5] #use iloc when indices aren't 0, 1, 2, ..."
   ]
  },
  {
   "cell_type": "markdown",
   "id": "3f29e77c",
   "metadata": {
    "lines_to_next_cell": 0
   },
   "source": [
    "---\n",
    "\n",
    "# Histogram with `pandas`\n",
    "\n",
    "- Work around: Obtain same length `series` with `NaN` inserted\n",
    "\n",
    ".left45["
   ]
  },
  {
   "cell_type": "code",
   "execution_count": null,
   "id": "f7d5b2b5",
   "metadata": {
    "lines_to_next_cell": 0
   },
   "outputs": [],
   "source": [
    "list_age_survived = list(age_survived)\n",
    "list_age_survived.extend([np.nan for _ in range(308)])\n",
    "temp = pd.Series(list_age_survived) \n",
    "temp"
   ]
  },
  {
   "cell_type": "markdown",
   "id": "d1b0a49e",
   "metadata": {
    "lines_to_next_cell": 0
   },
   "source": [
    "]\n",
    "\n",
    "---\n",
    "\n",
    "# Histogram with `pandas`\n",
    "\n",
    "- Work around: Obtain same length `series` with `NaN` inserted\n",
    "\n",
    ".left50["
   ]
  },
  {
   "cell_type": "code",
   "execution_count": null,
   "id": "b3a190f6",
   "metadata": {
    "lines_to_next_cell": 0
   },
   "outputs": [],
   "source": [
    "list_age_survived = list(age_survived)\n",
    "list_age_survived.extend([np.nan for _ in range(308)])\n",
    "temp = pd.Series(list_age_survived) \n",
    "temp"
   ]
  },
  {
   "cell_type": "markdown",
   "id": "b19ddea9",
   "metadata": {
    "lines_to_next_cell": 0
   },
   "source": [
    "]\n",
    ".right50["
   ]
  },
  {
   "cell_type": "code",
   "execution_count": null,
   "id": "7d42a600",
   "metadata": {
    "lines_to_next_cell": 0
   },
   "outputs": [],
   "source": [
    "plotting_df = pd.DataFrame(zip(age_died, temp), \n",
    "                      columns = [\"Died\", \"Survived\"])\n",
    "plotting_df.tail()"
   ]
  },
  {
   "cell_type": "markdown",
   "id": "bffe6f9c",
   "metadata": {},
   "source": [
    "]"
   ]
  },
  {
   "cell_type": "markdown",
   "id": "a7183fc4",
   "metadata": {},
   "source": [
    "---\n",
    "\n",
    "# Histogram with `pandas`\n",
    "\n",
    "- Overlay automatic when `.plot.hist()` method used with two numeric columns"
   ]
  },
  {
   "cell_type": "code",
   "execution_count": null,
   "id": "2c7305cf",
   "metadata": {
    "fig.align": "center",
    "lines_to_next_cell": 2,
    "out.width": "350px"
   },
   "outputs": [],
   "source": [
    "plotting_df.plot.hist(alpha = 0.5, title = \"Ages for those that survived vs those that died\") \\\n",
    "    .set(xlabel = \"Age\")"
   ]
  },
  {
   "cell_type": "markdown",
   "id": "c0998783",
   "metadata": {},
   "source": [
    "---\n",
    "\n",
    "# Histogram with `pandas`\n",
    "\n",
    "- Can place two graphs next to each other with `.hist()` method (notice this is a different method! (and different bin widths too!)"
   ]
  },
  {
   "cell_type": "code",
   "execution_count": null,
   "id": "41f215f3",
   "metadata": {
    "fig.align": "center",
    "lines_to_next_cell": 2,
    "out.width": "300px"
   },
   "outputs": [],
   "source": [
    "sub_titanic_data.hist(column = \"age\", by = \"survivedC\")\n",
    "plt.show()"
   ]
  },
  {
   "cell_type": "markdown",
   "id": "a11a579c",
   "metadata": {},
   "source": [
    "---\n",
    "\n",
    "# Kernel smoother with `pandas`\n",
    "\n",
    "- **Kernel Smoother** - Smoothed version of a histogram  \n",
    "- 'Kernel' determines weight given to nearby points    \n",
    "    + Use `.plot.density()` or `plot(kind = \"density\")` method"
   ]
  },
  {
   "cell_type": "markdown",
   "id": "baf90d37",
   "metadata": {},
   "source": [
    "---\n",
    "\n",
    "# Kernel smoother with `pandas`\n",
    "\n",
    "- **Kernel Smoother** - Smoothed version of a histogram  \n",
    "- 'Kernel' determines weight given to nearby points    \n",
    "    + Use `.plot.density()` or `plot(kind = \"density\")` method"
   ]
  },
  {
   "cell_type": "code",
   "execution_count": null,
   "id": "7adb7f61",
   "metadata": {
    "eval": false
   },
   "outputs": [],
   "source": [
    "sub_titanic_data.age.plot.density(bw_method = 0.1, label = \"bw = 0.1\", \n",
    "                                  title = \"Density Plots of Age for Titanic Passengers\")\n",
    "sub_titanic_data.age.plot.density(bw_method = 0.25, label = \"bw = 0.25\")\n",
    "sub_titanic_data.age.plot.density(bw_method = 0.5, label = \"bw = 0.5\")\n",
    "plt.legend()"
   ]
  },
  {
   "cell_type": "markdown",
   "id": "3cd6628a",
   "metadata": {},
   "source": [
    "---\n",
    "\n",
    "# Kernel smoother with `pandas`\n",
    "\n",
    "- **Kernel Smoother** - Smoothed version of a histogram  "
   ]
  },
  {
   "cell_type": "code",
   "execution_count": null,
   "id": "8d3c2652",
   "metadata": {
    "fig.align": "center",
    "lines_to_next_cell": 2,
    "message": false,
    "out.width": "500px",
    "results": false,
    "tags": [
     "remove_input"
    ],
    "warning": false
   },
   "outputs": [],
   "source": [
    "sub_titanic_data.age.plot.density(bw_method = 0.1, label = \"bw = 0.1\", \n",
    "                                  title = \"Density Plots of Age for Titanic Passengers\")\n",
    "sub_titanic_data.age.plot.density(bw_method = 0.25, label = \"bw = 0.25\")\n",
    "sub_titanic_data.age.plot.density(bw_method = 0.5, label = \"bw = 0.5\")\n",
    "plt.legend(); plt.show()"
   ]
  },
  {
   "cell_type": "markdown",
   "id": "f8753c09",
   "metadata": {},
   "source": [
    "---\n",
    "\n",
    "# Boxplots with `pandas`\n",
    "\n",
    "One numerical and one categorical variable\n",
    "\n",
    "- **Boxplot** - Provides the five number summary in a graph\n",
    "    - Min, Q1, Median, Q3, Max  \n",
    "    - Often show possible outliers as well  \n",
    "    - Use `.plot.box()` or `plot(kind = \"box\")` method\n",
    "    - A `.boxplot()` method also exists!\n",
    "\n",
    "---\n",
    "\n",
    "# Boxplots with `pandas`"
   ]
  },
  {
   "cell_type": "code",
   "execution_count": null,
   "id": "2e240e4d",
   "metadata": {
    "fig.align": "center",
    "lines_to_next_cell": 2,
    "message": false,
    "out.width": "350px",
    "results": false,
    "warning": false
   },
   "outputs": [],
   "source": [
    "sub_titanic_data.age.plot.box()"
   ]
  },
  {
   "cell_type": "markdown",
   "id": "fccffa9a",
   "metadata": {},
   "source": [
    "---\n",
    "\n",
    "# Boxplots with `pandas`\n",
    "\n",
    "- Compare across another variable"
   ]
  },
  {
   "cell_type": "code",
   "execution_count": null,
   "id": "d90d19f4",
   "metadata": {
    "fig.align": "center",
    "lines_to_next_cell": 2,
    "message": false,
    "out.width": "350px",
    "results": false,
    "warning": false
   },
   "outputs": [],
   "source": [
    "sub_titanic_data.boxplot(column = [\"age\"], by = \"survivedC\")\n",
    "plt.show()"
   ]
  },
  {
   "cell_type": "markdown",
   "id": "4ebe37ee",
   "metadata": {},
   "source": [
    "---\n",
    "\n",
    "# Scatter Plots with `pandas`\n",
    "\n",
    "- **Scatter Plot** - graphs points corresponding to each observation\n",
    "    + Use `.plot.scatter()` or `plot(kind = \"scatter\")` method with `x =`, and `y =`"
   ]
  },
  {
   "cell_type": "code",
   "execution_count": null,
   "id": "c85a0ea0",
   "metadata": {
    "fig.align": "center",
    "lines_to_next_cell": 2,
    "message": false,
    "out.width": "350px",
    "results": false,
    "warning": false
   },
   "outputs": [],
   "source": [
    "sub_titanic_data.plot.scatter(x = \"age\", y = \"fare\", title = \"Scatter plots rule!\")"
   ]
  },
  {
   "cell_type": "markdown",
   "id": "32921f8d",
   "metadata": {},
   "source": [
    "---\n",
    "\n",
    "# Modifying Scatter Plots\n",
    "\n",
    "- Easy to modify"
   ]
  },
  {
   "cell_type": "code",
   "execution_count": null,
   "id": "d9a3185b",
   "metadata": {
    "fig.align": "center",
    "lines_to_next_cell": 0,
    "message": false,
    "out.width": "350px",
    "results": false,
    "warning": false
   },
   "outputs": [],
   "source": [
    "#c = color, marker is a matplotlib option\n",
    "sub_titanic_data.plot.scatter(x = \"age\", y = \"fare\", c = \"Red\", marker = \"v\", title = \"Oh, V's!\") "
   ]
  },
  {
   "cell_type": "markdown",
   "id": "fcc54678",
   "metadata": {},
   "source": []
  },
  {
   "cell_type": "markdown",
   "id": "c3d4763b",
   "metadata": {},
   "source": [
    "---\n",
    "\n",
    "# Modifying Scatter Plots\n",
    "\n",
    "- Modify based on a variable"
   ]
  },
  {
   "cell_type": "code",
   "execution_count": null,
   "id": "bbe46b36",
   "metadata": {
    "fig.align": "center",
    "lines_to_next_cell": 2,
    "message": false,
    "out.width": "350px",
    "warning": false
   },
   "outputs": [],
   "source": [
    "#s for size (should be a numeric column), cmap can be used with c for specifying color scales\n",
    "sub_titanic_data.plot.scatter(x = \"age\", y = \"fare\", c = \"survivedC\", cmap = \"viridis\", s = 10)"
   ]
  },
  {
   "cell_type": "markdown",
   "id": "3bb221d2",
   "metadata": {},
   "source": [
    "---\n",
    "\n",
    "# Matrix of Scatter Plots\n",
    "\n",
    "- `.plotting.scatter_matrix()` function will produce basic graphs showing relationships"
   ]
  },
  {
   "cell_type": "code",
   "execution_count": null,
   "id": "8fcf51f2",
   "metadata": {
    "dev": "png",
    "eval": false,
    "fig.align": "center",
    "lines_to_next_cell": 2,
    "message": false,
    "name": "matrix",
    "tags": [
     "remove_output"
    ],
    "warning": false
   },
   "outputs": [],
   "source": [
    "pd.plotting.scatter_matrix(sub_titanic_data[[\"age\", \"fare\", \"survived\", \"sibsp\"]])\n",
    "plt.show()"
   ]
  },
  {
   "cell_type": "markdown",
   "id": "8e1d020f",
   "metadata": {},
   "source": [
    "---\n",
    "\n",
    "# Matrix of Scatter Plots"
   ]
  },
  {
   "cell_type": "code",
   "execution_count": null,
   "id": "5cbd4b91",
   "metadata": {
    "lines_to_next_cell": 2,
    "name": "new",
    "out.width": "500px",
    "tags": [
     "remove_input"
    ]
   },
   "outputs": [],
   "source": [
    "%%R\n",
    "knitr::include_graphics(\"img/matrix_plot.png\")"
   ]
  },
  {
   "cell_type": "markdown",
   "id": "58db4b76",
   "metadata": {},
   "source": [
    "---\n",
    "\n",
    "# To JupyterLab!  \n",
    "\n",
    "- Read in some data\n",
    "\n",
    "- Create some plots using `pandas`!"
   ]
  },
  {
   "cell_type": "markdown",
   "id": "8f20bfb3",
   "metadata": {},
   "source": [
    "---\n",
    "\n",
    "# Recap\n",
    "\n",
    "- Creating visualizations is an important part of an EDA\n",
    "\n",
    "- Goal: Describe the distribution\n",
    "\n",
    "- `pandas` has nice functionality for creating common plots\n",
    "\n",
    "    + `.plot()` method\n",
    "\n",
    "- May want to [check out seaborn for quick ways to do fancier plots!](https://seaborn.pydata.org/tutorial/introduction.html)"
   ]
  }
 ],
 "metadata": {
  "jupytext": {
   "cell_metadata_filter": "eval,dev,tags,message,name,warning,out.width,out.height,fig.align,results,-all",
   "main_language": "python",
   "notebook_metadata_filter": "-all"
  }
 },
 "nbformat": 4,
 "nbformat_minor": 5
}
