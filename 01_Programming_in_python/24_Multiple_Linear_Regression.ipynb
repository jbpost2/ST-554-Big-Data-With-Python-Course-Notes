{
 "cells": [
  {
   "cell_type": "raw",
   "id": "257c2eb3",
   "metadata": {},
   "source": [
    "---\n",
    "title: \"Multiple Linear Regression\"\n",
    "author: \"Justin Post\"\n",
    "output:\n",
    "  xaringan::moon_reader:\n",
    "    seal: false\n",
    "    lib_dir: libs\n",
    "    css: [default, \"css/ncsu.css\", \"css/ncsu-fonts.css\", \"css/mycss.css\"]\n",
    "    nature:\n",
    "      beforeInit: [\"js/ncsu-scale.js\"]\n",
    "      highlightStyle: github\n",
    "      highlightLines: true\n",
    "      countIncrementalSlides: false\n",
    "      ratio: \"16:9\"\n",
    "    includes:\n",
    "      in_header: \"partials/header.html\"\n",
    "editor_options: \n",
    "  chunk_output_type: console\n",
    "---"
   ]
  },
  {
   "cell_type": "code",
   "execution_count": null,
   "id": "698d346c",
   "metadata": {
    "lines_to_next_cell": 0,
    "message": false,
    "tags": [
     "remove_cell"
    ],
    "warning": false
   },
   "outputs": [],
   "source": [
    "%%R\n",
    "options(htmltools.dir.version = FALSE)\n",
    "knitr::opts_chunk$set(\n",
    "  message = FALSE,\n",
    "  warning = FALSE,\n",
    "  dev = \"svg\",\n",
    "  fig.align = \"center\",\n",
    "  #fig.width = 11,\n",
    "  #fig.height = 5\n",
    "  cache = FALSE\n",
    ")\n",
    "\n",
    "# define vars\n",
    "om = par(\"mar\")\n",
    "lowtop = c(om[1],om[2],0.1,om[4])\n",
    "library(tidyverse)\n",
    "library(knitr)\n",
    "library(reticulate)\n",
    "use_python(\"C:\\\\Users\\\\jbpost2\\\\AppData\\\\Local\\\\Programs\\\\Python\\\\Python310\\\\python.exe\")\n",
    "#use_python(\"C:\\\\python\\\\python.exe\")\n",
    "options(dplyr.print_min = 5)\n",
    "options(reticulate.repl.quiet = TRUE)"
   ]
  },
  {
   "cell_type": "markdown",
   "id": "0cfa4e01",
   "metadata": {},
   "source": [
    "\n"
   ]
  },
  {
   "cell_type": "markdown",
   "id": "e92efa61",
   "metadata": {},
   "source": [
    "layout: false\n",
    "class: title-slide-section-red, middle\n",
    "\n",
    "# Multiple Linear Regression\n",
    "Justin Post \n",
    "\n",
    "---\n",
    "layout: true\n",
    "\n",
    "<div class=\"my-footer\"><img src=\"img/logo.png\" style=\"height: 60px;\"/></div> "
   ]
  },
  {
   "cell_type": "markdown",
   "id": "fac5097b",
   "metadata": {},
   "source": [
    "---\n",
    "\n",
    "# Recap \n",
    "\n",
    "Given a model, we **fit** the model using data\n",
    "\n",
    "- Must determine how well the model predicts on **new** data \n",
    "- Create a test set\n",
    "- Judge effectiveness using a **loss** function"
   ]
  },
  {
   "cell_type": "markdown",
   "id": "d8c86d19",
   "metadata": {},
   "source": [
    "---\n",
    "\n",
    "# Regression Modeling Ideas\n",
    "\n",
    "For a set of observations $y_1,...,y_n$, we may want to predict a future value\n",
    "\n",
    "- Often use the sample mean to do so, $\\bar{y}$ (an estimate of $E(Y)$)"
   ]
  },
  {
   "cell_type": "markdown",
   "id": "635a8004",
   "metadata": {},
   "source": [
    "---\n",
    "\n",
    "# Regression Modeling Ideas\n",
    "\n",
    "For a set of observations $y_1,...,y_n$, we may want to predict a future value\n",
    "\n",
    "- Often use the sample mean to do so, $\\bar{y}$ (an estimate of $E(Y)$)\n",
    "\n",
    "Now consider having pairs $(x_1,y_1), (x_2,y_2),...(x_n,y_n)$"
   ]
  },
  {
   "cell_type": "code",
   "execution_count": null,
   "id": "2fe2e556",
   "metadata": {
    "fig.align": "center",
    "out.width": "370px",
    "tags": [
     "remove_input"
    ]
   },
   "outputs": [],
   "source": [
    "%%R\n",
    "set.seed(1)\n",
    "x <- seq(from = -11, to = 17, by = 0.1)\n",
    "y <- 300 - x^2 -20*x + 1/10*x^3\n",
    "yerr <- rep(y, 5) + rnorm(length(y)*5, mean = 3, sd = 100)\n",
    "plot(x, y, type = \"l\", lwd = 5, col = \"blue\", ylim = c(-250, 600), main = \"Below: Blue line, f(x), is the 'true' relationship between x and y\")\n",
    "lines(rep(x, 5), yerr, type = \"p\", cex = 0.4)"
   ]
  },
  {
   "cell_type": "markdown",
   "id": "b24ea3d8",
   "metadata": {},
   "source": [
    "---\n",
    "\n",
    "# Regression Modeling Ideas\n",
    "\n",
    "Often use a linear (in the parameters) model for prediction\n",
    "\n",
    "$$\\mbox{SLR model: }E(Y|x) = \\beta_0+\\beta_1x$$"
   ]
  },
  {
   "cell_type": "code",
   "execution_count": null,
   "id": "dc95ed37",
   "metadata": {
    "fig.align": "center",
    "lines_to_next_cell": 0,
    "out.width": "370px",
    "tags": [
     "remove_input"
    ]
   },
   "outputs": [],
   "source": [
    "%%R\n",
    "dat <- data.frame(y,x)\n",
    "plot(x, y, type = \"l\", lwd = 5, col = \"blue\", ylim = c(-250, 600), main = \"Below: Blue line, f(x), is the 'true' relationship between x and y\")\n",
    "lines(rep(x, 5), yerr, type = \"p\", cex = 0.4)\n",
    "fit <- lm(y~x, data = dat)\n",
    "lines(y = predict(fit, dat[,\"x\", drop = FALSE]), x = dat$x, lwd = 3)\n",
    "legend(\"topright\", legend = c(\"SLR fit\"), col = c(\"black\"), lty = 1, lwd = 3)"
   ]
  },
  {
   "cell_type": "markdown",
   "id": "8c8966f1",
   "metadata": {},
   "source": []
  },
  {
   "cell_type": "markdown",
   "id": "84b96aca",
   "metadata": {},
   "source": [
    "---\n",
    "\n",
    "# Regression Modeling Ideas\n",
    "\n",
    "Can include more terms on the right hand side (RHS)\n",
    "\n",
    "$$\\mbox{Multiple Linear Regression Model: }E(Y|x) = \\beta_0+\\beta_1x+\\beta_2x^2$$"
   ]
  },
  {
   "cell_type": "code",
   "execution_count": null,
   "id": "826caf72",
   "metadata": {
    "fig.align": "center",
    "lines_to_next_cell": 2,
    "out.width": "370px",
    "tags": [
     "remove_input"
    ]
   },
   "outputs": [],
   "source": [
    "%%R\n",
    "plot(x, y, type = \"l\", lwd = 5, col = \"blue\", ylim = c(-250, 600), main = \"Below: Blue line, f(x), is the 'true' relationship between x and y\")\n",
    "lines(rep(x, 5), yerr, type = \"p\", cex = 0.4)\n",
    "fit <- lm(y~x, data = dat)\n",
    "lines(y = predict(fit, dat[,\"x\", drop = FALSE]), x = dat$x, lwd = 3)\n",
    "fit2 <- lm(y~x+I(x^2), data = dat)\n",
    "lines(y = predict(fit2, dat[,\"x\", drop = FALSE]), x = dat$x, lwd = 3, col = 'Green')\n",
    "legend(\"topright\", legend = c(\"SLR fit\", \"Quad fit\"), col = c(\"black\", \"Green\"), lty = 1, lwd = 3)"
   ]
  },
  {
   "cell_type": "markdown",
   "id": "46532d3e",
   "metadata": {},
   "source": [
    "---\n",
    "\n",
    "# Regression Modeling Ideas\n",
    "\n",
    "Can include more terms on the right hand side (RHS)\n",
    "\n",
    "$$\\mbox{Multiple Linear Regression Model: }E(Y|x) = \\beta_0+\\beta_1x+\\beta_2x^2+\\beta_3x^3$$"
   ]
  },
  {
   "cell_type": "code",
   "execution_count": null,
   "id": "bc17ad51",
   "metadata": {
    "fig.align": "center",
    "out.width": "370px",
    "tags": [
     "remove_input"
    ]
   },
   "outputs": [],
   "source": [
    "%%R\n",
    "plot(x, y, type = \"l\", lwd = 5, col = \"blue\", ylim = c(-250, 600), main = \"Below: Blue line, f(x), is the 'true' relationship between x and y\")\n",
    "lines(rep(x, 5), yerr, type = \"p\", cex = 0.4)\n",
    "fit <- lm(y~x, data = dat)\n",
    "lines(y = predict(fit, dat[,\"x\", drop = FALSE]), x = dat$x, lwd = 3)\n",
    "fit2 <- lm(y~x+I(x^2), data = dat)\n",
    "lines(y = predict(fit2, dat[,\"x\", drop = FALSE]), x = dat$x, lwd = 3, col = 'Green')\n",
    "fit3 <- lm(y~x+I(x^2)+I(x^3), data = dat)\n",
    "lines(y = predict(fit3, dat[,\"x\", drop = FALSE]), x = dat$x, lwd = 3, col = 'Brown')\n",
    "legend(\"topright\", legend = c(\"SLR fit\", \"Quad fit\", \"Cubic fit\"), col = c(\"black\", \"Green\", \"Brown\"), lty = 1, lwd = 3)"
   ]
  },
  {
   "cell_type": "markdown",
   "id": "ff7a6dd0",
   "metadata": {},
   "source": [
    "---\n",
    "\n",
    "# Regression Modeling Ideas\n",
    "\n",
    "- We model the mean response for a given $x$ value\n",
    "- With multiple predictors or $x$'s, we do the same idea!"
   ]
  },
  {
   "cell_type": "code",
   "execution_count": null,
   "id": "2c30ba87",
   "metadata": {
    "eval": true,
    "fig.align": "center",
    "out.width": "500px",
    "tags": [
     "remove_input"
    ]
   },
   "outputs": [],
   "source": [
    "%%R\n",
    "knitr::include_graphics(\"img/true_mlr.png\")"
   ]
  },
  {
   "cell_type": "code",
   "execution_count": null,
   "id": "2d157a77",
   "metadata": {
    "eval": false,
    "lines_to_next_cell": 2,
    "tags": [
     "remove_input"
    ],
    "webgl": true
   },
   "outputs": [],
   "source": [
    "%%R\n",
    "library(rgl)\n",
    "x1 <- seq(from = 0, to = 1, by = 0.01)\n",
    "x2 <- seq(from = 0, to = 1, by = 0.01)\n",
    "xy <- expand.grid(x1, x2)\n",
    "names(xy) <- c(\"x1\", \"x2\")\n",
    "y <- 20 - 3*xy[,1] +5*xy[,2] -12*xy[,1]*xy[,2] + xy[,1]^2\n",
    "obsx1x2 <- xy[sample(nrow(xy), size = 200, replace = TRUE),]\n",
    "obsy <- 20-3*obsx1x2[,1]+5*obsx1x2[,2]-12*obsx1x2[,1]*obsx1x2[,2]+obsx1x2[,1]^2 + rnorm(200, sd = 2)\n",
    "mlr_data <- data.frame(x1 = obsx1x2[,1], x2 = obsx1x2[,2], y = obsy)\n",
    "# scatter plot with regression plane (rgl package)\n",
    "plot3d(x = mlr_data$x1, y = mlr_data$x2, z = mlr_data$y,\n",
    "\t\t\t\t\tcex = 0.8, theta = 20, phi = 20, ticktype = \"detailed\",\n",
    "                    xlab = \"x1\", ylab = \"x2\", zlab = \"y\",\n",
    "\t\t\t\t\txlim = c(0,1), ylim = c(0,1), zlim = c(0, max(obsy)),\n",
    "\t\t\t\t\tmain = \"Data with 'true' relationship\") \n",
    "#add surface\n",
    "surface3d(x = x1, y = x2, z = y, color = \"blue\")"
   ]
  },
  {
   "cell_type": "markdown",
   "id": "6b8314c1",
   "metadata": {},
   "source": [
    "---\n",
    "\n",
    "# Regression Modeling Ideas \n",
    "\n",
    "- Including a **main effect** for two predictors fits the best plane through the data\n",
    "\n",
    "$$\\mbox{Multiple Linear Regression Model: } E(Y|x_1,x_2) = \\beta_0+\\beta_1x_1+\\beta_2x_2$$"
   ]
  },
  {
   "cell_type": "code",
   "execution_count": null,
   "id": "773eeff3",
   "metadata": {
    "eval": false,
    "tags": [
     "remove_input"
    ],
    "webgl": true
   },
   "outputs": [],
   "source": [
    "%%R\n",
    "plane_fit <- lm(y ~ x1 + x2, data = mlr_data)\n",
    "# scatter plot with regression plane (rgl package)\n",
    "plot3d(x = mlr_data$x1, y = mlr_data$x2, z = mlr_data$y,\n",
    "\t\t\t\t\tcex = 0.8, theta = 20, phi = 20, ticktype = \"detailed\",\n",
    "                    xlab = \"x1\", ylab = \"x2\", zlab = \"y\",\n",
    "\t\t\t\t\txlim = c(0,1), ylim = c(0,1), zlim = c(0, max(obsy)),\n",
    "\t\t\t\t\tmain = \"Data with best plane\") \n",
    "#add surface\n",
    "surface3d(x = x1, y = x2, z = predict(plane_fit, newdata = xy), color = \"blue\")"
   ]
  },
  {
   "cell_type": "code",
   "execution_count": null,
   "id": "137e2d06",
   "metadata": {
    "eval": true,
    "fig.align": "center",
    "lines_to_next_cell": 0,
    "out.width": "400px",
    "tags": [
     "remove_input"
    ]
   },
   "outputs": [],
   "source": [
    "%%R\n",
    "knitr::include_graphics(\"img/best_mlr_plane.png\")"
   ]
  },
  {
   "cell_type": "markdown",
   "id": "3fea02a3",
   "metadata": {},
   "source": []
  },
  {
   "cell_type": "markdown",
   "id": "b0e1c0f1",
   "metadata": {},
   "source": [
    "---\n",
    "\n",
    "# Regression Modeling Ideas \n",
    "\n",
    "- Including **main effects** and an **interaction effect** allows for a more flexible surface\n",
    "\n",
    "$$\\mbox{Multiple Linear Regression Model: } E(Y|x_1,x_2) = \\beta_0+\\beta_1x_1+\\beta_2x_2+\\beta_3x_1x_2$$"
   ]
  },
  {
   "cell_type": "code",
   "execution_count": null,
   "id": "fb619a96",
   "metadata": {
    "eval": false,
    "tags": [
     "remove_input"
    ],
    "webgl": true
   },
   "outputs": [],
   "source": [
    "%%R\n",
    "saddle_fit <- lm(y ~ x1*x2, data = mlr_data)\n",
    "# scatter plot with regression plane (rgl package)\n",
    "plot3d(x = mlr_data$x1, y = mlr_data$x2, z = mlr_data$y,\n",
    "\t\t\t\t\tcex = 0.8, theta = 20, phi = 20, ticktype = \"detailed\",\n",
    "                    xlab = \"x1\", ylab = \"x2\", zlab = \"y\",\n",
    "\t\t\t\t\txlim = c(0,1), ylim = c(0,1), zlim = c(0, max(obsy)),\n",
    "\t\t\t\t\tmain = \"Data with best saddle fit\") \n",
    "#add surface\n",
    "surface3d(x = x1, y = x2, z = predict(saddle_fit, newdata = xy), color = \"blue\")"
   ]
  },
  {
   "cell_type": "code",
   "execution_count": null,
   "id": "3267e700",
   "metadata": {
    "eval": true,
    "fig.align": "center",
    "out.width": "500px",
    "tags": [
     "remove_input"
    ]
   },
   "outputs": [],
   "source": [
    "%%R\n",
    "knitr::include_graphics(\"img/best_mlr_saddle.png\")\n",
    "x1 <- seq(from = 0, to = 1, by = 0.01)\n",
    "x2 <- seq(from = 0, to = 1, by = 0.01)\n",
    "xy <- expand.grid(x1, x2)\n",
    "names(xy) <- c(\"x1\", \"x2\")\n",
    "y <- 20 - 3*xy[,1] +5*xy[,2] -12*xy[,1]*xy[,2] + xy[,1]^2\n",
    "obsx1x2 <- xy[sample(nrow(xy), size = 200, replace = TRUE),]\n",
    "obsy <- 20-3*obsx1x2[,1]+5*obsx1x2[,2]-12*obsx1x2[,1]*obsx1x2[,2]+obsx1x2[,1]^2 + rnorm(200, sd = 2)\n",
    "mlr_data <- data.frame(x1 = obsx1x2[,1], x2 = obsx1x2[,2], y = obsy)\n",
    "saddle_fit <- lm(y ~ x1*x2, data = mlr_data)"
   ]
  },
  {
   "cell_type": "markdown",
   "id": "dcf3db70",
   "metadata": {},
   "source": [
    "---\n",
    "\n",
    "# Regression Modeling Ideas \n",
    "\n",
    "- Including **main effects** and an **interaction effect** allows for a more flexible surface\n",
    "\n",
    "- Interaction effects allow for the **effect** of one variable to depend on the value of another\n",
    "\n",
    "- Model fit previously gives \n",
    "    \n",
    "    + $\\hat{y}$ = (`r round(saddle_fit$coef[1],3)`) + (`r  round(saddle_fit$coef[2],3)`)x1 + (`r  round(saddle_fit$coef[3],3)`)x2 + (`r  round(saddle_fit$coef[4], 3)`)x1x2\n",
    "    \n",
    "---\n",
    "\n",
    "# Regression Modeling Ideas \n",
    "\n",
    "- Including **main effects** and an **interaction effect** allows for a more flexible surface\n",
    "\n",
    "- Interaction effects allow for the **effect** of one variable to depend on the value of another\n",
    "\n",
    "- Model fit previously gives \n",
    "    \n",
    "    + $\\hat{y}$ = (`r round(saddle_fit$coef[1],3)`) + (`r  round(saddle_fit$coef[2],3)`)x1 + (`r  round(saddle_fit$coef[3],3)`)x2 + (`r  round(saddle_fit$coef[4], 3)`)x1x2\n",
    "\n",
    "    + For $x_1$ = 0, the slope on $x_2$ is (`r  round(saddle_fit$coef[3],3)`)`+0*` (`r  round(saddle_fit$coef[4],3)`) = `r  round(saddle_fit$coef[3],3)`\n",
    "\n",
    "\n",
    "---\n",
    "\n",
    "# Regression Modeling Ideas \n",
    "\n",
    "- Including **main effects** and an **interaction effect** allows for a more flexible surface\n",
    "\n",
    "- Interaction effects allow for the **effect** of one variable to depend on the value of another\n",
    "\n",
    "- Model fit previously gives \n",
    "    \n",
    "    + $\\hat{y}$ = (`r round(saddle_fit$coef[1],3)`) + (`r  round(saddle_fit$coef[2],3)`)x1 + (`r  round(saddle_fit$coef[3],3)`)x2 + (`r  round(saddle_fit$coef[4], 3)`)x1x2\n",
    "\n",
    "    + For $x_1$ = 0, the slope on $x_2$ is (`r  round(saddle_fit$coef[3],3)`)`+0*` (`r  round(saddle_fit$coef[4],3)`) = `r  round(saddle_fit$coef[3],3)`\n",
    "\n",
    "    + For $x_1$ = 0.5, the slope on $x_2$ is (`r  round(saddle_fit$coef[3],3)`)`+0.5*`(`r  round(saddle_fit$coef[4],3)`) = `r  round(saddle_fit$coef[3]+0.5*saddle_fit$coef[4],3)`\n",
    "    \n",
    "---\n",
    "\n",
    "# Regression Modeling Ideas \n",
    "\n",
    "- Including **main effects** and an **interaction effect** allows for a more flexible surface\n",
    "\n",
    "- Interaction effects allow for the **effect** of one variable to depend on the value of another\n",
    "\n",
    "- Model fit previously gives \n",
    "    \n",
    "    + $\\hat{y}$ = (`r round(saddle_fit$coef[1],3)`) + (`r  round(saddle_fit$coef[2],3)`)x1 + (`r  round(saddle_fit$coef[3],3)`)x2 + (`r  round(saddle_fit$coef[4], 3)`)x1x2\n",
    "\n",
    "    + For $x_1$ = 0, the slope on $x_2$ is (`r  round(saddle_fit$coef[3],3)`)`+0*` (`r  round(saddle_fit$coef[4],3)`) = `r  round(saddle_fit$coef[3],3)`\n",
    "\n",
    "    + For $x_1$ = 0.5, the slope on $x_2$ is (`r  round(saddle_fit$coef[3],3)`)`+0.5*`(`r  round(saddle_fit$coef[4],3)`) = `r  round(saddle_fit$coef[3]+0.5*saddle_fit$coef[4],3)`\n",
    "\n",
    "    + For $x_1$ = 1, the slope on $x_2$ is (`r  round(saddle_fit$coef[3],3)`)`+1*`(`r  round(saddle_fit$coef[4],3)`) = `r round(saddle_fit$coef[3]+1*saddle_fit$coef[4],3)`\n",
    "\n",
    "- Similarly, the slope on $x_1$ depends on $x_2$!\n"
   ]
  },
  {
   "cell_type": "markdown",
   "id": "66b1b912",
   "metadata": {},
   "source": [
    "---\n",
    "\n",
    "# Regression Modeling Ideas \n",
    "\n",
    "- Including **main effects** and an **interaction effect** allows for a more flexible surface\n",
    "- Can also include higher order polynomial terms\n",
    "\n",
    "$$\\mbox{Multiple Linear Regression Model: } E(Y|x_1,x_2) = \\beta_0+\\beta_1x_1+\\beta_2x_2+\\beta_3x_1x_2+\\beta_4x_1^2$$"
   ]
  },
  {
   "cell_type": "code",
   "execution_count": null,
   "id": "f3876171",
   "metadata": {
    "eval": false,
    "tags": [
     "remove_input"
    ],
    "webgl": true
   },
   "outputs": [],
   "source": [
    "%%R\n",
    "comp_fit <- lm(y ~ x1*x2 + I(x1^2), data = mlr_data)\n",
    "# scatter plot with regression plane (rgl package)\n",
    "plot3d(x = mlr_data$x1, y = mlr_data$x2, z = mlr_data$y,\n",
    "\t\t\t\t\tcex = 0.8, theta = 20, phi = 20, ticktype = \"detailed\",\n",
    "                    xlab = \"x1\", ylab = \"x2\", zlab = \"y\",\n",
    "\t\t\t\t\txlim = c(0,1), ylim = c(0,1), zlim = c(0, max(obsy)),\n",
    "\t\t\t\t\tmain = \"Data with complicated surface fit\") \n",
    "#add surface\n",
    "surface3d(x = x1, y = x2, z = predict(comp_fit, newdata = xy), color = \"blue\")"
   ]
  },
  {
   "cell_type": "code",
   "execution_count": null,
   "id": "14cbb80d",
   "metadata": {
    "eval": true,
    "fig.align": "center",
    "lines_to_next_cell": 2,
    "out.width": "500px",
    "tags": [
     "remove_input"
    ]
   },
   "outputs": [],
   "source": [
    "%%R\n",
    "knitr::include_graphics(\"img/best_mlr_comp.png\")"
   ]
  },
  {
   "cell_type": "markdown",
   "id": "6240d0fb",
   "metadata": {},
   "source": [
    "---\n",
    "\n",
    "# Regression Modeling Ideas\n",
    "\n",
    "Can also include categorical variables through **dummy** or **indicator** variables\n",
    "\n",
    "- Categorical variable with value of $Success$ and $Failure$\n",
    "- Define $x_2 = 0$ if variable is $Failure$\n",
    "- Define $x_2 = 1$ if variable is $Success$"
   ]
  },
  {
   "cell_type": "markdown",
   "id": "01956ede",
   "metadata": {},
   "source": [
    "---\n",
    "\n",
    "layout: false\n",
    "\n",
    "# Regression Modeling Ideas\n",
    "\n",
    "Can also include categorical variables through **dummy** or **indicator** variables\n",
    "\n",
    "- Categorical variable with value of $Success$ and $Failure$\n",
    "- Define $x_2 = 0$ if variable is $Failure$\n",
    "- Define $x_2 = 1$ if variable is $Success$\n"
   ]
  },
  {
   "cell_type": "code",
   "execution_count": null,
   "id": "2553713e",
   "metadata": {
    "fig.align": "left",
    "lines_to_next_cell": 2,
    "out.width": "370px",
    "tags": [
     "remove_input"
    ]
   },
   "outputs": [],
   "source": [
    "%%R\n",
    "set.seed(1)\n",
    "x1 <- seq(from = -11, to = 17, by = 0.1)\n",
    "x2size <- 500\n",
    "x2slopesize <- 3\n",
    "y <- 300 - x1^2 -20*x1\n",
    "yerr1 <- rep(y, 1) + rnorm(length(y)*1, mean = 3, sd = 100)\n",
    "yerr2 <- rep(y*x2slopesize, 1) + rnorm(length(y)*1, mean = 3, sd = 100) + x2size\n",
    "reg_data <- data.frame(y = c(yerr1, yerr2), x1 = rep(x1,2), x2 = c(rep(0, length(x1)), rep(1, length(x1))))\n",
    "color_vec <- ifelse(reg_data$x2, \"Blue\", \"Green\")\n",
    "plot(reg_data$x1, reg_data$y, type = \"p\", col = color_vec, main = \"Plot of x vs y with Color by x2\", \n",
    "     xlab = \"x1\", ylab = \"y\")"
   ]
  },
  {
   "cell_type": "markdown",
   "id": "dc2dc06b",
   "metadata": {},
   "source": [
    "---\n",
    "\n",
    "# Regression Modeling Ideas\n",
    "\n",
    "- Define $x_2 = 0$ if variable is $Failure$\n",
    "- Define $x_2 = 1$ if variable is $Success$\n",
    "\n",
    "$$\\mbox{Separate Intercept Model: }E(Y|x) = \\beta_0+\\beta_1x_1 + \\beta_2x_2$$"
   ]
  },
  {
   "cell_type": "code",
   "execution_count": null,
   "id": "f0677a6f",
   "metadata": {
    "fig.align": "left",
    "lines_to_next_cell": 0,
    "out.width": "370px",
    "tags": [
     "remove_input"
    ]
   },
   "outputs": [],
   "source": [
    "%%R\n",
    "plot(reg_data$x1, reg_data$y, type = \"p\", col = color_vec, main = \"Plot of x vs y with Color by x2\", \n",
    "     xlab = \"x1\", ylab = \"y\")\n",
    "fit <- lm(y~x1+x2, data = reg_data)\n",
    "lines(y = predict(fit, reg_data[reg_data$x2 == 1, c(\"x1\",\"x2\")]), x = reg_data[reg_data$x2==1,'x1'], lwd = 3, col = \"blue\")\n",
    "lines(y = predict(fit, reg_data[reg_data$x2 == 0, c(\"x1\",\"x2\")]), x = reg_data[reg_data$x2==0,'x1'], lwd = 3, col = \"green\")\n",
    "legend(\"topright\", legend = c(\"Fit when x2 = 1\", \"Fit when x2 = 0\"), col = c(\"Blue\", \"Green\"), lty = 1, lwd = 3)"
   ]
  },
  {
   "cell_type": "markdown",
   "id": "ac9ac1b7",
   "metadata": {},
   "source": [
    "\n"
   ]
  },
  {
   "cell_type": "markdown",
   "id": "e881b7d0",
   "metadata": {},
   "source": [
    "---\n",
    "\n",
    "# Regression Modeling Ideas\n",
    "\n",
    "- Define $x_2 = 0$ if variable is $Failure$\n",
    "- Define $x_2 = 1$ if variable is $Success$\n",
    "\n",
    "$$\\mbox{Separate Intercept and Slopes Model: }E(Y|x) = \\beta_0+\\beta_1x_1 + \\beta_2x_2+\\beta_3x_1x_2$$\n"
   ]
  },
  {
   "cell_type": "code",
   "execution_count": null,
   "id": "711224e5",
   "metadata": {
    "fig.align": "left",
    "lines_to_next_cell": 0,
    "out.width": "370px",
    "tags": [
     "remove_input"
    ]
   },
   "outputs": [],
   "source": [
    "%%R\n",
    "plot(reg_data$x1, reg_data$y, type = \"p\", col = color_vec, main = \"Plot of x vs y with Color by x2\", \n",
    "     xlab = \"x1\", ylab = \"y\")\n",
    "fit2 <- lm(y~x1*x2, data = reg_data)\n",
    "lines(y = predict(fit2, reg_data[reg_data$x2 == 1, c(\"x1\",\"x2\")]), x = reg_data[reg_data$x2==1,'x1'], lwd = 3, col = \"blue\")\n",
    "lines(y = predict(fit2, reg_data[reg_data$x2 == 0, c(\"x1\",\"x2\")]), x = reg_data[reg_data$x2==0,'x1'], lwd = 3, col = \"green\")\n",
    "\n",
    "legend(\"topright\", legend = c(\"Fit when x2 = 1\", \"Fit when x2 = 0\"), col = c(\"blue\", \"green\"), lty = 1, lwd = 3)"
   ]
  },
  {
   "cell_type": "markdown",
   "id": "ff9dcc18",
   "metadata": {},
   "source": []
  },
  {
   "cell_type": "markdown",
   "id": "87fc345f",
   "metadata": {},
   "source": [
    "---\n",
    "\n",
    "# Regression Modeling Ideas\n",
    "\n",
    "- Define $x_2 = 0$ if variable is $Failure$\n",
    "- Define $x_2 = 1$ if variable is $Success$\n",
    "\n",
    "$$\\mbox{Separate Quadratics Model: }E(Y|x) = \\beta_0+ \\beta_1x_2+\\beta_2x_1+\\beta_3x_1x_2+ \\beta_4x_1^2 +\\beta_5x_1^2x_2$$"
   ]
  },
  {
   "cell_type": "code",
   "execution_count": null,
   "id": "bd739b5e",
   "metadata": {
    "fig.align": "left",
    "lines_to_next_cell": 0,
    "out.width": "370px",
    "tags": [
     "remove_input"
    ]
   },
   "outputs": [],
   "source": [
    "%%R\n",
    "plot(reg_data$x1, reg_data$y, type = \"p\", col = color_vec, main = \"Plot of x vs y with Color by x2\", \n",
    "     xlab = \"x1\", ylab = \"y\")\n",
    "fit2 <- lm(y~x1*x2 + x2*I(x1^2), data = reg_data)\n",
    "lines(y = predict(fit2, reg_data[reg_data$x2 == 1, c(\"x1\",\"x2\")]), x = reg_data[reg_data$x2==1,'x1'], lwd = 3, col = \"blue\")\n",
    "lines(y = predict(fit2, reg_data[reg_data$x2 == 0, c(\"x1\",\"x2\")]), x = reg_data[reg_data$x2==0,'x1'], lwd = 3, col = \"green\")\n",
    "legend(\"topright\", legend = c(\"Fit when x2 = 1\", \"Fit when x2 = 0\"), col = c(\"blue\", \"green\"), lty = 1, lwd = 3)"
   ]
  },
  {
   "cell_type": "markdown",
   "id": "73360644",
   "metadata": {},
   "source": []
  },
  {
   "cell_type": "markdown",
   "id": "44f71dfc",
   "metadata": {},
   "source": [
    "---\n",
    "\n",
    "# Regression Modeling Ideas\n",
    "\n",
    "If your categorical variable has more than k>2 categories, define k-1 dummy variables\n",
    "- Categorical variable with values of \"Assistant\", \"Contractor\", \"Executive\"\n",
    "- Define $x_2 = 0$ if variable is $Executive$ or $Contractor$\n",
    "- Define $x_2 = 1$ if variable is $Assistant$\n",
    "- Define $x_3 = 0$ if variable is $Contractor$ or $Assistant$\n",
    "- Define $x_3 = 1$ if variable is $Executive$\n",
    "\n",
    "---\n",
    "\n",
    "# Regression Modeling Ideas\n",
    "\n",
    "If your categorical variable has more than k>2 categories, define k-1 dummy variables\n",
    "- Categorical variable with values of \"Assistant\", \"Contractor\", \"Executive\"\n",
    "- Define $x_2 = 0$ if variable is $Executive$ or $Contractor$\n",
    "- Define $x_2 = 1$ if variable is $Assistant$\n",
    "- Define $x_3 = 0$ if variable is $Contractor$ or $Assistant$\n",
    "- Define $x_3 = 1$ if variable is $Executive$\n",
    "\n",
    "$$\\mbox{Separate Intercepts Model: }E(Y|x) = \\beta_0+ \\beta_1x_1+\\beta_2x_2+\\beta_3x_3$$\n",
    "What is implied if $x_2$ and $x_3$ are both zero?\n"
   ]
  },
  {
   "cell_type": "markdown",
   "id": "93f924c2",
   "metadata": {},
   "source": [
    "---\n",
    "\n",
    "# Fitting an MLR Model\n",
    "\n",
    "Big Idea: Trying to find the line, plane, saddle, etc. **of best fit** through points \n",
    "\n",
    "- How do we do the fit??\n",
    "\n",
    "    + Usually minimize the sum of squared residuals (errors)\n",
    "    \n",
    "\n",
    "---\n",
    "\n",
    "# Fitting an MLR Model\n",
    "\n",
    "Big Idea: Trying to find the line, plane, saddle, etc. **of best fit** through points\n",
    "\n",
    "- How do we do the fit??\n",
    "\n",
    "    + Usually minimize the sum of squared residuals (errors)\n",
    "\n",
    "- Residual = observed - predicted or $y_i-\\hat{y}_i$\n",
    "\n",
    "$$\\min\\limits_{\\hat{\\beta}'s}\\sum_{i=1}^{n}(y_i-(\\hat\\beta_0+\\hat\\beta_1x_{1i}+...+\\hat\\beta_px_{pi}))^2$$\n",
    "\n",
    "---\n",
    "\n",
    "# Fitting an MLR Model\n",
    "\n",
    "Big Idea: Trying to find the line, plane, saddle, etc. **of best fit** through points\n",
    "\n",
    "- How do we do the fit??\n",
    "\n",
    "    + Usually minimize the sum of squared residuals (errors)\n",
    "\n",
    "- Residual = observed - predicted or $y_i-\\hat{y}_i$\n",
    "\n",
    "$$\\min\\limits_{\\hat{\\beta}'s}\\sum_{i=1}^{n}(y_i-(\\hat\\beta_0+\\hat\\beta_1x_{1i}+...+\\hat\\beta_px_{pi}))^2$$\n",
    "\n",
    "- Closed-form results exist for easy calculation via software!"
   ]
  },
  {
   "cell_type": "markdown",
   "id": "7079ce49",
   "metadata": {},
   "source": [
    "---\n",
    "\n",
    "# Fitting a Linear Regression Model in Python\n",
    "\n",
    "- Use `sklearn` package\n",
    "- Create a `LinearRegression()` instance\n",
    "- Use the `.fit()` method to fit the model"
   ]
  },
  {
   "cell_type": "markdown",
   "id": "d8d737cc",
   "metadata": {},
   "source": [
    "---\n",
    "\n",
    "# Fitting a Linear Regression Model in Python\n",
    "\n",
    "- Use `sklearn` package\n",
    "- Create a `LinearRegression()` instance\n",
    "- Use the `.fit()` method to fit the model"
   ]
  },
  {
   "cell_type": "code",
   "execution_count": null,
   "id": "0d8863c4",
   "metadata": {},
   "outputs": [],
   "source": [
    "import pandas as pd\n",
    "import numpy as np\n",
    "bike_data = pd.read_csv(\"https://www4.stat.ncsu.edu/~online/datasets/bikeDetails.csv\")\n",
    "#create response and new predictor\n",
    "bike_data['log_selling_price'] = np.log(bike_data['selling_price'])\n",
    "bike_data['log_km_driven'] = np.log(bike_data['km_driven'])"
   ]
  },
  {
   "cell_type": "markdown",
   "id": "45aa03fd",
   "metadata": {},
   "source": [
    "---\n",
    "\n",
    "# Fitting a Linear Regression Model in Python\n",
    "\n",
    "- Use `sklearn` package\n",
    "- Create a `LinearRegression()` instance\n",
    "- Use the `.fit()` method to fit the model"
   ]
  },
  {
   "cell_type": "code",
   "execution_count": null,
   "id": "f83062d9",
   "metadata": {},
   "outputs": [],
   "source": [
    "import pandas as pd\n",
    "import numpy as np\n",
    "bike_data = pd.read_csv(\"https://www4.stat.ncsu.edu/~online/datasets/bikeDetails.csv\")\n",
    "#create response and new predictor\n",
    "bike_data['log_selling_price'] = np.log(bike_data['selling_price'])\n",
    "bike_data['log_km_driven'] = np.log(bike_data['km_driven'])"
   ]
  },
  {
   "cell_type": "code",
   "execution_count": null,
   "id": "d475cfd3",
   "metadata": {
    "eval": true,
    "tags": [
     "remove_input",
     "remove_cell"
    ]
   },
   "outputs": [],
   "source": [
    "from sklearn import linear_model\n",
    "slr_fit = linear_model.LinearRegression() #Create a reg object\n",
    "slr_fit.fit(bike_data['log_km_driven'].values.reshape(-1,1), bike_data['log_selling_price'].values)\n",
    "print(slr_fit.intercept_, slr_fit.coef_)"
   ]
  },
  {
   "cell_type": "code",
   "execution_count": null,
   "id": "b931315c",
   "metadata": {
    "eval": false,
    "lines_to_next_cell": 0
   },
   "outputs": [],
   "source": [
    "from sklearn import linear_model\n",
    "slr_fit = linear_model.LinearRegression() #Create a reg object\n",
    "slr_fit.fit(bike_data['log_km_driven'].values.reshape(-1,1), bike_data['log_selling_price'].values)"
   ]
  },
  {
   "cell_type": "code",
   "execution_count": null,
   "id": "6179bbaf",
   "metadata": {},
   "outputs": [],
   "source": [
    "print(slr_fit.intercept_, slr_fit.coef_)"
   ]
  },
  {
   "cell_type": "markdown",
   "id": "b26dd02d",
   "metadata": {},
   "source": [
    "---\n",
    "\n",
    "# Fitting a Linear Regression Model in Python"
   ]
  },
  {
   "cell_type": "code",
   "execution_count": null,
   "id": "d9cff205",
   "metadata": {
    "fig.align": "center",
    "lines_to_next_cell": 2,
    "message": false,
    "out.width": "340px"
   },
   "outputs": [],
   "source": [
    "import matplotlib.pyplot as plt\n",
    "preds = slr_fit.predict(bike_data['log_km_driven'].values.reshape(-1,1))\n",
    "plt.scatter(bike_data['log_km_driven'].values.reshape(-1,1), bike_data['log_selling_price'].values)\n",
    "plt.plot(bike_data['log_km_driven'].values.reshape(-1,1), preds, 'red')\n",
    "plt.title(\"SLR Fit\")\n",
    "plt.xlabel('log_km_driven')\n",
    "plt.ylabel('log_selling_price')"
   ]
  },
  {
   "cell_type": "markdown",
   "id": "702fb5bb",
   "metadata": {},
   "source": [
    "---\n",
    "\n",
    "# Add Dummy Variables for a Categorical Predictor\n",
    "\n",
    "- `get_dummies()` function from `pandas` is useful"
   ]
  },
  {
   "cell_type": "code",
   "execution_count": null,
   "id": "f1d86c5e",
   "metadata": {
    "fig.align": "center",
    "message": false,
    "out.width": "370px"
   },
   "outputs": [],
   "source": [
    "pd.get_dummies(data = bike_data['owner'])"
   ]
  },
  {
   "cell_type": "markdown",
   "id": "7168eb91",
   "metadata": {},
   "source": [
    "---\n",
    "\n",
    "# Add Dummy Variables for a Categorical Predictor\n",
    "\n",
    "- `get_dummies()` function from `pandas` is useful"
   ]
  },
  {
   "cell_type": "code",
   "execution_count": null,
   "id": "9607cc82",
   "metadata": {
    "fig.align": "center",
    "message": false,
    "out.width": "370px"
   },
   "outputs": [],
   "source": [
    "pd.get_dummies(data = bike_data['owner'])"
   ]
  },
  {
   "cell_type": "markdown",
   "id": "9255df0d",
   "metadata": {},
   "source": [
    "- If we use just the first variable created, we'll have a 1 owner vs more than 1 owner binary variable"
   ]
  },
  {
   "cell_type": "markdown",
   "id": "809f3957",
   "metadata": {},
   "source": [
    "---\n",
    "\n",
    "# Fit a Model with Dummy Variables\n",
    "\n",
    "- Add the binary variable and fit the model"
   ]
  },
  {
   "cell_type": "code",
   "execution_count": null,
   "id": "b1d33ee4",
   "metadata": {
    "eval": true,
    "tags": [
     "remove_input",
     "remove_cell"
    ]
   },
   "outputs": [],
   "source": [
    "bike_data['one_owner'] = pd.get_dummies(data = bike_data['owner'])['1st owner']\n",
    "mlr_fit = linear_model.LinearRegression() #Create a reg object\n",
    "mlr_fit.fit(bike_data[['log_km_driven','one_owner']], bike_data['log_selling_price'].values)"
   ]
  },
  {
   "cell_type": "code",
   "execution_count": null,
   "id": "44a7a68f",
   "metadata": {
    "eval": false
   },
   "outputs": [],
   "source": [
    "bike_data['one_owner'] = pd.get_dummies(data = bike_data['owner'])['1st owner']\n",
    "mlr_fit = linear_model.LinearRegression() #Create a reg object\n",
    "mlr_fit.fit(bike_data[['log_km_driven','one_owner']], bike_data['log_selling_price'].values)"
   ]
  },
  {
   "cell_type": "code",
   "execution_count": null,
   "id": "a6edbcbc",
   "metadata": {
    "lines_to_next_cell": 0
   },
   "outputs": [],
   "source": [
    "print(mlr_fit.intercept_, mlr_fit.coef_)"
   ]
  },
  {
   "cell_type": "markdown",
   "id": "0b6f41f5",
   "metadata": {},
   "source": []
  },
  {
   "cell_type": "markdown",
   "id": "5643c230",
   "metadata": {},
   "source": [
    "---\n",
    "\n",
    "# Fit a Model with Dummy Variables\n",
    "\n",
    "Plot these fits on the same graph"
   ]
  },
  {
   "cell_type": "code",
   "execution_count": null,
   "id": "98d29a05",
   "metadata": {
    "eval": false,
    "fig.align": "center",
    "lines_to_next_cell": 2,
    "message": false,
    "out.width": "370px"
   },
   "outputs": [],
   "source": [
    "preds1 = mlr_fit.predict(bike_data.loc[bike_data['one_owner'] == 0, ['log_km_driven', 'one_owner']])\n",
    "preds2 = mlr_fit.predict(bike_data.loc[bike_data['one_owner'] == 1, ['log_km_driven', 'one_owner']])\n",
    "plt.scatter(bike_data['log_km_driven'].values.reshape(-1,1), bike_data['log_selling_price'].values,\n",
    "            c = bike_data['one_owner'].values)\n",
    "plt.plot(bike_data.loc[bike_data['one_owner'] == 0, ['log_km_driven']], preds1, \n",
    "         c = 'orange', label = \"One owner\")\n",
    "plt.plot(bike_data.loc[bike_data['one_owner'] == 1, ['log_km_driven']], preds2, \n",
    "         c = 'purple', label = \"Multiple owner\")\n",
    "plt.title(\"Different Intercept SLR Fit\")\n",
    "plt.xlabel('log_km_driven')\n",
    "plt.ylabel('log_selling_price')\n",
    "plt.legend()"
   ]
  },
  {
   "cell_type": "markdown",
   "id": "dc7df7f8",
   "metadata": {},
   "source": [
    "---\n",
    "\n",
    "# Fit a Model with Dummy Variables\n",
    "\n",
    "Plot these fits on the same graph"
   ]
  },
  {
   "cell_type": "code",
   "execution_count": null,
   "id": "f2248072",
   "metadata": {
    "fig.align": "center",
    "message": false,
    "out.width": "450",
    "tags": [
     "remove_input"
    ]
   },
   "outputs": [],
   "source": [
    "preds1 = mlr_fit.predict(bike_data.loc[bike_data['one_owner'] == 0, ['log_km_driven', 'one_owner']])\n",
    "preds2 = mlr_fit.predict(bike_data.loc[bike_data['one_owner'] == 1, ['log_km_driven', 'one_owner']])\n",
    "plt.scatter(bike_data['log_km_driven'].values.reshape(-1,1), bike_data['log_selling_price'].values,\n",
    "            c = bike_data['one_owner'].values)\n",
    "plt.plot(bike_data.loc[bike_data['one_owner'] == 0, ['log_km_driven']], preds1, \n",
    "         c = 'orange', label = \"One owner\")\n",
    "plt.plot(bike_data.loc[bike_data['one_owner'] == 1, ['log_km_driven']], preds2, \n",
    "         c = 'purple', label = \"Multiple owner\")\n",
    "plt.title(\"Different Intercept SLR Fit\")\n",
    "plt.xlabel('log_km_driven')\n",
    "plt.ylabel('log_selling_price')\n",
    "plt.legend()"
   ]
  },
  {
   "cell_type": "code",
   "execution_count": null,
   "id": "c709e740",
   "metadata": {
    "lines_to_next_cell": 2,
    "tags": [
     "remove_input"
    ]
   },
   "outputs": [],
   "source": [
    "plt.close()"
   ]
  },
  {
   "cell_type": "markdown",
   "id": "5a3c3025",
   "metadata": {},
   "source": [
    "---\n",
    "\n",
    "# Choosing an MLR Model\n",
    "\n",
    "- Given a bunch of predictors, tons of models you could fit!  How to choose?\n",
    "\n",
    "- Many variable selection methods exist...\n",
    "\n",
    "- If you care mainly about prediction, just use *cross-validation* or training/test split!\n",
    "\n",
    "---\n",
    "\n",
    "# Compare Multiple Models \n",
    "\n",
    "- We've seen how to split our data into a training and test set"
   ]
  },
  {
   "cell_type": "code",
   "execution_count": null,
   "id": "c08544c8",
   "metadata": {
    "lines_to_next_cell": 2
   },
   "outputs": [],
   "source": [
    "from sklearn.model_selection import train_test_split  \n",
    "X_train, X_test, y_train, y_test = train_test_split(  \n",
    "  bike_data[[\"year\", \"log_km_driven\", \"one_owner\"]],  \n",
    "  bike_data[\"log_selling_price\"],  \n",
    "  test_size=0.20, \n",
    "  random_state=42)  "
   ]
  },
  {
   "cell_type": "markdown",
   "id": "76930b7c",
   "metadata": {},
   "source": [
    "---\n",
    "\n",
    "# Compare Multiple Models \n",
    "\n",
    "- We've seen how to split our data into a training and test set"
   ]
  },
  {
   "cell_type": "code",
   "execution_count": null,
   "id": "b179f615",
   "metadata": {
    "eval": false
   },
   "outputs": [],
   "source": [
    "from sklearn.model_selection import train_test_split  \n",
    "X_train, X_test, y_train, y_test = train_test_split(  \n",
    "  bike_data[[\"year\", \"log_km_driven\", \"one_owner\"]],  \n",
    "  bike_data[\"log_selling_price\"],  \n",
    "  test_size=0.20, \n",
    "  random_state=42)  "
   ]
  },
  {
   "cell_type": "markdown",
   "id": "50fa5ca7",
   "metadata": {},
   "source": [
    "- Fit competing models on the training set"
   ]
  },
  {
   "cell_type": "code",
   "execution_count": null,
   "id": "290d3a98",
   "metadata": {
    "eval": true,
    "lines_to_next_cell": 2
   },
   "outputs": [],
   "source": [
    "mlr_fit = linear_model.LinearRegression().fit(X_train[['log_km_driven','one_owner']], y_train)\n",
    "slr_fit = linear_model.LinearRegression().fit(X_train['log_km_driven'].values.reshape(-1,1), y_train)\n",
    "cat_fit = linear_model.LinearRegression().fit(X_train['one_owner'].values.reshape(-1,1), y_train)"
   ]
  },
  {
   "cell_type": "markdown",
   "id": "59533f82",
   "metadata": {},
   "source": [
    "---\n",
    "\n",
    "# Compare Multiple Models \n",
    "\n",
    "- Look at training RMSE for comparison"
   ]
  },
  {
   "cell_type": "code",
   "execution_count": null,
   "id": "49ec80ff",
   "metadata": {
    "eval": true
   },
   "outputs": [],
   "source": [
    "from sklearn.metrics import mean_squared_error\n",
    "mean_squared_error(y_train, mlr_fit.predict(X_train[[\"log_km_driven\", \"one_owner\"]]))\n",
    "mean_squared_error(y_train, slr_fit.predict(X_train[\"log_km_driven\"].values.reshape(-1,1)))\n",
    "mean_squared_error(y_train, cat_fit.predict(X_train[\"one_owner\"].values.reshape(-1,1)))"
   ]
  },
  {
   "cell_type": "markdown",
   "id": "59f687f5",
   "metadata": {},
   "source": [
    "---\n",
    "\n",
    "# Compare Multiple Models \n",
    "\n",
    "- What we care about is test set RMSE though!"
   ]
  },
  {
   "cell_type": "code",
   "execution_count": null,
   "id": "fa09422c",
   "metadata": {
    "eval": true
   },
   "outputs": [],
   "source": [
    "mean_squared_error(y_test, mlr_fit.predict(X_test[[\"log_km_driven\", \"one_owner\"]]))\n",
    "mean_squared_error(y_test, slr_fit.predict(X_test[\"log_km_driven\"].values.reshape(-1,1)))\n",
    "mean_squared_error(y_test, cat_fit.predict(X_test[\"one_owner\"].values.reshape(-1,1)))"
   ]
  },
  {
   "cell_type": "markdown",
   "id": "987126bc",
   "metadata": {},
   "source": [
    "---\n",
    "\n",
    "# Recap\n",
    "\n",
    "- Multiple Linear Regression models are a common model used for a numeric response\n",
    "\n",
    "- Generally fit via minimizing the sum of squared residuals or errors\n",
    "\n",
    "    + Could fit using sum of absolute deviation, or other metric\n",
    "\n",
    "- Can include polynomial terms, interaction terms, and categorical variables through dummy (indicator) variables\n",
    "\n",
    "- Good metric to compare models on is the RMSE on a test set\n"
   ]
  }
 ],
 "metadata": {
  "jupytext": {
   "cell_metadata_filter": "warning,fig.align,tags,webgl,out.width,message,eval,-all",
   "main_language": "python",
   "notebook_metadata_filter": "-all"
  }
 },
 "nbformat": 4,
 "nbformat_minor": 5
}
