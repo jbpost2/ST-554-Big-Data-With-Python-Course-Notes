{
  "cells": [
    {
      "cell_type": "markdown",
      "id": "42f47697",
      "metadata": {
        "id": "42f47697"
      },
      "source": [
        "# List Basics & Strings\n",
        "\n",
        "> Justin Post\n",
        "\n",
        "---\n",
        "\n",
        "## Big Picture\n",
        "\n",
        "We've learned a little about how python functions and how our coding environment works.\n",
        "\n",
        "Next, we'll go through and look at a number of common data structures used in python. We'll try to follow a similar structure for each where we\n",
        "\n",
        "- introduce the data structure\n",
        "- discuss common functions and methods\n",
        "- do some quick examples of using them\n",
        "\n",
        "Along the way we'll learn some things we want to do with data along with control flow operators (if/then/else, looping, etc.)\n"
      ]
    },
    {
      "cell_type": "markdown",
      "id": "0bff3360",
      "metadata": {
        "id": "0bff3360"
      },
      "source": [
        "---\n",
        "\n",
        "## Data Structures\n",
        "\n",
        "- Built-in data types  \n",
        "    + Strings, Numeric types, Booleans\n",
        "    + Compound data types (Lists, Tuples, Dictionaries)\n",
        "    \n",
        "- Python modules with common data types\n",
        "    + `NumPy` arrays\n",
        "    + `Pandas` data frames\n",
        "\n",
        "Lists, Tuples, Strings, and arrays are all **sequences** ([ish](https://stackoverflow.com/questions/62970581/what-exactly-is-a-sequence)) so they have similar functions and behavior!"
      ]
    },
    {
      "cell_type": "markdown",
      "id": "6ce43dba",
      "metadata": {
        "id": "6ce43dba"
      },
      "source": [
        "---\n",
        "\n",
        "# Lists\n",
        "\n",
        "Properties of lists:\n",
        "\n",
        "- One-dimensional  \n",
        "- Heterogenous (can have elements with different types)\n",
        "- Elements have an ordering (starting at 0)\n",
        "- Can have duplicate values  "
      ]
    },
    {
      "cell_type": "markdown",
      "id": "4ff9722b",
      "metadata": {
        "id": "4ff9722b"
      },
      "source": [
        "---\n",
        "\n",
        "## Constructing a List\n",
        "\n",
        "Four major ways to create a list\n",
        "- `[element1, element2]`\n",
        "- `list((element1, element2, ...))`\n",
        "- an empty list and use the append method to add elements\n",
        "- list comprehensions"
      ]
    },
    {
      "cell_type": "code",
      "execution_count": 1,
      "id": "e662e4ed",
      "metadata": {
        "lines_to_next_cell": 0,
        "id": "e662e4ed",
        "outputId": "dacca5a2-4a87-4930-acd7-33850202b3c9",
        "colab": {
          "base_uri": "https://localhost:8080/"
        }
      },
      "outputs": [
        {
          "output_type": "execute_result",
          "data": {
            "text/plain": [
              "[10, 15, 10, 100, 'Help!']"
            ]
          },
          "metadata": {},
          "execution_count": 1
        }
      ],
      "source": [
        "x = [10, 15, 10, 100, \"Help!\"]\n",
        "type(x)\n",
        "x"
      ]
    },
    {
      "cell_type": "code",
      "source": [
        "#Note the 'extra' set of () needed\n",
        "y = list((\"Python\", \"List\", 5))\n",
        "y"
      ],
      "metadata": {
        "id": "SqhihiAQ3z11",
        "outputId": "f3e035ca-a402-4ce4-ef56-76f5920cf949",
        "colab": {
          "base_uri": "https://localhost:8080/"
        }
      },
      "id": "SqhihiAQ3z11",
      "execution_count": 2,
      "outputs": [
        {
          "output_type": "execute_result",
          "data": {
            "text/plain": [
              "['Python', 'List', 5]"
            ]
          },
          "metadata": {},
          "execution_count": 2
        }
      ]
    },
    {
      "cell_type": "code",
      "execution_count": 8,
      "id": "6e63380a",
      "metadata": {
        "lines_to_next_cell": 0,
        "id": "6e63380a",
        "outputId": "c3743f62-e481-4140-9321-7f40782897dc",
        "colab": {
          "base_uri": "https://localhost:8080/"
        }
      },
      "outputs": [
        {
          "output_type": "execute_result",
          "data": {
            "text/plain": [
              "range(1, 10)"
            ]
          },
          "metadata": {},
          "execution_count": 8
        }
      ],
      "source": [
        "#range() is a function that is 'iterable'. By putting it in a list, we get the values out\n",
        "range(1,10)"
      ]
    },
    {
      "cell_type": "code",
      "source": [
        "z = list(range(1,10))\n",
        "z"
      ],
      "metadata": {
        "id": "7_agSj9u4RMk",
        "outputId": "50fa2bbd-6425-4ff4-bd5f-eee4498872a4",
        "colab": {
          "base_uri": "https://localhost:8080/"
        }
      },
      "id": "7_agSj9u4RMk",
      "execution_count": 9,
      "outputs": [
        {
          "output_type": "execute_result",
          "data": {
            "text/plain": [
              "[1, 2, 3, 4, 5, 6, 7, 8, 9]"
            ]
          },
          "metadata": {},
          "execution_count": 9
        }
      ]
    },
    {
      "cell_type": "code",
      "source": [
        "#On sequence type objects, * replicated the object a certain number of times\n",
        "z * 2"
      ],
      "metadata": {
        "id": "3rd5ns9O3-GF",
        "outputId": "e0eaf2b3-cce4-45c8-f0ca-2a52a4b5b035",
        "colab": {
          "base_uri": "https://localhost:8080/"
        }
      },
      "id": "3rd5ns9O3-GF",
      "execution_count": 5,
      "outputs": [
        {
          "output_type": "execute_result",
          "data": {
            "text/plain": [
              "[1, 2, 3, 4, 5, 6, 7, 8, 9, 1, 2, 3, 4, 5, 6, 7, 8, 9]"
            ]
          },
          "metadata": {},
          "execution_count": 5
        }
      ]
    },
    {
      "cell_type": "code",
      "source": [
        "#lists can contain lists!\n",
        "w = [list(range(1,3)), z, 3]\n",
        "w"
      ],
      "metadata": {
        "id": "uhxedF8J4FLM",
        "outputId": "06fd3e81-f878-4db3-9f90-cd12dd796b2f",
        "colab": {
          "base_uri": "https://localhost:8080/"
        }
      },
      "id": "uhxedF8J4FLM",
      "execution_count": 7,
      "outputs": [
        {
          "output_type": "execute_result",
          "data": {
            "text/plain": [
              "[[1, 2], [1, 2, 3, 4, 5, 6, 7, 8, 9], 3]"
            ]
          },
          "metadata": {},
          "execution_count": 7
        }
      ]
    },
    {
      "cell_type": "markdown",
      "source": [
        "---\n",
        "\n",
        "## List Operations"
      ],
      "metadata": {
        "id": "HoyRRnih7fF9"
      },
      "id": "HoyRRnih7fF9"
    },
    {
      "cell_type": "markdown",
      "id": "e5f4174a",
      "metadata": {
        "lines_to_next_cell": 0,
        "id": "e5f4174a"
      },
      "source": [
        "### Indexing\n",
        "\n",
        "- Index with a `[]` after the object name\n",
        "- Counting starts at 0"
      ]
    },
    {
      "cell_type": "code",
      "execution_count": 11,
      "id": "6d71beb7",
      "metadata": {
        "lines_to_next_cell": 0,
        "id": "6d71beb7",
        "outputId": "6a6094a0-99a5-4359-d94b-186a84083dd7",
        "colab": {
          "base_uri": "https://localhost:8080/"
        }
      },
      "outputs": [
        {
          "output_type": "stream",
          "name": "stdout",
          "text": [
            "10\n",
            "15\n",
            "Help!\n"
          ]
        }
      ],
      "source": [
        "x = [10, 15, 10, 100, \"Help!\"]\n",
        "print(x[0])\n",
        "print(x[1])\n",
        "print(x[-1])"
      ]
    },
    {
      "cell_type": "code",
      "execution_count": 12,
      "id": "7e48f4f7",
      "metadata": {
        "lines_to_next_cell": 0,
        "id": "7e48f4f7",
        "outputId": "aed1dd08-0618-4ea8-bb30-2783a5a12c8b",
        "colab": {
          "base_uri": "https://localhost:8080/"
        }
      },
      "outputs": [
        {
          "output_type": "stream",
          "name": "stdout",
          "text": [
            "[1, 2, 3, 4]\n",
            "[10, 15, 10, 100, 'Help!']\n",
            "10\n",
            "3\n"
          ]
        }
      ],
      "source": [
        "w = [list(range(1,5)), x, 3]\n",
        "print(w[0])\n",
        "print(w[1])\n",
        "print(w[1][0])\n",
        "print(w[-1])"
      ]
    },
    {
      "cell_type": "markdown",
      "id": "d6a77106",
      "metadata": {
        "lines_to_next_cell": 0,
        "id": "d6a77106"
      },
      "source": [
        "---\n",
        "\n",
        "### Slicing\n",
        "\n",
        "- We can return multiple elements at once with `:`\n",
        "    - Leaving it blank on the left gives everything up until the index prior to the number given\n",
        "    - Blank on the right gives everything after the desired starting index (counting starts at 0)"
      ]
    },
    {
      "cell_type": "code",
      "execution_count": 28,
      "id": "af9be701",
      "metadata": {
        "lines_to_next_cell": 0,
        "id": "af9be701",
        "outputId": "3dcfe812-10de-4e36-a9ae-693dbf818919",
        "colab": {
          "base_uri": "https://localhost:8080/"
        }
      },
      "outputs": [
        {
          "output_type": "execute_result",
          "data": {
            "text/plain": [
              "[10, 15, 10, 100, 'Help!']"
            ]
          },
          "metadata": {},
          "execution_count": 28
        }
      ],
      "source": [
        "x = [10, 15, 10, 100, \"Help!\"]\n",
        "x"
      ]
    },
    {
      "cell_type": "code",
      "source": [
        "x[:2]"
      ],
      "metadata": {
        "id": "M0sFwuA15MHx",
        "outputId": "02a0f04a-df56-4c39-9e9b-67cb47a55f90",
        "colab": {
          "base_uri": "https://localhost:8080/"
        }
      },
      "id": "M0sFwuA15MHx",
      "execution_count": 29,
      "outputs": [
        {
          "output_type": "execute_result",
          "data": {
            "text/plain": [
              "[10, 15]"
            ]
          },
          "metadata": {},
          "execution_count": 29
        }
      ]
    },
    {
      "cell_type": "code",
      "source": [
        "x[:3]"
      ],
      "metadata": {
        "id": "eJnECgv04wAj",
        "outputId": "9da72e72-a0e9-40ed-a4df-f7b435282b83",
        "colab": {
          "base_uri": "https://localhost:8080/"
        }
      },
      "id": "eJnECgv04wAj",
      "execution_count": 30,
      "outputs": [
        {
          "output_type": "execute_result",
          "data": {
            "text/plain": [
              "[10, 15, 10]"
            ]
          },
          "metadata": {},
          "execution_count": 30
        }
      ]
    },
    {
      "cell_type": "code",
      "source": [
        "x[1:]"
      ],
      "metadata": {
        "id": "fKJyP73f4wzN",
        "outputId": "cd154814-ce7b-41cc-8d79-0924821ed832",
        "colab": {
          "base_uri": "https://localhost:8080/"
        }
      },
      "id": "fKJyP73f4wzN",
      "execution_count": 18,
      "outputs": [
        {
          "output_type": "execute_result",
          "data": {
            "text/plain": [
              "[15, 10, 100, 'Help!']"
            ]
          },
          "metadata": {},
          "execution_count": 18
        }
      ]
    },
    {
      "cell_type": "code",
      "source": [
        "x[1:3]"
      ],
      "metadata": {
        "id": "UUIPblC34xpj",
        "outputId": "804f4d23-2d6d-4519-ee53-3076032ed84e",
        "colab": {
          "base_uri": "https://localhost:8080/"
        }
      },
      "id": "UUIPblC34xpj",
      "execution_count": 19,
      "outputs": [
        {
          "output_type": "execute_result",
          "data": {
            "text/plain": [
              "[15, 10]"
            ]
          },
          "metadata": {},
          "execution_count": 19
        }
      ]
    },
    {
      "cell_type": "code",
      "execution_count": 33,
      "id": "7474d10a",
      "metadata": {
        "lines_to_next_cell": 0,
        "id": "7474d10a",
        "outputId": "23754b1c-835f-4a6e-e137-67cc9dc8f1bb",
        "colab": {
          "base_uri": "https://localhost:8080/"
        }
      },
      "outputs": [
        {
          "output_type": "execute_result",
          "data": {
            "text/plain": [
              "[[1, 2, 3, 4], [10, 15, 10, 100, 'Help!'], 3]"
            ]
          },
          "metadata": {},
          "execution_count": 33
        }
      ],
      "source": [
        "#create a list with some lists inside it\n",
        "w = [list(range(1,5)), x, 3]\n",
        "w"
      ]
    },
    {
      "cell_type": "code",
      "source": [
        "w[:2]"
      ],
      "metadata": {
        "id": "LOgAERnp5Ju6",
        "outputId": "8620535c-1d01-4571-dc64-091311796982",
        "colab": {
          "base_uri": "https://localhost:8080/"
        }
      },
      "id": "LOgAERnp5Ju6",
      "execution_count": 25,
      "outputs": [
        {
          "output_type": "execute_result",
          "data": {
            "text/plain": [
              "[[1, 2, 3, 4], [10, 15, 10, 100, 'Help!']]"
            ]
          },
          "metadata": {},
          "execution_count": 25
        }
      ]
    },
    {
      "cell_type": "code",
      "source": [
        "w[1]"
      ],
      "metadata": {
        "id": "MLFFqlA05CrT",
        "outputId": "f58d284b-f12c-4362-bcc1-0445ee6ffb85",
        "colab": {
          "base_uri": "https://localhost:8080/"
        }
      },
      "id": "MLFFqlA05CrT",
      "execution_count": 21,
      "outputs": [
        {
          "output_type": "execute_result",
          "data": {
            "text/plain": [
              "[10, 15, 10, 100, 'Help!']"
            ]
          },
          "metadata": {},
          "execution_count": 21
        }
      ]
    },
    {
      "cell_type": "code",
      "source": [
        "#can index what gets returned if that makes sense to do!\n",
        "w[1][1:3]"
      ],
      "metadata": {
        "id": "tUQGRDX25D6K",
        "outputId": "a3b0b361-df1b-4f5c-bffe-c8f00052ad87",
        "colab": {
          "base_uri": "https://localhost:8080/"
        }
      },
      "id": "tUQGRDX25D6K",
      "execution_count": 23,
      "outputs": [
        {
          "output_type": "execute_result",
          "data": {
            "text/plain": [
              "[15, 10]"
            ]
          },
          "metadata": {},
          "execution_count": 23
        }
      ]
    },
    {
      "cell_type": "markdown",
      "id": "3b6c499c",
      "metadata": {
        "id": "3b6c499c"
      },
      "source": [
        "---\n",
        "\n",
        "## Functions & Methods\n",
        "\n",
        "Recall: Two major ways to do an operation on a variable/object:\n",
        "\n",
        "- Functions: `function_name(myvar, other_args)`"
      ]
    },
    {
      "cell_type": "code",
      "execution_count": 35,
      "id": "db21aa0d",
      "metadata": {
        "lines_to_next_cell": 0,
        "id": "db21aa0d",
        "outputId": "edfba05b-0573-4ae6-adc4-83f856fb1622",
        "colab": {
          "base_uri": "https://localhost:8080/"
        }
      },
      "outputs": [
        {
          "output_type": "execute_result",
          "data": {
            "text/plain": [
              "1000"
            ]
          },
          "metadata": {},
          "execution_count": 35
        }
      ],
      "source": [
        "myList = [1, 10, 100, 1000]\n",
        "len(myList)\n",
        "max(myList)"
      ]
    },
    {
      "cell_type": "markdown",
      "id": "48e44604",
      "metadata": {
        "id": "48e44604"
      },
      "source": [
        "- Methods: `myvar.method(other_args)`"
      ]
    },
    {
      "cell_type": "code",
      "execution_count": 36,
      "id": "f923023a",
      "metadata": {
        "lines_to_next_cell": 0,
        "id": "f923023a",
        "outputId": "ec95f80c-3222-42b4-e91e-4b936f07c3af",
        "colab": {
          "base_uri": "https://localhost:8080/"
        }
      },
      "outputs": [
        {
          "output_type": "execute_result",
          "data": {
            "text/plain": [
              "1000"
            ]
          },
          "metadata": {},
          "execution_count": 36
        }
      ],
      "source": [
        "myList.pop(3)"
      ]
    },
    {
      "cell_type": "code",
      "source": [
        "myList"
      ],
      "metadata": {
        "id": "7IOH3Vtk5kua",
        "outputId": "0e004c11-3de6-4721-9ef3-6eac1348560b",
        "colab": {
          "base_uri": "https://localhost:8080/"
        }
      },
      "id": "7IOH3Vtk5kua",
      "execution_count": 37,
      "outputs": [
        {
          "output_type": "execute_result",
          "data": {
            "text/plain": [
              "[1, 10, 100]"
            ]
          },
          "metadata": {},
          "execution_count": 37
        }
      ]
    },
    {
      "cell_type": "code",
      "source": [
        "myList.append(100000)\n",
        "myList"
      ],
      "metadata": {
        "id": "HPWy1Vvz5mxh",
        "outputId": "ee246257-2d52-4fe6-ed30-d6640854df07",
        "colab": {
          "base_uri": "https://localhost:8080/"
        }
      },
      "id": "HPWy1Vvz5mxh",
      "execution_count": 38,
      "outputs": [
        {
          "output_type": "execute_result",
          "data": {
            "text/plain": [
              "[1, 10, 100, 100000]"
            ]
          },
          "metadata": {},
          "execution_count": 38
        }
      ]
    },
    {
      "cell_type": "markdown",
      "source": [
        "The methods for lists are [listed at the top of this page of the python 3 documentation](https://docs.python.org/3/tutorial/datastructures.html).\n",
        "\n",
        "Some of the common functions in python are [listed on this page of the documentation](https://docs.python.org/3/library/functions.html)."
      ],
      "metadata": {
        "id": "BsGvRdNG50ju"
      },
      "id": "BsGvRdNG50ju"
    },
    {
      "cell_type": "markdown",
      "id": "11d0e268",
      "metadata": {
        "id": "11d0e268"
      },
      "source": [
        "---\n",
        "\n",
        "# Strings\n",
        "\n",
        "Next we'll look at another sequence type object in python, the string. As with lists we'll go through\n",
        "\n",
        "- Learn how to create\n",
        "- Consider commonly used functions and methods\n",
        "- See some examples of using them\n"
      ]
    },
    {
      "cell_type": "markdown",
      "id": "d7d370b5",
      "metadata": {
        "lines_to_next_cell": 0,
        "id": "d7d370b5"
      },
      "source": [
        "---\n",
        "\n",
        "## Constructing Strings\n",
        "\n",
        "- Text is represented as a sequence of `characters` (letters, digits, and symbols) called a **string** ([Nice reference](https://docs.python.org/3/library/string.html?highlight=str#module-string))\n",
        "    + Data type: `str`\n",
        "    + Created using single or double quotes\n",
        "    "
      ]
    },
    {
      "cell_type": "code",
      "execution_count": 40,
      "id": "a8744e8a",
      "metadata": {
        "lines_to_next_cell": 0,
        "id": "a8744e8a",
        "outputId": "37a713b6-fe28-4ead-aee1-dab21a537771",
        "colab": {
          "base_uri": "https://localhost:8080/",
          "height": 35
        }
      },
      "outputs": [
        {
          "output_type": "execute_result",
          "data": {
            "text/plain": [
              "'pack'"
            ],
            "application/vnd.google.colaboratory.intrinsic+json": {
              "type": "string"
            }
          },
          "metadata": {},
          "execution_count": 40
        }
      ],
      "source": [
        "#can use either ' or \" to create a string\n",
        "'wolf'\n",
        "\"pack\""
      ]
    },
    {
      "cell_type": "code",
      "execution_count": 41,
      "id": "b6866b0d",
      "metadata": {
        "lines_to_next_cell": 0,
        "id": "b6866b0d",
        "outputId": "80469df8-e093-48d1-fee9-0c3acb49ed76",
        "colab": {
          "base_uri": "https://localhost:8080/"
        }
      },
      "outputs": [
        {
          "output_type": "stream",
          "name": "stdout",
          "text": [
            "<class 'str'>\n",
            "wolf\n"
          ]
        }
      ],
      "source": [
        "x = 'wolf'\n",
        "print(type(x))\n",
        "print(x)"
      ]
    },
    {
      "cell_type": "markdown",
      "id": "1585adb0",
      "metadata": {
        "id": "1585adb0"
      },
      "source": [
        "- Instead of ' or \", you can use `str()` to create a string. This is called *casting*"
      ]
    },
    {
      "cell_type": "code",
      "execution_count": 42,
      "id": "5a7430c9",
      "metadata": {
        "lines_to_next_cell": 2,
        "id": "5a7430c9",
        "outputId": "64e18e25-1bc3-447a-d5b6-1a5323a12112",
        "colab": {
          "base_uri": "https://localhost:8080/",
          "height": 35
        }
      },
      "outputs": [
        {
          "output_type": "execute_result",
          "data": {
            "text/plain": [
              "'10'"
            ],
            "application/vnd.google.colaboratory.intrinsic+json": {
              "type": "string"
            }
          },
          "metadata": {},
          "execution_count": 42
        }
      ],
      "source": [
        "x = str(10)\n",
        "x"
      ]
    },
    {
      "cell_type": "markdown",
      "source": [
        "---\n",
        "\n",
        "## String Operations"
      ],
      "metadata": {
        "id": "dJBIn-Qv7jnG"
      },
      "id": "dJBIn-Qv7jnG"
    },
    {
      "cell_type": "markdown",
      "id": "39e39a80",
      "metadata": {
        "id": "39e39a80"
      },
      "source": [
        "### Indexing"
      ]
    },
    {
      "cell_type": "code",
      "execution_count": 43,
      "id": "73263806",
      "metadata": {
        "id": "73263806"
      },
      "outputs": [],
      "source": [
        "my_string = \"wolf pack\""
      ]
    },
    {
      "cell_type": "markdown",
      "id": "6651aec4",
      "metadata": {
        "id": "6651aec4"
      },
      "source": [
        "- Each element of the `my_string` variable contains a different character from `\"wolf pack\"`\n",
        "- As with lists, we access these elements using `[]`\n",
        "- The first element is indexed by `0`"
      ]
    },
    {
      "cell_type": "code",
      "execution_count": 45,
      "id": "adcd4c4e",
      "metadata": {
        "id": "adcd4c4e",
        "outputId": "610e3e6b-5aad-4d06-a9c2-052be4d83691",
        "colab": {
          "base_uri": "https://localhost:8080/",
          "height": 35
        }
      },
      "outputs": [
        {
          "output_type": "execute_result",
          "data": {
            "text/plain": [
              "'w'"
            ],
            "application/vnd.google.colaboratory.intrinsic+json": {
              "type": "string"
            }
          },
          "metadata": {},
          "execution_count": 45
        }
      ],
      "source": [
        "my_string[0]"
      ]
    },
    {
      "cell_type": "code",
      "source": [
        "my_string[1]"
      ],
      "metadata": {
        "id": "UbDVh1Yb7MNm",
        "outputId": "38b1e66e-c94f-47a1-96da-ac7468eed896",
        "colab": {
          "base_uri": "https://localhost:8080/",
          "height": 35
        }
      },
      "id": "UbDVh1Yb7MNm",
      "execution_count": 46,
      "outputs": [
        {
          "output_type": "execute_result",
          "data": {
            "text/plain": [
              "'o'"
            ],
            "application/vnd.google.colaboratory.intrinsic+json": {
              "type": "string"
            }
          },
          "metadata": {},
          "execution_count": 46
        }
      ]
    },
    {
      "cell_type": "markdown",
      "id": "c6369edb",
      "metadata": {
        "id": "c6369edb"
      },
      "source": [
        "- Access the elements of the `my_string` variable in reverse order using a `-` (start with 1 not 0 for the last element though!)"
      ]
    },
    {
      "cell_type": "code",
      "execution_count": 47,
      "id": "4e00924f",
      "metadata": {
        "lines_to_next_cell": 2,
        "id": "4e00924f",
        "outputId": "3b6c1da5-f46a-43f4-bc50-468c648253a2",
        "colab": {
          "base_uri": "https://localhost:8080/",
          "height": 35
        }
      },
      "outputs": [
        {
          "output_type": "execute_result",
          "data": {
            "text/plain": [
              "'k'"
            ],
            "application/vnd.google.colaboratory.intrinsic+json": {
              "type": "string"
            }
          },
          "metadata": {},
          "execution_count": 47
        }
      ],
      "source": [
        "my_string[-1]"
      ]
    },
    {
      "cell_type": "markdown",
      "id": "5be24403",
      "metadata": {
        "id": "5be24403"
      },
      "source": [
        "---\n",
        "\n",
        "### Slicing"
      ]
    },
    {
      "cell_type": "code",
      "execution_count": null,
      "id": "d8b04361",
      "metadata": {
        "id": "d8b04361"
      },
      "outputs": [],
      "source": [
        "my_string = \"wolf pack\""
      ]
    },
    {
      "cell_type": "markdown",
      "id": "96e416a3",
      "metadata": {
        "id": "96e416a3"
      },
      "source": [
        "- Slicing a string refers to returning more than one character of a string (similar to lists!)\n",
        "    + Slice using `:`"
      ]
    },
    {
      "cell_type": "code",
      "execution_count": 48,
      "id": "18dcbefb",
      "metadata": {
        "id": "18dcbefb",
        "outputId": "c23cf8c2-79fd-4519-9bc3-f4f07e21afcb",
        "colab": {
          "base_uri": "https://localhost:8080/",
          "height": 35
        }
      },
      "outputs": [
        {
          "output_type": "execute_result",
          "data": {
            "text/plain": [
              "' pack'"
            ],
            "application/vnd.google.colaboratory.intrinsic+json": {
              "type": "string"
            }
          },
          "metadata": {},
          "execution_count": 48
        }
      ],
      "source": [
        "my_string[4:]"
      ]
    },
    {
      "cell_type": "code",
      "source": [
        "my_string[:3]"
      ],
      "metadata": {
        "id": "7dZSjPF57tQd",
        "outputId": "c1c7161b-4f77-4645-a72f-e271e4becd55",
        "colab": {
          "base_uri": "https://localhost:8080/",
          "height": 35
        }
      },
      "id": "7dZSjPF57tQd",
      "execution_count": 49,
      "outputs": [
        {
          "output_type": "execute_result",
          "data": {
            "text/plain": [
              "'wol'"
            ],
            "application/vnd.google.colaboratory.intrinsic+json": {
              "type": "string"
            }
          },
          "metadata": {},
          "execution_count": 49
        }
      ]
    },
    {
      "cell_type": "code",
      "source": [
        "my_string[3:4]"
      ],
      "metadata": {
        "id": "-PmDH-pZ7uC2",
        "outputId": "60f0b370-c4c7-44ca-e309-000370269abf",
        "colab": {
          "base_uri": "https://localhost:8080/",
          "height": 35
        }
      },
      "id": "-PmDH-pZ7uC2",
      "execution_count": 50,
      "outputs": [
        {
          "output_type": "execute_result",
          "data": {
            "text/plain": [
              "'f'"
            ],
            "application/vnd.google.colaboratory.intrinsic+json": {
              "type": "string"
            }
          },
          "metadata": {},
          "execution_count": 50
        }
      ]
    },
    {
      "cell_type": "code",
      "source": [
        "#s[:i] + s[i:] gives back s\n",
        "my_string[:3] + my_string[3:]"
      ],
      "metadata": {
        "id": "Id0EXC8L7vAt",
        "outputId": "0d152b06-b5ad-432f-8f66-9e9208fc647d",
        "colab": {
          "base_uri": "https://localhost:8080/",
          "height": 35
        }
      },
      "id": "Id0EXC8L7vAt",
      "execution_count": 53,
      "outputs": [
        {
          "output_type": "execute_result",
          "data": {
            "text/plain": [
              "'wolf pack'"
            ],
            "application/vnd.google.colaboratory.intrinsic+json": {
              "type": "string"
            }
          },
          "metadata": {},
          "execution_count": 53
        }
      ]
    },
    {
      "cell_type": "markdown",
      "id": "d309d1bf",
      "metadata": {
        "lines_to_next_cell": 0,
        "id": "d309d1bf"
      },
      "source": [
        "---\n",
        "\n",
        "### Concatenating\n",
        "\n",
        "Several built-in operations on strings\n",
        "\n",
        "+ `+` will concatenate two strings together\n",
        "    "
      ]
    },
    {
      "cell_type": "code",
      "execution_count": 57,
      "id": "e1369643",
      "metadata": {
        "lines_to_next_cell": 2,
        "id": "e1369643",
        "outputId": "eece56bc-538b-497a-c9f3-85457fbdd54b",
        "colab": {
          "base_uri": "https://localhost:8080/",
          "height": 35
        }
      },
      "outputs": [
        {
          "output_type": "execute_result",
          "data": {
            "text/plain": [
              "'wolf pack'"
            ],
            "application/vnd.google.colaboratory.intrinsic+json": {
              "type": "string"
            }
          },
          "metadata": {},
          "execution_count": 57
        }
      ],
      "source": [
        "'wolf' + ' pack'"
      ]
    },
    {
      "cell_type": "code",
      "source": [
        "'wolf' + ' pack' + \" is\" + \" cool\""
      ],
      "metadata": {
        "id": "162HW3_o7_09",
        "outputId": "7c71716f-1e65-4cb3-b819-aa83b89d4744",
        "colab": {
          "base_uri": "https://localhost:8080/",
          "height": 35
        }
      },
      "id": "162HW3_o7_09",
      "execution_count": 58,
      "outputs": [
        {
          "output_type": "execute_result",
          "data": {
            "text/plain": [
              "'wolf pack is cool'"
            ],
            "application/vnd.google.colaboratory.intrinsic+json": {
              "type": "string"
            }
          },
          "metadata": {},
          "execution_count": 58
        }
      ]
    },
    {
      "cell_type": "markdown",
      "id": "c22bb693",
      "metadata": {
        "lines_to_next_cell": 0,
        "id": "c22bb693"
      },
      "source": [
        "+ String literals next to each other are automatically concatenated\n"
      ]
    },
    {
      "cell_type": "code",
      "execution_count": null,
      "id": "53880480",
      "metadata": {
        "lines_to_next_cell": 2,
        "id": "53880480"
      },
      "outputs": [],
      "source": [
        "'wolf' ' pack'\n",
        "'wolf' ' pack' ' is' ' cool'"
      ]
    },
    {
      "cell_type": "markdown",
      "id": "1ad000d6",
      "metadata": {
        "lines_to_next_cell": 0,
        "id": "1ad000d6"
      },
      "source": [
        "+ This won't work on variables though!\n"
      ]
    },
    {
      "cell_type": "code",
      "execution_count": 60,
      "id": "494a40d2",
      "metadata": {
        "lines_to_next_cell": 0,
        "id": "494a40d2",
        "outputId": "c1be1aa3-4893-4a6b-e4b2-1b5ea123731a",
        "colab": {
          "base_uri": "https://localhost:8080/",
          "height": 141
        }
      },
      "outputs": [
        {
          "output_type": "error",
          "ename": "SyntaxError",
          "evalue": "ignored",
          "traceback": [
            "\u001b[0;36m  File \u001b[0;32m\"<ipython-input-60-80475ffc8748>\"\u001b[0;36m, line \u001b[0;32m2\u001b[0m\n\u001b[0;31m    x ' pack'\u001b[0m\n\u001b[0m      ^\u001b[0m\n\u001b[0;31mSyntaxError\u001b[0m\u001b[0;31m:\u001b[0m invalid syntax\n"
          ]
        }
      ],
      "source": [
        "x = 'wolf'\n",
        "#throws an error\n",
        "x ' pack'"
      ]
    },
    {
      "cell_type": "code",
      "execution_count": null,
      "id": "626a2f1d",
      "metadata": {
        "lines_to_next_cell": 0,
        "id": "626a2f1d"
      },
      "outputs": [],
      "source": [
        "x + ' pack'"
      ]
    },
    {
      "cell_type": "markdown",
      "id": "647da2ab",
      "metadata": {
        "id": "647da2ab"
      },
      "source": [
        "---\n",
        "\n",
        "### No Implicit Coercion\n",
        "\n",
        "Can operator `+` be applied to a string and a numeric value?"
      ]
    },
    {
      "cell_type": "code",
      "execution_count": 62,
      "id": "081ee172",
      "metadata": {
        "error": true,
        "id": "081ee172",
        "outputId": "11616002-c981-469d-feed-88201ae65347",
        "colab": {
          "base_uri": "https://localhost:8080/",
          "height": 193
        }
      },
      "outputs": [
        {
          "output_type": "error",
          "ename": "TypeError",
          "evalue": "ignored",
          "traceback": [
            "\u001b[0;31m---------------------------------------------------------------------------\u001b[0m",
            "\u001b[0;31mTypeError\u001b[0m                                 Traceback (most recent call last)",
            "\u001b[0;32m<ipython-input-62-0f3c839ed4d7>\u001b[0m in \u001b[0;36m<cell line: 2>\u001b[0;34m()\u001b[0m\n\u001b[1;32m      1\u001b[0m \u001b[0;31m#throws an error\u001b[0m\u001b[0;34m\u001b[0m\u001b[0;34m\u001b[0m\u001b[0m\n\u001b[0;32m----> 2\u001b[0;31m \u001b[0;34m'wolfpack'\u001b[0m \u001b[0;34m+\u001b[0m \u001b[0;36m2\u001b[0m\u001b[0;34m\u001b[0m\u001b[0;34m\u001b[0m\u001b[0m\n\u001b[0m",
            "\u001b[0;31mTypeError\u001b[0m: can only concatenate str (not \"int\") to str"
          ]
        }
      ],
      "source": [
        "#throws an error\n",
        "'wolfpack' + 2"
      ]
    },
    {
      "cell_type": "markdown",
      "id": "91a5f75d",
      "metadata": {
        "id": "91a5f75d"
      },
      "source": [
        "- To join a string and number **cast** the number as a string!  "
      ]
    },
    {
      "cell_type": "code",
      "execution_count": null,
      "id": "60b5650d",
      "metadata": {
        "lines_to_next_cell": 2,
        "id": "60b5650d"
      },
      "outputs": [],
      "source": [
        "'Four score and ' + str(7) + ' years ago'"
      ]
    },
    {
      "cell_type": "markdown",
      "id": "c8b7e0c7",
      "metadata": {
        "id": "c8b7e0c7"
      },
      "source": [
        "#### String Operations (Concatenating Repeats)\n",
        "\n",
        "You can also repeat strings with the `*` operator and an integer (again similar to a list)"
      ]
    },
    {
      "cell_type": "code",
      "execution_count": null,
      "id": "a5e86b3b",
      "metadata": {
        "lines_to_next_cell": 2,
        "id": "a5e86b3b"
      },
      "outputs": [],
      "source": [
        "'go pack ' * 3\n",
        "'go pack ' * 0\n",
        "'go pack ' * -5"
      ]
    },
    {
      "cell_type": "markdown",
      "id": "01b99ef7",
      "metadata": {
        "id": "01b99ef7"
      },
      "source": [
        "---\n",
        "\n",
        "## Functions & Methods\n",
        "\n",
        "- [Several built-in operations](https://docs.python.org/3/library/string.html?highlight=str#module-string) on strings\n",
        "    + `len()` returns the number of characters\n",
        "    + `sorted()` returns the sorted values as a list"
      ]
    },
    {
      "cell_type": "code",
      "execution_count": 63,
      "id": "cd188af9",
      "metadata": {
        "id": "cd188af9",
        "outputId": "b63bf928-cbb1-4f6a-abf3-d411028156d7",
        "colab": {
          "base_uri": "https://localhost:8080/"
        }
      },
      "outputs": [
        {
          "output_type": "execute_result",
          "data": {
            "text/plain": [
              "9"
            ]
          },
          "metadata": {},
          "execution_count": 63
        }
      ],
      "source": [
        "len('wolf pack')"
      ]
    },
    {
      "cell_type": "code",
      "source": [
        "len('241!')"
      ],
      "metadata": {
        "id": "GUWxX12p9NZp",
        "outputId": "b82fbb81-b637-4c16-f101-e34cdba6843c",
        "colab": {
          "base_uri": "https://localhost:8080/"
        }
      },
      "id": "GUWxX12p9NZp",
      "execution_count": 64,
      "outputs": [
        {
          "output_type": "execute_result",
          "data": {
            "text/plain": [
              "4"
            ]
          },
          "metadata": {},
          "execution_count": 64
        }
      ]
    },
    {
      "cell_type": "code",
      "source": [
        "len(' ')"
      ],
      "metadata": {
        "id": "9i1V8rA29NRy",
        "outputId": "61bf0f27-bfd4-4422-c2a0-b4200baa6690",
        "colab": {
          "base_uri": "https://localhost:8080/"
        }
      },
      "id": "9i1V8rA29NRy",
      "execution_count": 65,
      "outputs": [
        {
          "output_type": "execute_result",
          "data": {
            "text/plain": [
              "1"
            ]
          },
          "metadata": {},
          "execution_count": 65
        }
      ]
    },
    {
      "cell_type": "code",
      "source": [
        "len(\"\")"
      ],
      "metadata": {
        "id": "yw5b9QE89NBa",
        "outputId": "19c4b192-fb96-485c-e73b-1e1db1e43050",
        "colab": {
          "base_uri": "https://localhost:8080/"
        }
      },
      "id": "yw5b9QE89NBa",
      "execution_count": 66,
      "outputs": [
        {
          "output_type": "execute_result",
          "data": {
            "text/plain": [
              "0"
            ]
          },
          "metadata": {},
          "execution_count": 66
        }
      ]
    },
    {
      "cell_type": "code",
      "source": [
        "sorted(\"wolf pack\")"
      ],
      "metadata": {
        "id": "aBEYXsQJ9Mtr",
        "outputId": "6aeef863-3407-4263-c127-71896e578043",
        "colab": {
          "base_uri": "https://localhost:8080/"
        }
      },
      "id": "aBEYXsQJ9Mtr",
      "execution_count": 67,
      "outputs": [
        {
          "output_type": "execute_result",
          "data": {
            "text/plain": [
              "[' ', 'a', 'c', 'f', 'k', 'l', 'o', 'p', 'w']"
            ]
          },
          "metadata": {},
          "execution_count": 67
        }
      ]
    },
    {
      "cell_type": "markdown",
      "id": "89345565",
      "metadata": {
        "lines_to_next_cell": 0,
        "id": "89345565"
      },
      "source": [
        "- Many methods as well. Some common examples are below:"
      ]
    },
    {
      "cell_type": "code",
      "execution_count": 68,
      "id": "7b499d79",
      "metadata": {
        "lines_to_next_cell": 0,
        "id": "7b499d79"
      },
      "outputs": [],
      "source": [
        "my_string = '  wolf pack  '"
      ]
    },
    {
      "cell_type": "code",
      "source": [
        "#create an upper case version of the string\n",
        "my_string.upper()"
      ],
      "metadata": {
        "id": "QCh-Kzo89V66",
        "outputId": "0fc969c9-9dda-4e62-8d3c-cf6cebc9173c",
        "colab": {
          "base_uri": "https://localhost:8080/",
          "height": 35
        }
      },
      "id": "QCh-Kzo89V66",
      "execution_count": 71,
      "outputs": [
        {
          "output_type": "execute_result",
          "data": {
            "text/plain": [
              "'  WOLF PACK  '"
            ],
            "application/vnd.google.colaboratory.intrinsic+json": {
              "type": "string"
            }
          },
          "metadata": {},
          "execution_count": 71
        }
      ]
    },
    {
      "cell_type": "code",
      "source": [
        "#this doesn't overwrite the string though!\n",
        "my_string"
      ],
      "metadata": {
        "id": "gjAHSC-E9U2J",
        "outputId": "40f02f20-71ae-40b6-82fc-18fb8a851117",
        "colab": {
          "base_uri": "https://localhost:8080/",
          "height": 35
        }
      },
      "id": "gjAHSC-E9U2J",
      "execution_count": 72,
      "outputs": [
        {
          "output_type": "execute_result",
          "data": {
            "text/plain": [
              "'  wolf pack  '"
            ],
            "application/vnd.google.colaboratory.intrinsic+json": {
              "type": "string"
            }
          },
          "metadata": {},
          "execution_count": 72
        }
      ]
    },
    {
      "cell_type": "code",
      "source": [
        "#remove whitespace from the ends\n",
        "my_string.strip()"
      ],
      "metadata": {
        "id": "LMs-U_zs9UtC",
        "outputId": "8113a780-ace8-45a8-f642-bb5d3750abe5",
        "colab": {
          "base_uri": "https://localhost:8080/",
          "height": 35
        }
      },
      "id": "LMs-U_zs9UtC",
      "execution_count": 74,
      "outputs": [
        {
          "output_type": "execute_result",
          "data": {
            "text/plain": [
              "'wolf pack'"
            ],
            "application/vnd.google.colaboratory.intrinsic+json": {
              "type": "string"
            }
          },
          "metadata": {},
          "execution_count": 74
        }
      ]
    },
    {
      "cell_type": "code",
      "execution_count": 75,
      "id": "371c6574",
      "metadata": {
        "lines_to_next_cell": 0,
        "id": "371c6574",
        "outputId": "cd058d0c-c956-439e-f4b2-a3cfc810a92f",
        "colab": {
          "base_uri": "https://localhost:8080/",
          "height": 35
        }
      },
      "outputs": [
        {
          "output_type": "execute_result",
          "data": {
            "text/plain": [
              "'  wolf peck  '"
            ],
            "application/vnd.google.colaboratory.intrinsic+json": {
              "type": "string"
            }
          },
          "metadata": {},
          "execution_count": 75
        }
      ],
      "source": [
        "#replace elements\n",
        "my_string.replace(\"a\", \"e\")"
      ]
    },
    {
      "cell_type": "code",
      "source": [
        "#split the string by a character (here a space) (note this returns a list!)\n",
        "my_string.strip().split(\" \")"
      ],
      "metadata": {
        "id": "wbm6kRm69kVx",
        "outputId": "7f3d329d-f922-4eb0-deda-71862f653d1a",
        "colab": {
          "base_uri": "https://localhost:8080/"
        }
      },
      "id": "wbm6kRm69kVx",
      "execution_count": 79,
      "outputs": [
        {
          "output_type": "execute_result",
          "data": {
            "text/plain": [
              "['wolf', 'pack']"
            ]
          },
          "metadata": {},
          "execution_count": 79
        }
      ]
    },
    {
      "cell_type": "markdown",
      "id": "cf814a85",
      "metadata": {
        "lines_to_next_cell": 0,
        "id": "cf814a85"
      },
      "source": [
        "---\n",
        "\n",
        "## Immutability of Strings\n",
        "\n",
        "- Strings are **immutable**\n",
        "\n",
        "    + **Individual characters** can't be modified\n",
        "    "
      ]
    },
    {
      "cell_type": "code",
      "execution_count": 55,
      "id": "f22c6d02",
      "metadata": {
        "error": true,
        "lines_to_next_cell": 2,
        "id": "f22c6d02",
        "outputId": "8c9f768f-116d-4b8b-834b-328b575fdbe7",
        "colab": {
          "base_uri": "https://localhost:8080/",
          "height": 210
        }
      },
      "outputs": [
        {
          "output_type": "error",
          "ename": "TypeError",
          "evalue": "ignored",
          "traceback": [
            "\u001b[0;31m---------------------------------------------------------------------------\u001b[0m",
            "\u001b[0;31mTypeError\u001b[0m                                 Traceback (most recent call last)",
            "\u001b[0;32m<ipython-input-55-865d7b8d0579>\u001b[0m in \u001b[0;36m<cell line: 3>\u001b[0;34m()\u001b[0m\n\u001b[1;32m      1\u001b[0m \u001b[0mmy_string\u001b[0m \u001b[0;34m=\u001b[0m \u001b[0;34m\"wolf pack\"\u001b[0m\u001b[0;34m\u001b[0m\u001b[0;34m\u001b[0m\u001b[0m\n\u001b[1;32m      2\u001b[0m \u001b[0;31m#this will throw an error\u001b[0m\u001b[0;34m\u001b[0m\u001b[0;34m\u001b[0m\u001b[0m\n\u001b[0;32m----> 3\u001b[0;31m \u001b[0mmy_string\u001b[0m\u001b[0;34m[\u001b[0m\u001b[0;36m1\u001b[0m\u001b[0;34m]\u001b[0m \u001b[0;34m=\u001b[0m \u001b[0;34m\"a\"\u001b[0m\u001b[0;34m\u001b[0m\u001b[0;34m\u001b[0m\u001b[0m\n\u001b[0m",
            "\u001b[0;31mTypeError\u001b[0m: 'str' object does not support item assignment"
          ]
        }
      ],
      "source": [
        "my_string = \"wolf pack\"\n",
        "#this will throw an error\n",
        "my_string[1] = \"a\""
      ]
    },
    {
      "cell_type": "markdown",
      "id": "de652aaa",
      "metadata": {
        "id": "de652aaa"
      },
      "source": [
        "---\n",
        "\n",
        "## Inserting Values Into Strings\n",
        "\n",
        "- Can use the `format()` method to insert numbers into strings:"
      ]
    },
    {
      "cell_type": "code",
      "execution_count": 80,
      "id": "93daac93",
      "metadata": {
        "id": "93daac93",
        "outputId": "9b30a6d0-9579-43da-858f-f46c7601066c",
        "colab": {
          "base_uri": "https://localhost:8080/"
        }
      },
      "outputs": [
        {
          "output_type": "stream",
          "name": "stdout",
          "text": [
            "I have 3 years of experience and would like a salary of 100000.\n"
          ]
        }
      ],
      "source": [
        "years = 3\n",
        "salary = 100000\n",
        "myorder = \"I have {1} years of experience and would like a salary of {0}.\"\n",
        "print(myorder.format(salary, years))"
      ]
    },
    {
      "cell_type": "markdown",
      "id": "5f73e893",
      "metadata": {
        "id": "5f73e893"
      },
      "source": [
        "- Don't need the numbers, but then you must position correctly  "
      ]
    },
    {
      "cell_type": "code",
      "execution_count": 81,
      "id": "99a78c86",
      "metadata": {
        "lines_to_next_cell": 2,
        "id": "99a78c86",
        "outputId": "02a9fb15-afb1-4ca8-b557-594d52afe48e",
        "colab": {
          "base_uri": "https://localhost:8080/"
        }
      },
      "outputs": [
        {
          "output_type": "stream",
          "name": "stdout",
          "text": [
            "I have 3 years of experience and would like a salary of 100000.\n"
          ]
        }
      ],
      "source": [
        "myorder = \"I have {} years of experience and would like a salary of {}.\"\n",
        "print(myorder.format(years, salary))"
      ]
    },
    {
      "cell_type": "markdown",
      "source": [
        "There are a few other ways to do this that we'll visit later on!"
      ],
      "metadata": {
        "id": "RH3R-CJO9wjR"
      },
      "id": "RH3R-CJO9wjR"
    },
    {
      "cell_type": "markdown",
      "id": "77e10a41",
      "metadata": {
        "id": "77e10a41"
      },
      "source": [
        "---\n",
        "\n",
        "## Video Demo\n",
        "\n",
        "This quick video demonstration shows some quick exercises with strings and lists."
      ]
    },
    {
      "cell_type": "markdown",
      "source": [
        "---\n",
        "\n",
        "# Recap\n",
        "\n",
        "- Lists are 1D ordered objects\n",
        "\n",
        "- Strings are sequences of characters\n",
        "\n",
        "    - Immutable\n",
        "\n",
        "    - Index with `[]` (starting at 0)\n",
        "\n",
        "    - Many functions and methods built in to help\n",
        "\n",
        "    - `+` for concatenation and `*` for repeating a string\n",
        "\n",
        "- Sequence type objects have similar behavior!\n"
      ],
      "metadata": {
        "id": "4NJPo2cF-Anh"
      },
      "id": "4NJPo2cF-Anh"
    }
  ],
  "metadata": {
    "jupytext": {
      "cell_metadata_filter": "tags,error,eval,warning,message,-all",
      "main_language": "python",
      "notebook_metadata_filter": "-all"
    },
    "colab": {
      "provenance": [],
      "toc_visible": true
    },
    "language_info": {
      "name": "python"
    },
    "kernelspec": {
      "name": "python3",
      "display_name": "Python 3"
    }
  },
  "nbformat": 4,
  "nbformat_minor": 5
}