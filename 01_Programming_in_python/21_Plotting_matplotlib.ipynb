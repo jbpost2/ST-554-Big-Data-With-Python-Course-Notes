{
 "cells": [
  {
   "cell_type": "raw",
   "id": "fe80a489",
   "metadata": {},
   "source": [
    "---\n",
    "title: \"Plotting with `matplotlib`\"\n",
    "author: \"Justin Post\"\n",
    "output:\n",
    "  xaringan::moon_reader:\n",
    "    seal: false\n",
    "    lib_dir: libs\n",
    "    css: [default, \"css/ncsu.css\", \"css/ncsu-fonts.css\", \"css/mycss.css\"]\n",
    "    nature:\n",
    "      beforeInit: [\"js/ncsu-scale.js\"]\n",
    "      highlightStyle: github\n",
    "      highlightLines: true\n",
    "      countIncrementalSlides: false\n",
    "      ratio: \"16:9\"\n",
    "    includes:\n",
    "      in_header: \"partials/header.html\"\n",
    "editor_options: \n",
    "  chunk_output_type: console\n",
    "---"
   ]
  },
  {
   "cell_type": "code",
   "execution_count": null,
   "id": "e3db8654",
   "metadata": {
    "lines_to_next_cell": 2,
    "message": false,
    "tags": [
     "remove_cell"
    ],
    "warning": false
   },
   "outputs": [],
   "source": [
    "%%R\n",
    "options(htmltools.dir.version = FALSE)\n",
    "knitr::opts_chunk$set(\n",
    "  message = FALSE,\n",
    "  warning = FALSE,\n",
    "  dev = \"svg\",\n",
    "  fig.align = \"center\",\n",
    "  #fig.width = 11,\n",
    "  #fig.height = 5\n",
    "  cache = FALSE\n",
    ")\n",
    "\n",
    "# define vars\n",
    "om = par(\"mar\")\n",
    "lowtop = c(om[1],om[2],0.1,om[4])\n",
    "library(tidyverse)\n",
    "library(knitr)\n",
    "library(reticulate)\n",
    "use_python(\"C:\\\\Users\\\\jbpost2\\\\AppData\\\\Local\\\\Programs\\\\Python\\\\Python310\\\\python.exe\")\n",
    "#use_python(\"C:\\\\python\\\\python.exe\")\n",
    "options(dplyr.print_min = 5)\n",
    "options(reticulate.repl.quiet = TRUE)"
   ]
  },
  {
   "cell_type": "markdown",
   "id": "06c63c3d",
   "metadata": {},
   "source": [
    "layout: false\n",
    "class: title-slide-section-red, middle"
   ]
  },
  {
   "cell_type": "markdown",
   "id": "e717c262",
   "metadata": {},
   "source": [
    "# Plotting with `matplotlib`\n",
    "Justin Post\n",
    "\n",
    "---\n",
    "layout: true\n",
    "\n",
    "<div class=\"my-footer\"><img src=\"img/logo.png\" style=\"height: 60px;\"/></div> \n"
   ]
  },
  {
   "cell_type": "markdown",
   "id": "25c57ba4",
   "metadata": {},
   "source": [
    "---\n",
    "\n",
    "# First Steps with Data\n",
    "\n",
    "- EDA generally consists of a few steps:\n",
    "\n",
    "    + Understand how your data is stored\n",
    "    + Do basic data validation\n",
    "    + Determine rate of missing values\n",
    "    + Clean data up data as needed\n",
    "    + Investigate distributions\n",
    "        - Univariate measures/graphs\n",
    "        - Multivariate measures/graphs\n",
    "    + Apply transformations and repeat previous step\n",
    "   \n",
    "---"
   ]
  },
  {
   "cell_type": "markdown",
   "id": "566a7a6c",
   "metadata": {},
   "source": [
    "# Making Sense of Data\n",
    "\n",
    "- Understand types of data and their distributions  \n",
    "\n",
    "- Graphical summaries (across subgroups)  \n",
    "\n",
    "    + Bar plots (categorical data)   \n",
    "    + Histograms  \n",
    "    + Box plots  \n",
    "    + Scatter plots\n",
    "    \n",
    "\n",
    "\n",
    "---\n",
    "\n",
    "# Graphical Summaries\n",
    "\n",
    "Some major systems for plotting:\n",
    "\n",
    "- `matplotlib`: [based on matlab](https://matplotlib.org/) plotting.  Similar to base R plotting\n",
    "\n",
    "- `seaborn`: an abstraction of `matplotlib` but [still growing](https://seaborn.pydata.org/nextgen/)\n",
    "\n",
    "- `Bokeh`: for [interactive visuals via HTML](https://bokeh.org/)\n",
    "\n",
    "- `plotly`: general plotting system that has a [python module](https://plotly.com/python/)\n",
    "\n",
    "- `plotnine`: [a ggplot port](https://plotnine.readthedocs.io/en/stable/)\n"
   ]
  },
  {
   "cell_type": "markdown",
   "id": "0f52db27",
   "metadata": {},
   "source": [
    "---\n",
    "\n",
    "# Plotting with `matplotlib`\n",
    "\n",
    "- Two APIs...\n",
    "    + Explicit axes interface (object oriented api)\n",
    "    + **Implicit pyplot interface**\n",
    "\n",
    "- Implicit\n",
    "    + `plt.figure()`, `plt.plot(...)`, `plt.scatter()`, `plt.bar()`, or `plt.hist()`\n",
    "    + Determine *axes* and *artist* elements    \n",
    "    + Add labels, legends, and annotations\n",
    "    + Produce the plot and then close it\n",
    "        + `plt.show()` then `plt.close()` (not usually needed in `jupyter`)\n",
    "    \n",
    "---\n",
    "\n",
    "# Reading in Data\n",
    "\n",
    "- Consider data on titanic passengers in `titanic.csv`\n",
    "- Start with a focus on plotting categorical data"
   ]
  },
  {
   "cell_type": "code",
   "execution_count": null,
   "id": "3b6aacaa",
   "metadata": {},
   "outputs": [],
   "source": [
    "import matplotlib.pyplot as plt\n",
    "import pandas as pd\n",
    "#readin data\n",
    "titanic_data = pd.read_csv(\"https://www4.stat.ncsu.edu/~online/datasets/titanic.csv\")\n",
    "#remove some columns and a bad row\n",
    "sub_titanic_data = titanic_data.drop(columns = [\"body\", \"cabin\", \"boat\"], axis = 1) \\\n",
    "                               .iloc[:(titanic_data.shape[0]-1)]\n",
    "#create category versions of the variables (some code omitted)\n",
    "sub_titanic_data[\"embarkedC\"] = sub_titanic_data.embarked.astype(\"category\")\n",
    "sub_titanic_data.embarkedC = sub_titanic_data.embarkedC.cat.rename_categories(\n",
    "                                    [\"Cherbourg\", \"Queenstown\", \"Southampton\"])"
   ]
  },
  {
   "cell_type": "code",
   "execution_count": null,
   "id": "f166de61",
   "metadata": {
    "tags": [
     "remove_input"
    ]
   },
   "outputs": [],
   "source": [
    "sub_titanic_data[\"sexC\"] = sub_titanic_data.sex.astype(\"category\")\n",
    "sub_titanic_data.sexC = sub_titanic_data.sexC.cat.rename_categories([\"Female\", \"Male\"])\n",
    "sub_titanic_data[\"survivedC\"] = sub_titanic_data.survived.astype(\"category\")\n",
    "sub_titanic_data.survivedC = sub_titanic_data.survivedC.cat.rename_categories([\"Died\", \"Survived\"])"
   ]
  },
  {
   "cell_type": "markdown",
   "id": "c3735f7b",
   "metadata": {},
   "source": [
    "---\n",
    "\n",
    "# Barplots\n",
    "\n",
    "Categorical variable - entries are a label or attribute   \n",
    "\n",
    "- Create summary counts\n",
    "- Barplots gives visual of those counts \n",
    "    + `plt.bar()`\n",
    "        - `x` represents the categories \n",
    "        - `height` the corresponding heights"
   ]
  },
  {
   "cell_type": "code",
   "execution_count": null,
   "id": "85d8b25f",
   "metadata": {
    "lines_to_next_cell": 2
   },
   "outputs": [],
   "source": [
    "table = sub_titanic_data.embarkedC.value_counts()\n",
    "print(table)"
   ]
  },
  {
   "cell_type": "markdown",
   "id": "3c3361d1",
   "metadata": {},
   "source": [
    "---\n",
    "\n",
    "layout: false\n",
    "\n",
    "# Barplots with `matplotlib`"
   ]
  },
  {
   "cell_type": "code",
   "execution_count": null,
   "id": "744d7b12",
   "metadata": {
    "fig.align": "center",
    "lines_to_next_cell": 2,
    "message": false,
    "out.width": "400px",
    "warning": false
   },
   "outputs": [],
   "source": [
    "plt.bar(x = sub_titanic_data.embarkedC.cat.categories,  height = table)\n",
    "plt.show()"
   ]
  },
  {
   "cell_type": "markdown",
   "id": "108fd1b6",
   "metadata": {},
   "source": [
    "---\n",
    "\n",
    "# Barplots with `matplotlib`"
   ]
  },
  {
   "cell_type": "code",
   "execution_count": null,
   "id": "2ec785fb",
   "metadata": {
    "fig.align": "center",
    "lines_to_next_cell": 2,
    "message": false,
    "out.width": "400px",
    "results": false,
    "warning": false
   },
   "outputs": [],
   "source": [
    "plt.bar(x = sub_titanic_data.embarkedC.cat.categories,  height = table)\n",
    "plt.xlabel(\"Port Embarked\"); plt.ylabel(\"Number of People\")\n",
    "plt.title(\"Most Embarked in the Southampton Port\"); plt.show()"
   ]
  },
  {
   "cell_type": "markdown",
   "id": "76795bd8",
   "metadata": {},
   "source": [
    "---\n",
    "\n",
    "# Barplots with `matplotlib`"
   ]
  },
  {
   "cell_type": "code",
   "execution_count": null,
   "id": "a08525a6",
   "metadata": {
    "fig.align": "center",
    "lines_to_next_cell": 0,
    "message": false,
    "out.width": "550px",
    "results": false,
    "warning": false
   },
   "outputs": [],
   "source": [
    "plt.subplots(figsize = (12,7))\n",
    "plt.bar(x = sub_titanic_data.embarkedC.cat.categories,  height = table)\n",
    "plt.xlabel(\"Port Embarked\"); plt.ylabel(\"Number of People\")\n",
    "plt.title(\"Most Embarked in the Southampton Port\"); plt.show()"
   ]
  },
  {
   "cell_type": "markdown",
   "id": "734c0c4b",
   "metadata": {},
   "source": []
  },
  {
   "cell_type": "markdown",
   "id": "495d1a91",
   "metadata": {},
   "source": [
    "---\n",
    "\n",
    "# Stacked Barplot with `matplotlib`\n",
    "\n",
    "- Color the bars by another categorical variable"
   ]
  },
  {
   "cell_type": "code",
   "execution_count": null,
   "id": "7617ff7e",
   "metadata": {
    "fig.align": "center",
    "out.width": "450px"
   },
   "outputs": [],
   "source": [
    "stack_table = pd.crosstab(sub_titanic_data.embarkedC, sub_titanic_data.survivedC)\n",
    "stack_table\n",
    "print(stack_table.loc[:, \"Survived\"])"
   ]
  },
  {
   "cell_type": "markdown",
   "id": "e6af0392",
   "metadata": {},
   "source": [
    "---\n",
    "\n",
    "# Stacked Barplot with `matplotlib`"
   ]
  },
  {
   "cell_type": "code",
   "execution_count": null,
   "id": "d28fa839",
   "metadata": {
    "eval": false,
    "message": false,
    "warning": false
   },
   "outputs": [],
   "source": [
    "plt.subplots(figsize = (12,7))\n",
    "p1 = plt.bar(\n",
    "  x = sub_titanic_data.embarkedC.cat.categories,  \n",
    "  height = stack_table.loc[:, \"Died\"],\n",
    "  label = \"Died\")\n",
    "p2 = plt.bar(\n",
    "  x = sub_titanic_data.embarkedC.cat.categories,  \n",
    "  height = stack_table.loc[:, \"Survived\"], \n",
    "  bottom = stack_table.loc[:, \"Died\"],\n",
    "  label = \"Survived\"\n",
    "  )\n",
    "plt.xlabel(\"Port Embarked\")\n",
    "plt.ylabel(\"Number of People\")\n",
    "plt.title(\"Most Embarked in the Southampton Port \\n A higher proportion survived from Cherbourg\")\n",
    "plt.legend(loc = 0)\n",
    "plt.show()"
   ]
  },
  {
   "cell_type": "markdown",
   "id": "0a06ebd1",
   "metadata": {},
   "source": [
    "---\n",
    "\n",
    "# Stacked Barplot with `matplotlib`"
   ]
  },
  {
   "cell_type": "code",
   "execution_count": null,
   "id": "5a12d1f6",
   "metadata": {
    "fig.align": "center",
    "lines_to_next_cell": 2,
    "message": false,
    "out.width": "750px",
    "results": false,
    "tags": [
     "remove_input"
    ],
    "warning": false
   },
   "outputs": [],
   "source": [
    "plt.subplots(figsize = (12,7))\n",
    "p1 = plt.bar(\n",
    "  x = sub_titanic_data.embarkedC.cat.categories,  \n",
    "  height = stack_table.loc[:, \"Died\"],\n",
    "  label = \"Died\")\n",
    "p2 = plt.bar(\n",
    "  x = sub_titanic_data.embarkedC.cat.categories,  \n",
    "  height = stack_table.loc[:, \"Survived\"], \n",
    "  bottom = stack_table.loc[:, \"Died\"],\n",
    "  label = \"Survived\"\n",
    "  )\n",
    "plt.xlabel(\"Port Embarked\")\n",
    "plt.ylabel(\"Number of People\")\n",
    "plt.title(\"Most Embarked in the Southampton Port \\n A higher proportion survived from Cherbourg\")\n",
    "plt.legend(loc = 0)\n",
    "plt.show()"
   ]
  },
  {
   "cell_type": "markdown",
   "id": "bd0bf5a1",
   "metadata": {},
   "source": [
    "---\n",
    "\n",
    "# Side-by-Side Barplot with `matplotlib`\n",
    "\n",
    "- Place bars next to each other for easier comparison\n",
    "- Need to have different x locations for each bar\n",
    "\n",
    "---\n",
    "\n",
    "# Side-by-Side Barplot with `matplotlib`\n",
    "\n",
    "- Place bars next to each other for easier comparison\n",
    "- Need to have different x locations for each bar"
   ]
  },
  {
   "cell_type": "code",
   "execution_count": null,
   "id": "163e0f7b",
   "metadata": {
    "eval": false,
    "lines_to_next_cell": 0,
    "message": false,
    "warning": false
   },
   "outputs": [],
   "source": [
    "labels = sub_titanic_data.embarkedC.cat.categories\n",
    "length = len(labels)\n",
    "width = 0.4\n",
    "plt.subplots(figsize = (12,7))\n",
    "p1 = plt.bar(\n",
    "  x = [i - width/2 for i in range(0, length)],  \n",
    "  height = stack_table.loc[:, \"Died\"],\n",
    "  width = width,\n",
    "  label = \"Died\")\n",
    "p2 = plt.bar(\n",
    "  x = [i + width/2 for i in range(0, length)],  \n",
    "  height = stack_table.loc[:, \"Survived\"],\n",
    "  width = width,\n",
    "  label = \"Survived\")\n",
    "plt.xticks(range(0, length), labels) #(list of positions, list of labels)\n",
    "plt.xlabel(\"Port Embarked\")\n",
    "plt.ylabel(\"Number of People\")\n",
    "plt.title(\"Most Embarked in the Southampton Port \\n A higher proportion survived from Cherbourg\")\n",
    "plt.show()"
   ]
  },
  {
   "cell_type": "markdown",
   "id": "5c718439",
   "metadata": {},
   "source": []
  },
  {
   "cell_type": "markdown",
   "id": "b37adb7f",
   "metadata": {},
   "source": [
    "---\n",
    "\n",
    "# Side-by-Side Barplot with `matplotlib`\n"
   ]
  },
  {
   "cell_type": "code",
   "execution_count": null,
   "id": "ff3d543b",
   "metadata": {
    "fig.align": "center",
    "lines_to_next_cell": 2,
    "message": false,
    "out.width": "750px",
    "results": false,
    "tags": [
     "remove_input"
    ],
    "warning": false
   },
   "outputs": [],
   "source": [
    "labels = sub_titanic_data.embarkedC.cat.categories\n",
    "length = len(labels)\n",
    "width = 0.4\n",
    "plt.subplots(figsize = (12,7))\n",
    "p1 = plt.bar(\n",
    "  x = [i - width/2 for i in range(0, length)],  \n",
    "  height = stack_table.loc[:, \"Died\"],\n",
    "  width = width,\n",
    "  label = \"Died\")\n",
    "p2 = plt.bar(\n",
    "  x = [i + width/2 for i in range(0, length)],  \n",
    "  height = stack_table.loc[:, \"Survived\"],\n",
    "  width = width,\n",
    "  label = \"Survived\")\n",
    "plt.xticks(range(0, length), labels) #(list of positions, list of labels)\n",
    "plt.xlabel(\"Port Embarked\")\n",
    "plt.ylabel(\"Number of People\")\n",
    "plt.title(\"Most Embarked in the Southampton Port \\n A higher proportion survived from Cherbourg\")\n",
    "plt.show()"
   ]
  },
  {
   "cell_type": "markdown",
   "id": "c58798e1",
   "metadata": {},
   "source": [
    "---\n",
    "\n",
    "# Plotting Numeric Variables    \n",
    "\n",
    "With two numeric variables, describe the shape via a scatter plot\n",
    "- `plt.scatter()` from `matplotlib`"
   ]
  },
  {
   "cell_type": "code",
   "execution_count": null,
   "id": "180e1517",
   "metadata": {
    "fig.align": "center",
    "lines_to_next_cell": 2,
    "out.width": "450px"
   },
   "outputs": [],
   "source": [
    "plt.subplots(figsize = (12,7))\n",
    "plt.scatter(sub_titanic_data.age, sub_titanic_data.fare)\n",
    "plt.xlabel(\"Age\"); plt.ylabel(\"Fare\"); plt.show()"
   ]
  },
  {
   "cell_type": "markdown",
   "id": "ba7c5842",
   "metadata": {},
   "source": [
    "---\n",
    "\n",
    "# To JupyterLab!  \n",
    "\n",
    "- Add a plot to our LLN function"
   ]
  },
  {
   "cell_type": "markdown",
   "id": "abc2f998",
   "metadata": {},
   "source": [
    "---\n",
    "\n",
    "# Recap\n",
    "\n",
    "- Must understand the type of data you have to visualize it\n",
    "- Goal: Describe the distribution\n",
    "\n",
    "- `matplotlib` can create custom plots\n",
    "\n",
    "    + Lots of work to specify everything yourself\n",
    "    \n",
    "- Many other plotting paradigms to consider!\n",
    "    + `pandas` and `seaborn` next\n"
   ]
  }
 ],
 "metadata": {
  "jupytext": {
   "cell_metadata_filter": "results,fig.align,out.width,tags,message,warning,eval,-all",
   "main_language": "python",
   "notebook_metadata_filter": "-all"
  }
 },
 "nbformat": 4,
 "nbformat_minor": 5
}
