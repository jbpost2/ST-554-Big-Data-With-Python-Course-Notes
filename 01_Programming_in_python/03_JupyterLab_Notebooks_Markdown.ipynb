{
 "cells": [
  {
   "cell_type": "raw",
   "id": "7e50d611",
   "metadata": {},
   "source": [
    "---\n",
    "title: \"JupyterLab Notebooks & Markdown\"\n",
    "author: \"Justin Post (Some notes modified from Dr. Eric Chi)\"\n",
    "output:\n",
    "  xaringan::moon_reader:\n",
    "    seal: false\n",
    "    lib_dir: libs\n",
    "    css: [default, \"css/ncsu.css\", \"css/ncsu-fonts.css\", \"css/mycss.css\"]\n",
    "    nature:\n",
    "      beforeInit: [\"js/ncsu-scale.js\"]\n",
    "      highlightStyle: github\n",
    "      highlightLines: true\n",
    "      countIncrementalSlides: false\n",
    "      ratio: \"16:9\"\n",
    "    includes:\n",
    "      in_header: \"partials/header.html\"\n",
    "editor_options: \n",
    "  chunk_output_type: console\n",
    "---"
   ]
  },
  {
   "cell_type": "code",
   "execution_count": null,
   "id": "b0573712",
   "metadata": {
    "lines_to_next_cell": 2,
    "message": false,
    "tags": [
     "remove_cell"
    ],
    "warning": false
   },
   "outputs": [],
   "source": [
    "options(htmltools.dir.version = FALSE)\n",
    "knitr::opts_chunk$set(\n",
    "  message = FALSE,\n",
    "  warning = FALSE,\n",
    "  dev = \"svg\",\n",
    "  fig.align = \"center\",\n",
    "  #fig.width = 11,\n",
    "  #fig.height = 5\n",
    "  cache = TRUE\n",
    ")\n",
    "\n",
    "# define vars\n",
    "om = par(\"mar\")\n",
    "lowtop = c(om[1],om[2],0.1,om[4])\n",
    "library(tidyverse)\n",
    "library(knitr)\n",
    "library(reticulate)\n",
    "use_python(\"C:\\\\Users\\\\jbpost2\\\\AppData\\\\Local\\\\Programs\\\\Python\\\\Python310\\\\python.exe\")\n",
    "#use_python(\"C:\\\\python\\\\python.exe\")\n",
    "options(dplyr.print_min = 5)\n",
    "options(reticulate.repl.quiet = TRUE)"
   ]
  },
  {
   "cell_type": "markdown",
   "id": "fc0f641d",
   "metadata": {},
   "source": [
    "layout: false\n",
    "class: title-slide-section-red, middle\n",
    "\n",
    "# Markdown Capabilities\n",
    "Justin Post\n",
    "\n",
    "---\n",
    "layout: true\n",
    "\n",
    "<div class=\"my-footer\"><img src=\"img/logo.png\" style=\"height: 60px;\"/></div> \n",
    "\n",
    "---\n",
    "    \n",
    "# What is Markdown?  \n",
    "\n",
    "- Most have heard of HTML (HyperText Mark-up Language)  \n",
    "    + Write plain text that the browser interprets and renders  \n",
    "    \n",
    "- Markdown is a specific markup language  \n",
    "    + Easier syntax  \n",
    "    + Not as powerful  \n",
    "    \n",
    "- Switch cell type to Markdown"
   ]
  },
  {
   "cell_type": "code",
   "execution_count": null,
   "id": "583911f8",
   "metadata": {
    "fig.align": "center",
    "lines_to_next_cell": 2,
    "out.width": "250px",
    "tags": [
     "remove_input"
    ]
   },
   "outputs": [],
   "source": [
    "knitr::include_graphics('img/cell.png')"
   ]
  },
  {
   "cell_type": "markdown",
   "id": "f34c93ba",
   "metadata": {},
   "source": [
    "---\n",
    "\n",
    "# Markdown Syntax  \n",
    "\n",
    "[Markdown Reference from Jupyter](https://jupyter-notebook.readthedocs.io/en/stable/examples/Notebook/Working%20With%20Markdown%20Cells.html)\n",
    "\n",
    "- Plain text  \n",
    "- End a line with two spaces and a return to start a new paragraph  \n",
    "- `*italics*` *and* `_italics_` \n",
    "- `**bold**` **and** `__bold__`\n",
    "- `~~strikethrough~~`  becomes ~~strikethrough~~ \n",
    "<!--Comment-->\n",
    "\n",
    "---\n",
    "\n",
    "# Markdown Syntax  \n",
    "\n",
    "[Markdown Reference from Jupyter](https://jupyter-notebook.readthedocs.io/en/stable/examples/Notebook/Working%20With%20Markdown%20Cells.html)\n",
    "\n",
    "- Three dashes for a thematic break\n",
    "- \\# Level 1 Header, \\#\\# Level 2 Header, to six levels\n",
    "- Use of headers can automatically creates a Table of Contents!\n",
    "    - Can create reference links:  (my_link) = \\#\\# Section to link\n",
    "    - Reference with: \\[Click here to jump\\](my_link)\n",
    "    \n",
    "- General link: \\[link\\](URL or relative link)\n",
    "- Include an image: \\!\\[\\](path/to/file.png)    "
   ]
  },
  {
   "cell_type": "markdown",
   "id": "99e7b952",
   "metadata": {},
   "source": [
    "---\n",
    "\n",
    "# Markdown Syntax\n",
    "\n",
    "[Markdown Reference from Jupyter](https://jupyter-notebook.readthedocs.io/en/stable/examples/Notebook/Working%20With%20Markdown%20Cells.html)\n",
    "\n",
    "- Surround text in backticks for monospace code font\n",
    "- Create an unordered list with a -, +, or *\n",
    "\n",
    "    + Indent sub lists four spaces  \n",
    "\n",
    "<div style = \"float: left; width: 50%\">\n",
    "\\* unordered list  \n",
    "\\* item 2  \n",
    "&nbsp;&nbsp;&nbsp;&nbsp;&nbsp;&nbsp;&nbsp;&nbsp;\\+ sub-item 1  \n",
    "&nbsp;&nbsp;&nbsp;&nbsp;&nbsp;&nbsp;&nbsp;&nbsp;\\+ sub-item 2  \n",
    "\n",
    "1. ordered list  \n",
    "2. item 2  \n",
    "&nbsp;&nbsp;&nbsp;&nbsp;\\+ sub-item 1  \n",
    "&nbsp;&nbsp;&nbsp;&nbsp;\\+ sub-item 2  \n",
    "</div>\n",
    "<div style = \"float: right; width: 50%\">\n",
    "* unordered list  \n",
    "* item 2  \n",
    "    + sub-item 1  \n",
    "    + sub-item 2  \n",
    "\n",
    "1. ordered list  \n",
    "2. item 2  \n",
    "    + sub-item 1  \n",
    "    + sub-item 2  \n",
    "</div>\n",
    "<!--comment-->"
   ]
  },
  {
   "cell_type": "markdown",
   "id": "cbc875ca",
   "metadata": {},
   "source": [
    "---\n",
    "  \n",
    "# Widgets and Such\n",
    "  \n",
    "[Widget Info](https://github.com/jupyter-widgets)\n",
    "\n",
    "- Lots of fun widgets that you can add\n",
    "    + Maps\n",
    "    + Sliders\n",
    "    + Text input    \n",
    "    + Check boxes\n",
    "    + Etc.\n",
    "\n",
    "---\n",
    "  \n",
    "# To JupyterLab!  \n",
    "  \n",
    "- Open our saved notebook  \n",
    "\n",
    "- Write up some text using markdown\n",
    "\n",
    "- Add some widgets and what not!"
   ]
  },
  {
   "cell_type": "markdown",
   "id": "fb1439f4",
   "metadata": {},
   "source": [
    "---\n",
    "  \n",
    "# Recap\n",
    "  \n",
    "- Markdown is a basic language for formatting text\n",
    "\n",
    "- `JupyterLab` gives a lot of functionality for markdown and more!"
   ]
  }
 ],
 "metadata": {
  "jupytext": {
   "cell_metadata_filter": "warning,fig.align,message,tags,out.width,-all",
   "main_language": "R",
   "notebook_metadata_filter": "-all"
  }
 },
 "nbformat": 4,
 "nbformat_minor": 5
}
