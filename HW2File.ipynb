{
  "cells": [
    {
      "cell_type": "markdown",
      "metadata": {
        "id": "view-in-github",
        "colab_type": "text"
      },
      "source": [
        "<a href=\"https://colab.research.google.com/github/jbpost2/ST-554-Big-Data-With-Python-Course-Notes/blob/main/HW2File.ipynb\" target=\"_parent\"><img src=\"https://colab.research.google.com/assets/colab-badge.svg\" alt=\"Open In Colab\"/></a>"
      ]
    },
    {
      "cell_type": "markdown",
      "id": "d13e7921-c397-4319-ab2b-ded20bb1c79e",
      "metadata": {
        "id": "d13e7921-c397-4319-ab2b-ded20bb1c79e"
      },
      "source": [
        "# Homework 2 Solutions"
      ]
    },
    {
      "cell_type": "markdown",
      "id": "9b6f4ac9-fd69-4cc5-9f6c-e084ac845bd1",
      "metadata": {
        "id": "9b6f4ac9-fd69-4cc5-9f6c-e084ac845bd1"
      },
      "source": [
        "## Part 1 - List and `numpy` practice\n",
        "\n",
        "For this part, import the `numpy` library and the *new* way to do random number generation using `numpy` given [here](https://numpy.org/doc/stable/reference/random/index.html#random-quick-start).\n",
        "\n",
        "Generate 30 values from a Poisson distribution with $\\lambda = 3$ and print those out.  Note: each time you run your code you'll get different values unless you set a seed."
      ]
    },
    {
      "cell_type": "code",
      "execution_count": null,
      "id": "f9d868a7-192f-4ce6-9dcf-84db039a2df4",
      "metadata": {
        "id": "f9d868a7-192f-4ce6-9dcf-84db039a2df4",
        "outputId": "bbe205a3-835d-4d94-949f-1ab1e90a3886",
        "colab": {
          "base_uri": "https://localhost:8080/"
        }
      },
      "outputs": [
        {
          "output_type": "stream",
          "name": "stdout",
          "text": [
            "[4 4 4 2 2 6 3 4 2 5 3 4 4 1 4 4 3 7 2 2 2 0 2 4 5 3 3 3 5 1]\n"
          ]
        }
      ],
      "source": [
        "import numpy as np\n",
        "from numpy.random import default_rng\n",
        "rng = default_rng(seed = 1)\n",
        "\n",
        "vals = rng.poisson(lam = 3, size = 30)\n",
        "print(vals)"
      ]
    },
    {
      "cell_type": "markdown",
      "id": "3c9aa60b-4ff8-4967-9682-8fd502dfa020",
      "metadata": {
        "id": "3c9aa60b-4ff8-4967-9682-8fd502dfa020"
      },
      "source": [
        "Use `numpy`'s mean function to find the mean of your 30 values above."
      ]
    },
    {
      "cell_type": "code",
      "execution_count": null,
      "id": "2418156e-3715-4a6f-b0bb-5ee9a3d61d9a",
      "metadata": {
        "id": "2418156e-3715-4a6f-b0bb-5ee9a3d61d9a",
        "outputId": "b8d91a39-eecc-4edf-c266-ba35a42f3cc5"
      },
      "outputs": [
        {
          "data": {
            "text/plain": [
              "3.2666666666666666"
            ]
          },
          "execution_count": 8,
          "metadata": {},
          "output_type": "execute_result"
        }
      ],
      "source": [
        "np.mean(vals)"
      ]
    },
    {
      "cell_type": "markdown",
      "id": "d702c759-fd7e-4764-87de-66009962bb2c",
      "metadata": {
        "id": "d702c759-fd7e-4764-87de-66009962bb2c"
      },
      "source": [
        "Use a list comprehension to generate 5000 data sets from the Poisson with mean 3 and return the mean (within the list comprehension - no need to return the values themselves).  \n",
        "\n",
        "If it helps, write this via a for loop first and then translate it to a list comprehension!"
      ]
    },
    {
      "cell_type": "code",
      "execution_count": null,
      "id": "231f651f-d1b1-4f88-a0b7-a0aa52fa57c6",
      "metadata": {
        "id": "231f651f-d1b1-4f88-a0b7-a0aa52fa57c6"
      },
      "outputs": [],
      "source": [
        "#for loop just to show that way of doing this\n",
        "list_for_means = []\n",
        "for _ in range(0, 5000):\n",
        "    list_for_means.append(np.mean(rng.poisson(3,30)))"
      ]
    },
    {
      "cell_type": "code",
      "source": [
        "list_for_means[:5]"
      ],
      "metadata": {
        "id": "FdhK41ZQkPz4",
        "outputId": "ca3ff730-5e7e-476b-b1f3-9e2727c252ca",
        "colab": {
          "base_uri": "https://localhost:8080/"
        }
      },
      "id": "FdhK41ZQkPz4",
      "execution_count": null,
      "outputs": [
        {
          "output_type": "execute_result",
          "data": {
            "text/plain": [
              "[3.1333333333333333, 2.3, 3.2666666666666666, 3.1, 3.1333333333333333]"
            ]
          },
          "metadata": {},
          "execution_count": 3
        }
      ]
    },
    {
      "cell_type": "code",
      "execution_count": null,
      "id": "636be4ae-c9f4-4682-a30f-105bc22c9454",
      "metadata": {
        "id": "636be4ae-c9f4-4682-a30f-105bc22c9454",
        "outputId": "10aab48f-a3b1-43e8-a836-0d112a701c37",
        "colab": {
          "base_uri": "https://localhost:8080/"
        }
      },
      "outputs": [
        {
          "output_type": "execute_result",
          "data": {
            "text/plain": [
              "[2.6, 2.7, 2.7666666666666666, 3.6666666666666665, 3.1666666666666665]"
            ]
          },
          "metadata": {},
          "execution_count": 4
        }
      ],
      "source": [
        "#using a list comprehension\n",
        "poisson_means = [np.mean(rng.poisson(3, 30)) for _ in range(0,5000)]\n",
        "poisson_means[:5]"
      ]
    },
    {
      "cell_type": "markdown",
      "id": "bb8375f4-4e72-4c41-a9da-2628818c207a",
      "metadata": {
        "id": "bb8375f4-4e72-4c41-a9da-2628818c207a"
      },
      "source": [
        "Now run the code below to create a histogram of the means (make sure you've installed the `matplotlib` module). You should see a histogram that looks roughly like a Normal distribution with mean 0 and standard deviation $\\frac{1}{\\sqrt{10}}$."
      ]
    },
    {
      "cell_type": "code",
      "execution_count": null,
      "id": "a7c2290e-d8a8-4928-955e-db86157ba879",
      "metadata": {
        "id": "a7c2290e-d8a8-4928-955e-db86157ba879",
        "outputId": "52a9e043-1344-4b79-9103-eb50dab18730",
        "colab": {
          "base_uri": "https://localhost:8080/",
          "height": 448
        }
      },
      "outputs": [
        {
          "output_type": "stream",
          "name": "stdout",
          "text": [
            "0.31400772927500437 0.31622776601683794\n"
          ]
        },
        {
          "output_type": "display_data",
          "data": {
            "text/plain": [
              "<Figure size 640x480 with 1 Axes>"
            ],
            "image/png": "[encoded data removed]"
          },
          "metadata": {}
        }
      ],
      "source": [
        "import matplotlib.pyplot as plt\n",
        "plt.hist(poisson_means)\n",
        "print(np.std(poisson_means), np.sqrt(1/10))  #just to check"
      ]
    },
    {
      "cell_type": "markdown",
      "source": [
        "Lastly, we’ll wrap the above process into a function."
      ],
      "metadata": {
        "id": "TGfKxVpMkfo-"
      },
      "id": "TGfKxVpMkfo-"
    },
    {
      "cell_type": "code",
      "source": [
        "def plot_poisson_means(mean = 3, n = 30, bins = None):\n",
        "    if bins is None:\n",
        "        plt.hist([np.mean(rng.poisson(mean, n)) for _ in range(0,5000)])\n",
        "    else:\n",
        "        plt.hist([np.mean(rng.poisson(mean, n)) for _ in range(0,5000)], bins = bins)"
      ],
      "metadata": {
        "id": "N3zso7HjkjDW"
      },
      "id": "N3zso7HjkjDW",
      "execution_count": null,
      "outputs": []
    },
    {
      "cell_type": "code",
      "source": [
        "plot_poisson_means()"
      ],
      "metadata": {
        "id": "B43CjhiclXCS",
        "outputId": "9d25e535-a4f4-4cc0-883b-c40080a76eb2",
        "colab": {
          "base_uri": "https://localhost:8080/",
          "height": 435
        }
      },
      "id": "B43CjhiclXCS",
      "execution_count": null,
      "outputs": [
        {
          "output_type": "display_data",
          "data": {
            "text/plain": [
              "<Figure size 640x480 with 1 Axes>"
            ],
            "image/png": "[encoded data removed]"
          },
          "metadata": {}
        }
      ]
    },
    {
      "cell_type": "code",
      "source": [
        "plot_poisson_means(mean = 100, n = 100, bins = 20)"
      ],
      "metadata": {
        "id": "rq6hqAMklY5R",
        "outputId": "8e0898c7-6aa4-4183-b1db-9d65126fec2b",
        "colab": {
          "base_uri": "https://localhost:8080/",
          "height": 430
        }
      },
      "id": "rq6hqAMklY5R",
      "execution_count": null,
      "outputs": [
        {
          "output_type": "display_data",
          "data": {
            "text/plain": [
              "<Figure size 640x480 with 1 Axes>"
            ],
            "image/png": "[encoded data removed]"
          },
          "metadata": {}
        }
      ]
    },
    {
      "cell_type": "markdown",
      "id": "363b1501-985d-4878-ab6c-efd1369baa12",
      "metadata": {
        "id": "363b1501-985d-4878-ab6c-efd1369baa12"
      },
      "source": [
        "## Part 2 - Dictionary Practice\n",
        "\n",
        "In this part, we'll count the number of words in a book using a for loop and a dictionary.  Use the code below to read in the book as a string.  Remember you'll need to place the `.txt` file somewhere python can find it."
      ]
    },
    {
      "cell_type": "code",
      "execution_count": null,
      "id": "edc619b6-a9ca-47eb-afa6-a366dbf4681e",
      "metadata": {
        "id": "edc619b6-a9ca-47eb-afa6-a366dbf4681e"
      },
      "outputs": [],
      "source": [
        "#read in string\n",
        "import urllib.request\n",
        "url = \"https://www4.stat.ncsu.edu/~online/datasets/charles-dickens-oliver-twist.txt\"\n",
        "urllib.request.urlretrieve(url, 'charles-dickens-oliver-twist.txt')\n",
        "with open('charles-dickens-oliver-twist.txt', 'r') as f:\n",
        "    lines = f.read()"
      ]
    },
    {
      "cell_type": "code",
      "source": [
        "print(lines[:1000])\n",
        "print(lines[(len(lines)-1000):])"
      ],
      "metadata": {
        "id": "VahVdtPClmSg",
        "outputId": "035eb0ee-5a19-4de6-df71-4d16ee6da494",
        "colab": {
          "base_uri": "https://localhost:8080/"
        }
      },
      "id": "VahVdtPClmSg",
      "execution_count": null,
      "outputs": [
        {
          "output_type": "stream",
          "name": "stdout",
          "text": [
            "﻿The Project Gutenberg EBook of Oliver Twist, by Charles Dickens\n",
            "\n",
            "This eBook is for the use of anyone anywhere at no cost and with\n",
            "almost no restrictions whatsoever.  You may copy it, give it away or\n",
            "re-use it under the terms of the Project Gutenberg License included\n",
            "with this eBook or online at www.gutenberg.net\n",
            "\n",
            "\n",
            "Title: Oliver Twist\n",
            "\n",
            "Author: Charles Dickens\n",
            "\n",
            "Posting Date: October 10, 2008 [EBook #730]\n",
            "Release Date: November, 1996\n",
            "\n",
            "Language: English\n",
            "\n",
            "\n",
            "*** START OF THIS PROJECT GUTENBERG EBOOK OLIVER TWIST ***\n",
            "\n",
            "\n",
            "\n",
            "\n",
            "Produced by Peggy Gaugy and Leigh Little.  HTML version by Al Haines.\n",
            "\n",
            "\n",
            "\n",
            "\n",
            "\n",
            "\n",
            "\n",
            "\n",
            "\n",
            "OLIVER TWIST\n",
            "\n",
            "OR\n",
            "\n",
            "THE PARISH BOY'S PROGRESS\n",
            "\n",
            "\n",
            "BY\n",
            "\n",
            "CHARLES DICKENS\n",
            "\n",
            "\n",
            "\n",
            "\n",
            "CONTENTS\n",
            "\n",
            "       I  TREATS OF THE PLACE WHERE OLIVER TWIST WAS BORN AND OF THE\n",
            "          CIRCUMSTANCES ATTENDING HIS BIRTH\n",
            "      II  TREATS OF OLIVER TWIST'S GROWTH, EDUCATION, AND BOARD\n",
            "     III  RELATES HOW OLIVER TWIST WAS VERY NEAR GETTING A PLACE WHICH\n",
            "          WOULD NOT HAVE BEEN A SINECURE\n",
            "      IV  OLIVER, BEING OFFERED \n",
            "glaf.org/donate\n",
            "\n",
            "\n",
            "Section 5.  General Information About Project Gutenberg-tm electronic\n",
            "works.\n",
            "\n",
            "Professor Michael S. Hart is the originator of the Project Gutenberg-tm\n",
            "concept of a library of electronic works that could be freely shared\n",
            "with anyone.  For thirty years, he produced and distributed Project\n",
            "Gutenberg-tm eBooks with only a loose network of volunteer support.\n",
            "\n",
            "\n",
            "Project Gutenberg-tm eBooks are often created from several printed\n",
            "editions, all of which are confirmed as Public Domain in the U.S.\n",
            "unless a copyright notice is included.  Thus, we do not necessarily\n",
            "keep eBooks in compliance with any particular paper edition.\n",
            "\n",
            "\n",
            "Most people start at our Web site which has the main PG search facility:\n",
            "\n",
            "     http://www.gutenberg.net\n",
            "\n",
            "This Web site includes information about Project Gutenberg-tm,\n",
            "including how to make donations to the Project Gutenberg Literary\n",
            "Archive Foundation, how to help produce our new eBooks, and how to\n",
            "subscribe to our email newsletter to hear about new eBooks.\n",
            "\n"
          ]
        }
      ]
    },
    {
      "cell_type": "markdown",
      "id": "c2e13ccd-d30f-4cc7-8d34-f0c8fe796aec",
      "metadata": {
        "id": "c2e13ccd-d30f-4cc7-8d34-f0c8fe796aec"
      },
      "source": [
        "Remove everything up to “CHAPTER I” (but leave “CHAPTER I” in the resulting text) and remove everything that isn’t part of the actual book at the end (“End of the Project Gutenberg EBook”).\n"
      ]
    },
    {
      "cell_type": "code",
      "execution_count": null,
      "id": "63b1a57e-a911-46d7-8a95-bcf81ccabe24",
      "metadata": {
        "id": "63b1a57e-a911-46d7-8a95-bcf81ccabe24",
        "outputId": "0121dda9-6c23-4b3c-c230-357941710899",
        "colab": {
          "base_uri": "https://localhost:8080/"
        }
      },
      "outputs": [
        {
          "output_type": "stream",
          "name": "stdout",
          "text": [
            "CHAPTER I\n",
            "\n",
            "TREATS OF THE PLACE WHERE OLIVER TWIST WAS BORN AND OF THE\n",
            "CIRCUMSTANCES ATTENDING HIS BIRTH\n",
            "\n",
            "Among other public buildings in a certain town, which for many reasons\n",
            "it will be prudent to refrain from mentioning, and to which I will\n",
            "assign  \n",
            "\n",
            " d by the love--the love beyond the\n",
            "grave--of those whom they knew in life, I believe that the shade of\n",
            "Agnes sometimes hovers round that solemn nook. I believe it none the\n",
            "less because that nook is in a Church, and she was weak and erring.\n",
            "\n",
            "\n",
            "\n",
            "\n",
            "\n",
            "\n",
            "\n",
            "\n",
            "\n",
            "\n",
            "\n"
          ]
        }
      ],
      "source": [
        "#get indices for the first and last bits\n",
        "first_bit = lines.find(\"CHAPTER I\")\n",
        "last_bit = lines.find(\"End of the Project Gutenberg EBook\")\n",
        "mylines = lines[first_bit:last_bit]\n",
        "#check that it worked correctly by printing out the first 250 and last 250 characters\n",
        "print(mylines[:250], \"\\n\\n\", mylines[-250:])"
      ]
    },
    {
      "cell_type": "markdown",
      "id": "be9b4367-2266-4a76-8e7b-48d76596dc6d",
      "metadata": {
        "id": "be9b4367-2266-4a76-8e7b-48d76596dc6d"
      },
      "source": [
        "Our goal is to iterate through the words in the book and count the number of times each word occurs. We can use a dictionary to store this type of data! For instance, you’ll end up with a key of “the” with a corresponding value being the number of times “the” occurred.\n",
        "\n",
        "Some hints:\n",
        "- Replace all the \\n values with spaces as we did previously\n",
        "- Split the string by spaces and save that resulting list\n",
        "- Initialize a dictionary to save your words (keys) and counts in (values)\n",
        "- Import the string module as you’ll need some things from that\n",
        "-  Use a for loop, iterating over the list elements. When iterating:\n",
        "  + If you get a space, ignore that iteration of the loop (that is move to the next iteration)\n",
        "  + Convert each 'word' to lower case\n",
        "  + We'll need to remove any punctuation (for instance, \"end.\" would need the '.' removed).\n",
        "    * The object `string.punctuation` has a list of punctuation marks\n",
        "    * You can write a nested for loop that iterates over the values in `string.punctuation`.  If the punctuation value exists in the 'word' then you can use the `.replace()` method to replace it with an empty string \"\".  This loop should remove any punctuation!  (Note: this will make words like didn't into didnt, that's fine - ignore that as it will still count appropriately for the most part.)\n",
        "    + Now the 'word' is processed and we are ready to count.  Use `if`/`else` logic to check if the the word already exists in the dictionary.  If it does, add one to the associated value.  If not, add that key to the dictionary with a value of 1."
      ]
    },
    {
      "cell_type": "code",
      "execution_count": null,
      "id": "1b4a5b9d-2177-4b4b-b3b5-b441f1a408e5",
      "metadata": {
        "id": "1b4a5b9d-2177-4b4b-b3b5-b441f1a408e5"
      },
      "outputs": [],
      "source": [
        "#import string so we can get punctuation\n",
        "import string\n",
        "\n",
        "word_count_dictionary = {}\n",
        "lines_short = mylines.replace(\"\\n\", \" \")\n",
        "book = lines_short.split(\" \")\n",
        "# now loop through the elements\n",
        "for word in book:\n",
        "    #if it is a space move on\n",
        "    if not word:\n",
        "        continue\n",
        "    #lowercase everything to make it match up\n",
        "    word = word.lower()\n",
        "    #need to remove any punctionation, ., ', !, ?, etc. (this will mess up didn't etc. but let's ignore that)\n",
        "    for symbol in string.punctuation:\n",
        "        word = word.replace(symbol, \"\")\n",
        "    #now add to the dictionary\n",
        "    if word in word_count_dictionary:\n",
        "        word_count_dictionary[word] += 1\n",
        "    else:\n",
        "        word_count_dictionary[word] = 1"
      ]
    },
    {
      "cell_type": "markdown",
      "id": "a2cdc569-0e52-4c44-9d1c-665773c47ac0",
      "metadata": {
        "id": "a2cdc569-0e52-4c44-9d1c-665773c47ac0"
      },
      "source": [
        "We want to print out the 40 most prevalent words and how prevalent they were (i.e. the 40 most\n",
        "prevalent key/value pairs)."
      ]
    },
    {
      "cell_type": "code",
      "execution_count": null,
      "id": "022876b3-c535-4305-8123-4e682a671a15",
      "metadata": {
        "id": "022876b3-c535-4305-8123-4e682a671a15",
        "outputId": "247b34fa-e414-46b8-d196-60df3a0937d4",
        "colab": {
          "base_uri": "https://localhost:8080/"
        }
      },
      "outputs": [
        {
          "output_type": "execute_result",
          "data": {
            "text/plain": [
              "['the',\n",
              " 'and',\n",
              " 'to',\n",
              " 'of',\n",
              " 'a',\n",
              " 'he',\n",
              " 'in',\n",
              " 'his',\n",
              " 'that',\n",
              " 'was',\n",
              " 'it',\n",
              " 'i',\n",
              " 'you',\n",
              " 'with',\n",
              " 'as',\n",
              " 'said',\n",
              " 'had',\n",
              " 'for',\n",
              " 'mr',\n",
              " 'him',\n",
              " 'at',\n",
              " 'on',\n",
              " 'which',\n",
              " 'this',\n",
              " 'her',\n",
              " 'not',\n",
              " 'be',\n",
              " 'by',\n",
              " 'have',\n",
              " 'oliver',\n",
              " 'but',\n",
              " 'is',\n",
              " 'they',\n",
              " 'from',\n",
              " 'all',\n",
              " 'if',\n",
              " 'me',\n",
              " 'so',\n",
              " 'no',\n",
              " 'were']"
            ]
          },
          "metadata": {},
          "execution_count": 24
        }
      ],
      "source": [
        "prevalent = sorted(word_count_dictionary, key = word_count_dictionary.get, reverse = True)\n",
        "prevalent[:40]"
      ]
    },
    {
      "cell_type": "code",
      "execution_count": null,
      "id": "48763f71-86c1-4b53-873d-a8b466aea5a7",
      "metadata": {
        "id": "48763f71-86c1-4b53-873d-a8b466aea5a7",
        "outputId": "689b2552-5161-4392-f67e-4e9aca8b17ac",
        "colab": {
          "base_uri": "https://localhost:8080/"
        }
      },
      "outputs": [
        {
          "output_type": "stream",
          "name": "stdout",
          "text": [
            "the :  9558\n",
            "and :  5322\n",
            "to :  3850\n",
            "of :  3829\n",
            "a :  3696\n",
            "he :  2389\n",
            "in :  2362\n",
            "his :  2343\n",
            "that :  1827\n",
            "was :  1783\n",
            "it :  1705\n",
            "i :  1625\n",
            "you :  1602\n",
            "with :  1562\n",
            "as :  1313\n",
            "said :  1230\n",
            "had :  1223\n",
            "for :  1140\n",
            "mr :  1070\n",
            "him :  1057\n",
            "at :  986\n",
            "on :  931\n",
            "which :  870\n",
            "this :  795\n",
            "her :  781\n",
            "not :  775\n",
            "be :  768\n",
            "by :  766\n",
            "have :  757\n",
            "oliver :  746\n",
            "but :  720\n",
            "is :  713\n",
            "they :  675\n",
            "from :  630\n",
            "all :  603\n",
            "if :  593\n",
            "me :  588\n",
            "so :  579\n",
            "no :  578\n",
            "were :  557\n"
          ]
        }
      ],
      "source": [
        "for i in prevalent[:40]:\n",
        "    print(i, \": \", word_count_dictionary.get(i))"
      ]
    },
    {
      "cell_type": "markdown",
      "source": [
        "Remove stop words."
      ],
      "metadata": {
        "id": "110f55a2-2627-4312-9a63-ba92117c8be4"
      },
      "id": "110f55a2-2627-4312-9a63-ba92117c8be4"
    },
    {
      "cell_type": "code",
      "source": [
        "stop_words = [\"the\", \"and\", \"to\", \"of\", \"a\", \"in\", \"that\", \"with\", \"for\", \"at\", \"on\"]\n",
        "for stop in stop_words:\n",
        "  if stop in word_count_dictionary:\n",
        "    del word_count_dictionary[stop]\n",
        "\n",
        "prevalent = sorted(word_count_dictionary, key = word_count_dictionary.get, reverse = True)\n",
        "for i in prevalent[:40]:\n",
        "    print(i, \": \", word_count_dictionary.get(i))"
      ],
      "metadata": {
        "id": "1saGRS_dmnC8",
        "outputId": "f41b9878-0c5a-469e-e861-9fbabd2a1aa8",
        "colab": {
          "base_uri": "https://localhost:8080/"
        }
      },
      "id": "1saGRS_dmnC8",
      "execution_count": null,
      "outputs": [
        {
          "output_type": "stream",
          "name": "stdout",
          "text": [
            "he :  2389\n",
            "his :  2343\n",
            "was :  1783\n",
            "it :  1705\n",
            "i :  1625\n",
            "you :  1602\n",
            "as :  1313\n",
            "said :  1230\n",
            "had :  1223\n",
            "mr :  1070\n",
            "him :  1057\n",
            "which :  870\n",
            "this :  795\n",
            "her :  781\n",
            "not :  775\n",
            "be :  768\n",
            "by :  766\n",
            "have :  757\n",
            "oliver :  746\n",
            "but :  720\n",
            "is :  713\n",
            "they :  675\n",
            "from :  630\n",
            "all :  603\n",
            "if :  593\n",
            "me :  588\n",
            "so :  579\n",
            "no :  578\n",
            "were :  557\n",
            "she :  550\n",
            "who :  511\n",
            "my :  506\n",
            "there :  497\n",
            "or :  496\n",
            "when :  490\n",
            "up :  488\n",
            "very :  485\n",
            "what :  478\n",
            "upon :  477\n",
            "replied :  464\n"
          ]
        }
      ]
    },
    {
      "cell_type": "code",
      "source": [],
      "metadata": {
        "id": "wXm0Wf9om8my"
      },
      "id": "wXm0Wf9om8my",
      "execution_count": null,
      "outputs": []
    }
  ],
  "metadata": {
    "kernelspec": {
      "display_name": "Python 3 (ipykernel)",
      "language": "python",
      "name": "python3"
    },
    "language_info": {
      "codemirror_mode": {
        "name": "ipython",
        "version": 3
      },
      "file_extension": ".py",
      "mimetype": "text/x-python",
      "name": "python",
      "nbconvert_exporter": "python",
      "pygments_lexer": "ipython3",
      "version": "3.10.8"
    },
    "colab": {
      "provenance": [],
      "toc_visible": true,
      "include_colab_link": true
    }
  },
  "nbformat": 4,
  "nbformat_minor": 5
}