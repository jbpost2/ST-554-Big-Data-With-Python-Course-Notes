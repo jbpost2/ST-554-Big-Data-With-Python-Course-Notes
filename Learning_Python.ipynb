{
  "nbformat": 4,
  "nbformat_minor": 0,
  "metadata": {
    "colab": {
      "provenance": [],
      "authorship_tag": "ABX9TyO/DMsLOssH9WodIVW5C7vE",
      "include_colab_link": true
    },
    "kernelspec": {
      "name": "python3",
      "display_name": "Python 3"
    },
    "language_info": {
      "name": "python"
    },
    "widgets": {
      "application/vnd.jupyter.widget-state+json": {
        "259088f3a70c4fd5b01cfda6424a21ef": {
          "model_module": "@jupyter-widgets/controls",
          "model_name": "VBoxModel",
          "model_module_version": "1.5.0",
          "state": {
            "_dom_classes": [
              "widget-interact"
            ],
            "_model_module": "@jupyter-widgets/controls",
            "_model_module_version": "1.5.0",
            "_model_name": "VBoxModel",
            "_view_count": null,
            "_view_module": "@jupyter-widgets/controls",
            "_view_module_version": "1.5.0",
            "_view_name": "VBoxView",
            "box_style": "",
            "children": [
              "IPY_MODEL_f05bb238caad499e947de2313a48c88d",
              "IPY_MODEL_83e91297cb4f4c60b50f136c865bed0a"
            ],
            "layout": "IPY_MODEL_5f8138101a63426aa6fe4fc8776b415c"
          }
        },
        "f05bb238caad499e947de2313a48c88d": {
          "model_module": "@jupyter-widgets/controls",
          "model_name": "IntSliderModel",
          "model_module_version": "1.5.0",
          "state": {
            "_dom_classes": [],
            "_model_module": "@jupyter-widgets/controls",
            "_model_module_version": "1.5.0",
            "_model_name": "IntSliderModel",
            "_view_count": null,
            "_view_module": "@jupyter-widgets/controls",
            "_view_module_version": "1.5.0",
            "_view_name": "IntSliderView",
            "continuous_update": true,
            "description": "bins",
            "description_tooltip": null,
            "disabled": false,
            "layout": "IPY_MODEL_93433abad8674ba99496efa3b5ee32e9",
            "max": 20,
            "min": 1,
            "orientation": "horizontal",
            "readout": true,
            "readout_format": "d",
            "step": 1,
            "style": "IPY_MODEL_0a460c43cbdf4fbdbb2173ae5b30c046",
            "value": 10
          }
        },
        "83e91297cb4f4c60b50f136c865bed0a": {
          "model_module": "@jupyter-widgets/output",
          "model_name": "OutputModel",
          "model_module_version": "1.0.0",
          "state": {
            "_dom_classes": [],
            "_model_module": "@jupyter-widgets/output",
            "_model_module_version": "1.0.0",
            "_model_name": "OutputModel",
            "_view_count": null,
            "_view_module": "@jupyter-widgets/output",
            "_view_module_version": "1.0.0",
            "_view_name": "OutputView",
            "layout": "IPY_MODEL_3579a40f676741dfb03588511ad14a18",
            "msg_id": "",
            "outputs": []
          }
        },
        "5f8138101a63426aa6fe4fc8776b415c": {
          "model_module": "@jupyter-widgets/base",
          "model_name": "LayoutModel",
          "model_module_version": "1.2.0",
          "state": {
            "_model_module": "@jupyter-widgets/base",
            "_model_module_version": "1.2.0",
            "_model_name": "LayoutModel",
            "_view_count": null,
            "_view_module": "@jupyter-widgets/base",
            "_view_module_version": "1.2.0",
            "_view_name": "LayoutView",
            "align_content": null,
            "align_items": null,
            "align_self": null,
            "border": null,
            "bottom": null,
            "display": null,
            "flex": null,
            "flex_flow": null,
            "grid_area": null,
            "grid_auto_columns": null,
            "grid_auto_flow": null,
            "grid_auto_rows": null,
            "grid_column": null,
            "grid_gap": null,
            "grid_row": null,
            "grid_template_areas": null,
            "grid_template_columns": null,
            "grid_template_rows": null,
            "height": null,
            "justify_content": null,
            "justify_items": null,
            "left": null,
            "margin": null,
            "max_height": null,
            "max_width": null,
            "min_height": null,
            "min_width": null,
            "object_fit": null,
            "object_position": null,
            "order": null,
            "overflow": null,
            "overflow_x": null,
            "overflow_y": null,
            "padding": null,
            "right": null,
            "top": null,
            "visibility": null,
            "width": null
          }
        },
        "93433abad8674ba99496efa3b5ee32e9": {
          "model_module": "@jupyter-widgets/base",
          "model_name": "LayoutModel",
          "model_module_version": "1.2.0",
          "state": {
            "_model_module": "@jupyter-widgets/base",
            "_model_module_version": "1.2.0",
            "_model_name": "LayoutModel",
            "_view_count": null,
            "_view_module": "@jupyter-widgets/base",
            "_view_module_version": "1.2.0",
            "_view_name": "LayoutView",
            "align_content": null,
            "align_items": null,
            "align_self": null,
            "border": null,
            "bottom": null,
            "display": null,
            "flex": null,
            "flex_flow": null,
            "grid_area": null,
            "grid_auto_columns": null,
            "grid_auto_flow": null,
            "grid_auto_rows": null,
            "grid_column": null,
            "grid_gap": null,
            "grid_row": null,
            "grid_template_areas": null,
            "grid_template_columns": null,
            "grid_template_rows": null,
            "height": null,
            "justify_content": null,
            "justify_items": null,
            "left": null,
            "margin": null,
            "max_height": null,
            "max_width": null,
            "min_height": null,
            "min_width": null,
            "object_fit": null,
            "object_position": null,
            "order": null,
            "overflow": null,
            "overflow_x": null,
            "overflow_y": null,
            "padding": null,
            "right": null,
            "top": null,
            "visibility": null,
            "width": null
          }
        },
        "0a460c43cbdf4fbdbb2173ae5b30c046": {
          "model_module": "@jupyter-widgets/controls",
          "model_name": "SliderStyleModel",
          "model_module_version": "1.5.0",
          "state": {
            "_model_module": "@jupyter-widgets/controls",
            "_model_module_version": "1.5.0",
            "_model_name": "SliderStyleModel",
            "_view_count": null,
            "_view_module": "@jupyter-widgets/base",
            "_view_module_version": "1.2.0",
            "_view_name": "StyleView",
            "description_width": "",
            "handle_color": null
          }
        },
        "3579a40f676741dfb03588511ad14a18": {
          "model_module": "@jupyter-widgets/base",
          "model_name": "LayoutModel",
          "model_module_version": "1.2.0",
          "state": {
            "_model_module": "@jupyter-widgets/base",
            "_model_module_version": "1.2.0",
            "_model_name": "LayoutModel",
            "_view_count": null,
            "_view_module": "@jupyter-widgets/base",
            "_view_module_version": "1.2.0",
            "_view_name": "LayoutView",
            "align_content": null,
            "align_items": null,
            "align_self": null,
            "border": null,
            "bottom": null,
            "display": null,
            "flex": null,
            "flex_flow": null,
            "grid_area": null,
            "grid_auto_columns": null,
            "grid_auto_flow": null,
            "grid_auto_rows": null,
            "grid_column": null,
            "grid_gap": null,
            "grid_row": null,
            "grid_template_areas": null,
            "grid_template_columns": null,
            "grid_template_rows": null,
            "height": null,
            "justify_content": null,
            "justify_items": null,
            "left": null,
            "margin": null,
            "max_height": null,
            "max_width": null,
            "min_height": null,
            "min_width": null,
            "object_fit": null,
            "object_position": null,
            "order": null,
            "overflow": null,
            "overflow_x": null,
            "overflow_y": null,
            "padding": null,
            "right": null,
            "top": null,
            "visibility": null,
            "width": null
          }
        }
      }
    }
  },
  "cells": [
    {
      "cell_type": "markdown",
      "metadata": {
        "id": "view-in-github",
        "colab_type": "text"
      },
      "source": [
        "<a href=\"https://colab.research.google.com/github/jbpost2/ST-554-Big-Data-With-Python-Course-Notes/blob/main/Learning_Python.ipynb\" target=\"_parent\"><img src=\"https://colab.research.google.com/assets/colab-badge.svg\" alt=\"Open In Colab\"/></a>"
      ]
    },
    {
      "cell_type": "markdown",
      "source": [
        "# Week 1"
      ],
      "metadata": {
        "id": "T9TOYKC5uQf_"
      }
    },
    {
      "cell_type": "markdown",
      "source": [
        "## Basics of python\n",
        "\n",
        "Create a **list**!"
      ],
      "metadata": {
        "id": "e3u1E0gVwscO"
      }
    },
    {
      "cell_type": "code",
      "execution_count": null,
      "metadata": {
        "colab": {
          "base_uri": "https://localhost:8080/"
        },
        "id": "B_f5mHOJtNFo",
        "outputId": "1ddfa9ae-6a30-4d77-c32a-add4101e5fee"
      },
      "outputs": [
        {
          "output_type": "execute_result",
          "data": {
            "text/plain": [
              "[1, 'a', 3, 60]"
            ]
          },
          "metadata": {},
          "execution_count": 1
        }
      ],
      "source": [
        "[1, \"a\", 3, 60]"
      ]
    },
    {
      "cell_type": "markdown",
      "source": [
        "Save this as an object!"
      ],
      "metadata": {
        "id": "hhF2-puvuYGf"
      }
    },
    {
      "cell_type": "code",
      "source": [
        "myList = [1, \"a\", 3, 60]\n",
        "print(myList)\n",
        "myList"
      ],
      "metadata": {
        "colab": {
          "base_uri": "https://localhost:8080/"
        },
        "id": "6Cjgr69Ktdj-",
        "outputId": "f7f1b851-8ca2-459c-dfd3-87f1d5f9e9f9"
      },
      "execution_count": null,
      "outputs": [
        {
          "output_type": "stream",
          "name": "stdout",
          "text": [
            "[1, 'a', 3, 60]\n"
          ]
        },
        {
          "output_type": "execute_result",
          "data": {
            "text/plain": [
              "[1, 'a', 3, 60]"
            ]
          },
          "metadata": {},
          "execution_count": 2
        }
      ]
    },
    {
      "cell_type": "code",
      "source": [
        "myList + [2, 4, 5]"
      ],
      "metadata": {
        "colab": {
          "base_uri": "https://localhost:8080/"
        },
        "id": "KoKd_x8btiWr",
        "outputId": "ea1b0292-f283-4688-e862-6b57e3210a36"
      },
      "execution_count": null,
      "outputs": [
        {
          "output_type": "execute_result",
          "data": {
            "text/plain": [
              "[1, 'a', 3, 60, 2, 4, 5]"
            ]
          },
          "metadata": {},
          "execution_count": 3
        }
      ]
    },
    {
      "cell_type": "code",
      "source": [
        "myList * 4"
      ],
      "metadata": {
        "colab": {
          "base_uri": "https://localhost:8080/"
        },
        "id": "9eZnlD6Ztwy2",
        "outputId": "88e47791-21ae-4485-aa45-ecac86a09cab"
      },
      "execution_count": null,
      "outputs": [
        {
          "output_type": "execute_result",
          "data": {
            "text/plain": [
              "[1, 'a', 3, 60, 1, 'a', 3, 60, 1, 'a', 3, 60, 1, 'a', 3, 60]"
            ]
          },
          "metadata": {},
          "execution_count": 4
        }
      ]
    },
    {
      "cell_type": "markdown",
      "source": [
        "## Markdown\n",
        "\n",
        "We'll add some HTML widgets and play around with that."
      ],
      "metadata": {
        "id": "PyT1eSdnt0IA"
      }
    },
    {
      "cell_type": "code",
      "source": [
        "#reading in modules\n",
        "import numpy as np\n",
        "import matplotlib.pyplot as plt\n",
        "import ipywidgets as widgets"
      ],
      "metadata": {
        "id": "a4soPIGYw4gm"
      },
      "execution_count": null,
      "outputs": []
    },
    {
      "cell_type": "markdown",
      "source": [
        "Let's generate 100 random data values using numpy."
      ],
      "metadata": {
        "id": "pzLLuNcGxJCn"
      }
    },
    {
      "cell_type": "code",
      "source": [
        "rng = np.random.default_rng(12)\n",
        "vals = rng.standard_normal(100)\n",
        "vals"
      ],
      "metadata": {
        "colab": {
          "base_uri": "https://localhost:8080/"
        },
        "id": "2B8oaoL3xLYP",
        "outputId": "cdf7f9ac-7f6d-4e5a-d397-a644e43fd140"
      },
      "execution_count": null,
      "outputs": [
        {
          "output_type": "execute_result",
          "data": {
            "text/plain": [
              "array([-6.82677987e-03,  1.04614329e+00,  7.41588421e-01,  7.23956542e-01,\n",
              "        1.61877622e+00, -1.20555814e+00, -6.26955471e-01, -1.32066321e+00,\n",
              "       -1.07752508e-01,  9.98763655e-01, -2.19478863e-02,  4.95880066e-01,\n",
              "       -1.91076866e+00,  1.47064166e-01, -9.06943251e-01,  1.77538939e+00,\n",
              "        8.86849076e-01,  9.49349483e-01, -5.78549625e-02,  6.12862274e-01,\n",
              "        6.57890162e-01, -3.44402666e-01, -4.97372035e-01, -1.14772783e-01,\n",
              "       -6.05452009e-01, -5.94339418e-01, -2.83375376e-01, -7.28417727e-01,\n",
              "        7.66327786e-01, -1.59608633e+00,  8.23562129e-01, -6.25566470e-01,\n",
              "       -5.45939956e-01, -1.35084714e+00, -1.44242119e-01, -2.47661509e-01,\n",
              "        1.91455831e-01, -5.33774296e-01,  9.37561793e-02,  1.81969184e+00,\n",
              "        4.08999694e-01, -5.73690037e-01,  9.53109595e-01, -1.28801134e-01,\n",
              "        5.93874468e-01,  6.12747429e-01, -3.91065717e-01, -1.93028750e+00,\n",
              "       -3.47653623e-01,  5.51455424e-01, -3.80110407e-01,  4.38969315e-01,\n",
              "        9.79540372e-01, -5.44113415e-01,  1.23135175e+00,  1.62180446e+00,\n",
              "        1.07904594e+00,  1.16546284e+00,  1.09679645e+00,  2.25453906e+00,\n",
              "        1.85860905e-01,  2.08408285e-03,  6.03107305e-01, -9.08195119e-01,\n",
              "       -1.55317676e+00, -8.82007973e-01,  3.72565350e-01,  4.73053341e-01,\n",
              "       -1.53635872e+00, -1.88346371e+00, -3.16142243e-01, -1.88056516e-01,\n",
              "       -4.92008330e-02,  6.71362447e-01,  1.22883418e+00,  2.30896430e-01,\n",
              "        6.12684704e-01, -1.09520169e+00, -1.17630801e+00,  2.36238334e-01,\n",
              "        6.64663103e-01,  7.26243456e-01,  5.92741991e-01,  7.84173709e-01,\n",
              "        8.09828030e-01, -1.75218536e+00, -7.34165769e-01,  4.55159742e-01,\n",
              "        5.96671965e-01, -1.51209241e+00,  1.17306137e+00, -4.38831924e-01,\n",
              "       -2.32424749e-01,  2.73818645e-01,  7.49635232e-01, -1.43311699e+00,\n",
              "        9.89912577e-01,  7.72934677e-02, -7.70813495e-01, -2.75273142e-01])"
            ]
          },
          "metadata": {},
          "execution_count": 6
        }
      ]
    },
    {
      "cell_type": "code",
      "source": [
        "plt.hist(vals)"
      ],
      "metadata": {
        "colab": {
          "base_uri": "https://localhost:8080/",
          "height": 520
        },
        "id": "tkzSJSY3yMyY",
        "outputId": "393e49fc-4b74-4c66-f20a-622b9fbff5c3"
      },
      "execution_count": null,
      "outputs": [
        {
          "output_type": "execute_result",
          "data": {
            "text/plain": [
              "(array([ 8.,  6.,  6., 17., 15., 12., 24.,  7.,  4.,  1.]),\n",
              " array([-1.9302875 , -1.51180484, -1.09332219, -0.67483953, -0.25635687,\n",
              "         0.16212578,  0.58060844,  0.99909109,  1.41757375,  1.8360564 ,\n",
              "         2.25453906]),\n",
              " <BarContainer object of 10 artists>)"
            ]
          },
          "metadata": {},
          "execution_count": 7
        },
        {
          "output_type": "display_data",
          "data": {
            "text/plain": [
              "<Figure size 640x480 with 1 Axes>"
            ],
            "image/png": "[encoded data removed]"
          },
          "metadata": {}
        }
      ]
    },
    {
      "cell_type": "code",
      "source": [
        "plt.hist(vals, bins = 12)"
      ],
      "metadata": {
        "colab": {
          "base_uri": "https://localhost:8080/",
          "height": 518
        },
        "id": "ysY1PcvSyU1H",
        "outputId": "437408f6-4ab3-4afe-f4d0-be8b1dbd6a6b"
      },
      "execution_count": null,
      "outputs": [
        {
          "output_type": "execute_result",
          "data": {
            "text/plain": [
              "(array([ 5.,  6.,  5., 11., 13., 12., 11., 19., 11.,  2.,  4.,  1.]),\n",
              " array([-1.9302875 , -1.58155195, -1.2328164 , -0.88408086, -0.53534531,\n",
              "        -0.18660976,  0.16212578,  0.51086133,  0.85959687,  1.20833242,\n",
              "         1.55706797,  1.90580351,  2.25453906]),\n",
              " <BarContainer object of 12 artists>)"
            ]
          },
          "metadata": {},
          "execution_count": 8
        },
        {
          "output_type": "display_data",
          "data": {
            "text/plain": [
              "<Figure size 640x480 with 1 Axes>"
            ],
            "image/png": "[encoded data removed]"
          },
          "metadata": {}
        }
      ]
    },
    {
      "cell_type": "code",
      "source": [
        "def myPlot(bins):\n",
        "    plt.hist(vals, bins)\n",
        "\n",
        "myPlot(4)"
      ],
      "metadata": {
        "colab": {
          "base_uri": "https://localhost:8080/",
          "height": 430
        },
        "id": "Q58IOpO2ya8H",
        "outputId": "9277fcfc-8422-4962-dd97-a9b06767d54f"
      },
      "execution_count": null,
      "outputs": [
        {
          "output_type": "display_data",
          "data": {
            "text/plain": [
              "<Figure size 640x480 with 1 Axes>"
            ],
            "image/png": "[encoded data removed]"
          },
          "metadata": {}
        }
      ]
    },
    {
      "cell_type": "code",
      "source": [
        "widgets.interactive(myPlot, bins =(1,20))"
      ],
      "metadata": {
        "id": "1hIyrQBMy0Eo",
        "outputId": "6f3fb0a4-4226-4ef4-9129-2ad4ca893ba3",
        "colab": {
          "base_uri": "https://localhost:8080/",
          "height": 464,
          "referenced_widgets": [
            "259088f3a70c4fd5b01cfda6424a21ef",
            "f05bb238caad499e947de2313a48c88d",
            "83e91297cb4f4c60b50f136c865bed0a",
            "5f8138101a63426aa6fe4fc8776b415c",
            "93433abad8674ba99496efa3b5ee32e9",
            "0a460c43cbdf4fbdbb2173ae5b30c046",
            "3579a40f676741dfb03588511ad14a18"
          ]
        }
      },
      "execution_count": null,
      "outputs": [
        {
          "output_type": "display_data",
          "data": {
            "text/plain": [
              "interactive(children=(IntSlider(value=10, description='bins', max=20, min=1), Output()), _dom_classes=('widget…"
            ],
            "application/vnd.jupyter.widget-view+json": {
              "version_major": 2,
              "version_minor": 0,
              "model_id": "259088f3a70c4fd5b01cfda6424a21ef"
            }
          },
          "metadata": {}
        },
        {
          "output_type": "display_data",
          "data": {
            "text/plain": [
              "<Figure size 640x480 with 1 Axes>"
            ],
            "image/png": "[encoded data removed]"
          },
          "metadata": {}
        }
      ]
    },
    {
      "cell_type": "markdown",
      "source": [
        "## Strings Practice\n",
        "\n",
        "Here we'll look at some quick string methods and functions including string formatting!"
      ],
      "metadata": {
        "id": "OAVKhiRGzAEZ"
      }
    },
    {
      "cell_type": "markdown",
      "source": [
        "1. String formatting\n",
        "\n",
        "  One way to do formatting is to use `{}` within a string and then use the `.format()` method. Let's create a string that we can place values into. Something like this:\n",
        "\n",
        "  \"The probability of being less than or equal to 2 for a normal distribution with mean 4 and standard deviation 1 is ...\""
      ],
      "metadata": {
        "id": "cEt5oKM1ziOx"
      }
    },
    {
      "cell_type": "code",
      "source": [
        "prob_string = \"The probability of being less than or equal to {0} for a normal distribution with mean {1} and standard deviation {2} is {3}\""
      ],
      "metadata": {
        "id": "d-Kr9hN3zkhp"
      },
      "execution_count": null,
      "outputs": []
    },
    {
      "cell_type": "code",
      "source": [
        "mean = 1\n",
        "std = 2\n",
        "y = 1.55"
      ],
      "metadata": {
        "id": "wni2-UgkVfYF",
        "outputId": "242d1454-e7f0-437f-9d54-3d7360257d37",
        "colab": {
          "base_uri": "https://localhost:8080/",
          "height": 53
        }
      },
      "execution_count": null,
      "outputs": [
        {
          "output_type": "execute_result",
          "data": {
            "text/plain": [
              "'The probability of being less than or equal to 1.55 for a normal distribution with mean 1 and standard deviation 2 is 0.6083'"
            ],
            "application/vnd.google.colaboratory.intrinsic+json": {
              "type": "string"
            }
          },
          "metadata": {},
          "execution_count": 17
        }
      ]
    },
    {
      "cell_type": "markdown",
      "source": [
        "Now pull the `scipy.stats` stuff from above and insert the numbers using the `.format()` method."
      ],
      "metadata": {
        "id": "hT6fjUEPzqzw"
      }
    },
    {
      "cell_type": "code",
      "source": [
        "import scipy.stats as stats\n",
        "stats.norm.cdf(y, mean, std)"
      ],
      "metadata": {
        "colab": {
          "base_uri": "https://localhost:8080/"
        },
        "id": "aFQi2BzVzr-A",
        "outputId": "88c2260f-1940-4cfc-d65b-7ef4121338c4"
      },
      "execution_count": null,
      "outputs": [
        {
          "output_type": "execute_result",
          "data": {
            "text/plain": [
              "0.6083418808463948"
            ]
          },
          "metadata": {},
          "execution_count": 19
        }
      ]
    },
    {
      "cell_type": "code",
      "source": [
        "prob_string.format(y, mean, std, round(stats.norm.cdf(y, mean, std), 4))"
      ],
      "metadata": {
        "id": "Qb667fB6Vv7G",
        "outputId": "7f6ed05c-5373-4766-d7d2-c01530504165",
        "colab": {
          "base_uri": "https://localhost:8080/",
          "height": 53
        }
      },
      "execution_count": null,
      "outputs": [
        {
          "output_type": "execute_result",
          "data": {
            "text/plain": [
              "'The probability of being less than or equal to 1.55 for a normal distribution with mean 1 and standard deviation 2 is 0.6083'"
            ],
            "application/vnd.google.colaboratory.intrinsic+json": {
              "type": "string"
            }
          },
          "metadata": {},
          "execution_count": 20
        }
      ]
    },
    {
      "cell_type": "markdown",
      "source": [
        "2. Let's look at splitting up a big string of text into 'words'. This is often a first step done when doing a basic sentiment analysis of some text.\n",
        "\n",
        "  First we need a string of text to break up. [Project Gutenberg](https://www.gutenberg.org/) has some classic open works that you can get the entire text from. Here we'll pull from a cookbook called *[Practical Vegetarian Cookery](https://www.gutenberg.org/cache/epub/69812/pg69812.txt)*. We'll just grab two recipes:\n",
        "\n",
        "  > WINTER VEGETABLE PIE.\n",
        "\n",
        "  > Place in baking dish, slices of cold boiled potatoes, onions, celery,\n",
        "and carrot, then add one scant cupful of stewed tomatoes and one half\n",
        "can of peas. Cover with stock, thickened to a gravy with butter and\n",
        "flour, cover with plain crust, and bake. A pie of this nature can be\n",
        "made with a great variety of ingredients; apples, boiled chestnuts,\n",
        "onions, and potatoes make a good combination. Rice, with a grating of\n",
        "cheese, celery, onion, and tomato, another variety.\n",
        "\n",
        "  > VEGETABLE HASH.\n",
        "\n",
        "  > Of cooked and chopped vegetables, use one carrot, one blood beet, two\n",
        "turnips, two quarts of finely sliced potatoes, one onion, and a stalk\n",
        "of celery; one sprig of parsley; put them in a stew pan, cover tight,\n",
        "and set in the oven. When thoroughly heated pour over a gravy of drawn\n",
        "butter and cream. Stir together and serve.\n",
        "\n",
        "  Let's create a string with these and count variables that occur."
      ],
      "metadata": {
        "id": "tMs85pJSztIZ"
      }
    },
    {
      "cell_type": "code",
      "source": [
        "recipe = \"\"\"\n",
        "WINTER VEGETABLE PIE.\n",
        "\n",
        "Place in baking dish, slices of cold boiled potatoes, onions, celery,\n",
        "and carrot, then add one scant cupful of stewed tomatoes and one half\n",
        "can of peas. Cover with stock, thickened to a gravy with butter and\n",
        "flour, cover with plain crust, and bake. A pie of this nature can be\n",
        "made with a great variety of ingredients; apples, boiled chestnuts,\n",
        "onions, and potatoes make a good combination. Rice, with a grating of\n",
        "cheese, celery, onion, and tomato, another variety.\n",
        "\n",
        "VEGETABLE HASH.\n",
        "\n",
        "Of cooked and chopped vegetables, use one carrot, one blood beet, two\n",
        "turnips, two quarts of finely sliced potatoes, one onion, and a stalk\n",
        "of celery; one sprig of parsley; put them in a stew pan, cover tight,\n",
        "and set in the oven. When thoroughly heated pour over a gravy of drawn\n",
        "butter and cream. Stir together and serve.\n",
        "\"\"\"\n",
        "recipe"
      ],
      "metadata": {
        "colab": {
          "base_uri": "https://localhost:8080/",
          "height": 158
        },
        "id": "xyxgIc6pzteZ",
        "outputId": "3b6e0de1-4f55-4109-9da6-d5281e55c8dd"
      },
      "execution_count": null,
      "outputs": [
        {
          "output_type": "execute_result",
          "data": {
            "text/plain": [
              "'\\nWINTER VEGETABLE PIE.\\n\\nPlace in baking dish, slices of cold boiled potatoes, onions, celery,\\nand carrot, then add one scant cupful of stewed tomatoes and one half\\ncan of peas. Cover with stock, thickened to a gravy with butter and\\nflour, cover with plain crust, and bake. A pie of this nature can be\\nmade with a great variety of ingredients; apples, boiled chestnuts,\\nonions, and potatoes make a good combination. Rice, with a grating of\\ncheese, celery, onion, and tomato, another variety.\\n\\nVEGETABLE HASH.\\n\\nOf cooked and chopped vegetables, use one carrot, one blood beet, two\\nturnips, two quarts of finely sliced potatoes, one onion, and a stalk\\nof celery; one sprig of parsley; put them in a stew pan, cover tight,\\nand set in the oven. When thoroughly heated pour over a gravy of drawn\\nbutter and cream. Stir together and serve.\\n'"
            ],
            "application/vnd.google.colaboratory.intrinsic+json": {
              "type": "string"
            }
          },
          "metadata": {},
          "execution_count": 14
        }
      ]
    },
    {
      "cell_type": "markdown",
      "source": [
        "Replace the `\\n`, `,`, and `.` values with a space instead. Lowercase everything with the `.lower()` method and then `.strip()` to remove the excess whitespace.  Finally, the `.split()` method gives us a list with each element being a word from the document."
      ],
      "metadata": {
        "id": "j4w1d0CYztmo"
      }
    },
    {
      "cell_type": "code",
      "source": [
        "recipe_split = recipe.replace(\"\\n\", \" \") \\\n",
        "  .replace(\".\", \" \") \\\n",
        "  .replace(\",\", \" \") \\\n",
        "  .replace(\";\", \" \") \\\n",
        "  .lower() \\\n",
        "  .strip() \\\n",
        "  .split(\" \")"
      ],
      "metadata": {
        "id": "pbRgfwOaztsw"
      },
      "execution_count": null,
      "outputs": []
    },
    {
      "cell_type": "markdown",
      "source": [
        "Now we can see how often different words come up."
      ],
      "metadata": {
        "id": "SKrcGBvazt0g"
      }
    },
    {
      "cell_type": "code",
      "source": [
        "type(recipe_split)\n",
        "recipe_split.count(\"potatoes\")"
      ],
      "metadata": {
        "colab": {
          "base_uri": "https://localhost:8080/"
        },
        "id": "m26l1Kff0goA",
        "outputId": "6f9523c1-d6ce-49e4-d207-9f42099a26b4"
      },
      "execution_count": null,
      "outputs": [
        {
          "output_type": "execute_result",
          "data": {
            "text/plain": [
              "3"
            ]
          },
          "metadata": {},
          "execution_count": 16
        }
      ]
    },
    {
      "cell_type": "markdown",
      "source": [
        "## Math Types (Including Booleans)\n",
        "\n",
        "Remember that things can't be stored precisely so you may sometimes run into issues where two things should be equal but don't resolve as equal."
      ],
      "metadata": {
        "id": "C7kYe34n0hXq"
      }
    },
    {
      "cell_type": "code",
      "source": [
        "from math import sqrt\n",
        "sqrt(2)**2 == 2"
      ],
      "metadata": {
        "id": "OehEWXLN8Agr",
        "outputId": "d26d68f7-d855-4e9a-a386-2197d45101e3",
        "colab": {
          "base_uri": "https://localhost:8080/"
        }
      },
      "execution_count": null,
      "outputs": [
        {
          "output_type": "execute_result",
          "data": {
            "text/plain": [
              "False"
            ]
          },
          "metadata": {},
          "execution_count": 31
        }
      ]
    },
    {
      "cell_type": "markdown",
      "source": [
        "Use the isclose() from numpy to check things like this."
      ],
      "metadata": {
        "id": "wP3-Kr9C8Eh7"
      }
    },
    {
      "cell_type": "code",
      "source": [
        "import numpy as np\n",
        "np.isclose(sqrt(2)**2, 2)"
      ],
      "metadata": {
        "id": "YnE5wkPC8FzT",
        "outputId": "9f7c8157-ed99-48ad-d4aa-c6ffb4614162",
        "colab": {
          "base_uri": "https://localhost:8080/"
        }
      },
      "execution_count": null,
      "outputs": [
        {
          "output_type": "execute_result",
          "data": {
            "text/plain": [
              "True"
            ]
          },
          "metadata": {},
          "execution_count": 32
        }
      ]
    },
    {
      "cell_type": "markdown",
      "source": [
        "We should have an idea about `inf`, `-inf`, and `nan` values in python.  `nan` values can be returned when a mathematical function is used outside of its domain for instance.  Here is the `norm.ppf()` function.  This returns the value from the standard normal with a certain proportion of the distribution to the left of it (proportion specified by the value you feed the function).  These values should of course be between 0 and 1."
      ],
      "metadata": {
        "id": "M4DNzCOx8GXz"
      }
    },
    {
      "cell_type": "code",
      "source": [
        "import scipy.stats as stats\n",
        "stats.norm.ppf(0.5)"
      ],
      "metadata": {
        "id": "l4rXABVVXKwR",
        "outputId": "d6265eed-2737-4cd9-917e-fe2ac949ad89",
        "colab": {
          "base_uri": "https://localhost:8080/"
        }
      },
      "execution_count": null,
      "outputs": [
        {
          "output_type": "execute_result",
          "data": {
            "text/plain": [
              "0.0"
            ]
          },
          "metadata": {},
          "execution_count": 35
        }
      ]
    },
    {
      "cell_type": "code",
      "source": [],
      "metadata": {
        "id": "1d_iT3Mi8G6T",
        "outputId": "58c0d091-ff18-4c24-c1fc-4e468d085ffb",
        "colab": {
          "base_uri": "https://localhost:8080/"
        }
      },
      "execution_count": null,
      "outputs": [
        {
          "output_type": "execute_result",
          "data": {
            "text/plain": [
              "nan"
            ]
          },
          "metadata": {},
          "execution_count": 36
        }
      ]
    },
    {
      "cell_type": "markdown",
      "source": [
        "What happens if we give a value like -1?"
      ],
      "metadata": {
        "id": "OKr1CzUh8G_r"
      }
    },
    {
      "cell_type": "code",
      "source": [
        "stats.norm.ppf(-0.1)\n",
        "np.isnan(stats.norm.ppf(-0.1))"
      ],
      "metadata": {
        "id": "YMiYwg5w8HEj",
        "outputId": "22f15684-0dd2-4a46-e069-ec69c189edcf",
        "colab": {
          "base_uri": "https://localhost:8080/"
        }
      },
      "execution_count": null,
      "outputs": [
        {
          "output_type": "execute_result",
          "data": {
            "text/plain": [
              "True"
            ]
          },
          "metadata": {},
          "execution_count": 41
        }
      ]
    },
    {
      "cell_type": "markdown",
      "source": [
        "Infinite values can pop up too.  There are lots of ways to create an infinite value via casting as well."
      ],
      "metadata": {
        "id": "XWTKaDYZ8HJK"
      }
    },
    {
      "cell_type": "code",
      "source": [
        "float(1)\n",
        "float(\"Inf\")\n",
        "-float(\"Inf\")"
      ],
      "metadata": {
        "id": "leKMqHI08HNk",
        "outputId": "480fde0c-bbfa-42e2-f995-c6decf5a7603",
        "colab": {
          "base_uri": "https://localhost:8080/"
        }
      },
      "execution_count": null,
      "outputs": [
        {
          "output_type": "execute_result",
          "data": {
            "text/plain": [
              "-inf"
            ]
          },
          "metadata": {},
          "execution_count": 40
        }
      ]
    },
    {
      "cell_type": "markdown",
      "source": [
        "Let's update our string from before with digits! (Note that using floating point for z and integers for mean and standard deviation doesn't really make sense, I'm just showing the functionality!)"
      ],
      "metadata": {
        "id": "6XZ0wTuX8HRi"
      }
    },
    {
      "cell_type": "code",
      "source": [
        "prob_string = \"The probability of being less than or equal to {y:.2f} for a normal distribution with mean {mean:d} and standard deviation {std:d} is {prob:.4f}\"\n",
        "\n",
        "prob_string.format(y = y, mean = mean, std = std, prob = stats.norm.cdf(y, mean, std))"
      ],
      "metadata": {
        "id": "PAM6_6MO8QVD",
        "outputId": "0272775b-a6bc-4169-bb87-e04d48199d66",
        "colab": {
          "base_uri": "https://localhost:8080/",
          "height": 53
        }
      },
      "execution_count": null,
      "outputs": [
        {
          "output_type": "execute_result",
          "data": {
            "text/plain": [
              "'The probability of being less than or equal to 1.55 for a normal distribution with mean 1 and standard deviation 2 is 0.6083'"
            ],
            "application/vnd.google.colaboratory.intrinsic+json": {
              "type": "string"
            }
          },
          "metadata": {},
          "execution_count": 44
        }
      ]
    },
    {
      "cell_type": "markdown",
      "source": [
        "# Week 2"
      ],
      "metadata": {
        "id": "VfNfgSTw-DZM"
      }
    },
    {
      "cell_type": "markdown",
      "metadata": {
        "id": "9cf30018-b3da-4b1a-bb3c-903009daaabb"
      },
      "source": [
        "## User Defined Functions\n",
        "\n",
        "**Let's create our own plotting function that will plot a Binomial random variables probabilities with a Normal approximation overlay.**\n",
        "\n",
        "If you aren't familiar, a Binomial random variable measures the number of successes in a fixed number of Success/Failure trials (denoted by $n$). These trials need to be indpendent and have the same probability of success (called $p$).\n",
        "\n",
        "We denote this via\n",
        "$$Y\\sim Bin(n, p)$$\n",
        "As $Y$ measures the number of successes in $n$ trials, the values $Y$ can take on are $y = 0, 1, 2, ..., n$. The probabilities associated with each of these outcomes is given by the Probability Mass Function (PMF) of the Binomial distribution:\n",
        "\n",
        "$$p_Y(y)= P(Y=y) = \\binom{n}{y}p^y(1-p)^{n-y}$$\n",
        "\n",
        "where $\\binom{n}{y} = \\frac{n!}{y!(n-y)!}$ is the binomial coefficient.\n",
        "\n",
        "We can find these values using the `scipy.stats` module! Let's read in the appropriate modules for finding these values and doing our plotting.\n"
      ]
    },
    {
      "cell_type": "code",
      "execution_count": null,
      "metadata": {
        "id": "10431e8c-7663-4a8c-a9f4-8a6859c46a6c"
      },
      "outputs": [],
      "source": [
        "import numpy as np\n",
        "import scipy.stats as stats\n",
        "import matplotlib.pyplot as plt"
      ]
    },
    {
      "cell_type": "markdown",
      "metadata": {
        "id": "3c6a5176-5d99-4ee7-887e-261acad17d6c"
      },
      "source": [
        "**When writing a function, it is usually easier to write the code for the body of the function outside of a function definition first and then put it into a function.**\n",
        "\n",
        "Let's start by creating code to find the probabilities associated with the Binomial for a given $n$ and $p$. The `scipy.stats` module has a `binom.pmf()` function that will return probabilities from the PMF."
      ]
    },
    {
      "cell_type": "code",
      "source": [
        "print(stats.binom.pmf.__doc__)"
      ],
      "metadata": {
        "id": "DPfC3r7EZ_FE",
        "outputId": "97607817-b666-45f3-afd9-fcd9d0efa890",
        "colab": {
          "base_uri": "https://localhost:8080/"
        }
      },
      "execution_count": null,
      "outputs": [
        {
          "output_type": "stream",
          "name": "stdout",
          "text": [
            "Probability mass function at k of the given RV.\n",
            "\n",
            "        Parameters\n",
            "        ----------\n",
            "        k : array_like\n",
            "            Quantiles.\n",
            "        arg1, arg2, arg3,... : array_like\n",
            "            The shape parameter(s) for the distribution (see docstring of the\n",
            "            instance object for more information)\n",
            "        loc : array_like, optional\n",
            "            Location parameter (default=0).\n",
            "\n",
            "        Returns\n",
            "        -------\n",
            "        pmf : array_like\n",
            "            Probability mass function evaluated at k\n",
            "\n",
            "        \n"
          ]
        }
      ]
    },
    {
      "cell_type": "markdown",
      "metadata": {
        "id": "20dba885-3d9d-4933-9043-c0d15ded4e29"
      },
      "source": [
        "Note: the `k` argument can be 'array like'. That is, we can pass something like a list of values we want the probabilities for. As a binomial measures the number of successes in $n$ trials, we need to consider all of the integers from 0 to n. This can be done easily with the `range()` function."
      ]
    },
    {
      "cell_type": "code",
      "source": [
        "stats.binom.pmf(0, n = 10, p = 0.5)"
      ],
      "metadata": {
        "id": "yv3NI1PoXYF0",
        "outputId": "420e519b-77ec-47ca-f3b7-40d143236fd9",
        "colab": {
          "base_uri": "https://localhost:8080/"
        }
      },
      "execution_count": null,
      "outputs": [
        {
          "output_type": "execute_result",
          "data": {
            "text/plain": [
              "0.0009765624999999989"
            ]
          },
          "metadata": {},
          "execution_count": 10
        }
      ]
    },
    {
      "cell_type": "code",
      "source": [
        "stats.binom.pmf([0,1,2], n = 10, p = 0.5)"
      ],
      "metadata": {
        "id": "8vsGVCTiaSUz",
        "outputId": "43f97dbb-b8d5-40ff-8e71-3231b3118700",
        "colab": {
          "base_uri": "https://localhost:8080/"
        }
      },
      "execution_count": null,
      "outputs": [
        {
          "output_type": "execute_result",
          "data": {
            "text/plain": [
              "array([0.00097656, 0.00976563, 0.04394531])"
            ]
          },
          "metadata": {},
          "execution_count": 11
        }
      ]
    },
    {
      "cell_type": "markdown",
      "metadata": {
        "id": "8a5627a5-df4a-4488-88d5-ca5d168eb5ed"
      },
      "source": [
        "Ok, we have the values of the random variable (0 to $n$) and the probabilities we want to plot.  We can use `matplotlib`'s `pyplot` module which has a `bar()` function that can create a basic bar graph for us. It has two arguments:\n",
        "\n",
        "- the `x` values for the location of the bars\n",
        "- the `height` for the height of the bars\n",
        "\n",
        "We just need to pass two things of the same length that correspond to the pairs of `x` and `height`."
      ]
    },
    {
      "cell_type": "code",
      "source": [
        "n = 30\n",
        "p = 0.5\n",
        "plt.bar(x = range(n+1), height = stats.binom.pmf(range(n+1), n = n, p = p))"
      ],
      "metadata": {
        "id": "pQHzIrbKXVN0",
        "outputId": "4ca95466-1dcc-4e83-fe2e-c6eecc6d045c",
        "colab": {
          "base_uri": "https://localhost:8080/",
          "height": 448
        }
      },
      "execution_count": null,
      "outputs": [
        {
          "output_type": "execute_result",
          "data": {
            "text/plain": [
              "<BarContainer object of 31 artists>"
            ]
          },
          "metadata": {},
          "execution_count": 12
        },
        {
          "output_type": "display_data",
          "data": {
            "text/plain": [
              "<Figure size 640x480 with 1 Axes>"
            ],
            "image/png": "[encoded data removed]"
          },
          "metadata": {}
        }
      ]
    },
    {
      "cell_type": "markdown",
      "metadata": {
        "id": "45e8bdee-5a5d-4d94-82cc-51b069e0565f"
      },
      "source": [
        "Great! Now let's wrap that up into a function so the user can call it and just specify `n` and `p`. We'll give default values of `n=30` and `p=0.5`."
      ]
    },
    {
      "cell_type": "code",
      "source": [
        "def binom_norm_plot(n = 30, p = 0.5):\n",
        "    plt.bar(x = range(n+1), height = stats.binom.pmf(range(n+1), n = n, p = p))\n",
        "    return None"
      ],
      "metadata": {
        "id": "vO00NDA6XUUM"
      },
      "execution_count": null,
      "outputs": []
    },
    {
      "cell_type": "code",
      "source": [
        "binom_norm_plot()"
      ],
      "metadata": {
        "id": "LRP5VnUAbSfT",
        "outputId": "72603bad-2569-4f7d-9150-43cf94a13e03",
        "colab": {
          "base_uri": "https://localhost:8080/",
          "height": 430
        }
      },
      "execution_count": null,
      "outputs": [
        {
          "output_type": "display_data",
          "data": {
            "text/plain": [
              "<Figure size 640x480 with 1 Axes>"
            ],
            "image/png": "[encoded data removed]"
          },
          "metadata": {}
        }
      ]
    },
    {
      "cell_type": "code",
      "source": [
        "binom_norm_plot(n= 10, p = 0.1)"
      ],
      "metadata": {
        "id": "chHomPmYbWPx",
        "outputId": "edf469cb-9e00-42d0-d3a9-8b39e63840d7",
        "colab": {
          "base_uri": "https://localhost:8080/",
          "height": 430
        }
      },
      "execution_count": null,
      "outputs": [
        {
          "output_type": "display_data",
          "data": {
            "text/plain": [
              "<Figure size 640x480 with 1 Axes>"
            ],
            "image/png": "[encoded data removed]"
          },
          "metadata": {}
        }
      ]
    },
    {
      "cell_type": "markdown",
      "metadata": {
        "id": "12385894-c645-405a-ae6c-9efee7886355"
      },
      "source": [
        "Now we are cooking! We want to add a curve to this graph corresponding to the commonly used Normal approximation to the binomial.\n",
        "\n",
        "The Normal distribution has two parameters: mean and standard deviation (or variance)\n",
        "\n",
        "The mean of the Binomial is $n*p$ and the standard deviation is $\\sqrt{n*p*(1-p)}$. We can plug these values into the `norm.pdf()` from the `scipy.stats` module (PDF stands for Probability Density Function and is the continuous analog to the PMF)."
      ]
    },
    {
      "cell_type": "code",
      "source": [
        "print(stats.norm.pdf.__doc__)"
      ],
      "metadata": {
        "id": "tdMz3WM6blE_",
        "outputId": "495800c1-c1ad-4ee8-a525-7541fc1cdac4",
        "colab": {
          "base_uri": "https://localhost:8080/"
        }
      },
      "execution_count": null,
      "outputs": [
        {
          "output_type": "stream",
          "name": "stdout",
          "text": [
            "Probability density function at x of the given RV.\n",
            "\n",
            "        Parameters\n",
            "        ----------\n",
            "        x : array_like\n",
            "            quantiles\n",
            "        arg1, arg2, arg3,... : array_like\n",
            "            The shape parameter(s) for the distribution (see docstring of the\n",
            "            instance object for more information)\n",
            "        loc : array_like, optional\n",
            "            location parameter (default=0)\n",
            "        scale : array_like, optional\n",
            "            scale parameter (default=1)\n",
            "\n",
            "        Returns\n",
            "        -------\n",
            "        pdf : ndarray\n",
            "            Probability density function evaluated at x\n",
            "\n",
            "        \n"
          ]
        }
      ]
    },
    {
      "cell_type": "code",
      "source": [
        "stats.norm.pdf(0, loc = 0, scale =1)"
      ],
      "metadata": {
        "id": "r9MkrzfvXTCd",
        "outputId": "985b077a-5c41-4978-8e36-380cc516afd5",
        "colab": {
          "base_uri": "https://localhost:8080/"
        }
      },
      "execution_count": null,
      "outputs": [
        {
          "output_type": "execute_result",
          "data": {
            "text/plain": [
              "0.3989422804014327"
            ]
          },
          "metadata": {},
          "execution_count": 17
        }
      ]
    },
    {
      "cell_type": "code",
      "source": [
        "import math\n",
        "stats.norm.pdf(range(31), loc = n*p, scale = math.sqrt(n*p*(1-p)))"
      ],
      "metadata": {
        "id": "EhZbOM8sXSmd",
        "outputId": "1b79968d-f2b1-417d-f20c-485f9f03966b",
        "colab": {
          "base_uri": "https://localhost:8080/"
        }
      },
      "execution_count": null,
      "outputs": [
        {
          "output_type": "execute_result",
          "data": {
            "text/plain": [
              "array([4.45617467e-08, 3.08033680e-07, 1.86349517e-06, 9.86625663e-06,\n",
              "       4.57162515e-05, 1.85388542e-04, 6.57944456e-04, 2.04357059e-03,\n",
              "       5.55500081e-03, 1.32151677e-02, 2.75140991e-02, 5.01339573e-02,\n",
              "       7.99471056e-02, 1.11575174e-01, 1.36278225e-01, 1.45673124e-01,\n",
              "       1.36278225e-01, 1.11575174e-01, 7.99471056e-02, 5.01339573e-02,\n",
              "       2.75140991e-02, 1.32151677e-02, 5.55500081e-03, 2.04357059e-03,\n",
              "       6.57944456e-04, 1.85388542e-04, 4.57162515e-05, 9.86625663e-06,\n",
              "       1.86349517e-06, 3.08033680e-07, 4.45617467e-08])"
            ]
          },
          "metadata": {},
          "execution_count": 18
        }
      ]
    },
    {
      "cell_type": "markdown",
      "metadata": {
        "id": "68b6c817-75eb-43d7-9c6f-d51a1059961e"
      },
      "source": [
        "Great, now let's add those values to the plot using the `plot()` function from `pyplot`. We'll learn about this later but if we use `matplotlib` and create a plot in a cell followed by another plot, it will place those on the same plot by default. Therefore, we just want to create the bar plot and then this other plot in the same cell."
      ]
    },
    {
      "cell_type": "code",
      "source": [
        "print(plt.plot.__doc__)"
      ],
      "metadata": {
        "id": "jx7rOC1sdLAz",
        "outputId": "b39fdf92-cc96-413d-8979-d809e6425428",
        "colab": {
          "base_uri": "https://localhost:8080/"
        }
      },
      "execution_count": null,
      "outputs": [
        {
          "output_type": "stream",
          "name": "stdout",
          "text": [
            "Plot y versus x as lines and/or markers.\n",
            "\n",
            "Call signatures::\n",
            "\n",
            "    plot([x], y, [fmt], *, data=None, **kwargs)\n",
            "    plot([x], y, [fmt], [x2], y2, [fmt2], ..., **kwargs)\n",
            "\n",
            "The coordinates of the points or line nodes are given by *x*, *y*.\n",
            "\n",
            "The optional parameter *fmt* is a convenient way for defining basic\n",
            "formatting like color, marker and linestyle. It's a shortcut string\n",
            "notation described in the *Notes* section below.\n",
            "\n",
            ">>> plot(x, y)        # plot x and y using default line style and color\n",
            ">>> plot(x, y, 'bo')  # plot x and y using blue circle markers\n",
            ">>> plot(y)           # plot y using x as index array 0..N-1\n",
            ">>> plot(y, 'r+')     # ditto, but with red plusses\n",
            "\n",
            "You can use `.Line2D` properties as keyword arguments for more\n",
            "control on the appearance. Line properties and *fmt* can be mixed.\n",
            "The following two calls yield identical results:\n",
            "\n",
            ">>> plot(x, y, 'go--', linewidth=2, markersize=12)\n",
            ">>> plot(x, y, color='green', marker='o', linestyle='dashed',\n",
            "...      linewidth=2, markersize=12)\n",
            "\n",
            "When conflicting with *fmt*, keyword arguments take precedence.\n",
            "\n",
            "\n",
            "**Plotting labelled data**\n",
            "\n",
            "There's a convenient way for plotting objects with labelled data (i.e.\n",
            "data that can be accessed by index ``obj['y']``). Instead of giving\n",
            "the data in *x* and *y*, you can provide the object in the *data*\n",
            "parameter and just give the labels for *x* and *y*::\n",
            "\n",
            ">>> plot('xlabel', 'ylabel', data=obj)\n",
            "\n",
            "All indexable objects are supported. This could e.g. be a `dict`, a\n",
            "`pandas.DataFrame` or a structured numpy array.\n",
            "\n",
            "\n",
            "**Plotting multiple sets of data**\n",
            "\n",
            "There are various ways to plot multiple sets of data.\n",
            "\n",
            "- The most straight forward way is just to call `plot` multiple times.\n",
            "  Example:\n",
            "\n",
            "  >>> plot(x1, y1, 'bo')\n",
            "  >>> plot(x2, y2, 'go')\n",
            "\n",
            "- If *x* and/or *y* are 2D arrays a separate data set will be drawn\n",
            "  for every column. If both *x* and *y* are 2D, they must have the\n",
            "  same shape. If only one of them is 2D with shape (N, m) the other\n",
            "  must have length N and will be used for every data set m.\n",
            "\n",
            "  Example:\n",
            "\n",
            "  >>> x = [1, 2, 3]\n",
            "  >>> y = np.array([[1, 2], [3, 4], [5, 6]])\n",
            "  >>> plot(x, y)\n",
            "\n",
            "  is equivalent to:\n",
            "\n",
            "  >>> for col in range(y.shape[1]):\n",
            "  ...     plot(x, y[:, col])\n",
            "\n",
            "- The third way is to specify multiple sets of *[x]*, *y*, *[fmt]*\n",
            "  groups::\n",
            "\n",
            "  >>> plot(x1, y1, 'g^', x2, y2, 'g-')\n",
            "\n",
            "  In this case, any additional keyword argument applies to all\n",
            "  datasets. Also, this syntax cannot be combined with the *data*\n",
            "  parameter.\n",
            "\n",
            "By default, each line is assigned a different style specified by a\n",
            "'style cycle'. The *fmt* and line property parameters are only\n",
            "necessary if you want explicit deviations from these defaults.\n",
            "Alternatively, you can also change the style cycle using\n",
            ":rc:`axes.prop_cycle`.\n",
            "\n",
            "\n",
            "Parameters\n",
            "----------\n",
            "x, y : array-like or scalar\n",
            "    The horizontal / vertical coordinates of the data points.\n",
            "    *x* values are optional and default to ``range(len(y))``.\n",
            "\n",
            "    Commonly, these parameters are 1D arrays.\n",
            "\n",
            "    They can also be scalars, or two-dimensional (in that case, the\n",
            "    columns represent separate data sets).\n",
            "\n",
            "    These arguments cannot be passed as keywords.\n",
            "\n",
            "fmt : str, optional\n",
            "    A format string, e.g. 'ro' for red circles. See the *Notes*\n",
            "    section for a full description of the format strings.\n",
            "\n",
            "    Format strings are just an abbreviation for quickly setting\n",
            "    basic line properties. All of these and more can also be\n",
            "    controlled by keyword arguments.\n",
            "\n",
            "    This argument cannot be passed as keyword.\n",
            "\n",
            "data : indexable object, optional\n",
            "    An object with labelled data. If given, provide the label names to\n",
            "    plot in *x* and *y*.\n",
            "\n",
            "    .. note::\n",
            "        Technically there's a slight ambiguity in calls where the\n",
            "        second label is a valid *fmt*. ``plot('n', 'o', data=obj)``\n",
            "        could be ``plt(x, y)`` or ``plt(y, fmt)``. In such cases,\n",
            "        the former interpretation is chosen, but a warning is issued.\n",
            "        You may suppress the warning by adding an empty format string\n",
            "        ``plot('n', 'o', '', data=obj)``.\n",
            "\n",
            "Returns\n",
            "-------\n",
            "list of `.Line2D`\n",
            "    A list of lines representing the plotted data.\n",
            "\n",
            "Other Parameters\n",
            "----------------\n",
            "scalex, scaley : bool, default: True\n",
            "    These parameters determine if the view limits are adapted to the\n",
            "    data limits. The values are passed on to\n",
            "    `~.axes.Axes.autoscale_view`.\n",
            "\n",
            "**kwargs : `.Line2D` properties, optional\n",
            "    *kwargs* are used to specify properties like a line label (for\n",
            "    auto legends), linewidth, antialiasing, marker face color.\n",
            "    Example::\n",
            "\n",
            "    >>> plot([1, 2, 3], [1, 2, 3], 'go-', label='line 1', linewidth=2)\n",
            "    >>> plot([1, 2, 3], [1, 4, 9], 'rs', label='line 2')\n",
            "\n",
            "    If you specify multiple lines with one plot call, the kwargs apply\n",
            "    to all those lines. In case the label object is iterable, each\n",
            "    element is used as labels for each set of data.\n",
            "\n",
            "    Here is a list of available `.Line2D` properties:\n",
            "\n",
            "    Properties:\n",
            "    agg_filter: a filter function, which takes a (m, n, 3) float array and a dpi value, and returns a (m, n, 3) array and two offsets from the bottom left corner of the image\n",
            "    alpha: scalar or None\n",
            "    animated: bool\n",
            "    antialiased or aa: bool\n",
            "    clip_box: `.Bbox`\n",
            "    clip_on: bool\n",
            "    clip_path: Patch or (Path, Transform) or None\n",
            "    color or c: color\n",
            "    dash_capstyle: `.CapStyle` or {'butt', 'projecting', 'round'}\n",
            "    dash_joinstyle: `.JoinStyle` or {'miter', 'round', 'bevel'}\n",
            "    dashes: sequence of floats (on/off ink in points) or (None, None)\n",
            "    data: (2, N) array or two 1D arrays\n",
            "    drawstyle or ds: {'default', 'steps', 'steps-pre', 'steps-mid', 'steps-post'}, default: 'default'\n",
            "    figure: `.Figure`\n",
            "    fillstyle: {'full', 'left', 'right', 'bottom', 'top', 'none'}\n",
            "    gapcolor: color or None\n",
            "    gid: str\n",
            "    in_layout: bool\n",
            "    label: object\n",
            "    linestyle or ls: {'-', '--', '-.', ':', '', (offset, on-off-seq), ...}\n",
            "    linewidth or lw: float\n",
            "    marker: marker style string, `~.path.Path` or `~.markers.MarkerStyle`\n",
            "    markeredgecolor or mec: color\n",
            "    markeredgewidth or mew: float\n",
            "    markerfacecolor or mfc: color\n",
            "    markerfacecoloralt or mfcalt: color\n",
            "    markersize or ms: float\n",
            "    markevery: None or int or (int, int) or slice or list[int] or float or (float, float) or list[bool]\n",
            "    mouseover: bool\n",
            "    path_effects: `.AbstractPathEffect`\n",
            "    picker: float or callable[[Artist, Event], tuple[bool, dict]]\n",
            "    pickradius: unknown\n",
            "    rasterized: bool\n",
            "    sketch_params: (scale: float, length: float, randomness: float)\n",
            "    snap: bool or None\n",
            "    solid_capstyle: `.CapStyle` or {'butt', 'projecting', 'round'}\n",
            "    solid_joinstyle: `.JoinStyle` or {'miter', 'round', 'bevel'}\n",
            "    transform: unknown\n",
            "    url: str\n",
            "    visible: bool\n",
            "    xdata: 1D array\n",
            "    ydata: 1D array\n",
            "    zorder: float\n",
            "\n",
            "See Also\n",
            "--------\n",
            "scatter : XY scatter plot with markers of varying size and/or color (\n",
            "    sometimes also called bubble chart).\n",
            "\n",
            "Notes\n",
            "-----\n",
            "**Format Strings**\n",
            "\n",
            "A format string consists of a part for color, marker and line::\n",
            "\n",
            "    fmt = '[marker][line][color]'\n",
            "\n",
            "Each of them is optional. If not provided, the value from the style\n",
            "cycle is used. Exception: If ``line`` is given, but no ``marker``,\n",
            "the data will be a line without markers.\n",
            "\n",
            "Other combinations such as ``[color][marker][line]`` are also\n",
            "supported, but note that their parsing may be ambiguous.\n",
            "\n",
            "**Markers**\n",
            "\n",
            "=============   ===============================\n",
            "character       description\n",
            "=============   ===============================\n",
            "``'.'``         point marker\n",
            "``','``         pixel marker\n",
            "``'o'``         circle marker\n",
            "``'v'``         triangle_down marker\n",
            "``'^'``         triangle_up marker\n",
            "``'<'``         triangle_left marker\n",
            "``'>'``         triangle_right marker\n",
            "``'1'``         tri_down marker\n",
            "``'2'``         tri_up marker\n",
            "``'3'``         tri_left marker\n",
            "``'4'``         tri_right marker\n",
            "``'8'``         octagon marker\n",
            "``'s'``         square marker\n",
            "``'p'``         pentagon marker\n",
            "``'P'``         plus (filled) marker\n",
            "``'*'``         star marker\n",
            "``'h'``         hexagon1 marker\n",
            "``'H'``         hexagon2 marker\n",
            "``'+'``         plus marker\n",
            "``'x'``         x marker\n",
            "``'X'``         x (filled) marker\n",
            "``'D'``         diamond marker\n",
            "``'d'``         thin_diamond marker\n",
            "``'|'``         vline marker\n",
            "``'_'``         hline marker\n",
            "=============   ===============================\n",
            "\n",
            "**Line Styles**\n",
            "\n",
            "=============    ===============================\n",
            "character        description\n",
            "=============    ===============================\n",
            "``'-'``          solid line style\n",
            "``'--'``         dashed line style\n",
            "``'-.'``         dash-dot line style\n",
            "``':'``          dotted line style\n",
            "=============    ===============================\n",
            "\n",
            "Example format strings::\n",
            "\n",
            "    'b'    # blue markers with default shape\n",
            "    'or'   # red circles\n",
            "    '-g'   # green solid line\n",
            "    '--'   # dashed line with default color\n",
            "    '^k:'  # black triangle_up markers connected by a dotted line\n",
            "\n",
            "**Colors**\n",
            "\n",
            "The supported color abbreviations are the single letter codes\n",
            "\n",
            "=============    ===============================\n",
            "character        color\n",
            "=============    ===============================\n",
            "``'b'``          blue\n",
            "``'g'``          green\n",
            "``'r'``          red\n",
            "``'c'``          cyan\n",
            "``'m'``          magenta\n",
            "``'y'``          yellow\n",
            "``'k'``          black\n",
            "``'w'``          white\n",
            "=============    ===============================\n",
            "\n",
            "and the ``'CN'`` colors that index into the default property cycle.\n",
            "\n",
            "If the color is the only part of the format string, you can\n",
            "additionally use any  `matplotlib.colors` spec, e.g. full names\n",
            "(``'green'``) or hex strings (``'#008000'``).\n"
          ]
        }
      ]
    },
    {
      "cell_type": "code",
      "source": [
        "binom_norm_plot(n = 30, p = 0.5)\n",
        "n = 30\n",
        "p = 0.5\n",
        "plt.plot(range(n+1), stats.norm.pdf(range(n+1), loc = n*p, scale = math.sqrt(n*p*(1-p))))"
      ],
      "metadata": {
        "id": "LuFGb6LxXQYF",
        "outputId": "f9b40c45-f6c8-4500-d04d-de7ada214efa",
        "colab": {
          "base_uri": "https://localhost:8080/",
          "height": 448
        }
      },
      "execution_count": null,
      "outputs": [
        {
          "output_type": "execute_result",
          "data": {
            "text/plain": [
              "[<matplotlib.lines.Line2D at 0x7d5be7649870>]"
            ]
          },
          "metadata": {},
          "execution_count": 22
        },
        {
          "output_type": "display_data",
          "data": {
            "text/plain": [
              "<Figure size 640x480 with 1 Axes>"
            ],
            "image/png": "[encoded data removed]"
          },
          "metadata": {}
        }
      ]
    },
    {
      "cell_type": "markdown",
      "metadata": {
        "id": "6ac0dd9c-0cd4-4ad1-8a41-e0337953c5e6"
      },
      "source": [
        "Add that to the function!"
      ]
    },
    {
      "cell_type": "code",
      "source": [
        "def binom_norm_plot(n = 30, p = 0.5):\n",
        "    plt.bar(x = range(n+1), height = stats.binom.pmf(range(n+1), n = n, p = p))\n",
        "    plt.plot(range(n+1), stats.norm.pdf(range(n+1), loc = n*p, scale = math.sqrt(n*p*(1-p))))\n",
        "    return None"
      ],
      "metadata": {
        "id": "-ivDX1XtXQ1N"
      },
      "execution_count": null,
      "outputs": []
    },
    {
      "cell_type": "code",
      "source": [
        "binom_norm_plot()"
      ],
      "metadata": {
        "id": "qWfrE-xNdlFZ",
        "outputId": "52176cb6-4b92-45d5-b6e0-218d970a1294",
        "colab": {
          "base_uri": "https://localhost:8080/",
          "height": 430
        }
      },
      "execution_count": null,
      "outputs": [
        {
          "output_type": "display_data",
          "data": {
            "text/plain": [
              "<Figure size 640x480 with 1 Axes>"
            ],
            "image/png": "[encoded data removed]"
          },
          "metadata": {}
        }
      ]
    },
    {
      "cell_type": "code",
      "source": [
        "binom_norm_plot(n= 100, p = 0.2)"
      ],
      "metadata": {
        "id": "efNbWae_dnHp",
        "outputId": "0ef01888-562c-4b46-f9e5-686d7f5ca562",
        "colab": {
          "base_uri": "https://localhost:8080/",
          "height": 430
        }
      },
      "execution_count": null,
      "outputs": [
        {
          "output_type": "display_data",
          "data": {
            "text/plain": [
              "<Figure size 640x480 with 1 Axes>"
            ],
            "image/png": "[encoded data removed]"
          },
          "metadata": {}
        }
      ]
    },
    {
      "cell_type": "markdown",
      "source": [
        "## Control Flow Examples"
      ],
      "metadata": {
        "id": "xgmqqbKnIaba"
      }
    },
    {
      "cell_type": "markdown",
      "metadata": {
        "id": "b0cd6cb2-c235-4294-98a2-5eb9991b079b"
      },
      "source": [
        "### `for` loop and if/then/else\n",
        "\n",
        "First, let's do an if/then/else logic example.  Fizz buzz coding!  \n",
        "\n",
        "The logic for the fizz buzz programming problem:\n",
        "- If a number is divisible by 15 (both 3 and 5), then print fizz buzz\n",
        "- If a number is only divisible by 3, then print fizz\n",
        "- If a number is only divisible by 5, then print buzz\n",
        "- Otherwise print the number itself\n",
        "\n",
        "We can use the `%` (modulus operator) to get the remainder from a division calculation."
      ]
    },
    {
      "cell_type": "code",
      "source": [
        "10 % 3"
      ],
      "metadata": {
        "id": "OldFDkktH_5z",
        "outputId": "372b2871-56fe-42e0-de8d-ad3d29dd80fd",
        "colab": {
          "base_uri": "https://localhost:8080/"
        }
      },
      "execution_count": null,
      "outputs": [
        {
          "output_type": "execute_result",
          "data": {
            "text/plain": [
              "1"
            ]
          },
          "metadata": {},
          "execution_count": 26
        }
      ]
    },
    {
      "cell_type": "code",
      "source": [
        "11 % 3"
      ],
      "metadata": {
        "id": "e51t0qe5IByW",
        "outputId": "5aa80c35-cfb9-45d3-f5f5-a311fc4fc724",
        "colab": {
          "base_uri": "https://localhost:8080/"
        }
      },
      "execution_count": null,
      "outputs": [
        {
          "output_type": "execute_result",
          "data": {
            "text/plain": [
              "2"
            ]
          },
          "metadata": {},
          "execution_count": 27
        }
      ]
    },
    {
      "cell_type": "code",
      "source": [
        "12 % 3"
      ],
      "metadata": {
        "id": "aMMOtmW6fs4L",
        "outputId": "1d35e84a-664b-4482-f91c-a67b1f0bd0b0",
        "colab": {
          "base_uri": "https://localhost:8080/"
        }
      },
      "execution_count": null,
      "outputs": [
        {
          "output_type": "execute_result",
          "data": {
            "text/plain": [
              "0"
            ]
          },
          "metadata": {},
          "execution_count": 28
        }
      ]
    },
    {
      "cell_type": "markdown",
      "source": [
        "Let's use if/then/else logic to go through and print the correct statement."
      ],
      "metadata": {
        "id": "CUeL3_5sIEVa"
      }
    },
    {
      "cell_type": "code",
      "source": [
        "value = 45\n",
        "if ((value % 5) == 0) and ((value % 3) == 0):\n",
        "    print(\"fizz buzz\")\n",
        "elif (value % 3) == 0:\n",
        "    print(\"fizz\")\n",
        "elif (value % 5) == 0:\n",
        "    print(\"buzz\")\n",
        "else:\n",
        "    print(value)"
      ],
      "metadata": {
        "id": "OAoDHsXdd-Nj",
        "outputId": "dc8d731e-21c3-4cb6-dde7-a8e8f3fd1fa0",
        "colab": {
          "base_uri": "https://localhost:8080/"
        }
      },
      "execution_count": null,
      "outputs": [
        {
          "output_type": "stream",
          "name": "stdout",
          "text": [
            "fizz buzz\n"
          ]
        }
      ]
    },
    {
      "cell_type": "markdown",
      "metadata": {
        "id": "1a144271-9ee8-4044-8adb-1ac08ea76210"
      },
      "source": [
        "Now wrap it in a for loop to test all numbers between 1 and 100."
      ]
    },
    {
      "cell_type": "code",
      "source": [
        "for value in range(1, 101):\n",
        "    if ((value % 5) == 0) and ((value % 3) == 0):\n",
        "        print(\"fizz buzz\")\n",
        "    elif (value % 3) == 0:\n",
        "        print(\"fizz\")\n",
        "    elif (value % 5) == 0:\n",
        "        print(\"buzz\")\n",
        "    else:\n",
        "        print(value)"
      ],
      "metadata": {
        "id": "NBZb2t0Ad-zy",
        "outputId": "5728637a-0f45-4959-8510-c1b5826daa8b",
        "colab": {
          "base_uri": "https://localhost:8080/"
        }
      },
      "execution_count": null,
      "outputs": [
        {
          "output_type": "stream",
          "name": "stdout",
          "text": [
            "1\n",
            "2\n",
            "fizz\n",
            "4\n",
            "buzz\n",
            "fizz\n",
            "7\n",
            "8\n",
            "fizz\n",
            "buzz\n",
            "11\n",
            "fizz\n",
            "13\n",
            "14\n",
            "fizz buzz\n",
            "16\n",
            "17\n",
            "fizz\n",
            "19\n",
            "buzz\n",
            "fizz\n",
            "22\n",
            "23\n",
            "fizz\n",
            "buzz\n",
            "26\n",
            "fizz\n",
            "28\n",
            "29\n",
            "fizz buzz\n",
            "31\n",
            "32\n",
            "fizz\n",
            "34\n",
            "buzz\n",
            "fizz\n",
            "37\n",
            "38\n",
            "fizz\n",
            "buzz\n",
            "41\n",
            "fizz\n",
            "43\n",
            "44\n",
            "fizz buzz\n",
            "46\n",
            "47\n",
            "fizz\n",
            "49\n",
            "buzz\n",
            "fizz\n",
            "52\n",
            "53\n",
            "fizz\n",
            "buzz\n",
            "56\n",
            "fizz\n",
            "58\n",
            "59\n",
            "fizz buzz\n",
            "61\n",
            "62\n",
            "fizz\n",
            "64\n",
            "buzz\n",
            "fizz\n",
            "67\n",
            "68\n",
            "fizz\n",
            "buzz\n",
            "71\n",
            "fizz\n",
            "73\n",
            "74\n",
            "fizz buzz\n",
            "76\n",
            "77\n",
            "fizz\n",
            "79\n",
            "buzz\n",
            "fizz\n",
            "82\n",
            "83\n",
            "fizz\n",
            "buzz\n",
            "86\n",
            "fizz\n",
            "88\n",
            "89\n",
            "fizz buzz\n",
            "91\n",
            "92\n",
            "fizz\n",
            "94\n",
            "buzz\n",
            "fizz\n",
            "97\n",
            "98\n",
            "fizz\n",
            "buzz\n"
          ]
        }
      ]
    },
    {
      "cell_type": "markdown",
      "metadata": {
        "id": "105c5005-83fb-4fcc-a242-b11340abe57c"
      },
      "source": [
        "### `while` loop Example\n",
        "\n",
        "Let's do a quick interactive number guessing game.  We'll use the `input` function to ask the user for an input.\n",
        "\n",
        "A `while` loop allows us to keep executing until the user guesses correctly and we update the condition."
      ]
    },
    {
      "cell_type": "code",
      "source": [
        "input(\"give me a value \")"
      ],
      "metadata": {
        "id": "Mwcwqngyg_tJ",
        "outputId": "514c589a-615b-4bdb-9519-044004875264",
        "colab": {
          "base_uri": "https://localhost:8080/",
          "height": 53
        }
      },
      "execution_count": null,
      "outputs": [
        {
          "name": "stdout",
          "output_type": "stream",
          "text": [
            "give me a value 514kjdaf\n"
          ]
        },
        {
          "output_type": "execute_result",
          "data": {
            "text/plain": [
              "'514kjdaf'"
            ],
            "application/vnd.google.colaboratory.intrinsic+json": {
              "type": "string"
            }
          },
          "metadata": {},
          "execution_count": 38
        }
      ]
    },
    {
      "cell_type": "code",
      "source": [
        "truth = 18\n",
        "correct = False\n",
        "while not correct:\n",
        "    guess = int(input(\"Give me an integer value between 1 and 20: \"))\n",
        "    if guess == truth:\n",
        "        print(\"Way to go!\")\n",
        "        correct = True\n",
        "    elif guess < truth:\n",
        "        print(\"Something larger\")\n",
        "    elif guess > truth:\n",
        "        print(\"something smaller\")"
      ],
      "metadata": {
        "id": "znIOwKNEgxvj",
        "outputId": "2fa63015-0509-49d0-ad19-e30db9a6905a",
        "colab": {
          "base_uri": "https://localhost:8080/"
        }
      },
      "execution_count": null,
      "outputs": [
        {
          "output_type": "stream",
          "name": "stdout",
          "text": [
            "Give me an integer value between 1 and 20: 1\n",
            "Something larger\n",
            "Give me an integer value between 1 and 20: 20\n",
            "something smaller\n",
            "Give me an integer value between 1 and 20: 19\n",
            "something smaller\n",
            "Give me an integer value between 1 and 20: 18\n",
            "Way to go!\n"
          ]
        }
      ]
    },
    {
      "cell_type": "markdown",
      "metadata": {
        "id": "60f7ae56-c63c-4a12-b593-97c8b17fb0a5"
      },
      "source": [
        "## Lists and Tuples Practice\n",
        "\n",
        "List comprehensions can be confusing at first. Let's do a little practice. First, let's write a list comprehension to return a list with values 0, 1, ..., 9."
      ]
    },
    {
      "cell_type": "code",
      "source": [
        "list(range(10))"
      ],
      "metadata": {
        "id": "KX-q0DkIJNHO",
        "outputId": "6ff55377-bbde-4551-f9c9-42798c15c1f3",
        "colab": {
          "base_uri": "https://localhost:8080/"
        }
      },
      "execution_count": null,
      "outputs": [
        {
          "output_type": "execute_result",
          "data": {
            "text/plain": [
              "[0, 1, 2, 3, 4, 5, 6, 7, 8, 9]"
            ]
          },
          "metadata": {},
          "execution_count": 42
        }
      ]
    },
    {
      "cell_type": "code",
      "source": [
        "[x for x in range(10)]"
      ],
      "metadata": {
        "id": "-2LaiGXPi40J",
        "outputId": "0261a1e4-410e-4aeb-9b45-4a5290f3d84d",
        "colab": {
          "base_uri": "https://localhost:8080/"
        }
      },
      "execution_count": null,
      "outputs": [
        {
          "output_type": "execute_result",
          "data": {
            "text/plain": [
              "[0, 1, 2, 3, 4, 5, 6, 7, 8, 9]"
            ]
          },
          "metadata": {},
          "execution_count": 43
        }
      ]
    },
    {
      "cell_type": "markdown",
      "source": [
        "Ok, that is a bit silly but we can do more with this. For instance, we can return $x^2$ instead of just $x$."
      ],
      "metadata": {
        "id": "SShHiJTqJPez"
      }
    },
    {
      "cell_type": "code",
      "source": [
        "[x**2 for x in range(10)]"
      ],
      "metadata": {
        "id": "Ym5aofciJYAu",
        "outputId": "b6c96820-b70d-4c43-9e68-e6c99d48157b",
        "colab": {
          "base_uri": "https://localhost:8080/"
        }
      },
      "execution_count": null,
      "outputs": [
        {
          "output_type": "execute_result",
          "data": {
            "text/plain": [
              "[0, 1, 4, 9, 16, 25, 36, 49, 64, 81]"
            ]
          },
          "metadata": {},
          "execution_count": 44
        }
      ]
    },
    {
      "cell_type": "markdown",
      "source": [
        "We can also return more than one value if we return a list! Let's return $x$, $x+1$, and $x+2$."
      ],
      "metadata": {
        "id": "vLNKcv3uJa_N"
      }
    },
    {
      "cell_type": "code",
      "execution_count": null,
      "metadata": {
        "id": "12562624-ccb8-45a2-8505-bce3657ab9aa",
        "outputId": "375812ff-f334-410a-9303-b4ef65bca30c",
        "colab": {
          "base_uri": "https://localhost:8080/"
        }
      },
      "outputs": [
        {
          "output_type": "execute_result",
          "data": {
            "text/plain": [
              "[[0, 1, 2],\n",
              " [1, 2, 3],\n",
              " [2, 3, 4],\n",
              " [3, 4, 5],\n",
              " [4, 5, 6],\n",
              " [5, 6, 7],\n",
              " [6, 7, 8],\n",
              " [7, 8, 9],\n",
              " [8, 9, 10],\n",
              " [9, 10, 11]]"
            ]
          },
          "metadata": {},
          "execution_count": 45
        }
      ],
      "source": [
        "[[x, x+1, x+2] for x in range(10)]"
      ]
    },
    {
      "cell_type": "markdown",
      "metadata": {
        "id": "17e262fa-6b23-45c8-95ec-75e2d65ece6b"
      },
      "source": [
        ":Next we'll consider the `map()` function, which allows us to **apply a function to every element of list** (along with other things we'll look at later!).\n",
        "\n",
        "Consider applying the `sum()` function to the first (0th) and second (1st) elements of our list.  This should sum the subsequent lists."
      ]
    },
    {
      "cell_type": "code",
      "execution_count": null,
      "metadata": {
        "id": "c1aa41f4-e9ff-4c1c-b8c4-bb880f926d3c"
      },
      "outputs": [],
      "source": [
        "y = [[x, x+1, x+2] for x in range(10)]"
      ]
    },
    {
      "cell_type": "code",
      "source": [
        "y[0]"
      ],
      "metadata": {
        "id": "xYAJCNp-JyBk",
        "outputId": "79005187-d67e-422f-9f0d-95711e31f3c8",
        "colab": {
          "base_uri": "https://localhost:8080/"
        }
      },
      "execution_count": null,
      "outputs": [
        {
          "output_type": "execute_result",
          "data": {
            "text/plain": [
              "[0, 1, 2]"
            ]
          },
          "metadata": {},
          "execution_count": 47
        }
      ]
    },
    {
      "cell_type": "code",
      "source": [
        "sum(y[0])"
      ],
      "metadata": {
        "id": "40XcaB9iJzCy",
        "outputId": "1752fc86-ee9b-42a9-c276-01ab9ec113e7",
        "colab": {
          "base_uri": "https://localhost:8080/"
        }
      },
      "execution_count": null,
      "outputs": [
        {
          "output_type": "execute_result",
          "data": {
            "text/plain": [
              "3"
            ]
          },
          "metadata": {},
          "execution_count": 48
        }
      ]
    },
    {
      "cell_type": "markdown",
      "metadata": {
        "id": "2d2c6f40-d639-4021-abdd-dfa17a85eead"
      },
      "source": [
        "To do this to every list element would be tedious.  Instead we can `map()` the `sum()` function to each element."
      ]
    },
    {
      "cell_type": "code",
      "execution_count": null,
      "metadata": {
        "id": "6915626a-9164-4021-8574-d81e342fa26a",
        "outputId": "955c7d63-d4d3-49d8-e267-7589746c2ce0",
        "colab": {
          "base_uri": "https://localhost:8080/"
        }
      },
      "outputs": [
        {
          "output_type": "execute_result",
          "data": {
            "text/plain": [
              "<map at 0x7d5be5260b20>"
            ]
          },
          "metadata": {},
          "execution_count": 49
        }
      ],
      "source": [
        "map(sum, y)"
      ]
    },
    {
      "cell_type": "markdown",
      "source": [
        "This doesn't actually return the values! Instead this is an iterator that allows us to find the values when needed.\n",
        "\n",
        "An easy way to get at these is to just wrap the map in a `list()`."
      ],
      "metadata": {
        "id": "ONl-xJKaKOEq"
      }
    },
    {
      "cell_type": "code",
      "source": [
        "z = list(map(sum, y))\n",
        "z"
      ],
      "metadata": {
        "id": "vHG8sKuKKJxf",
        "outputId": "3f72944a-759f-4e1e-d1f2-496c02eab481",
        "colab": {
          "base_uri": "https://localhost:8080/"
        }
      },
      "execution_count": null,
      "outputs": [
        {
          "output_type": "execute_result",
          "data": {
            "text/plain": [
              "[3, 6, 9, 12, 15, 18, 21, 24, 27, 30]"
            ]
          },
          "metadata": {},
          "execution_count": 51
        }
      ]
    },
    {
      "cell_type": "markdown",
      "metadata": {
        "id": "55609eac-88a3-4c47-8dec-cb96b5a7ba71"
      },
      "source": [
        "Next we consider the `zip()` function, which is quite useful for looking at multiple lists (and other data structures) at once.  Here we have two lists of the same length, which we can check with the code below."
      ]
    },
    {
      "cell_type": "code",
      "execution_count": null,
      "metadata": {
        "id": "17a116dd-8482-44c7-90a5-ffda35354350",
        "outputId": "d087490b-afc4-4b8e-e767-5685dbd3acd1",
        "colab": {
          "base_uri": "https://localhost:8080/"
        }
      },
      "outputs": [
        {
          "output_type": "stream",
          "name": "stdout",
          "text": [
            "(10, 10)\n"
          ]
        },
        {
          "output_type": "execute_result",
          "data": {
            "text/plain": [
              "<zip at 0x7d5be521bb80>"
            ]
          },
          "metadata": {},
          "execution_count": 54
        }
      ],
      "source": [
        "print((len(z), len(y)))\n",
        "zip(z, y)"
      ]
    },
    {
      "cell_type": "markdown",
      "metadata": {
        "id": "e8a52e9e-b146-41e0-b18e-3a4d4265575d"
      },
      "source": [
        "Now we can write a for loop to iterate over the 0th (first) element of each list at the same time, then the 1st (second) element, ..., etc."
      ]
    },
    {
      "cell_type": "code",
      "execution_count": null,
      "metadata": {
        "id": "792e9528-68d6-4317-9a55-ee057dbff1e6",
        "outputId": "5d5f8820-25eb-49d7-d8bb-1641e7801bd1",
        "colab": {
          "base_uri": "https://localhost:8080/"
        }
      },
      "outputs": [
        {
          "output_type": "stream",
          "name": "stdout",
          "text": [
            "3 [0, 1, 2]\n",
            "6 [1, 2, 3]\n",
            "9 [2, 3, 4]\n",
            "12 [3, 4, 5]\n",
            "15 [4, 5, 6]\n",
            "18 [5, 6, 7]\n",
            "21 [6, 7, 8]\n",
            "24 [7, 8, 9]\n",
            "27 [8, 9, 10]\n",
            "30 [9, 10, 11]\n"
          ]
        }
      ],
      "source": [
        "for i, j in zip(z, y):\n",
        "    print(i, j)"
      ]
    },
    {
      "cell_type": "markdown",
      "metadata": {
        "id": "bdad5f94-e75e-4783-bb2d-1641e8606713"
      },
      "source": [
        "This can be done via a list comprehension as well!"
      ]
    },
    {
      "cell_type": "code",
      "execution_count": null,
      "metadata": {
        "id": "e8b8d5a4-d617-4b44-a9ac-cf28ad67b872",
        "outputId": "7f418a83-ba46-4215-caa6-cb7da94b6c98",
        "colab": {
          "base_uri": "https://localhost:8080/"
        }
      },
      "outputs": [
        {
          "output_type": "execute_result",
          "data": {
            "text/plain": [
              "[[3, [0, 1, 2]],\n",
              " [6, [1, 2, 3]],\n",
              " [9, [2, 3, 4]],\n",
              " [12, [3, 4, 5]],\n",
              " [15, [4, 5, 6]],\n",
              " [18, [5, 6, 7]],\n",
              " [21, [6, 7, 8]],\n",
              " [24, [7, 8, 9]],\n",
              " [27, [8, 9, 10]],\n",
              " [30, [9, 10, 11]]]"
            ]
          },
          "metadata": {},
          "execution_count": 56
        }
      ],
      "source": [
        "[[i,j] for i, j in zip(z,y)]"
      ]
    },
    {
      "cell_type": "code",
      "execution_count": null,
      "metadata": {
        "id": "867c0035-b35e-4e54-ada3-432d8251c18f",
        "outputId": "ed5a8c5e-5bcc-4ab6-ffd7-21046a509d4c",
        "colab": {
          "base_uri": "https://localhost:8080/"
        }
      },
      "outputs": [
        {
          "output_type": "execute_result",
          "data": {
            "text/plain": [
              "[[15, [4, 5, 6]],\n",
              " [18, [5, 6, 7]],\n",
              " [21, [6, 7, 8]],\n",
              " [24, [7, 8, 9]],\n",
              " [27, [8, 9, 10]],\n",
              " [30, [9, 10, 11]]]"
            ]
          },
          "metadata": {},
          "execution_count": 57
        }
      ],
      "source": [
        "[[i,j] for i, j in zip(z,y) if i >12]"
      ]
    },
    {
      "cell_type": "markdown",
      "metadata": {
        "id": "270ca2a9-e628-46b4-9e3d-90da2b698cce"
      },
      "source": [
        "## Dictionaries\n",
        "\n",
        "Let's construct a dictionary from a tuple and a list.  The tuple will act as the keys for our dictionary and the list as the values corresponding to those keys. (We could use lists for both!)"
      ]
    },
    {
      "cell_type": "code",
      "source": [
        "keys = tuple(x for x in \"abcdef\")\n",
        "keys"
      ],
      "metadata": {
        "id": "mS3A_dXhlpVv",
        "outputId": "01a348b4-1423-4b5d-b157-6e02cb4cc819",
        "colab": {
          "base_uri": "https://localhost:8080/"
        }
      },
      "execution_count": null,
      "outputs": [
        {
          "output_type": "execute_result",
          "data": {
            "text/plain": [
              "('a', 'b', 'c', 'd', 'e', 'f')"
            ]
          },
          "metadata": {},
          "execution_count": 59
        }
      ]
    },
    {
      "cell_type": "markdown",
      "metadata": {
        "id": "e7fd355c-9cb1-4ca1-8529-2ae7535d7974"
      },
      "source": [
        "Now we'll use another list comprehension to return a list where each element is a list itself of length four based on different mathematical functions."
      ]
    },
    {
      "cell_type": "code",
      "source": [
        "import math\n",
        "values = [[x, pow(x, 3), math.exp(x), x + 10] for x in range(10, 16)]\n",
        "values"
      ],
      "metadata": {
        "id": "7YGJz_l6loj3",
        "outputId": "8a5ec81f-d4fe-4470-982d-f74d6abfaef2",
        "colab": {
          "base_uri": "https://localhost:8080/"
        }
      },
      "execution_count": null,
      "outputs": [
        {
          "output_type": "execute_result",
          "data": {
            "text/plain": [
              "[[10, 1000, 22026.465794806718, 20],\n",
              " [11, 1331, 59874.14171519782, 21],\n",
              " [12, 1728, 162754.79141900392, 22],\n",
              " [13, 2197, 442413.3920089205, 23],\n",
              " [14, 2744, 1202604.2841647768, 24],\n",
              " [15, 3375, 3269017.3724721107, 25]]"
            ]
          },
          "metadata": {},
          "execution_count": 61
        }
      ]
    },
    {
      "cell_type": "markdown",
      "metadata": {
        "id": "35934306-467c-4fbb-b552-9a8742efb106"
      },
      "source": [
        "Using the `zip()` function on the tuple an dlist, we can easily create a dictionary using the `dict()` function."
      ]
    },
    {
      "cell_type": "code",
      "source": [
        "my_dict = dict(zip(keys, values))\n",
        "my_dict"
      ],
      "metadata": {
        "id": "707W5HbZloDn",
        "outputId": "c2c84bf2-6f19-47a8-a71a-6e5617591f47",
        "colab": {
          "base_uri": "https://localhost:8080/"
        }
      },
      "execution_count": null,
      "outputs": [
        {
          "output_type": "execute_result",
          "data": {
            "text/plain": [
              "{'a': [10, 1000, 22026.465794806718, 20],\n",
              " 'b': [11, 1331, 59874.14171519782, 21],\n",
              " 'c': [12, 1728, 162754.79141900392, 22],\n",
              " 'd': [13, 2197, 442413.3920089205, 23],\n",
              " 'e': [14, 2744, 1202604.2841647768, 24],\n",
              " 'f': [15, 3375, 3269017.3724721107, 25]}"
            ]
          },
          "metadata": {},
          "execution_count": 63
        }
      ]
    },
    {
      "cell_type": "code",
      "source": [
        "my_dict[\"a\"]"
      ],
      "metadata": {
        "id": "wztIR4MRmqqR",
        "outputId": "64675826-fa40-49bb-d5cd-199c60cac68a",
        "colab": {
          "base_uri": "https://localhost:8080/"
        }
      },
      "execution_count": null,
      "outputs": [
        {
          "output_type": "execute_result",
          "data": {
            "text/plain": [
              "[10, 1000, 22026.465794806718, 20]"
            ]
          },
          "metadata": {},
          "execution_count": 64
        }
      ]
    },
    {
      "cell_type": "markdown",
      "metadata": {
        "id": "ce02b240-2612-4159-a0b8-7a3e37f89bad"
      },
      "source": [
        "What happens if we convert this dictionary into a list?"
      ]
    },
    {
      "cell_type": "code",
      "source": [
        "list(my_dict)"
      ],
      "metadata": {
        "id": "fSQ12M6JlnN3",
        "outputId": "713b5d2f-ab7f-46be-941a-6fa1b8298fa4",
        "colab": {
          "base_uri": "https://localhost:8080/"
        }
      },
      "execution_count": null,
      "outputs": [
        {
          "output_type": "execute_result",
          "data": {
            "text/plain": [
              "['a', 'b', 'c', 'd', 'e', 'f']"
            ]
          },
          "metadata": {},
          "execution_count": 65
        }
      ]
    },
    {
      "cell_type": "code",
      "source": [
        "list(my_dict.values())"
      ],
      "metadata": {
        "id": "qOUTFve2lmOH",
        "outputId": "57071fdb-3cb9-4680-9e9d-db5b82a67309",
        "colab": {
          "base_uri": "https://localhost:8080/"
        }
      },
      "execution_count": null,
      "outputs": [
        {
          "output_type": "execute_result",
          "data": {
            "text/plain": [
              "[[10, 1000, 22026.465794806718, 20],\n",
              " [11, 1331, 59874.14171519782, 21],\n",
              " [12, 1728, 162754.79141900392, 22],\n",
              " [13, 2197, 442413.3920089205, 23],\n",
              " [14, 2744, 1202604.2841647768, 24],\n",
              " [15, 3375, 3269017.3724721107, 25]]"
            ]
          },
          "metadata": {},
          "execution_count": 67
        }
      ]
    },
    {
      "cell_type": "code",
      "source": [
        "list(zip(list(my_dict), list(my_dict.values())))"
      ],
      "metadata": {
        "id": "OEcsoEg5llSJ",
        "outputId": "b7961056-24e7-4ab4-a397-7aef06d3163e",
        "colab": {
          "base_uri": "https://localhost:8080/"
        }
      },
      "execution_count": null,
      "outputs": [
        {
          "output_type": "execute_result",
          "data": {
            "text/plain": [
              "[('a', [10, 1000, 22026.465794806718, 20]),\n",
              " ('b', [11, 1331, 59874.14171519782, 21]),\n",
              " ('c', [12, 1728, 162754.79141900392, 22]),\n",
              " ('d', [13, 2197, 442413.3920089205, 23]),\n",
              " ('e', [14, 2744, 1202604.2841647768, 24]),\n",
              " ('f', [15, 3375, 3269017.3724721107, 25])]"
            ]
          },
          "metadata": {},
          "execution_count": 70
        }
      ]
    },
    {
      "cell_type": "markdown",
      "metadata": {
        "id": "fc20e7e0-93b3-4e64-8eb9-6845a8bd41d7"
      },
      "source": [
        "We can use any immutable object as our keys.  Below we'll use a tuple as one of our keys and see how to reference that key."
      ]
    },
    {
      "cell_type": "code",
      "source": [
        "my_dict[(1, \"this\")] = \"this is a string\""
      ],
      "metadata": {
        "id": "j40Ruwf1lkYH"
      },
      "execution_count": null,
      "outputs": []
    },
    {
      "cell_type": "code",
      "source": [
        "my_dict"
      ],
      "metadata": {
        "id": "E4tdNeVyljqA",
        "outputId": "4867bae4-9bc2-4f63-e503-05fa54271d5b",
        "colab": {
          "base_uri": "https://localhost:8080/"
        }
      },
      "execution_count": null,
      "outputs": [
        {
          "output_type": "execute_result",
          "data": {
            "text/plain": [
              "{'a': [10, 1000, 22026.465794806718, 20],\n",
              " 'b': [11, 1331, 59874.14171519782, 21],\n",
              " 'c': [12, 1728, 162754.79141900392, 22],\n",
              " 'd': [13, 2197, 442413.3920089205, 23],\n",
              " 'e': [14, 2744, 1202604.2841647768, 24],\n",
              " 'f': [15, 3375, 3269017.3724721107, 25],\n",
              " (1, 'this'): 'this is a string'}"
            ]
          },
          "metadata": {},
          "execution_count": 72
        }
      ]
    },
    {
      "cell_type": "markdown",
      "metadata": {
        "id": "6dc3488b-ea24-487d-8c0e-a718bf67806f"
      },
      "source": [
        "A really useful operator is the `in` operator.  This easily allows us to see if a key exists in a dictionary."
      ]
    },
    {
      "cell_type": "code",
      "source": [
        "\"a\" in my_dict"
      ],
      "metadata": {
        "id": "hwZhx46plil_",
        "outputId": "de7e1806-74a4-406e-edc5-bd27329aa02b",
        "colab": {
          "base_uri": "https://localhost:8080/"
        }
      },
      "execution_count": null,
      "outputs": [
        {
          "output_type": "execute_result",
          "data": {
            "text/plain": [
              "True"
            ]
          },
          "metadata": {},
          "execution_count": 73
        }
      ]
    },
    {
      "cell_type": "code",
      "source": [
        "\"o\" in my_dict"
      ],
      "metadata": {
        "id": "ECRtKcamlicv",
        "outputId": "8e711ad1-9084-4757-c0af-8da721e5a702",
        "colab": {
          "base_uri": "https://localhost:8080/"
        }
      },
      "execution_count": null,
      "outputs": [
        {
          "output_type": "execute_result",
          "data": {
            "text/plain": [
              "False"
            ]
          },
          "metadata": {},
          "execution_count": 74
        }
      ]
    },
    {
      "cell_type": "code",
      "source": [
        "\"o\" not in my_dict"
      ],
      "metadata": {
        "id": "VYjgo0BpliR4",
        "outputId": "90904a6a-5446-4474-b819-2661d57c7306",
        "colab": {
          "base_uri": "https://localhost:8080/"
        }
      },
      "execution_count": null,
      "outputs": [
        {
          "output_type": "execute_result",
          "data": {
            "text/plain": [
              "True"
            ]
          },
          "metadata": {},
          "execution_count": 75
        }
      ]
    },
    {
      "cell_type": "markdown",
      "metadata": {
        "id": "cb5f6556-fc21-4e6f-895d-6e5057fc0c34"
      },
      "source": [
        "## `NumPy`\n",
        "\n",
        "We'll load in the `numpy` module and create a two-dimensional array using random values from a standard normal distribution."
      ]
    },
    {
      "cell_type": "code",
      "execution_count": null,
      "metadata": {
        "id": "e9597ec9-3c32-419c-abbd-4bda6673b36f",
        "outputId": "c1c7aa3d-c355-488e-d85f-7baebc174648",
        "colab": {
          "base_uri": "https://localhost:8080/"
        }
      },
      "outputs": [
        {
          "output_type": "execute_result",
          "data": {
            "text/plain": [
              "array([-1.10333845, -0.72502464, -0.78180526,  0.26697586, -0.24858073,\n",
              "        0.12648305,  0.84304257,  0.85793655,  0.47518364, -0.4507686 ,\n",
              "       -0.75493228, -0.81481411, -0.34385486, -0.05138009, -0.97227368,\n",
              "       -1.13448753,  0.30570522, -1.85168503, -0.17705351,  0.42582567,\n",
              "       -0.98535561, -1.11295413, -0.76062603,  0.64802459, -0.12983136,\n",
              "       -1.86959723, -0.42334911,  1.0138968 ,  0.98371534,  0.63004195])"
            ]
          },
          "metadata": {},
          "execution_count": 80
        }
      ],
      "source": [
        "import numpy as np\n",
        "rng = np.random.default_rng(10)\n",
        "values = rng.standard_normal(30)\n",
        "values"
      ]
    },
    {
      "cell_type": "code",
      "source": [
        "values.shape"
      ],
      "metadata": {
        "id": "eM4Mxa6SMuZt",
        "outputId": "62303c75-a82c-4828-a7c6-3746d56d3b76",
        "colab": {
          "base_uri": "https://localhost:8080/"
        }
      },
      "execution_count": null,
      "outputs": [
        {
          "output_type": "execute_result",
          "data": {
            "text/plain": [
              "(30,)"
            ]
          },
          "metadata": {},
          "execution_count": 81
        }
      ]
    },
    {
      "cell_type": "code",
      "execution_count": null,
      "metadata": {
        "id": "058e1807-c5b4-471c-85e1-6287e9e1ec91",
        "outputId": "99ef1432-e882-4276-c9d4-e782250a0cc1",
        "colab": {
          "base_uri": "https://localhost:8080/"
        }
      },
      "outputs": [
        {
          "output_type": "execute_result",
          "data": {
            "text/plain": [
              "array([[-1.10333845, -0.72502464],\n",
              "       [-0.78180526,  0.26697586],\n",
              "       [-0.24858073,  0.12648305],\n",
              "       [ 0.84304257,  0.85793655],\n",
              "       [ 0.47518364, -0.4507686 ],\n",
              "       [-0.75493228, -0.81481411],\n",
              "       [-0.34385486, -0.05138009],\n",
              "       [-0.97227368, -1.13448753],\n",
              "       [ 0.30570522, -1.85168503],\n",
              "       [-0.17705351,  0.42582567],\n",
              "       [-0.98535561, -1.11295413],\n",
              "       [-0.76062603,  0.64802459],\n",
              "       [-0.12983136, -1.86959723],\n",
              "       [-0.42334911,  1.0138968 ],\n",
              "       [ 0.98371534,  0.63004195]])"
            ]
          },
          "metadata": {},
          "execution_count": 82
        }
      ],
      "source": [
        "values.reshape((15, 2))"
      ]
    },
    {
      "cell_type": "code",
      "source": [
        "values.reshape((15, 2)).shape"
      ],
      "metadata": {
        "id": "995bgw58Mslt",
        "outputId": "fec6baa8-da00-4cf5-fa9e-83a313afe564",
        "colab": {
          "base_uri": "https://localhost:8080/"
        }
      },
      "execution_count": null,
      "outputs": [
        {
          "output_type": "execute_result",
          "data": {
            "text/plain": [
              "(15, 2)"
            ]
          },
          "metadata": {},
          "execution_count": 83
        }
      ]
    },
    {
      "cell_type": "code",
      "source": [
        "my_array = values.reshape((15,2))\n",
        "my_array.base"
      ],
      "metadata": {
        "id": "wXqIETBgpzkp",
        "outputId": "5b51f7e3-27b1-4a8e-e071-1ee59b03610d",
        "colab": {
          "base_uri": "https://localhost:8080/"
        }
      },
      "execution_count": null,
      "outputs": [
        {
          "output_type": "execute_result",
          "data": {
            "text/plain": [
              "array([-1.10333845, -0.72502464, -0.78180526,  0.26697586, -0.24858073,\n",
              "        0.12648305,  0.84304257,  0.85793655,  0.47518364, -0.4507686 ,\n",
              "       -0.75493228, -0.81481411, -0.34385486, -0.05138009, -0.97227368,\n",
              "       -1.13448753,  0.30570522, -1.85168503, -0.17705351,  0.42582567,\n",
              "       -0.98535561, -1.11295413, -0.76062603,  0.64802459, -0.12983136,\n",
              "       -1.86959723, -0.42334911,  1.0138968 ,  0.98371534,  0.63004195])"
            ]
          },
          "metadata": {},
          "execution_count": 85
        }
      ]
    },
    {
      "cell_type": "markdown",
      "metadata": {
        "id": "c8f4cd03-6404-4861-8531-64cd13341bdc"
      },
      "source": [
        "We can iterate over values in an array using `nditer()`.  Be careful here: the iteration doesn't always go through the values in the same pattern as it relies on the memory layout of the array.  You can change this behavior though.  See <https://numpy.org/doc/stable/reference/arrays.nditer.html#arrays-nditer> for a discussion and information on how to specify the `order`."
      ]
    },
    {
      "cell_type": "code",
      "execution_count": null,
      "metadata": {
        "id": "d9291535-df2d-405e-a389-87b98712da61",
        "outputId": "bda2f2bb-7851-476f-db1a-a023f52f5fd8",
        "colab": {
          "base_uri": "https://localhost:8080/"
        }
      },
      "outputs": [
        {
          "output_type": "stream",
          "name": "stdout",
          "text": [
            "0.33176166344167046\n",
            "0.4843126352266208\n",
            "0.45757921701143867\n",
            "1.306008914185862\n",
            "0.7799068968474736\n",
            "1.1348302173565885\n",
            "2.3234254197779323\n",
            "2.3582894560408887\n",
            "1.6083095234626505\n",
            "0.6371382601360868\n",
            "0.4700424440698853\n",
            "0.44272161841215146\n",
            "0.709031831025442\n",
            "0.9499175441491969\n",
            "0.3782221046899628\n",
            "0.3215868817920055\n",
            "1.3575820587101297\n",
            "0.15697244006051864\n",
            "0.8377349576565134\n",
            "1.5308538739450661\n",
            "0.37330645316600336\n",
            "0.32858683744892436\n",
            "0.4673737442809796\n",
            "1.911760583275141\n",
            "0.8782435285725788\n",
            "0.1541857502671811\n",
            "0.6548499786487098\n",
            "2.7563209456441498\n",
            "2.6743740273453316\n",
            "1.877689348050752\n"
          ]
        }
      ],
      "source": [
        "for i in np.nditer(my_array):\n",
        "    print(math.exp(i))"
      ]
    },
    {
      "cell_type": "markdown",
      "metadata": {
        "id": "f0642051-758a-47b1-8916-1f9712310686"
      },
      "source": [
        "Many of the functions we'll apply to arrays are `ufuncs` or universal functions.  These act on an array without requiring the use of explicit looping.  They tend to be computationally superior to looping so their use is encouraged!  Here we apply the $e$ function to each element of our array `y`."
      ]
    },
    {
      "cell_type": "code",
      "execution_count": null,
      "metadata": {
        "id": "d3677a0f-87bf-46c9-9949-9259ed887269",
        "outputId": "750dddf7-aa0f-4622-f2cb-596030d191a6",
        "colab": {
          "base_uri": "https://localhost:8080/"
        }
      },
      "outputs": [
        {
          "output_type": "execute_result",
          "data": {
            "text/plain": [
              "array([[0.33176166, 0.48431264],\n",
              "       [0.45757922, 1.30600891],\n",
              "       [0.7799069 , 1.13483022],\n",
              "       [2.32342542, 2.35828946],\n",
              "       [1.60830952, 0.63713826],\n",
              "       [0.47004244, 0.44272162],\n",
              "       [0.70903183, 0.94991754],\n",
              "       [0.3782221 , 0.32158688],\n",
              "       [1.35758206, 0.15697244],\n",
              "       [0.83773496, 1.53085387],\n",
              "       [0.37330645, 0.32858684],\n",
              "       [0.46737374, 1.91176058],\n",
              "       [0.87824353, 0.15418575],\n",
              "       [0.65484998, 2.75632095],\n",
              "       [2.67437403, 1.87768935]])"
            ]
          },
          "metadata": {},
          "execution_count": 87
        }
      ],
      "source": [
        "np.exp(my_array)"
      ]
    },
    {
      "cell_type": "markdown",
      "metadata": {
        "id": "2a28eb3e-32e9-4fb6-92d8-c31f8c5fa36a"
      },
      "source": [
        "**If you haven't seen matrices and the matrix representation of the linear model, you can ignore all of this and just see how we are doing some array computations below.**\n",
        "\n",
        "Let's fit a simple linear regression model! Suppose we have a 1D response $y$ and a single predictor (call the vector $x$). Then we can find the usual least squares regression line using arrays!\n",
        "\n",
        "Define\n",
        "$$y = \\begin{pmatrix} y_1 \\\\ y_2 \\\\ ... \\\\ y_n\\end{pmatrix}\\mbox{ our response}$$\n",
        "$$x = \\begin{pmatrix} x_1 \\\\ x_2 \\\\ ... \\\\ x_n\\end{pmatrix}\\mbox{ our predictor}$$\n",
        "We can consider the simple linear regression model:\n",
        "$$y_i = \\beta_0+\\beta_1 x_i + E_i$$\n",
        "which can be **fit** by minimizing the sum of squared residuals. Let $\\hat{y}_i = \\hat{\\beta}_0+\\hat{\\beta}_1x_i$ denote the prediction for the $i^{th}$ observation. Then we want to find the $\\hat{\\beta}_0$ and $\\hat{\\beta}_1$ that minimize\n",
        "$$SS(E) = \\sum_{i=1}^{n}(y_i-\\hat{y}_i)^2$$\n",
        "This can be minimized by considering the matrix view of the model:\n",
        "Define\n",
        "$$X = \\begin{pmatrix} 1 & x_1\\\\ 1 & x_2 \\\\ ... \\\\ 1 & x_n\\end{pmatrix}$$\n",
        "and\n",
        "$$\\beta = \\begin{pmatrix} \\beta_0 \\\\ \\beta_1\\end{pmatrix}$$\n",
        "Then using *matrix* multiplication\n",
        "$$X\\beta = \\begin{pmatrix} \\beta_0*1 + \\beta_1*x_1\\\\\\beta_0*1 + \\beta_1*x_2\\\\...\\\\\\beta_0*1+\\beta_1*x_n\\end{pmatrix}$$\n",
        "Our model can be written as\n",
        "\n",
        "$$y = \\begin{pmatrix} y_1 \\\\ y_2 \\\\ ... \\\\ y_n\\end{pmatrix} = \\begin{pmatrix} \\beta_0*1 + \\beta_1*x_1\\\\\\beta_0*1 + \\beta_1*x_2\\\\...\\\\\\beta_0*1+\\beta_1*x_n\\end{pmatrix} + \\begin{pmatrix} E_1 \\\\ E_2 \\\\ ... \\\\ E_n\\end{pmatrix}$$\n",
        "\n",
        "or\n",
        "$$y=X\\beta + E$$\n",
        "\n",
        "Then minimizing the $SS(E)$ can be equivalently written as minimizing over the $\\beta$ vector in\n",
        "$$(y-X\\beta)^T(y-X\\beta)$$\n",
        "The solution to this equation is\n",
        "$$\\hat{\\beta} = \\begin{pmatrix}\\hat{\\beta_0} \\\\\\hat{\\beta_1} \\end{pmatrix} = \\left(X^TX\\right)^{-1}X^Ty$$"
      ]
    },
    {
      "cell_type": "code",
      "execution_count": null,
      "metadata": {
        "id": "2d266ea5-35d3-4f0b-b269-34fc874e1174",
        "outputId": "b1f9067f-935f-4361-820c-1f0934bc859b",
        "colab": {
          "base_uri": "https://localhost:8080/"
        }
      },
      "outputs": [
        {
          "output_type": "execute_result",
          "data": {
            "text/plain": [
              "array([ 9.76194119,  4.15506012, 22.16957773, 37.82402224, 42.87679986])"
            ]
          },
          "metadata": {},
          "execution_count": 90
        }
      ],
      "source": [
        "x = np.array([3, 2, 6, 10, 11.2])     #x values\n",
        "y = -2 + 4*x + rng.standard_normal(5) #create SLR model based response\n",
        "y"
      ]
    },
    {
      "cell_type": "markdown",
      "source": [
        "Ok, we want to now fit an SLR model between $y$ and $x$ and find estimates of the slope and intercept (true values are -2 and 4)."
      ],
      "metadata": {
        "id": "DnVnjJ62OBb2"
      }
    },
    {
      "cell_type": "markdown",
      "source": [
        "Let's create our 'design matrix' by zip 1's (for the intercept) together with our x values."
      ],
      "metadata": {
        "id": "sHpSFz_LNXUM"
      }
    },
    {
      "cell_type": "code",
      "execution_count": null,
      "metadata": {
        "id": "0008029a-6efe-4fd0-b2a6-828023ba3ab1",
        "outputId": "74fb527a-2b68-4efb-a990-335dab807da2",
        "colab": {
          "base_uri": "https://localhost:8080/"
        }
      },
      "outputs": [
        {
          "output_type": "execute_result",
          "data": {
            "text/plain": [
              "array([[ 1. ,  3. ],\n",
              "       [ 1. ,  2. ],\n",
              "       [ 1. ,  6. ],\n",
              "       [ 1. , 10. ],\n",
              "       [ 1. , 11.2]])"
            ]
          },
          "metadata": {},
          "execution_count": 91
        }
      ],
      "source": [
        "X = np.array(list(zip(np.ones(5), x)))\n",
        "X"
      ]
    },
    {
      "cell_type": "markdown",
      "source": [
        "We'll need the transpose of this matrix."
      ],
      "metadata": {
        "id": "Pturn1nNNwRE"
      }
    },
    {
      "cell_type": "code",
      "execution_count": null,
      "metadata": {
        "id": "b8a03a91-ab58-44a2-9b80-a64606f9cefd",
        "outputId": "03f91dce-aad0-433a-feef-f2a6a8d5fa93",
        "colab": {
          "base_uri": "https://localhost:8080/"
        }
      },
      "outputs": [
        {
          "output_type": "execute_result",
          "data": {
            "text/plain": [
              "array([[ 1. ,  1. ,  1. ,  1. ,  1. ],\n",
              "       [ 3. ,  2. ,  6. , 10. , 11.2]])"
            ]
          },
          "metadata": {},
          "execution_count": 92
        }
      ],
      "source": [
        "X.transpose()"
      ]
    },
    {
      "cell_type": "markdown",
      "source": [
        "And we need to multiply these matrices together."
      ],
      "metadata": {
        "id": "4hAZ_IZmN0Rs"
      }
    },
    {
      "cell_type": "code",
      "execution_count": null,
      "metadata": {
        "id": "29fb2bd1-051e-4bc1-9ead-2adb328af076",
        "outputId": "2fb9f74a-863b-4313-badc-1bd683e0b53a",
        "colab": {
          "base_uri": "https://localhost:8080/"
        }
      },
      "outputs": [
        {
          "output_type": "execute_result",
          "data": {
            "text/plain": [
              "array([[  5.  ,  32.2 ],\n",
              "       [ 32.2 , 274.44]])"
            ]
          },
          "metadata": {},
          "execution_count": 93
        }
      ],
      "source": [
        "np.matmul(X.transpose(), X)"
      ]
    },
    {
      "cell_type": "markdown",
      "source": [
        "Lastly, we need to calculate an matrix inverse. We can do that with the `np.linalg.inv()` function."
      ],
      "metadata": {
        "id": "11-cTpaCN4LZ"
      }
    },
    {
      "cell_type": "code",
      "execution_count": null,
      "metadata": {
        "id": "a64dcf08-90e9-4524-8a9c-8e9cdb1b83ef",
        "outputId": "8a2c400a-a15e-49bf-e704-98fce90b7bfe",
        "colab": {
          "base_uri": "https://localhost:8080/"
        }
      },
      "outputs": [
        {
          "output_type": "execute_result",
          "data": {
            "text/plain": [
              "array([[ 0.81834447, -0.09601622],\n",
              "       [-0.09601622,  0.01490935]])"
            ]
          },
          "metadata": {},
          "execution_count": 94
        }
      ],
      "source": [
        "XTXinv = np.linalg.inv(np.matmul(X.transpose(), X))\n",
        "XTXinv"
      ]
    },
    {
      "cell_type": "markdown",
      "source": [
        "Finally, let's get the least squares solution!"
      ],
      "metadata": {
        "id": "cTZUyruYNtAp"
      }
    },
    {
      "cell_type": "code",
      "execution_count": null,
      "metadata": {
        "id": "8f4beb32-c8ec-447b-a7de-818506e1d99b",
        "outputId": "0a70c7d0-ef0d-42f4-973a-699e861c4624",
        "colab": {
          "base_uri": "https://localhost:8080/"
        }
      },
      "outputs": [
        {
          "output_type": "execute_result",
          "data": {
            "text/plain": [
              "array([-3.23545354,  4.12933754])"
            ]
          },
          "metadata": {},
          "execution_count": 95
        }
      ],
      "source": [
        "np.matmul(np.matmul(XTXinv, X.transpose()), y)"
      ]
    },
    {
      "cell_type": "markdown",
      "source": [
        "Pretty close to the actual values!"
      ],
      "metadata": {
        "id": "OoZar73rNsJS"
      }
    },
    {
      "cell_type": "markdown",
      "source": [
        "# Week 3"
      ],
      "metadata": {
        "id": "yiXLXKZakrsz"
      }
    },
    {
      "cell_type": "markdown",
      "source": [
        "## Pandas Data Frames\n",
        "\n",
        "We'll learn how to read in data using `pandas` shortly, but here we read in a data file to create a data frame to work with.\n",
        "\n",
        "There is a dataset on the light measurement quality of cheese at:\n",
        "https://www4.stat.ncsu.edu/~online/datasets/cheese.csv"
      ],
      "metadata": {
        "id": "ALPl-sWbks1i"
      }
    },
    {
      "cell_type": "code",
      "source": [
        "import pandas as pd\n",
        "import numpy as np\n",
        "cheese = pd.read_csv(\"https://www4.stat.ncsu.edu/~online/datasets/cheese.csv\")"
      ],
      "metadata": {
        "id": "PFugbMWwk2-6"
      },
      "execution_count": 2,
      "outputs": []
    },
    {
      "cell_type": "markdown",
      "source": [
        "We can use the `.head()` and `.info()` methods to inspect the data."
      ],
      "metadata": {
        "id": "8AhggXPTlAu6"
      }
    },
    {
      "cell_type": "code",
      "source": [
        "cheese.head()"
      ],
      "metadata": {
        "id": "rubOD_t7lA7J",
        "outputId": "470e69f3-ce58-474c-c6d8-42e5fafeff07",
        "colab": {
          "base_uri": "https://localhost:8080/",
          "height": 206
        }
      },
      "execution_count": 3,
      "outputs": [
        {
          "output_type": "execute_result",
          "data": {
            "text/plain": [
              "   syrup  rep      L     a      b\n",
              "0     26    1  51.89  6.22  17.43\n",
              "1     26    2  51.52  6.18  17.09\n",
              "2     26    3  52.69  6.09  17.59\n",
              "3     26    4  52.06  6.36  17.50\n",
              "4     26    5  51.63  6.13  17.19"
            ],
            "text/html": [
              "\n",
              "  <div id=\"df-af0a7005-7ab4-4d77-9e2a-24e2a222bdb1\" class=\"colab-df-container\">\n",
              "    <div>\n",
              "<style scoped>\n",
              "    .dataframe tbody tr th:only-of-type {\n",
              "        vertical-align: middle;\n",
              "    }\n",
              "\n",
              "    .dataframe tbody tr th {\n",
              "        vertical-align: top;\n",
              "    }\n",
              "\n",
              "    .dataframe thead th {\n",
              "        text-align: right;\n",
              "    }\n",
              "</style>\n",
              "<table border=\"1\" class=\"dataframe\">\n",
              "  <thead>\n",
              "    <tr style=\"text-align: right;\">\n",
              "      <th></th>\n",
              "      <th>syrup</th>\n",
              "      <th>rep</th>\n",
              "      <th>L</th>\n",
              "      <th>a</th>\n",
              "      <th>b</th>\n",
              "    </tr>\n",
              "  </thead>\n",
              "  <tbody>\n",
              "    <tr>\n",
              "      <th>0</th>\n",
              "      <td>26</td>\n",
              "      <td>1</td>\n",
              "      <td>51.89</td>\n",
              "      <td>6.22</td>\n",
              "      <td>17.43</td>\n",
              "    </tr>\n",
              "    <tr>\n",
              "      <th>1</th>\n",
              "      <td>26</td>\n",
              "      <td>2</td>\n",
              "      <td>51.52</td>\n",
              "      <td>6.18</td>\n",
              "      <td>17.09</td>\n",
              "    </tr>\n",
              "    <tr>\n",
              "      <th>2</th>\n",
              "      <td>26</td>\n",
              "      <td>3</td>\n",
              "      <td>52.69</td>\n",
              "      <td>6.09</td>\n",
              "      <td>17.59</td>\n",
              "    </tr>\n",
              "    <tr>\n",
              "      <th>3</th>\n",
              "      <td>26</td>\n",
              "      <td>4</td>\n",
              "      <td>52.06</td>\n",
              "      <td>6.36</td>\n",
              "      <td>17.50</td>\n",
              "    </tr>\n",
              "    <tr>\n",
              "      <th>4</th>\n",
              "      <td>26</td>\n",
              "      <td>5</td>\n",
              "      <td>51.63</td>\n",
              "      <td>6.13</td>\n",
              "      <td>17.19</td>\n",
              "    </tr>\n",
              "  </tbody>\n",
              "</table>\n",
              "</div>\n",
              "    <div class=\"colab-df-buttons\">\n",
              "\n",
              "  <div class=\"colab-df-container\">\n",
              "    <button class=\"colab-df-convert\" onclick=\"convertToInteractive('df-af0a7005-7ab4-4d77-9e2a-24e2a222bdb1')\"\n",
              "            title=\"Convert this dataframe to an interactive table.\"\n",
              "            style=\"display:none;\">\n",
              "\n",
              "  <svg xmlns=\"http://www.w3.org/2000/svg\" height=\"24px\" viewBox=\"0 -960 960 960\">\n",
              "    <path d=\"M120-120v-720h720v720H120Zm60-500h600v-160H180v160Zm220 220h160v-160H400v160Zm0 220h160v-160H400v160ZM180-400h160v-160H180v160Zm440 0h160v-160H620v160ZM180-180h160v-160H180v160Zm440 0h160v-160H620v160Z\"/>\n",
              "  </svg>\n",
              "    </button>\n",
              "\n",
              "  <style>\n",
              "    .colab-df-container {\n",
              "      display:flex;\n",
              "      gap: 12px;\n",
              "    }\n",
              "\n",
              "    .colab-df-convert {\n",
              "      background-color: #E8F0FE;\n",
              "      border: none;\n",
              "      border-radius: 50%;\n",
              "      cursor: pointer;\n",
              "      display: none;\n",
              "      fill: #1967D2;\n",
              "      height: 32px;\n",
              "      padding: 0 0 0 0;\n",
              "      width: 32px;\n",
              "    }\n",
              "\n",
              "    .colab-df-convert:hover {\n",
              "      background-color: #E2EBFA;\n",
              "      box-shadow: 0px 1px 2px rgba(60, 64, 67, 0.3), 0px 1px 3px 1px rgba(60, 64, 67, 0.15);\n",
              "      fill: #174EA6;\n",
              "    }\n",
              "\n",
              "    .colab-df-buttons div {\n",
              "      margin-bottom: 4px;\n",
              "    }\n",
              "\n",
              "    [theme=dark] .colab-df-convert {\n",
              "      background-color: #3B4455;\n",
              "      fill: #D2E3FC;\n",
              "    }\n",
              "\n",
              "    [theme=dark] .colab-df-convert:hover {\n",
              "      background-color: #434B5C;\n",
              "      box-shadow: 0px 1px 3px 1px rgba(0, 0, 0, 0.15);\n",
              "      filter: drop-shadow(0px 1px 2px rgba(0, 0, 0, 0.3));\n",
              "      fill: #FFFFFF;\n",
              "    }\n",
              "  </style>\n",
              "\n",
              "    <script>\n",
              "      const buttonEl =\n",
              "        document.querySelector('#df-af0a7005-7ab4-4d77-9e2a-24e2a222bdb1 button.colab-df-convert');\n",
              "      buttonEl.style.display =\n",
              "        google.colab.kernel.accessAllowed ? 'block' : 'none';\n",
              "\n",
              "      async function convertToInteractive(key) {\n",
              "        const element = document.querySelector('#df-af0a7005-7ab4-4d77-9e2a-24e2a222bdb1');\n",
              "        const dataTable =\n",
              "          await google.colab.kernel.invokeFunction('convertToInteractive',\n",
              "                                                    [key], {});\n",
              "        if (!dataTable) return;\n",
              "\n",
              "        const docLinkHtml = 'Like what you see? Visit the ' +\n",
              "          '<a target=\"_blank\" href=https://colab.research.google.com/notebooks/data_table.ipynb>data table notebook</a>'\n",
              "          + ' to learn more about interactive tables.';\n",
              "        element.innerHTML = '';\n",
              "        dataTable['output_type'] = 'display_data';\n",
              "        await google.colab.output.renderOutput(dataTable, element);\n",
              "        const docLink = document.createElement('div');\n",
              "        docLink.innerHTML = docLinkHtml;\n",
              "        element.appendChild(docLink);\n",
              "      }\n",
              "    </script>\n",
              "  </div>\n",
              "\n",
              "\n",
              "<div id=\"df-3639b7ff-781a-4e4a-b27f-eae9a2f6f3be\">\n",
              "  <button class=\"colab-df-quickchart\" onclick=\"quickchart('df-3639b7ff-781a-4e4a-b27f-eae9a2f6f3be')\"\n",
              "            title=\"Suggest charts\"\n",
              "            style=\"display:none;\">\n",
              "\n",
              "<svg xmlns=\"http://www.w3.org/2000/svg\" height=\"24px\"viewBox=\"0 0 24 24\"\n",
              "     width=\"24px\">\n",
              "    <g>\n",
              "        <path d=\"M19 3H5c-1.1 0-2 .9-2 2v14c0 1.1.9 2 2 2h14c1.1 0 2-.9 2-2V5c0-1.1-.9-2-2-2zM9 17H7v-7h2v7zm4 0h-2V7h2v10zm4 0h-2v-4h2v4z\"/>\n",
              "    </g>\n",
              "</svg>\n",
              "  </button>\n",
              "\n",
              "<style>\n",
              "  .colab-df-quickchart {\n",
              "      --bg-color: #E8F0FE;\n",
              "      --fill-color: #1967D2;\n",
              "      --hover-bg-color: #E2EBFA;\n",
              "      --hover-fill-color: #174EA6;\n",
              "      --disabled-fill-color: #AAA;\n",
              "      --disabled-bg-color: #DDD;\n",
              "  }\n",
              "\n",
              "  [theme=dark] .colab-df-quickchart {\n",
              "      --bg-color: #3B4455;\n",
              "      --fill-color: #D2E3FC;\n",
              "      --hover-bg-color: #434B5C;\n",
              "      --hover-fill-color: #FFFFFF;\n",
              "      --disabled-bg-color: #3B4455;\n",
              "      --disabled-fill-color: #666;\n",
              "  }\n",
              "\n",
              "  .colab-df-quickchart {\n",
              "    background-color: var(--bg-color);\n",
              "    border: none;\n",
              "    border-radius: 50%;\n",
              "    cursor: pointer;\n",
              "    display: none;\n",
              "    fill: var(--fill-color);\n",
              "    height: 32px;\n",
              "    padding: 0;\n",
              "    width: 32px;\n",
              "  }\n",
              "\n",
              "  .colab-df-quickchart:hover {\n",
              "    background-color: var(--hover-bg-color);\n",
              "    box-shadow: 0 1px 2px rgba(60, 64, 67, 0.3), 0 1px 3px 1px rgba(60, 64, 67, 0.15);\n",
              "    fill: var(--button-hover-fill-color);\n",
              "  }\n",
              "\n",
              "  .colab-df-quickchart-complete:disabled,\n",
              "  .colab-df-quickchart-complete:disabled:hover {\n",
              "    background-color: var(--disabled-bg-color);\n",
              "    fill: var(--disabled-fill-color);\n",
              "    box-shadow: none;\n",
              "  }\n",
              "\n",
              "  .colab-df-spinner {\n",
              "    border: 2px solid var(--fill-color);\n",
              "    border-color: transparent;\n",
              "    border-bottom-color: var(--fill-color);\n",
              "    animation:\n",
              "      spin 1s steps(1) infinite;\n",
              "  }\n",
              "\n",
              "  @keyframes spin {\n",
              "    0% {\n",
              "      border-color: transparent;\n",
              "      border-bottom-color: var(--fill-color);\n",
              "      border-left-color: var(--fill-color);\n",
              "    }\n",
              "    20% {\n",
              "      border-color: transparent;\n",
              "      border-left-color: var(--fill-color);\n",
              "      border-top-color: var(--fill-color);\n",
              "    }\n",
              "    30% {\n",
              "      border-color: transparent;\n",
              "      border-left-color: var(--fill-color);\n",
              "      border-top-color: var(--fill-color);\n",
              "      border-right-color: var(--fill-color);\n",
              "    }\n",
              "    40% {\n",
              "      border-color: transparent;\n",
              "      border-right-color: var(--fill-color);\n",
              "      border-top-color: var(--fill-color);\n",
              "    }\n",
              "    60% {\n",
              "      border-color: transparent;\n",
              "      border-right-color: var(--fill-color);\n",
              "    }\n",
              "    80% {\n",
              "      border-color: transparent;\n",
              "      border-right-color: var(--fill-color);\n",
              "      border-bottom-color: var(--fill-color);\n",
              "    }\n",
              "    90% {\n",
              "      border-color: transparent;\n",
              "      border-bottom-color: var(--fill-color);\n",
              "    }\n",
              "  }\n",
              "</style>\n",
              "\n",
              "  <script>\n",
              "    async function quickchart(key) {\n",
              "      const quickchartButtonEl =\n",
              "        document.querySelector('#' + key + ' button');\n",
              "      quickchartButtonEl.disabled = true;  // To prevent multiple clicks.\n",
              "      quickchartButtonEl.classList.add('colab-df-spinner');\n",
              "      try {\n",
              "        const charts = await google.colab.kernel.invokeFunction(\n",
              "            'suggestCharts', [key], {});\n",
              "      } catch (error) {\n",
              "        console.error('Error during call to suggestCharts:', error);\n",
              "      }\n",
              "      quickchartButtonEl.classList.remove('colab-df-spinner');\n",
              "      quickchartButtonEl.classList.add('colab-df-quickchart-complete');\n",
              "    }\n",
              "    (() => {\n",
              "      let quickchartButtonEl =\n",
              "        document.querySelector('#df-3639b7ff-781a-4e4a-b27f-eae9a2f6f3be button');\n",
              "      quickchartButtonEl.style.display =\n",
              "        google.colab.kernel.accessAllowed ? 'block' : 'none';\n",
              "    })();\n",
              "  </script>\n",
              "</div>\n",
              "    </div>\n",
              "  </div>\n"
            ]
          },
          "metadata": {},
          "execution_count": 3
        }
      ]
    },
    {
      "cell_type": "code",
      "source": [
        "cheese.info()"
      ],
      "metadata": {
        "id": "aRaV8JOzl6Jo",
        "outputId": "15fc064e-ab30-4264-802c-c26a99461e17",
        "colab": {
          "base_uri": "https://localhost:8080/"
        }
      },
      "execution_count": 4,
      "outputs": [
        {
          "output_type": "stream",
          "name": "stdout",
          "text": [
            "<class 'pandas.core.frame.DataFrame'>\n",
            "RangeIndex: 24 entries, 0 to 23\n",
            "Data columns (total 5 columns):\n",
            " #   Column  Non-Null Count  Dtype  \n",
            "---  ------  --------------  -----  \n",
            " 0   syrup   24 non-null     int64  \n",
            " 1   rep     24 non-null     int64  \n",
            " 2   L       24 non-null     float64\n",
            " 3   a       24 non-null     float64\n",
            " 4   b       24 non-null     float64\n",
            "dtypes: float64(3), int64(2)\n",
            "memory usage: 1.1 KB\n"
          ]
        }
      ]
    },
    {
      "cell_type": "markdown",
      "source": [
        "We can also easily add a variable by simply creating a new column reference.  Here the value specified is replicated the appropriate amount of times to fill the column.  We'll look at this in more detail later."
      ],
      "metadata": {
        "id": "81l55tCGlBAh"
      }
    },
    {
      "cell_type": "code",
      "source": [
        "cheese[\"dummy\"] = \"no\""
      ],
      "metadata": {
        "id": "Qe7K_1DllBEr"
      },
      "execution_count": 5,
      "outputs": []
    },
    {
      "cell_type": "code",
      "source": [
        "cheese.head()"
      ],
      "metadata": {
        "id": "ktK705UAmH9x",
        "outputId": "f3e23de2-e9f1-4727-fa80-9c363ab617fd",
        "colab": {
          "base_uri": "https://localhost:8080/",
          "height": 206
        }
      },
      "execution_count": 6,
      "outputs": [
        {
          "output_type": "execute_result",
          "data": {
            "text/plain": [
              "   syrup  rep      L     a      b dummy\n",
              "0     26    1  51.89  6.22  17.43    no\n",
              "1     26    2  51.52  6.18  17.09    no\n",
              "2     26    3  52.69  6.09  17.59    no\n",
              "3     26    4  52.06  6.36  17.50    no\n",
              "4     26    5  51.63  6.13  17.19    no"
            ],
            "text/html": [
              "\n",
              "  <div id=\"df-3c03a2ed-edb7-44be-8f04-f43b54190f0e\" class=\"colab-df-container\">\n",
              "    <div>\n",
              "<style scoped>\n",
              "    .dataframe tbody tr th:only-of-type {\n",
              "        vertical-align: middle;\n",
              "    }\n",
              "\n",
              "    .dataframe tbody tr th {\n",
              "        vertical-align: top;\n",
              "    }\n",
              "\n",
              "    .dataframe thead th {\n",
              "        text-align: right;\n",
              "    }\n",
              "</style>\n",
              "<table border=\"1\" class=\"dataframe\">\n",
              "  <thead>\n",
              "    <tr style=\"text-align: right;\">\n",
              "      <th></th>\n",
              "      <th>syrup</th>\n",
              "      <th>rep</th>\n",
              "      <th>L</th>\n",
              "      <th>a</th>\n",
              "      <th>b</th>\n",
              "      <th>dummy</th>\n",
              "    </tr>\n",
              "  </thead>\n",
              "  <tbody>\n",
              "    <tr>\n",
              "      <th>0</th>\n",
              "      <td>26</td>\n",
              "      <td>1</td>\n",
              "      <td>51.89</td>\n",
              "      <td>6.22</td>\n",
              "      <td>17.43</td>\n",
              "      <td>no</td>\n",
              "    </tr>\n",
              "    <tr>\n",
              "      <th>1</th>\n",
              "      <td>26</td>\n",
              "      <td>2</td>\n",
              "      <td>51.52</td>\n",
              "      <td>6.18</td>\n",
              "      <td>17.09</td>\n",
              "      <td>no</td>\n",
              "    </tr>\n",
              "    <tr>\n",
              "      <th>2</th>\n",
              "      <td>26</td>\n",
              "      <td>3</td>\n",
              "      <td>52.69</td>\n",
              "      <td>6.09</td>\n",
              "      <td>17.59</td>\n",
              "      <td>no</td>\n",
              "    </tr>\n",
              "    <tr>\n",
              "      <th>3</th>\n",
              "      <td>26</td>\n",
              "      <td>4</td>\n",
              "      <td>52.06</td>\n",
              "      <td>6.36</td>\n",
              "      <td>17.50</td>\n",
              "      <td>no</td>\n",
              "    </tr>\n",
              "    <tr>\n",
              "      <th>4</th>\n",
              "      <td>26</td>\n",
              "      <td>5</td>\n",
              "      <td>51.63</td>\n",
              "      <td>6.13</td>\n",
              "      <td>17.19</td>\n",
              "      <td>no</td>\n",
              "    </tr>\n",
              "  </tbody>\n",
              "</table>\n",
              "</div>\n",
              "    <div class=\"colab-df-buttons\">\n",
              "\n",
              "  <div class=\"colab-df-container\">\n",
              "    <button class=\"colab-df-convert\" onclick=\"convertToInteractive('df-3c03a2ed-edb7-44be-8f04-f43b54190f0e')\"\n",
              "            title=\"Convert this dataframe to an interactive table.\"\n",
              "            style=\"display:none;\">\n",
              "\n",
              "  <svg xmlns=\"http://www.w3.org/2000/svg\" height=\"24px\" viewBox=\"0 -960 960 960\">\n",
              "    <path d=\"M120-120v-720h720v720H120Zm60-500h600v-160H180v160Zm220 220h160v-160H400v160Zm0 220h160v-160H400v160ZM180-400h160v-160H180v160Zm440 0h160v-160H620v160ZM180-180h160v-160H180v160Zm440 0h160v-160H620v160Z\"/>\n",
              "  </svg>\n",
              "    </button>\n",
              "\n",
              "  <style>\n",
              "    .colab-df-container {\n",
              "      display:flex;\n",
              "      gap: 12px;\n",
              "    }\n",
              "\n",
              "    .colab-df-convert {\n",
              "      background-color: #E8F0FE;\n",
              "      border: none;\n",
              "      border-radius: 50%;\n",
              "      cursor: pointer;\n",
              "      display: none;\n",
              "      fill: #1967D2;\n",
              "      height: 32px;\n",
              "      padding: 0 0 0 0;\n",
              "      width: 32px;\n",
              "    }\n",
              "\n",
              "    .colab-df-convert:hover {\n",
              "      background-color: #E2EBFA;\n",
              "      box-shadow: 0px 1px 2px rgba(60, 64, 67, 0.3), 0px 1px 3px 1px rgba(60, 64, 67, 0.15);\n",
              "      fill: #174EA6;\n",
              "    }\n",
              "\n",
              "    .colab-df-buttons div {\n",
              "      margin-bottom: 4px;\n",
              "    }\n",
              "\n",
              "    [theme=dark] .colab-df-convert {\n",
              "      background-color: #3B4455;\n",
              "      fill: #D2E3FC;\n",
              "    }\n",
              "\n",
              "    [theme=dark] .colab-df-convert:hover {\n",
              "      background-color: #434B5C;\n",
              "      box-shadow: 0px 1px 3px 1px rgba(0, 0, 0, 0.15);\n",
              "      filter: drop-shadow(0px 1px 2px rgba(0, 0, 0, 0.3));\n",
              "      fill: #FFFFFF;\n",
              "    }\n",
              "  </style>\n",
              "\n",
              "    <script>\n",
              "      const buttonEl =\n",
              "        document.querySelector('#df-3c03a2ed-edb7-44be-8f04-f43b54190f0e button.colab-df-convert');\n",
              "      buttonEl.style.display =\n",
              "        google.colab.kernel.accessAllowed ? 'block' : 'none';\n",
              "\n",
              "      async function convertToInteractive(key) {\n",
              "        const element = document.querySelector('#df-3c03a2ed-edb7-44be-8f04-f43b54190f0e');\n",
              "        const dataTable =\n",
              "          await google.colab.kernel.invokeFunction('convertToInteractive',\n",
              "                                                    [key], {});\n",
              "        if (!dataTable) return;\n",
              "\n",
              "        const docLinkHtml = 'Like what you see? Visit the ' +\n",
              "          '<a target=\"_blank\" href=https://colab.research.google.com/notebooks/data_table.ipynb>data table notebook</a>'\n",
              "          + ' to learn more about interactive tables.';\n",
              "        element.innerHTML = '';\n",
              "        dataTable['output_type'] = 'display_data';\n",
              "        await google.colab.output.renderOutput(dataTable, element);\n",
              "        const docLink = document.createElement('div');\n",
              "        docLink.innerHTML = docLinkHtml;\n",
              "        element.appendChild(docLink);\n",
              "      }\n",
              "    </script>\n",
              "  </div>\n",
              "\n",
              "\n",
              "<div id=\"df-1c465bc1-1937-4221-b7f7-b8976dd9fbac\">\n",
              "  <button class=\"colab-df-quickchart\" onclick=\"quickchart('df-1c465bc1-1937-4221-b7f7-b8976dd9fbac')\"\n",
              "            title=\"Suggest charts\"\n",
              "            style=\"display:none;\">\n",
              "\n",
              "<svg xmlns=\"http://www.w3.org/2000/svg\" height=\"24px\"viewBox=\"0 0 24 24\"\n",
              "     width=\"24px\">\n",
              "    <g>\n",
              "        <path d=\"M19 3H5c-1.1 0-2 .9-2 2v14c0 1.1.9 2 2 2h14c1.1 0 2-.9 2-2V5c0-1.1-.9-2-2-2zM9 17H7v-7h2v7zm4 0h-2V7h2v10zm4 0h-2v-4h2v4z\"/>\n",
              "    </g>\n",
              "</svg>\n",
              "  </button>\n",
              "\n",
              "<style>\n",
              "  .colab-df-quickchart {\n",
              "      --bg-color: #E8F0FE;\n",
              "      --fill-color: #1967D2;\n",
              "      --hover-bg-color: #E2EBFA;\n",
              "      --hover-fill-color: #174EA6;\n",
              "      --disabled-fill-color: #AAA;\n",
              "      --disabled-bg-color: #DDD;\n",
              "  }\n",
              "\n",
              "  [theme=dark] .colab-df-quickchart {\n",
              "      --bg-color: #3B4455;\n",
              "      --fill-color: #D2E3FC;\n",
              "      --hover-bg-color: #434B5C;\n",
              "      --hover-fill-color: #FFFFFF;\n",
              "      --disabled-bg-color: #3B4455;\n",
              "      --disabled-fill-color: #666;\n",
              "  }\n",
              "\n",
              "  .colab-df-quickchart {\n",
              "    background-color: var(--bg-color);\n",
              "    border: none;\n",
              "    border-radius: 50%;\n",
              "    cursor: pointer;\n",
              "    display: none;\n",
              "    fill: var(--fill-color);\n",
              "    height: 32px;\n",
              "    padding: 0;\n",
              "    width: 32px;\n",
              "  }\n",
              "\n",
              "  .colab-df-quickchart:hover {\n",
              "    background-color: var(--hover-bg-color);\n",
              "    box-shadow: 0 1px 2px rgba(60, 64, 67, 0.3), 0 1px 3px 1px rgba(60, 64, 67, 0.15);\n",
              "    fill: var(--button-hover-fill-color);\n",
              "  }\n",
              "\n",
              "  .colab-df-quickchart-complete:disabled,\n",
              "  .colab-df-quickchart-complete:disabled:hover {\n",
              "    background-color: var(--disabled-bg-color);\n",
              "    fill: var(--disabled-fill-color);\n",
              "    box-shadow: none;\n",
              "  }\n",
              "\n",
              "  .colab-df-spinner {\n",
              "    border: 2px solid var(--fill-color);\n",
              "    border-color: transparent;\n",
              "    border-bottom-color: var(--fill-color);\n",
              "    animation:\n",
              "      spin 1s steps(1) infinite;\n",
              "  }\n",
              "\n",
              "  @keyframes spin {\n",
              "    0% {\n",
              "      border-color: transparent;\n",
              "      border-bottom-color: var(--fill-color);\n",
              "      border-left-color: var(--fill-color);\n",
              "    }\n",
              "    20% {\n",
              "      border-color: transparent;\n",
              "      border-left-color: var(--fill-color);\n",
              "      border-top-color: var(--fill-color);\n",
              "    }\n",
              "    30% {\n",
              "      border-color: transparent;\n",
              "      border-left-color: var(--fill-color);\n",
              "      border-top-color: var(--fill-color);\n",
              "      border-right-color: var(--fill-color);\n",
              "    }\n",
              "    40% {\n",
              "      border-color: transparent;\n",
              "      border-right-color: var(--fill-color);\n",
              "      border-top-color: var(--fill-color);\n",
              "    }\n",
              "    60% {\n",
              "      border-color: transparent;\n",
              "      border-right-color: var(--fill-color);\n",
              "    }\n",
              "    80% {\n",
              "      border-color: transparent;\n",
              "      border-right-color: var(--fill-color);\n",
              "      border-bottom-color: var(--fill-color);\n",
              "    }\n",
              "    90% {\n",
              "      border-color: transparent;\n",
              "      border-bottom-color: var(--fill-color);\n",
              "    }\n",
              "  }\n",
              "</style>\n",
              "\n",
              "  <script>\n",
              "    async function quickchart(key) {\n",
              "      const quickchartButtonEl =\n",
              "        document.querySelector('#' + key + ' button');\n",
              "      quickchartButtonEl.disabled = true;  // To prevent multiple clicks.\n",
              "      quickchartButtonEl.classList.add('colab-df-spinner');\n",
              "      try {\n",
              "        const charts = await google.colab.kernel.invokeFunction(\n",
              "            'suggestCharts', [key], {});\n",
              "      } catch (error) {\n",
              "        console.error('Error during call to suggestCharts:', error);\n",
              "      }\n",
              "      quickchartButtonEl.classList.remove('colab-df-spinner');\n",
              "      quickchartButtonEl.classList.add('colab-df-quickchart-complete');\n",
              "    }\n",
              "    (() => {\n",
              "      let quickchartButtonEl =\n",
              "        document.querySelector('#df-1c465bc1-1937-4221-b7f7-b8976dd9fbac button');\n",
              "      quickchartButtonEl.style.display =\n",
              "        google.colab.kernel.accessAllowed ? 'block' : 'none';\n",
              "    })();\n",
              "  </script>\n",
              "</div>\n",
              "    </div>\n",
              "  </div>\n"
            ]
          },
          "metadata": {},
          "execution_count": 6
        }
      ]
    },
    {
      "cell_type": "markdown",
      "source": [
        "We can reorder the rows of the data frame using the `.sort_values()` method.  Simply specify the column name (or names as a list)."
      ],
      "metadata": {
        "id": "96dtZ0lGlBIh"
      }
    },
    {
      "cell_type": "code",
      "source": [
        "cheese.sort_values(\"a\")"
      ],
      "metadata": {
        "id": "6EKCaD1NlBMS",
        "outputId": "f9dd24e5-725b-473f-cfee-4fb15a5ec168",
        "colab": {
          "base_uri": "https://localhost:8080/",
          "height": 802
        }
      },
      "execution_count": 7,
      "outputs": [
        {
          "output_type": "execute_result",
          "data": {
            "text/plain": [
              "    syrup  rep      L     a      b dummy\n",
              "2      26    3  52.69  6.09  17.59    no\n",
              "5      26    6  52.73  6.12  17.50    no\n",
              "4      26    5  51.63  6.13  17.19    no\n",
              "1      26    2  51.52  6.18  17.09    no\n",
              "0      26    1  51.89  6.22  17.43    no\n",
              "10     42    5  48.64  6.30  16.21    no\n",
              "23     62    6  47.88  6.34  15.64    no\n",
              "3      26    4  52.06  6.36  17.50    no\n",
              "7      42    2  48.57  6.42  15.91    no\n",
              "20     62    3  47.35  6.49  15.70    no\n",
              "22     62    5  46.77  6.66  15.91    no\n",
              "19     62    2  46.66  6.66  16.30    no\n",
              "8      42    3  47.57  6.84  16.04    no\n",
              "18     62    1  45.99  6.84  15.68    no\n",
              "11     42    6  47.49  6.91  15.91    no\n",
              "21     62    4  45.83  6.96  15.61    no\n",
              "9      42    4  46.85  6.97  15.85    no\n",
              "6      42    1  47.21  7.02  16.00    no\n",
              "17     55    6  42.65  7.55  14.40    no\n",
              "16     55    5  42.12  7.56  14.03    no\n",
              "13     55    2  42.31  7.59  13.98    no\n",
              "14     55    3  42.31  7.63  14.42    no\n",
              "15     55    4  41.49  7.66  13.58    no\n",
              "12     55    1  41.43  7.71  13.74    no"
            ],
            "text/html": [
              "\n",
              "  <div id=\"df-7bf49e77-d1b8-4f49-9779-73e64b235327\" class=\"colab-df-container\">\n",
              "    <div>\n",
              "<style scoped>\n",
              "    .dataframe tbody tr th:only-of-type {\n",
              "        vertical-align: middle;\n",
              "    }\n",
              "\n",
              "    .dataframe tbody tr th {\n",
              "        vertical-align: top;\n",
              "    }\n",
              "\n",
              "    .dataframe thead th {\n",
              "        text-align: right;\n",
              "    }\n",
              "</style>\n",
              "<table border=\"1\" class=\"dataframe\">\n",
              "  <thead>\n",
              "    <tr style=\"text-align: right;\">\n",
              "      <th></th>\n",
              "      <th>syrup</th>\n",
              "      <th>rep</th>\n",
              "      <th>L</th>\n",
              "      <th>a</th>\n",
              "      <th>b</th>\n",
              "      <th>dummy</th>\n",
              "    </tr>\n",
              "  </thead>\n",
              "  <tbody>\n",
              "    <tr>\n",
              "      <th>2</th>\n",
              "      <td>26</td>\n",
              "      <td>3</td>\n",
              "      <td>52.69</td>\n",
              "      <td>6.09</td>\n",
              "      <td>17.59</td>\n",
              "      <td>no</td>\n",
              "    </tr>\n",
              "    <tr>\n",
              "      <th>5</th>\n",
              "      <td>26</td>\n",
              "      <td>6</td>\n",
              "      <td>52.73</td>\n",
              "      <td>6.12</td>\n",
              "      <td>17.50</td>\n",
              "      <td>no</td>\n",
              "    </tr>\n",
              "    <tr>\n",
              "      <th>4</th>\n",
              "      <td>26</td>\n",
              "      <td>5</td>\n",
              "      <td>51.63</td>\n",
              "      <td>6.13</td>\n",
              "      <td>17.19</td>\n",
              "      <td>no</td>\n",
              "    </tr>\n",
              "    <tr>\n",
              "      <th>1</th>\n",
              "      <td>26</td>\n",
              "      <td>2</td>\n",
              "      <td>51.52</td>\n",
              "      <td>6.18</td>\n",
              "      <td>17.09</td>\n",
              "      <td>no</td>\n",
              "    </tr>\n",
              "    <tr>\n",
              "      <th>0</th>\n",
              "      <td>26</td>\n",
              "      <td>1</td>\n",
              "      <td>51.89</td>\n",
              "      <td>6.22</td>\n",
              "      <td>17.43</td>\n",
              "      <td>no</td>\n",
              "    </tr>\n",
              "    <tr>\n",
              "      <th>10</th>\n",
              "      <td>42</td>\n",
              "      <td>5</td>\n",
              "      <td>48.64</td>\n",
              "      <td>6.30</td>\n",
              "      <td>16.21</td>\n",
              "      <td>no</td>\n",
              "    </tr>\n",
              "    <tr>\n",
              "      <th>23</th>\n",
              "      <td>62</td>\n",
              "      <td>6</td>\n",
              "      <td>47.88</td>\n",
              "      <td>6.34</td>\n",
              "      <td>15.64</td>\n",
              "      <td>no</td>\n",
              "    </tr>\n",
              "    <tr>\n",
              "      <th>3</th>\n",
              "      <td>26</td>\n",
              "      <td>4</td>\n",
              "      <td>52.06</td>\n",
              "      <td>6.36</td>\n",
              "      <td>17.50</td>\n",
              "      <td>no</td>\n",
              "    </tr>\n",
              "    <tr>\n",
              "      <th>7</th>\n",
              "      <td>42</td>\n",
              "      <td>2</td>\n",
              "      <td>48.57</td>\n",
              "      <td>6.42</td>\n",
              "      <td>15.91</td>\n",
              "      <td>no</td>\n",
              "    </tr>\n",
              "    <tr>\n",
              "      <th>20</th>\n",
              "      <td>62</td>\n",
              "      <td>3</td>\n",
              "      <td>47.35</td>\n",
              "      <td>6.49</td>\n",
              "      <td>15.70</td>\n",
              "      <td>no</td>\n",
              "    </tr>\n",
              "    <tr>\n",
              "      <th>22</th>\n",
              "      <td>62</td>\n",
              "      <td>5</td>\n",
              "      <td>46.77</td>\n",
              "      <td>6.66</td>\n",
              "      <td>15.91</td>\n",
              "      <td>no</td>\n",
              "    </tr>\n",
              "    <tr>\n",
              "      <th>19</th>\n",
              "      <td>62</td>\n",
              "      <td>2</td>\n",
              "      <td>46.66</td>\n",
              "      <td>6.66</td>\n",
              "      <td>16.30</td>\n",
              "      <td>no</td>\n",
              "    </tr>\n",
              "    <tr>\n",
              "      <th>8</th>\n",
              "      <td>42</td>\n",
              "      <td>3</td>\n",
              "      <td>47.57</td>\n",
              "      <td>6.84</td>\n",
              "      <td>16.04</td>\n",
              "      <td>no</td>\n",
              "    </tr>\n",
              "    <tr>\n",
              "      <th>18</th>\n",
              "      <td>62</td>\n",
              "      <td>1</td>\n",
              "      <td>45.99</td>\n",
              "      <td>6.84</td>\n",
              "      <td>15.68</td>\n",
              "      <td>no</td>\n",
              "    </tr>\n",
              "    <tr>\n",
              "      <th>11</th>\n",
              "      <td>42</td>\n",
              "      <td>6</td>\n",
              "      <td>47.49</td>\n",
              "      <td>6.91</td>\n",
              "      <td>15.91</td>\n",
              "      <td>no</td>\n",
              "    </tr>\n",
              "    <tr>\n",
              "      <th>21</th>\n",
              "      <td>62</td>\n",
              "      <td>4</td>\n",
              "      <td>45.83</td>\n",
              "      <td>6.96</td>\n",
              "      <td>15.61</td>\n",
              "      <td>no</td>\n",
              "    </tr>\n",
              "    <tr>\n",
              "      <th>9</th>\n",
              "      <td>42</td>\n",
              "      <td>4</td>\n",
              "      <td>46.85</td>\n",
              "      <td>6.97</td>\n",
              "      <td>15.85</td>\n",
              "      <td>no</td>\n",
              "    </tr>\n",
              "    <tr>\n",
              "      <th>6</th>\n",
              "      <td>42</td>\n",
              "      <td>1</td>\n",
              "      <td>47.21</td>\n",
              "      <td>7.02</td>\n",
              "      <td>16.00</td>\n",
              "      <td>no</td>\n",
              "    </tr>\n",
              "    <tr>\n",
              "      <th>17</th>\n",
              "      <td>55</td>\n",
              "      <td>6</td>\n",
              "      <td>42.65</td>\n",
              "      <td>7.55</td>\n",
              "      <td>14.40</td>\n",
              "      <td>no</td>\n",
              "    </tr>\n",
              "    <tr>\n",
              "      <th>16</th>\n",
              "      <td>55</td>\n",
              "      <td>5</td>\n",
              "      <td>42.12</td>\n",
              "      <td>7.56</td>\n",
              "      <td>14.03</td>\n",
              "      <td>no</td>\n",
              "    </tr>\n",
              "    <tr>\n",
              "      <th>13</th>\n",
              "      <td>55</td>\n",
              "      <td>2</td>\n",
              "      <td>42.31</td>\n",
              "      <td>7.59</td>\n",
              "      <td>13.98</td>\n",
              "      <td>no</td>\n",
              "    </tr>\n",
              "    <tr>\n",
              "      <th>14</th>\n",
              "      <td>55</td>\n",
              "      <td>3</td>\n",
              "      <td>42.31</td>\n",
              "      <td>7.63</td>\n",
              "      <td>14.42</td>\n",
              "      <td>no</td>\n",
              "    </tr>\n",
              "    <tr>\n",
              "      <th>15</th>\n",
              "      <td>55</td>\n",
              "      <td>4</td>\n",
              "      <td>41.49</td>\n",
              "      <td>7.66</td>\n",
              "      <td>13.58</td>\n",
              "      <td>no</td>\n",
              "    </tr>\n",
              "    <tr>\n",
              "      <th>12</th>\n",
              "      <td>55</td>\n",
              "      <td>1</td>\n",
              "      <td>41.43</td>\n",
              "      <td>7.71</td>\n",
              "      <td>13.74</td>\n",
              "      <td>no</td>\n",
              "    </tr>\n",
              "  </tbody>\n",
              "</table>\n",
              "</div>\n",
              "    <div class=\"colab-df-buttons\">\n",
              "\n",
              "  <div class=\"colab-df-container\">\n",
              "    <button class=\"colab-df-convert\" onclick=\"convertToInteractive('df-7bf49e77-d1b8-4f49-9779-73e64b235327')\"\n",
              "            title=\"Convert this dataframe to an interactive table.\"\n",
              "            style=\"display:none;\">\n",
              "\n",
              "  <svg xmlns=\"http://www.w3.org/2000/svg\" height=\"24px\" viewBox=\"0 -960 960 960\">\n",
              "    <path d=\"M120-120v-720h720v720H120Zm60-500h600v-160H180v160Zm220 220h160v-160H400v160Zm0 220h160v-160H400v160ZM180-400h160v-160H180v160Zm440 0h160v-160H620v160ZM180-180h160v-160H180v160Zm440 0h160v-160H620v160Z\"/>\n",
              "  </svg>\n",
              "    </button>\n",
              "\n",
              "  <style>\n",
              "    .colab-df-container {\n",
              "      display:flex;\n",
              "      gap: 12px;\n",
              "    }\n",
              "\n",
              "    .colab-df-convert {\n",
              "      background-color: #E8F0FE;\n",
              "      border: none;\n",
              "      border-radius: 50%;\n",
              "      cursor: pointer;\n",
              "      display: none;\n",
              "      fill: #1967D2;\n",
              "      height: 32px;\n",
              "      padding: 0 0 0 0;\n",
              "      width: 32px;\n",
              "    }\n",
              "\n",
              "    .colab-df-convert:hover {\n",
              "      background-color: #E2EBFA;\n",
              "      box-shadow: 0px 1px 2px rgba(60, 64, 67, 0.3), 0px 1px 3px 1px rgba(60, 64, 67, 0.15);\n",
              "      fill: #174EA6;\n",
              "    }\n",
              "\n",
              "    .colab-df-buttons div {\n",
              "      margin-bottom: 4px;\n",
              "    }\n",
              "\n",
              "    [theme=dark] .colab-df-convert {\n",
              "      background-color: #3B4455;\n",
              "      fill: #D2E3FC;\n",
              "    }\n",
              "\n",
              "    [theme=dark] .colab-df-convert:hover {\n",
              "      background-color: #434B5C;\n",
              "      box-shadow: 0px 1px 3px 1px rgba(0, 0, 0, 0.15);\n",
              "      filter: drop-shadow(0px 1px 2px rgba(0, 0, 0, 0.3));\n",
              "      fill: #FFFFFF;\n",
              "    }\n",
              "  </style>\n",
              "\n",
              "    <script>\n",
              "      const buttonEl =\n",
              "        document.querySelector('#df-7bf49e77-d1b8-4f49-9779-73e64b235327 button.colab-df-convert');\n",
              "      buttonEl.style.display =\n",
              "        google.colab.kernel.accessAllowed ? 'block' : 'none';\n",
              "\n",
              "      async function convertToInteractive(key) {\n",
              "        const element = document.querySelector('#df-7bf49e77-d1b8-4f49-9779-73e64b235327');\n",
              "        const dataTable =\n",
              "          await google.colab.kernel.invokeFunction('convertToInteractive',\n",
              "                                                    [key], {});\n",
              "        if (!dataTable) return;\n",
              "\n",
              "        const docLinkHtml = 'Like what you see? Visit the ' +\n",
              "          '<a target=\"_blank\" href=https://colab.research.google.com/notebooks/data_table.ipynb>data table notebook</a>'\n",
              "          + ' to learn more about interactive tables.';\n",
              "        element.innerHTML = '';\n",
              "        dataTable['output_type'] = 'display_data';\n",
              "        await google.colab.output.renderOutput(dataTable, element);\n",
              "        const docLink = document.createElement('div');\n",
              "        docLink.innerHTML = docLinkHtml;\n",
              "        element.appendChild(docLink);\n",
              "      }\n",
              "    </script>\n",
              "  </div>\n",
              "\n",
              "\n",
              "<div id=\"df-d7f42dee-7db2-4437-b2bd-0dd5f010ab63\">\n",
              "  <button class=\"colab-df-quickchart\" onclick=\"quickchart('df-d7f42dee-7db2-4437-b2bd-0dd5f010ab63')\"\n",
              "            title=\"Suggest charts\"\n",
              "            style=\"display:none;\">\n",
              "\n",
              "<svg xmlns=\"http://www.w3.org/2000/svg\" height=\"24px\"viewBox=\"0 0 24 24\"\n",
              "     width=\"24px\">\n",
              "    <g>\n",
              "        <path d=\"M19 3H5c-1.1 0-2 .9-2 2v14c0 1.1.9 2 2 2h14c1.1 0 2-.9 2-2V5c0-1.1-.9-2-2-2zM9 17H7v-7h2v7zm4 0h-2V7h2v10zm4 0h-2v-4h2v4z\"/>\n",
              "    </g>\n",
              "</svg>\n",
              "  </button>\n",
              "\n",
              "<style>\n",
              "  .colab-df-quickchart {\n",
              "      --bg-color: #E8F0FE;\n",
              "      --fill-color: #1967D2;\n",
              "      --hover-bg-color: #E2EBFA;\n",
              "      --hover-fill-color: #174EA6;\n",
              "      --disabled-fill-color: #AAA;\n",
              "      --disabled-bg-color: #DDD;\n",
              "  }\n",
              "\n",
              "  [theme=dark] .colab-df-quickchart {\n",
              "      --bg-color: #3B4455;\n",
              "      --fill-color: #D2E3FC;\n",
              "      --hover-bg-color: #434B5C;\n",
              "      --hover-fill-color: #FFFFFF;\n",
              "      --disabled-bg-color: #3B4455;\n",
              "      --disabled-fill-color: #666;\n",
              "  }\n",
              "\n",
              "  .colab-df-quickchart {\n",
              "    background-color: var(--bg-color);\n",
              "    border: none;\n",
              "    border-radius: 50%;\n",
              "    cursor: pointer;\n",
              "    display: none;\n",
              "    fill: var(--fill-color);\n",
              "    height: 32px;\n",
              "    padding: 0;\n",
              "    width: 32px;\n",
              "  }\n",
              "\n",
              "  .colab-df-quickchart:hover {\n",
              "    background-color: var(--hover-bg-color);\n",
              "    box-shadow: 0 1px 2px rgba(60, 64, 67, 0.3), 0 1px 3px 1px rgba(60, 64, 67, 0.15);\n",
              "    fill: var(--button-hover-fill-color);\n",
              "  }\n",
              "\n",
              "  .colab-df-quickchart-complete:disabled,\n",
              "  .colab-df-quickchart-complete:disabled:hover {\n",
              "    background-color: var(--disabled-bg-color);\n",
              "    fill: var(--disabled-fill-color);\n",
              "    box-shadow: none;\n",
              "  }\n",
              "\n",
              "  .colab-df-spinner {\n",
              "    border: 2px solid var(--fill-color);\n",
              "    border-color: transparent;\n",
              "    border-bottom-color: var(--fill-color);\n",
              "    animation:\n",
              "      spin 1s steps(1) infinite;\n",
              "  }\n",
              "\n",
              "  @keyframes spin {\n",
              "    0% {\n",
              "      border-color: transparent;\n",
              "      border-bottom-color: var(--fill-color);\n",
              "      border-left-color: var(--fill-color);\n",
              "    }\n",
              "    20% {\n",
              "      border-color: transparent;\n",
              "      border-left-color: var(--fill-color);\n",
              "      border-top-color: var(--fill-color);\n",
              "    }\n",
              "    30% {\n",
              "      border-color: transparent;\n",
              "      border-left-color: var(--fill-color);\n",
              "      border-top-color: var(--fill-color);\n",
              "      border-right-color: var(--fill-color);\n",
              "    }\n",
              "    40% {\n",
              "      border-color: transparent;\n",
              "      border-right-color: var(--fill-color);\n",
              "      border-top-color: var(--fill-color);\n",
              "    }\n",
              "    60% {\n",
              "      border-color: transparent;\n",
              "      border-right-color: var(--fill-color);\n",
              "    }\n",
              "    80% {\n",
              "      border-color: transparent;\n",
              "      border-right-color: var(--fill-color);\n",
              "      border-bottom-color: var(--fill-color);\n",
              "    }\n",
              "    90% {\n",
              "      border-color: transparent;\n",
              "      border-bottom-color: var(--fill-color);\n",
              "    }\n",
              "  }\n",
              "</style>\n",
              "\n",
              "  <script>\n",
              "    async function quickchart(key) {\n",
              "      const quickchartButtonEl =\n",
              "        document.querySelector('#' + key + ' button');\n",
              "      quickchartButtonEl.disabled = true;  // To prevent multiple clicks.\n",
              "      quickchartButtonEl.classList.add('colab-df-spinner');\n",
              "      try {\n",
              "        const charts = await google.colab.kernel.invokeFunction(\n",
              "            'suggestCharts', [key], {});\n",
              "      } catch (error) {\n",
              "        console.error('Error during call to suggestCharts:', error);\n",
              "      }\n",
              "      quickchartButtonEl.classList.remove('colab-df-spinner');\n",
              "      quickchartButtonEl.classList.add('colab-df-quickchart-complete');\n",
              "    }\n",
              "    (() => {\n",
              "      let quickchartButtonEl =\n",
              "        document.querySelector('#df-d7f42dee-7db2-4437-b2bd-0dd5f010ab63 button');\n",
              "      quickchartButtonEl.style.display =\n",
              "        google.colab.kernel.accessAllowed ? 'block' : 'none';\n",
              "    })();\n",
              "  </script>\n",
              "</div>\n",
              "    </div>\n",
              "  </div>\n"
            ]
          },
          "metadata": {},
          "execution_count": 7
        }
      ]
    },
    {
      "cell_type": "code",
      "source": [
        "cheese.sort_values([\"syrup\", \"a\"])"
      ],
      "metadata": {
        "id": "e9l9N75MmS3Y",
        "outputId": "730c3840-3180-49f2-e1a4-0287d02e7e29",
        "colab": {
          "base_uri": "https://localhost:8080/",
          "height": 802
        }
      },
      "execution_count": 10,
      "outputs": [
        {
          "output_type": "execute_result",
          "data": {
            "text/plain": [
              "    syrup  rep      L     a      b dummy\n",
              "2      26    3  52.69  6.09  17.59    no\n",
              "5      26    6  52.73  6.12  17.50    no\n",
              "4      26    5  51.63  6.13  17.19    no\n",
              "1      26    2  51.52  6.18  17.09    no\n",
              "0      26    1  51.89  6.22  17.43    no\n",
              "3      26    4  52.06  6.36  17.50    no\n",
              "10     42    5  48.64  6.30  16.21    no\n",
              "7      42    2  48.57  6.42  15.91    no\n",
              "8      42    3  47.57  6.84  16.04    no\n",
              "11     42    6  47.49  6.91  15.91    no\n",
              "9      42    4  46.85  6.97  15.85    no\n",
              "6      42    1  47.21  7.02  16.00    no\n",
              "17     55    6  42.65  7.55  14.40    no\n",
              "16     55    5  42.12  7.56  14.03    no\n",
              "13     55    2  42.31  7.59  13.98    no\n",
              "14     55    3  42.31  7.63  14.42    no\n",
              "15     55    4  41.49  7.66  13.58    no\n",
              "12     55    1  41.43  7.71  13.74    no\n",
              "23     62    6  47.88  6.34  15.64    no\n",
              "20     62    3  47.35  6.49  15.70    no\n",
              "19     62    2  46.66  6.66  16.30    no\n",
              "22     62    5  46.77  6.66  15.91    no\n",
              "18     62    1  45.99  6.84  15.68    no\n",
              "21     62    4  45.83  6.96  15.61    no"
            ],
            "text/html": [
              "\n",
              "  <div id=\"df-3ab1d293-2b2f-424f-bb01-efd54498706f\" class=\"colab-df-container\">\n",
              "    <div>\n",
              "<style scoped>\n",
              "    .dataframe tbody tr th:only-of-type {\n",
              "        vertical-align: middle;\n",
              "    }\n",
              "\n",
              "    .dataframe tbody tr th {\n",
              "        vertical-align: top;\n",
              "    }\n",
              "\n",
              "    .dataframe thead th {\n",
              "        text-align: right;\n",
              "    }\n",
              "</style>\n",
              "<table border=\"1\" class=\"dataframe\">\n",
              "  <thead>\n",
              "    <tr style=\"text-align: right;\">\n",
              "      <th></th>\n",
              "      <th>syrup</th>\n",
              "      <th>rep</th>\n",
              "      <th>L</th>\n",
              "      <th>a</th>\n",
              "      <th>b</th>\n",
              "      <th>dummy</th>\n",
              "    </tr>\n",
              "  </thead>\n",
              "  <tbody>\n",
              "    <tr>\n",
              "      <th>2</th>\n",
              "      <td>26</td>\n",
              "      <td>3</td>\n",
              "      <td>52.69</td>\n",
              "      <td>6.09</td>\n",
              "      <td>17.59</td>\n",
              "      <td>no</td>\n",
              "    </tr>\n",
              "    <tr>\n",
              "      <th>5</th>\n",
              "      <td>26</td>\n",
              "      <td>6</td>\n",
              "      <td>52.73</td>\n",
              "      <td>6.12</td>\n",
              "      <td>17.50</td>\n",
              "      <td>no</td>\n",
              "    </tr>\n",
              "    <tr>\n",
              "      <th>4</th>\n",
              "      <td>26</td>\n",
              "      <td>5</td>\n",
              "      <td>51.63</td>\n",
              "      <td>6.13</td>\n",
              "      <td>17.19</td>\n",
              "      <td>no</td>\n",
              "    </tr>\n",
              "    <tr>\n",
              "      <th>1</th>\n",
              "      <td>26</td>\n",
              "      <td>2</td>\n",
              "      <td>51.52</td>\n",
              "      <td>6.18</td>\n",
              "      <td>17.09</td>\n",
              "      <td>no</td>\n",
              "    </tr>\n",
              "    <tr>\n",
              "      <th>0</th>\n",
              "      <td>26</td>\n",
              "      <td>1</td>\n",
              "      <td>51.89</td>\n",
              "      <td>6.22</td>\n",
              "      <td>17.43</td>\n",
              "      <td>no</td>\n",
              "    </tr>\n",
              "    <tr>\n",
              "      <th>3</th>\n",
              "      <td>26</td>\n",
              "      <td>4</td>\n",
              "      <td>52.06</td>\n",
              "      <td>6.36</td>\n",
              "      <td>17.50</td>\n",
              "      <td>no</td>\n",
              "    </tr>\n",
              "    <tr>\n",
              "      <th>10</th>\n",
              "      <td>42</td>\n",
              "      <td>5</td>\n",
              "      <td>48.64</td>\n",
              "      <td>6.30</td>\n",
              "      <td>16.21</td>\n",
              "      <td>no</td>\n",
              "    </tr>\n",
              "    <tr>\n",
              "      <th>7</th>\n",
              "      <td>42</td>\n",
              "      <td>2</td>\n",
              "      <td>48.57</td>\n",
              "      <td>6.42</td>\n",
              "      <td>15.91</td>\n",
              "      <td>no</td>\n",
              "    </tr>\n",
              "    <tr>\n",
              "      <th>8</th>\n",
              "      <td>42</td>\n",
              "      <td>3</td>\n",
              "      <td>47.57</td>\n",
              "      <td>6.84</td>\n",
              "      <td>16.04</td>\n",
              "      <td>no</td>\n",
              "    </tr>\n",
              "    <tr>\n",
              "      <th>11</th>\n",
              "      <td>42</td>\n",
              "      <td>6</td>\n",
              "      <td>47.49</td>\n",
              "      <td>6.91</td>\n",
              "      <td>15.91</td>\n",
              "      <td>no</td>\n",
              "    </tr>\n",
              "    <tr>\n",
              "      <th>9</th>\n",
              "      <td>42</td>\n",
              "      <td>4</td>\n",
              "      <td>46.85</td>\n",
              "      <td>6.97</td>\n",
              "      <td>15.85</td>\n",
              "      <td>no</td>\n",
              "    </tr>\n",
              "    <tr>\n",
              "      <th>6</th>\n",
              "      <td>42</td>\n",
              "      <td>1</td>\n",
              "      <td>47.21</td>\n",
              "      <td>7.02</td>\n",
              "      <td>16.00</td>\n",
              "      <td>no</td>\n",
              "    </tr>\n",
              "    <tr>\n",
              "      <th>17</th>\n",
              "      <td>55</td>\n",
              "      <td>6</td>\n",
              "      <td>42.65</td>\n",
              "      <td>7.55</td>\n",
              "      <td>14.40</td>\n",
              "      <td>no</td>\n",
              "    </tr>\n",
              "    <tr>\n",
              "      <th>16</th>\n",
              "      <td>55</td>\n",
              "      <td>5</td>\n",
              "      <td>42.12</td>\n",
              "      <td>7.56</td>\n",
              "      <td>14.03</td>\n",
              "      <td>no</td>\n",
              "    </tr>\n",
              "    <tr>\n",
              "      <th>13</th>\n",
              "      <td>55</td>\n",
              "      <td>2</td>\n",
              "      <td>42.31</td>\n",
              "      <td>7.59</td>\n",
              "      <td>13.98</td>\n",
              "      <td>no</td>\n",
              "    </tr>\n",
              "    <tr>\n",
              "      <th>14</th>\n",
              "      <td>55</td>\n",
              "      <td>3</td>\n",
              "      <td>42.31</td>\n",
              "      <td>7.63</td>\n",
              "      <td>14.42</td>\n",
              "      <td>no</td>\n",
              "    </tr>\n",
              "    <tr>\n",
              "      <th>15</th>\n",
              "      <td>55</td>\n",
              "      <td>4</td>\n",
              "      <td>41.49</td>\n",
              "      <td>7.66</td>\n",
              "      <td>13.58</td>\n",
              "      <td>no</td>\n",
              "    </tr>\n",
              "    <tr>\n",
              "      <th>12</th>\n",
              "      <td>55</td>\n",
              "      <td>1</td>\n",
              "      <td>41.43</td>\n",
              "      <td>7.71</td>\n",
              "      <td>13.74</td>\n",
              "      <td>no</td>\n",
              "    </tr>\n",
              "    <tr>\n",
              "      <th>23</th>\n",
              "      <td>62</td>\n",
              "      <td>6</td>\n",
              "      <td>47.88</td>\n",
              "      <td>6.34</td>\n",
              "      <td>15.64</td>\n",
              "      <td>no</td>\n",
              "    </tr>\n",
              "    <tr>\n",
              "      <th>20</th>\n",
              "      <td>62</td>\n",
              "      <td>3</td>\n",
              "      <td>47.35</td>\n",
              "      <td>6.49</td>\n",
              "      <td>15.70</td>\n",
              "      <td>no</td>\n",
              "    </tr>\n",
              "    <tr>\n",
              "      <th>19</th>\n",
              "      <td>62</td>\n",
              "      <td>2</td>\n",
              "      <td>46.66</td>\n",
              "      <td>6.66</td>\n",
              "      <td>16.30</td>\n",
              "      <td>no</td>\n",
              "    </tr>\n",
              "    <tr>\n",
              "      <th>22</th>\n",
              "      <td>62</td>\n",
              "      <td>5</td>\n",
              "      <td>46.77</td>\n",
              "      <td>6.66</td>\n",
              "      <td>15.91</td>\n",
              "      <td>no</td>\n",
              "    </tr>\n",
              "    <tr>\n",
              "      <th>18</th>\n",
              "      <td>62</td>\n",
              "      <td>1</td>\n",
              "      <td>45.99</td>\n",
              "      <td>6.84</td>\n",
              "      <td>15.68</td>\n",
              "      <td>no</td>\n",
              "    </tr>\n",
              "    <tr>\n",
              "      <th>21</th>\n",
              "      <td>62</td>\n",
              "      <td>4</td>\n",
              "      <td>45.83</td>\n",
              "      <td>6.96</td>\n",
              "      <td>15.61</td>\n",
              "      <td>no</td>\n",
              "    </tr>\n",
              "  </tbody>\n",
              "</table>\n",
              "</div>\n",
              "    <div class=\"colab-df-buttons\">\n",
              "\n",
              "  <div class=\"colab-df-container\">\n",
              "    <button class=\"colab-df-convert\" onclick=\"convertToInteractive('df-3ab1d293-2b2f-424f-bb01-efd54498706f')\"\n",
              "            title=\"Convert this dataframe to an interactive table.\"\n",
              "            style=\"display:none;\">\n",
              "\n",
              "  <svg xmlns=\"http://www.w3.org/2000/svg\" height=\"24px\" viewBox=\"0 -960 960 960\">\n",
              "    <path d=\"M120-120v-720h720v720H120Zm60-500h600v-160H180v160Zm220 220h160v-160H400v160Zm0 220h160v-160H400v160ZM180-400h160v-160H180v160Zm440 0h160v-160H620v160ZM180-180h160v-160H180v160Zm440 0h160v-160H620v160Z\"/>\n",
              "  </svg>\n",
              "    </button>\n",
              "\n",
              "  <style>\n",
              "    .colab-df-container {\n",
              "      display:flex;\n",
              "      gap: 12px;\n",
              "    }\n",
              "\n",
              "    .colab-df-convert {\n",
              "      background-color: #E8F0FE;\n",
              "      border: none;\n",
              "      border-radius: 50%;\n",
              "      cursor: pointer;\n",
              "      display: none;\n",
              "      fill: #1967D2;\n",
              "      height: 32px;\n",
              "      padding: 0 0 0 0;\n",
              "      width: 32px;\n",
              "    }\n",
              "\n",
              "    .colab-df-convert:hover {\n",
              "      background-color: #E2EBFA;\n",
              "      box-shadow: 0px 1px 2px rgba(60, 64, 67, 0.3), 0px 1px 3px 1px rgba(60, 64, 67, 0.15);\n",
              "      fill: #174EA6;\n",
              "    }\n",
              "\n",
              "    .colab-df-buttons div {\n",
              "      margin-bottom: 4px;\n",
              "    }\n",
              "\n",
              "    [theme=dark] .colab-df-convert {\n",
              "      background-color: #3B4455;\n",
              "      fill: #D2E3FC;\n",
              "    }\n",
              "\n",
              "    [theme=dark] .colab-df-convert:hover {\n",
              "      background-color: #434B5C;\n",
              "      box-shadow: 0px 1px 3px 1px rgba(0, 0, 0, 0.15);\n",
              "      filter: drop-shadow(0px 1px 2px rgba(0, 0, 0, 0.3));\n",
              "      fill: #FFFFFF;\n",
              "    }\n",
              "  </style>\n",
              "\n",
              "    <script>\n",
              "      const buttonEl =\n",
              "        document.querySelector('#df-3ab1d293-2b2f-424f-bb01-efd54498706f button.colab-df-convert');\n",
              "      buttonEl.style.display =\n",
              "        google.colab.kernel.accessAllowed ? 'block' : 'none';\n",
              "\n",
              "      async function convertToInteractive(key) {\n",
              "        const element = document.querySelector('#df-3ab1d293-2b2f-424f-bb01-efd54498706f');\n",
              "        const dataTable =\n",
              "          await google.colab.kernel.invokeFunction('convertToInteractive',\n",
              "                                                    [key], {});\n",
              "        if (!dataTable) return;\n",
              "\n",
              "        const docLinkHtml = 'Like what you see? Visit the ' +\n",
              "          '<a target=\"_blank\" href=https://colab.research.google.com/notebooks/data_table.ipynb>data table notebook</a>'\n",
              "          + ' to learn more about interactive tables.';\n",
              "        element.innerHTML = '';\n",
              "        dataTable['output_type'] = 'display_data';\n",
              "        await google.colab.output.renderOutput(dataTable, element);\n",
              "        const docLink = document.createElement('div');\n",
              "        docLink.innerHTML = docLinkHtml;\n",
              "        element.appendChild(docLink);\n",
              "      }\n",
              "    </script>\n",
              "  </div>\n",
              "\n",
              "\n",
              "<div id=\"df-d17cc11e-9d39-438c-9a23-12e190118178\">\n",
              "  <button class=\"colab-df-quickchart\" onclick=\"quickchart('df-d17cc11e-9d39-438c-9a23-12e190118178')\"\n",
              "            title=\"Suggest charts\"\n",
              "            style=\"display:none;\">\n",
              "\n",
              "<svg xmlns=\"http://www.w3.org/2000/svg\" height=\"24px\"viewBox=\"0 0 24 24\"\n",
              "     width=\"24px\">\n",
              "    <g>\n",
              "        <path d=\"M19 3H5c-1.1 0-2 .9-2 2v14c0 1.1.9 2 2 2h14c1.1 0 2-.9 2-2V5c0-1.1-.9-2-2-2zM9 17H7v-7h2v7zm4 0h-2V7h2v10zm4 0h-2v-4h2v4z\"/>\n",
              "    </g>\n",
              "</svg>\n",
              "  </button>\n",
              "\n",
              "<style>\n",
              "  .colab-df-quickchart {\n",
              "      --bg-color: #E8F0FE;\n",
              "      --fill-color: #1967D2;\n",
              "      --hover-bg-color: #E2EBFA;\n",
              "      --hover-fill-color: #174EA6;\n",
              "      --disabled-fill-color: #AAA;\n",
              "      --disabled-bg-color: #DDD;\n",
              "  }\n",
              "\n",
              "  [theme=dark] .colab-df-quickchart {\n",
              "      --bg-color: #3B4455;\n",
              "      --fill-color: #D2E3FC;\n",
              "      --hover-bg-color: #434B5C;\n",
              "      --hover-fill-color: #FFFFFF;\n",
              "      --disabled-bg-color: #3B4455;\n",
              "      --disabled-fill-color: #666;\n",
              "  }\n",
              "\n",
              "  .colab-df-quickchart {\n",
              "    background-color: var(--bg-color);\n",
              "    border: none;\n",
              "    border-radius: 50%;\n",
              "    cursor: pointer;\n",
              "    display: none;\n",
              "    fill: var(--fill-color);\n",
              "    height: 32px;\n",
              "    padding: 0;\n",
              "    width: 32px;\n",
              "  }\n",
              "\n",
              "  .colab-df-quickchart:hover {\n",
              "    background-color: var(--hover-bg-color);\n",
              "    box-shadow: 0 1px 2px rgba(60, 64, 67, 0.3), 0 1px 3px 1px rgba(60, 64, 67, 0.15);\n",
              "    fill: var(--button-hover-fill-color);\n",
              "  }\n",
              "\n",
              "  .colab-df-quickchart-complete:disabled,\n",
              "  .colab-df-quickchart-complete:disabled:hover {\n",
              "    background-color: var(--disabled-bg-color);\n",
              "    fill: var(--disabled-fill-color);\n",
              "    box-shadow: none;\n",
              "  }\n",
              "\n",
              "  .colab-df-spinner {\n",
              "    border: 2px solid var(--fill-color);\n",
              "    border-color: transparent;\n",
              "    border-bottom-color: var(--fill-color);\n",
              "    animation:\n",
              "      spin 1s steps(1) infinite;\n",
              "  }\n",
              "\n",
              "  @keyframes spin {\n",
              "    0% {\n",
              "      border-color: transparent;\n",
              "      border-bottom-color: var(--fill-color);\n",
              "      border-left-color: var(--fill-color);\n",
              "    }\n",
              "    20% {\n",
              "      border-color: transparent;\n",
              "      border-left-color: var(--fill-color);\n",
              "      border-top-color: var(--fill-color);\n",
              "    }\n",
              "    30% {\n",
              "      border-color: transparent;\n",
              "      border-left-color: var(--fill-color);\n",
              "      border-top-color: var(--fill-color);\n",
              "      border-right-color: var(--fill-color);\n",
              "    }\n",
              "    40% {\n",
              "      border-color: transparent;\n",
              "      border-right-color: var(--fill-color);\n",
              "      border-top-color: var(--fill-color);\n",
              "    }\n",
              "    60% {\n",
              "      border-color: transparent;\n",
              "      border-right-color: var(--fill-color);\n",
              "    }\n",
              "    80% {\n",
              "      border-color: transparent;\n",
              "      border-right-color: var(--fill-color);\n",
              "      border-bottom-color: var(--fill-color);\n",
              "    }\n",
              "    90% {\n",
              "      border-color: transparent;\n",
              "      border-bottom-color: var(--fill-color);\n",
              "    }\n",
              "  }\n",
              "</style>\n",
              "\n",
              "  <script>\n",
              "    async function quickchart(key) {\n",
              "      const quickchartButtonEl =\n",
              "        document.querySelector('#' + key + ' button');\n",
              "      quickchartButtonEl.disabled = true;  // To prevent multiple clicks.\n",
              "      quickchartButtonEl.classList.add('colab-df-spinner');\n",
              "      try {\n",
              "        const charts = await google.colab.kernel.invokeFunction(\n",
              "            'suggestCharts', [key], {});\n",
              "      } catch (error) {\n",
              "        console.error('Error during call to suggestCharts:', error);\n",
              "      }\n",
              "      quickchartButtonEl.classList.remove('colab-df-spinner');\n",
              "      quickchartButtonEl.classList.add('colab-df-quickchart-complete');\n",
              "    }\n",
              "    (() => {\n",
              "      let quickchartButtonEl =\n",
              "        document.querySelector('#df-d17cc11e-9d39-438c-9a23-12e190118178 button');\n",
              "      quickchartButtonEl.style.display =\n",
              "        google.colab.kernel.accessAllowed ? 'block' : 'none';\n",
              "    })();\n",
              "  </script>\n",
              "</div>\n",
              "    </div>\n",
              "  </div>\n"
            ]
          },
          "metadata": {},
          "execution_count": 10
        }
      ]
    },
    {
      "cell_type": "markdown",
      "source": [
        "We can add some `NaN` or not a number values.  These represent missing data values.  For a discussion of why this isn't `None`, see <https://stackoverflow.com/questions/17534106/what-is-the-difference-between-nan-and-none>"
      ],
      "metadata": {
        "id": "jqLfJMFDlBQM"
      }
    },
    {
      "cell_type": "code",
      "source": [
        "cheese.loc[0:3, \"dummy\"] = np.nan\n",
        "cheese.head()"
      ],
      "metadata": {
        "id": "QQ_L7OE-lBTu",
        "outputId": "d38e94ad-e9cf-4f58-9fc4-832d33cdcda9",
        "colab": {
          "base_uri": "https://localhost:8080/",
          "height": 206
        }
      },
      "execution_count": 11,
      "outputs": [
        {
          "output_type": "execute_result",
          "data": {
            "text/plain": [
              "   syrup  rep      L     a      b dummy\n",
              "0     26    1  51.89  6.22  17.43   NaN\n",
              "1     26    2  51.52  6.18  17.09   NaN\n",
              "2     26    3  52.69  6.09  17.59   NaN\n",
              "3     26    4  52.06  6.36  17.50   NaN\n",
              "4     26    5  51.63  6.13  17.19    no"
            ],
            "text/html": [
              "\n",
              "  <div id=\"df-da3f6631-6dae-4ede-baeb-c53c0e967ed1\" class=\"colab-df-container\">\n",
              "    <div>\n",
              "<style scoped>\n",
              "    .dataframe tbody tr th:only-of-type {\n",
              "        vertical-align: middle;\n",
              "    }\n",
              "\n",
              "    .dataframe tbody tr th {\n",
              "        vertical-align: top;\n",
              "    }\n",
              "\n",
              "    .dataframe thead th {\n",
              "        text-align: right;\n",
              "    }\n",
              "</style>\n",
              "<table border=\"1\" class=\"dataframe\">\n",
              "  <thead>\n",
              "    <tr style=\"text-align: right;\">\n",
              "      <th></th>\n",
              "      <th>syrup</th>\n",
              "      <th>rep</th>\n",
              "      <th>L</th>\n",
              "      <th>a</th>\n",
              "      <th>b</th>\n",
              "      <th>dummy</th>\n",
              "    </tr>\n",
              "  </thead>\n",
              "  <tbody>\n",
              "    <tr>\n",
              "      <th>0</th>\n",
              "      <td>26</td>\n",
              "      <td>1</td>\n",
              "      <td>51.89</td>\n",
              "      <td>6.22</td>\n",
              "      <td>17.43</td>\n",
              "      <td>NaN</td>\n",
              "    </tr>\n",
              "    <tr>\n",
              "      <th>1</th>\n",
              "      <td>26</td>\n",
              "      <td>2</td>\n",
              "      <td>51.52</td>\n",
              "      <td>6.18</td>\n",
              "      <td>17.09</td>\n",
              "      <td>NaN</td>\n",
              "    </tr>\n",
              "    <tr>\n",
              "      <th>2</th>\n",
              "      <td>26</td>\n",
              "      <td>3</td>\n",
              "      <td>52.69</td>\n",
              "      <td>6.09</td>\n",
              "      <td>17.59</td>\n",
              "      <td>NaN</td>\n",
              "    </tr>\n",
              "    <tr>\n",
              "      <th>3</th>\n",
              "      <td>26</td>\n",
              "      <td>4</td>\n",
              "      <td>52.06</td>\n",
              "      <td>6.36</td>\n",
              "      <td>17.50</td>\n",
              "      <td>NaN</td>\n",
              "    </tr>\n",
              "    <tr>\n",
              "      <th>4</th>\n",
              "      <td>26</td>\n",
              "      <td>5</td>\n",
              "      <td>51.63</td>\n",
              "      <td>6.13</td>\n",
              "      <td>17.19</td>\n",
              "      <td>no</td>\n",
              "    </tr>\n",
              "  </tbody>\n",
              "</table>\n",
              "</div>\n",
              "    <div class=\"colab-df-buttons\">\n",
              "\n",
              "  <div class=\"colab-df-container\">\n",
              "    <button class=\"colab-df-convert\" onclick=\"convertToInteractive('df-da3f6631-6dae-4ede-baeb-c53c0e967ed1')\"\n",
              "            title=\"Convert this dataframe to an interactive table.\"\n",
              "            style=\"display:none;\">\n",
              "\n",
              "  <svg xmlns=\"http://www.w3.org/2000/svg\" height=\"24px\" viewBox=\"0 -960 960 960\">\n",
              "    <path d=\"M120-120v-720h720v720H120Zm60-500h600v-160H180v160Zm220 220h160v-160H400v160Zm0 220h160v-160H400v160ZM180-400h160v-160H180v160Zm440 0h160v-160H620v160ZM180-180h160v-160H180v160Zm440 0h160v-160H620v160Z\"/>\n",
              "  </svg>\n",
              "    </button>\n",
              "\n",
              "  <style>\n",
              "    .colab-df-container {\n",
              "      display:flex;\n",
              "      gap: 12px;\n",
              "    }\n",
              "\n",
              "    .colab-df-convert {\n",
              "      background-color: #E8F0FE;\n",
              "      border: none;\n",
              "      border-radius: 50%;\n",
              "      cursor: pointer;\n",
              "      display: none;\n",
              "      fill: #1967D2;\n",
              "      height: 32px;\n",
              "      padding: 0 0 0 0;\n",
              "      width: 32px;\n",
              "    }\n",
              "\n",
              "    .colab-df-convert:hover {\n",
              "      background-color: #E2EBFA;\n",
              "      box-shadow: 0px 1px 2px rgba(60, 64, 67, 0.3), 0px 1px 3px 1px rgba(60, 64, 67, 0.15);\n",
              "      fill: #174EA6;\n",
              "    }\n",
              "\n",
              "    .colab-df-buttons div {\n",
              "      margin-bottom: 4px;\n",
              "    }\n",
              "\n",
              "    [theme=dark] .colab-df-convert {\n",
              "      background-color: #3B4455;\n",
              "      fill: #D2E3FC;\n",
              "    }\n",
              "\n",
              "    [theme=dark] .colab-df-convert:hover {\n",
              "      background-color: #434B5C;\n",
              "      box-shadow: 0px 1px 3px 1px rgba(0, 0, 0, 0.15);\n",
              "      filter: drop-shadow(0px 1px 2px rgba(0, 0, 0, 0.3));\n",
              "      fill: #FFFFFF;\n",
              "    }\n",
              "  </style>\n",
              "\n",
              "    <script>\n",
              "      const buttonEl =\n",
              "        document.querySelector('#df-da3f6631-6dae-4ede-baeb-c53c0e967ed1 button.colab-df-convert');\n",
              "      buttonEl.style.display =\n",
              "        google.colab.kernel.accessAllowed ? 'block' : 'none';\n",
              "\n",
              "      async function convertToInteractive(key) {\n",
              "        const element = document.querySelector('#df-da3f6631-6dae-4ede-baeb-c53c0e967ed1');\n",
              "        const dataTable =\n",
              "          await google.colab.kernel.invokeFunction('convertToInteractive',\n",
              "                                                    [key], {});\n",
              "        if (!dataTable) return;\n",
              "\n",
              "        const docLinkHtml = 'Like what you see? Visit the ' +\n",
              "          '<a target=\"_blank\" href=https://colab.research.google.com/notebooks/data_table.ipynb>data table notebook</a>'\n",
              "          + ' to learn more about interactive tables.';\n",
              "        element.innerHTML = '';\n",
              "        dataTable['output_type'] = 'display_data';\n",
              "        await google.colab.output.renderOutput(dataTable, element);\n",
              "        const docLink = document.createElement('div');\n",
              "        docLink.innerHTML = docLinkHtml;\n",
              "        element.appendChild(docLink);\n",
              "      }\n",
              "    </script>\n",
              "  </div>\n",
              "\n",
              "\n",
              "<div id=\"df-e0f1b373-37e3-491d-b3a6-ab4d6f04a0b7\">\n",
              "  <button class=\"colab-df-quickchart\" onclick=\"quickchart('df-e0f1b373-37e3-491d-b3a6-ab4d6f04a0b7')\"\n",
              "            title=\"Suggest charts\"\n",
              "            style=\"display:none;\">\n",
              "\n",
              "<svg xmlns=\"http://www.w3.org/2000/svg\" height=\"24px\"viewBox=\"0 0 24 24\"\n",
              "     width=\"24px\">\n",
              "    <g>\n",
              "        <path d=\"M19 3H5c-1.1 0-2 .9-2 2v14c0 1.1.9 2 2 2h14c1.1 0 2-.9 2-2V5c0-1.1-.9-2-2-2zM9 17H7v-7h2v7zm4 0h-2V7h2v10zm4 0h-2v-4h2v4z\"/>\n",
              "    </g>\n",
              "</svg>\n",
              "  </button>\n",
              "\n",
              "<style>\n",
              "  .colab-df-quickchart {\n",
              "      --bg-color: #E8F0FE;\n",
              "      --fill-color: #1967D2;\n",
              "      --hover-bg-color: #E2EBFA;\n",
              "      --hover-fill-color: #174EA6;\n",
              "      --disabled-fill-color: #AAA;\n",
              "      --disabled-bg-color: #DDD;\n",
              "  }\n",
              "\n",
              "  [theme=dark] .colab-df-quickchart {\n",
              "      --bg-color: #3B4455;\n",
              "      --fill-color: #D2E3FC;\n",
              "      --hover-bg-color: #434B5C;\n",
              "      --hover-fill-color: #FFFFFF;\n",
              "      --disabled-bg-color: #3B4455;\n",
              "      --disabled-fill-color: #666;\n",
              "  }\n",
              "\n",
              "  .colab-df-quickchart {\n",
              "    background-color: var(--bg-color);\n",
              "    border: none;\n",
              "    border-radius: 50%;\n",
              "    cursor: pointer;\n",
              "    display: none;\n",
              "    fill: var(--fill-color);\n",
              "    height: 32px;\n",
              "    padding: 0;\n",
              "    width: 32px;\n",
              "  }\n",
              "\n",
              "  .colab-df-quickchart:hover {\n",
              "    background-color: var(--hover-bg-color);\n",
              "    box-shadow: 0 1px 2px rgba(60, 64, 67, 0.3), 0 1px 3px 1px rgba(60, 64, 67, 0.15);\n",
              "    fill: var(--button-hover-fill-color);\n",
              "  }\n",
              "\n",
              "  .colab-df-quickchart-complete:disabled,\n",
              "  .colab-df-quickchart-complete:disabled:hover {\n",
              "    background-color: var(--disabled-bg-color);\n",
              "    fill: var(--disabled-fill-color);\n",
              "    box-shadow: none;\n",
              "  }\n",
              "\n",
              "  .colab-df-spinner {\n",
              "    border: 2px solid var(--fill-color);\n",
              "    border-color: transparent;\n",
              "    border-bottom-color: var(--fill-color);\n",
              "    animation:\n",
              "      spin 1s steps(1) infinite;\n",
              "  }\n",
              "\n",
              "  @keyframes spin {\n",
              "    0% {\n",
              "      border-color: transparent;\n",
              "      border-bottom-color: var(--fill-color);\n",
              "      border-left-color: var(--fill-color);\n",
              "    }\n",
              "    20% {\n",
              "      border-color: transparent;\n",
              "      border-left-color: var(--fill-color);\n",
              "      border-top-color: var(--fill-color);\n",
              "    }\n",
              "    30% {\n",
              "      border-color: transparent;\n",
              "      border-left-color: var(--fill-color);\n",
              "      border-top-color: var(--fill-color);\n",
              "      border-right-color: var(--fill-color);\n",
              "    }\n",
              "    40% {\n",
              "      border-color: transparent;\n",
              "      border-right-color: var(--fill-color);\n",
              "      border-top-color: var(--fill-color);\n",
              "    }\n",
              "    60% {\n",
              "      border-color: transparent;\n",
              "      border-right-color: var(--fill-color);\n",
              "    }\n",
              "    80% {\n",
              "      border-color: transparent;\n",
              "      border-right-color: var(--fill-color);\n",
              "      border-bottom-color: var(--fill-color);\n",
              "    }\n",
              "    90% {\n",
              "      border-color: transparent;\n",
              "      border-bottom-color: var(--fill-color);\n",
              "    }\n",
              "  }\n",
              "</style>\n",
              "\n",
              "  <script>\n",
              "    async function quickchart(key) {\n",
              "      const quickchartButtonEl =\n",
              "        document.querySelector('#' + key + ' button');\n",
              "      quickchartButtonEl.disabled = true;  // To prevent multiple clicks.\n",
              "      quickchartButtonEl.classList.add('colab-df-spinner');\n",
              "      try {\n",
              "        const charts = await google.colab.kernel.invokeFunction(\n",
              "            'suggestCharts', [key], {});\n",
              "      } catch (error) {\n",
              "        console.error('Error during call to suggestCharts:', error);\n",
              "      }\n",
              "      quickchartButtonEl.classList.remove('colab-df-spinner');\n",
              "      quickchartButtonEl.classList.add('colab-df-quickchart-complete');\n",
              "    }\n",
              "    (() => {\n",
              "      let quickchartButtonEl =\n",
              "        document.querySelector('#df-e0f1b373-37e3-491d-b3a6-ab4d6f04a0b7 button');\n",
              "      quickchartButtonEl.style.display =\n",
              "        google.colab.kernel.accessAllowed ? 'block' : 'none';\n",
              "    })();\n",
              "  </script>\n",
              "</div>\n",
              "    </div>\n",
              "  </div>\n"
            ]
          },
          "metadata": {},
          "execution_count": 11
        }
      ]
    },
    {
      "cell_type": "markdown",
      "source": [
        "We can then drop any rows that contain a `NaN` value (in any column) with `.dropna()`.  This doesn't overwrite the object."
      ],
      "metadata": {
        "id": "6-q8LO1llBXd"
      }
    },
    {
      "cell_type": "code",
      "source": [
        "cheese.dropna()"
      ],
      "metadata": {
        "id": "NmEWXdlGlBbD",
        "outputId": "6f3ed715-ab27-4ac2-fe43-c483fbe3dcd7",
        "colab": {
          "base_uri": "https://localhost:8080/",
          "height": 677
        }
      },
      "execution_count": 12,
      "outputs": [
        {
          "output_type": "execute_result",
          "data": {
            "text/plain": [
              "    syrup  rep      L     a      b dummy\n",
              "4      26    5  51.63  6.13  17.19    no\n",
              "5      26    6  52.73  6.12  17.50    no\n",
              "6      42    1  47.21  7.02  16.00    no\n",
              "7      42    2  48.57  6.42  15.91    no\n",
              "8      42    3  47.57  6.84  16.04    no\n",
              "9      42    4  46.85  6.97  15.85    no\n",
              "10     42    5  48.64  6.30  16.21    no\n",
              "11     42    6  47.49  6.91  15.91    no\n",
              "12     55    1  41.43  7.71  13.74    no\n",
              "13     55    2  42.31  7.59  13.98    no\n",
              "14     55    3  42.31  7.63  14.42    no\n",
              "15     55    4  41.49  7.66  13.58    no\n",
              "16     55    5  42.12  7.56  14.03    no\n",
              "17     55    6  42.65  7.55  14.40    no\n",
              "18     62    1  45.99  6.84  15.68    no\n",
              "19     62    2  46.66  6.66  16.30    no\n",
              "20     62    3  47.35  6.49  15.70    no\n",
              "21     62    4  45.83  6.96  15.61    no\n",
              "22     62    5  46.77  6.66  15.91    no\n",
              "23     62    6  47.88  6.34  15.64    no"
            ],
            "text/html": [
              "\n",
              "  <div id=\"df-95aa491b-0535-4cf1-89dd-8a919bc39b08\" class=\"colab-df-container\">\n",
              "    <div>\n",
              "<style scoped>\n",
              "    .dataframe tbody tr th:only-of-type {\n",
              "        vertical-align: middle;\n",
              "    }\n",
              "\n",
              "    .dataframe tbody tr th {\n",
              "        vertical-align: top;\n",
              "    }\n",
              "\n",
              "    .dataframe thead th {\n",
              "        text-align: right;\n",
              "    }\n",
              "</style>\n",
              "<table border=\"1\" class=\"dataframe\">\n",
              "  <thead>\n",
              "    <tr style=\"text-align: right;\">\n",
              "      <th></th>\n",
              "      <th>syrup</th>\n",
              "      <th>rep</th>\n",
              "      <th>L</th>\n",
              "      <th>a</th>\n",
              "      <th>b</th>\n",
              "      <th>dummy</th>\n",
              "    </tr>\n",
              "  </thead>\n",
              "  <tbody>\n",
              "    <tr>\n",
              "      <th>4</th>\n",
              "      <td>26</td>\n",
              "      <td>5</td>\n",
              "      <td>51.63</td>\n",
              "      <td>6.13</td>\n",
              "      <td>17.19</td>\n",
              "      <td>no</td>\n",
              "    </tr>\n",
              "    <tr>\n",
              "      <th>5</th>\n",
              "      <td>26</td>\n",
              "      <td>6</td>\n",
              "      <td>52.73</td>\n",
              "      <td>6.12</td>\n",
              "      <td>17.50</td>\n",
              "      <td>no</td>\n",
              "    </tr>\n",
              "    <tr>\n",
              "      <th>6</th>\n",
              "      <td>42</td>\n",
              "      <td>1</td>\n",
              "      <td>47.21</td>\n",
              "      <td>7.02</td>\n",
              "      <td>16.00</td>\n",
              "      <td>no</td>\n",
              "    </tr>\n",
              "    <tr>\n",
              "      <th>7</th>\n",
              "      <td>42</td>\n",
              "      <td>2</td>\n",
              "      <td>48.57</td>\n",
              "      <td>6.42</td>\n",
              "      <td>15.91</td>\n",
              "      <td>no</td>\n",
              "    </tr>\n",
              "    <tr>\n",
              "      <th>8</th>\n",
              "      <td>42</td>\n",
              "      <td>3</td>\n",
              "      <td>47.57</td>\n",
              "      <td>6.84</td>\n",
              "      <td>16.04</td>\n",
              "      <td>no</td>\n",
              "    </tr>\n",
              "    <tr>\n",
              "      <th>9</th>\n",
              "      <td>42</td>\n",
              "      <td>4</td>\n",
              "      <td>46.85</td>\n",
              "      <td>6.97</td>\n",
              "      <td>15.85</td>\n",
              "      <td>no</td>\n",
              "    </tr>\n",
              "    <tr>\n",
              "      <th>10</th>\n",
              "      <td>42</td>\n",
              "      <td>5</td>\n",
              "      <td>48.64</td>\n",
              "      <td>6.30</td>\n",
              "      <td>16.21</td>\n",
              "      <td>no</td>\n",
              "    </tr>\n",
              "    <tr>\n",
              "      <th>11</th>\n",
              "      <td>42</td>\n",
              "      <td>6</td>\n",
              "      <td>47.49</td>\n",
              "      <td>6.91</td>\n",
              "      <td>15.91</td>\n",
              "      <td>no</td>\n",
              "    </tr>\n",
              "    <tr>\n",
              "      <th>12</th>\n",
              "      <td>55</td>\n",
              "      <td>1</td>\n",
              "      <td>41.43</td>\n",
              "      <td>7.71</td>\n",
              "      <td>13.74</td>\n",
              "      <td>no</td>\n",
              "    </tr>\n",
              "    <tr>\n",
              "      <th>13</th>\n",
              "      <td>55</td>\n",
              "      <td>2</td>\n",
              "      <td>42.31</td>\n",
              "      <td>7.59</td>\n",
              "      <td>13.98</td>\n",
              "      <td>no</td>\n",
              "    </tr>\n",
              "    <tr>\n",
              "      <th>14</th>\n",
              "      <td>55</td>\n",
              "      <td>3</td>\n",
              "      <td>42.31</td>\n",
              "      <td>7.63</td>\n",
              "      <td>14.42</td>\n",
              "      <td>no</td>\n",
              "    </tr>\n",
              "    <tr>\n",
              "      <th>15</th>\n",
              "      <td>55</td>\n",
              "      <td>4</td>\n",
              "      <td>41.49</td>\n",
              "      <td>7.66</td>\n",
              "      <td>13.58</td>\n",
              "      <td>no</td>\n",
              "    </tr>\n",
              "    <tr>\n",
              "      <th>16</th>\n",
              "      <td>55</td>\n",
              "      <td>5</td>\n",
              "      <td>42.12</td>\n",
              "      <td>7.56</td>\n",
              "      <td>14.03</td>\n",
              "      <td>no</td>\n",
              "    </tr>\n",
              "    <tr>\n",
              "      <th>17</th>\n",
              "      <td>55</td>\n",
              "      <td>6</td>\n",
              "      <td>42.65</td>\n",
              "      <td>7.55</td>\n",
              "      <td>14.40</td>\n",
              "      <td>no</td>\n",
              "    </tr>\n",
              "    <tr>\n",
              "      <th>18</th>\n",
              "      <td>62</td>\n",
              "      <td>1</td>\n",
              "      <td>45.99</td>\n",
              "      <td>6.84</td>\n",
              "      <td>15.68</td>\n",
              "      <td>no</td>\n",
              "    </tr>\n",
              "    <tr>\n",
              "      <th>19</th>\n",
              "      <td>62</td>\n",
              "      <td>2</td>\n",
              "      <td>46.66</td>\n",
              "      <td>6.66</td>\n",
              "      <td>16.30</td>\n",
              "      <td>no</td>\n",
              "    </tr>\n",
              "    <tr>\n",
              "      <th>20</th>\n",
              "      <td>62</td>\n",
              "      <td>3</td>\n",
              "      <td>47.35</td>\n",
              "      <td>6.49</td>\n",
              "      <td>15.70</td>\n",
              "      <td>no</td>\n",
              "    </tr>\n",
              "    <tr>\n",
              "      <th>21</th>\n",
              "      <td>62</td>\n",
              "      <td>4</td>\n",
              "      <td>45.83</td>\n",
              "      <td>6.96</td>\n",
              "      <td>15.61</td>\n",
              "      <td>no</td>\n",
              "    </tr>\n",
              "    <tr>\n",
              "      <th>22</th>\n",
              "      <td>62</td>\n",
              "      <td>5</td>\n",
              "      <td>46.77</td>\n",
              "      <td>6.66</td>\n",
              "      <td>15.91</td>\n",
              "      <td>no</td>\n",
              "    </tr>\n",
              "    <tr>\n",
              "      <th>23</th>\n",
              "      <td>62</td>\n",
              "      <td>6</td>\n",
              "      <td>47.88</td>\n",
              "      <td>6.34</td>\n",
              "      <td>15.64</td>\n",
              "      <td>no</td>\n",
              "    </tr>\n",
              "  </tbody>\n",
              "</table>\n",
              "</div>\n",
              "    <div class=\"colab-df-buttons\">\n",
              "\n",
              "  <div class=\"colab-df-container\">\n",
              "    <button class=\"colab-df-convert\" onclick=\"convertToInteractive('df-95aa491b-0535-4cf1-89dd-8a919bc39b08')\"\n",
              "            title=\"Convert this dataframe to an interactive table.\"\n",
              "            style=\"display:none;\">\n",
              "\n",
              "  <svg xmlns=\"http://www.w3.org/2000/svg\" height=\"24px\" viewBox=\"0 -960 960 960\">\n",
              "    <path d=\"M120-120v-720h720v720H120Zm60-500h600v-160H180v160Zm220 220h160v-160H400v160Zm0 220h160v-160H400v160ZM180-400h160v-160H180v160Zm440 0h160v-160H620v160ZM180-180h160v-160H180v160Zm440 0h160v-160H620v160Z\"/>\n",
              "  </svg>\n",
              "    </button>\n",
              "\n",
              "  <style>\n",
              "    .colab-df-container {\n",
              "      display:flex;\n",
              "      gap: 12px;\n",
              "    }\n",
              "\n",
              "    .colab-df-convert {\n",
              "      background-color: #E8F0FE;\n",
              "      border: none;\n",
              "      border-radius: 50%;\n",
              "      cursor: pointer;\n",
              "      display: none;\n",
              "      fill: #1967D2;\n",
              "      height: 32px;\n",
              "      padding: 0 0 0 0;\n",
              "      width: 32px;\n",
              "    }\n",
              "\n",
              "    .colab-df-convert:hover {\n",
              "      background-color: #E2EBFA;\n",
              "      box-shadow: 0px 1px 2px rgba(60, 64, 67, 0.3), 0px 1px 3px 1px rgba(60, 64, 67, 0.15);\n",
              "      fill: #174EA6;\n",
              "    }\n",
              "\n",
              "    .colab-df-buttons div {\n",
              "      margin-bottom: 4px;\n",
              "    }\n",
              "\n",
              "    [theme=dark] .colab-df-convert {\n",
              "      background-color: #3B4455;\n",
              "      fill: #D2E3FC;\n",
              "    }\n",
              "\n",
              "    [theme=dark] .colab-df-convert:hover {\n",
              "      background-color: #434B5C;\n",
              "      box-shadow: 0px 1px 3px 1px rgba(0, 0, 0, 0.15);\n",
              "      filter: drop-shadow(0px 1px 2px rgba(0, 0, 0, 0.3));\n",
              "      fill: #FFFFFF;\n",
              "    }\n",
              "  </style>\n",
              "\n",
              "    <script>\n",
              "      const buttonEl =\n",
              "        document.querySelector('#df-95aa491b-0535-4cf1-89dd-8a919bc39b08 button.colab-df-convert');\n",
              "      buttonEl.style.display =\n",
              "        google.colab.kernel.accessAllowed ? 'block' : 'none';\n",
              "\n",
              "      async function convertToInteractive(key) {\n",
              "        const element = document.querySelector('#df-95aa491b-0535-4cf1-89dd-8a919bc39b08');\n",
              "        const dataTable =\n",
              "          await google.colab.kernel.invokeFunction('convertToInteractive',\n",
              "                                                    [key], {});\n",
              "        if (!dataTable) return;\n",
              "\n",
              "        const docLinkHtml = 'Like what you see? Visit the ' +\n",
              "          '<a target=\"_blank\" href=https://colab.research.google.com/notebooks/data_table.ipynb>data table notebook</a>'\n",
              "          + ' to learn more about interactive tables.';\n",
              "        element.innerHTML = '';\n",
              "        dataTable['output_type'] = 'display_data';\n",
              "        await google.colab.output.renderOutput(dataTable, element);\n",
              "        const docLink = document.createElement('div');\n",
              "        docLink.innerHTML = docLinkHtml;\n",
              "        element.appendChild(docLink);\n",
              "      }\n",
              "    </script>\n",
              "  </div>\n",
              "\n",
              "\n",
              "<div id=\"df-e85d8c48-b4a6-4305-a42b-453aa85348c1\">\n",
              "  <button class=\"colab-df-quickchart\" onclick=\"quickchart('df-e85d8c48-b4a6-4305-a42b-453aa85348c1')\"\n",
              "            title=\"Suggest charts\"\n",
              "            style=\"display:none;\">\n",
              "\n",
              "<svg xmlns=\"http://www.w3.org/2000/svg\" height=\"24px\"viewBox=\"0 0 24 24\"\n",
              "     width=\"24px\">\n",
              "    <g>\n",
              "        <path d=\"M19 3H5c-1.1 0-2 .9-2 2v14c0 1.1.9 2 2 2h14c1.1 0 2-.9 2-2V5c0-1.1-.9-2-2-2zM9 17H7v-7h2v7zm4 0h-2V7h2v10zm4 0h-2v-4h2v4z\"/>\n",
              "    </g>\n",
              "</svg>\n",
              "  </button>\n",
              "\n",
              "<style>\n",
              "  .colab-df-quickchart {\n",
              "      --bg-color: #E8F0FE;\n",
              "      --fill-color: #1967D2;\n",
              "      --hover-bg-color: #E2EBFA;\n",
              "      --hover-fill-color: #174EA6;\n",
              "      --disabled-fill-color: #AAA;\n",
              "      --disabled-bg-color: #DDD;\n",
              "  }\n",
              "\n",
              "  [theme=dark] .colab-df-quickchart {\n",
              "      --bg-color: #3B4455;\n",
              "      --fill-color: #D2E3FC;\n",
              "      --hover-bg-color: #434B5C;\n",
              "      --hover-fill-color: #FFFFFF;\n",
              "      --disabled-bg-color: #3B4455;\n",
              "      --disabled-fill-color: #666;\n",
              "  }\n",
              "\n",
              "  .colab-df-quickchart {\n",
              "    background-color: var(--bg-color);\n",
              "    border: none;\n",
              "    border-radius: 50%;\n",
              "    cursor: pointer;\n",
              "    display: none;\n",
              "    fill: var(--fill-color);\n",
              "    height: 32px;\n",
              "    padding: 0;\n",
              "    width: 32px;\n",
              "  }\n",
              "\n",
              "  .colab-df-quickchart:hover {\n",
              "    background-color: var(--hover-bg-color);\n",
              "    box-shadow: 0 1px 2px rgba(60, 64, 67, 0.3), 0 1px 3px 1px rgba(60, 64, 67, 0.15);\n",
              "    fill: var(--button-hover-fill-color);\n",
              "  }\n",
              "\n",
              "  .colab-df-quickchart-complete:disabled,\n",
              "  .colab-df-quickchart-complete:disabled:hover {\n",
              "    background-color: var(--disabled-bg-color);\n",
              "    fill: var(--disabled-fill-color);\n",
              "    box-shadow: none;\n",
              "  }\n",
              "\n",
              "  .colab-df-spinner {\n",
              "    border: 2px solid var(--fill-color);\n",
              "    border-color: transparent;\n",
              "    border-bottom-color: var(--fill-color);\n",
              "    animation:\n",
              "      spin 1s steps(1) infinite;\n",
              "  }\n",
              "\n",
              "  @keyframes spin {\n",
              "    0% {\n",
              "      border-color: transparent;\n",
              "      border-bottom-color: var(--fill-color);\n",
              "      border-left-color: var(--fill-color);\n",
              "    }\n",
              "    20% {\n",
              "      border-color: transparent;\n",
              "      border-left-color: var(--fill-color);\n",
              "      border-top-color: var(--fill-color);\n",
              "    }\n",
              "    30% {\n",
              "      border-color: transparent;\n",
              "      border-left-color: var(--fill-color);\n",
              "      border-top-color: var(--fill-color);\n",
              "      border-right-color: var(--fill-color);\n",
              "    }\n",
              "    40% {\n",
              "      border-color: transparent;\n",
              "      border-right-color: var(--fill-color);\n",
              "      border-top-color: var(--fill-color);\n",
              "    }\n",
              "    60% {\n",
              "      border-color: transparent;\n",
              "      border-right-color: var(--fill-color);\n",
              "    }\n",
              "    80% {\n",
              "      border-color: transparent;\n",
              "      border-right-color: var(--fill-color);\n",
              "      border-bottom-color: var(--fill-color);\n",
              "    }\n",
              "    90% {\n",
              "      border-color: transparent;\n",
              "      border-bottom-color: var(--fill-color);\n",
              "    }\n",
              "  }\n",
              "</style>\n",
              "\n",
              "  <script>\n",
              "    async function quickchart(key) {\n",
              "      const quickchartButtonEl =\n",
              "        document.querySelector('#' + key + ' button');\n",
              "      quickchartButtonEl.disabled = true;  // To prevent multiple clicks.\n",
              "      quickchartButtonEl.classList.add('colab-df-spinner');\n",
              "      try {\n",
              "        const charts = await google.colab.kernel.invokeFunction(\n",
              "            'suggestCharts', [key], {});\n",
              "      } catch (error) {\n",
              "        console.error('Error during call to suggestCharts:', error);\n",
              "      }\n",
              "      quickchartButtonEl.classList.remove('colab-df-spinner');\n",
              "      quickchartButtonEl.classList.add('colab-df-quickchart-complete');\n",
              "    }\n",
              "    (() => {\n",
              "      let quickchartButtonEl =\n",
              "        document.querySelector('#df-e85d8c48-b4a6-4305-a42b-453aa85348c1 button');\n",
              "      quickchartButtonEl.style.display =\n",
              "        google.colab.kernel.accessAllowed ? 'block' : 'none';\n",
              "    })();\n",
              "  </script>\n",
              "</div>\n",
              "    </div>\n",
              "  </div>\n"
            ]
          },
          "metadata": {},
          "execution_count": 12
        }
      ]
    },
    {
      "cell_type": "code",
      "source": [
        "cheese.head()"
      ],
      "metadata": {
        "id": "5b_TyjC8lNsp",
        "outputId": "8027e3a4-6438-430d-a481-2cb776a1caa3",
        "colab": {
          "base_uri": "https://localhost:8080/",
          "height": 206
        }
      },
      "execution_count": 13,
      "outputs": [
        {
          "output_type": "execute_result",
          "data": {
            "text/plain": [
              "   syrup  rep      L     a      b dummy\n",
              "0     26    1  51.89  6.22  17.43   NaN\n",
              "1     26    2  51.52  6.18  17.09   NaN\n",
              "2     26    3  52.69  6.09  17.59   NaN\n",
              "3     26    4  52.06  6.36  17.50   NaN\n",
              "4     26    5  51.63  6.13  17.19    no"
            ],
            "text/html": [
              "\n",
              "  <div id=\"df-4f7a6032-6d03-492f-83db-ff7ecc2e5ee0\" class=\"colab-df-container\">\n",
              "    <div>\n",
              "<style scoped>\n",
              "    .dataframe tbody tr th:only-of-type {\n",
              "        vertical-align: middle;\n",
              "    }\n",
              "\n",
              "    .dataframe tbody tr th {\n",
              "        vertical-align: top;\n",
              "    }\n",
              "\n",
              "    .dataframe thead th {\n",
              "        text-align: right;\n",
              "    }\n",
              "</style>\n",
              "<table border=\"1\" class=\"dataframe\">\n",
              "  <thead>\n",
              "    <tr style=\"text-align: right;\">\n",
              "      <th></th>\n",
              "      <th>syrup</th>\n",
              "      <th>rep</th>\n",
              "      <th>L</th>\n",
              "      <th>a</th>\n",
              "      <th>b</th>\n",
              "      <th>dummy</th>\n",
              "    </tr>\n",
              "  </thead>\n",
              "  <tbody>\n",
              "    <tr>\n",
              "      <th>0</th>\n",
              "      <td>26</td>\n",
              "      <td>1</td>\n",
              "      <td>51.89</td>\n",
              "      <td>6.22</td>\n",
              "      <td>17.43</td>\n",
              "      <td>NaN</td>\n",
              "    </tr>\n",
              "    <tr>\n",
              "      <th>1</th>\n",
              "      <td>26</td>\n",
              "      <td>2</td>\n",
              "      <td>51.52</td>\n",
              "      <td>6.18</td>\n",
              "      <td>17.09</td>\n",
              "      <td>NaN</td>\n",
              "    </tr>\n",
              "    <tr>\n",
              "      <th>2</th>\n",
              "      <td>26</td>\n",
              "      <td>3</td>\n",
              "      <td>52.69</td>\n",
              "      <td>6.09</td>\n",
              "      <td>17.59</td>\n",
              "      <td>NaN</td>\n",
              "    </tr>\n",
              "    <tr>\n",
              "      <th>3</th>\n",
              "      <td>26</td>\n",
              "      <td>4</td>\n",
              "      <td>52.06</td>\n",
              "      <td>6.36</td>\n",
              "      <td>17.50</td>\n",
              "      <td>NaN</td>\n",
              "    </tr>\n",
              "    <tr>\n",
              "      <th>4</th>\n",
              "      <td>26</td>\n",
              "      <td>5</td>\n",
              "      <td>51.63</td>\n",
              "      <td>6.13</td>\n",
              "      <td>17.19</td>\n",
              "      <td>no</td>\n",
              "    </tr>\n",
              "  </tbody>\n",
              "</table>\n",
              "</div>\n",
              "    <div class=\"colab-df-buttons\">\n",
              "\n",
              "  <div class=\"colab-df-container\">\n",
              "    <button class=\"colab-df-convert\" onclick=\"convertToInteractive('df-4f7a6032-6d03-492f-83db-ff7ecc2e5ee0')\"\n",
              "            title=\"Convert this dataframe to an interactive table.\"\n",
              "            style=\"display:none;\">\n",
              "\n",
              "  <svg xmlns=\"http://www.w3.org/2000/svg\" height=\"24px\" viewBox=\"0 -960 960 960\">\n",
              "    <path d=\"M120-120v-720h720v720H120Zm60-500h600v-160H180v160Zm220 220h160v-160H400v160Zm0 220h160v-160H400v160ZM180-400h160v-160H180v160Zm440 0h160v-160H620v160ZM180-180h160v-160H180v160Zm440 0h160v-160H620v160Z\"/>\n",
              "  </svg>\n",
              "    </button>\n",
              "\n",
              "  <style>\n",
              "    .colab-df-container {\n",
              "      display:flex;\n",
              "      gap: 12px;\n",
              "    }\n",
              "\n",
              "    .colab-df-convert {\n",
              "      background-color: #E8F0FE;\n",
              "      border: none;\n",
              "      border-radius: 50%;\n",
              "      cursor: pointer;\n",
              "      display: none;\n",
              "      fill: #1967D2;\n",
              "      height: 32px;\n",
              "      padding: 0 0 0 0;\n",
              "      width: 32px;\n",
              "    }\n",
              "\n",
              "    .colab-df-convert:hover {\n",
              "      background-color: #E2EBFA;\n",
              "      box-shadow: 0px 1px 2px rgba(60, 64, 67, 0.3), 0px 1px 3px 1px rgba(60, 64, 67, 0.15);\n",
              "      fill: #174EA6;\n",
              "    }\n",
              "\n",
              "    .colab-df-buttons div {\n",
              "      margin-bottom: 4px;\n",
              "    }\n",
              "\n",
              "    [theme=dark] .colab-df-convert {\n",
              "      background-color: #3B4455;\n",
              "      fill: #D2E3FC;\n",
              "    }\n",
              "\n",
              "    [theme=dark] .colab-df-convert:hover {\n",
              "      background-color: #434B5C;\n",
              "      box-shadow: 0px 1px 3px 1px rgba(0, 0, 0, 0.15);\n",
              "      filter: drop-shadow(0px 1px 2px rgba(0, 0, 0, 0.3));\n",
              "      fill: #FFFFFF;\n",
              "    }\n",
              "  </style>\n",
              "\n",
              "    <script>\n",
              "      const buttonEl =\n",
              "        document.querySelector('#df-4f7a6032-6d03-492f-83db-ff7ecc2e5ee0 button.colab-df-convert');\n",
              "      buttonEl.style.display =\n",
              "        google.colab.kernel.accessAllowed ? 'block' : 'none';\n",
              "\n",
              "      async function convertToInteractive(key) {\n",
              "        const element = document.querySelector('#df-4f7a6032-6d03-492f-83db-ff7ecc2e5ee0');\n",
              "        const dataTable =\n",
              "          await google.colab.kernel.invokeFunction('convertToInteractive',\n",
              "                                                    [key], {});\n",
              "        if (!dataTable) return;\n",
              "\n",
              "        const docLinkHtml = 'Like what you see? Visit the ' +\n",
              "          '<a target=\"_blank\" href=https://colab.research.google.com/notebooks/data_table.ipynb>data table notebook</a>'\n",
              "          + ' to learn more about interactive tables.';\n",
              "        element.innerHTML = '';\n",
              "        dataTable['output_type'] = 'display_data';\n",
              "        await google.colab.output.renderOutput(dataTable, element);\n",
              "        const docLink = document.createElement('div');\n",
              "        docLink.innerHTML = docLinkHtml;\n",
              "        element.appendChild(docLink);\n",
              "      }\n",
              "    </script>\n",
              "  </div>\n",
              "\n",
              "\n",
              "<div id=\"df-067967ca-94bf-47c4-be3c-7beb88db5ef8\">\n",
              "  <button class=\"colab-df-quickchart\" onclick=\"quickchart('df-067967ca-94bf-47c4-be3c-7beb88db5ef8')\"\n",
              "            title=\"Suggest charts\"\n",
              "            style=\"display:none;\">\n",
              "\n",
              "<svg xmlns=\"http://www.w3.org/2000/svg\" height=\"24px\"viewBox=\"0 0 24 24\"\n",
              "     width=\"24px\">\n",
              "    <g>\n",
              "        <path d=\"M19 3H5c-1.1 0-2 .9-2 2v14c0 1.1.9 2 2 2h14c1.1 0 2-.9 2-2V5c0-1.1-.9-2-2-2zM9 17H7v-7h2v7zm4 0h-2V7h2v10zm4 0h-2v-4h2v4z\"/>\n",
              "    </g>\n",
              "</svg>\n",
              "  </button>\n",
              "\n",
              "<style>\n",
              "  .colab-df-quickchart {\n",
              "      --bg-color: #E8F0FE;\n",
              "      --fill-color: #1967D2;\n",
              "      --hover-bg-color: #E2EBFA;\n",
              "      --hover-fill-color: #174EA6;\n",
              "      --disabled-fill-color: #AAA;\n",
              "      --disabled-bg-color: #DDD;\n",
              "  }\n",
              "\n",
              "  [theme=dark] .colab-df-quickchart {\n",
              "      --bg-color: #3B4455;\n",
              "      --fill-color: #D2E3FC;\n",
              "      --hover-bg-color: #434B5C;\n",
              "      --hover-fill-color: #FFFFFF;\n",
              "      --disabled-bg-color: #3B4455;\n",
              "      --disabled-fill-color: #666;\n",
              "  }\n",
              "\n",
              "  .colab-df-quickchart {\n",
              "    background-color: var(--bg-color);\n",
              "    border: none;\n",
              "    border-radius: 50%;\n",
              "    cursor: pointer;\n",
              "    display: none;\n",
              "    fill: var(--fill-color);\n",
              "    height: 32px;\n",
              "    padding: 0;\n",
              "    width: 32px;\n",
              "  }\n",
              "\n",
              "  .colab-df-quickchart:hover {\n",
              "    background-color: var(--hover-bg-color);\n",
              "    box-shadow: 0 1px 2px rgba(60, 64, 67, 0.3), 0 1px 3px 1px rgba(60, 64, 67, 0.15);\n",
              "    fill: var(--button-hover-fill-color);\n",
              "  }\n",
              "\n",
              "  .colab-df-quickchart-complete:disabled,\n",
              "  .colab-df-quickchart-complete:disabled:hover {\n",
              "    background-color: var(--disabled-bg-color);\n",
              "    fill: var(--disabled-fill-color);\n",
              "    box-shadow: none;\n",
              "  }\n",
              "\n",
              "  .colab-df-spinner {\n",
              "    border: 2px solid var(--fill-color);\n",
              "    border-color: transparent;\n",
              "    border-bottom-color: var(--fill-color);\n",
              "    animation:\n",
              "      spin 1s steps(1) infinite;\n",
              "  }\n",
              "\n",
              "  @keyframes spin {\n",
              "    0% {\n",
              "      border-color: transparent;\n",
              "      border-bottom-color: var(--fill-color);\n",
              "      border-left-color: var(--fill-color);\n",
              "    }\n",
              "    20% {\n",
              "      border-color: transparent;\n",
              "      border-left-color: var(--fill-color);\n",
              "      border-top-color: var(--fill-color);\n",
              "    }\n",
              "    30% {\n",
              "      border-color: transparent;\n",
              "      border-left-color: var(--fill-color);\n",
              "      border-top-color: var(--fill-color);\n",
              "      border-right-color: var(--fill-color);\n",
              "    }\n",
              "    40% {\n",
              "      border-color: transparent;\n",
              "      border-right-color: var(--fill-color);\n",
              "      border-top-color: var(--fill-color);\n",
              "    }\n",
              "    60% {\n",
              "      border-color: transparent;\n",
              "      border-right-color: var(--fill-color);\n",
              "    }\n",
              "    80% {\n",
              "      border-color: transparent;\n",
              "      border-right-color: var(--fill-color);\n",
              "      border-bottom-color: var(--fill-color);\n",
              "    }\n",
              "    90% {\n",
              "      border-color: transparent;\n",
              "      border-bottom-color: var(--fill-color);\n",
              "    }\n",
              "  }\n",
              "</style>\n",
              "\n",
              "  <script>\n",
              "    async function quickchart(key) {\n",
              "      const quickchartButtonEl =\n",
              "        document.querySelector('#' + key + ' button');\n",
              "      quickchartButtonEl.disabled = true;  // To prevent multiple clicks.\n",
              "      quickchartButtonEl.classList.add('colab-df-spinner');\n",
              "      try {\n",
              "        const charts = await google.colab.kernel.invokeFunction(\n",
              "            'suggestCharts', [key], {});\n",
              "      } catch (error) {\n",
              "        console.error('Error during call to suggestCharts:', error);\n",
              "      }\n",
              "      quickchartButtonEl.classList.remove('colab-df-spinner');\n",
              "      quickchartButtonEl.classList.add('colab-df-quickchart-complete');\n",
              "    }\n",
              "    (() => {\n",
              "      let quickchartButtonEl =\n",
              "        document.querySelector('#df-067967ca-94bf-47c4-be3c-7beb88db5ef8 button');\n",
              "      quickchartButtonEl.style.display =\n",
              "        google.colab.kernel.accessAllowed ? 'block' : 'none';\n",
              "    })();\n",
              "  </script>\n",
              "</div>\n",
              "    </div>\n",
              "  </div>\n"
            ]
          },
          "metadata": {},
          "execution_count": 13
        }
      ]
    },
    {
      "cell_type": "markdown",
      "source": [
        "We can also fill in any `NaN` values using `.fillna()`.  This also doesn't overwrite the object."
      ],
      "metadata": {
        "id": "bjy12bgDlBex"
      }
    },
    {
      "cell_type": "code",
      "source": [
        "cheese.fillna(\"yes\")"
      ],
      "metadata": {
        "id": "w00eOe_SlPEq",
        "outputId": "4ea9822f-3723-406a-d6e5-7e0e9318f6a8",
        "colab": {
          "base_uri": "https://localhost:8080/",
          "height": 802
        }
      },
      "execution_count": 14,
      "outputs": [
        {
          "output_type": "execute_result",
          "data": {
            "text/plain": [
              "    syrup  rep      L     a      b dummy\n",
              "0      26    1  51.89  6.22  17.43   yes\n",
              "1      26    2  51.52  6.18  17.09   yes\n",
              "2      26    3  52.69  6.09  17.59   yes\n",
              "3      26    4  52.06  6.36  17.50   yes\n",
              "4      26    5  51.63  6.13  17.19    no\n",
              "5      26    6  52.73  6.12  17.50    no\n",
              "6      42    1  47.21  7.02  16.00    no\n",
              "7      42    2  48.57  6.42  15.91    no\n",
              "8      42    3  47.57  6.84  16.04    no\n",
              "9      42    4  46.85  6.97  15.85    no\n",
              "10     42    5  48.64  6.30  16.21    no\n",
              "11     42    6  47.49  6.91  15.91    no\n",
              "12     55    1  41.43  7.71  13.74    no\n",
              "13     55    2  42.31  7.59  13.98    no\n",
              "14     55    3  42.31  7.63  14.42    no\n",
              "15     55    4  41.49  7.66  13.58    no\n",
              "16     55    5  42.12  7.56  14.03    no\n",
              "17     55    6  42.65  7.55  14.40    no\n",
              "18     62    1  45.99  6.84  15.68    no\n",
              "19     62    2  46.66  6.66  16.30    no\n",
              "20     62    3  47.35  6.49  15.70    no\n",
              "21     62    4  45.83  6.96  15.61    no\n",
              "22     62    5  46.77  6.66  15.91    no\n",
              "23     62    6  47.88  6.34  15.64    no"
            ],
            "text/html": [
              "\n",
              "  <div id=\"df-341691aa-0818-4cdb-85d8-30e0de9220f0\" class=\"colab-df-container\">\n",
              "    <div>\n",
              "<style scoped>\n",
              "    .dataframe tbody tr th:only-of-type {\n",
              "        vertical-align: middle;\n",
              "    }\n",
              "\n",
              "    .dataframe tbody tr th {\n",
              "        vertical-align: top;\n",
              "    }\n",
              "\n",
              "    .dataframe thead th {\n",
              "        text-align: right;\n",
              "    }\n",
              "</style>\n",
              "<table border=\"1\" class=\"dataframe\">\n",
              "  <thead>\n",
              "    <tr style=\"text-align: right;\">\n",
              "      <th></th>\n",
              "      <th>syrup</th>\n",
              "      <th>rep</th>\n",
              "      <th>L</th>\n",
              "      <th>a</th>\n",
              "      <th>b</th>\n",
              "      <th>dummy</th>\n",
              "    </tr>\n",
              "  </thead>\n",
              "  <tbody>\n",
              "    <tr>\n",
              "      <th>0</th>\n",
              "      <td>26</td>\n",
              "      <td>1</td>\n",
              "      <td>51.89</td>\n",
              "      <td>6.22</td>\n",
              "      <td>17.43</td>\n",
              "      <td>yes</td>\n",
              "    </tr>\n",
              "    <tr>\n",
              "      <th>1</th>\n",
              "      <td>26</td>\n",
              "      <td>2</td>\n",
              "      <td>51.52</td>\n",
              "      <td>6.18</td>\n",
              "      <td>17.09</td>\n",
              "      <td>yes</td>\n",
              "    </tr>\n",
              "    <tr>\n",
              "      <th>2</th>\n",
              "      <td>26</td>\n",
              "      <td>3</td>\n",
              "      <td>52.69</td>\n",
              "      <td>6.09</td>\n",
              "      <td>17.59</td>\n",
              "      <td>yes</td>\n",
              "    </tr>\n",
              "    <tr>\n",
              "      <th>3</th>\n",
              "      <td>26</td>\n",
              "      <td>4</td>\n",
              "      <td>52.06</td>\n",
              "      <td>6.36</td>\n",
              "      <td>17.50</td>\n",
              "      <td>yes</td>\n",
              "    </tr>\n",
              "    <tr>\n",
              "      <th>4</th>\n",
              "      <td>26</td>\n",
              "      <td>5</td>\n",
              "      <td>51.63</td>\n",
              "      <td>6.13</td>\n",
              "      <td>17.19</td>\n",
              "      <td>no</td>\n",
              "    </tr>\n",
              "    <tr>\n",
              "      <th>5</th>\n",
              "      <td>26</td>\n",
              "      <td>6</td>\n",
              "      <td>52.73</td>\n",
              "      <td>6.12</td>\n",
              "      <td>17.50</td>\n",
              "      <td>no</td>\n",
              "    </tr>\n",
              "    <tr>\n",
              "      <th>6</th>\n",
              "      <td>42</td>\n",
              "      <td>1</td>\n",
              "      <td>47.21</td>\n",
              "      <td>7.02</td>\n",
              "      <td>16.00</td>\n",
              "      <td>no</td>\n",
              "    </tr>\n",
              "    <tr>\n",
              "      <th>7</th>\n",
              "      <td>42</td>\n",
              "      <td>2</td>\n",
              "      <td>48.57</td>\n",
              "      <td>6.42</td>\n",
              "      <td>15.91</td>\n",
              "      <td>no</td>\n",
              "    </tr>\n",
              "    <tr>\n",
              "      <th>8</th>\n",
              "      <td>42</td>\n",
              "      <td>3</td>\n",
              "      <td>47.57</td>\n",
              "      <td>6.84</td>\n",
              "      <td>16.04</td>\n",
              "      <td>no</td>\n",
              "    </tr>\n",
              "    <tr>\n",
              "      <th>9</th>\n",
              "      <td>42</td>\n",
              "      <td>4</td>\n",
              "      <td>46.85</td>\n",
              "      <td>6.97</td>\n",
              "      <td>15.85</td>\n",
              "      <td>no</td>\n",
              "    </tr>\n",
              "    <tr>\n",
              "      <th>10</th>\n",
              "      <td>42</td>\n",
              "      <td>5</td>\n",
              "      <td>48.64</td>\n",
              "      <td>6.30</td>\n",
              "      <td>16.21</td>\n",
              "      <td>no</td>\n",
              "    </tr>\n",
              "    <tr>\n",
              "      <th>11</th>\n",
              "      <td>42</td>\n",
              "      <td>6</td>\n",
              "      <td>47.49</td>\n",
              "      <td>6.91</td>\n",
              "      <td>15.91</td>\n",
              "      <td>no</td>\n",
              "    </tr>\n",
              "    <tr>\n",
              "      <th>12</th>\n",
              "      <td>55</td>\n",
              "      <td>1</td>\n",
              "      <td>41.43</td>\n",
              "      <td>7.71</td>\n",
              "      <td>13.74</td>\n",
              "      <td>no</td>\n",
              "    </tr>\n",
              "    <tr>\n",
              "      <th>13</th>\n",
              "      <td>55</td>\n",
              "      <td>2</td>\n",
              "      <td>42.31</td>\n",
              "      <td>7.59</td>\n",
              "      <td>13.98</td>\n",
              "      <td>no</td>\n",
              "    </tr>\n",
              "    <tr>\n",
              "      <th>14</th>\n",
              "      <td>55</td>\n",
              "      <td>3</td>\n",
              "      <td>42.31</td>\n",
              "      <td>7.63</td>\n",
              "      <td>14.42</td>\n",
              "      <td>no</td>\n",
              "    </tr>\n",
              "    <tr>\n",
              "      <th>15</th>\n",
              "      <td>55</td>\n",
              "      <td>4</td>\n",
              "      <td>41.49</td>\n",
              "      <td>7.66</td>\n",
              "      <td>13.58</td>\n",
              "      <td>no</td>\n",
              "    </tr>\n",
              "    <tr>\n",
              "      <th>16</th>\n",
              "      <td>55</td>\n",
              "      <td>5</td>\n",
              "      <td>42.12</td>\n",
              "      <td>7.56</td>\n",
              "      <td>14.03</td>\n",
              "      <td>no</td>\n",
              "    </tr>\n",
              "    <tr>\n",
              "      <th>17</th>\n",
              "      <td>55</td>\n",
              "      <td>6</td>\n",
              "      <td>42.65</td>\n",
              "      <td>7.55</td>\n",
              "      <td>14.40</td>\n",
              "      <td>no</td>\n",
              "    </tr>\n",
              "    <tr>\n",
              "      <th>18</th>\n",
              "      <td>62</td>\n",
              "      <td>1</td>\n",
              "      <td>45.99</td>\n",
              "      <td>6.84</td>\n",
              "      <td>15.68</td>\n",
              "      <td>no</td>\n",
              "    </tr>\n",
              "    <tr>\n",
              "      <th>19</th>\n",
              "      <td>62</td>\n",
              "      <td>2</td>\n",
              "      <td>46.66</td>\n",
              "      <td>6.66</td>\n",
              "      <td>16.30</td>\n",
              "      <td>no</td>\n",
              "    </tr>\n",
              "    <tr>\n",
              "      <th>20</th>\n",
              "      <td>62</td>\n",
              "      <td>3</td>\n",
              "      <td>47.35</td>\n",
              "      <td>6.49</td>\n",
              "      <td>15.70</td>\n",
              "      <td>no</td>\n",
              "    </tr>\n",
              "    <tr>\n",
              "      <th>21</th>\n",
              "      <td>62</td>\n",
              "      <td>4</td>\n",
              "      <td>45.83</td>\n",
              "      <td>6.96</td>\n",
              "      <td>15.61</td>\n",
              "      <td>no</td>\n",
              "    </tr>\n",
              "    <tr>\n",
              "      <th>22</th>\n",
              "      <td>62</td>\n",
              "      <td>5</td>\n",
              "      <td>46.77</td>\n",
              "      <td>6.66</td>\n",
              "      <td>15.91</td>\n",
              "      <td>no</td>\n",
              "    </tr>\n",
              "    <tr>\n",
              "      <th>23</th>\n",
              "      <td>62</td>\n",
              "      <td>6</td>\n",
              "      <td>47.88</td>\n",
              "      <td>6.34</td>\n",
              "      <td>15.64</td>\n",
              "      <td>no</td>\n",
              "    </tr>\n",
              "  </tbody>\n",
              "</table>\n",
              "</div>\n",
              "    <div class=\"colab-df-buttons\">\n",
              "\n",
              "  <div class=\"colab-df-container\">\n",
              "    <button class=\"colab-df-convert\" onclick=\"convertToInteractive('df-341691aa-0818-4cdb-85d8-30e0de9220f0')\"\n",
              "            title=\"Convert this dataframe to an interactive table.\"\n",
              "            style=\"display:none;\">\n",
              "\n",
              "  <svg xmlns=\"http://www.w3.org/2000/svg\" height=\"24px\" viewBox=\"0 -960 960 960\">\n",
              "    <path d=\"M120-120v-720h720v720H120Zm60-500h600v-160H180v160Zm220 220h160v-160H400v160Zm0 220h160v-160H400v160ZM180-400h160v-160H180v160Zm440 0h160v-160H620v160ZM180-180h160v-160H180v160Zm440 0h160v-160H620v160Z\"/>\n",
              "  </svg>\n",
              "    </button>\n",
              "\n",
              "  <style>\n",
              "    .colab-df-container {\n",
              "      display:flex;\n",
              "      gap: 12px;\n",
              "    }\n",
              "\n",
              "    .colab-df-convert {\n",
              "      background-color: #E8F0FE;\n",
              "      border: none;\n",
              "      border-radius: 50%;\n",
              "      cursor: pointer;\n",
              "      display: none;\n",
              "      fill: #1967D2;\n",
              "      height: 32px;\n",
              "      padding: 0 0 0 0;\n",
              "      width: 32px;\n",
              "    }\n",
              "\n",
              "    .colab-df-convert:hover {\n",
              "      background-color: #E2EBFA;\n",
              "      box-shadow: 0px 1px 2px rgba(60, 64, 67, 0.3), 0px 1px 3px 1px rgba(60, 64, 67, 0.15);\n",
              "      fill: #174EA6;\n",
              "    }\n",
              "\n",
              "    .colab-df-buttons div {\n",
              "      margin-bottom: 4px;\n",
              "    }\n",
              "\n",
              "    [theme=dark] .colab-df-convert {\n",
              "      background-color: #3B4455;\n",
              "      fill: #D2E3FC;\n",
              "    }\n",
              "\n",
              "    [theme=dark] .colab-df-convert:hover {\n",
              "      background-color: #434B5C;\n",
              "      box-shadow: 0px 1px 3px 1px rgba(0, 0, 0, 0.15);\n",
              "      filter: drop-shadow(0px 1px 2px rgba(0, 0, 0, 0.3));\n",
              "      fill: #FFFFFF;\n",
              "    }\n",
              "  </style>\n",
              "\n",
              "    <script>\n",
              "      const buttonEl =\n",
              "        document.querySelector('#df-341691aa-0818-4cdb-85d8-30e0de9220f0 button.colab-df-convert');\n",
              "      buttonEl.style.display =\n",
              "        google.colab.kernel.accessAllowed ? 'block' : 'none';\n",
              "\n",
              "      async function convertToInteractive(key) {\n",
              "        const element = document.querySelector('#df-341691aa-0818-4cdb-85d8-30e0de9220f0');\n",
              "        const dataTable =\n",
              "          await google.colab.kernel.invokeFunction('convertToInteractive',\n",
              "                                                    [key], {});\n",
              "        if (!dataTable) return;\n",
              "\n",
              "        const docLinkHtml = 'Like what you see? Visit the ' +\n",
              "          '<a target=\"_blank\" href=https://colab.research.google.com/notebooks/data_table.ipynb>data table notebook</a>'\n",
              "          + ' to learn more about interactive tables.';\n",
              "        element.innerHTML = '';\n",
              "        dataTable['output_type'] = 'display_data';\n",
              "        await google.colab.output.renderOutput(dataTable, element);\n",
              "        const docLink = document.createElement('div');\n",
              "        docLink.innerHTML = docLinkHtml;\n",
              "        element.appendChild(docLink);\n",
              "      }\n",
              "    </script>\n",
              "  </div>\n",
              "\n",
              "\n",
              "<div id=\"df-bf813385-2286-4906-a1ea-03f7575eb29d\">\n",
              "  <button class=\"colab-df-quickchart\" onclick=\"quickchart('df-bf813385-2286-4906-a1ea-03f7575eb29d')\"\n",
              "            title=\"Suggest charts\"\n",
              "            style=\"display:none;\">\n",
              "\n",
              "<svg xmlns=\"http://www.w3.org/2000/svg\" height=\"24px\"viewBox=\"0 0 24 24\"\n",
              "     width=\"24px\">\n",
              "    <g>\n",
              "        <path d=\"M19 3H5c-1.1 0-2 .9-2 2v14c0 1.1.9 2 2 2h14c1.1 0 2-.9 2-2V5c0-1.1-.9-2-2-2zM9 17H7v-7h2v7zm4 0h-2V7h2v10zm4 0h-2v-4h2v4z\"/>\n",
              "    </g>\n",
              "</svg>\n",
              "  </button>\n",
              "\n",
              "<style>\n",
              "  .colab-df-quickchart {\n",
              "      --bg-color: #E8F0FE;\n",
              "      --fill-color: #1967D2;\n",
              "      --hover-bg-color: #E2EBFA;\n",
              "      --hover-fill-color: #174EA6;\n",
              "      --disabled-fill-color: #AAA;\n",
              "      --disabled-bg-color: #DDD;\n",
              "  }\n",
              "\n",
              "  [theme=dark] .colab-df-quickchart {\n",
              "      --bg-color: #3B4455;\n",
              "      --fill-color: #D2E3FC;\n",
              "      --hover-bg-color: #434B5C;\n",
              "      --hover-fill-color: #FFFFFF;\n",
              "      --disabled-bg-color: #3B4455;\n",
              "      --disabled-fill-color: #666;\n",
              "  }\n",
              "\n",
              "  .colab-df-quickchart {\n",
              "    background-color: var(--bg-color);\n",
              "    border: none;\n",
              "    border-radius: 50%;\n",
              "    cursor: pointer;\n",
              "    display: none;\n",
              "    fill: var(--fill-color);\n",
              "    height: 32px;\n",
              "    padding: 0;\n",
              "    width: 32px;\n",
              "  }\n",
              "\n",
              "  .colab-df-quickchart:hover {\n",
              "    background-color: var(--hover-bg-color);\n",
              "    box-shadow: 0 1px 2px rgba(60, 64, 67, 0.3), 0 1px 3px 1px rgba(60, 64, 67, 0.15);\n",
              "    fill: var(--button-hover-fill-color);\n",
              "  }\n",
              "\n",
              "  .colab-df-quickchart-complete:disabled,\n",
              "  .colab-df-quickchart-complete:disabled:hover {\n",
              "    background-color: var(--disabled-bg-color);\n",
              "    fill: var(--disabled-fill-color);\n",
              "    box-shadow: none;\n",
              "  }\n",
              "\n",
              "  .colab-df-spinner {\n",
              "    border: 2px solid var(--fill-color);\n",
              "    border-color: transparent;\n",
              "    border-bottom-color: var(--fill-color);\n",
              "    animation:\n",
              "      spin 1s steps(1) infinite;\n",
              "  }\n",
              "\n",
              "  @keyframes spin {\n",
              "    0% {\n",
              "      border-color: transparent;\n",
              "      border-bottom-color: var(--fill-color);\n",
              "      border-left-color: var(--fill-color);\n",
              "    }\n",
              "    20% {\n",
              "      border-color: transparent;\n",
              "      border-left-color: var(--fill-color);\n",
              "      border-top-color: var(--fill-color);\n",
              "    }\n",
              "    30% {\n",
              "      border-color: transparent;\n",
              "      border-left-color: var(--fill-color);\n",
              "      border-top-color: var(--fill-color);\n",
              "      border-right-color: var(--fill-color);\n",
              "    }\n",
              "    40% {\n",
              "      border-color: transparent;\n",
              "      border-right-color: var(--fill-color);\n",
              "      border-top-color: var(--fill-color);\n",
              "    }\n",
              "    60% {\n",
              "      border-color: transparent;\n",
              "      border-right-color: var(--fill-color);\n",
              "    }\n",
              "    80% {\n",
              "      border-color: transparent;\n",
              "      border-right-color: var(--fill-color);\n",
              "      border-bottom-color: var(--fill-color);\n",
              "    }\n",
              "    90% {\n",
              "      border-color: transparent;\n",
              "      border-bottom-color: var(--fill-color);\n",
              "    }\n",
              "  }\n",
              "</style>\n",
              "\n",
              "  <script>\n",
              "    async function quickchart(key) {\n",
              "      const quickchartButtonEl =\n",
              "        document.querySelector('#' + key + ' button');\n",
              "      quickchartButtonEl.disabled = true;  // To prevent multiple clicks.\n",
              "      quickchartButtonEl.classList.add('colab-df-spinner');\n",
              "      try {\n",
              "        const charts = await google.colab.kernel.invokeFunction(\n",
              "            'suggestCharts', [key], {});\n",
              "      } catch (error) {\n",
              "        console.error('Error during call to suggestCharts:', error);\n",
              "      }\n",
              "      quickchartButtonEl.classList.remove('colab-df-spinner');\n",
              "      quickchartButtonEl.classList.add('colab-df-quickchart-complete');\n",
              "    }\n",
              "    (() => {\n",
              "      let quickchartButtonEl =\n",
              "        document.querySelector('#df-bf813385-2286-4906-a1ea-03f7575eb29d button');\n",
              "      quickchartButtonEl.style.display =\n",
              "        google.colab.kernel.accessAllowed ? 'block' : 'none';\n",
              "    })();\n",
              "  </script>\n",
              "</div>\n",
              "    </div>\n",
              "  </div>\n"
            ]
          },
          "metadata": {},
          "execution_count": 14
        }
      ]
    },
    {
      "cell_type": "markdown",
      "source": [
        "We can get a lot of summary statistics easily from a data frame using the `.describe()` method."
      ],
      "metadata": {
        "id": "WiTr-KbRlPzB"
      }
    },
    {
      "cell_type": "code",
      "source": [
        "cheese.describe()"
      ],
      "metadata": {
        "id": "VazS_4D7lP3T",
        "outputId": "36fd2823-f71a-4f92-fe02-de8c52a2769f",
        "colab": {
          "base_uri": "https://localhost:8080/",
          "height": 300
        }
      },
      "execution_count": 15,
      "outputs": [
        {
          "output_type": "execute_result",
          "data": {
            "text/plain": [
              "           syrup        rep          L          a          b\n",
              "count  24.000000  24.000000  24.000000  24.000000  24.000000\n",
              "mean   46.250000   3.500000  47.151667   6.800417  15.800417\n",
              "std    14.013193   1.744557   3.691321   0.559895   1.239907\n",
              "min    26.000000   1.000000  41.430000   6.090000  13.580000\n",
              "25%    38.000000   2.000000  45.035000   6.330000  15.312500\n",
              "50%    48.500000   3.500000  47.280000   6.750000  15.910000\n",
              "75%    56.750000   5.000000  49.360000   7.152500  16.497500\n",
              "max    62.000000   6.000000  52.730000   7.710000  17.590000"
            ],
            "text/html": [
              "\n",
              "  <div id=\"df-f006b4ac-b321-4ac3-8d4a-22a918a4833c\" class=\"colab-df-container\">\n",
              "    <div>\n",
              "<style scoped>\n",
              "    .dataframe tbody tr th:only-of-type {\n",
              "        vertical-align: middle;\n",
              "    }\n",
              "\n",
              "    .dataframe tbody tr th {\n",
              "        vertical-align: top;\n",
              "    }\n",
              "\n",
              "    .dataframe thead th {\n",
              "        text-align: right;\n",
              "    }\n",
              "</style>\n",
              "<table border=\"1\" class=\"dataframe\">\n",
              "  <thead>\n",
              "    <tr style=\"text-align: right;\">\n",
              "      <th></th>\n",
              "      <th>syrup</th>\n",
              "      <th>rep</th>\n",
              "      <th>L</th>\n",
              "      <th>a</th>\n",
              "      <th>b</th>\n",
              "    </tr>\n",
              "  </thead>\n",
              "  <tbody>\n",
              "    <tr>\n",
              "      <th>count</th>\n",
              "      <td>24.000000</td>\n",
              "      <td>24.000000</td>\n",
              "      <td>24.000000</td>\n",
              "      <td>24.000000</td>\n",
              "      <td>24.000000</td>\n",
              "    </tr>\n",
              "    <tr>\n",
              "      <th>mean</th>\n",
              "      <td>46.250000</td>\n",
              "      <td>3.500000</td>\n",
              "      <td>47.151667</td>\n",
              "      <td>6.800417</td>\n",
              "      <td>15.800417</td>\n",
              "    </tr>\n",
              "    <tr>\n",
              "      <th>std</th>\n",
              "      <td>14.013193</td>\n",
              "      <td>1.744557</td>\n",
              "      <td>3.691321</td>\n",
              "      <td>0.559895</td>\n",
              "      <td>1.239907</td>\n",
              "    </tr>\n",
              "    <tr>\n",
              "      <th>min</th>\n",
              "      <td>26.000000</td>\n",
              "      <td>1.000000</td>\n",
              "      <td>41.430000</td>\n",
              "      <td>6.090000</td>\n",
              "      <td>13.580000</td>\n",
              "    </tr>\n",
              "    <tr>\n",
              "      <th>25%</th>\n",
              "      <td>38.000000</td>\n",
              "      <td>2.000000</td>\n",
              "      <td>45.035000</td>\n",
              "      <td>6.330000</td>\n",
              "      <td>15.312500</td>\n",
              "    </tr>\n",
              "    <tr>\n",
              "      <th>50%</th>\n",
              "      <td>48.500000</td>\n",
              "      <td>3.500000</td>\n",
              "      <td>47.280000</td>\n",
              "      <td>6.750000</td>\n",
              "      <td>15.910000</td>\n",
              "    </tr>\n",
              "    <tr>\n",
              "      <th>75%</th>\n",
              "      <td>56.750000</td>\n",
              "      <td>5.000000</td>\n",
              "      <td>49.360000</td>\n",
              "      <td>7.152500</td>\n",
              "      <td>16.497500</td>\n",
              "    </tr>\n",
              "    <tr>\n",
              "      <th>max</th>\n",
              "      <td>62.000000</td>\n",
              "      <td>6.000000</td>\n",
              "      <td>52.730000</td>\n",
              "      <td>7.710000</td>\n",
              "      <td>17.590000</td>\n",
              "    </tr>\n",
              "  </tbody>\n",
              "</table>\n",
              "</div>\n",
              "    <div class=\"colab-df-buttons\">\n",
              "\n",
              "  <div class=\"colab-df-container\">\n",
              "    <button class=\"colab-df-convert\" onclick=\"convertToInteractive('df-f006b4ac-b321-4ac3-8d4a-22a918a4833c')\"\n",
              "            title=\"Convert this dataframe to an interactive table.\"\n",
              "            style=\"display:none;\">\n",
              "\n",
              "  <svg xmlns=\"http://www.w3.org/2000/svg\" height=\"24px\" viewBox=\"0 -960 960 960\">\n",
              "    <path d=\"M120-120v-720h720v720H120Zm60-500h600v-160H180v160Zm220 220h160v-160H400v160Zm0 220h160v-160H400v160ZM180-400h160v-160H180v160Zm440 0h160v-160H620v160ZM180-180h160v-160H180v160Zm440 0h160v-160H620v160Z\"/>\n",
              "  </svg>\n",
              "    </button>\n",
              "\n",
              "  <style>\n",
              "    .colab-df-container {\n",
              "      display:flex;\n",
              "      gap: 12px;\n",
              "    }\n",
              "\n",
              "    .colab-df-convert {\n",
              "      background-color: #E8F0FE;\n",
              "      border: none;\n",
              "      border-radius: 50%;\n",
              "      cursor: pointer;\n",
              "      display: none;\n",
              "      fill: #1967D2;\n",
              "      height: 32px;\n",
              "      padding: 0 0 0 0;\n",
              "      width: 32px;\n",
              "    }\n",
              "\n",
              "    .colab-df-convert:hover {\n",
              "      background-color: #E2EBFA;\n",
              "      box-shadow: 0px 1px 2px rgba(60, 64, 67, 0.3), 0px 1px 3px 1px rgba(60, 64, 67, 0.15);\n",
              "      fill: #174EA6;\n",
              "    }\n",
              "\n",
              "    .colab-df-buttons div {\n",
              "      margin-bottom: 4px;\n",
              "    }\n",
              "\n",
              "    [theme=dark] .colab-df-convert {\n",
              "      background-color: #3B4455;\n",
              "      fill: #D2E3FC;\n",
              "    }\n",
              "\n",
              "    [theme=dark] .colab-df-convert:hover {\n",
              "      background-color: #434B5C;\n",
              "      box-shadow: 0px 1px 3px 1px rgba(0, 0, 0, 0.15);\n",
              "      filter: drop-shadow(0px 1px 2px rgba(0, 0, 0, 0.3));\n",
              "      fill: #FFFFFF;\n",
              "    }\n",
              "  </style>\n",
              "\n",
              "    <script>\n",
              "      const buttonEl =\n",
              "        document.querySelector('#df-f006b4ac-b321-4ac3-8d4a-22a918a4833c button.colab-df-convert');\n",
              "      buttonEl.style.display =\n",
              "        google.colab.kernel.accessAllowed ? 'block' : 'none';\n",
              "\n",
              "      async function convertToInteractive(key) {\n",
              "        const element = document.querySelector('#df-f006b4ac-b321-4ac3-8d4a-22a918a4833c');\n",
              "        const dataTable =\n",
              "          await google.colab.kernel.invokeFunction('convertToInteractive',\n",
              "                                                    [key], {});\n",
              "        if (!dataTable) return;\n",
              "\n",
              "        const docLinkHtml = 'Like what you see? Visit the ' +\n",
              "          '<a target=\"_blank\" href=https://colab.research.google.com/notebooks/data_table.ipynb>data table notebook</a>'\n",
              "          + ' to learn more about interactive tables.';\n",
              "        element.innerHTML = '';\n",
              "        dataTable['output_type'] = 'display_data';\n",
              "        await google.colab.output.renderOutput(dataTable, element);\n",
              "        const docLink = document.createElement('div');\n",
              "        docLink.innerHTML = docLinkHtml;\n",
              "        element.appendChild(docLink);\n",
              "      }\n",
              "    </script>\n",
              "  </div>\n",
              "\n",
              "\n",
              "<div id=\"df-9474270a-74d8-455a-a7a6-4a9ffe6430e4\">\n",
              "  <button class=\"colab-df-quickchart\" onclick=\"quickchart('df-9474270a-74d8-455a-a7a6-4a9ffe6430e4')\"\n",
              "            title=\"Suggest charts\"\n",
              "            style=\"display:none;\">\n",
              "\n",
              "<svg xmlns=\"http://www.w3.org/2000/svg\" height=\"24px\"viewBox=\"0 0 24 24\"\n",
              "     width=\"24px\">\n",
              "    <g>\n",
              "        <path d=\"M19 3H5c-1.1 0-2 .9-2 2v14c0 1.1.9 2 2 2h14c1.1 0 2-.9 2-2V5c0-1.1-.9-2-2-2zM9 17H7v-7h2v7zm4 0h-2V7h2v10zm4 0h-2v-4h2v4z\"/>\n",
              "    </g>\n",
              "</svg>\n",
              "  </button>\n",
              "\n",
              "<style>\n",
              "  .colab-df-quickchart {\n",
              "      --bg-color: #E8F0FE;\n",
              "      --fill-color: #1967D2;\n",
              "      --hover-bg-color: #E2EBFA;\n",
              "      --hover-fill-color: #174EA6;\n",
              "      --disabled-fill-color: #AAA;\n",
              "      --disabled-bg-color: #DDD;\n",
              "  }\n",
              "\n",
              "  [theme=dark] .colab-df-quickchart {\n",
              "      --bg-color: #3B4455;\n",
              "      --fill-color: #D2E3FC;\n",
              "      --hover-bg-color: #434B5C;\n",
              "      --hover-fill-color: #FFFFFF;\n",
              "      --disabled-bg-color: #3B4455;\n",
              "      --disabled-fill-color: #666;\n",
              "  }\n",
              "\n",
              "  .colab-df-quickchart {\n",
              "    background-color: var(--bg-color);\n",
              "    border: none;\n",
              "    border-radius: 50%;\n",
              "    cursor: pointer;\n",
              "    display: none;\n",
              "    fill: var(--fill-color);\n",
              "    height: 32px;\n",
              "    padding: 0;\n",
              "    width: 32px;\n",
              "  }\n",
              "\n",
              "  .colab-df-quickchart:hover {\n",
              "    background-color: var(--hover-bg-color);\n",
              "    box-shadow: 0 1px 2px rgba(60, 64, 67, 0.3), 0 1px 3px 1px rgba(60, 64, 67, 0.15);\n",
              "    fill: var(--button-hover-fill-color);\n",
              "  }\n",
              "\n",
              "  .colab-df-quickchart-complete:disabled,\n",
              "  .colab-df-quickchart-complete:disabled:hover {\n",
              "    background-color: var(--disabled-bg-color);\n",
              "    fill: var(--disabled-fill-color);\n",
              "    box-shadow: none;\n",
              "  }\n",
              "\n",
              "  .colab-df-spinner {\n",
              "    border: 2px solid var(--fill-color);\n",
              "    border-color: transparent;\n",
              "    border-bottom-color: var(--fill-color);\n",
              "    animation:\n",
              "      spin 1s steps(1) infinite;\n",
              "  }\n",
              "\n",
              "  @keyframes spin {\n",
              "    0% {\n",
              "      border-color: transparent;\n",
              "      border-bottom-color: var(--fill-color);\n",
              "      border-left-color: var(--fill-color);\n",
              "    }\n",
              "    20% {\n",
              "      border-color: transparent;\n",
              "      border-left-color: var(--fill-color);\n",
              "      border-top-color: var(--fill-color);\n",
              "    }\n",
              "    30% {\n",
              "      border-color: transparent;\n",
              "      border-left-color: var(--fill-color);\n",
              "      border-top-color: var(--fill-color);\n",
              "      border-right-color: var(--fill-color);\n",
              "    }\n",
              "    40% {\n",
              "      border-color: transparent;\n",
              "      border-right-color: var(--fill-color);\n",
              "      border-top-color: var(--fill-color);\n",
              "    }\n",
              "    60% {\n",
              "      border-color: transparent;\n",
              "      border-right-color: var(--fill-color);\n",
              "    }\n",
              "    80% {\n",
              "      border-color: transparent;\n",
              "      border-right-color: var(--fill-color);\n",
              "      border-bottom-color: var(--fill-color);\n",
              "    }\n",
              "    90% {\n",
              "      border-color: transparent;\n",
              "      border-bottom-color: var(--fill-color);\n",
              "    }\n",
              "  }\n",
              "</style>\n",
              "\n",
              "  <script>\n",
              "    async function quickchart(key) {\n",
              "      const quickchartButtonEl =\n",
              "        document.querySelector('#' + key + ' button');\n",
              "      quickchartButtonEl.disabled = true;  // To prevent multiple clicks.\n",
              "      quickchartButtonEl.classList.add('colab-df-spinner');\n",
              "      try {\n",
              "        const charts = await google.colab.kernel.invokeFunction(\n",
              "            'suggestCharts', [key], {});\n",
              "      } catch (error) {\n",
              "        console.error('Error during call to suggestCharts:', error);\n",
              "      }\n",
              "      quickchartButtonEl.classList.remove('colab-df-spinner');\n",
              "      quickchartButtonEl.classList.add('colab-df-quickchart-complete');\n",
              "    }\n",
              "    (() => {\n",
              "      let quickchartButtonEl =\n",
              "        document.querySelector('#df-9474270a-74d8-455a-a7a6-4a9ffe6430e4 button');\n",
              "      quickchartButtonEl.style.display =\n",
              "        google.colab.kernel.accessAllowed ? 'block' : 'none';\n",
              "    })();\n",
              "  </script>\n",
              "</div>\n",
              "    </div>\n",
              "  </div>\n"
            ]
          },
          "metadata": {},
          "execution_count": 15
        }
      ]
    },
    {
      "cell_type": "markdown",
      "source": [
        "## Reading Raw Data with Pandas\n",
        "\n",
        "Below we'll check our working directory and then read in a SAS file using `read_sas()` from `pandas`."
      ],
      "metadata": {
        "id": "rcjDYtuelP7V"
      }
    },
    {
      "cell_type": "code",
      "source": [
        "import os\n",
        "os.getcwd()"
      ],
      "metadata": {
        "id": "5tLD4juinybh",
        "outputId": "6e0c809d-dab3-4516-e690-699a62043ad7",
        "colab": {
          "base_uri": "https://localhost:8080/",
          "height": 35
        }
      },
      "execution_count": 16,
      "outputs": [
        {
          "output_type": "execute_result",
          "data": {
            "text/plain": [
              "'/content'"
            ],
            "application/vnd.google.colaboratory.intrinsic+json": {
              "type": "string"
            }
          },
          "metadata": {},
          "execution_count": 16
        }
      ]
    },
    {
      "cell_type": "code",
      "source": [
        "pd.read_sas(\"air.sas7bdat\")"
      ],
      "metadata": {
        "id": "HA8fTUTSoXua",
        "outputId": "5feb4b69-fab5-43fd-c9d9-65a57e26018b",
        "colab": {
          "base_uri": "https://localhost:8080/",
          "height": 424
        }
      },
      "execution_count": 17,
      "outputs": [
        {
          "output_type": "execute_result",
          "data": {
            "text/plain": [
              "          DATE    AIR\n",
              "0   1949-01-01  112.0\n",
              "1   1949-02-01  118.0\n",
              "2   1949-03-01  132.0\n",
              "3   1949-04-01  129.0\n",
              "4   1949-05-01  121.0\n",
              "..         ...    ...\n",
              "139 1960-08-01  606.0\n",
              "140 1960-09-01  508.0\n",
              "141 1960-10-01  461.0\n",
              "142 1960-11-01  390.0\n",
              "143 1960-12-01  432.0\n",
              "\n",
              "[144 rows x 2 columns]"
            ],
            "text/html": [
              "\n",
              "  <div id=\"df-683a9067-b16d-432b-ac0f-241ff4480686\" class=\"colab-df-container\">\n",
              "    <div>\n",
              "<style scoped>\n",
              "    .dataframe tbody tr th:only-of-type {\n",
              "        vertical-align: middle;\n",
              "    }\n",
              "\n",
              "    .dataframe tbody tr th {\n",
              "        vertical-align: top;\n",
              "    }\n",
              "\n",
              "    .dataframe thead th {\n",
              "        text-align: right;\n",
              "    }\n",
              "</style>\n",
              "<table border=\"1\" class=\"dataframe\">\n",
              "  <thead>\n",
              "    <tr style=\"text-align: right;\">\n",
              "      <th></th>\n",
              "      <th>DATE</th>\n",
              "      <th>AIR</th>\n",
              "    </tr>\n",
              "  </thead>\n",
              "  <tbody>\n",
              "    <tr>\n",
              "      <th>0</th>\n",
              "      <td>1949-01-01</td>\n",
              "      <td>112.0</td>\n",
              "    </tr>\n",
              "    <tr>\n",
              "      <th>1</th>\n",
              "      <td>1949-02-01</td>\n",
              "      <td>118.0</td>\n",
              "    </tr>\n",
              "    <tr>\n",
              "      <th>2</th>\n",
              "      <td>1949-03-01</td>\n",
              "      <td>132.0</td>\n",
              "    </tr>\n",
              "    <tr>\n",
              "      <th>3</th>\n",
              "      <td>1949-04-01</td>\n",
              "      <td>129.0</td>\n",
              "    </tr>\n",
              "    <tr>\n",
              "      <th>4</th>\n",
              "      <td>1949-05-01</td>\n",
              "      <td>121.0</td>\n",
              "    </tr>\n",
              "    <tr>\n",
              "      <th>...</th>\n",
              "      <td>...</td>\n",
              "      <td>...</td>\n",
              "    </tr>\n",
              "    <tr>\n",
              "      <th>139</th>\n",
              "      <td>1960-08-01</td>\n",
              "      <td>606.0</td>\n",
              "    </tr>\n",
              "    <tr>\n",
              "      <th>140</th>\n",
              "      <td>1960-09-01</td>\n",
              "      <td>508.0</td>\n",
              "    </tr>\n",
              "    <tr>\n",
              "      <th>141</th>\n",
              "      <td>1960-10-01</td>\n",
              "      <td>461.0</td>\n",
              "    </tr>\n",
              "    <tr>\n",
              "      <th>142</th>\n",
              "      <td>1960-11-01</td>\n",
              "      <td>390.0</td>\n",
              "    </tr>\n",
              "    <tr>\n",
              "      <th>143</th>\n",
              "      <td>1960-12-01</td>\n",
              "      <td>432.0</td>\n",
              "    </tr>\n",
              "  </tbody>\n",
              "</table>\n",
              "<p>144 rows × 2 columns</p>\n",
              "</div>\n",
              "    <div class=\"colab-df-buttons\">\n",
              "\n",
              "  <div class=\"colab-df-container\">\n",
              "    <button class=\"colab-df-convert\" onclick=\"convertToInteractive('df-683a9067-b16d-432b-ac0f-241ff4480686')\"\n",
              "            title=\"Convert this dataframe to an interactive table.\"\n",
              "            style=\"display:none;\">\n",
              "\n",
              "  <svg xmlns=\"http://www.w3.org/2000/svg\" height=\"24px\" viewBox=\"0 -960 960 960\">\n",
              "    <path d=\"M120-120v-720h720v720H120Zm60-500h600v-160H180v160Zm220 220h160v-160H400v160Zm0 220h160v-160H400v160ZM180-400h160v-160H180v160Zm440 0h160v-160H620v160ZM180-180h160v-160H180v160Zm440 0h160v-160H620v160Z\"/>\n",
              "  </svg>\n",
              "    </button>\n",
              "\n",
              "  <style>\n",
              "    .colab-df-container {\n",
              "      display:flex;\n",
              "      gap: 12px;\n",
              "    }\n",
              "\n",
              "    .colab-df-convert {\n",
              "      background-color: #E8F0FE;\n",
              "      border: none;\n",
              "      border-radius: 50%;\n",
              "      cursor: pointer;\n",
              "      display: none;\n",
              "      fill: #1967D2;\n",
              "      height: 32px;\n",
              "      padding: 0 0 0 0;\n",
              "      width: 32px;\n",
              "    }\n",
              "\n",
              "    .colab-df-convert:hover {\n",
              "      background-color: #E2EBFA;\n",
              "      box-shadow: 0px 1px 2px rgba(60, 64, 67, 0.3), 0px 1px 3px 1px rgba(60, 64, 67, 0.15);\n",
              "      fill: #174EA6;\n",
              "    }\n",
              "\n",
              "    .colab-df-buttons div {\n",
              "      margin-bottom: 4px;\n",
              "    }\n",
              "\n",
              "    [theme=dark] .colab-df-convert {\n",
              "      background-color: #3B4455;\n",
              "      fill: #D2E3FC;\n",
              "    }\n",
              "\n",
              "    [theme=dark] .colab-df-convert:hover {\n",
              "      background-color: #434B5C;\n",
              "      box-shadow: 0px 1px 3px 1px rgba(0, 0, 0, 0.15);\n",
              "      filter: drop-shadow(0px 1px 2px rgba(0, 0, 0, 0.3));\n",
              "      fill: #FFFFFF;\n",
              "    }\n",
              "  </style>\n",
              "\n",
              "    <script>\n",
              "      const buttonEl =\n",
              "        document.querySelector('#df-683a9067-b16d-432b-ac0f-241ff4480686 button.colab-df-convert');\n",
              "      buttonEl.style.display =\n",
              "        google.colab.kernel.accessAllowed ? 'block' : 'none';\n",
              "\n",
              "      async function convertToInteractive(key) {\n",
              "        const element = document.querySelector('#df-683a9067-b16d-432b-ac0f-241ff4480686');\n",
              "        const dataTable =\n",
              "          await google.colab.kernel.invokeFunction('convertToInteractive',\n",
              "                                                    [key], {});\n",
              "        if (!dataTable) return;\n",
              "\n",
              "        const docLinkHtml = 'Like what you see? Visit the ' +\n",
              "          '<a target=\"_blank\" href=https://colab.research.google.com/notebooks/data_table.ipynb>data table notebook</a>'\n",
              "          + ' to learn more about interactive tables.';\n",
              "        element.innerHTML = '';\n",
              "        dataTable['output_type'] = 'display_data';\n",
              "        await google.colab.output.renderOutput(dataTable, element);\n",
              "        const docLink = document.createElement('div');\n",
              "        docLink.innerHTML = docLinkHtml;\n",
              "        element.appendChild(docLink);\n",
              "      }\n",
              "    </script>\n",
              "  </div>\n",
              "\n",
              "\n",
              "<div id=\"df-22d0dc55-8d47-4d77-94ea-ddbcc43e99c9\">\n",
              "  <button class=\"colab-df-quickchart\" onclick=\"quickchart('df-22d0dc55-8d47-4d77-94ea-ddbcc43e99c9')\"\n",
              "            title=\"Suggest charts\"\n",
              "            style=\"display:none;\">\n",
              "\n",
              "<svg xmlns=\"http://www.w3.org/2000/svg\" height=\"24px\"viewBox=\"0 0 24 24\"\n",
              "     width=\"24px\">\n",
              "    <g>\n",
              "        <path d=\"M19 3H5c-1.1 0-2 .9-2 2v14c0 1.1.9 2 2 2h14c1.1 0 2-.9 2-2V5c0-1.1-.9-2-2-2zM9 17H7v-7h2v7zm4 0h-2V7h2v10zm4 0h-2v-4h2v4z\"/>\n",
              "    </g>\n",
              "</svg>\n",
              "  </button>\n",
              "\n",
              "<style>\n",
              "  .colab-df-quickchart {\n",
              "      --bg-color: #E8F0FE;\n",
              "      --fill-color: #1967D2;\n",
              "      --hover-bg-color: #E2EBFA;\n",
              "      --hover-fill-color: #174EA6;\n",
              "      --disabled-fill-color: #AAA;\n",
              "      --disabled-bg-color: #DDD;\n",
              "  }\n",
              "\n",
              "  [theme=dark] .colab-df-quickchart {\n",
              "      --bg-color: #3B4455;\n",
              "      --fill-color: #D2E3FC;\n",
              "      --hover-bg-color: #434B5C;\n",
              "      --hover-fill-color: #FFFFFF;\n",
              "      --disabled-bg-color: #3B4455;\n",
              "      --disabled-fill-color: #666;\n",
              "  }\n",
              "\n",
              "  .colab-df-quickchart {\n",
              "    background-color: var(--bg-color);\n",
              "    border: none;\n",
              "    border-radius: 50%;\n",
              "    cursor: pointer;\n",
              "    display: none;\n",
              "    fill: var(--fill-color);\n",
              "    height: 32px;\n",
              "    padding: 0;\n",
              "    width: 32px;\n",
              "  }\n",
              "\n",
              "  .colab-df-quickchart:hover {\n",
              "    background-color: var(--hover-bg-color);\n",
              "    box-shadow: 0 1px 2px rgba(60, 64, 67, 0.3), 0 1px 3px 1px rgba(60, 64, 67, 0.15);\n",
              "    fill: var(--button-hover-fill-color);\n",
              "  }\n",
              "\n",
              "  .colab-df-quickchart-complete:disabled,\n",
              "  .colab-df-quickchart-complete:disabled:hover {\n",
              "    background-color: var(--disabled-bg-color);\n",
              "    fill: var(--disabled-fill-color);\n",
              "    box-shadow: none;\n",
              "  }\n",
              "\n",
              "  .colab-df-spinner {\n",
              "    border: 2px solid var(--fill-color);\n",
              "    border-color: transparent;\n",
              "    border-bottom-color: var(--fill-color);\n",
              "    animation:\n",
              "      spin 1s steps(1) infinite;\n",
              "  }\n",
              "\n",
              "  @keyframes spin {\n",
              "    0% {\n",
              "      border-color: transparent;\n",
              "      border-bottom-color: var(--fill-color);\n",
              "      border-left-color: var(--fill-color);\n",
              "    }\n",
              "    20% {\n",
              "      border-color: transparent;\n",
              "      border-left-color: var(--fill-color);\n",
              "      border-top-color: var(--fill-color);\n",
              "    }\n",
              "    30% {\n",
              "      border-color: transparent;\n",
              "      border-left-color: var(--fill-color);\n",
              "      border-top-color: var(--fill-color);\n",
              "      border-right-color: var(--fill-color);\n",
              "    }\n",
              "    40% {\n",
              "      border-color: transparent;\n",
              "      border-right-color: var(--fill-color);\n",
              "      border-top-color: var(--fill-color);\n",
              "    }\n",
              "    60% {\n",
              "      border-color: transparent;\n",
              "      border-right-color: var(--fill-color);\n",
              "    }\n",
              "    80% {\n",
              "      border-color: transparent;\n",
              "      border-right-color: var(--fill-color);\n",
              "      border-bottom-color: var(--fill-color);\n",
              "    }\n",
              "    90% {\n",
              "      border-color: transparent;\n",
              "      border-bottom-color: var(--fill-color);\n",
              "    }\n",
              "  }\n",
              "</style>\n",
              "\n",
              "  <script>\n",
              "    async function quickchart(key) {\n",
              "      const quickchartButtonEl =\n",
              "        document.querySelector('#' + key + ' button');\n",
              "      quickchartButtonEl.disabled = true;  // To prevent multiple clicks.\n",
              "      quickchartButtonEl.classList.add('colab-df-spinner');\n",
              "      try {\n",
              "        const charts = await google.colab.kernel.invokeFunction(\n",
              "            'suggestCharts', [key], {});\n",
              "      } catch (error) {\n",
              "        console.error('Error during call to suggestCharts:', error);\n",
              "      }\n",
              "      quickchartButtonEl.classList.remove('colab-df-spinner');\n",
              "      quickchartButtonEl.classList.add('colab-df-quickchart-complete');\n",
              "    }\n",
              "    (() => {\n",
              "      let quickchartButtonEl =\n",
              "        document.querySelector('#df-22d0dc55-8d47-4d77-94ea-ddbcc43e99c9 button');\n",
              "      quickchartButtonEl.style.display =\n",
              "        google.colab.kernel.accessAllowed ? 'block' : 'none';\n",
              "    })();\n",
              "  </script>\n",
              "</div>\n",
              "    </div>\n",
              "  </div>\n"
            ]
          },
          "metadata": {},
          "execution_count": 17
        }
      ]
    },
    {
      "cell_type": "markdown",
      "source": [
        "## Numerical Summaries"
      ],
      "metadata": {
        "id": "IiEVPva3opLZ"
      }
    },
    {
      "cell_type": "markdown",
      "source": [
        "### Contingency Tables\n",
        "\n",
        "We'll import `pandas` and read in a data set about NFL games.  The data has information about games from 2002 to 2014.  Each row represents one game and each column a variable measured on that game.\n",
        "\n",
        "Available here:\n",
        "https://www4.stat.ncsu.edu/~online/datasets/scoresFull.csv"
      ],
      "metadata": {
        "id": "BeHYW1YRo5ho"
      }
    },
    {
      "cell_type": "code",
      "source": [
        "import pandas as pd\n",
        "scores = pd.read_csv(\"https://www4.stat.ncsu.edu/~online/datasets/scoresFull.csv\")\n",
        "scores.head()"
      ],
      "metadata": {
        "id": "gwhfIzwAo6C4",
        "outputId": "457ffe92-796e-46b9-91f1-431c4e33bb46",
        "colab": {
          "base_uri": "https://localhost:8080/",
          "height": 377
        }
      },
      "execution_count": 18,
      "outputs": [
        {
          "output_type": "execute_result",
          "data": {
            "text/plain": [
              "  week   date  day  season             awayTeam  AQ1  AQ2  AQ3  AQ4  AOT  ...  \\\n",
              "0    1  5-Sep  Thu    2002  San Francisco 49ers    3    0    7    6   -1  ...   \n",
              "1    1  8-Sep  Sun    2002    Minnesota Vikings    3   17    0    3   -1  ...   \n",
              "2    1  8-Sep  Sun    2002   New Orleans Saints    6    7    7    0    6  ...   \n",
              "3    1  8-Sep  Sun    2002        New York Jets    0   17    3   11    6  ...   \n",
              "4    1  8-Sep  Sun    2002    Arizona Cardinals   10    3    3    7   -1  ...   \n",
              "\n",
              "   homeFumLost  homeNumPen homePenYds  home3rdConv  home3rdAtt  home4thConv  \\\n",
              "0            0          10         80            4           8            0   \n",
              "1            1           4         33            2           6            0   \n",
              "2            0           8         85            1           6            0   \n",
              "3            1          10         82            4           8            2   \n",
              "4            0           7         56            6          10            1   \n",
              "\n",
              "   home4thAtt  homeTOP  HminusAScore  homeSpread  \n",
              "0           1    32.47            -3        -4.0  \n",
              "1           0    28.48             4         4.5  \n",
              "2           1    31.48            -6         6.0  \n",
              "3           2    39.13            -6        -3.0  \n",
              "4           2    34.40             8         6.0  \n",
              "\n",
              "[5 rows x 82 columns]"
            ],
            "text/html": [
              "\n",
              "  <div id=\"df-4376809b-a408-4284-9f5a-70995ef401f3\" class=\"colab-df-container\">\n",
              "    <div>\n",
              "<style scoped>\n",
              "    .dataframe tbody tr th:only-of-type {\n",
              "        vertical-align: middle;\n",
              "    }\n",
              "\n",
              "    .dataframe tbody tr th {\n",
              "        vertical-align: top;\n",
              "    }\n",
              "\n",
              "    .dataframe thead th {\n",
              "        text-align: right;\n",
              "    }\n",
              "</style>\n",
              "<table border=\"1\" class=\"dataframe\">\n",
              "  <thead>\n",
              "    <tr style=\"text-align: right;\">\n",
              "      <th></th>\n",
              "      <th>week</th>\n",
              "      <th>date</th>\n",
              "      <th>day</th>\n",
              "      <th>season</th>\n",
              "      <th>awayTeam</th>\n",
              "      <th>AQ1</th>\n",
              "      <th>AQ2</th>\n",
              "      <th>AQ3</th>\n",
              "      <th>AQ4</th>\n",
              "      <th>AOT</th>\n",
              "      <th>...</th>\n",
              "      <th>homeFumLost</th>\n",
              "      <th>homeNumPen</th>\n",
              "      <th>homePenYds</th>\n",
              "      <th>home3rdConv</th>\n",
              "      <th>home3rdAtt</th>\n",
              "      <th>home4thConv</th>\n",
              "      <th>home4thAtt</th>\n",
              "      <th>homeTOP</th>\n",
              "      <th>HminusAScore</th>\n",
              "      <th>homeSpread</th>\n",
              "    </tr>\n",
              "  </thead>\n",
              "  <tbody>\n",
              "    <tr>\n",
              "      <th>0</th>\n",
              "      <td>1</td>\n",
              "      <td>5-Sep</td>\n",
              "      <td>Thu</td>\n",
              "      <td>2002</td>\n",
              "      <td>San Francisco 49ers</td>\n",
              "      <td>3</td>\n",
              "      <td>0</td>\n",
              "      <td>7</td>\n",
              "      <td>6</td>\n",
              "      <td>-1</td>\n",
              "      <td>...</td>\n",
              "      <td>0</td>\n",
              "      <td>10</td>\n",
              "      <td>80</td>\n",
              "      <td>4</td>\n",
              "      <td>8</td>\n",
              "      <td>0</td>\n",
              "      <td>1</td>\n",
              "      <td>32.47</td>\n",
              "      <td>-3</td>\n",
              "      <td>-4.0</td>\n",
              "    </tr>\n",
              "    <tr>\n",
              "      <th>1</th>\n",
              "      <td>1</td>\n",
              "      <td>8-Sep</td>\n",
              "      <td>Sun</td>\n",
              "      <td>2002</td>\n",
              "      <td>Minnesota Vikings</td>\n",
              "      <td>3</td>\n",
              "      <td>17</td>\n",
              "      <td>0</td>\n",
              "      <td>3</td>\n",
              "      <td>-1</td>\n",
              "      <td>...</td>\n",
              "      <td>1</td>\n",
              "      <td>4</td>\n",
              "      <td>33</td>\n",
              "      <td>2</td>\n",
              "      <td>6</td>\n",
              "      <td>0</td>\n",
              "      <td>0</td>\n",
              "      <td>28.48</td>\n",
              "      <td>4</td>\n",
              "      <td>4.5</td>\n",
              "    </tr>\n",
              "    <tr>\n",
              "      <th>2</th>\n",
              "      <td>1</td>\n",
              "      <td>8-Sep</td>\n",
              "      <td>Sun</td>\n",
              "      <td>2002</td>\n",
              "      <td>New Orleans Saints</td>\n",
              "      <td>6</td>\n",
              "      <td>7</td>\n",
              "      <td>7</td>\n",
              "      <td>0</td>\n",
              "      <td>6</td>\n",
              "      <td>...</td>\n",
              "      <td>0</td>\n",
              "      <td>8</td>\n",
              "      <td>85</td>\n",
              "      <td>1</td>\n",
              "      <td>6</td>\n",
              "      <td>0</td>\n",
              "      <td>1</td>\n",
              "      <td>31.48</td>\n",
              "      <td>-6</td>\n",
              "      <td>6.0</td>\n",
              "    </tr>\n",
              "    <tr>\n",
              "      <th>3</th>\n",
              "      <td>1</td>\n",
              "      <td>8-Sep</td>\n",
              "      <td>Sun</td>\n",
              "      <td>2002</td>\n",
              "      <td>New York Jets</td>\n",
              "      <td>0</td>\n",
              "      <td>17</td>\n",
              "      <td>3</td>\n",
              "      <td>11</td>\n",
              "      <td>6</td>\n",
              "      <td>...</td>\n",
              "      <td>1</td>\n",
              "      <td>10</td>\n",
              "      <td>82</td>\n",
              "      <td>4</td>\n",
              "      <td>8</td>\n",
              "      <td>2</td>\n",
              "      <td>2</td>\n",
              "      <td>39.13</td>\n",
              "      <td>-6</td>\n",
              "      <td>-3.0</td>\n",
              "    </tr>\n",
              "    <tr>\n",
              "      <th>4</th>\n",
              "      <td>1</td>\n",
              "      <td>8-Sep</td>\n",
              "      <td>Sun</td>\n",
              "      <td>2002</td>\n",
              "      <td>Arizona Cardinals</td>\n",
              "      <td>10</td>\n",
              "      <td>3</td>\n",
              "      <td>3</td>\n",
              "      <td>7</td>\n",
              "      <td>-1</td>\n",
              "      <td>...</td>\n",
              "      <td>0</td>\n",
              "      <td>7</td>\n",
              "      <td>56</td>\n",
              "      <td>6</td>\n",
              "      <td>10</td>\n",
              "      <td>1</td>\n",
              "      <td>2</td>\n",
              "      <td>34.40</td>\n",
              "      <td>8</td>\n",
              "      <td>6.0</td>\n",
              "    </tr>\n",
              "  </tbody>\n",
              "</table>\n",
              "<p>5 rows × 82 columns</p>\n",
              "</div>\n",
              "    <div class=\"colab-df-buttons\">\n",
              "\n",
              "  <div class=\"colab-df-container\">\n",
              "    <button class=\"colab-df-convert\" onclick=\"convertToInteractive('df-4376809b-a408-4284-9f5a-70995ef401f3')\"\n",
              "            title=\"Convert this dataframe to an interactive table.\"\n",
              "            style=\"display:none;\">\n",
              "\n",
              "  <svg xmlns=\"http://www.w3.org/2000/svg\" height=\"24px\" viewBox=\"0 -960 960 960\">\n",
              "    <path d=\"M120-120v-720h720v720H120Zm60-500h600v-160H180v160Zm220 220h160v-160H400v160Zm0 220h160v-160H400v160ZM180-400h160v-160H180v160Zm440 0h160v-160H620v160ZM180-180h160v-160H180v160Zm440 0h160v-160H620v160Z\"/>\n",
              "  </svg>\n",
              "    </button>\n",
              "\n",
              "  <style>\n",
              "    .colab-df-container {\n",
              "      display:flex;\n",
              "      gap: 12px;\n",
              "    }\n",
              "\n",
              "    .colab-df-convert {\n",
              "      background-color: #E8F0FE;\n",
              "      border: none;\n",
              "      border-radius: 50%;\n",
              "      cursor: pointer;\n",
              "      display: none;\n",
              "      fill: #1967D2;\n",
              "      height: 32px;\n",
              "      padding: 0 0 0 0;\n",
              "      width: 32px;\n",
              "    }\n",
              "\n",
              "    .colab-df-convert:hover {\n",
              "      background-color: #E2EBFA;\n",
              "      box-shadow: 0px 1px 2px rgba(60, 64, 67, 0.3), 0px 1px 3px 1px rgba(60, 64, 67, 0.15);\n",
              "      fill: #174EA6;\n",
              "    }\n",
              "\n",
              "    .colab-df-buttons div {\n",
              "      margin-bottom: 4px;\n",
              "    }\n",
              "\n",
              "    [theme=dark] .colab-df-convert {\n",
              "      background-color: #3B4455;\n",
              "      fill: #D2E3FC;\n",
              "    }\n",
              "\n",
              "    [theme=dark] .colab-df-convert:hover {\n",
              "      background-color: #434B5C;\n",
              "      box-shadow: 0px 1px 3px 1px rgba(0, 0, 0, 0.15);\n",
              "      filter: drop-shadow(0px 1px 2px rgba(0, 0, 0, 0.3));\n",
              "      fill: #FFFFFF;\n",
              "    }\n",
              "  </style>\n",
              "\n",
              "    <script>\n",
              "      const buttonEl =\n",
              "        document.querySelector('#df-4376809b-a408-4284-9f5a-70995ef401f3 button.colab-df-convert');\n",
              "      buttonEl.style.display =\n",
              "        google.colab.kernel.accessAllowed ? 'block' : 'none';\n",
              "\n",
              "      async function convertToInteractive(key) {\n",
              "        const element = document.querySelector('#df-4376809b-a408-4284-9f5a-70995ef401f3');\n",
              "        const dataTable =\n",
              "          await google.colab.kernel.invokeFunction('convertToInteractive',\n",
              "                                                    [key], {});\n",
              "        if (!dataTable) return;\n",
              "\n",
              "        const docLinkHtml = 'Like what you see? Visit the ' +\n",
              "          '<a target=\"_blank\" href=https://colab.research.google.com/notebooks/data_table.ipynb>data table notebook</a>'\n",
              "          + ' to learn more about interactive tables.';\n",
              "        element.innerHTML = '';\n",
              "        dataTable['output_type'] = 'display_data';\n",
              "        await google.colab.output.renderOutput(dataTable, element);\n",
              "        const docLink = document.createElement('div');\n",
              "        docLink.innerHTML = docLinkHtml;\n",
              "        element.appendChild(docLink);\n",
              "      }\n",
              "    </script>\n",
              "  </div>\n",
              "\n",
              "\n",
              "<div id=\"df-5eb8f9d0-15d9-44f5-9234-fe0196334e1d\">\n",
              "  <button class=\"colab-df-quickchart\" onclick=\"quickchart('df-5eb8f9d0-15d9-44f5-9234-fe0196334e1d')\"\n",
              "            title=\"Suggest charts\"\n",
              "            style=\"display:none;\">\n",
              "\n",
              "<svg xmlns=\"http://www.w3.org/2000/svg\" height=\"24px\"viewBox=\"0 0 24 24\"\n",
              "     width=\"24px\">\n",
              "    <g>\n",
              "        <path d=\"M19 3H5c-1.1 0-2 .9-2 2v14c0 1.1.9 2 2 2h14c1.1 0 2-.9 2-2V5c0-1.1-.9-2-2-2zM9 17H7v-7h2v7zm4 0h-2V7h2v10zm4 0h-2v-4h2v4z\"/>\n",
              "    </g>\n",
              "</svg>\n",
              "  </button>\n",
              "\n",
              "<style>\n",
              "  .colab-df-quickchart {\n",
              "      --bg-color: #E8F0FE;\n",
              "      --fill-color: #1967D2;\n",
              "      --hover-bg-color: #E2EBFA;\n",
              "      --hover-fill-color: #174EA6;\n",
              "      --disabled-fill-color: #AAA;\n",
              "      --disabled-bg-color: #DDD;\n",
              "  }\n",
              "\n",
              "  [theme=dark] .colab-df-quickchart {\n",
              "      --bg-color: #3B4455;\n",
              "      --fill-color: #D2E3FC;\n",
              "      --hover-bg-color: #434B5C;\n",
              "      --hover-fill-color: #FFFFFF;\n",
              "      --disabled-bg-color: #3B4455;\n",
              "      --disabled-fill-color: #666;\n",
              "  }\n",
              "\n",
              "  .colab-df-quickchart {\n",
              "    background-color: var(--bg-color);\n",
              "    border: none;\n",
              "    border-radius: 50%;\n",
              "    cursor: pointer;\n",
              "    display: none;\n",
              "    fill: var(--fill-color);\n",
              "    height: 32px;\n",
              "    padding: 0;\n",
              "    width: 32px;\n",
              "  }\n",
              "\n",
              "  .colab-df-quickchart:hover {\n",
              "    background-color: var(--hover-bg-color);\n",
              "    box-shadow: 0 1px 2px rgba(60, 64, 67, 0.3), 0 1px 3px 1px rgba(60, 64, 67, 0.15);\n",
              "    fill: var(--button-hover-fill-color);\n",
              "  }\n",
              "\n",
              "  .colab-df-quickchart-complete:disabled,\n",
              "  .colab-df-quickchart-complete:disabled:hover {\n",
              "    background-color: var(--disabled-bg-color);\n",
              "    fill: var(--disabled-fill-color);\n",
              "    box-shadow: none;\n",
              "  }\n",
              "\n",
              "  .colab-df-spinner {\n",
              "    border: 2px solid var(--fill-color);\n",
              "    border-color: transparent;\n",
              "    border-bottom-color: var(--fill-color);\n",
              "    animation:\n",
              "      spin 1s steps(1) infinite;\n",
              "  }\n",
              "\n",
              "  @keyframes spin {\n",
              "    0% {\n",
              "      border-color: transparent;\n",
              "      border-bottom-color: var(--fill-color);\n",
              "      border-left-color: var(--fill-color);\n",
              "    }\n",
              "    20% {\n",
              "      border-color: transparent;\n",
              "      border-left-color: var(--fill-color);\n",
              "      border-top-color: var(--fill-color);\n",
              "    }\n",
              "    30% {\n",
              "      border-color: transparent;\n",
              "      border-left-color: var(--fill-color);\n",
              "      border-top-color: var(--fill-color);\n",
              "      border-right-color: var(--fill-color);\n",
              "    }\n",
              "    40% {\n",
              "      border-color: transparent;\n",
              "      border-right-color: var(--fill-color);\n",
              "      border-top-color: var(--fill-color);\n",
              "    }\n",
              "    60% {\n",
              "      border-color: transparent;\n",
              "      border-right-color: var(--fill-color);\n",
              "    }\n",
              "    80% {\n",
              "      border-color: transparent;\n",
              "      border-right-color: var(--fill-color);\n",
              "      border-bottom-color: var(--fill-color);\n",
              "    }\n",
              "    90% {\n",
              "      border-color: transparent;\n",
              "      border-bottom-color: var(--fill-color);\n",
              "    }\n",
              "  }\n",
              "</style>\n",
              "\n",
              "  <script>\n",
              "    async function quickchart(key) {\n",
              "      const quickchartButtonEl =\n",
              "        document.querySelector('#' + key + ' button');\n",
              "      quickchartButtonEl.disabled = true;  // To prevent multiple clicks.\n",
              "      quickchartButtonEl.classList.add('colab-df-spinner');\n",
              "      try {\n",
              "        const charts = await google.colab.kernel.invokeFunction(\n",
              "            'suggestCharts', [key], {});\n",
              "      } catch (error) {\n",
              "        console.error('Error during call to suggestCharts:', error);\n",
              "      }\n",
              "      quickchartButtonEl.classList.remove('colab-df-spinner');\n",
              "      quickchartButtonEl.classList.add('colab-df-quickchart-complete');\n",
              "    }\n",
              "    (() => {\n",
              "      let quickchartButtonEl =\n",
              "        document.querySelector('#df-5eb8f9d0-15d9-44f5-9234-fe0196334e1d button');\n",
              "      quickchartButtonEl.style.display =\n",
              "        google.colab.kernel.accessAllowed ? 'block' : 'none';\n",
              "    })();\n",
              "  </script>\n",
              "</div>\n",
              "    </div>\n",
              "  </div>\n"
            ]
          },
          "metadata": {},
          "execution_count": 18
        }
      ]
    },
    {
      "cell_type": "markdown",
      "source": [
        "We can use the `pd.cut()` function to take a numeric variable and chop it up into groups. *Note: generally splitting a numeric variable into categories isn't a great idea.  You lose information!*"
      ],
      "metadata": {
        "id": "dNreUtwppB86"
      }
    },
    {
      "cell_type": "code",
      "source": [
        "pd.cut(scores.AtotalYds, bins = [0, 150, 250, 400, 700])"
      ],
      "metadata": {
        "id": "Yo-mak8RpCmb",
        "outputId": "8beb419d-29a2-4f4e-d081-a1a8c56dcf97",
        "colab": {
          "base_uri": "https://localhost:8080/"
        }
      },
      "execution_count": 19,
      "outputs": [
        {
          "output_type": "execute_result",
          "data": {
            "text/plain": [
              "0       (250, 400]\n",
              "1       (250, 400]\n",
              "2       (250, 400]\n",
              "3       (250, 400]\n",
              "4       (250, 400]\n",
              "           ...    \n",
              "3466    (250, 400]\n",
              "3467    (250, 400]\n",
              "3468    (250, 400]\n",
              "3469    (150, 250]\n",
              "3470    (250, 400]\n",
              "Name: AtotalYds, Length: 3471, dtype: category\n",
              "Categories (4, interval[int64, right]): [(0, 150] < (150, 250] < (250, 400] < (400, 700]]"
            ]
          },
          "metadata": {},
          "execution_count": 19
        }
      ]
    },
    {
      "cell_type": "markdown",
      "source": [
        "Great, but we can improve the categories being produced for the `category` variable.  We just need to specify the `labels` argument and have the same number of labels as the number of categories produced."
      ],
      "metadata": {
        "id": "uxb8-oYFpC5a"
      }
    },
    {
      "cell_type": "code",
      "source": [
        "scores[\"AtotalYdsCut\"] = pd.cut(scores.AtotalYds, bins = [0, 150, 250, 400, 700], labels = [\"Poor\", \"Ok\", \"Good\", \"Great\"])"
      ],
      "metadata": {
        "id": "K1PbNk7ipC9S"
      },
      "execution_count": 21,
      "outputs": []
    },
    {
      "cell_type": "markdown",
      "source": [
        "Now we can easily create a one-way table to display the number of occurrences of each category using the `.value_counts()` method."
      ],
      "metadata": {
        "id": "6jZfb7qOpDAj"
      }
    },
    {
      "cell_type": "code",
      "source": [
        "scores.AtotalYdsCut.value_counts()"
      ],
      "metadata": {
        "id": "sBcRPpyFpDEK",
        "outputId": "792335bb-1b2a-4d15-91ff-99f54dfe58f5",
        "colab": {
          "base_uri": "https://localhost:8080/"
        }
      },
      "execution_count": 22,
      "outputs": [
        {
          "output_type": "execute_result",
          "data": {
            "text/plain": [
              "Good     2082\n",
              "Great     706\n",
              "Ok        611\n",
              "Poor       72\n",
              "Name: AtotalYdsCut, dtype: int64"
            ]
          },
          "metadata": {},
          "execution_count": 22
        }
      ]
    },
    {
      "cell_type": "markdown",
      "source": [
        "Let's create a similar variable for the away team total yards and create a two-table using the `pd.crosstab()` function."
      ],
      "metadata": {
        "id": "UwbpNqHnpDIS"
      }
    },
    {
      "cell_type": "code",
      "source": [
        "scores[\"HtotalYdsCut\"] = pd.cut(scores.HtotalYds, bins = [0, 150, 250, 400, 700], labels = [\"Poor\", \"Ok\", \"Good\", \"Great\"])\n",
        "pd.crosstab(scores.HtotalYdsCut, scores.AtotalYdsCut)"
      ],
      "metadata": {
        "id": "uamcbgigpDMq",
        "outputId": "8491771b-dd0d-44f9-dcf1-e9e6ebafbd48",
        "colab": {
          "base_uri": "https://localhost:8080/",
          "height": 206
        }
      },
      "execution_count": 24,
      "outputs": [
        {
          "output_type": "execute_result",
          "data": {
            "text/plain": [
              "AtotalYdsCut  Poor   Ok  Good  Great\n",
              "HtotalYdsCut                        \n",
              "Poor             0    5    20     10\n",
              "Ok               4   56   282    101\n",
              "Good            43  399  1354    396\n",
              "Great           25  151   426    199"
            ],
            "text/html": [
              "\n",
              "  <div id=\"df-6c0e1594-aa80-4f93-8cd1-a71c3b017b55\" class=\"colab-df-container\">\n",
              "    <div>\n",
              "<style scoped>\n",
              "    .dataframe tbody tr th:only-of-type {\n",
              "        vertical-align: middle;\n",
              "    }\n",
              "\n",
              "    .dataframe tbody tr th {\n",
              "        vertical-align: top;\n",
              "    }\n",
              "\n",
              "    .dataframe thead th {\n",
              "        text-align: right;\n",
              "    }\n",
              "</style>\n",
              "<table border=\"1\" class=\"dataframe\">\n",
              "  <thead>\n",
              "    <tr style=\"text-align: right;\">\n",
              "      <th>AtotalYdsCut</th>\n",
              "      <th>Poor</th>\n",
              "      <th>Ok</th>\n",
              "      <th>Good</th>\n",
              "      <th>Great</th>\n",
              "    </tr>\n",
              "    <tr>\n",
              "      <th>HtotalYdsCut</th>\n",
              "      <th></th>\n",
              "      <th></th>\n",
              "      <th></th>\n",
              "      <th></th>\n",
              "    </tr>\n",
              "  </thead>\n",
              "  <tbody>\n",
              "    <tr>\n",
              "      <th>Poor</th>\n",
              "      <td>0</td>\n",
              "      <td>5</td>\n",
              "      <td>20</td>\n",
              "      <td>10</td>\n",
              "    </tr>\n",
              "    <tr>\n",
              "      <th>Ok</th>\n",
              "      <td>4</td>\n",
              "      <td>56</td>\n",
              "      <td>282</td>\n",
              "      <td>101</td>\n",
              "    </tr>\n",
              "    <tr>\n",
              "      <th>Good</th>\n",
              "      <td>43</td>\n",
              "      <td>399</td>\n",
              "      <td>1354</td>\n",
              "      <td>396</td>\n",
              "    </tr>\n",
              "    <tr>\n",
              "      <th>Great</th>\n",
              "      <td>25</td>\n",
              "      <td>151</td>\n",
              "      <td>426</td>\n",
              "      <td>199</td>\n",
              "    </tr>\n",
              "  </tbody>\n",
              "</table>\n",
              "</div>\n",
              "    <div class=\"colab-df-buttons\">\n",
              "\n",
              "  <div class=\"colab-df-container\">\n",
              "    <button class=\"colab-df-convert\" onclick=\"convertToInteractive('df-6c0e1594-aa80-4f93-8cd1-a71c3b017b55')\"\n",
              "            title=\"Convert this dataframe to an interactive table.\"\n",
              "            style=\"display:none;\">\n",
              "\n",
              "  <svg xmlns=\"http://www.w3.org/2000/svg\" height=\"24px\" viewBox=\"0 -960 960 960\">\n",
              "    <path d=\"M120-120v-720h720v720H120Zm60-500h600v-160H180v160Zm220 220h160v-160H400v160Zm0 220h160v-160H400v160ZM180-400h160v-160H180v160Zm440 0h160v-160H620v160ZM180-180h160v-160H180v160Zm440 0h160v-160H620v160Z\"/>\n",
              "  </svg>\n",
              "    </button>\n",
              "\n",
              "  <style>\n",
              "    .colab-df-container {\n",
              "      display:flex;\n",
              "      gap: 12px;\n",
              "    }\n",
              "\n",
              "    .colab-df-convert {\n",
              "      background-color: #E8F0FE;\n",
              "      border: none;\n",
              "      border-radius: 50%;\n",
              "      cursor: pointer;\n",
              "      display: none;\n",
              "      fill: #1967D2;\n",
              "      height: 32px;\n",
              "      padding: 0 0 0 0;\n",
              "      width: 32px;\n",
              "    }\n",
              "\n",
              "    .colab-df-convert:hover {\n",
              "      background-color: #E2EBFA;\n",
              "      box-shadow: 0px 1px 2px rgba(60, 64, 67, 0.3), 0px 1px 3px 1px rgba(60, 64, 67, 0.15);\n",
              "      fill: #174EA6;\n",
              "    }\n",
              "\n",
              "    .colab-df-buttons div {\n",
              "      margin-bottom: 4px;\n",
              "    }\n",
              "\n",
              "    [theme=dark] .colab-df-convert {\n",
              "      background-color: #3B4455;\n",
              "      fill: #D2E3FC;\n",
              "    }\n",
              "\n",
              "    [theme=dark] .colab-df-convert:hover {\n",
              "      background-color: #434B5C;\n",
              "      box-shadow: 0px 1px 3px 1px rgba(0, 0, 0, 0.15);\n",
              "      filter: drop-shadow(0px 1px 2px rgba(0, 0, 0, 0.3));\n",
              "      fill: #FFFFFF;\n",
              "    }\n",
              "  </style>\n",
              "\n",
              "    <script>\n",
              "      const buttonEl =\n",
              "        document.querySelector('#df-6c0e1594-aa80-4f93-8cd1-a71c3b017b55 button.colab-df-convert');\n",
              "      buttonEl.style.display =\n",
              "        google.colab.kernel.accessAllowed ? 'block' : 'none';\n",
              "\n",
              "      async function convertToInteractive(key) {\n",
              "        const element = document.querySelector('#df-6c0e1594-aa80-4f93-8cd1-a71c3b017b55');\n",
              "        const dataTable =\n",
              "          await google.colab.kernel.invokeFunction('convertToInteractive',\n",
              "                                                    [key], {});\n",
              "        if (!dataTable) return;\n",
              "\n",
              "        const docLinkHtml = 'Like what you see? Visit the ' +\n",
              "          '<a target=\"_blank\" href=https://colab.research.google.com/notebooks/data_table.ipynb>data table notebook</a>'\n",
              "          + ' to learn more about interactive tables.';\n",
              "        element.innerHTML = '';\n",
              "        dataTable['output_type'] = 'display_data';\n",
              "        await google.colab.output.renderOutput(dataTable, element);\n",
              "        const docLink = document.createElement('div');\n",
              "        docLink.innerHTML = docLinkHtml;\n",
              "        element.appendChild(docLink);\n",
              "      }\n",
              "    </script>\n",
              "  </div>\n",
              "\n",
              "\n",
              "<div id=\"df-dfd587c9-a9a1-470c-8b45-4151cf1f05df\">\n",
              "  <button class=\"colab-df-quickchart\" onclick=\"quickchart('df-dfd587c9-a9a1-470c-8b45-4151cf1f05df')\"\n",
              "            title=\"Suggest charts\"\n",
              "            style=\"display:none;\">\n",
              "\n",
              "<svg xmlns=\"http://www.w3.org/2000/svg\" height=\"24px\"viewBox=\"0 0 24 24\"\n",
              "     width=\"24px\">\n",
              "    <g>\n",
              "        <path d=\"M19 3H5c-1.1 0-2 .9-2 2v14c0 1.1.9 2 2 2h14c1.1 0 2-.9 2-2V5c0-1.1-.9-2-2-2zM9 17H7v-7h2v7zm4 0h-2V7h2v10zm4 0h-2v-4h2v4z\"/>\n",
              "    </g>\n",
              "</svg>\n",
              "  </button>\n",
              "\n",
              "<style>\n",
              "  .colab-df-quickchart {\n",
              "      --bg-color: #E8F0FE;\n",
              "      --fill-color: #1967D2;\n",
              "      --hover-bg-color: #E2EBFA;\n",
              "      --hover-fill-color: #174EA6;\n",
              "      --disabled-fill-color: #AAA;\n",
              "      --disabled-bg-color: #DDD;\n",
              "  }\n",
              "\n",
              "  [theme=dark] .colab-df-quickchart {\n",
              "      --bg-color: #3B4455;\n",
              "      --fill-color: #D2E3FC;\n",
              "      --hover-bg-color: #434B5C;\n",
              "      --hover-fill-color: #FFFFFF;\n",
              "      --disabled-bg-color: #3B4455;\n",
              "      --disabled-fill-color: #666;\n",
              "  }\n",
              "\n",
              "  .colab-df-quickchart {\n",
              "    background-color: var(--bg-color);\n",
              "    border: none;\n",
              "    border-radius: 50%;\n",
              "    cursor: pointer;\n",
              "    display: none;\n",
              "    fill: var(--fill-color);\n",
              "    height: 32px;\n",
              "    padding: 0;\n",
              "    width: 32px;\n",
              "  }\n",
              "\n",
              "  .colab-df-quickchart:hover {\n",
              "    background-color: var(--hover-bg-color);\n",
              "    box-shadow: 0 1px 2px rgba(60, 64, 67, 0.3), 0 1px 3px 1px rgba(60, 64, 67, 0.15);\n",
              "    fill: var(--button-hover-fill-color);\n",
              "  }\n",
              "\n",
              "  .colab-df-quickchart-complete:disabled,\n",
              "  .colab-df-quickchart-complete:disabled:hover {\n",
              "    background-color: var(--disabled-bg-color);\n",
              "    fill: var(--disabled-fill-color);\n",
              "    box-shadow: none;\n",
              "  }\n",
              "\n",
              "  .colab-df-spinner {\n",
              "    border: 2px solid var(--fill-color);\n",
              "    border-color: transparent;\n",
              "    border-bottom-color: var(--fill-color);\n",
              "    animation:\n",
              "      spin 1s steps(1) infinite;\n",
              "  }\n",
              "\n",
              "  @keyframes spin {\n",
              "    0% {\n",
              "      border-color: transparent;\n",
              "      border-bottom-color: var(--fill-color);\n",
              "      border-left-color: var(--fill-color);\n",
              "    }\n",
              "    20% {\n",
              "      border-color: transparent;\n",
              "      border-left-color: var(--fill-color);\n",
              "      border-top-color: var(--fill-color);\n",
              "    }\n",
              "    30% {\n",
              "      border-color: transparent;\n",
              "      border-left-color: var(--fill-color);\n",
              "      border-top-color: var(--fill-color);\n",
              "      border-right-color: var(--fill-color);\n",
              "    }\n",
              "    40% {\n",
              "      border-color: transparent;\n",
              "      border-right-color: var(--fill-color);\n",
              "      border-top-color: var(--fill-color);\n",
              "    }\n",
              "    60% {\n",
              "      border-color: transparent;\n",
              "      border-right-color: var(--fill-color);\n",
              "    }\n",
              "    80% {\n",
              "      border-color: transparent;\n",
              "      border-right-color: var(--fill-color);\n",
              "      border-bottom-color: var(--fill-color);\n",
              "    }\n",
              "    90% {\n",
              "      border-color: transparent;\n",
              "      border-bottom-color: var(--fill-color);\n",
              "    }\n",
              "  }\n",
              "</style>\n",
              "\n",
              "  <script>\n",
              "    async function quickchart(key) {\n",
              "      const quickchartButtonEl =\n",
              "        document.querySelector('#' + key + ' button');\n",
              "      quickchartButtonEl.disabled = true;  // To prevent multiple clicks.\n",
              "      quickchartButtonEl.classList.add('colab-df-spinner');\n",
              "      try {\n",
              "        const charts = await google.colab.kernel.invokeFunction(\n",
              "            'suggestCharts', [key], {});\n",
              "      } catch (error) {\n",
              "        console.error('Error during call to suggestCharts:', error);\n",
              "      }\n",
              "      quickchartButtonEl.classList.remove('colab-df-spinner');\n",
              "      quickchartButtonEl.classList.add('colab-df-quickchart-complete');\n",
              "    }\n",
              "    (() => {\n",
              "      let quickchartButtonEl =\n",
              "        document.querySelector('#df-dfd587c9-a9a1-470c-8b45-4151cf1f05df button');\n",
              "      quickchartButtonEl.style.display =\n",
              "        google.colab.kernel.accessAllowed ? 'block' : 'none';\n",
              "    })();\n",
              "  </script>\n",
              "</div>\n",
              "    </div>\n",
              "  </div>\n"
            ]
          },
          "metadata": {},
          "execution_count": 24
        }
      ]
    },
    {
      "cell_type": "markdown",
      "source": [
        "### Numeric Variable Summaries with `pd.pivot_table()`\n",
        "\n",
        "In addition to the methods/functions used in the notes, we can also create summary stats across groups using the `pivot_table()` function and the `.agg()` method.  \n",
        "\n",
        "First let's look at the `pivot_table()` function.  We need to supply a data frame, the columns we want to summarize (as `values`), the grouping variable(s) (as `index`), and the aggregation function(s) (as `aggfunc`)."
      ],
      "metadata": {
        "id": "2VKBijSKpDQS"
      }
    },
    {
      "cell_type": "code",
      "source": [
        "pd.pivot_table(scores, values = \"AtotalYds\", index = \"season\")"
      ],
      "metadata": {
        "id": "hdjtpwU5pDUK",
        "outputId": "f3e97973-f2e4-4589-f372-76cc224e09b4",
        "colab": {
          "base_uri": "https://localhost:8080/",
          "height": 488
        }
      },
      "execution_count": 25,
      "outputs": [
        {
          "output_type": "execute_result",
          "data": {
            "text/plain": [
              "         AtotalYds\n",
              "season            \n",
              "2002    324.161049\n",
              "2003    308.247191\n",
              "2004    321.161049\n",
              "2005    308.378277\n",
              "2006    316.449438\n",
              "2007    321.906367\n",
              "2008    318.760300\n",
              "2009    323.977528\n",
              "2010    329.734082\n",
              "2011    341.655431\n",
              "2012    347.089888\n",
              "2013    340.685393\n",
              "2014    343.310861"
            ],
            "text/html": [
              "\n",
              "  <div id=\"df-85a123af-1c66-4129-aea2-366779d80971\" class=\"colab-df-container\">\n",
              "    <div>\n",
              "<style scoped>\n",
              "    .dataframe tbody tr th:only-of-type {\n",
              "        vertical-align: middle;\n",
              "    }\n",
              "\n",
              "    .dataframe tbody tr th {\n",
              "        vertical-align: top;\n",
              "    }\n",
              "\n",
              "    .dataframe thead th {\n",
              "        text-align: right;\n",
              "    }\n",
              "</style>\n",
              "<table border=\"1\" class=\"dataframe\">\n",
              "  <thead>\n",
              "    <tr style=\"text-align: right;\">\n",
              "      <th></th>\n",
              "      <th>AtotalYds</th>\n",
              "    </tr>\n",
              "    <tr>\n",
              "      <th>season</th>\n",
              "      <th></th>\n",
              "    </tr>\n",
              "  </thead>\n",
              "  <tbody>\n",
              "    <tr>\n",
              "      <th>2002</th>\n",
              "      <td>324.161049</td>\n",
              "    </tr>\n",
              "    <tr>\n",
              "      <th>2003</th>\n",
              "      <td>308.247191</td>\n",
              "    </tr>\n",
              "    <tr>\n",
              "      <th>2004</th>\n",
              "      <td>321.161049</td>\n",
              "    </tr>\n",
              "    <tr>\n",
              "      <th>2005</th>\n",
              "      <td>308.378277</td>\n",
              "    </tr>\n",
              "    <tr>\n",
              "      <th>2006</th>\n",
              "      <td>316.449438</td>\n",
              "    </tr>\n",
              "    <tr>\n",
              "      <th>2007</th>\n",
              "      <td>321.906367</td>\n",
              "    </tr>\n",
              "    <tr>\n",
              "      <th>2008</th>\n",
              "      <td>318.760300</td>\n",
              "    </tr>\n",
              "    <tr>\n",
              "      <th>2009</th>\n",
              "      <td>323.977528</td>\n",
              "    </tr>\n",
              "    <tr>\n",
              "      <th>2010</th>\n",
              "      <td>329.734082</td>\n",
              "    </tr>\n",
              "    <tr>\n",
              "      <th>2011</th>\n",
              "      <td>341.655431</td>\n",
              "    </tr>\n",
              "    <tr>\n",
              "      <th>2012</th>\n",
              "      <td>347.089888</td>\n",
              "    </tr>\n",
              "    <tr>\n",
              "      <th>2013</th>\n",
              "      <td>340.685393</td>\n",
              "    </tr>\n",
              "    <tr>\n",
              "      <th>2014</th>\n",
              "      <td>343.310861</td>\n",
              "    </tr>\n",
              "  </tbody>\n",
              "</table>\n",
              "</div>\n",
              "    <div class=\"colab-df-buttons\">\n",
              "\n",
              "  <div class=\"colab-df-container\">\n",
              "    <button class=\"colab-df-convert\" onclick=\"convertToInteractive('df-85a123af-1c66-4129-aea2-366779d80971')\"\n",
              "            title=\"Convert this dataframe to an interactive table.\"\n",
              "            style=\"display:none;\">\n",
              "\n",
              "  <svg xmlns=\"http://www.w3.org/2000/svg\" height=\"24px\" viewBox=\"0 -960 960 960\">\n",
              "    <path d=\"M120-120v-720h720v720H120Zm60-500h600v-160H180v160Zm220 220h160v-160H400v160Zm0 220h160v-160H400v160ZM180-400h160v-160H180v160Zm440 0h160v-160H620v160ZM180-180h160v-160H180v160Zm440 0h160v-160H620v160Z\"/>\n",
              "  </svg>\n",
              "    </button>\n",
              "\n",
              "  <style>\n",
              "    .colab-df-container {\n",
              "      display:flex;\n",
              "      gap: 12px;\n",
              "    }\n",
              "\n",
              "    .colab-df-convert {\n",
              "      background-color: #E8F0FE;\n",
              "      border: none;\n",
              "      border-radius: 50%;\n",
              "      cursor: pointer;\n",
              "      display: none;\n",
              "      fill: #1967D2;\n",
              "      height: 32px;\n",
              "      padding: 0 0 0 0;\n",
              "      width: 32px;\n",
              "    }\n",
              "\n",
              "    .colab-df-convert:hover {\n",
              "      background-color: #E2EBFA;\n",
              "      box-shadow: 0px 1px 2px rgba(60, 64, 67, 0.3), 0px 1px 3px 1px rgba(60, 64, 67, 0.15);\n",
              "      fill: #174EA6;\n",
              "    }\n",
              "\n",
              "    .colab-df-buttons div {\n",
              "      margin-bottom: 4px;\n",
              "    }\n",
              "\n",
              "    [theme=dark] .colab-df-convert {\n",
              "      background-color: #3B4455;\n",
              "      fill: #D2E3FC;\n",
              "    }\n",
              "\n",
              "    [theme=dark] .colab-df-convert:hover {\n",
              "      background-color: #434B5C;\n",
              "      box-shadow: 0px 1px 3px 1px rgba(0, 0, 0, 0.15);\n",
              "      filter: drop-shadow(0px 1px 2px rgba(0, 0, 0, 0.3));\n",
              "      fill: #FFFFFF;\n",
              "    }\n",
              "  </style>\n",
              "\n",
              "    <script>\n",
              "      const buttonEl =\n",
              "        document.querySelector('#df-85a123af-1c66-4129-aea2-366779d80971 button.colab-df-convert');\n",
              "      buttonEl.style.display =\n",
              "        google.colab.kernel.accessAllowed ? 'block' : 'none';\n",
              "\n",
              "      async function convertToInteractive(key) {\n",
              "        const element = document.querySelector('#df-85a123af-1c66-4129-aea2-366779d80971');\n",
              "        const dataTable =\n",
              "          await google.colab.kernel.invokeFunction('convertToInteractive',\n",
              "                                                    [key], {});\n",
              "        if (!dataTable) return;\n",
              "\n",
              "        const docLinkHtml = 'Like what you see? Visit the ' +\n",
              "          '<a target=\"_blank\" href=https://colab.research.google.com/notebooks/data_table.ipynb>data table notebook</a>'\n",
              "          + ' to learn more about interactive tables.';\n",
              "        element.innerHTML = '';\n",
              "        dataTable['output_type'] = 'display_data';\n",
              "        await google.colab.output.renderOutput(dataTable, element);\n",
              "        const docLink = document.createElement('div');\n",
              "        docLink.innerHTML = docLinkHtml;\n",
              "        element.appendChild(docLink);\n",
              "      }\n",
              "    </script>\n",
              "  </div>\n",
              "\n",
              "\n",
              "<div id=\"df-5a19b9df-57a4-4ac5-b807-8e6731dfa083\">\n",
              "  <button class=\"colab-df-quickchart\" onclick=\"quickchart('df-5a19b9df-57a4-4ac5-b807-8e6731dfa083')\"\n",
              "            title=\"Suggest charts\"\n",
              "            style=\"display:none;\">\n",
              "\n",
              "<svg xmlns=\"http://www.w3.org/2000/svg\" height=\"24px\"viewBox=\"0 0 24 24\"\n",
              "     width=\"24px\">\n",
              "    <g>\n",
              "        <path d=\"M19 3H5c-1.1 0-2 .9-2 2v14c0 1.1.9 2 2 2h14c1.1 0 2-.9 2-2V5c0-1.1-.9-2-2-2zM9 17H7v-7h2v7zm4 0h-2V7h2v10zm4 0h-2v-4h2v4z\"/>\n",
              "    </g>\n",
              "</svg>\n",
              "  </button>\n",
              "\n",
              "<style>\n",
              "  .colab-df-quickchart {\n",
              "      --bg-color: #E8F0FE;\n",
              "      --fill-color: #1967D2;\n",
              "      --hover-bg-color: #E2EBFA;\n",
              "      --hover-fill-color: #174EA6;\n",
              "      --disabled-fill-color: #AAA;\n",
              "      --disabled-bg-color: #DDD;\n",
              "  }\n",
              "\n",
              "  [theme=dark] .colab-df-quickchart {\n",
              "      --bg-color: #3B4455;\n",
              "      --fill-color: #D2E3FC;\n",
              "      --hover-bg-color: #434B5C;\n",
              "      --hover-fill-color: #FFFFFF;\n",
              "      --disabled-bg-color: #3B4455;\n",
              "      --disabled-fill-color: #666;\n",
              "  }\n",
              "\n",
              "  .colab-df-quickchart {\n",
              "    background-color: var(--bg-color);\n",
              "    border: none;\n",
              "    border-radius: 50%;\n",
              "    cursor: pointer;\n",
              "    display: none;\n",
              "    fill: var(--fill-color);\n",
              "    height: 32px;\n",
              "    padding: 0;\n",
              "    width: 32px;\n",
              "  }\n",
              "\n",
              "  .colab-df-quickchart:hover {\n",
              "    background-color: var(--hover-bg-color);\n",
              "    box-shadow: 0 1px 2px rgba(60, 64, 67, 0.3), 0 1px 3px 1px rgba(60, 64, 67, 0.15);\n",
              "    fill: var(--button-hover-fill-color);\n",
              "  }\n",
              "\n",
              "  .colab-df-quickchart-complete:disabled,\n",
              "  .colab-df-quickchart-complete:disabled:hover {\n",
              "    background-color: var(--disabled-bg-color);\n",
              "    fill: var(--disabled-fill-color);\n",
              "    box-shadow: none;\n",
              "  }\n",
              "\n",
              "  .colab-df-spinner {\n",
              "    border: 2px solid var(--fill-color);\n",
              "    border-color: transparent;\n",
              "    border-bottom-color: var(--fill-color);\n",
              "    animation:\n",
              "      spin 1s steps(1) infinite;\n",
              "  }\n",
              "\n",
              "  @keyframes spin {\n",
              "    0% {\n",
              "      border-color: transparent;\n",
              "      border-bottom-color: var(--fill-color);\n",
              "      border-left-color: var(--fill-color);\n",
              "    }\n",
              "    20% {\n",
              "      border-color: transparent;\n",
              "      border-left-color: var(--fill-color);\n",
              "      border-top-color: var(--fill-color);\n",
              "    }\n",
              "    30% {\n",
              "      border-color: transparent;\n",
              "      border-left-color: var(--fill-color);\n",
              "      border-top-color: var(--fill-color);\n",
              "      border-right-color: var(--fill-color);\n",
              "    }\n",
              "    40% {\n",
              "      border-color: transparent;\n",
              "      border-right-color: var(--fill-color);\n",
              "      border-top-color: var(--fill-color);\n",
              "    }\n",
              "    60% {\n",
              "      border-color: transparent;\n",
              "      border-right-color: var(--fill-color);\n",
              "    }\n",
              "    80% {\n",
              "      border-color: transparent;\n",
              "      border-right-color: var(--fill-color);\n",
              "      border-bottom-color: var(--fill-color);\n",
              "    }\n",
              "    90% {\n",
              "      border-color: transparent;\n",
              "      border-bottom-color: var(--fill-color);\n",
              "    }\n",
              "  }\n",
              "</style>\n",
              "\n",
              "  <script>\n",
              "    async function quickchart(key) {\n",
              "      const quickchartButtonEl =\n",
              "        document.querySelector('#' + key + ' button');\n",
              "      quickchartButtonEl.disabled = true;  // To prevent multiple clicks.\n",
              "      quickchartButtonEl.classList.add('colab-df-spinner');\n",
              "      try {\n",
              "        const charts = await google.colab.kernel.invokeFunction(\n",
              "            'suggestCharts', [key], {});\n",
              "      } catch (error) {\n",
              "        console.error('Error during call to suggestCharts:', error);\n",
              "      }\n",
              "      quickchartButtonEl.classList.remove('colab-df-spinner');\n",
              "      quickchartButtonEl.classList.add('colab-df-quickchart-complete');\n",
              "    }\n",
              "    (() => {\n",
              "      let quickchartButtonEl =\n",
              "        document.querySelector('#df-5a19b9df-57a4-4ac5-b807-8e6731dfa083 button');\n",
              "      quickchartButtonEl.style.display =\n",
              "        google.colab.kernel.accessAllowed ? 'block' : 'none';\n",
              "    })();\n",
              "  </script>\n",
              "</div>\n",
              "    </div>\n",
              "  </div>\n"
            ]
          },
          "metadata": {},
          "execution_count": 25
        }
      ]
    },
    {
      "cell_type": "markdown",
      "source": [
        "We can give more than one function if we specify it as a list."
      ],
      "metadata": {
        "id": "XwkN1PLCpDX6"
      }
    },
    {
      "cell_type": "code",
      "source": [
        "pd.pivot_table(scores, values = \"AtotalYds\", index = \"season\", aggfunc = [\"mean\", \"median\", \"std\"])"
      ],
      "metadata": {
        "id": "qiUOlrLDpf3h",
        "outputId": "df9bf93c-b13d-474f-9a95-1c2b057ad400",
        "colab": {
          "base_uri": "https://localhost:8080/",
          "height": 520
        }
      },
      "execution_count": 28,
      "outputs": [
        {
          "output_type": "execute_result",
          "data": {
            "text/plain": [
              "              mean    median        std\n",
              "         AtotalYds AtotalYds  AtotalYds\n",
              "season                                 \n",
              "2002    324.161049       327  90.314948\n",
              "2003    308.247191       311  88.807591\n",
              "2004    321.161049       318  90.912791\n",
              "2005    308.378277       304  82.750663\n",
              "2006    316.449438       323  79.343217\n",
              "2007    321.906367       327  82.208671\n",
              "2008    318.760300       317  86.567603\n",
              "2009    323.977528       323  86.360668\n",
              "2010    329.734082       327  88.964809\n",
              "2011    341.655431       336  86.608624\n",
              "2012    347.089888       352  88.788882\n",
              "2013    340.685393       341  83.003251\n",
              "2014    343.310861       343  83.797760"
            ],
            "text/html": [
              "\n",
              "  <div id=\"df-dc743806-ed71-4ada-9e10-4c9af0df2350\" class=\"colab-df-container\">\n",
              "    <div>\n",
              "<style scoped>\n",
              "    .dataframe tbody tr th:only-of-type {\n",
              "        vertical-align: middle;\n",
              "    }\n",
              "\n",
              "    .dataframe tbody tr th {\n",
              "        vertical-align: top;\n",
              "    }\n",
              "\n",
              "    .dataframe thead tr th {\n",
              "        text-align: left;\n",
              "    }\n",
              "\n",
              "    .dataframe thead tr:last-of-type th {\n",
              "        text-align: right;\n",
              "    }\n",
              "</style>\n",
              "<table border=\"1\" class=\"dataframe\">\n",
              "  <thead>\n",
              "    <tr>\n",
              "      <th></th>\n",
              "      <th>mean</th>\n",
              "      <th>median</th>\n",
              "      <th>std</th>\n",
              "    </tr>\n",
              "    <tr>\n",
              "      <th></th>\n",
              "      <th>AtotalYds</th>\n",
              "      <th>AtotalYds</th>\n",
              "      <th>AtotalYds</th>\n",
              "    </tr>\n",
              "    <tr>\n",
              "      <th>season</th>\n",
              "      <th></th>\n",
              "      <th></th>\n",
              "      <th></th>\n",
              "    </tr>\n",
              "  </thead>\n",
              "  <tbody>\n",
              "    <tr>\n",
              "      <th>2002</th>\n",
              "      <td>324.161049</td>\n",
              "      <td>327</td>\n",
              "      <td>90.314948</td>\n",
              "    </tr>\n",
              "    <tr>\n",
              "      <th>2003</th>\n",
              "      <td>308.247191</td>\n",
              "      <td>311</td>\n",
              "      <td>88.807591</td>\n",
              "    </tr>\n",
              "    <tr>\n",
              "      <th>2004</th>\n",
              "      <td>321.161049</td>\n",
              "      <td>318</td>\n",
              "      <td>90.912791</td>\n",
              "    </tr>\n",
              "    <tr>\n",
              "      <th>2005</th>\n",
              "      <td>308.378277</td>\n",
              "      <td>304</td>\n",
              "      <td>82.750663</td>\n",
              "    </tr>\n",
              "    <tr>\n",
              "      <th>2006</th>\n",
              "      <td>316.449438</td>\n",
              "      <td>323</td>\n",
              "      <td>79.343217</td>\n",
              "    </tr>\n",
              "    <tr>\n",
              "      <th>2007</th>\n",
              "      <td>321.906367</td>\n",
              "      <td>327</td>\n",
              "      <td>82.208671</td>\n",
              "    </tr>\n",
              "    <tr>\n",
              "      <th>2008</th>\n",
              "      <td>318.760300</td>\n",
              "      <td>317</td>\n",
              "      <td>86.567603</td>\n",
              "    </tr>\n",
              "    <tr>\n",
              "      <th>2009</th>\n",
              "      <td>323.977528</td>\n",
              "      <td>323</td>\n",
              "      <td>86.360668</td>\n",
              "    </tr>\n",
              "    <tr>\n",
              "      <th>2010</th>\n",
              "      <td>329.734082</td>\n",
              "      <td>327</td>\n",
              "      <td>88.964809</td>\n",
              "    </tr>\n",
              "    <tr>\n",
              "      <th>2011</th>\n",
              "      <td>341.655431</td>\n",
              "      <td>336</td>\n",
              "      <td>86.608624</td>\n",
              "    </tr>\n",
              "    <tr>\n",
              "      <th>2012</th>\n",
              "      <td>347.089888</td>\n",
              "      <td>352</td>\n",
              "      <td>88.788882</td>\n",
              "    </tr>\n",
              "    <tr>\n",
              "      <th>2013</th>\n",
              "      <td>340.685393</td>\n",
              "      <td>341</td>\n",
              "      <td>83.003251</td>\n",
              "    </tr>\n",
              "    <tr>\n",
              "      <th>2014</th>\n",
              "      <td>343.310861</td>\n",
              "      <td>343</td>\n",
              "      <td>83.797760</td>\n",
              "    </tr>\n",
              "  </tbody>\n",
              "</table>\n",
              "</div>\n",
              "    <div class=\"colab-df-buttons\">\n",
              "\n",
              "  <div class=\"colab-df-container\">\n",
              "    <button class=\"colab-df-convert\" onclick=\"convertToInteractive('df-dc743806-ed71-4ada-9e10-4c9af0df2350')\"\n",
              "            title=\"Convert this dataframe to an interactive table.\"\n",
              "            style=\"display:none;\">\n",
              "\n",
              "  <svg xmlns=\"http://www.w3.org/2000/svg\" height=\"24px\" viewBox=\"0 -960 960 960\">\n",
              "    <path d=\"M120-120v-720h720v720H120Zm60-500h600v-160H180v160Zm220 220h160v-160H400v160Zm0 220h160v-160H400v160ZM180-400h160v-160H180v160Zm440 0h160v-160H620v160ZM180-180h160v-160H180v160Zm440 0h160v-160H620v160Z\"/>\n",
              "  </svg>\n",
              "    </button>\n",
              "\n",
              "  <style>\n",
              "    .colab-df-container {\n",
              "      display:flex;\n",
              "      gap: 12px;\n",
              "    }\n",
              "\n",
              "    .colab-df-convert {\n",
              "      background-color: #E8F0FE;\n",
              "      border: none;\n",
              "      border-radius: 50%;\n",
              "      cursor: pointer;\n",
              "      display: none;\n",
              "      fill: #1967D2;\n",
              "      height: 32px;\n",
              "      padding: 0 0 0 0;\n",
              "      width: 32px;\n",
              "    }\n",
              "\n",
              "    .colab-df-convert:hover {\n",
              "      background-color: #E2EBFA;\n",
              "      box-shadow: 0px 1px 2px rgba(60, 64, 67, 0.3), 0px 1px 3px 1px rgba(60, 64, 67, 0.15);\n",
              "      fill: #174EA6;\n",
              "    }\n",
              "\n",
              "    .colab-df-buttons div {\n",
              "      margin-bottom: 4px;\n",
              "    }\n",
              "\n",
              "    [theme=dark] .colab-df-convert {\n",
              "      background-color: #3B4455;\n",
              "      fill: #D2E3FC;\n",
              "    }\n",
              "\n",
              "    [theme=dark] .colab-df-convert:hover {\n",
              "      background-color: #434B5C;\n",
              "      box-shadow: 0px 1px 3px 1px rgba(0, 0, 0, 0.15);\n",
              "      filter: drop-shadow(0px 1px 2px rgba(0, 0, 0, 0.3));\n",
              "      fill: #FFFFFF;\n",
              "    }\n",
              "  </style>\n",
              "\n",
              "    <script>\n",
              "      const buttonEl =\n",
              "        document.querySelector('#df-dc743806-ed71-4ada-9e10-4c9af0df2350 button.colab-df-convert');\n",
              "      buttonEl.style.display =\n",
              "        google.colab.kernel.accessAllowed ? 'block' : 'none';\n",
              "\n",
              "      async function convertToInteractive(key) {\n",
              "        const element = document.querySelector('#df-dc743806-ed71-4ada-9e10-4c9af0df2350');\n",
              "        const dataTable =\n",
              "          await google.colab.kernel.invokeFunction('convertToInteractive',\n",
              "                                                    [key], {});\n",
              "        if (!dataTable) return;\n",
              "\n",
              "        const docLinkHtml = 'Like what you see? Visit the ' +\n",
              "          '<a target=\"_blank\" href=https://colab.research.google.com/notebooks/data_table.ipynb>data table notebook</a>'\n",
              "          + ' to learn more about interactive tables.';\n",
              "        element.innerHTML = '';\n",
              "        dataTable['output_type'] = 'display_data';\n",
              "        await google.colab.output.renderOutput(dataTable, element);\n",
              "        const docLink = document.createElement('div');\n",
              "        docLink.innerHTML = docLinkHtml;\n",
              "        element.appendChild(docLink);\n",
              "      }\n",
              "    </script>\n",
              "  </div>\n",
              "\n",
              "\n",
              "<div id=\"df-9b37e413-51e4-44a2-a4dd-033642d63587\">\n",
              "  <button class=\"colab-df-quickchart\" onclick=\"quickchart('df-9b37e413-51e4-44a2-a4dd-033642d63587')\"\n",
              "            title=\"Suggest charts\"\n",
              "            style=\"display:none;\">\n",
              "\n",
              "<svg xmlns=\"http://www.w3.org/2000/svg\" height=\"24px\"viewBox=\"0 0 24 24\"\n",
              "     width=\"24px\">\n",
              "    <g>\n",
              "        <path d=\"M19 3H5c-1.1 0-2 .9-2 2v14c0 1.1.9 2 2 2h14c1.1 0 2-.9 2-2V5c0-1.1-.9-2-2-2zM9 17H7v-7h2v7zm4 0h-2V7h2v10zm4 0h-2v-4h2v4z\"/>\n",
              "    </g>\n",
              "</svg>\n",
              "  </button>\n",
              "\n",
              "<style>\n",
              "  .colab-df-quickchart {\n",
              "      --bg-color: #E8F0FE;\n",
              "      --fill-color: #1967D2;\n",
              "      --hover-bg-color: #E2EBFA;\n",
              "      --hover-fill-color: #174EA6;\n",
              "      --disabled-fill-color: #AAA;\n",
              "      --disabled-bg-color: #DDD;\n",
              "  }\n",
              "\n",
              "  [theme=dark] .colab-df-quickchart {\n",
              "      --bg-color: #3B4455;\n",
              "      --fill-color: #D2E3FC;\n",
              "      --hover-bg-color: #434B5C;\n",
              "      --hover-fill-color: #FFFFFF;\n",
              "      --disabled-bg-color: #3B4455;\n",
              "      --disabled-fill-color: #666;\n",
              "  }\n",
              "\n",
              "  .colab-df-quickchart {\n",
              "    background-color: var(--bg-color);\n",
              "    border: none;\n",
              "    border-radius: 50%;\n",
              "    cursor: pointer;\n",
              "    display: none;\n",
              "    fill: var(--fill-color);\n",
              "    height: 32px;\n",
              "    padding: 0;\n",
              "    width: 32px;\n",
              "  }\n",
              "\n",
              "  .colab-df-quickchart:hover {\n",
              "    background-color: var(--hover-bg-color);\n",
              "    box-shadow: 0 1px 2px rgba(60, 64, 67, 0.3), 0 1px 3px 1px rgba(60, 64, 67, 0.15);\n",
              "    fill: var(--button-hover-fill-color);\n",
              "  }\n",
              "\n",
              "  .colab-df-quickchart-complete:disabled,\n",
              "  .colab-df-quickchart-complete:disabled:hover {\n",
              "    background-color: var(--disabled-bg-color);\n",
              "    fill: var(--disabled-fill-color);\n",
              "    box-shadow: none;\n",
              "  }\n",
              "\n",
              "  .colab-df-spinner {\n",
              "    border: 2px solid var(--fill-color);\n",
              "    border-color: transparent;\n",
              "    border-bottom-color: var(--fill-color);\n",
              "    animation:\n",
              "      spin 1s steps(1) infinite;\n",
              "  }\n",
              "\n",
              "  @keyframes spin {\n",
              "    0% {\n",
              "      border-color: transparent;\n",
              "      border-bottom-color: var(--fill-color);\n",
              "      border-left-color: var(--fill-color);\n",
              "    }\n",
              "    20% {\n",
              "      border-color: transparent;\n",
              "      border-left-color: var(--fill-color);\n",
              "      border-top-color: var(--fill-color);\n",
              "    }\n",
              "    30% {\n",
              "      border-color: transparent;\n",
              "      border-left-color: var(--fill-color);\n",
              "      border-top-color: var(--fill-color);\n",
              "      border-right-color: var(--fill-color);\n",
              "    }\n",
              "    40% {\n",
              "      border-color: transparent;\n",
              "      border-right-color: var(--fill-color);\n",
              "      border-top-color: var(--fill-color);\n",
              "    }\n",
              "    60% {\n",
              "      border-color: transparent;\n",
              "      border-right-color: var(--fill-color);\n",
              "    }\n",
              "    80% {\n",
              "      border-color: transparent;\n",
              "      border-right-color: var(--fill-color);\n",
              "      border-bottom-color: var(--fill-color);\n",
              "    }\n",
              "    90% {\n",
              "      border-color: transparent;\n",
              "      border-bottom-color: var(--fill-color);\n",
              "    }\n",
              "  }\n",
              "</style>\n",
              "\n",
              "  <script>\n",
              "    async function quickchart(key) {\n",
              "      const quickchartButtonEl =\n",
              "        document.querySelector('#' + key + ' button');\n",
              "      quickchartButtonEl.disabled = true;  // To prevent multiple clicks.\n",
              "      quickchartButtonEl.classList.add('colab-df-spinner');\n",
              "      try {\n",
              "        const charts = await google.colab.kernel.invokeFunction(\n",
              "            'suggestCharts', [key], {});\n",
              "      } catch (error) {\n",
              "        console.error('Error during call to suggestCharts:', error);\n",
              "      }\n",
              "      quickchartButtonEl.classList.remove('colab-df-spinner');\n",
              "      quickchartButtonEl.classList.add('colab-df-quickchart-complete');\n",
              "    }\n",
              "    (() => {\n",
              "      let quickchartButtonEl =\n",
              "        document.querySelector('#df-9b37e413-51e4-44a2-a4dd-033642d63587 button');\n",
              "      quickchartButtonEl.style.display =\n",
              "        google.colab.kernel.accessAllowed ? 'block' : 'none';\n",
              "    })();\n",
              "  </script>\n",
              "</div>\n",
              "    </div>\n",
              "  </div>\n"
            ]
          },
          "metadata": {},
          "execution_count": 28
        }
      ]
    },
    {
      "cell_type": "markdown",
      "source": [
        "We can also group by more than one variable by specify the variables as a list."
      ],
      "metadata": {
        "id": "J4vUo5zGpisp"
      }
    },
    {
      "cell_type": "code",
      "source": [
        "pd.pivot_table(scores, values = \"AtotalYds\", index = [\"season\", \"week\"], aggfunc = [\"mean\", \"median\", \"std\"])"
      ],
      "metadata": {
        "id": "nGKHJ6lupjJR",
        "outputId": "70463ac2-9d4a-42f7-9c14-6511ae0fed45",
        "colab": {
          "base_uri": "https://localhost:8080/",
          "height": 486
        }
      },
      "execution_count": 29,
      "outputs": [
        {
          "output_type": "execute_result",
          "data": {
            "text/plain": [
              "                        mean    median         std\n",
              "                   AtotalYds AtotalYds   AtotalYds\n",
              "season week                                       \n",
              "2002   1          310.000000     286.0   70.386552\n",
              "       10         352.857143     367.0   76.175766\n",
              "       11         299.125000     332.5   98.892450\n",
              "       12         357.750000     348.0   97.722396\n",
              "       13         314.062500     302.0  104.683949\n",
              "...                      ...       ...         ...\n",
              "2014   9          344.769231     364.0   96.695531\n",
              "       ConfChamp  257.500000     257.5   68.589358\n",
              "       Division   367.250000     363.0   46.399533\n",
              "       SuperBowl  396.000000     396.0         NaN\n",
              "       WildCard   257.000000     276.5  133.434129\n",
              "\n",
              "[273 rows x 3 columns]"
            ],
            "text/html": [
              "\n",
              "  <div id=\"df-99295ce1-fcef-4451-91e3-1bf32cbcaaf3\" class=\"colab-df-container\">\n",
              "    <div>\n",
              "<style scoped>\n",
              "    .dataframe tbody tr th:only-of-type {\n",
              "        vertical-align: middle;\n",
              "    }\n",
              "\n",
              "    .dataframe tbody tr th {\n",
              "        vertical-align: top;\n",
              "    }\n",
              "\n",
              "    .dataframe thead tr th {\n",
              "        text-align: left;\n",
              "    }\n",
              "\n",
              "    .dataframe thead tr:last-of-type th {\n",
              "        text-align: right;\n",
              "    }\n",
              "</style>\n",
              "<table border=\"1\" class=\"dataframe\">\n",
              "  <thead>\n",
              "    <tr>\n",
              "      <th></th>\n",
              "      <th></th>\n",
              "      <th>mean</th>\n",
              "      <th>median</th>\n",
              "      <th>std</th>\n",
              "    </tr>\n",
              "    <tr>\n",
              "      <th></th>\n",
              "      <th></th>\n",
              "      <th>AtotalYds</th>\n",
              "      <th>AtotalYds</th>\n",
              "      <th>AtotalYds</th>\n",
              "    </tr>\n",
              "    <tr>\n",
              "      <th>season</th>\n",
              "      <th>week</th>\n",
              "      <th></th>\n",
              "      <th></th>\n",
              "      <th></th>\n",
              "    </tr>\n",
              "  </thead>\n",
              "  <tbody>\n",
              "    <tr>\n",
              "      <th rowspan=\"5\" valign=\"top\">2002</th>\n",
              "      <th>1</th>\n",
              "      <td>310.000000</td>\n",
              "      <td>286.0</td>\n",
              "      <td>70.386552</td>\n",
              "    </tr>\n",
              "    <tr>\n",
              "      <th>10</th>\n",
              "      <td>352.857143</td>\n",
              "      <td>367.0</td>\n",
              "      <td>76.175766</td>\n",
              "    </tr>\n",
              "    <tr>\n",
              "      <th>11</th>\n",
              "      <td>299.125000</td>\n",
              "      <td>332.5</td>\n",
              "      <td>98.892450</td>\n",
              "    </tr>\n",
              "    <tr>\n",
              "      <th>12</th>\n",
              "      <td>357.750000</td>\n",
              "      <td>348.0</td>\n",
              "      <td>97.722396</td>\n",
              "    </tr>\n",
              "    <tr>\n",
              "      <th>13</th>\n",
              "      <td>314.062500</td>\n",
              "      <td>302.0</td>\n",
              "      <td>104.683949</td>\n",
              "    </tr>\n",
              "    <tr>\n",
              "      <th>...</th>\n",
              "      <th>...</th>\n",
              "      <td>...</td>\n",
              "      <td>...</td>\n",
              "      <td>...</td>\n",
              "    </tr>\n",
              "    <tr>\n",
              "      <th rowspan=\"5\" valign=\"top\">2014</th>\n",
              "      <th>9</th>\n",
              "      <td>344.769231</td>\n",
              "      <td>364.0</td>\n",
              "      <td>96.695531</td>\n",
              "    </tr>\n",
              "    <tr>\n",
              "      <th>ConfChamp</th>\n",
              "      <td>257.500000</td>\n",
              "      <td>257.5</td>\n",
              "      <td>68.589358</td>\n",
              "    </tr>\n",
              "    <tr>\n",
              "      <th>Division</th>\n",
              "      <td>367.250000</td>\n",
              "      <td>363.0</td>\n",
              "      <td>46.399533</td>\n",
              "    </tr>\n",
              "    <tr>\n",
              "      <th>SuperBowl</th>\n",
              "      <td>396.000000</td>\n",
              "      <td>396.0</td>\n",
              "      <td>NaN</td>\n",
              "    </tr>\n",
              "    <tr>\n",
              "      <th>WildCard</th>\n",
              "      <td>257.000000</td>\n",
              "      <td>276.5</td>\n",
              "      <td>133.434129</td>\n",
              "    </tr>\n",
              "  </tbody>\n",
              "</table>\n",
              "<p>273 rows × 3 columns</p>\n",
              "</div>\n",
              "    <div class=\"colab-df-buttons\">\n",
              "\n",
              "  <div class=\"colab-df-container\">\n",
              "    <button class=\"colab-df-convert\" onclick=\"convertToInteractive('df-99295ce1-fcef-4451-91e3-1bf32cbcaaf3')\"\n",
              "            title=\"Convert this dataframe to an interactive table.\"\n",
              "            style=\"display:none;\">\n",
              "\n",
              "  <svg xmlns=\"http://www.w3.org/2000/svg\" height=\"24px\" viewBox=\"0 -960 960 960\">\n",
              "    <path d=\"M120-120v-720h720v720H120Zm60-500h600v-160H180v160Zm220 220h160v-160H400v160Zm0 220h160v-160H400v160ZM180-400h160v-160H180v160Zm440 0h160v-160H620v160ZM180-180h160v-160H180v160Zm440 0h160v-160H620v160Z\"/>\n",
              "  </svg>\n",
              "    </button>\n",
              "\n",
              "  <style>\n",
              "    .colab-df-container {\n",
              "      display:flex;\n",
              "      gap: 12px;\n",
              "    }\n",
              "\n",
              "    .colab-df-convert {\n",
              "      background-color: #E8F0FE;\n",
              "      border: none;\n",
              "      border-radius: 50%;\n",
              "      cursor: pointer;\n",
              "      display: none;\n",
              "      fill: #1967D2;\n",
              "      height: 32px;\n",
              "      padding: 0 0 0 0;\n",
              "      width: 32px;\n",
              "    }\n",
              "\n",
              "    .colab-df-convert:hover {\n",
              "      background-color: #E2EBFA;\n",
              "      box-shadow: 0px 1px 2px rgba(60, 64, 67, 0.3), 0px 1px 3px 1px rgba(60, 64, 67, 0.15);\n",
              "      fill: #174EA6;\n",
              "    }\n",
              "\n",
              "    .colab-df-buttons div {\n",
              "      margin-bottom: 4px;\n",
              "    }\n",
              "\n",
              "    [theme=dark] .colab-df-convert {\n",
              "      background-color: #3B4455;\n",
              "      fill: #D2E3FC;\n",
              "    }\n",
              "\n",
              "    [theme=dark] .colab-df-convert:hover {\n",
              "      background-color: #434B5C;\n",
              "      box-shadow: 0px 1px 3px 1px rgba(0, 0, 0, 0.15);\n",
              "      filter: drop-shadow(0px 1px 2px rgba(0, 0, 0, 0.3));\n",
              "      fill: #FFFFFF;\n",
              "    }\n",
              "  </style>\n",
              "\n",
              "    <script>\n",
              "      const buttonEl =\n",
              "        document.querySelector('#df-99295ce1-fcef-4451-91e3-1bf32cbcaaf3 button.colab-df-convert');\n",
              "      buttonEl.style.display =\n",
              "        google.colab.kernel.accessAllowed ? 'block' : 'none';\n",
              "\n",
              "      async function convertToInteractive(key) {\n",
              "        const element = document.querySelector('#df-99295ce1-fcef-4451-91e3-1bf32cbcaaf3');\n",
              "        const dataTable =\n",
              "          await google.colab.kernel.invokeFunction('convertToInteractive',\n",
              "                                                    [key], {});\n",
              "        if (!dataTable) return;\n",
              "\n",
              "        const docLinkHtml = 'Like what you see? Visit the ' +\n",
              "          '<a target=\"_blank\" href=https://colab.research.google.com/notebooks/data_table.ipynb>data table notebook</a>'\n",
              "          + ' to learn more about interactive tables.';\n",
              "        element.innerHTML = '';\n",
              "        dataTable['output_type'] = 'display_data';\n",
              "        await google.colab.output.renderOutput(dataTable, element);\n",
              "        const docLink = document.createElement('div');\n",
              "        docLink.innerHTML = docLinkHtml;\n",
              "        element.appendChild(docLink);\n",
              "      }\n",
              "    </script>\n",
              "  </div>\n",
              "\n",
              "\n",
              "<div id=\"df-15be7ccc-8be0-47ee-aa5c-29bfc4a11585\">\n",
              "  <button class=\"colab-df-quickchart\" onclick=\"quickchart('df-15be7ccc-8be0-47ee-aa5c-29bfc4a11585')\"\n",
              "            title=\"Suggest charts\"\n",
              "            style=\"display:none;\">\n",
              "\n",
              "<svg xmlns=\"http://www.w3.org/2000/svg\" height=\"24px\"viewBox=\"0 0 24 24\"\n",
              "     width=\"24px\">\n",
              "    <g>\n",
              "        <path d=\"M19 3H5c-1.1 0-2 .9-2 2v14c0 1.1.9 2 2 2h14c1.1 0 2-.9 2-2V5c0-1.1-.9-2-2-2zM9 17H7v-7h2v7zm4 0h-2V7h2v10zm4 0h-2v-4h2v4z\"/>\n",
              "    </g>\n",
              "</svg>\n",
              "  </button>\n",
              "\n",
              "<style>\n",
              "  .colab-df-quickchart {\n",
              "      --bg-color: #E8F0FE;\n",
              "      --fill-color: #1967D2;\n",
              "      --hover-bg-color: #E2EBFA;\n",
              "      --hover-fill-color: #174EA6;\n",
              "      --disabled-fill-color: #AAA;\n",
              "      --disabled-bg-color: #DDD;\n",
              "  }\n",
              "\n",
              "  [theme=dark] .colab-df-quickchart {\n",
              "      --bg-color: #3B4455;\n",
              "      --fill-color: #D2E3FC;\n",
              "      --hover-bg-color: #434B5C;\n",
              "      --hover-fill-color: #FFFFFF;\n",
              "      --disabled-bg-color: #3B4455;\n",
              "      --disabled-fill-color: #666;\n",
              "  }\n",
              "\n",
              "  .colab-df-quickchart {\n",
              "    background-color: var(--bg-color);\n",
              "    border: none;\n",
              "    border-radius: 50%;\n",
              "    cursor: pointer;\n",
              "    display: none;\n",
              "    fill: var(--fill-color);\n",
              "    height: 32px;\n",
              "    padding: 0;\n",
              "    width: 32px;\n",
              "  }\n",
              "\n",
              "  .colab-df-quickchart:hover {\n",
              "    background-color: var(--hover-bg-color);\n",
              "    box-shadow: 0 1px 2px rgba(60, 64, 67, 0.3), 0 1px 3px 1px rgba(60, 64, 67, 0.15);\n",
              "    fill: var(--button-hover-fill-color);\n",
              "  }\n",
              "\n",
              "  .colab-df-quickchart-complete:disabled,\n",
              "  .colab-df-quickchart-complete:disabled:hover {\n",
              "    background-color: var(--disabled-bg-color);\n",
              "    fill: var(--disabled-fill-color);\n",
              "    box-shadow: none;\n",
              "  }\n",
              "\n",
              "  .colab-df-spinner {\n",
              "    border: 2px solid var(--fill-color);\n",
              "    border-color: transparent;\n",
              "    border-bottom-color: var(--fill-color);\n",
              "    animation:\n",
              "      spin 1s steps(1) infinite;\n",
              "  }\n",
              "\n",
              "  @keyframes spin {\n",
              "    0% {\n",
              "      border-color: transparent;\n",
              "      border-bottom-color: var(--fill-color);\n",
              "      border-left-color: var(--fill-color);\n",
              "    }\n",
              "    20% {\n",
              "      border-color: transparent;\n",
              "      border-left-color: var(--fill-color);\n",
              "      border-top-color: var(--fill-color);\n",
              "    }\n",
              "    30% {\n",
              "      border-color: transparent;\n",
              "      border-left-color: var(--fill-color);\n",
              "      border-top-color: var(--fill-color);\n",
              "      border-right-color: var(--fill-color);\n",
              "    }\n",
              "    40% {\n",
              "      border-color: transparent;\n",
              "      border-right-color: var(--fill-color);\n",
              "      border-top-color: var(--fill-color);\n",
              "    }\n",
              "    60% {\n",
              "      border-color: transparent;\n",
              "      border-right-color: var(--fill-color);\n",
              "    }\n",
              "    80% {\n",
              "      border-color: transparent;\n",
              "      border-right-color: var(--fill-color);\n",
              "      border-bottom-color: var(--fill-color);\n",
              "    }\n",
              "    90% {\n",
              "      border-color: transparent;\n",
              "      border-bottom-color: var(--fill-color);\n",
              "    }\n",
              "  }\n",
              "</style>\n",
              "\n",
              "  <script>\n",
              "    async function quickchart(key) {\n",
              "      const quickchartButtonEl =\n",
              "        document.querySelector('#' + key + ' button');\n",
              "      quickchartButtonEl.disabled = true;  // To prevent multiple clicks.\n",
              "      quickchartButtonEl.classList.add('colab-df-spinner');\n",
              "      try {\n",
              "        const charts = await google.colab.kernel.invokeFunction(\n",
              "            'suggestCharts', [key], {});\n",
              "      } catch (error) {\n",
              "        console.error('Error during call to suggestCharts:', error);\n",
              "      }\n",
              "      quickchartButtonEl.classList.remove('colab-df-spinner');\n",
              "      quickchartButtonEl.classList.add('colab-df-quickchart-complete');\n",
              "    }\n",
              "    (() => {\n",
              "      let quickchartButtonEl =\n",
              "        document.querySelector('#df-15be7ccc-8be0-47ee-aa5c-29bfc4a11585 button');\n",
              "      quickchartButtonEl.style.display =\n",
              "        google.colab.kernel.accessAllowed ? 'block' : 'none';\n",
              "    })();\n",
              "  </script>\n",
              "</div>\n",
              "    </div>\n",
              "  </div>\n"
            ]
          },
          "metadata": {},
          "execution_count": 29
        }
      ]
    },
    {
      "cell_type": "markdown",
      "source": [
        "### `.agg()` method\n",
        "\n",
        "The `.agg()` method gives us another way to create summary stats.  We can create a variable and pass a tuple containing the column to summarize and the function to use when summarizing.\n"
      ],
      "metadata": {
        "id": "ZLP5AkPRpk9Z"
      }
    },
    {
      "cell_type": "code",
      "source": [
        "scores.agg(max_AtotalYds = (\"AtotalYds\", \"max\"))"
      ],
      "metadata": {
        "id": "f7eJph1qtQZ5",
        "outputId": "f85d1b61-f2d9-45ea-fe54-a616f3aeaaa9",
        "colab": {
          "base_uri": "https://localhost:8080/",
          "height": 81
        }
      },
      "execution_count": 31,
      "outputs": [
        {
          "output_type": "execute_result",
          "data": {
            "text/plain": [
              "               AtotalYds\n",
              "max_AtotalYds        622"
            ],
            "text/html": [
              "\n",
              "  <div id=\"df-f90890e0-0f27-40fd-83c6-9a63fb1c7763\" class=\"colab-df-container\">\n",
              "    <div>\n",
              "<style scoped>\n",
              "    .dataframe tbody tr th:only-of-type {\n",
              "        vertical-align: middle;\n",
              "    }\n",
              "\n",
              "    .dataframe tbody tr th {\n",
              "        vertical-align: top;\n",
              "    }\n",
              "\n",
              "    .dataframe thead th {\n",
              "        text-align: right;\n",
              "    }\n",
              "</style>\n",
              "<table border=\"1\" class=\"dataframe\">\n",
              "  <thead>\n",
              "    <tr style=\"text-align: right;\">\n",
              "      <th></th>\n",
              "      <th>AtotalYds</th>\n",
              "    </tr>\n",
              "  </thead>\n",
              "  <tbody>\n",
              "    <tr>\n",
              "      <th>max_AtotalYds</th>\n",
              "      <td>622</td>\n",
              "    </tr>\n",
              "  </tbody>\n",
              "</table>\n",
              "</div>\n",
              "    <div class=\"colab-df-buttons\">\n",
              "\n",
              "  <div class=\"colab-df-container\">\n",
              "    <button class=\"colab-df-convert\" onclick=\"convertToInteractive('df-f90890e0-0f27-40fd-83c6-9a63fb1c7763')\"\n",
              "            title=\"Convert this dataframe to an interactive table.\"\n",
              "            style=\"display:none;\">\n",
              "\n",
              "  <svg xmlns=\"http://www.w3.org/2000/svg\" height=\"24px\" viewBox=\"0 -960 960 960\">\n",
              "    <path d=\"M120-120v-720h720v720H120Zm60-500h600v-160H180v160Zm220 220h160v-160H400v160Zm0 220h160v-160H400v160ZM180-400h160v-160H180v160Zm440 0h160v-160H620v160ZM180-180h160v-160H180v160Zm440 0h160v-160H620v160Z\"/>\n",
              "  </svg>\n",
              "    </button>\n",
              "\n",
              "  <style>\n",
              "    .colab-df-container {\n",
              "      display:flex;\n",
              "      gap: 12px;\n",
              "    }\n",
              "\n",
              "    .colab-df-convert {\n",
              "      background-color: #E8F0FE;\n",
              "      border: none;\n",
              "      border-radius: 50%;\n",
              "      cursor: pointer;\n",
              "      display: none;\n",
              "      fill: #1967D2;\n",
              "      height: 32px;\n",
              "      padding: 0 0 0 0;\n",
              "      width: 32px;\n",
              "    }\n",
              "\n",
              "    .colab-df-convert:hover {\n",
              "      background-color: #E2EBFA;\n",
              "      box-shadow: 0px 1px 2px rgba(60, 64, 67, 0.3), 0px 1px 3px 1px rgba(60, 64, 67, 0.15);\n",
              "      fill: #174EA6;\n",
              "    }\n",
              "\n",
              "    .colab-df-buttons div {\n",
              "      margin-bottom: 4px;\n",
              "    }\n",
              "\n",
              "    [theme=dark] .colab-df-convert {\n",
              "      background-color: #3B4455;\n",
              "      fill: #D2E3FC;\n",
              "    }\n",
              "\n",
              "    [theme=dark] .colab-df-convert:hover {\n",
              "      background-color: #434B5C;\n",
              "      box-shadow: 0px 1px 3px 1px rgba(0, 0, 0, 0.15);\n",
              "      filter: drop-shadow(0px 1px 2px rgba(0, 0, 0, 0.3));\n",
              "      fill: #FFFFFF;\n",
              "    }\n",
              "  </style>\n",
              "\n",
              "    <script>\n",
              "      const buttonEl =\n",
              "        document.querySelector('#df-f90890e0-0f27-40fd-83c6-9a63fb1c7763 button.colab-df-convert');\n",
              "      buttonEl.style.display =\n",
              "        google.colab.kernel.accessAllowed ? 'block' : 'none';\n",
              "\n",
              "      async function convertToInteractive(key) {\n",
              "        const element = document.querySelector('#df-f90890e0-0f27-40fd-83c6-9a63fb1c7763');\n",
              "        const dataTable =\n",
              "          await google.colab.kernel.invokeFunction('convertToInteractive',\n",
              "                                                    [key], {});\n",
              "        if (!dataTable) return;\n",
              "\n",
              "        const docLinkHtml = 'Like what you see? Visit the ' +\n",
              "          '<a target=\"_blank\" href=https://colab.research.google.com/notebooks/data_table.ipynb>data table notebook</a>'\n",
              "          + ' to learn more about interactive tables.';\n",
              "        element.innerHTML = '';\n",
              "        dataTable['output_type'] = 'display_data';\n",
              "        await google.colab.output.renderOutput(dataTable, element);\n",
              "        const docLink = document.createElement('div');\n",
              "        docLink.innerHTML = docLinkHtml;\n",
              "        element.appendChild(docLink);\n",
              "      }\n",
              "    </script>\n",
              "  </div>\n",
              "\n",
              "    </div>\n",
              "  </div>\n"
            ]
          },
          "metadata": {},
          "execution_count": 31
        }
      ]
    },
    {
      "cell_type": "markdown",
      "source": [
        "We can create multiple summaries easily by specifying more than one variable.  These summaries also respect the `groupby()` groupings!"
      ],
      "metadata": {
        "id": "jglUsSkXplJg"
      }
    },
    {
      "cell_type": "code",
      "source": [
        "scores.groupby(\"season\").agg(max_AtotalYds = (\"AtotalYds\", \"max\"))"
      ],
      "metadata": {
        "id": "9QcGHgykplNi",
        "outputId": "b8e25d06-512a-4946-853b-6bcec14b5e90",
        "colab": {
          "base_uri": "https://localhost:8080/",
          "height": 488
        }
      },
      "execution_count": 32,
      "outputs": [
        {
          "output_type": "execute_result",
          "data": {
            "text/plain": [
              "        max_AtotalYds\n",
              "season               \n",
              "2002              591\n",
              "2003              548\n",
              "2004              605\n",
              "2005              494\n",
              "2006              536\n",
              "2007              531\n",
              "2008              564\n",
              "2009              524\n",
              "2010              592\n",
              "2011              622\n",
              "2012              583\n",
              "2013              542\n",
              "2014              596"
            ],
            "text/html": [
              "\n",
              "  <div id=\"df-3a6a5237-d63d-44d4-967b-9b8337ab0b04\" class=\"colab-df-container\">\n",
              "    <div>\n",
              "<style scoped>\n",
              "    .dataframe tbody tr th:only-of-type {\n",
              "        vertical-align: middle;\n",
              "    }\n",
              "\n",
              "    .dataframe tbody tr th {\n",
              "        vertical-align: top;\n",
              "    }\n",
              "\n",
              "    .dataframe thead th {\n",
              "        text-align: right;\n",
              "    }\n",
              "</style>\n",
              "<table border=\"1\" class=\"dataframe\">\n",
              "  <thead>\n",
              "    <tr style=\"text-align: right;\">\n",
              "      <th></th>\n",
              "      <th>max_AtotalYds</th>\n",
              "    </tr>\n",
              "    <tr>\n",
              "      <th>season</th>\n",
              "      <th></th>\n",
              "    </tr>\n",
              "  </thead>\n",
              "  <tbody>\n",
              "    <tr>\n",
              "      <th>2002</th>\n",
              "      <td>591</td>\n",
              "    </tr>\n",
              "    <tr>\n",
              "      <th>2003</th>\n",
              "      <td>548</td>\n",
              "    </tr>\n",
              "    <tr>\n",
              "      <th>2004</th>\n",
              "      <td>605</td>\n",
              "    </tr>\n",
              "    <tr>\n",
              "      <th>2005</th>\n",
              "      <td>494</td>\n",
              "    </tr>\n",
              "    <tr>\n",
              "      <th>2006</th>\n",
              "      <td>536</td>\n",
              "    </tr>\n",
              "    <tr>\n",
              "      <th>2007</th>\n",
              "      <td>531</td>\n",
              "    </tr>\n",
              "    <tr>\n",
              "      <th>2008</th>\n",
              "      <td>564</td>\n",
              "    </tr>\n",
              "    <tr>\n",
              "      <th>2009</th>\n",
              "      <td>524</td>\n",
              "    </tr>\n",
              "    <tr>\n",
              "      <th>2010</th>\n",
              "      <td>592</td>\n",
              "    </tr>\n",
              "    <tr>\n",
              "      <th>2011</th>\n",
              "      <td>622</td>\n",
              "    </tr>\n",
              "    <tr>\n",
              "      <th>2012</th>\n",
              "      <td>583</td>\n",
              "    </tr>\n",
              "    <tr>\n",
              "      <th>2013</th>\n",
              "      <td>542</td>\n",
              "    </tr>\n",
              "    <tr>\n",
              "      <th>2014</th>\n",
              "      <td>596</td>\n",
              "    </tr>\n",
              "  </tbody>\n",
              "</table>\n",
              "</div>\n",
              "    <div class=\"colab-df-buttons\">\n",
              "\n",
              "  <div class=\"colab-df-container\">\n",
              "    <button class=\"colab-df-convert\" onclick=\"convertToInteractive('df-3a6a5237-d63d-44d4-967b-9b8337ab0b04')\"\n",
              "            title=\"Convert this dataframe to an interactive table.\"\n",
              "            style=\"display:none;\">\n",
              "\n",
              "  <svg xmlns=\"http://www.w3.org/2000/svg\" height=\"24px\" viewBox=\"0 -960 960 960\">\n",
              "    <path d=\"M120-120v-720h720v720H120Zm60-500h600v-160H180v160Zm220 220h160v-160H400v160Zm0 220h160v-160H400v160ZM180-400h160v-160H180v160Zm440 0h160v-160H620v160ZM180-180h160v-160H180v160Zm440 0h160v-160H620v160Z\"/>\n",
              "  </svg>\n",
              "    </button>\n",
              "\n",
              "  <style>\n",
              "    .colab-df-container {\n",
              "      display:flex;\n",
              "      gap: 12px;\n",
              "    }\n",
              "\n",
              "    .colab-df-convert {\n",
              "      background-color: #E8F0FE;\n",
              "      border: none;\n",
              "      border-radius: 50%;\n",
              "      cursor: pointer;\n",
              "      display: none;\n",
              "      fill: #1967D2;\n",
              "      height: 32px;\n",
              "      padding: 0 0 0 0;\n",
              "      width: 32px;\n",
              "    }\n",
              "\n",
              "    .colab-df-convert:hover {\n",
              "      background-color: #E2EBFA;\n",
              "      box-shadow: 0px 1px 2px rgba(60, 64, 67, 0.3), 0px 1px 3px 1px rgba(60, 64, 67, 0.15);\n",
              "      fill: #174EA6;\n",
              "    }\n",
              "\n",
              "    .colab-df-buttons div {\n",
              "      margin-bottom: 4px;\n",
              "    }\n",
              "\n",
              "    [theme=dark] .colab-df-convert {\n",
              "      background-color: #3B4455;\n",
              "      fill: #D2E3FC;\n",
              "    }\n",
              "\n",
              "    [theme=dark] .colab-df-convert:hover {\n",
              "      background-color: #434B5C;\n",
              "      box-shadow: 0px 1px 3px 1px rgba(0, 0, 0, 0.15);\n",
              "      filter: drop-shadow(0px 1px 2px rgba(0, 0, 0, 0.3));\n",
              "      fill: #FFFFFF;\n",
              "    }\n",
              "  </style>\n",
              "\n",
              "    <script>\n",
              "      const buttonEl =\n",
              "        document.querySelector('#df-3a6a5237-d63d-44d4-967b-9b8337ab0b04 button.colab-df-convert');\n",
              "      buttonEl.style.display =\n",
              "        google.colab.kernel.accessAllowed ? 'block' : 'none';\n",
              "\n",
              "      async function convertToInteractive(key) {\n",
              "        const element = document.querySelector('#df-3a6a5237-d63d-44d4-967b-9b8337ab0b04');\n",
              "        const dataTable =\n",
              "          await google.colab.kernel.invokeFunction('convertToInteractive',\n",
              "                                                    [key], {});\n",
              "        if (!dataTable) return;\n",
              "\n",
              "        const docLinkHtml = 'Like what you see? Visit the ' +\n",
              "          '<a target=\"_blank\" href=https://colab.research.google.com/notebooks/data_table.ipynb>data table notebook</a>'\n",
              "          + ' to learn more about interactive tables.';\n",
              "        element.innerHTML = '';\n",
              "        dataTable['output_type'] = 'display_data';\n",
              "        await google.colab.output.renderOutput(dataTable, element);\n",
              "        const docLink = document.createElement('div');\n",
              "        docLink.innerHTML = docLinkHtml;\n",
              "        element.appendChild(docLink);\n",
              "      }\n",
              "    </script>\n",
              "  </div>\n",
              "\n",
              "\n",
              "<div id=\"df-dcc74c1a-a71b-4db2-a41a-e53727a921cb\">\n",
              "  <button class=\"colab-df-quickchart\" onclick=\"quickchart('df-dcc74c1a-a71b-4db2-a41a-e53727a921cb')\"\n",
              "            title=\"Suggest charts\"\n",
              "            style=\"display:none;\">\n",
              "\n",
              "<svg xmlns=\"http://www.w3.org/2000/svg\" height=\"24px\"viewBox=\"0 0 24 24\"\n",
              "     width=\"24px\">\n",
              "    <g>\n",
              "        <path d=\"M19 3H5c-1.1 0-2 .9-2 2v14c0 1.1.9 2 2 2h14c1.1 0 2-.9 2-2V5c0-1.1-.9-2-2-2zM9 17H7v-7h2v7zm4 0h-2V7h2v10zm4 0h-2v-4h2v4z\"/>\n",
              "    </g>\n",
              "</svg>\n",
              "  </button>\n",
              "\n",
              "<style>\n",
              "  .colab-df-quickchart {\n",
              "      --bg-color: #E8F0FE;\n",
              "      --fill-color: #1967D2;\n",
              "      --hover-bg-color: #E2EBFA;\n",
              "      --hover-fill-color: #174EA6;\n",
              "      --disabled-fill-color: #AAA;\n",
              "      --disabled-bg-color: #DDD;\n",
              "  }\n",
              "\n",
              "  [theme=dark] .colab-df-quickchart {\n",
              "      --bg-color: #3B4455;\n",
              "      --fill-color: #D2E3FC;\n",
              "      --hover-bg-color: #434B5C;\n",
              "      --hover-fill-color: #FFFFFF;\n",
              "      --disabled-bg-color: #3B4455;\n",
              "      --disabled-fill-color: #666;\n",
              "  }\n",
              "\n",
              "  .colab-df-quickchart {\n",
              "    background-color: var(--bg-color);\n",
              "    border: none;\n",
              "    border-radius: 50%;\n",
              "    cursor: pointer;\n",
              "    display: none;\n",
              "    fill: var(--fill-color);\n",
              "    height: 32px;\n",
              "    padding: 0;\n",
              "    width: 32px;\n",
              "  }\n",
              "\n",
              "  .colab-df-quickchart:hover {\n",
              "    background-color: var(--hover-bg-color);\n",
              "    box-shadow: 0 1px 2px rgba(60, 64, 67, 0.3), 0 1px 3px 1px rgba(60, 64, 67, 0.15);\n",
              "    fill: var(--button-hover-fill-color);\n",
              "  }\n",
              "\n",
              "  .colab-df-quickchart-complete:disabled,\n",
              "  .colab-df-quickchart-complete:disabled:hover {\n",
              "    background-color: var(--disabled-bg-color);\n",
              "    fill: var(--disabled-fill-color);\n",
              "    box-shadow: none;\n",
              "  }\n",
              "\n",
              "  .colab-df-spinner {\n",
              "    border: 2px solid var(--fill-color);\n",
              "    border-color: transparent;\n",
              "    border-bottom-color: var(--fill-color);\n",
              "    animation:\n",
              "      spin 1s steps(1) infinite;\n",
              "  }\n",
              "\n",
              "  @keyframes spin {\n",
              "    0% {\n",
              "      border-color: transparent;\n",
              "      border-bottom-color: var(--fill-color);\n",
              "      border-left-color: var(--fill-color);\n",
              "    }\n",
              "    20% {\n",
              "      border-color: transparent;\n",
              "      border-left-color: var(--fill-color);\n",
              "      border-top-color: var(--fill-color);\n",
              "    }\n",
              "    30% {\n",
              "      border-color: transparent;\n",
              "      border-left-color: var(--fill-color);\n",
              "      border-top-color: var(--fill-color);\n",
              "      border-right-color: var(--fill-color);\n",
              "    }\n",
              "    40% {\n",
              "      border-color: transparent;\n",
              "      border-right-color: var(--fill-color);\n",
              "      border-top-color: var(--fill-color);\n",
              "    }\n",
              "    60% {\n",
              "      border-color: transparent;\n",
              "      border-right-color: var(--fill-color);\n",
              "    }\n",
              "    80% {\n",
              "      border-color: transparent;\n",
              "      border-right-color: var(--fill-color);\n",
              "      border-bottom-color: var(--fill-color);\n",
              "    }\n",
              "    90% {\n",
              "      border-color: transparent;\n",
              "      border-bottom-color: var(--fill-color);\n",
              "    }\n",
              "  }\n",
              "</style>\n",
              "\n",
              "  <script>\n",
              "    async function quickchart(key) {\n",
              "      const quickchartButtonEl =\n",
              "        document.querySelector('#' + key + ' button');\n",
              "      quickchartButtonEl.disabled = true;  // To prevent multiple clicks.\n",
              "      quickchartButtonEl.classList.add('colab-df-spinner');\n",
              "      try {\n",
              "        const charts = await google.colab.kernel.invokeFunction(\n",
              "            'suggestCharts', [key], {});\n",
              "      } catch (error) {\n",
              "        console.error('Error during call to suggestCharts:', error);\n",
              "      }\n",
              "      quickchartButtonEl.classList.remove('colab-df-spinner');\n",
              "      quickchartButtonEl.classList.add('colab-df-quickchart-complete');\n",
              "    }\n",
              "    (() => {\n",
              "      let quickchartButtonEl =\n",
              "        document.querySelector('#df-dcc74c1a-a71b-4db2-a41a-e53727a921cb button');\n",
              "      quickchartButtonEl.style.display =\n",
              "        google.colab.kernel.accessAllowed ? 'block' : 'none';\n",
              "    })();\n",
              "  </script>\n",
              "</div>\n",
              "    </div>\n",
              "  </div>\n"
            ]
          },
          "metadata": {},
          "execution_count": 32
        }
      ]
    },
    {
      "cell_type": "code",
      "source": [
        "scores \\\n",
        ".groupby(\"season\") \\\n",
        ".agg(max_AtotalYds = (\"AtotalYds\", \"max\"),\n",
        "     min_AtotalYds = (\"AtotalYds\", \"min\"))"
      ],
      "metadata": {
        "id": "93niMUvZplRQ",
        "outputId": "67456dac-a9d2-4b19-e5eb-37c4a5db45a8",
        "colab": {
          "base_uri": "https://localhost:8080/",
          "height": 488
        }
      },
      "execution_count": 34,
      "outputs": [
        {
          "output_type": "execute_result",
          "data": {
            "text/plain": [
              "        max_AtotalYds  min_AtotalYds\n",
              "season                              \n",
              "2002              591             47\n",
              "2003              548             96\n",
              "2004              605             26\n",
              "2005              494            113\n",
              "2006              536            104\n",
              "2007              531            104\n",
              "2008              564            125\n",
              "2009              524             72\n",
              "2010              592             67\n",
              "2011              622            137\n",
              "2012              583            119\n",
              "2013              542            103\n",
              "2014              596             78"
            ],
            "text/html": [
              "\n",
              "  <div id=\"df-291de9b0-f415-4371-bc42-2879d482dbd5\" class=\"colab-df-container\">\n",
              "    <div>\n",
              "<style scoped>\n",
              "    .dataframe tbody tr th:only-of-type {\n",
              "        vertical-align: middle;\n",
              "    }\n",
              "\n",
              "    .dataframe tbody tr th {\n",
              "        vertical-align: top;\n",
              "    }\n",
              "\n",
              "    .dataframe thead th {\n",
              "        text-align: right;\n",
              "    }\n",
              "</style>\n",
              "<table border=\"1\" class=\"dataframe\">\n",
              "  <thead>\n",
              "    <tr style=\"text-align: right;\">\n",
              "      <th></th>\n",
              "      <th>max_AtotalYds</th>\n",
              "      <th>min_AtotalYds</th>\n",
              "    </tr>\n",
              "    <tr>\n",
              "      <th>season</th>\n",
              "      <th></th>\n",
              "      <th></th>\n",
              "    </tr>\n",
              "  </thead>\n",
              "  <tbody>\n",
              "    <tr>\n",
              "      <th>2002</th>\n",
              "      <td>591</td>\n",
              "      <td>47</td>\n",
              "    </tr>\n",
              "    <tr>\n",
              "      <th>2003</th>\n",
              "      <td>548</td>\n",
              "      <td>96</td>\n",
              "    </tr>\n",
              "    <tr>\n",
              "      <th>2004</th>\n",
              "      <td>605</td>\n",
              "      <td>26</td>\n",
              "    </tr>\n",
              "    <tr>\n",
              "      <th>2005</th>\n",
              "      <td>494</td>\n",
              "      <td>113</td>\n",
              "    </tr>\n",
              "    <tr>\n",
              "      <th>2006</th>\n",
              "      <td>536</td>\n",
              "      <td>104</td>\n",
              "    </tr>\n",
              "    <tr>\n",
              "      <th>2007</th>\n",
              "      <td>531</td>\n",
              "      <td>104</td>\n",
              "    </tr>\n",
              "    <tr>\n",
              "      <th>2008</th>\n",
              "      <td>564</td>\n",
              "      <td>125</td>\n",
              "    </tr>\n",
              "    <tr>\n",
              "      <th>2009</th>\n",
              "      <td>524</td>\n",
              "      <td>72</td>\n",
              "    </tr>\n",
              "    <tr>\n",
              "      <th>2010</th>\n",
              "      <td>592</td>\n",
              "      <td>67</td>\n",
              "    </tr>\n",
              "    <tr>\n",
              "      <th>2011</th>\n",
              "      <td>622</td>\n",
              "      <td>137</td>\n",
              "    </tr>\n",
              "    <tr>\n",
              "      <th>2012</th>\n",
              "      <td>583</td>\n",
              "      <td>119</td>\n",
              "    </tr>\n",
              "    <tr>\n",
              "      <th>2013</th>\n",
              "      <td>542</td>\n",
              "      <td>103</td>\n",
              "    </tr>\n",
              "    <tr>\n",
              "      <th>2014</th>\n",
              "      <td>596</td>\n",
              "      <td>78</td>\n",
              "    </tr>\n",
              "  </tbody>\n",
              "</table>\n",
              "</div>\n",
              "    <div class=\"colab-df-buttons\">\n",
              "\n",
              "  <div class=\"colab-df-container\">\n",
              "    <button class=\"colab-df-convert\" onclick=\"convertToInteractive('df-291de9b0-f415-4371-bc42-2879d482dbd5')\"\n",
              "            title=\"Convert this dataframe to an interactive table.\"\n",
              "            style=\"display:none;\">\n",
              "\n",
              "  <svg xmlns=\"http://www.w3.org/2000/svg\" height=\"24px\" viewBox=\"0 -960 960 960\">\n",
              "    <path d=\"M120-120v-720h720v720H120Zm60-500h600v-160H180v160Zm220 220h160v-160H400v160Zm0 220h160v-160H400v160ZM180-400h160v-160H180v160Zm440 0h160v-160H620v160ZM180-180h160v-160H180v160Zm440 0h160v-160H620v160Z\"/>\n",
              "  </svg>\n",
              "    </button>\n",
              "\n",
              "  <style>\n",
              "    .colab-df-container {\n",
              "      display:flex;\n",
              "      gap: 12px;\n",
              "    }\n",
              "\n",
              "    .colab-df-convert {\n",
              "      background-color: #E8F0FE;\n",
              "      border: none;\n",
              "      border-radius: 50%;\n",
              "      cursor: pointer;\n",
              "      display: none;\n",
              "      fill: #1967D2;\n",
              "      height: 32px;\n",
              "      padding: 0 0 0 0;\n",
              "      width: 32px;\n",
              "    }\n",
              "\n",
              "    .colab-df-convert:hover {\n",
              "      background-color: #E2EBFA;\n",
              "      box-shadow: 0px 1px 2px rgba(60, 64, 67, 0.3), 0px 1px 3px 1px rgba(60, 64, 67, 0.15);\n",
              "      fill: #174EA6;\n",
              "    }\n",
              "\n",
              "    .colab-df-buttons div {\n",
              "      margin-bottom: 4px;\n",
              "    }\n",
              "\n",
              "    [theme=dark] .colab-df-convert {\n",
              "      background-color: #3B4455;\n",
              "      fill: #D2E3FC;\n",
              "    }\n",
              "\n",
              "    [theme=dark] .colab-df-convert:hover {\n",
              "      background-color: #434B5C;\n",
              "      box-shadow: 0px 1px 3px 1px rgba(0, 0, 0, 0.15);\n",
              "      filter: drop-shadow(0px 1px 2px rgba(0, 0, 0, 0.3));\n",
              "      fill: #FFFFFF;\n",
              "    }\n",
              "  </style>\n",
              "\n",
              "    <script>\n",
              "      const buttonEl =\n",
              "        document.querySelector('#df-291de9b0-f415-4371-bc42-2879d482dbd5 button.colab-df-convert');\n",
              "      buttonEl.style.display =\n",
              "        google.colab.kernel.accessAllowed ? 'block' : 'none';\n",
              "\n",
              "      async function convertToInteractive(key) {\n",
              "        const element = document.querySelector('#df-291de9b0-f415-4371-bc42-2879d482dbd5');\n",
              "        const dataTable =\n",
              "          await google.colab.kernel.invokeFunction('convertToInteractive',\n",
              "                                                    [key], {});\n",
              "        if (!dataTable) return;\n",
              "\n",
              "        const docLinkHtml = 'Like what you see? Visit the ' +\n",
              "          '<a target=\"_blank\" href=https://colab.research.google.com/notebooks/data_table.ipynb>data table notebook</a>'\n",
              "          + ' to learn more about interactive tables.';\n",
              "        element.innerHTML = '';\n",
              "        dataTable['output_type'] = 'display_data';\n",
              "        await google.colab.output.renderOutput(dataTable, element);\n",
              "        const docLink = document.createElement('div');\n",
              "        docLink.innerHTML = docLinkHtml;\n",
              "        element.appendChild(docLink);\n",
              "      }\n",
              "    </script>\n",
              "  </div>\n",
              "\n",
              "\n",
              "<div id=\"df-1cbb4ef9-bd97-4b1c-b691-823303ddbd9f\">\n",
              "  <button class=\"colab-df-quickchart\" onclick=\"quickchart('df-1cbb4ef9-bd97-4b1c-b691-823303ddbd9f')\"\n",
              "            title=\"Suggest charts\"\n",
              "            style=\"display:none;\">\n",
              "\n",
              "<svg xmlns=\"http://www.w3.org/2000/svg\" height=\"24px\"viewBox=\"0 0 24 24\"\n",
              "     width=\"24px\">\n",
              "    <g>\n",
              "        <path d=\"M19 3H5c-1.1 0-2 .9-2 2v14c0 1.1.9 2 2 2h14c1.1 0 2-.9 2-2V5c0-1.1-.9-2-2-2zM9 17H7v-7h2v7zm4 0h-2V7h2v10zm4 0h-2v-4h2v4z\"/>\n",
              "    </g>\n",
              "</svg>\n",
              "  </button>\n",
              "\n",
              "<style>\n",
              "  .colab-df-quickchart {\n",
              "      --bg-color: #E8F0FE;\n",
              "      --fill-color: #1967D2;\n",
              "      --hover-bg-color: #E2EBFA;\n",
              "      --hover-fill-color: #174EA6;\n",
              "      --disabled-fill-color: #AAA;\n",
              "      --disabled-bg-color: #DDD;\n",
              "  }\n",
              "\n",
              "  [theme=dark] .colab-df-quickchart {\n",
              "      --bg-color: #3B4455;\n",
              "      --fill-color: #D2E3FC;\n",
              "      --hover-bg-color: #434B5C;\n",
              "      --hover-fill-color: #FFFFFF;\n",
              "      --disabled-bg-color: #3B4455;\n",
              "      --disabled-fill-color: #666;\n",
              "  }\n",
              "\n",
              "  .colab-df-quickchart {\n",
              "    background-color: var(--bg-color);\n",
              "    border: none;\n",
              "    border-radius: 50%;\n",
              "    cursor: pointer;\n",
              "    display: none;\n",
              "    fill: var(--fill-color);\n",
              "    height: 32px;\n",
              "    padding: 0;\n",
              "    width: 32px;\n",
              "  }\n",
              "\n",
              "  .colab-df-quickchart:hover {\n",
              "    background-color: var(--hover-bg-color);\n",
              "    box-shadow: 0 1px 2px rgba(60, 64, 67, 0.3), 0 1px 3px 1px rgba(60, 64, 67, 0.15);\n",
              "    fill: var(--button-hover-fill-color);\n",
              "  }\n",
              "\n",
              "  .colab-df-quickchart-complete:disabled,\n",
              "  .colab-df-quickchart-complete:disabled:hover {\n",
              "    background-color: var(--disabled-bg-color);\n",
              "    fill: var(--disabled-fill-color);\n",
              "    box-shadow: none;\n",
              "  }\n",
              "\n",
              "  .colab-df-spinner {\n",
              "    border: 2px solid var(--fill-color);\n",
              "    border-color: transparent;\n",
              "    border-bottom-color: var(--fill-color);\n",
              "    animation:\n",
              "      spin 1s steps(1) infinite;\n",
              "  }\n",
              "\n",
              "  @keyframes spin {\n",
              "    0% {\n",
              "      border-color: transparent;\n",
              "      border-bottom-color: var(--fill-color);\n",
              "      border-left-color: var(--fill-color);\n",
              "    }\n",
              "    20% {\n",
              "      border-color: transparent;\n",
              "      border-left-color: var(--fill-color);\n",
              "      border-top-color: var(--fill-color);\n",
              "    }\n",
              "    30% {\n",
              "      border-color: transparent;\n",
              "      border-left-color: var(--fill-color);\n",
              "      border-top-color: var(--fill-color);\n",
              "      border-right-color: var(--fill-color);\n",
              "    }\n",
              "    40% {\n",
              "      border-color: transparent;\n",
              "      border-right-color: var(--fill-color);\n",
              "      border-top-color: var(--fill-color);\n",
              "    }\n",
              "    60% {\n",
              "      border-color: transparent;\n",
              "      border-right-color: var(--fill-color);\n",
              "    }\n",
              "    80% {\n",
              "      border-color: transparent;\n",
              "      border-right-color: var(--fill-color);\n",
              "      border-bottom-color: var(--fill-color);\n",
              "    }\n",
              "    90% {\n",
              "      border-color: transparent;\n",
              "      border-bottom-color: var(--fill-color);\n",
              "    }\n",
              "  }\n",
              "</style>\n",
              "\n",
              "  <script>\n",
              "    async function quickchart(key) {\n",
              "      const quickchartButtonEl =\n",
              "        document.querySelector('#' + key + ' button');\n",
              "      quickchartButtonEl.disabled = true;  // To prevent multiple clicks.\n",
              "      quickchartButtonEl.classList.add('colab-df-spinner');\n",
              "      try {\n",
              "        const charts = await google.colab.kernel.invokeFunction(\n",
              "            'suggestCharts', [key], {});\n",
              "      } catch (error) {\n",
              "        console.error('Error during call to suggestCharts:', error);\n",
              "      }\n",
              "      quickchartButtonEl.classList.remove('colab-df-spinner');\n",
              "      quickchartButtonEl.classList.add('colab-df-quickchart-complete');\n",
              "    }\n",
              "    (() => {\n",
              "      let quickchartButtonEl =\n",
              "        document.querySelector('#df-1cbb4ef9-bd97-4b1c-b691-823303ddbd9f button');\n",
              "      quickchartButtonEl.style.display =\n",
              "        google.colab.kernel.accessAllowed ? 'block' : 'none';\n",
              "    })();\n",
              "  </script>\n",
              "</div>\n",
              "    </div>\n",
              "  </div>\n"
            ]
          },
          "metadata": {},
          "execution_count": 34
        }
      ]
    },
    {
      "cell_type": "code",
      "source": [],
      "metadata": {
        "id": "UUuaOp14plVB"
      },
      "execution_count": null,
      "outputs": []
    }
  ]
}