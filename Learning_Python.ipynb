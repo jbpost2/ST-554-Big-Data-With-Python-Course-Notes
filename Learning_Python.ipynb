{
  "nbformat": 4,
  "nbformat_minor": 0,
  "metadata": {
    "colab": {
      "provenance": [],
      "authorship_tag": "ABX9TyO39Fk/6mZdOBvPE2RC2E+u",
      "include_colab_link": true
    },
    "kernelspec": {
      "name": "python3",
      "display_name": "Python 3"
    },
    "language_info": {
      "name": "python"
    }
  },
  "cells": [
    {
      "cell_type": "markdown",
      "metadata": {
        "id": "view-in-github",
        "colab_type": "text"
      },
      "source": [
        "<a href=\"https://colab.research.google.com/github/jbpost2/ST-554-Big-Data-With-Python-Course-Notes/blob/main/Learning_Python.ipynb\" target=\"_parent\"><img src=\"https://colab.research.google.com/assets/colab-badge.svg\" alt=\"Open In Colab\"/></a>"
      ]
    },
    {
      "cell_type": "markdown",
      "source": [
        "# Just Playing Around In a Notebook"
      ],
      "metadata": {
        "id": "T9TOYKC5uQf_"
      }
    },
    {
      "cell_type": "markdown",
      "source": [
        "## Basics of python\n",
        "\n",
        "Create a **list**!"
      ],
      "metadata": {
        "id": "e3u1E0gVwscO"
      }
    },
    {
      "cell_type": "code",
      "execution_count": null,
      "metadata": {
        "colab": {
          "base_uri": "https://localhost:8080/"
        },
        "id": "B_f5mHOJtNFo",
        "outputId": "f1ac23ae-684b-4a84-afc9-c6ea23fcb669"
      },
      "outputs": [
        {
          "output_type": "execute_result",
          "data": {
            "text/plain": [
              "[1, 'a', 3, 60]"
            ]
          },
          "metadata": {},
          "execution_count": 8
        }
      ],
      "source": [
        "[1, \"a\", 3, 60]"
      ]
    },
    {
      "cell_type": "markdown",
      "source": [
        "Save this as an object!"
      ],
      "metadata": {
        "id": "hhF2-puvuYGf"
      }
    },
    {
      "cell_type": "code",
      "source": [
        "myList = [1, \"a\", 3, 60]\n",
        "print(myList)\n",
        "myList"
      ],
      "metadata": {
        "colab": {
          "base_uri": "https://localhost:8080/"
        },
        "id": "6Cjgr69Ktdj-",
        "outputId": "34175a78-f347-4402-c920-56430889aa0f"
      },
      "execution_count": null,
      "outputs": [
        {
          "output_type": "stream",
          "name": "stdout",
          "text": [
            "[1, 'a', 3, 60]\n"
          ]
        },
        {
          "output_type": "execute_result",
          "data": {
            "text/plain": [
              "[1, 'a', 3, 60]"
            ]
          },
          "metadata": {},
          "execution_count": 9
        }
      ]
    },
    {
      "cell_type": "code",
      "source": [
        "myList + [2, 4, 5]"
      ],
      "metadata": {
        "colab": {
          "base_uri": "https://localhost:8080/"
        },
        "id": "KoKd_x8btiWr",
        "outputId": "3aabe348-fa26-4439-9418-e8cc9a3b9ff7"
      },
      "execution_count": null,
      "outputs": [
        {
          "output_type": "execute_result",
          "data": {
            "text/plain": [
              "[1, 'a', 3, 60, 2, 4, 5]"
            ]
          },
          "metadata": {},
          "execution_count": 10
        }
      ]
    },
    {
      "cell_type": "code",
      "source": [
        "myList * 4"
      ],
      "metadata": {
        "colab": {
          "base_uri": "https://localhost:8080/"
        },
        "id": "9eZnlD6Ztwy2",
        "outputId": "fe9c9687-8036-46e5-848e-3c468140f4a9"
      },
      "execution_count": null,
      "outputs": [
        {
          "output_type": "execute_result",
          "data": {
            "text/plain": [
              "[1, 'a', 3, 60, 1, 'a', 3, 60, 1, 'a', 3, 60, 1, 'a', 3, 60]"
            ]
          },
          "metadata": {},
          "execution_count": 11
        }
      ]
    },
    {
      "cell_type": "markdown",
      "source": [
        "## Markdown\n",
        "\n",
        "We'll add some HTML widgets and play around with that."
      ],
      "metadata": {
        "id": "PyT1eSdnt0IA"
      }
    },
    {
      "cell_type": "code",
      "source": [
        "#reading in modules\n",
        "import numpy as np\n",
        "import matplotlib.pyplot as plt\n",
        "import ipywidgets as widgets"
      ],
      "metadata": {
        "id": "a4soPIGYw4gm"
      },
      "execution_count": null,
      "outputs": []
    },
    {
      "cell_type": "markdown",
      "source": [
        "Let's generate 100 random data values using numpy."
      ],
      "metadata": {
        "id": "pzLLuNcGxJCn"
      }
    },
    {
      "cell_type": "code",
      "source": [
        "rng = np.random.default_rng(12)\n",
        "vals = rng.standard_normal(100)\n",
        "vals"
      ],
      "metadata": {
        "colab": {
          "base_uri": "https://localhost:8080/"
        },
        "id": "2B8oaoL3xLYP",
        "outputId": "530df1d1-b4a5-4824-ead9-ba78cd4a3b77"
      },
      "execution_count": null,
      "outputs": [
        {
          "output_type": "execute_result",
          "data": {
            "text/plain": [
              "array([-6.82677987e-03,  1.04614329e+00,  7.41588421e-01,  7.23956542e-01,\n",
              "        1.61877622e+00, -1.20555814e+00, -6.26955471e-01, -1.32066321e+00,\n",
              "       -1.07752508e-01,  9.98763655e-01, -2.19478863e-02,  4.95880066e-01,\n",
              "       -1.91076866e+00,  1.47064166e-01, -9.06943251e-01,  1.77538939e+00,\n",
              "        8.86849076e-01,  9.49349483e-01, -5.78549625e-02,  6.12862274e-01,\n",
              "        6.57890162e-01, -3.44402666e-01, -4.97372035e-01, -1.14772783e-01,\n",
              "       -6.05452009e-01, -5.94339418e-01, -2.83375376e-01, -7.28417727e-01,\n",
              "        7.66327786e-01, -1.59608633e+00,  8.23562129e-01, -6.25566470e-01,\n",
              "       -5.45939956e-01, -1.35084714e+00, -1.44242119e-01, -2.47661509e-01,\n",
              "        1.91455831e-01, -5.33774296e-01,  9.37561793e-02,  1.81969184e+00,\n",
              "        4.08999694e-01, -5.73690037e-01,  9.53109595e-01, -1.28801134e-01,\n",
              "        5.93874468e-01,  6.12747429e-01, -3.91065717e-01, -1.93028750e+00,\n",
              "       -3.47653623e-01,  5.51455424e-01, -3.80110407e-01,  4.38969315e-01,\n",
              "        9.79540372e-01, -5.44113415e-01,  1.23135175e+00,  1.62180446e+00,\n",
              "        1.07904594e+00,  1.16546284e+00,  1.09679645e+00,  2.25453906e+00,\n",
              "        1.85860905e-01,  2.08408285e-03,  6.03107305e-01, -9.08195119e-01,\n",
              "       -1.55317676e+00, -8.82007973e-01,  3.72565350e-01,  4.73053341e-01,\n",
              "       -1.53635872e+00, -1.88346371e+00, -3.16142243e-01, -1.88056516e-01,\n",
              "       -4.92008330e-02,  6.71362447e-01,  1.22883418e+00,  2.30896430e-01,\n",
              "        6.12684704e-01, -1.09520169e+00, -1.17630801e+00,  2.36238334e-01,\n",
              "        6.64663103e-01,  7.26243456e-01,  5.92741991e-01,  7.84173709e-01,\n",
              "        8.09828030e-01, -1.75218536e+00, -7.34165769e-01,  4.55159742e-01,\n",
              "        5.96671965e-01, -1.51209241e+00,  1.17306137e+00, -4.38831924e-01,\n",
              "       -2.32424749e-01,  2.73818645e-01,  7.49635232e-01, -1.43311699e+00,\n",
              "        9.89912577e-01,  7.72934677e-02, -7.70813495e-01, -2.75273142e-01])"
            ]
          },
          "metadata": {},
          "execution_count": 15
        }
      ]
    },
    {
      "cell_type": "code",
      "source": [
        "plt.hist(vals)"
      ],
      "metadata": {
        "colab": {
          "base_uri": "https://localhost:8080/",
          "height": 521
        },
        "id": "tkzSJSY3yMyY",
        "outputId": "84d5ff3f-eae4-45f9-8def-47f3b5e1d8ed"
      },
      "execution_count": null,
      "outputs": [
        {
          "output_type": "execute_result",
          "data": {
            "text/plain": [
              "(array([ 8.,  6.,  6., 17., 15., 12., 24.,  7.,  4.,  1.]),\n",
              " array([-1.9302875 , -1.51180484, -1.09332219, -0.67483953, -0.25635687,\n",
              "         0.16212578,  0.58060844,  0.99909109,  1.41757375,  1.8360564 ,\n",
              "         2.25453906]),\n",
              " <BarContainer object of 10 artists>)"
            ]
          },
          "metadata": {},
          "execution_count": 17
        },
        {
          "output_type": "display_data",
          "data": {
            "text/plain": [
              "<Figure size 640x480 with 1 Axes>"
            ],
            "image/png": "[encoded data removed]"
          },
          "metadata": {}
        }
      ]
    },
    {
      "cell_type": "code",
      "source": [
        "plt.hist(vals, bins = 12)"
      ],
      "metadata": {
        "colab": {
          "base_uri": "https://localhost:8080/",
          "height": 519
        },
        "id": "ysY1PcvSyU1H",
        "outputId": "973eee52-a0fc-4d94-a5f2-94ce2a104043"
      },
      "execution_count": null,
      "outputs": [
        {
          "output_type": "execute_result",
          "data": {
            "text/plain": [
              "(array([ 5.,  6.,  5., 11., 13., 12., 11., 19., 11.,  2.,  4.,  1.]),\n",
              " array([-1.9302875 , -1.58155195, -1.2328164 , -0.88408086, -0.53534531,\n",
              "        -0.18660976,  0.16212578,  0.51086133,  0.85959687,  1.20833242,\n",
              "         1.55706797,  1.90580351,  2.25453906]),\n",
              " <BarContainer object of 12 artists>)"
            ]
          },
          "metadata": {},
          "execution_count": 18
        },
        {
          "output_type": "display_data",
          "data": {
            "text/plain": [
              "<Figure size 640x480 with 1 Axes>"
            ],
            "image/png": "[encoded data removed]"
          },
          "metadata": {}
        }
      ]
    },
    {
      "cell_type": "code",
      "source": [
        "def myPlot(bins):\n",
        "    plt.hist(vals, bins)\n",
        "\n",
        "myPlot(4)"
      ],
      "metadata": {
        "colab": {
          "base_uri": "https://localhost:8080/",
          "height": 430
        },
        "id": "Q58IOpO2ya8H",
        "outputId": "e5d4adda-174b-4006-a362-128296fd91fa"
      },
      "execution_count": null,
      "outputs": [
        {
          "output_type": "display_data",
          "data": {
            "text/plain": [
              "<Figure size 640x480 with 1 Axes>"
            ],
            "image/png": "[encoded data removed]"
          },
          "metadata": {}
        }
      ]
    },
    {
      "cell_type": "code",
      "source": [
        "widgets.interactive(myPlot, bins =(1,20))"
      ],
      "metadata": {
        "id": "1hIyrQBMy0Eo"
      },
      "execution_count": null,
      "outputs": []
    },
    {
      "cell_type": "markdown",
      "source": [
        "## Strings Practice\n",
        "\n",
        "Here we'll look at some quick string methods and functions including string formatting!"
      ],
      "metadata": {
        "id": "OAVKhiRGzAEZ"
      }
    },
    {
      "cell_type": "markdown",
      "source": [
        "1. String formatting\n",
        "\n",
        "  One way to do formatting is to use `{}` within a string and then use the `.format()` method. Let's create a string that we can place values into. Something like this:\n",
        "\n",
        "  \"The probability of being less than or equal to 2 for a normal distribution with mean 4 and standard deviation 1 is ...\""
      ],
      "metadata": {
        "id": "cEt5oKM1ziOx"
      }
    },
    {
      "cell_type": "code",
      "source": [
        "prob_string = \"The probability of being less than or equal to {0} for a normal distribution with mean {1} and standard deviation {2} is {3}\""
      ],
      "metadata": {
        "id": "d-Kr9hN3zkhp"
      },
      "execution_count": null,
      "outputs": []
    },
    {
      "cell_type": "markdown",
      "source": [
        "Now pull the `scipy.stats` stuff from above and insert the numbers using the `.format()` method."
      ],
      "metadata": {
        "id": "hT6fjUEPzqzw"
      }
    },
    {
      "cell_type": "code",
      "source": [
        "import scipy.stats as stats\n",
        "stats.norm.cdf(y, mean, std)"
      ],
      "metadata": {
        "colab": {
          "base_uri": "https://localhost:8080/"
        },
        "id": "aFQi2BzVzr-A",
        "outputId": "5076251d-1916-4055-c546-56a42d0f93e2"
      },
      "execution_count": null,
      "outputs": [
        {
          "output_type": "execute_result",
          "data": {
            "text/plain": [
              "0.6083418808463948"
            ]
          },
          "metadata": {},
          "execution_count": 24
        }
      ]
    },
    {
      "cell_type": "markdown",
      "source": [
        "2. Let's look at splitting up a big string of text into 'words'. This is often a first step done when doing a basic sentiment analysis of some text.\n",
        "\n",
        "  First we need a string of text to break up. [Project Gutenberg](https://www.gutenberg.org/) has some classic open works that you can get the entire text from. Here we'll pull from a cookbook called *[Practical Vegetarian Cookery](https://www.gutenberg.org/cache/epub/69812/pg69812.txt)*. We'll just grab two recipes:\n",
        "\n",
        "  > WINTER VEGETABLE PIE.\n",
        "\n",
        "  > Place in baking dish, slices of cold boiled potatoes, onions, celery,\n",
        "and carrot, then add one scant cupful of stewed tomatoes and one half\n",
        "can of peas. Cover with stock, thickened to a gravy with butter and\n",
        "flour, cover with plain crust, and bake. A pie of this nature can be\n",
        "made with a great variety of ingredients; apples, boiled chestnuts,\n",
        "onions, and potatoes make a good combination. Rice, with a grating of\n",
        "cheese, celery, onion, and tomato, another variety.\n",
        "\n",
        "  > VEGETABLE HASH.\n",
        "\n",
        "  > Of cooked and chopped vegetables, use one carrot, one blood beet, two\n",
        "turnips, two quarts of finely sliced potatoes, one onion, and a stalk\n",
        "of celery; one sprig of parsley; put them in a stew pan, cover tight,\n",
        "and set in the oven. When thoroughly heated pour over a gravy of drawn\n",
        "butter and cream. Stir together and serve.\n",
        "\n",
        "  Let's create a string with these and count variables that occur."
      ],
      "metadata": {
        "id": "tMs85pJSztIZ"
      }
    },
    {
      "cell_type": "code",
      "source": [
        "recipe = \"\"\"\n",
        "WINTER VEGETABLE PIE.\n",
        "\n",
        "Place in baking dish, slices of cold boiled potatoes, onions, celery,\n",
        "and carrot, then add one scant cupful of stewed tomatoes and one half\n",
        "can of peas. Cover with stock, thickened to a gravy with butter and\n",
        "flour, cover with plain crust, and bake. A pie of this nature can be\n",
        "made with a great variety of ingredients; apples, boiled chestnuts,\n",
        "onions, and potatoes make a good combination. Rice, with a grating of\n",
        "cheese, celery, onion, and tomato, another variety.\n",
        "\n",
        "VEGETABLE HASH.\n",
        "\n",
        "Of cooked and chopped vegetables, use one carrot, one blood beet, two\n",
        "turnips, two quarts of finely sliced potatoes, one onion, and a stalk\n",
        "of celery; one sprig of parsley; put them in a stew pan, cover tight,\n",
        "and set in the oven. When thoroughly heated pour over a gravy of drawn\n",
        "butter and cream. Stir together and serve.\n",
        "\"\"\"\n",
        "recipe"
      ],
      "metadata": {
        "colab": {
          "base_uri": "https://localhost:8080/",
          "height": 106
        },
        "id": "xyxgIc6pzteZ",
        "outputId": "0d9311a6-32c3-48c3-b64f-b39c2b41487b"
      },
      "execution_count": null,
      "outputs": [
        {
          "output_type": "execute_result",
          "data": {
            "text/plain": [
              "'\\nWINTER VEGETABLE PIE.\\n\\nPlace in baking dish, slices of cold boiled potatoes, onions, celery,\\nand carrot, then add one scant cupful of stewed tomatoes and one half\\ncan of peas. Cover with stock, thickened to a gravy with butter and\\nflour, cover with plain crust, and bake. A pie of this nature can be\\nmade with a great variety of ingredients; apples, boiled chestnuts,\\nonions, and potatoes make a good combination. Rice, with a grating of\\ncheese, celery, onion, and tomato, another variety.\\n\\nVEGETABLE HASH.\\n\\nOf cooked and chopped vegetables, use one carrot, one blood beet, two\\nturnips, two quarts of finely sliced potatoes, one onion, and a stalk\\nof celery; one sprig of parsley; put them in a stew pan, cover tight,\\nand set in the oven. When thoroughly heated pour over a gravy of drawn\\nbutter and cream. Stir together and serve.\\n'"
            ],
            "application/vnd.google.colaboratory.intrinsic+json": {
              "type": "string"
            }
          },
          "metadata": {},
          "execution_count": 28
        }
      ]
    },
    {
      "cell_type": "markdown",
      "source": [
        "Replace the `\\n`, `,`, and `.` values with a space instead. Lowercase everything with the `.lower()` method and then `.strip()` to remove the excess whitespace.  Finally, the `.split()` method gives us a list with each element being a word from the document."
      ],
      "metadata": {
        "id": "j4w1d0CYztmo"
      }
    },
    {
      "cell_type": "code",
      "source": [
        "recipe_split = recipe.replace(\"\\n\", \" \") \\\n",
        "  .replace(\".\", \" \") \\\n",
        "  .replace(\",\", \" \") \\\n",
        "  .replace(\";\", \" \") \\\n",
        "  .lower() \\\n",
        "  .strip() \\\n",
        "  .split(\" \")"
      ],
      "metadata": {
        "id": "pbRgfwOaztsw"
      },
      "execution_count": null,
      "outputs": []
    },
    {
      "cell_type": "markdown",
      "source": [
        "Now we can see how often different words come up."
      ],
      "metadata": {
        "id": "SKrcGBvazt0g"
      }
    },
    {
      "cell_type": "code",
      "source": [
        "type(recipe_split)\n",
        "recipe_split.count(\"potatoes\")"
      ],
      "metadata": {
        "colab": {
          "base_uri": "https://localhost:8080/"
        },
        "id": "m26l1Kff0goA",
        "outputId": "923ae26b-3444-4f20-a10f-414524c012a9"
      },
      "execution_count": null,
      "outputs": [
        {
          "output_type": "execute_result",
          "data": {
            "text/plain": [
              "3"
            ]
          },
          "metadata": {},
          "execution_count": 43
        }
      ]
    },
    {
      "cell_type": "markdown",
      "source": [
        "## Math Types (Including Booleans)\n",
        "\n",
        "Remember that things can't be stored precisely so you may sometimes run into issues where two things should be equal but don't resolve as equal."
      ],
      "metadata": {
        "id": "C7kYe34n0hXq"
      }
    },
    {
      "cell_type": "code",
      "source": [],
      "metadata": {
        "id": "OehEWXLN8Agr"
      },
      "execution_count": null,
      "outputs": []
    },
    {
      "cell_type": "markdown",
      "source": [
        "Use the isclose() from numpy to check things like this."
      ],
      "metadata": {
        "id": "wP3-Kr9C8Eh7"
      }
    },
    {
      "cell_type": "code",
      "source": [],
      "metadata": {
        "id": "YnE5wkPC8FzT"
      },
      "execution_count": null,
      "outputs": []
    },
    {
      "cell_type": "markdown",
      "source": [
        "We should have an idea about `inf`, `-inf`, and `nan` values in python.  `nan` values can be returned when a mathematical function is used outside of its domain for instance.  Here is the `norm.ppf()` function.  This returns the value from the standard normal with a certain proportion of the distribution to the left of it (proportion specified by the value you feed the function).  These values should of course be between 0 and 1."
      ],
      "metadata": {
        "id": "M4DNzCOx8GXz"
      }
    },
    {
      "cell_type": "code",
      "source": [],
      "metadata": {
        "id": "1d_iT3Mi8G6T"
      },
      "execution_count": null,
      "outputs": []
    },
    {
      "cell_type": "markdown",
      "source": [
        "What happens if we give a value like -1?"
      ],
      "metadata": {
        "id": "OKr1CzUh8G_r"
      }
    },
    {
      "cell_type": "code",
      "source": [],
      "metadata": {
        "id": "YMiYwg5w8HEj"
      },
      "execution_count": null,
      "outputs": []
    },
    {
      "cell_type": "markdown",
      "source": [
        "Infinite values can pop up too.  There are lots of ways to create an infinite value via casting as well."
      ],
      "metadata": {
        "id": "XWTKaDYZ8HJK"
      }
    },
    {
      "cell_type": "code",
      "source": [],
      "metadata": {
        "id": "leKMqHI08HNk"
      },
      "execution_count": null,
      "outputs": []
    },
    {
      "cell_type": "markdown",
      "source": [
        "Let's update our string from before with digits! (Note that using floating point for z and integers for mean and standard deviation doesn't really make sense, I'm just showing the functionality!)"
      ],
      "metadata": {
        "id": "6XZ0wTuX8HRi"
      }
    },
    {
      "cell_type": "code",
      "source": [],
      "metadata": {
        "id": "PAM6_6MO8QVD"
      },
      "execution_count": null,
      "outputs": []
    }
  ]
}