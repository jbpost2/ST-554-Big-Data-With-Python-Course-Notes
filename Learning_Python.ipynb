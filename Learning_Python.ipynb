{
  "nbformat": 4,
  "nbformat_minor": 0,
  "metadata": {
    "colab": {
      "provenance": [],
      "toc_visible": true,
      "authorship_tag": "ABX9TyO+kpluXtY5AFbFxatlus8N",
      "include_colab_link": true
    },
    "kernelspec": {
      "name": "python3",
      "display_name": "Python 3"
    },
    "language_info": {
      "name": "python"
    },
    "widgets": {
      "application/vnd.jupyter.widget-state+json": {
        "259088f3a70c4fd5b01cfda6424a21ef": {
          "model_module": "@jupyter-widgets/controls",
          "model_name": "VBoxModel",
          "model_module_version": "1.5.0",
          "state": {
            "_dom_classes": [
              "widget-interact"
            ],
            "_model_module": "@jupyter-widgets/controls",
            "_model_module_version": "1.5.0",
            "_model_name": "VBoxModel",
            "_view_count": null,
            "_view_module": "@jupyter-widgets/controls",
            "_view_module_version": "1.5.0",
            "_view_name": "VBoxView",
            "box_style": "",
            "children": [
              "IPY_MODEL_f05bb238caad499e947de2313a48c88d",
              "IPY_MODEL_83e91297cb4f4c60b50f136c865bed0a"
            ],
            "layout": "IPY_MODEL_5f8138101a63426aa6fe4fc8776b415c"
          }
        },
        "f05bb238caad499e947de2313a48c88d": {
          "model_module": "@jupyter-widgets/controls",
          "model_name": "IntSliderModel",
          "model_module_version": "1.5.0",
          "state": {
            "_dom_classes": [],
            "_model_module": "@jupyter-widgets/controls",
            "_model_module_version": "1.5.0",
            "_model_name": "IntSliderModel",
            "_view_count": null,
            "_view_module": "@jupyter-widgets/controls",
            "_view_module_version": "1.5.0",
            "_view_name": "IntSliderView",
            "continuous_update": true,
            "description": "bins",
            "description_tooltip": null,
            "disabled": false,
            "layout": "IPY_MODEL_93433abad8674ba99496efa3b5ee32e9",
            "max": 20,
            "min": 1,
            "orientation": "horizontal",
            "readout": true,
            "readout_format": "d",
            "step": 1,
            "style": "IPY_MODEL_0a460c43cbdf4fbdbb2173ae5b30c046",
            "value": 10
          }
        },
        "83e91297cb4f4c60b50f136c865bed0a": {
          "model_module": "@jupyter-widgets/output",
          "model_name": "OutputModel",
          "model_module_version": "1.0.0",
          "state": {
            "_dom_classes": [],
            "_model_module": "@jupyter-widgets/output",
            "_model_module_version": "1.0.0",
            "_model_name": "OutputModel",
            "_view_count": null,
            "_view_module": "@jupyter-widgets/output",
            "_view_module_version": "1.0.0",
            "_view_name": "OutputView",
            "layout": "IPY_MODEL_3579a40f676741dfb03588511ad14a18",
            "msg_id": "",
            "outputs": []
          }
        },
        "5f8138101a63426aa6fe4fc8776b415c": {
          "model_module": "@jupyter-widgets/base",
          "model_name": "LayoutModel",
          "model_module_version": "1.2.0",
          "state": {
            "_model_module": "@jupyter-widgets/base",
            "_model_module_version": "1.2.0",
            "_model_name": "LayoutModel",
            "_view_count": null,
            "_view_module": "@jupyter-widgets/base",
            "_view_module_version": "1.2.0",
            "_view_name": "LayoutView",
            "align_content": null,
            "align_items": null,
            "align_self": null,
            "border": null,
            "bottom": null,
            "display": null,
            "flex": null,
            "flex_flow": null,
            "grid_area": null,
            "grid_auto_columns": null,
            "grid_auto_flow": null,
            "grid_auto_rows": null,
            "grid_column": null,
            "grid_gap": null,
            "grid_row": null,
            "grid_template_areas": null,
            "grid_template_columns": null,
            "grid_template_rows": null,
            "height": null,
            "justify_content": null,
            "justify_items": null,
            "left": null,
            "margin": null,
            "max_height": null,
            "max_width": null,
            "min_height": null,
            "min_width": null,
            "object_fit": null,
            "object_position": null,
            "order": null,
            "overflow": null,
            "overflow_x": null,
            "overflow_y": null,
            "padding": null,
            "right": null,
            "top": null,
            "visibility": null,
            "width": null
          }
        },
        "93433abad8674ba99496efa3b5ee32e9": {
          "model_module": "@jupyter-widgets/base",
          "model_name": "LayoutModel",
          "model_module_version": "1.2.0",
          "state": {
            "_model_module": "@jupyter-widgets/base",
            "_model_module_version": "1.2.0",
            "_model_name": "LayoutModel",
            "_view_count": null,
            "_view_module": "@jupyter-widgets/base",
            "_view_module_version": "1.2.0",
            "_view_name": "LayoutView",
            "align_content": null,
            "align_items": null,
            "align_self": null,
            "border": null,
            "bottom": null,
            "display": null,
            "flex": null,
            "flex_flow": null,
            "grid_area": null,
            "grid_auto_columns": null,
            "grid_auto_flow": null,
            "grid_auto_rows": null,
            "grid_column": null,
            "grid_gap": null,
            "grid_row": null,
            "grid_template_areas": null,
            "grid_template_columns": null,
            "grid_template_rows": null,
            "height": null,
            "justify_content": null,
            "justify_items": null,
            "left": null,
            "margin": null,
            "max_height": null,
            "max_width": null,
            "min_height": null,
            "min_width": null,
            "object_fit": null,
            "object_position": null,
            "order": null,
            "overflow": null,
            "overflow_x": null,
            "overflow_y": null,
            "padding": null,
            "right": null,
            "top": null,
            "visibility": null,
            "width": null
          }
        },
        "0a460c43cbdf4fbdbb2173ae5b30c046": {
          "model_module": "@jupyter-widgets/controls",
          "model_name": "SliderStyleModel",
          "model_module_version": "1.5.0",
          "state": {
            "_model_module": "@jupyter-widgets/controls",
            "_model_module_version": "1.5.0",
            "_model_name": "SliderStyleModel",
            "_view_count": null,
            "_view_module": "@jupyter-widgets/base",
            "_view_module_version": "1.2.0",
            "_view_name": "StyleView",
            "description_width": "",
            "handle_color": null
          }
        },
        "3579a40f676741dfb03588511ad14a18": {
          "model_module": "@jupyter-widgets/base",
          "model_name": "LayoutModel",
          "model_module_version": "1.2.0",
          "state": {
            "_model_module": "@jupyter-widgets/base",
            "_model_module_version": "1.2.0",
            "_model_name": "LayoutModel",
            "_view_count": null,
            "_view_module": "@jupyter-widgets/base",
            "_view_module_version": "1.2.0",
            "_view_name": "LayoutView",
            "align_content": null,
            "align_items": null,
            "align_self": null,
            "border": null,
            "bottom": null,
            "display": null,
            "flex": null,
            "flex_flow": null,
            "grid_area": null,
            "grid_auto_columns": null,
            "grid_auto_flow": null,
            "grid_auto_rows": null,
            "grid_column": null,
            "grid_gap": null,
            "grid_row": null,
            "grid_template_areas": null,
            "grid_template_columns": null,
            "grid_template_rows": null,
            "height": null,
            "justify_content": null,
            "justify_items": null,
            "left": null,
            "margin": null,
            "max_height": null,
            "max_width": null,
            "min_height": null,
            "min_width": null,
            "object_fit": null,
            "object_position": null,
            "order": null,
            "overflow": null,
            "overflow_x": null,
            "overflow_y": null,
            "padding": null,
            "right": null,
            "top": null,
            "visibility": null,
            "width": null
          }
        }
      }
    }
  },
  "cells": [
    {
      "cell_type": "markdown",
      "metadata": {
        "id": "view-in-github",
        "colab_type": "text"
      },
      "source": [
        "<a href=\"https://colab.research.google.com/github/jbpost2/ST-554-Big-Data-With-Python-Course-Notes/blob/main/Learning_Python.ipynb\" target=\"_parent\"><img src=\"https://colab.research.google.com/assets/colab-badge.svg\" alt=\"Open In Colab\"/></a>"
      ]
    },
    {
      "cell_type": "markdown",
      "source": [
        "# Week 1"
      ],
      "metadata": {
        "id": "T9TOYKC5uQf_"
      }
    },
    {
      "cell_type": "markdown",
      "source": [
        "## Basics of python\n",
        "\n",
        "Create a **list**!"
      ],
      "metadata": {
        "id": "e3u1E0gVwscO"
      }
    },
    {
      "cell_type": "code",
      "execution_count": null,
      "metadata": {
        "colab": {
          "base_uri": "https://localhost:8080/"
        },
        "id": "B_f5mHOJtNFo",
        "outputId": "1ddfa9ae-6a30-4d77-c32a-add4101e5fee"
      },
      "outputs": [
        {
          "output_type": "execute_result",
          "data": {
            "text/plain": [
              "[1, 'a', 3, 60]"
            ]
          },
          "metadata": {},
          "execution_count": 1
        }
      ],
      "source": [
        "[1, \"a\", 3, 60]"
      ]
    },
    {
      "cell_type": "markdown",
      "source": [
        "Save this as an object!"
      ],
      "metadata": {
        "id": "hhF2-puvuYGf"
      }
    },
    {
      "cell_type": "code",
      "source": [
        "myList = [1, \"a\", 3, 60]\n",
        "print(myList)\n",
        "myList"
      ],
      "metadata": {
        "colab": {
          "base_uri": "https://localhost:8080/"
        },
        "id": "6Cjgr69Ktdj-",
        "outputId": "f7f1b851-8ca2-459c-dfd3-87f1d5f9e9f9"
      },
      "execution_count": null,
      "outputs": [
        {
          "output_type": "stream",
          "name": "stdout",
          "text": [
            "[1, 'a', 3, 60]\n"
          ]
        },
        {
          "output_type": "execute_result",
          "data": {
            "text/plain": [
              "[1, 'a', 3, 60]"
            ]
          },
          "metadata": {},
          "execution_count": 2
        }
      ]
    },
    {
      "cell_type": "code",
      "source": [
        "myList + [2, 4, 5]"
      ],
      "metadata": {
        "colab": {
          "base_uri": "https://localhost:8080/"
        },
        "id": "KoKd_x8btiWr",
        "outputId": "ea1b0292-f283-4688-e862-6b57e3210a36"
      },
      "execution_count": null,
      "outputs": [
        {
          "output_type": "execute_result",
          "data": {
            "text/plain": [
              "[1, 'a', 3, 60, 2, 4, 5]"
            ]
          },
          "metadata": {},
          "execution_count": 3
        }
      ]
    },
    {
      "cell_type": "code",
      "source": [
        "myList * 4"
      ],
      "metadata": {
        "colab": {
          "base_uri": "https://localhost:8080/"
        },
        "id": "9eZnlD6Ztwy2",
        "outputId": "88e47791-21ae-4485-aa45-ecac86a09cab"
      },
      "execution_count": null,
      "outputs": [
        {
          "output_type": "execute_result",
          "data": {
            "text/plain": [
              "[1, 'a', 3, 60, 1, 'a', 3, 60, 1, 'a', 3, 60, 1, 'a', 3, 60]"
            ]
          },
          "metadata": {},
          "execution_count": 4
        }
      ]
    },
    {
      "cell_type": "markdown",
      "source": [
        "## Markdown\n",
        "\n",
        "We'll add some HTML widgets and play around with that."
      ],
      "metadata": {
        "id": "PyT1eSdnt0IA"
      }
    },
    {
      "cell_type": "code",
      "source": [
        "#reading in modules\n",
        "import numpy as np\n",
        "import matplotlib.pyplot as plt\n",
        "import ipywidgets as widgets"
      ],
      "metadata": {
        "id": "a4soPIGYw4gm"
      },
      "execution_count": null,
      "outputs": []
    },
    {
      "cell_type": "markdown",
      "source": [
        "Let's generate 100 random data values using numpy."
      ],
      "metadata": {
        "id": "pzLLuNcGxJCn"
      }
    },
    {
      "cell_type": "code",
      "source": [
        "rng = np.random.default_rng(12)\n",
        "vals = rng.standard_normal(100)\n",
        "vals"
      ],
      "metadata": {
        "colab": {
          "base_uri": "https://localhost:8080/"
        },
        "id": "2B8oaoL3xLYP",
        "outputId": "cdf7f9ac-7f6d-4e5a-d397-a644e43fd140"
      },
      "execution_count": null,
      "outputs": [
        {
          "output_type": "execute_result",
          "data": {
            "text/plain": [
              "array([-6.82677987e-03,  1.04614329e+00,  7.41588421e-01,  7.23956542e-01,\n",
              "        1.61877622e+00, -1.20555814e+00, -6.26955471e-01, -1.32066321e+00,\n",
              "       -1.07752508e-01,  9.98763655e-01, -2.19478863e-02,  4.95880066e-01,\n",
              "       -1.91076866e+00,  1.47064166e-01, -9.06943251e-01,  1.77538939e+00,\n",
              "        8.86849076e-01,  9.49349483e-01, -5.78549625e-02,  6.12862274e-01,\n",
              "        6.57890162e-01, -3.44402666e-01, -4.97372035e-01, -1.14772783e-01,\n",
              "       -6.05452009e-01, -5.94339418e-01, -2.83375376e-01, -7.28417727e-01,\n",
              "        7.66327786e-01, -1.59608633e+00,  8.23562129e-01, -6.25566470e-01,\n",
              "       -5.45939956e-01, -1.35084714e+00, -1.44242119e-01, -2.47661509e-01,\n",
              "        1.91455831e-01, -5.33774296e-01,  9.37561793e-02,  1.81969184e+00,\n",
              "        4.08999694e-01, -5.73690037e-01,  9.53109595e-01, -1.28801134e-01,\n",
              "        5.93874468e-01,  6.12747429e-01, -3.91065717e-01, -1.93028750e+00,\n",
              "       -3.47653623e-01,  5.51455424e-01, -3.80110407e-01,  4.38969315e-01,\n",
              "        9.79540372e-01, -5.44113415e-01,  1.23135175e+00,  1.62180446e+00,\n",
              "        1.07904594e+00,  1.16546284e+00,  1.09679645e+00,  2.25453906e+00,\n",
              "        1.85860905e-01,  2.08408285e-03,  6.03107305e-01, -9.08195119e-01,\n",
              "       -1.55317676e+00, -8.82007973e-01,  3.72565350e-01,  4.73053341e-01,\n",
              "       -1.53635872e+00, -1.88346371e+00, -3.16142243e-01, -1.88056516e-01,\n",
              "       -4.92008330e-02,  6.71362447e-01,  1.22883418e+00,  2.30896430e-01,\n",
              "        6.12684704e-01, -1.09520169e+00, -1.17630801e+00,  2.36238334e-01,\n",
              "        6.64663103e-01,  7.26243456e-01,  5.92741991e-01,  7.84173709e-01,\n",
              "        8.09828030e-01, -1.75218536e+00, -7.34165769e-01,  4.55159742e-01,\n",
              "        5.96671965e-01, -1.51209241e+00,  1.17306137e+00, -4.38831924e-01,\n",
              "       -2.32424749e-01,  2.73818645e-01,  7.49635232e-01, -1.43311699e+00,\n",
              "        9.89912577e-01,  7.72934677e-02, -7.70813495e-01, -2.75273142e-01])"
            ]
          },
          "metadata": {},
          "execution_count": 6
        }
      ]
    },
    {
      "cell_type": "code",
      "source": [
        "plt.hist(vals)"
      ],
      "metadata": {
        "colab": {
          "base_uri": "https://localhost:8080/",
          "height": 520
        },
        "id": "tkzSJSY3yMyY",
        "outputId": "393e49fc-4b74-4c66-f20a-622b9fbff5c3"
      },
      "execution_count": null,
      "outputs": [
        {
          "output_type": "execute_result",
          "data": {
            "text/plain": [
              "(array([ 8.,  6.,  6., 17., 15., 12., 24.,  7.,  4.,  1.]),\n",
              " array([-1.9302875 , -1.51180484, -1.09332219, -0.67483953, -0.25635687,\n",
              "         0.16212578,  0.58060844,  0.99909109,  1.41757375,  1.8360564 ,\n",
              "         2.25453906]),\n",
              " <BarContainer object of 10 artists>)"
            ]
          },
          "metadata": {},
          "execution_count": 7
        },
        {
          "output_type": "display_data",
          "data": {
            "text/plain": [
              "<Figure size 640x480 with 1 Axes>"
            ],
            "image/png": "[encoded data removed]"
          },
          "metadata": {}
        }
      ]
    },
    {
      "cell_type": "code",
      "source": [
        "plt.hist(vals, bins = 12)"
      ],
      "metadata": {
        "colab": {
          "base_uri": "https://localhost:8080/",
          "height": 518
        },
        "id": "ysY1PcvSyU1H",
        "outputId": "437408f6-4ab3-4afe-f4d0-be8b1dbd6a6b"
      },
      "execution_count": null,
      "outputs": [
        {
          "output_type": "execute_result",
          "data": {
            "text/plain": [
              "(array([ 5.,  6.,  5., 11., 13., 12., 11., 19., 11.,  2.,  4.,  1.]),\n",
              " array([-1.9302875 , -1.58155195, -1.2328164 , -0.88408086, -0.53534531,\n",
              "        -0.18660976,  0.16212578,  0.51086133,  0.85959687,  1.20833242,\n",
              "         1.55706797,  1.90580351,  2.25453906]),\n",
              " <BarContainer object of 12 artists>)"
            ]
          },
          "metadata": {},
          "execution_count": 8
        },
        {
          "output_type": "display_data",
          "data": {
            "text/plain": [
              "<Figure size 640x480 with 1 Axes>"
            ],
            "image/png": "[encoded data removed]"
          },
          "metadata": {}
        }
      ]
    },
    {
      "cell_type": "code",
      "source": [
        "def myPlot(bins):\n",
        "    plt.hist(vals, bins)\n",
        "\n",
        "myPlot(4)"
      ],
      "metadata": {
        "colab": {
          "base_uri": "https://localhost:8080/",
          "height": 430
        },
        "id": "Q58IOpO2ya8H",
        "outputId": "9277fcfc-8422-4962-dd97-a9b06767d54f"
      },
      "execution_count": null,
      "outputs": [
        {
          "output_type": "display_data",
          "data": {
            "text/plain": [
              "<Figure size 640x480 with 1 Axes>"
            ],
            "image/png": "[encoded data removed]"
          },
          "metadata": {}
        }
      ]
    },
    {
      "cell_type": "code",
      "source": [
        "widgets.interactive(myPlot, bins =(1,20))"
      ],
      "metadata": {
        "id": "1hIyrQBMy0Eo",
        "outputId": "6f3fb0a4-4226-4ef4-9129-2ad4ca893ba3",
        "colab": {
          "base_uri": "https://localhost:8080/",
          "height": 464,
          "referenced_widgets": [
            "259088f3a70c4fd5b01cfda6424a21ef",
            "f05bb238caad499e947de2313a48c88d",
            "83e91297cb4f4c60b50f136c865bed0a",
            "5f8138101a63426aa6fe4fc8776b415c",
            "93433abad8674ba99496efa3b5ee32e9",
            "0a460c43cbdf4fbdbb2173ae5b30c046",
            "3579a40f676741dfb03588511ad14a18"
          ]
        }
      },
      "execution_count": null,
      "outputs": [
        {
          "output_type": "display_data",
          "data": {
            "text/plain": [
              "interactive(children=(IntSlider(value=10, description='bins', max=20, min=1), Output()), _dom_classes=('widget…"
            ],
            "application/vnd.jupyter.widget-view+json": {
              "version_major": 2,
              "version_minor": 0,
              "model_id": "259088f3a70c4fd5b01cfda6424a21ef"
            }
          },
          "metadata": {}
        },
        {
          "output_type": "display_data",
          "data": {
            "text/plain": [
              "<Figure size 640x480 with 1 Axes>"
            ],
            "image/png": "[encoded data removed]"
          },
          "metadata": {}
        }
      ]
    },
    {
      "cell_type": "markdown",
      "source": [
        "## Strings Practice\n",
        "\n",
        "Here we'll look at some quick string methods and functions including string formatting!"
      ],
      "metadata": {
        "id": "OAVKhiRGzAEZ"
      }
    },
    {
      "cell_type": "markdown",
      "source": [
        "1. String formatting\n",
        "\n",
        "  One way to do formatting is to use `{}` within a string and then use the `.format()` method. Let's create a string that we can place values into. Something like this:\n",
        "\n",
        "  \"The probability of being less than or equal to 2 for a normal distribution with mean 4 and standard deviation 1 is ...\""
      ],
      "metadata": {
        "id": "cEt5oKM1ziOx"
      }
    },
    {
      "cell_type": "code",
      "source": [
        "prob_string = \"The probability of being less than or equal to {0} for a normal distribution with mean {1} and standard deviation {2} is {3}\""
      ],
      "metadata": {
        "id": "d-Kr9hN3zkhp"
      },
      "execution_count": null,
      "outputs": []
    },
    {
      "cell_type": "code",
      "source": [
        "mean = 1\n",
        "std = 2\n",
        "y = 1.55"
      ],
      "metadata": {
        "id": "wni2-UgkVfYF",
        "outputId": "242d1454-e7f0-437f-9d54-3d7360257d37",
        "colab": {
          "base_uri": "https://localhost:8080/",
          "height": 53
        }
      },
      "execution_count": null,
      "outputs": [
        {
          "output_type": "execute_result",
          "data": {
            "text/plain": [
              "'The probability of being less than or equal to 1.55 for a normal distribution with mean 1 and standard deviation 2 is 0.6083'"
            ],
            "application/vnd.google.colaboratory.intrinsic+json": {
              "type": "string"
            }
          },
          "metadata": {},
          "execution_count": 17
        }
      ]
    },
    {
      "cell_type": "markdown",
      "source": [
        "Now pull the `scipy.stats` stuff from above and insert the numbers using the `.format()` method."
      ],
      "metadata": {
        "id": "hT6fjUEPzqzw"
      }
    },
    {
      "cell_type": "code",
      "source": [
        "import scipy.stats as stats\n",
        "stats.norm.cdf(y, mean, std)"
      ],
      "metadata": {
        "colab": {
          "base_uri": "https://localhost:8080/"
        },
        "id": "aFQi2BzVzr-A",
        "outputId": "88c2260f-1940-4cfc-d65b-7ef4121338c4"
      },
      "execution_count": null,
      "outputs": [
        {
          "output_type": "execute_result",
          "data": {
            "text/plain": [
              "0.6083418808463948"
            ]
          },
          "metadata": {},
          "execution_count": 19
        }
      ]
    },
    {
      "cell_type": "code",
      "source": [
        "prob_string.format(y, mean, std, round(stats.norm.cdf(y, mean, std), 4))"
      ],
      "metadata": {
        "id": "Qb667fB6Vv7G",
        "outputId": "7f6ed05c-5373-4766-d7d2-c01530504165",
        "colab": {
          "base_uri": "https://localhost:8080/",
          "height": 53
        }
      },
      "execution_count": null,
      "outputs": [
        {
          "output_type": "execute_result",
          "data": {
            "text/plain": [
              "'The probability of being less than or equal to 1.55 for a normal distribution with mean 1 and standard deviation 2 is 0.6083'"
            ],
            "application/vnd.google.colaboratory.intrinsic+json": {
              "type": "string"
            }
          },
          "metadata": {},
          "execution_count": 20
        }
      ]
    },
    {
      "cell_type": "markdown",
      "source": [
        "2. Let's look at splitting up a big string of text into 'words'. This is often a first step done when doing a basic sentiment analysis of some text.\n",
        "\n",
        "  First we need a string of text to break up. [Project Gutenberg](https://www.gutenberg.org/) has some classic open works that you can get the entire text from. Here we'll pull from a cookbook called *[Practical Vegetarian Cookery](https://www.gutenberg.org/cache/epub/69812/pg69812.txt)*. We'll just grab two recipes:\n",
        "\n",
        "  > WINTER VEGETABLE PIE.\n",
        "\n",
        "  > Place in baking dish, slices of cold boiled potatoes, onions, celery,\n",
        "and carrot, then add one scant cupful of stewed tomatoes and one half\n",
        "can of peas. Cover with stock, thickened to a gravy with butter and\n",
        "flour, cover with plain crust, and bake. A pie of this nature can be\n",
        "made with a great variety of ingredients; apples, boiled chestnuts,\n",
        "onions, and potatoes make a good combination. Rice, with a grating of\n",
        "cheese, celery, onion, and tomato, another variety.\n",
        "\n",
        "  > VEGETABLE HASH.\n",
        "\n",
        "  > Of cooked and chopped vegetables, use one carrot, one blood beet, two\n",
        "turnips, two quarts of finely sliced potatoes, one onion, and a stalk\n",
        "of celery; one sprig of parsley; put them in a stew pan, cover tight,\n",
        "and set in the oven. When thoroughly heated pour over a gravy of drawn\n",
        "butter and cream. Stir together and serve.\n",
        "\n",
        "  Let's create a string with these and count variables that occur."
      ],
      "metadata": {
        "id": "tMs85pJSztIZ"
      }
    },
    {
      "cell_type": "code",
      "source": [
        "recipe = \"\"\"\n",
        "WINTER VEGETABLE PIE.\n",
        "\n",
        "Place in baking dish, slices of cold boiled potatoes, onions, celery,\n",
        "and carrot, then add one scant cupful of stewed tomatoes and one half\n",
        "can of peas. Cover with stock, thickened to a gravy with butter and\n",
        "flour, cover with plain crust, and bake. A pie of this nature can be\n",
        "made with a great variety of ingredients; apples, boiled chestnuts,\n",
        "onions, and potatoes make a good combination. Rice, with a grating of\n",
        "cheese, celery, onion, and tomato, another variety.\n",
        "\n",
        "VEGETABLE HASH.\n",
        "\n",
        "Of cooked and chopped vegetables, use one carrot, one blood beet, two\n",
        "turnips, two quarts of finely sliced potatoes, one onion, and a stalk\n",
        "of celery; one sprig of parsley; put them in a stew pan, cover tight,\n",
        "and set in the oven. When thoroughly heated pour over a gravy of drawn\n",
        "butter and cream. Stir together and serve.\n",
        "\"\"\"\n",
        "recipe"
      ],
      "metadata": {
        "colab": {
          "base_uri": "https://localhost:8080/",
          "height": 158
        },
        "id": "xyxgIc6pzteZ",
        "outputId": "3b6e0de1-4f55-4109-9da6-d5281e55c8dd"
      },
      "execution_count": null,
      "outputs": [
        {
          "output_type": "execute_result",
          "data": {
            "text/plain": [
              "'\\nWINTER VEGETABLE PIE.\\n\\nPlace in baking dish, slices of cold boiled potatoes, onions, celery,\\nand carrot, then add one scant cupful of stewed tomatoes and one half\\ncan of peas. Cover with stock, thickened to a gravy with butter and\\nflour, cover with plain crust, and bake. A pie of this nature can be\\nmade with a great variety of ingredients; apples, boiled chestnuts,\\nonions, and potatoes make a good combination. Rice, with a grating of\\ncheese, celery, onion, and tomato, another variety.\\n\\nVEGETABLE HASH.\\n\\nOf cooked and chopped vegetables, use one carrot, one blood beet, two\\nturnips, two quarts of finely sliced potatoes, one onion, and a stalk\\nof celery; one sprig of parsley; put them in a stew pan, cover tight,\\nand set in the oven. When thoroughly heated pour over a gravy of drawn\\nbutter and cream. Stir together and serve.\\n'"
            ],
            "application/vnd.google.colaboratory.intrinsic+json": {
              "type": "string"
            }
          },
          "metadata": {},
          "execution_count": 14
        }
      ]
    },
    {
      "cell_type": "markdown",
      "source": [
        "Replace the `\\n`, `,`, and `.` values with a space instead. Lowercase everything with the `.lower()` method and then `.strip()` to remove the excess whitespace.  Finally, the `.split()` method gives us a list with each element being a word from the document."
      ],
      "metadata": {
        "id": "j4w1d0CYztmo"
      }
    },
    {
      "cell_type": "code",
      "source": [
        "recipe_split = recipe.replace(\"\\n\", \" \") \\\n",
        "  .replace(\".\", \" \") \\\n",
        "  .replace(\",\", \" \") \\\n",
        "  .replace(\";\", \" \") \\\n",
        "  .lower() \\\n",
        "  .strip() \\\n",
        "  .split(\" \")"
      ],
      "metadata": {
        "id": "pbRgfwOaztsw"
      },
      "execution_count": null,
      "outputs": []
    },
    {
      "cell_type": "markdown",
      "source": [
        "Now we can see how often different words come up."
      ],
      "metadata": {
        "id": "SKrcGBvazt0g"
      }
    },
    {
      "cell_type": "code",
      "source": [
        "type(recipe_split)\n",
        "recipe_split.count(\"potatoes\")"
      ],
      "metadata": {
        "colab": {
          "base_uri": "https://localhost:8080/"
        },
        "id": "m26l1Kff0goA",
        "outputId": "6f9523c1-d6ce-49e4-d207-9f42099a26b4"
      },
      "execution_count": null,
      "outputs": [
        {
          "output_type": "execute_result",
          "data": {
            "text/plain": [
              "3"
            ]
          },
          "metadata": {},
          "execution_count": 16
        }
      ]
    },
    {
      "cell_type": "markdown",
      "source": [
        "## Math Types (Including Booleans)\n",
        "\n",
        "Remember that things can't be stored precisely so you may sometimes run into issues where two things should be equal but don't resolve as equal."
      ],
      "metadata": {
        "id": "C7kYe34n0hXq"
      }
    },
    {
      "cell_type": "code",
      "source": [
        "from math import sqrt\n",
        "sqrt(2)**2 == 2"
      ],
      "metadata": {
        "id": "OehEWXLN8Agr",
        "outputId": "d26d68f7-d855-4e9a-a386-2197d45101e3",
        "colab": {
          "base_uri": "https://localhost:8080/"
        }
      },
      "execution_count": null,
      "outputs": [
        {
          "output_type": "execute_result",
          "data": {
            "text/plain": [
              "False"
            ]
          },
          "metadata": {},
          "execution_count": 31
        }
      ]
    },
    {
      "cell_type": "markdown",
      "source": [
        "Use the isclose() from numpy to check things like this."
      ],
      "metadata": {
        "id": "wP3-Kr9C8Eh7"
      }
    },
    {
      "cell_type": "code",
      "source": [
        "import numpy as np\n",
        "np.isclose(sqrt(2)**2, 2)"
      ],
      "metadata": {
        "id": "YnE5wkPC8FzT",
        "outputId": "9f7c8157-ed99-48ad-d4aa-c6ffb4614162",
        "colab": {
          "base_uri": "https://localhost:8080/"
        }
      },
      "execution_count": null,
      "outputs": [
        {
          "output_type": "execute_result",
          "data": {
            "text/plain": [
              "True"
            ]
          },
          "metadata": {},
          "execution_count": 32
        }
      ]
    },
    {
      "cell_type": "markdown",
      "source": [
        "We should have an idea about `inf`, `-inf`, and `nan` values in python.  `nan` values can be returned when a mathematical function is used outside of its domain for instance.  Here is the `norm.ppf()` function.  This returns the value from the standard normal with a certain proportion of the distribution to the left of it (proportion specified by the value you feed the function).  These values should of course be between 0 and 1."
      ],
      "metadata": {
        "id": "M4DNzCOx8GXz"
      }
    },
    {
      "cell_type": "code",
      "source": [
        "import scipy.stats as stats\n",
        "stats.norm.ppf(0.5)"
      ],
      "metadata": {
        "id": "l4rXABVVXKwR",
        "outputId": "d6265eed-2737-4cd9-917e-fe2ac949ad89",
        "colab": {
          "base_uri": "https://localhost:8080/"
        }
      },
      "execution_count": null,
      "outputs": [
        {
          "output_type": "execute_result",
          "data": {
            "text/plain": [
              "0.0"
            ]
          },
          "metadata": {},
          "execution_count": 35
        }
      ]
    },
    {
      "cell_type": "code",
      "source": [],
      "metadata": {
        "id": "1d_iT3Mi8G6T",
        "outputId": "58c0d091-ff18-4c24-c1fc-4e468d085ffb",
        "colab": {
          "base_uri": "https://localhost:8080/"
        }
      },
      "execution_count": null,
      "outputs": [
        {
          "output_type": "execute_result",
          "data": {
            "text/plain": [
              "nan"
            ]
          },
          "metadata": {},
          "execution_count": 36
        }
      ]
    },
    {
      "cell_type": "markdown",
      "source": [
        "What happens if we give a value like -1?"
      ],
      "metadata": {
        "id": "OKr1CzUh8G_r"
      }
    },
    {
      "cell_type": "code",
      "source": [
        "stats.norm.ppf(-0.1)\n",
        "np.isnan(stats.norm.ppf(-0.1))"
      ],
      "metadata": {
        "id": "YMiYwg5w8HEj",
        "outputId": "22f15684-0dd2-4a46-e069-ec69c189edcf",
        "colab": {
          "base_uri": "https://localhost:8080/"
        }
      },
      "execution_count": null,
      "outputs": [
        {
          "output_type": "execute_result",
          "data": {
            "text/plain": [
              "True"
            ]
          },
          "metadata": {},
          "execution_count": 41
        }
      ]
    },
    {
      "cell_type": "markdown",
      "source": [
        "Infinite values can pop up too.  There are lots of ways to create an infinite value via casting as well."
      ],
      "metadata": {
        "id": "XWTKaDYZ8HJK"
      }
    },
    {
      "cell_type": "code",
      "source": [
        "float(1)\n",
        "float(\"Inf\")\n",
        "-float(\"Inf\")"
      ],
      "metadata": {
        "id": "leKMqHI08HNk",
        "outputId": "480fde0c-bbfa-42e2-f995-c6decf5a7603",
        "colab": {
          "base_uri": "https://localhost:8080/"
        }
      },
      "execution_count": null,
      "outputs": [
        {
          "output_type": "execute_result",
          "data": {
            "text/plain": [
              "-inf"
            ]
          },
          "metadata": {},
          "execution_count": 40
        }
      ]
    },
    {
      "cell_type": "markdown",
      "source": [
        "Let's update our string from before with digits! (Note that using floating point for z and integers for mean and standard deviation doesn't really make sense, I'm just showing the functionality!)"
      ],
      "metadata": {
        "id": "6XZ0wTuX8HRi"
      }
    },
    {
      "cell_type": "code",
      "source": [
        "prob_string = \"The probability of being less than or equal to {y:.2f} for a normal distribution with mean {mean:d} and standard deviation {std:d} is {prob:.4f}\"\n",
        "\n",
        "prob_string.format(y = y, mean = mean, std = std, prob = stats.norm.cdf(y, mean, std))"
      ],
      "metadata": {
        "id": "PAM6_6MO8QVD",
        "outputId": "0272775b-a6bc-4169-bb87-e04d48199d66",
        "colab": {
          "base_uri": "https://localhost:8080/",
          "height": 53
        }
      },
      "execution_count": null,
      "outputs": [
        {
          "output_type": "execute_result",
          "data": {
            "text/plain": [
              "'The probability of being less than or equal to 1.55 for a normal distribution with mean 1 and standard deviation 2 is 0.6083'"
            ],
            "application/vnd.google.colaboratory.intrinsic+json": {
              "type": "string"
            }
          },
          "metadata": {},
          "execution_count": 44
        }
      ]
    },
    {
      "cell_type": "markdown",
      "source": [
        "# Week 2"
      ],
      "metadata": {
        "id": "VfNfgSTw-DZM"
      }
    },
    {
      "cell_type": "markdown",
      "metadata": {
        "id": "9cf30018-b3da-4b1a-bb3c-903009daaabb"
      },
      "source": [
        "## User Defined Functions\n",
        "\n",
        "**Let's create our own plotting function that will plot a Binomial random variables probabilities with a Normal approximation overlay.**\n",
        "\n",
        "If you aren't familiar, a Binomial random variable measures the number of successes in a fixed number of Success/Failure trials (denoted by $n$). These trials need to be indpendent and have the same probability of success (called $p$).\n",
        "\n",
        "We denote this via\n",
        "$$Y\\sim Bin(n, p)$$\n",
        "As $Y$ measures the number of successes in $n$ trials, the values $Y$ can take on are $y = 0, 1, 2, ..., n$. The probabilities associated with each of these outcomes is given by the Probability Mass Function (PMF) of the Binomial distribution:\n",
        "\n",
        "$$p_Y(y)= P(Y=y) = \\binom{n}{y}p^y(1-p)^{n-y}$$\n",
        "\n",
        "where $\\binom{n}{y} = \\frac{n!}{y!(n-y)!}$ is the binomial coefficient.\n",
        "\n",
        "We can find these values using the `scipy.stats` module! Let's read in the appropriate modules for finding these values and doing our plotting.\n"
      ]
    },
    {
      "cell_type": "code",
      "execution_count": 1,
      "metadata": {
        "id": "10431e8c-7663-4a8c-a9f4-8a6859c46a6c"
      },
      "outputs": [],
      "source": [
        "import numpy as np\n",
        "import scipy.stats as stats\n",
        "import matplotlib.pyplot as plt"
      ]
    },
    {
      "cell_type": "markdown",
      "metadata": {
        "id": "3c6a5176-5d99-4ee7-887e-261acad17d6c"
      },
      "source": [
        "**When writing a function, it is usually easier to write the code for the body of the function outside of a function definition first and then put it into a function.**\n",
        "\n",
        "Let's start by creating code to find the probabilities associated with the Binomial for a given $n$ and $p$. The `scipy.stats` module has a `binom.pmf()` function that will return probabilities from the PMF."
      ]
    },
    {
      "cell_type": "code",
      "source": [
        "print(stats.binom.pmf.__doc__)"
      ],
      "metadata": {
        "id": "4TurB0UQBhMy",
        "outputId": "4ca1dc70-0fec-45b4-8aa3-b481386c950e",
        "colab": {
          "base_uri": "https://localhost:8080/"
        }
      },
      "execution_count": 3,
      "outputs": [
        {
          "output_type": "stream",
          "name": "stdout",
          "text": [
            "Probability mass function at k of the given RV.\n",
            "\n",
            "        Parameters\n",
            "        ----------\n",
            "        k : array_like\n",
            "            Quantiles.\n",
            "        arg1, arg2, arg3,... : array_like\n",
            "            The shape parameter(s) for the distribution (see docstring of the\n",
            "            instance object for more information)\n",
            "        loc : array_like, optional\n",
            "            Location parameter (default=0).\n",
            "\n",
            "        Returns\n",
            "        -------\n",
            "        pmf : array_like\n",
            "            Probability mass function evaluated at k\n",
            "\n",
            "        \n"
          ]
        }
      ]
    },
    {
      "cell_type": "code",
      "execution_count": null,
      "metadata": {
        "id": "71c76d7d-a3bf-4c64-b7ea-943cdc7ef77d",
        "outputId": "7d80cb7e-259f-4bae-8b07-533559f62fae"
      },
      "outputs": [
        {
          "data": {
            "text/plain": [
              "9.313225746154785e-10"
            ]
          },
          "execution_count": 33,
          "metadata": {},
          "output_type": "execute_result"
        }
      ],
      "source": [
        "stats.binom.pmf(0, n = 30, p = 0.5)"
      ]
    },
    {
      "cell_type": "markdown",
      "metadata": {
        "id": "20dba885-3d9d-4933-9043-c0d15ded4e29"
      },
      "source": [
        "Note: the `k` argument can be 'array like'. That is, we can pass something like a list of values we want the probabilities for. As a binomial measures the number of successes in $n$ trials, we need to consider all of the integers from 0 to n. This can be done easily with the `range()` function."
      ]
    },
    {
      "cell_type": "code",
      "execution_count": 4,
      "metadata": {
        "id": "d9a62c8b-c21f-4788-8134-00aaed5bc1d6",
        "outputId": "3304d81c-ef17-42fd-fc0b-06ba15f07044",
        "colab": {
          "base_uri": "https://localhost:8080/"
        }
      },
      "outputs": [
        {
          "output_type": "execute_result",
          "data": {
            "text/plain": [
              "array([9.31322575e-10, 2.79396772e-08, 4.05125320e-07, 3.78116965e-06,\n",
              "       2.55228952e-05, 1.32719055e-04, 5.52996062e-04, 1.89598650e-03,\n",
              "       5.45096118e-03, 1.33245718e-02, 2.79816007e-02, 5.08756377e-02,\n",
              "       8.05530930e-02, 1.11535052e-01, 1.35435420e-01, 1.44464448e-01,\n",
              "       1.35435420e-01, 1.11535052e-01, 8.05530930e-02, 5.08756377e-02,\n",
              "       2.79816007e-02, 1.33245718e-02, 5.45096118e-03, 1.89598650e-03,\n",
              "       5.52996062e-04, 1.32719055e-04, 2.55228952e-05, 3.78116965e-06,\n",
              "       4.05125320e-07, 2.79396772e-08, 9.31322575e-10])"
            ]
          },
          "metadata": {},
          "execution_count": 4
        }
      ],
      "source": [
        "stats.binom.pmf(range(0,31), n = 30, p = 0.5)"
      ]
    },
    {
      "cell_type": "markdown",
      "metadata": {
        "id": "8a5627a5-df4a-4488-88d5-ca5d168eb5ed"
      },
      "source": [
        "Ok, we have the values of the random variable (0 to $n$) and the probabilities we want to plot.  We can use `matplotlib`'s `pyplot` module which has a `bar()` function that can create a basic bar graph for us. It has two arguments:\n",
        "\n",
        "- the `x` values for the location of the bars\n",
        "- the `height` for the height of the bars\n",
        "\n",
        ". We just need to pass two things of the same length that correspond to the pairs of `x` and `height`."
      ]
    },
    {
      "cell_type": "code",
      "execution_count": 8,
      "metadata": {
        "id": "bdac8d2f-7a5a-4373-9940-eb3088ec2567",
        "outputId": "8fa2bb7f-d208-4465-9182-2c7ad727cd03",
        "colab": {
          "base_uri": "https://localhost:8080/",
          "height": 447
        }
      },
      "outputs": [
        {
          "output_type": "execute_result",
          "data": {
            "text/plain": [
              "<BarContainer object of 31 artists>"
            ]
          },
          "metadata": {},
          "execution_count": 8
        },
        {
          "output_type": "display_data",
          "data": {
            "text/plain": [
              "<Figure size 640x480 with 1 Axes>"
            ],
            "image/png": "[encoded data removed]"
          },
          "metadata": {}
        }
      ],
      "source": [
        "plt.bar(x = range(0,31), height = stats.binom.pmf(range(0,31), n = 30, p = 0.5))"
      ]
    },
    {
      "cell_type": "markdown",
      "metadata": {
        "id": "45e8bdee-5a5d-4d94-82cc-51b069e0565f"
      },
      "source": [
        "Great! Now let's wrap that up into a function so the user can call it and just specify `n` and `p`. We'll give default values of `n=30` and `p=0.5`."
      ]
    },
    {
      "cell_type": "code",
      "execution_count": 13,
      "metadata": {
        "id": "cd7febb2-9892-4fa1-b432-1990d8979ec4",
        "outputId": "8493dda2-8fe4-4fb0-ad9d-36f14a3a97aa",
        "colab": {
          "base_uri": "https://localhost:8080/",
          "height": 430
        }
      },
      "outputs": [
        {
          "output_type": "display_data",
          "data": {
            "text/plain": [
              "<Figure size 640x480 with 1 Axes>"
            ],
            "image/png": "[encoded data removed]"
          },
          "metadata": {}
        }
      ],
      "source": [
        "def binom_norm_plot(n = 30, p = 0.5):\n",
        "    x = range(0,n+1)\n",
        "    height = stats.binom.pmf(x, n = n, p = p)\n",
        "    plt.bar(x = x, height = height)\n",
        "    return\n",
        "\n",
        "binom_norm_plot(n = 50, p = 0.1)\n",
        "\n"
      ]
    },
    {
      "cell_type": "markdown",
      "metadata": {
        "id": "12385894-c645-405a-ae6c-9efee7886355"
      },
      "source": [
        "Now we are cooking! We want to add a curve to this graph corresponding to the commonly used Normal approximation to the binomial.\n",
        "\n",
        "The Normal distribution has two parameters: mean and standard deviation (or variance)\n",
        "\n",
        "The mean of the Binomial is $n*p$ and the standard deviation is $\\sqrt{n*p*(1-p)}$. We can plug these values into the `norm.pdf()` from the `scipy.stats` module (PDF stands for Probability Density Function and is the continuous analog to the PMF)."
      ]
    },
    {
      "cell_type": "code",
      "source": [
        "print(stats.norm.pdf.__doc__)"
      ],
      "metadata": {
        "id": "JHxcUL7kEPbZ",
        "outputId": "de7ff59b-d3e3-4564-e33a-481736707c6e",
        "colab": {
          "base_uri": "https://localhost:8080/"
        }
      },
      "execution_count": 10,
      "outputs": [
        {
          "output_type": "stream",
          "name": "stdout",
          "text": [
            "Probability density function at x of the given RV.\n",
            "\n",
            "        Parameters\n",
            "        ----------\n",
            "        x : array_like\n",
            "            quantiles\n",
            "        arg1, arg2, arg3,... : array_like\n",
            "            The shape parameter(s) for the distribution (see docstring of the\n",
            "            instance object for more information)\n",
            "        loc : array_like, optional\n",
            "            location parameter (default=0)\n",
            "        scale : array_like, optional\n",
            "            scale parameter (default=1)\n",
            "\n",
            "        Returns\n",
            "        -------\n",
            "        pdf : ndarray\n",
            "            Probability density function evaluated at x\n",
            "\n",
            "        \n"
          ]
        }
      ]
    },
    {
      "cell_type": "code",
      "execution_count": 12,
      "metadata": {
        "id": "d10ad102-ae7d-4e14-a491-1a844386d7ee",
        "outputId": "3f9f2e81-3a8f-4c75-da49-32df15174180",
        "colab": {
          "base_uri": "https://localhost:8080/"
        }
      },
      "outputs": [
        {
          "output_type": "execute_result",
          "data": {
            "text/plain": [
              "array([0.00170007, 0.01028484, 0.0417071 , 0.11337165, 0.20657662,\n",
              "       0.25231325, 0.20657662, 0.11337165, 0.0417071 , 0.01028484])"
            ]
          },
          "metadata": {},
          "execution_count": 12
        }
      ],
      "source": [
        "n = 10\n",
        "p = 0.5\n",
        "stats.norm.pdf(range(0,10), loc = n*p, scale = np.sqrt(n*p*(1-p)))"
      ]
    },
    {
      "cell_type": "markdown",
      "metadata": {
        "id": "68b6c817-75eb-43d7-9c6f-d51a1059961e"
      },
      "source": [
        ":Great, now let's add those values to the plot using the `plot()` function from `pyplot`. We'll learn about this later but if we use `matplotlib` and create a plot in a cell followed by another plot, it will place those on the same plot by default. Therefore, we just want to create the bar plot and then this other plot in the same cell."
      ]
    },
    {
      "cell_type": "code",
      "execution_count": 14,
      "metadata": {
        "id": "5a7e91f9-2a8f-4eca-8f0d-9ece785c4a2a",
        "outputId": "1f425886-09b7-4dbe-b024-f4d3b349c4fc",
        "colab": {
          "base_uri": "https://localhost:8080/",
          "height": 447
        }
      },
      "outputs": [
        {
          "output_type": "execute_result",
          "data": {
            "text/plain": [
              "[<matplotlib.lines.Line2D at 0x784bf3cd70d0>]"
            ]
          },
          "metadata": {},
          "execution_count": 14
        },
        {
          "output_type": "display_data",
          "data": {
            "text/plain": [
              "<Figure size 640x480 with 1 Axes>"
            ],
            "image/png": "[encoded data removed]"
          },
          "metadata": {}
        }
      ],
      "source": [
        "binom_norm_plot(n = 50, p = 0.1)\n",
        "n = 50\n",
        "p = 0.1\n",
        "x = range(0,n+1)\n",
        "y = stats.norm.pdf(x, loc = n*p, scale = np.sqrt(n*p*(1-p)))\n",
        "plt.plot(x, y)"
      ]
    },
    {
      "cell_type": "markdown",
      "metadata": {
        "id": "6ac0dd9c-0cd4-4ad1-8a41-e0337953c5e6"
      },
      "source": [
        "Add that to the function!"
      ]
    },
    {
      "cell_type": "code",
      "execution_count": 15,
      "metadata": {
        "id": "762d19eb-eb47-40e5-be9d-64fe6cbf0b4b",
        "outputId": "9f5823bd-1236-46bd-cd33-640a97083f97",
        "colab": {
          "base_uri": "https://localhost:8080/",
          "height": 430
        }
      },
      "outputs": [
        {
          "output_type": "display_data",
          "data": {
            "text/plain": [
              "<Figure size 640x480 with 1 Axes>"
            ],
            "image/png": "[encoded data removed]"
          },
          "metadata": {}
        }
      ],
      "source": [
        "def binom_norm_plot(n = 30, p = 0.5):\n",
        "    x = range(0, n+1)\n",
        "    height = stats.binom.pmf(x, n = n, p = p)\n",
        "    plt.bar(x = x, height = height)\n",
        "    y = stats.norm.pdf(x, loc = n*p, scale = np.sqrt(n*p*(1-p)))\n",
        "    plt.plot(x, y)\n",
        "    return\n",
        "binom_norm_plot()"
      ]
    },
    {
      "cell_type": "markdown",
      "source": [
        "## Control Flow Examples"
      ],
      "metadata": {
        "id": "xgmqqbKnIaba"
      }
    },
    {
      "cell_type": "markdown",
      "metadata": {
        "id": "b0cd6cb2-c235-4294-98a2-5eb9991b079b"
      },
      "source": [
        "### `for` loop and if/then/else\n",
        "\n",
        "First, let's do an if/then/else logic example.  Fizz buzz coding!  \n",
        "\n",
        "The logic for the fizz buzz programming problem:\n",
        "- If a number is divisible by 15 (both 3 and 5), then print fizz buzz\n",
        "- If a number is only divisible by 3, then print fizz\n",
        "- If a number is only divisible by 5, then print buzz\n",
        "- Otherwise print the number itself\n",
        "\n",
        "We can use the `%` (modulus operator) to get the remainder from a division calculation."
      ]
    },
    {
      "cell_type": "code",
      "source": [
        "22 % 3"
      ],
      "metadata": {
        "id": "OldFDkktH_5z",
        "outputId": "7f0d5287-c06f-4c89-db4b-22f388e56134",
        "colab": {
          "base_uri": "https://localhost:8080/"
        }
      },
      "execution_count": 16,
      "outputs": [
        {
          "output_type": "execute_result",
          "data": {
            "text/plain": [
              "1"
            ]
          },
          "metadata": {},
          "execution_count": 16
        }
      ]
    },
    {
      "cell_type": "code",
      "source": [
        "23 % 3"
      ],
      "metadata": {
        "id": "e51t0qe5IByW",
        "outputId": "e01c936f-6614-42f6-de52-3d02553687e6",
        "colab": {
          "base_uri": "https://localhost:8080/"
        }
      },
      "execution_count": 17,
      "outputs": [
        {
          "output_type": "execute_result",
          "data": {
            "text/plain": [
              "2"
            ]
          },
          "metadata": {},
          "execution_count": 17
        }
      ]
    },
    {
      "cell_type": "markdown",
      "source": [
        "Let's use if/then/else logic to go through and print the correct statement."
      ],
      "metadata": {
        "id": "CUeL3_5sIEVa"
      }
    },
    {
      "cell_type": "code",
      "execution_count": null,
      "metadata": {
        "id": "7aa3fe24-bb33-4a46-b547-88108ad60101",
        "outputId": "e8d081c2-a1fa-4cd2-9b5c-22e6fa2a25de"
      },
      "outputs": [
        {
          "name": "stdout",
          "output_type": "stream",
          "text": [
            "22\n"
          ]
        }
      ],
      "source": [
        "value = 22\n",
        "if (value % 5)== 0 and (value % 3) == 0:\n",
        "    print(\"fizz buzz\")\n",
        "elif (value % 3)== 0:\n",
        "    print(\"fizz\")\n",
        "elif (value % 5)==0:\n",
        "    print(\"buzz\")\n",
        "else:\n",
        "    print(value)"
      ]
    },
    {
      "cell_type": "markdown",
      "metadata": {
        "id": "1a144271-9ee8-4044-8adb-1ac08ea76210"
      },
      "source": [
        "Now wrap it in a for loop to test all numbers between 1 and 100."
      ]
    },
    {
      "cell_type": "code",
      "execution_count": null,
      "metadata": {
        "id": "444ceeeb-78aa-4086-9d26-7228f6b786fc",
        "outputId": "da88dc9d-7576-421a-944a-d33a05aa6935"
      },
      "outputs": [
        {
          "name": "stdout",
          "output_type": "stream",
          "text": [
            "1\n",
            "2\n",
            "fizz\n",
            "4\n",
            "buzz\n",
            "fizz\n",
            "7\n",
            "8\n",
            "fizz\n",
            "buzz\n",
            "11\n",
            "fizz\n",
            "13\n",
            "14\n",
            "fizz buzz\n",
            "16\n",
            "17\n",
            "fizz\n",
            "19\n",
            "buzz\n",
            "fizz\n",
            "22\n",
            "23\n",
            "fizz\n",
            "buzz\n",
            "26\n",
            "fizz\n",
            "28\n",
            "29\n",
            "fizz buzz\n",
            "31\n",
            "32\n",
            "fizz\n",
            "34\n",
            "buzz\n",
            "fizz\n",
            "37\n",
            "38\n",
            "fizz\n",
            "buzz\n",
            "41\n",
            "fizz\n",
            "43\n",
            "44\n",
            "fizz buzz\n",
            "46\n",
            "47\n",
            "fizz\n",
            "49\n",
            "buzz\n",
            "fizz\n",
            "52\n",
            "53\n",
            "fizz\n",
            "buzz\n",
            "56\n",
            "fizz\n",
            "58\n",
            "59\n",
            "fizz buzz\n",
            "61\n",
            "62\n",
            "fizz\n",
            "64\n",
            "buzz\n",
            "fizz\n",
            "67\n",
            "68\n",
            "fizz\n",
            "buzz\n",
            "71\n",
            "fizz\n",
            "73\n",
            "74\n",
            "fizz buzz\n",
            "76\n",
            "77\n",
            "fizz\n",
            "79\n",
            "buzz\n",
            "fizz\n",
            "82\n",
            "83\n",
            "fizz\n",
            "buzz\n",
            "86\n",
            "fizz\n",
            "88\n",
            "89\n",
            "fizz buzz\n",
            "91\n",
            "92\n",
            "fizz\n",
            "94\n",
            "buzz\n",
            "fizz\n",
            "97\n",
            "98\n",
            "fizz\n",
            "buzz\n"
          ]
        }
      ],
      "source": [
        "for value in range(1, 101):\n",
        "    if (value % 5)== 0 and (value % 3) == 0:\n",
        "        print(\"fizz buzz\")\n",
        "    elif (value % 3)== 0:\n",
        "        print(\"fizz\")\n",
        "    elif (value % 5)==0:\n",
        "        print(\"buzz\")\n",
        "    else:\n",
        "        print(value)"
      ]
    },
    {
      "cell_type": "markdown",
      "metadata": {
        "id": "105c5005-83fb-4fcc-a242-b11340abe57c"
      },
      "source": [
        "### `while` loop Example\n",
        "\n",
        "Let's do a quick interactive number guessing game.  We'll use the `input` function to ask the user for an input.\n",
        "\n",
        "A `while` loop allows us to keep executing until the user guesses correctly and we update the condition."
      ]
    },
    {
      "cell_type": "code",
      "execution_count": null,
      "metadata": {
        "id": "ee61637f-2c82-4d6c-b0cc-a304ed67743b",
        "outputId": "16ccfbab-eec3-4499-a956-c49a15ce94d0"
      },
      "outputs": [
        {
          "name": "stdin",
          "output_type": "stream",
          "text": [
            "Give me a number between 1 and 20: 14\n"
          ]
        },
        {
          "name": "stdout",
          "output_type": "stream",
          "text": [
            "You did it!\n"
          ]
        }
      ],
      "source": [
        "truth = 14\n",
        "correct = False\n",
        "while not correct:\n",
        "    guess = float(input(\"Give me a number between 1 and 20:\"))\n",
        "    if truth == guess:\n",
        "        print(\"You did it!\")\n",
        "        correct = True\n",
        "    elif guess < truth:\n",
        "        print(\"something bigger!\")\n",
        "    elif guess > truth:\n",
        "        print(\"something smaller!\")"
      ]
    },
    {
      "cell_type": "markdown",
      "metadata": {
        "id": "60f7ae56-c63c-4a12-b593-97c8b17fb0a5"
      },
      "source": [
        "## Lists and Tuples Practice\n",
        "\n",
        "List comprehensions can be confusing at first. Let's do a little practice. First, let's write a list comprehension to return a list with values 0, 1, ..., 9."
      ]
    },
    {
      "cell_type": "code",
      "source": [
        "[x for x in range(10)]"
      ],
      "metadata": {
        "id": "KX-q0DkIJNHO",
        "outputId": "0a76611b-7748-43ec-da81-cb7e0d18c079",
        "colab": {
          "base_uri": "https://localhost:8080/"
        }
      },
      "execution_count": 18,
      "outputs": [
        {
          "output_type": "execute_result",
          "data": {
            "text/plain": [
              "[0, 1, 2, 3, 4, 5, 6, 7, 8, 9]"
            ]
          },
          "metadata": {},
          "execution_count": 18
        }
      ]
    },
    {
      "cell_type": "markdown",
      "source": [
        "Ok, that is a bit silly but we can do more with this. For instance, we can return $x^2$ instead of just $x$."
      ],
      "metadata": {
        "id": "SShHiJTqJPez"
      }
    },
    {
      "cell_type": "code",
      "source": [
        "[x**2 for x in range(10)]"
      ],
      "metadata": {
        "id": "Ym5aofciJYAu",
        "outputId": "1592ac15-4dcf-48b5-f5e0-4448a5174414",
        "colab": {
          "base_uri": "https://localhost:8080/"
        }
      },
      "execution_count": 19,
      "outputs": [
        {
          "output_type": "execute_result",
          "data": {
            "text/plain": [
              "[0, 1, 4, 9, 16, 25, 36, 49, 64, 81]"
            ]
          },
          "metadata": {},
          "execution_count": 19
        }
      ]
    },
    {
      "cell_type": "markdown",
      "source": [
        "We can also return more than one value if we return a list! Let's return $x$, $x+1$, and $x+2$."
      ],
      "metadata": {
        "id": "vLNKcv3uJa_N"
      }
    },
    {
      "cell_type": "code",
      "execution_count": 20,
      "metadata": {
        "id": "12562624-ccb8-45a2-8505-bce3657ab9aa",
        "outputId": "74200c92-29f8-4087-efc1-b6b4dc2890fb",
        "colab": {
          "base_uri": "https://localhost:8080/"
        }
      },
      "outputs": [
        {
          "output_type": "execute_result",
          "data": {
            "text/plain": [
              "[[0, 1, 2],\n",
              " [1, 2, 3],\n",
              " [2, 3, 4],\n",
              " [3, 4, 5],\n",
              " [4, 5, 6],\n",
              " [5, 6, 7],\n",
              " [6, 7, 8],\n",
              " [7, 8, 9],\n",
              " [8, 9, 10],\n",
              " [9, 10, 11]]"
            ]
          },
          "metadata": {},
          "execution_count": 20
        }
      ],
      "source": [
        "y = [[x, x+1, x+2] for x in range(10)]\n",
        "y"
      ]
    },
    {
      "cell_type": "markdown",
      "metadata": {
        "id": "17e262fa-6b23-45c8-95ec-75e2d65ece6b"
      },
      "source": [
        ":Next we'll consider the `map()` function, which allows us to **apply a function to every element of list** (along with other things we'll look at later!).\n",
        "\n",
        "Consider applying the `sum()` function to the first (0th) and second (1st) elements of our list.  This should sum the subsequent lists."
      ]
    },
    {
      "cell_type": "code",
      "execution_count": 22,
      "metadata": {
        "id": "c1aa41f4-e9ff-4c1c-b8c4-bb880f926d3c",
        "outputId": "6fa18022-857c-42f6-8759-38a0e66c884f",
        "colab": {
          "base_uri": "https://localhost:8080/"
        }
      },
      "outputs": [
        {
          "output_type": "execute_result",
          "data": {
            "text/plain": [
              "[0, 1, 2]"
            ]
          },
          "metadata": {},
          "execution_count": 22
        }
      ],
      "source": [
        "y[0]"
      ]
    },
    {
      "cell_type": "code",
      "source": [
        "sum(y[0])"
      ],
      "metadata": {
        "id": "xYAJCNp-JyBk",
        "outputId": "1401b29c-3a15-48a8-c324-a5d2bc588935",
        "colab": {
          "base_uri": "https://localhost:8080/"
        }
      },
      "execution_count": 23,
      "outputs": [
        {
          "output_type": "execute_result",
          "data": {
            "text/plain": [
              "3"
            ]
          },
          "metadata": {},
          "execution_count": 23
        }
      ]
    },
    {
      "cell_type": "code",
      "source": [
        "sum(y[1])"
      ],
      "metadata": {
        "id": "40XcaB9iJzCy",
        "outputId": "be9db245-f091-4191-bdb2-4fcb83dc7047",
        "colab": {
          "base_uri": "https://localhost:8080/"
        }
      },
      "execution_count": 24,
      "outputs": [
        {
          "output_type": "execute_result",
          "data": {
            "text/plain": [
              "6"
            ]
          },
          "metadata": {},
          "execution_count": 24
        }
      ]
    },
    {
      "cell_type": "markdown",
      "metadata": {
        "id": "2d2c6f40-d639-4021-abdd-dfa17a85eead"
      },
      "source": [
        ":To do this to every list element would be tedious.  Instead we can `map()` the `sum()` function to each element."
      ]
    },
    {
      "cell_type": "code",
      "execution_count": 27,
      "metadata": {
        "id": "6915626a-9164-4021-8574-d81e342fa26a",
        "outputId": "bb64c7af-de3d-47d0-85ba-496025570fc5",
        "colab": {
          "base_uri": "https://localhost:8080/"
        }
      },
      "outputs": [
        {
          "output_type": "execute_result",
          "data": {
            "text/plain": [
              "<map at 0x784be77cb9a0>"
            ]
          },
          "metadata": {},
          "execution_count": 27
        }
      ],
      "source": [
        "map(sum, y)"
      ]
    },
    {
      "cell_type": "markdown",
      "source": [
        "This doesn't actually return the values! Instead this is an iterator that allows us to find the values when needed.\n",
        "\n",
        "An easy way to get at these is to just wrap the map in a `list()`."
      ],
      "metadata": {
        "id": "ONl-xJKaKOEq"
      }
    },
    {
      "cell_type": "code",
      "source": [
        "z = list(map(sum, y))\n",
        "z"
      ],
      "metadata": {
        "id": "vHG8sKuKKJxf",
        "outputId": "b5807fd4-a9e7-40c7-8713-a4e1bd45478b",
        "colab": {
          "base_uri": "https://localhost:8080/"
        }
      },
      "execution_count": 30,
      "outputs": [
        {
          "output_type": "execute_result",
          "data": {
            "text/plain": [
              "[3, 6, 9, 12, 15, 18, 21, 24, 27, 30]"
            ]
          },
          "metadata": {},
          "execution_count": 30
        }
      ]
    },
    {
      "cell_type": "markdown",
      "metadata": {
        "id": "55609eac-88a3-4c47-8dec-cb96b5a7ba71"
      },
      "source": [
        "Next we consider the `zip()` function, which is quite useful for looking at multiple lists (and other data structures) at once.  Here we have two lists of the same length, which we can check with the code below."
      ]
    },
    {
      "cell_type": "code",
      "execution_count": 31,
      "metadata": {
        "id": "17a116dd-8482-44c7-90a5-ffda35354350",
        "outputId": "d475f60d-4927-40c7-d659-6c304f7e5d22",
        "colab": {
          "base_uri": "https://localhost:8080/"
        }
      },
      "outputs": [
        {
          "output_type": "stream",
          "name": "stdout",
          "text": [
            "10 10\n"
          ]
        },
        {
          "output_type": "execute_result",
          "data": {
            "text/plain": [
              "<zip at 0x784be7809d80>"
            ]
          },
          "metadata": {},
          "execution_count": 31
        }
      ],
      "source": [
        "print(len(y), len(z))\n",
        "zip(y, z)"
      ]
    },
    {
      "cell_type": "markdown",
      "metadata": {
        "id": "e8a52e9e-b146-41e0-b18e-3a4d4265575d"
      },
      "source": [
        "Now we can write a for loop to iterate over the 0th (first) element of each list at the same time, then the 1st (second) element, ..., etc."
      ]
    },
    {
      "cell_type": "code",
      "execution_count": 32,
      "metadata": {
        "id": "792e9528-68d6-4317-9a55-ee057dbff1e6",
        "outputId": "3a4a087a-4d54-47e3-e521-7232c99ff149",
        "colab": {
          "base_uri": "https://localhost:8080/"
        }
      },
      "outputs": [
        {
          "output_type": "stream",
          "name": "stdout",
          "text": [
            "[0, 1, 2] 3\n",
            "[1, 2, 3] 6\n",
            "[2, 3, 4] 9\n",
            "[3, 4, 5] 12\n",
            "[4, 5, 6] 15\n",
            "[5, 6, 7] 18\n",
            "[6, 7, 8] 21\n",
            "[7, 8, 9] 24\n",
            "[8, 9, 10] 27\n",
            "[9, 10, 11] 30\n"
          ]
        }
      ],
      "source": [
        "for i, j in zip(y, z):\n",
        "    print(i, j)"
      ]
    },
    {
      "cell_type": "markdown",
      "metadata": {
        "id": "bdad5f94-e75e-4783-bb2d-1641e8606713"
      },
      "source": [
        "This can be done via a list comprehension as well!"
      ]
    },
    {
      "cell_type": "code",
      "execution_count": 33,
      "metadata": {
        "id": "e8b8d5a4-d617-4b44-a9ac-cf28ad67b872",
        "outputId": "a082595b-7eb2-4b6a-fce5-e80648e54349",
        "colab": {
          "base_uri": "https://localhost:8080/"
        }
      },
      "outputs": [
        {
          "output_type": "execute_result",
          "data": {
            "text/plain": [
              "[[[0, 1, 2], 3],\n",
              " [[1, 2, 3], 6],\n",
              " [[2, 3, 4], 9],\n",
              " [[3, 4, 5], 12],\n",
              " [[4, 5, 6], 15],\n",
              " [[5, 6, 7], 18],\n",
              " [[6, 7, 8], 21],\n",
              " [[7, 8, 9], 24],\n",
              " [[8, 9, 10], 27],\n",
              " [[9, 10, 11], 30]]"
            ]
          },
          "metadata": {},
          "execution_count": 33
        }
      ],
      "source": [
        "[[i,j] for i, j in zip(y, z)]"
      ]
    },
    {
      "cell_type": "code",
      "execution_count": 34,
      "metadata": {
        "id": "867c0035-b35e-4e54-ada3-432d8251c18f",
        "outputId": "43264e50-4159-4165-ebbb-33a2642e65b9",
        "colab": {
          "base_uri": "https://localhost:8080/"
        }
      },
      "outputs": [
        {
          "output_type": "execute_result",
          "data": {
            "text/plain": [
              "[[[3, 4, 5], 12],\n",
              " [[4, 5, 6], 15],\n",
              " [[5, 6, 7], 18],\n",
              " [[6, 7, 8], 21],\n",
              " [[7, 8, 9], 24],\n",
              " [[8, 9, 10], 27],\n",
              " [[9, 10, 11], 30]]"
            ]
          },
          "metadata": {},
          "execution_count": 34
        }
      ],
      "source": [
        "[[i,j] for i, j in zip(y, z) if j > 10]"
      ]
    },
    {
      "cell_type": "markdown",
      "metadata": {
        "id": "270ca2a9-e628-46b4-9e3d-90da2b698cce"
      },
      "source": [
        "## Dictionaries\n",
        "\n",
        "Let's construct a dictionary from a tuple and a list.  The tuple will act as the keys for our dictionary and the list as the values corresponding to those keys. (We could use lists for both!)"
      ]
    },
    {
      "cell_type": "code",
      "execution_count": 35,
      "metadata": {
        "id": "7baf37d1-a609-49e6-b0d5-ae92dea686a0",
        "outputId": "f4037293-e516-44d6-dbb4-6f60ee2485df",
        "colab": {
          "base_uri": "https://localhost:8080/"
        }
      },
      "outputs": [
        {
          "output_type": "execute_result",
          "data": {
            "text/plain": [
              "('a', 'b', 'c', 'd', 'e', 'f')"
            ]
          },
          "metadata": {},
          "execution_count": 35
        }
      ],
      "source": [
        "keys = tuple(x for x in \"abcdef\")\n",
        "keys"
      ]
    },
    {
      "cell_type": "markdown",
      "metadata": {
        "id": "e7fd355c-9cb1-4ca1-8529-2ae7535d7974"
      },
      "source": [
        "Now we'll use another list comprehension to return a list where each element is a list itself of length four based on different mathematical functions."
      ]
    },
    {
      "cell_type": "code",
      "execution_count": 36,
      "metadata": {
        "id": "841741e3-a0b3-40b8-8dd8-9e76c188c57f",
        "outputId": "9a6e349a-c0fd-405c-cf0c-3a02b4e15261",
        "colab": {
          "base_uri": "https://localhost:8080/"
        }
      },
      "outputs": [
        {
          "output_type": "execute_result",
          "data": {
            "text/plain": [
              "[[10, 20, 100.0, 22026.465794806718],\n",
              " [11, 21, 121.0, 59874.14171519782],\n",
              " [12, 22, 144.0, 162754.79141900392],\n",
              " [13, 23, 169.0, 442413.3920089205],\n",
              " [14, 24, 196.0, 1202604.2841647768],\n",
              " [15, 25, 225.0, 3269017.3724721107]]"
            ]
          },
          "metadata": {},
          "execution_count": 36
        }
      ],
      "source": [
        "import math\n",
        "values = [[x, x+10, math.pow(x, 2), math.exp(x)] for x in range(10, 16)]\n",
        "values"
      ]
    },
    {
      "cell_type": "markdown",
      "metadata": {
        "id": "35934306-467c-4fbb-b552-9a8742efb106"
      },
      "source": [
        "Using the `zip()` function on the tuple an dlist, we can easily create a dictionary using the `dict()` function."
      ]
    },
    {
      "cell_type": "code",
      "execution_count": 37,
      "metadata": {
        "id": "d8d76cea-ec7f-4ecd-92ba-ecd9e661b540",
        "outputId": "70b8b50e-3878-4fdd-ef2d-882cd6727e6a",
        "colab": {
          "base_uri": "https://localhost:8080/"
        }
      },
      "outputs": [
        {
          "output_type": "execute_result",
          "data": {
            "text/plain": [
              "{'a': [10, 20, 100.0, 22026.465794806718],\n",
              " 'b': [11, 21, 121.0, 59874.14171519782],\n",
              " 'c': [12, 22, 144.0, 162754.79141900392],\n",
              " 'd': [13, 23, 169.0, 442413.3920089205],\n",
              " 'e': [14, 24, 196.0, 1202604.2841647768],\n",
              " 'f': [15, 25, 225.0, 3269017.3724721107]}"
            ]
          },
          "metadata": {},
          "execution_count": 37
        }
      ],
      "source": [
        "my_dict = dict(zip(keys, values))\n",
        "my_dict"
      ]
    },
    {
      "cell_type": "markdown",
      "metadata": {
        "id": "ce02b240-2612-4159-a0b8-7a3e37f89bad"
      },
      "source": [
        "What happens if we convert this dictionary into a list?"
      ]
    },
    {
      "cell_type": "code",
      "execution_count": 38,
      "metadata": {
        "id": "b9df2d44-4ec5-48f9-b2f8-4a9cf9e1d582",
        "outputId": "d15c487f-cbae-435a-965e-2e22685539e3",
        "colab": {
          "base_uri": "https://localhost:8080/"
        }
      },
      "outputs": [
        {
          "output_type": "execute_result",
          "data": {
            "text/plain": [
              "['a', 'b', 'c', 'd', 'e', 'f']"
            ]
          },
          "metadata": {},
          "execution_count": 38
        }
      ],
      "source": [
        "list(my_dict)"
      ]
    },
    {
      "cell_type": "code",
      "source": [
        "list(my_dict.values())"
      ],
      "metadata": {
        "id": "wJba3DEBL0EB",
        "outputId": "e05f24d9-8590-4f76-9179-4befe8500a2e",
        "colab": {
          "base_uri": "https://localhost:8080/"
        }
      },
      "execution_count": 39,
      "outputs": [
        {
          "output_type": "execute_result",
          "data": {
            "text/plain": [
              "[[10, 20, 100.0, 22026.465794806718],\n",
              " [11, 21, 121.0, 59874.14171519782],\n",
              " [12, 22, 144.0, 162754.79141900392],\n",
              " [13, 23, 169.0, 442413.3920089205],\n",
              " [14, 24, 196.0, 1202604.2841647768],\n",
              " [15, 25, 225.0, 3269017.3724721107]]"
            ]
          },
          "metadata": {},
          "execution_count": 39
        }
      ]
    },
    {
      "cell_type": "code",
      "source": [
        "list(zip(list(my_dict), my_dict.values()))"
      ],
      "metadata": {
        "id": "1hH5I635L1PA",
        "outputId": "9bac62ee-bad5-4f27-e5e5-7db0fb867997",
        "colab": {
          "base_uri": "https://localhost:8080/"
        }
      },
      "execution_count": 40,
      "outputs": [
        {
          "output_type": "execute_result",
          "data": {
            "text/plain": [
              "[('a', [10, 20, 100.0, 22026.465794806718]),\n",
              " ('b', [11, 21, 121.0, 59874.14171519782]),\n",
              " ('c', [12, 22, 144.0, 162754.79141900392]),\n",
              " ('d', [13, 23, 169.0, 442413.3920089205]),\n",
              " ('e', [14, 24, 196.0, 1202604.2841647768]),\n",
              " ('f', [15, 25, 225.0, 3269017.3724721107])]"
            ]
          },
          "metadata": {},
          "execution_count": 40
        }
      ]
    },
    {
      "cell_type": "markdown",
      "metadata": {
        "id": "fc20e7e0-93b3-4e64-8eb9-6845a8bd41d7"
      },
      "source": [
        "We can use any immutable object as our keys.  Below we'll use a tuple as one of our keys and see how to reference that key."
      ]
    },
    {
      "cell_type": "code",
      "execution_count": 42,
      "metadata": {
        "id": "bf40e01c-4dc2-4cc7-bc06-259125abe0da",
        "outputId": "c5e0dad4-8311-443e-ce60-bf1675732ae7",
        "colab": {
          "base_uri": "https://localhost:8080/"
        }
      },
      "outputs": [
        {
          "output_type": "stream",
          "name": "stdout",
          "text": [
            "{'a': [10, 20, 100.0, 22026.465794806718], 'b': [11, 21, 121.0, 59874.14171519782], 'c': [12, 22, 144.0, 162754.79141900392], 'd': [13, 23, 169.0, 442413.3920089205], 'e': [14, 24, 196.0, 1202604.2841647768], 'f': [15, 25, 225.0, 3269017.3724721107], (1, 'hi'): [1, 2, 3]}\n"
          ]
        }
      ],
      "source": [
        "my_dict[(1, \"hi\")] = [1, 2, 3]\n",
        "print(my_dict)"
      ]
    },
    {
      "cell_type": "code",
      "source": [
        "my_dict[(1, \"hi\")]"
      ],
      "metadata": {
        "id": "OlmT6W1fL_nr",
        "outputId": "10d65fd4-e5a5-456f-dc40-a7dd2c864ece",
        "colab": {
          "base_uri": "https://localhost:8080/"
        }
      },
      "execution_count": 43,
      "outputs": [
        {
          "output_type": "execute_result",
          "data": {
            "text/plain": [
              "[1, 2, 3]"
            ]
          },
          "metadata": {},
          "execution_count": 43
        }
      ]
    },
    {
      "cell_type": "markdown",
      "metadata": {
        "id": "6dc3488b-ea24-487d-8c0e-a718bf67806f"
      },
      "source": [
        "A really useful operator is the `in` operator.  This easily allows us to see if a key exists in a dictionary."
      ]
    },
    {
      "cell_type": "code",
      "execution_count": 44,
      "metadata": {
        "id": "cee01e5c-eccc-4507-a50b-faaa66680ae8",
        "outputId": "13938c08-917c-428d-eee4-6f8babafd31e",
        "colab": {
          "base_uri": "https://localhost:8080/"
        }
      },
      "outputs": [
        {
          "output_type": "execute_result",
          "data": {
            "text/plain": [
              "True"
            ]
          },
          "metadata": {},
          "execution_count": 44
        }
      ],
      "source": [
        "\"a\" in my_dict"
      ]
    },
    {
      "cell_type": "code",
      "execution_count": 45,
      "metadata": {
        "id": "655bf4d3-48ca-4f17-8090-8c5450aee22f",
        "outputId": "e7b94b0f-39f9-4f25-80e7-dc781c5e2cd9",
        "colab": {
          "base_uri": "https://localhost:8080/"
        }
      },
      "outputs": [
        {
          "output_type": "execute_result",
          "data": {
            "text/plain": [
              "False"
            ]
          },
          "metadata": {},
          "execution_count": 45
        }
      ],
      "source": [
        "\"o\" in my_dict"
      ]
    },
    {
      "cell_type": "code",
      "execution_count": 46,
      "metadata": {
        "id": "7e2f6174-16b3-4f72-bd78-2bd093d3b41e",
        "outputId": "e0ddf40f-2f8b-4a91-f5b3-4bd590df1a53",
        "colab": {
          "base_uri": "https://localhost:8080/"
        }
      },
      "outputs": [
        {
          "output_type": "execute_result",
          "data": {
            "text/plain": [
              "True"
            ]
          },
          "metadata": {},
          "execution_count": 46
        }
      ],
      "source": [
        "\"o\" not in my_dict"
      ]
    },
    {
      "cell_type": "markdown",
      "metadata": {
        "id": "cb5f6556-fc21-4e6f-895d-6e5057fc0c34"
      },
      "source": [
        "## `NumPy`\n",
        "\n",
        "We'll load in the `numpy` module and create a two-dimensional array using random values from a standard normal distribution."
      ]
    },
    {
      "cell_type": "code",
      "execution_count": 47,
      "metadata": {
        "id": "e9597ec9-3c32-419c-abbd-4bda6673b36f"
      },
      "outputs": [],
      "source": [
        "import numpy as np\n",
        "from numpy.random import default_rng\n",
        "rng = default_rng()\n",
        "vals = rng.standard_normal(50)"
      ]
    },
    {
      "cell_type": "code",
      "source": [
        "vals"
      ],
      "metadata": {
        "id": "eM4Mxa6SMuZt",
        "outputId": "05b6e1d2-a5fd-4a88-8e5c-5c327838612e",
        "colab": {
          "base_uri": "https://localhost:8080/"
        }
      },
      "execution_count": 50,
      "outputs": [
        {
          "output_type": "execute_result",
          "data": {
            "text/plain": [
              "array([-0.48287276,  0.12364967, -1.19693855,  1.92045041, -0.61985794,\n",
              "       -2.23767869, -0.18507662, -0.98122844, -2.06713121,  1.55073395,\n",
              "        0.76185438,  0.14572098, -0.34766119,  0.59660486,  0.03386302,\n",
              "       -0.90874855, -0.90177334, -1.76008645, -1.92929374,  0.95584132,\n",
              "       -0.87915564, -1.1966045 , -0.57887647,  0.35400105,  2.43770238,\n",
              "       -0.69541254, -0.45583426,  0.34264781,  0.23498219, -0.39432246,\n",
              "        0.90169533,  2.39806016, -0.34788004,  1.47330969,  1.16511063,\n",
              "        0.6438749 ,  1.33379203, -1.79040778,  0.79747006,  0.56456805,\n",
              "       -1.63516285, -0.76114354,  0.77920573, -1.0486001 , -0.35154857,\n",
              "       -0.13154504,  0.84699444,  0.88201659,  0.40141511,  0.60357837])"
            ]
          },
          "metadata": {},
          "execution_count": 50
        }
      ]
    },
    {
      "cell_type": "code",
      "execution_count": 48,
      "metadata": {
        "id": "058e1807-c5b4-471c-85e1-6287e9e1ec91",
        "outputId": "a00dd73c-614b-4e6e-a874-e8f51e8346c2",
        "colab": {
          "base_uri": "https://localhost:8080/"
        }
      },
      "outputs": [
        {
          "output_type": "execute_result",
          "data": {
            "text/plain": [
              "(50,)"
            ]
          },
          "metadata": {},
          "execution_count": 48
        }
      ],
      "source": [
        "vals.shape"
      ]
    },
    {
      "cell_type": "code",
      "source": [
        "my_array = vals.reshape((25,2))\n",
        "my_array"
      ],
      "metadata": {
        "id": "995bgw58Mslt",
        "outputId": "b1c3d105-a02b-4a38-a87f-a3263a341d0f",
        "colab": {
          "base_uri": "https://localhost:8080/"
        }
      },
      "execution_count": 49,
      "outputs": [
        {
          "output_type": "execute_result",
          "data": {
            "text/plain": [
              "array([[-0.48287276,  0.12364967],\n",
              "       [-1.19693855,  1.92045041],\n",
              "       [-0.61985794, -2.23767869],\n",
              "       [-0.18507662, -0.98122844],\n",
              "       [-2.06713121,  1.55073395],\n",
              "       [ 0.76185438,  0.14572098],\n",
              "       [-0.34766119,  0.59660486],\n",
              "       [ 0.03386302, -0.90874855],\n",
              "       [-0.90177334, -1.76008645],\n",
              "       [-1.92929374,  0.95584132],\n",
              "       [-0.87915564, -1.1966045 ],\n",
              "       [-0.57887647,  0.35400105],\n",
              "       [ 2.43770238, -0.69541254],\n",
              "       [-0.45583426,  0.34264781],\n",
              "       [ 0.23498219, -0.39432246],\n",
              "       [ 0.90169533,  2.39806016],\n",
              "       [-0.34788004,  1.47330969],\n",
              "       [ 1.16511063,  0.6438749 ],\n",
              "       [ 1.33379203, -1.79040778],\n",
              "       [ 0.79747006,  0.56456805],\n",
              "       [-1.63516285, -0.76114354],\n",
              "       [ 0.77920573, -1.0486001 ],\n",
              "       [-0.35154857, -0.13154504],\n",
              "       [ 0.84699444,  0.88201659],\n",
              "       [ 0.40141511,  0.60357837]])"
            ]
          },
          "metadata": {},
          "execution_count": 49
        }
      ]
    },
    {
      "cell_type": "markdown",
      "metadata": {
        "id": "c8f4cd03-6404-4861-8531-64cd13341bdc"
      },
      "source": [
        "We can iterate over values in an array using `nditer()`.  Be careful here: the iteration doesn't always go through the values in the same pattern as it relies on the memory layout of the array.  You can change this behavior though.  See <https://numpy.org/doc/stable/reference/arrays.nditer.html#arrays-nditer> for a discussion and information on how to specify the `order`."
      ]
    },
    {
      "cell_type": "code",
      "execution_count": null,
      "metadata": {
        "id": "d9291535-df2d-405e-a389-87b98712da61",
        "outputId": "0d649e94-aad9-4a78-d129-ad6f789cc417"
      },
      "outputs": [
        {
          "name": "stdout",
          "output_type": "stream",
          "text": [
            "-1.4405569229085793\n",
            "-0.46008804032556394\n",
            "0.7693409610003789\n",
            "0.38781368391555376\n",
            "-1.6482618780658622\n",
            "-0.625778201857708\n",
            "-0.04346513644892935\n",
            "1.9025160419179652\n",
            "0.12390365060954704\n",
            "-2.5082197262336057\n",
            "0.007359734734258885\n",
            "0.6218473184316494\n",
            "-0.6830990120641196\n",
            "-1.6079858145942059\n",
            "-1.145136459761085\n",
            "0.25535157288794225\n",
            "0.1835902895399096\n",
            "-0.7815394682961987\n",
            "0.2559765528586515\n",
            "-2.4492006368504478\n",
            "-0.8209410690270823\n",
            "-1.2110187015783955\n",
            "-1.3476947591957222\n",
            "1.1621407202382472\n",
            "0.286658421923672\n",
            "0.6953127777619748\n",
            "-0.2669453163807111\n",
            "0.6113798822530268\n",
            "0.13229632685116655\n",
            "-0.3538058743181449\n",
            "-0.6840391401230399\n",
            "0.5768189955951831\n",
            "1.8340834977652176\n",
            "-1.246787837717837\n",
            "-0.4891211382579444\n",
            "0.946303870022842\n",
            "0.5206041476845491\n",
            "-0.7737169240554255\n",
            "1.0587259032301082\n",
            "-0.8764015531087135\n",
            "0.7509013072406491\n",
            "-0.09196677294347284\n",
            "-0.573697262258223\n",
            "-0.18989449172411996\n",
            "-1.7506786156510428\n",
            "0.3073891635837756\n",
            "1.5857808397796618\n",
            "-0.5428615631013629\n",
            "-1.8000620055335235\n",
            "-1.0035626248057008\n"
          ]
        }
      ],
      "source": [
        "for i in np.nditer(my_array):\n",
        "    print(i)"
      ]
    },
    {
      "cell_type": "markdown",
      "metadata": {
        "id": "f0642051-758a-47b1-8916-1f9712310686"
      },
      "source": [
        "Many of the functions we'll apply to arrays are `ufuncs` or universal functions.  These act on an array without requiring the use of explicit looping.  They tend to be computationally superior to looping so their use is encouraged!  Here we apply the $e$ function to each element of our array `y`."
      ]
    },
    {
      "cell_type": "code",
      "execution_count": null,
      "metadata": {
        "id": "d3677a0f-87bf-46c9-9949-9259ed887269",
        "outputId": "ccf1000c-daa2-4e24-de0f-f495940e822e"
      },
      "outputs": [
        {
          "data": {
            "text/plain": [
              "array([[0.23679584, 0.63122807],\n",
              "       [2.15834335, 1.47375517],\n",
              "       [0.19238401, 0.53484505],\n",
              "       [0.95746593, 6.70273761],\n",
              "       [1.13190681, 0.08141305],\n",
              "       [1.00738688, 1.86236525],\n",
              "       [0.50504941, 0.20029063],\n",
              "       [0.3181805 , 1.29091539],\n",
              "       [1.20152345, 0.45770085],\n",
              "       [1.29172244, 0.08636259],\n",
              "       [0.44001737, 0.29789366],\n",
              "       [0.25983856, 3.19676935],\n",
              "       [1.33196916, 2.00433589],\n",
              "       [0.76571494, 1.84297273],\n",
              "       [1.14144651, 0.70201123],\n",
              "       [0.50457482, 1.78036606],\n",
              "       [6.25939477, 0.28742658],\n",
              "       [0.61316504, 2.57617018],\n",
              "       [1.68304415, 0.46129528],\n",
              "       [2.88269582, 0.41627817],\n",
              "       [2.11890894, 0.91213546],\n",
              "       [0.5634384 , 0.82704639],\n",
              "       [0.17365606, 1.35987008],\n",
              "       [4.88310281, 0.58108307],\n",
              "       [0.16528864, 0.36657116]])"
            ]
          },
          "execution_count": 173,
          "metadata": {},
          "output_type": "execute_result"
        }
      ],
      "source": [
        "np.exp(my_array)"
      ]
    },
    {
      "cell_type": "markdown",
      "metadata": {
        "id": "2a28eb3e-32e9-4fb6-92d8-c31f8c5fa36a"
      },
      "source": [
        "**If you havne't seen matrices and the matrix representation of the linear model, you can ignore all of this and just see how we are doing some array computations below.**\n",
        "\n",
        "Let's fit a simple linear regression model! Suppose we have a 1D response $y$ and a single predictor (call the vector $x$). Then we can find the usual least squares regression line using arrays!\n",
        "\n",
        "Define\n",
        "$$y = \\begin{pmatrix} y_1 \\\\ y_2 \\\\ ... \\\\ y_n\\end{pmatrix}\\mbox{ our response}$$\n",
        "$$x = \\begin{pmatrix} x_1 \\\\ x_2 \\\\ ... \\\\ x_n\\end{pmatrix}\\mbox{ our predictor}$$\n",
        "We can consider the simple linear regression model:\n",
        "$$Y = \\beta_0+\\beta_1 x + E$$\n",
        "which can be **fit** by minimizing the sum of squared residuals. Let $\\hat{y}_i = \\hat{\\beta}_0+\\hat{\\beta}_1x_i$ denote the prediction for the $i^{th}$ observation. Then we want to find the $\\hat{\\beta}_0$ and $\\hat{\\beta}_1$ that minimize\n",
        "$$SS(E) = \\sum_{i=1}^{n}(y_i-\\hat{y}_i)^2$$\n",
        "This can be minimized by considering the matrix view of the model:\n",
        "Define\n",
        "$$X = \\begin{pmatrix} 1 & x_1\\\\ 1 & x_2 \\\\ ... \\\\ 1 & x_n\\end{pmatrix}$$\n",
        "and\n",
        "$$\\beta = \\begin{pmatrix} \\beta_0 \\\\ \\beta_1\\end{pmatrix}$$\n",
        "Then using *matrix* multiplication\n",
        "$$X\\beta = \\begin{pmatrix} \\beta_0*1 + \\beta_1*x_1\\\\\\beta_0*1 + \\beta_1*x_2\\\\...\\\\\\beta_0*1+\\beta_1*x_n\\end{pmatrix}$$\n",
        "Our model can be written as\n",
        "\n",
        "$$y = \\begin{pmatrix} y_1 \\\\ y_2 \\\\ ... \\\\ y_n\\end{pmatrix} = \\begin{pmatrix} \\beta_0*1 + \\beta_1*x_1\\\\\\beta_0*1 + \\beta_1*x_2\\\\...\\\\\\beta_0*1+\\beta_1*x_n\\end{pmatrix} + \\begin{pmatrix} E_1 \\\\ E_2 \\\\ ... \\\\ E_n\\end{pmatrix}$$\n",
        "\n",
        "or\n",
        "$$y=X\\beta + E$$\n",
        "\n",
        "Then minimizing the $SS(E)$ can be equivalently written as minimizing over the $\\beta$ vector in\n",
        "$$(y-X\\beta)^T(y-X\\beta)$$\n",
        "The solution to this equation is\n",
        "$$\\hat{\\beta} = \\begin{pmatrix}\\hat{\\beta_0} \\\\\\hat{\\beta_1} \\end{pmatrix} = \\left(X^TX\\right)^{-1}X^Ty$$"
      ]
    },
    {
      "cell_type": "code",
      "execution_count": 51,
      "metadata": {
        "id": "2d266ea5-35d3-4f0b-b269-34fc874e1174",
        "outputId": "9847073f-9b9b-4536-b14c-0c43bd84fbba",
        "colab": {
          "base_uri": "https://localhost:8080/"
        }
      },
      "outputs": [
        {
          "output_type": "execute_result",
          "data": {
            "text/plain": [
              "array([11.18168946,  5.98655944, 21.11706807, 38.21914194, 44.01806155])"
            ]
          },
          "metadata": {},
          "execution_count": 51
        }
      ],
      "source": [
        "x = np.array([3, 2, 6, 10, 11.2])     #x values\n",
        "y = -2 + 4*x + rng.standard_normal(5) #create SLR model based response\n",
        "y"
      ]
    },
    {
      "cell_type": "markdown",
      "source": [
        "Ok, we want to now fit an SLR model between $y$ and $x$ and find estimates of the slope and intercept (true values are -2 and 4)."
      ],
      "metadata": {
        "id": "DnVnjJ62OBb2"
      }
    },
    {
      "cell_type": "markdown",
      "source": [
        "Let's create our 'design matrix' by zip 1's (for the intercept) together with our x values."
      ],
      "metadata": {
        "id": "sHpSFz_LNXUM"
      }
    },
    {
      "cell_type": "code",
      "execution_count": 53,
      "metadata": {
        "id": "0008029a-6efe-4fd0-b2a6-828023ba3ab1",
        "outputId": "93d44f8c-aa05-44dc-f831-5bfccff8ceee",
        "colab": {
          "base_uri": "https://localhost:8080/"
        }
      },
      "outputs": [
        {
          "output_type": "execute_result",
          "data": {
            "text/plain": [
              "array([[ 1. ,  3. ],\n",
              "       [ 1. ,  2. ],\n",
              "       [ 1. ,  6. ],\n",
              "       [ 1. , 10. ],\n",
              "       [ 1. , 11.2]])"
            ]
          },
          "metadata": {},
          "execution_count": 53
        }
      ],
      "source": [
        "X =np.array(list(zip(np.ones(5), x)))\n",
        "X"
      ]
    },
    {
      "cell_type": "markdown",
      "source": [
        "We'll need the transpose of this matrix."
      ],
      "metadata": {
        "id": "Pturn1nNNwRE"
      }
    },
    {
      "cell_type": "code",
      "execution_count": 54,
      "metadata": {
        "id": "b8a03a91-ab58-44a2-9b80-a64606f9cefd",
        "outputId": "84d342b5-7d5e-45f3-cd7e-a447b29b937a",
        "colab": {
          "base_uri": "https://localhost:8080/"
        }
      },
      "outputs": [
        {
          "output_type": "execute_result",
          "data": {
            "text/plain": [
              "array([[ 1. ,  1. ,  1. ,  1. ,  1. ],\n",
              "       [ 3. ,  2. ,  6. , 10. , 11.2]])"
            ]
          },
          "metadata": {},
          "execution_count": 54
        }
      ],
      "source": [
        "X.transpose()"
      ]
    },
    {
      "cell_type": "markdown",
      "source": [
        "And we need to multiply these matrices together."
      ],
      "metadata": {
        "id": "4hAZ_IZmN0Rs"
      }
    },
    {
      "cell_type": "code",
      "execution_count": 55,
      "metadata": {
        "id": "29fb2bd1-051e-4bc1-9ead-2adb328af076",
        "outputId": "793cc47f-b796-4953-ddcd-7acd1ef5a6a8",
        "colab": {
          "base_uri": "https://localhost:8080/"
        }
      },
      "outputs": [
        {
          "output_type": "execute_result",
          "data": {
            "text/plain": [
              "array([[  5.  ,  32.2 ],\n",
              "       [ 32.2 , 274.44]])"
            ]
          },
          "metadata": {},
          "execution_count": 55
        }
      ],
      "source": [
        "np.matmul(X.transpose(), X)"
      ]
    },
    {
      "cell_type": "markdown",
      "source": [
        "Lastly, we need to calculate an matrix inverse. We can do that with the `np.linalg.inv()` function."
      ],
      "metadata": {
        "id": "11-cTpaCN4LZ"
      }
    },
    {
      "cell_type": "code",
      "execution_count": 56,
      "metadata": {
        "id": "a64dcf08-90e9-4524-8a9c-8e9cdb1b83ef",
        "outputId": "320d3847-444b-4150-e7e1-e4a61abe263a",
        "colab": {
          "base_uri": "https://localhost:8080/"
        }
      },
      "outputs": [
        {
          "output_type": "execute_result",
          "data": {
            "text/plain": [
              "array([[ 0.81834447, -0.09601622],\n",
              "       [-0.09601622,  0.01490935]])"
            ]
          },
          "metadata": {},
          "execution_count": 56
        }
      ],
      "source": [
        "XTXinv = np.linalg.inv(np.matmul(X.transpose(), X))\n",
        "XTXinv"
      ]
    },
    {
      "cell_type": "markdown",
      "source": [
        "Finally, let's get the least squares solution!"
      ],
      "metadata": {
        "id": "cTZUyruYNtAp"
      }
    },
    {
      "cell_type": "code",
      "execution_count": 57,
      "metadata": {
        "id": "8f4beb32-c8ec-447b-a7de-818506e1d99b",
        "outputId": "959f1c80-b9fd-489b-a340-073e68377292",
        "colab": {
          "base_uri": "https://localhost:8080/"
        }
      },
      "outputs": [
        {
          "output_type": "execute_result",
          "data": {
            "text/plain": [
              "array([-1.93982612,  4.04415065])"
            ]
          },
          "metadata": {},
          "execution_count": 57
        }
      ],
      "source": [
        "np.matmul(np.matmul(XTXinv, X.transpose()), y)"
      ]
    },
    {
      "cell_type": "markdown",
      "source": [
        "Pretty close to the actual values!"
      ],
      "metadata": {
        "id": "OoZar73rNsJS"
      }
    },
    {
      "cell_type": "code",
      "source": [],
      "metadata": {
        "id": "-6PEYf_kONoG"
      },
      "execution_count": null,
      "outputs": []
    }
  ]
}