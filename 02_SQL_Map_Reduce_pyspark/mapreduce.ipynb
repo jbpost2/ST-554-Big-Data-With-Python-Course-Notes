{
 "cells": [
  {
   "cell_type": "code",
   "execution_count": 38,
   "id": "0e7e76dc-eb74-43a7-bc3d-8c3e9818fd85",
   "metadata": {},
   "outputs": [],
   "source": [
    "import string\n",
    "#read in the book as a string\n",
    "with open('charles-dickens-oliver-twist.txt', 'r') as f:\n",
    "    my_lines = f.read()\n",
    "\n",
    "#process and write out each chapter to its own txt file    \n",
    "def find_chap(lines, string):\n",
    "    chap_start = lines.find(string)\n",
    "    chap_end = lines.find(string, chap_start + 1)\n",
    "    if chap_end == -1:\n",
    "        chap_end = lines.find(\"End of the Project Gutenberg EBook\")\n",
    "    return([chap_start, chap_end])\n",
    "\n",
    "def remove_char(lines):\n",
    "    #replace punctuation\n",
    "    for symbol in string.punctuation:\n",
    "        lines = lines.replace(symbol, \"\")\n",
    "    lines = lines.replace(\"\\n\", \" \")\n",
    "    return(lines)\n",
    "\n",
    "def save_chap(lines, chap = None):\n",
    "    if chap == None:\n",
    "        start_end = find_chap(lines, \"CHAPTER I\")\n",
    "        chap = 1\n",
    "    else:\n",
    "        start_end = find_chap(lines, \"CHAPTER\")\n",
    "    #get the chapter and turn it to lower case\n",
    "    chap_text = lines[start_end[0]:start_end[1]].lower()\n",
    "    #remove punctuation\n",
    "    chap_text = remove_char(chap_text)\n",
    "    with open('chap' + str(chap) + '.txt', 'w') as w:\n",
    "        w.write(chap_text)\n",
    "    chap += 1\n",
    "    if lines[(start_end[1] + 1):].find(\"CHAPTER\") == -1:\n",
    "        return \n",
    "    else: \n",
    "        save_chap(lines[start_end[1]:], chap = chap)"
   ]
  },
  {
   "cell_type": "code",
   "execution_count": 39,
   "id": "5d12f047-3bc7-42e0-909c-9a2f580b1daa",
   "metadata": {},
   "outputs": [],
   "source": [
    "save_chap(my_lines)"
   ]
  },
  {
   "cell_type": "code",
   "execution_count": 41,
   "id": "15ce4e32-9512-44d8-b72b-2858b1d2fcab",
   "metadata": {},
   "outputs": [],
   "source": [
    "def map_words(chap):\n",
    "    word_count_dictionary = {}\n",
    "    chap_split = chap.split(\" \")\n",
    "    for word in chap_split:\n",
    "        if word in word_count_dictionary:\n",
    "            word_count_dictionary[word] += 1\n",
    "        else:\n",
    "            word_count_dictionary[word] = 1\n",
    "    return word_count_dictionary"
   ]
  },
  {
   "cell_type": "code",
   "execution_count": 71,
   "id": "d73236f7-08ea-4800-b1ab-a930943efc6a",
   "metadata": {},
   "outputs": [],
   "source": [
    "with open('chap1.txt', 'r') as f:\n",
    "    my_chap = f.read()\n",
    "chap1dict = map_words(my_chap)\n",
    "\n",
    "with open('chap2.txt', 'r') as f:\n",
    "    my_chap = f.read()\n",
    "chap2dict = map_words(my_chap)\n",
    "\n",
    "with open('chap3.txt', 'r') as f:\n",
    "    my_chap = f.read()\n",
    "chap3dict = map_words(my_chap)\n",
    "\n",
    "def word_reduce(dict1, dict2):\n",
    "    combined = {}\n",
    "    for key in dict1.keys():\n",
    "        if key in dict2:\n",
    "            combined[key] = dict1[key] + dict2[key]\n",
    "        else:\n",
    "            combined[key] = dict1[key]\n",
    "    for key in dict2.keys():\n",
    "        if key not in dict1.keys():\n",
    "            combined[key] = dict2[key]\n",
    "    return combined\n"
   ]
  },
  {
   "cell_type": "code",
   "execution_count": 80,
   "id": "d45ca730-e135-43ea-b8f1-9bcb8649745b",
   "metadata": {},
   "outputs": [],
   "source": [
    "word_reduce(word_reduce(chap1dict, chap2dict), chap3dict)\n",
    "\n",
    "chapters = []\n",
    "for i in range(1, 54):\n",
    "    with open('chap' + str(i) + '.txt', 'r') as f:\n",
    "        my_chap = f.read()\n",
    "    chapters.append(map_words(my_chap))\n",
    "\n",
    "import functools\n",
    "final = functools.reduce(word_reduce, chapters)"
   ]
  },
  {
   "cell_type": "code",
   "execution_count": 83,
   "id": "e7d30fe6-d6b8-4537-850b-76013ae393c9",
   "metadata": {},
   "outputs": [
    {
     "data": {
      "text/plain": [
       "3686"
      ]
     },
     "execution_count": 83,
     "metadata": {},
     "output_type": "execute_result"
    }
   ],
   "source": [
    "final[\"of\"]"
   ]
  },
  {
   "cell_type": "code",
   "execution_count": null,
   "id": "491f4c64-23aa-4d6b-a26b-e3d76d34c6b8",
   "metadata": {},
   "outputs": [],
   "source": []
  }
 ],
 "metadata": {
  "kernelspec": {
   "display_name": "Python 3 (ipykernel)",
   "language": "python",
   "name": "python3"
  },
  "language_info": {
   "codemirror_mode": {
    "name": "ipython",
    "version": 3
   },
   "file_extension": ".py",
   "mimetype": "text/x-python",
   "name": "python",
   "nbconvert_exporter": "python",
   "pygments_lexer": "ipython3",
   "version": "3.10.1"
  }
 },
 "nbformat": 4,
 "nbformat_minor": 5
}
